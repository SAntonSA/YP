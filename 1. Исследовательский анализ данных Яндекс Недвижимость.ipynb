{
 "cells": [
  {
   "cell_type": "markdown",
   "metadata": {},
   "source": [
    "# Исследование объявлений о продаже квартир\n",
    "\n",
    "В вашем распоряжении данные сервиса Яндекс.Недвижимость — архив объявлений о продаже квартир в Санкт-Петербурге и соседних населённых пунктов за несколько лет. Нужно научиться определять рыночную стоимость объектов недвижимости. Ваша задача — установить параметры. Это позволит построить автоматизированную систему: она отследит аномалии и мошенническую деятельность. \n",
    "\n",
    "По каждой квартире на продажу доступны два вида данных. Первые вписаны пользователем, вторые — получены автоматически на основе картографических данных. Например, расстояние до центра, аэропорта, ближайшего парка и водоёма. "
   ]
  },
  {
   "cell_type": "markdown",
   "metadata": {},
   "source": [
    "### Откройте файл с данными и изучите общую информацию. "
   ]
  },
  {
   "cell_type": "code",
   "execution_count": 8,
   "metadata": {},
   "outputs": [
    {
     "data": {
      "text/html": [
       "<div>\n",
       "<style scoped>\n",
       "    .dataframe tbody tr th:only-of-type {\n",
       "        vertical-align: middle;\n",
       "    }\n",
       "\n",
       "    .dataframe tbody tr th {\n",
       "        vertical-align: top;\n",
       "    }\n",
       "\n",
       "    .dataframe thead th {\n",
       "        text-align: right;\n",
       "    }\n",
       "</style>\n",
       "<table border=\"1\" class=\"dataframe\">\n",
       "  <thead>\n",
       "    <tr style=\"text-align: right;\">\n",
       "      <th></th>\n",
       "      <th>total_images</th>\n",
       "      <th>last_price</th>\n",
       "      <th>total_area</th>\n",
       "      <th>first_day_exposition</th>\n",
       "      <th>rooms</th>\n",
       "      <th>ceiling_height</th>\n",
       "      <th>floors_total</th>\n",
       "      <th>living_area</th>\n",
       "      <th>floor</th>\n",
       "      <th>is_apartment</th>\n",
       "      <th>...</th>\n",
       "      <th>kitchen_area</th>\n",
       "      <th>balcony</th>\n",
       "      <th>locality_name</th>\n",
       "      <th>airports_nearest</th>\n",
       "      <th>cityCenters_nearest</th>\n",
       "      <th>parks_around3000</th>\n",
       "      <th>parks_nearest</th>\n",
       "      <th>ponds_around3000</th>\n",
       "      <th>ponds_nearest</th>\n",
       "      <th>days_exposition</th>\n",
       "    </tr>\n",
       "  </thead>\n",
       "  <tbody>\n",
       "    <tr>\n",
       "      <th>0</th>\n",
       "      <td>20</td>\n",
       "      <td>13000000.0</td>\n",
       "      <td>108.0</td>\n",
       "      <td>2019-03-07T00:00:00</td>\n",
       "      <td>3</td>\n",
       "      <td>2.70</td>\n",
       "      <td>16.0</td>\n",
       "      <td>51.0</td>\n",
       "      <td>8</td>\n",
       "      <td>NaN</td>\n",
       "      <td>...</td>\n",
       "      <td>25.0</td>\n",
       "      <td>NaN</td>\n",
       "      <td>Санкт-Петербург</td>\n",
       "      <td>18863.0</td>\n",
       "      <td>16028.0</td>\n",
       "      <td>1.0</td>\n",
       "      <td>482.0</td>\n",
       "      <td>2.0</td>\n",
       "      <td>755.0</td>\n",
       "      <td>NaN</td>\n",
       "    </tr>\n",
       "    <tr>\n",
       "      <th>1</th>\n",
       "      <td>7</td>\n",
       "      <td>3350000.0</td>\n",
       "      <td>40.4</td>\n",
       "      <td>2018-12-04T00:00:00</td>\n",
       "      <td>1</td>\n",
       "      <td>NaN</td>\n",
       "      <td>11.0</td>\n",
       "      <td>18.6</td>\n",
       "      <td>1</td>\n",
       "      <td>NaN</td>\n",
       "      <td>...</td>\n",
       "      <td>11.0</td>\n",
       "      <td>2.0</td>\n",
       "      <td>посёлок Шушары</td>\n",
       "      <td>12817.0</td>\n",
       "      <td>18603.0</td>\n",
       "      <td>0.0</td>\n",
       "      <td>NaN</td>\n",
       "      <td>0.0</td>\n",
       "      <td>NaN</td>\n",
       "      <td>81.0</td>\n",
       "    </tr>\n",
       "    <tr>\n",
       "      <th>2</th>\n",
       "      <td>10</td>\n",
       "      <td>5196000.0</td>\n",
       "      <td>56.0</td>\n",
       "      <td>2015-08-20T00:00:00</td>\n",
       "      <td>2</td>\n",
       "      <td>NaN</td>\n",
       "      <td>5.0</td>\n",
       "      <td>34.3</td>\n",
       "      <td>4</td>\n",
       "      <td>NaN</td>\n",
       "      <td>...</td>\n",
       "      <td>8.3</td>\n",
       "      <td>0.0</td>\n",
       "      <td>Санкт-Петербург</td>\n",
       "      <td>21741.0</td>\n",
       "      <td>13933.0</td>\n",
       "      <td>1.0</td>\n",
       "      <td>90.0</td>\n",
       "      <td>2.0</td>\n",
       "      <td>574.0</td>\n",
       "      <td>558.0</td>\n",
       "    </tr>\n",
       "    <tr>\n",
       "      <th>3</th>\n",
       "      <td>0</td>\n",
       "      <td>64900000.0</td>\n",
       "      <td>159.0</td>\n",
       "      <td>2015-07-24T00:00:00</td>\n",
       "      <td>3</td>\n",
       "      <td>NaN</td>\n",
       "      <td>14.0</td>\n",
       "      <td>NaN</td>\n",
       "      <td>9</td>\n",
       "      <td>NaN</td>\n",
       "      <td>...</td>\n",
       "      <td>NaN</td>\n",
       "      <td>0.0</td>\n",
       "      <td>Санкт-Петербург</td>\n",
       "      <td>28098.0</td>\n",
       "      <td>6800.0</td>\n",
       "      <td>2.0</td>\n",
       "      <td>84.0</td>\n",
       "      <td>3.0</td>\n",
       "      <td>234.0</td>\n",
       "      <td>424.0</td>\n",
       "    </tr>\n",
       "    <tr>\n",
       "      <th>4</th>\n",
       "      <td>2</td>\n",
       "      <td>10000000.0</td>\n",
       "      <td>100.0</td>\n",
       "      <td>2018-06-19T00:00:00</td>\n",
       "      <td>2</td>\n",
       "      <td>3.03</td>\n",
       "      <td>14.0</td>\n",
       "      <td>32.0</td>\n",
       "      <td>13</td>\n",
       "      <td>NaN</td>\n",
       "      <td>...</td>\n",
       "      <td>41.0</td>\n",
       "      <td>NaN</td>\n",
       "      <td>Санкт-Петербург</td>\n",
       "      <td>31856.0</td>\n",
       "      <td>8098.0</td>\n",
       "      <td>2.0</td>\n",
       "      <td>112.0</td>\n",
       "      <td>1.0</td>\n",
       "      <td>48.0</td>\n",
       "      <td>121.0</td>\n",
       "    </tr>\n",
       "    <tr>\n",
       "      <th>...</th>\n",
       "      <td>...</td>\n",
       "      <td>...</td>\n",
       "      <td>...</td>\n",
       "      <td>...</td>\n",
       "      <td>...</td>\n",
       "      <td>...</td>\n",
       "      <td>...</td>\n",
       "      <td>...</td>\n",
       "      <td>...</td>\n",
       "      <td>...</td>\n",
       "      <td>...</td>\n",
       "      <td>...</td>\n",
       "      <td>...</td>\n",
       "      <td>...</td>\n",
       "      <td>...</td>\n",
       "      <td>...</td>\n",
       "      <td>...</td>\n",
       "      <td>...</td>\n",
       "      <td>...</td>\n",
       "      <td>...</td>\n",
       "      <td>...</td>\n",
       "    </tr>\n",
       "    <tr>\n",
       "      <th>95</th>\n",
       "      <td>14</td>\n",
       "      <td>5150000.0</td>\n",
       "      <td>47.0</td>\n",
       "      <td>2018-08-06T00:00:00</td>\n",
       "      <td>2</td>\n",
       "      <td>2.75</td>\n",
       "      <td>9.0</td>\n",
       "      <td>28.1</td>\n",
       "      <td>9</td>\n",
       "      <td>False</td>\n",
       "      <td>...</td>\n",
       "      <td>7.0</td>\n",
       "      <td>2.0</td>\n",
       "      <td>Санкт-Петербург</td>\n",
       "      <td>10142.0</td>\n",
       "      <td>13743.0</td>\n",
       "      <td>2.0</td>\n",
       "      <td>751.0</td>\n",
       "      <td>1.0</td>\n",
       "      <td>881.0</td>\n",
       "      <td>34.0</td>\n",
       "    </tr>\n",
       "    <tr>\n",
       "      <th>96</th>\n",
       "      <td>20</td>\n",
       "      <td>8780000.0</td>\n",
       "      <td>78.3</td>\n",
       "      <td>2018-08-24T00:00:00</td>\n",
       "      <td>3</td>\n",
       "      <td>2.50</td>\n",
       "      <td>15.0</td>\n",
       "      <td>51.0</td>\n",
       "      <td>9</td>\n",
       "      <td>NaN</td>\n",
       "      <td>...</td>\n",
       "      <td>11.0</td>\n",
       "      <td>NaN</td>\n",
       "      <td>Санкт-Петербург</td>\n",
       "      <td>52108.0</td>\n",
       "      <td>16333.0</td>\n",
       "      <td>0.0</td>\n",
       "      <td>NaN</td>\n",
       "      <td>1.0</td>\n",
       "      <td>746.0</td>\n",
       "      <td>31.0</td>\n",
       "    </tr>\n",
       "    <tr>\n",
       "      <th>97</th>\n",
       "      <td>15</td>\n",
       "      <td>4898000.0</td>\n",
       "      <td>146.0</td>\n",
       "      <td>2019-02-12T00:00:00</td>\n",
       "      <td>4</td>\n",
       "      <td>NaN</td>\n",
       "      <td>2.0</td>\n",
       "      <td>77.0</td>\n",
       "      <td>2</td>\n",
       "      <td>NaN</td>\n",
       "      <td>...</td>\n",
       "      <td>13.0</td>\n",
       "      <td>NaN</td>\n",
       "      <td>Выборг</td>\n",
       "      <td>NaN</td>\n",
       "      <td>NaN</td>\n",
       "      <td>NaN</td>\n",
       "      <td>NaN</td>\n",
       "      <td>NaN</td>\n",
       "      <td>NaN</td>\n",
       "      <td>34.0</td>\n",
       "    </tr>\n",
       "    <tr>\n",
       "      <th>98</th>\n",
       "      <td>11</td>\n",
       "      <td>11700000.0</td>\n",
       "      <td>80.0</td>\n",
       "      <td>2014-12-10T00:00:00</td>\n",
       "      <td>3</td>\n",
       "      <td>NaN</td>\n",
       "      <td>5.0</td>\n",
       "      <td>55.1</td>\n",
       "      <td>3</td>\n",
       "      <td>NaN</td>\n",
       "      <td>...</td>\n",
       "      <td>11.0</td>\n",
       "      <td>0.0</td>\n",
       "      <td>Санкт-Петербург</td>\n",
       "      <td>11248.0</td>\n",
       "      <td>8767.0</td>\n",
       "      <td>1.0</td>\n",
       "      <td>666.0</td>\n",
       "      <td>0.0</td>\n",
       "      <td>NaN</td>\n",
       "      <td>831.0</td>\n",
       "    </tr>\n",
       "    <tr>\n",
       "      <th>99</th>\n",
       "      <td>32</td>\n",
       "      <td>9600000.0</td>\n",
       "      <td>90.0</td>\n",
       "      <td>2017-09-26T00:00:00</td>\n",
       "      <td>4</td>\n",
       "      <td>NaN</td>\n",
       "      <td>5.0</td>\n",
       "      <td>67.0</td>\n",
       "      <td>2</td>\n",
       "      <td>NaN</td>\n",
       "      <td>...</td>\n",
       "      <td>8.0</td>\n",
       "      <td>NaN</td>\n",
       "      <td>Санкт-Петербург</td>\n",
       "      <td>23277.0</td>\n",
       "      <td>2818.0</td>\n",
       "      <td>0.0</td>\n",
       "      <td>NaN</td>\n",
       "      <td>0.0</td>\n",
       "      <td>NaN</td>\n",
       "      <td>104.0</td>\n",
       "    </tr>\n",
       "  </tbody>\n",
       "</table>\n",
       "<p>100 rows × 22 columns</p>\n",
       "</div>"
      ],
      "text/plain": [
       "    total_images  last_price  total_area first_day_exposition  rooms  \\\n",
       "0             20  13000000.0       108.0  2019-03-07T00:00:00      3   \n",
       "1              7   3350000.0        40.4  2018-12-04T00:00:00      1   \n",
       "2             10   5196000.0        56.0  2015-08-20T00:00:00      2   \n",
       "3              0  64900000.0       159.0  2015-07-24T00:00:00      3   \n",
       "4              2  10000000.0       100.0  2018-06-19T00:00:00      2   \n",
       "..           ...         ...         ...                  ...    ...   \n",
       "95            14   5150000.0        47.0  2018-08-06T00:00:00      2   \n",
       "96            20   8780000.0        78.3  2018-08-24T00:00:00      3   \n",
       "97            15   4898000.0       146.0  2019-02-12T00:00:00      4   \n",
       "98            11  11700000.0        80.0  2014-12-10T00:00:00      3   \n",
       "99            32   9600000.0        90.0  2017-09-26T00:00:00      4   \n",
       "\n",
       "    ceiling_height  floors_total  living_area  floor is_apartment  ...  \\\n",
       "0             2.70          16.0         51.0      8          NaN  ...   \n",
       "1              NaN          11.0         18.6      1          NaN  ...   \n",
       "2              NaN           5.0         34.3      4          NaN  ...   \n",
       "3              NaN          14.0          NaN      9          NaN  ...   \n",
       "4             3.03          14.0         32.0     13          NaN  ...   \n",
       "..             ...           ...          ...    ...          ...  ...   \n",
       "95            2.75           9.0         28.1      9        False  ...   \n",
       "96            2.50          15.0         51.0      9          NaN  ...   \n",
       "97             NaN           2.0         77.0      2          NaN  ...   \n",
       "98             NaN           5.0         55.1      3          NaN  ...   \n",
       "99             NaN           5.0         67.0      2          NaN  ...   \n",
       "\n",
       "    kitchen_area  balcony    locality_name  airports_nearest  \\\n",
       "0           25.0      NaN  Санкт-Петербург           18863.0   \n",
       "1           11.0      2.0   посёлок Шушары           12817.0   \n",
       "2            8.3      0.0  Санкт-Петербург           21741.0   \n",
       "3            NaN      0.0  Санкт-Петербург           28098.0   \n",
       "4           41.0      NaN  Санкт-Петербург           31856.0   \n",
       "..           ...      ...              ...               ...   \n",
       "95           7.0      2.0  Санкт-Петербург           10142.0   \n",
       "96          11.0      NaN  Санкт-Петербург           52108.0   \n",
       "97          13.0      NaN           Выборг               NaN   \n",
       "98          11.0      0.0  Санкт-Петербург           11248.0   \n",
       "99           8.0      NaN  Санкт-Петербург           23277.0   \n",
       "\n",
       "   cityCenters_nearest  parks_around3000  parks_nearest  ponds_around3000  \\\n",
       "0              16028.0               1.0          482.0               2.0   \n",
       "1              18603.0               0.0            NaN               0.0   \n",
       "2              13933.0               1.0           90.0               2.0   \n",
       "3               6800.0               2.0           84.0               3.0   \n",
       "4               8098.0               2.0          112.0               1.0   \n",
       "..                 ...               ...            ...               ...   \n",
       "95             13743.0               2.0          751.0               1.0   \n",
       "96             16333.0               0.0            NaN               1.0   \n",
       "97                 NaN               NaN            NaN               NaN   \n",
       "98              8767.0               1.0          666.0               0.0   \n",
       "99              2818.0               0.0            NaN               0.0   \n",
       "\n",
       "    ponds_nearest  days_exposition  \n",
       "0           755.0              NaN  \n",
       "1             NaN             81.0  \n",
       "2           574.0            558.0  \n",
       "3           234.0            424.0  \n",
       "4            48.0            121.0  \n",
       "..            ...              ...  \n",
       "95          881.0             34.0  \n",
       "96          746.0             31.0  \n",
       "97            NaN             34.0  \n",
       "98            NaN            831.0  \n",
       "99            NaN            104.0  \n",
       "\n",
       "[100 rows x 22 columns]"
      ]
     },
     "execution_count": 8,
     "metadata": {},
     "output_type": "execute_result"
    }
   ],
   "source": [
    "import pandas as pd\n",
    "try:\n",
    "    data = pd.read_csv('datasets/real_estate_data.csv', sep='\\t')\n",
    "except:\n",
    "    data = pd.read_csv('/datasets/real_estate_data.csv', sep='\\t')\n",
    "data.head(100)"
   ]
  },
  {
   "cell_type": "code",
   "execution_count": 9,
   "metadata": {},
   "outputs": [
    {
     "name": "stdout",
     "output_type": "stream",
     "text": [
      "<class 'pandas.core.frame.DataFrame'>\n",
      "RangeIndex: 23699 entries, 0 to 23698\n",
      "Data columns (total 22 columns):\n",
      " #   Column                Non-Null Count  Dtype  \n",
      "---  ------                --------------  -----  \n",
      " 0   total_images          23699 non-null  int64  \n",
      " 1   last_price            23699 non-null  float64\n",
      " 2   total_area            23699 non-null  float64\n",
      " 3   first_day_exposition  23699 non-null  object \n",
      " 4   rooms                 23699 non-null  int64  \n",
      " 5   ceiling_height        14504 non-null  float64\n",
      " 6   floors_total          23613 non-null  float64\n",
      " 7   living_area           21796 non-null  float64\n",
      " 8   floor                 23699 non-null  int64  \n",
      " 9   is_apartment          2775 non-null   object \n",
      " 10  studio                23699 non-null  bool   \n",
      " 11  open_plan             23699 non-null  bool   \n",
      " 12  kitchen_area          21421 non-null  float64\n",
      " 13  balcony               12180 non-null  float64\n",
      " 14  locality_name         23650 non-null  object \n",
      " 15  airports_nearest      18157 non-null  float64\n",
      " 16  cityCenters_nearest   18180 non-null  float64\n",
      " 17  parks_around3000      18181 non-null  float64\n",
      " 18  parks_nearest         8079 non-null   float64\n",
      " 19  ponds_around3000      18181 non-null  float64\n",
      " 20  ponds_nearest         9110 non-null   float64\n",
      " 21  days_exposition       20518 non-null  float64\n",
      "dtypes: bool(2), float64(14), int64(3), object(3)\n",
      "memory usage: 3.7+ MB\n"
     ]
    }
   ],
   "source": [
    "data.info()"
   ]
  },
  {
   "cell_type": "code",
   "execution_count": 10,
   "metadata": {},
   "outputs": [
    {
     "data": {
      "text/plain": [
       "<AxesSubplot:ylabel='Frequency'>"
      ]
     },
     "execution_count": 10,
     "metadata": {},
     "output_type": "execute_result"
    },
    {
     "data": {
      "image/png": "[encoded data removed]",
      "text/plain": [
       "<Figure size 640x480 with 1 Axes>"
      ]
     },
     "metadata": {},
     "output_type": "display_data"
    }
   ],
   "source": [
    "data['last_price'].plot(y='ceiling_height', kind='hist',\n",
    "                        bins=30, range=(0, 5000000))"
   ]
  },
  {
   "cell_type": "markdown",
   "metadata": {},
   "source": [
    "Строк у нас 23699, а в некоторых колонках значений меньше. в которых меньше. пустые значения.\n",
    "\n",
    " 1.   ceiling_height        14504 non-null  float64\n",
    " 2.   floors_total          23613 non-null  float64\n",
    " 3.   living_area           21796 non-null  float64\n",
    " 4.   is_apartment          2775 non-null   object \n",
    " 5.   kitchen_area          21421 non-null  float64\n",
    " 6.   balcony               12180 non-null  float64\n",
    " 7.   locality_name         23650 non-null  object \n",
    " 8.   airports_nearest      18157 non-null  float64\n",
    " 9.   cityCenters_nearest   18180 non-null  float64\n",
    " 10.  parks_around3000      18181 non-null  float64\n",
    " 11.  parks_nearest         8079 non-null   float64\n",
    " 12.  ponds_around3000      18181 non-null  float64\n",
    " 13.  ponds_nearest         9110 non-null   float64\n",
    " 14.  days_exposition       20518 non-null  float64\n",
    " \n",
    "  1. living_area            -- надо обязательно восстановить, ибо это ключевой показатель\n",
    "  2. kitchen_area           -- надо обязательно восстановить, ибо это ключевой показатель\n",
    "  3. floors_total           -- надо обязательно восстановить, ибо это ключевой показатель\n",
    "\n",
    "  \n",
    "  \n",
    "Надо конвертнуть в дату  first_day_exposition.\n",
    "Тут is_apartment  значения либо истина либо ложь. значит надо конвертнуть в типа bool.\n",
    "\n",
    "Далее float64 смысла нет ибо тут только целые значения (int) могут быть:\n",
    "1. balcony \n",
    "2. floors_total\n",
    "3. parks_around3000 \n",
    "4. ponds_around3000\n",
    "5. days_exposition\n",
    "\n",
    "\n"
   ]
  },
  {
   "cell_type": "markdown",
   "metadata": {},
   "source": [
    "### Предобработка данных"
   ]
  },
  {
   "cell_type": "code",
   "execution_count": 11,
   "metadata": {},
   "outputs": [],
   "source": [
    "data['days_exposition'] = data['days_exposition'].fillna(0).astype('int')"
   ]
  },
  {
   "cell_type": "markdown",
   "metadata": {},
   "source": [
    "Тут не много пропусков, можно заменить на 0 и конвертним в int."
   ]
  },
  {
   "cell_type": "code",
   "execution_count": 12,
   "metadata": {},
   "outputs": [],
   "source": [
    "data['is_apartment'] = data['is_apartment'].fillna(False)"
   ]
  },
  {
   "cell_type": "code",
   "execution_count": 13,
   "metadata": {},
   "outputs": [],
   "source": [
    "data['first_day_exposition'] = pd.to_datetime(\n",
    "    data['first_day_exposition'], format='%Y-%m-%dT%H:%M:%S'\n",
    ")"
   ]
  },
  {
   "cell_type": "markdown",
   "metadata": {},
   "source": [
    "Конвертним first_day_exposition."
   ]
  },
  {
   "cell_type": "code",
   "execution_count": 14,
   "metadata": {},
   "outputs": [],
   "source": [
    "data['balcony'] = data['balcony'].fillna(0).astype('int')"
   ]
  },
  {
   "cell_type": "markdown",
   "metadata": {},
   "source": [
    "Не представляется возможным восстановить пропуски, но строки нужны, поставим 0 и конвертнём."
   ]
  },
  {
   "cell_type": "code",
   "execution_count": 15,
   "metadata": {},
   "outputs": [],
   "source": [
    "data.loc[(data['rooms'] == 0) & (data['studio'] == 0),'rooms']=1"
   ]
  },
  {
   "cell_type": "markdown",
   "metadata": {},
   "source": [
    "Rooms пропусков нету, но есть 0. если студия оставляем 0 иначе 1"
   ]
  },
  {
   "cell_type": "code",
   "execution_count": 16,
   "metadata": {},
   "outputs": [],
   "source": [
    "data['locality_name'].unique()\n",
    "data['locality_name'] = data['locality_name'].str.replace('ё', 'е').str.lower()"
   ]
  },
  {
   "cell_type": "markdown",
   "metadata": {},
   "source": [
    "Убрём 'ё', ибо посёлок и поселок там много."
   ]
  },
  {
   "cell_type": "code",
   "execution_count": 17,
   "metadata": {},
   "outputs": [],
   "source": [
    "data.loc[data['floors_total'].isna(),'floors_total']= data['floors_total'].median()\n",
    "   \n",
    "def floor_total(income):\n",
    "    try:\n",
    "        floors_total = income['floors_total']\n",
    "        floor = income['floor']\n",
    "        if floor > floors_total:\n",
    "            return floors_total\n",
    "        else:\n",
    "            return floor \n",
    "    except:\n",
    "        pass    \n",
    "data['floor'] = data.apply(floor_total, axis = 1)"
   ]
  },
  {
   "cell_type": "markdown",
   "metadata": {},
   "source": [
    "мало пропусков, берем медианну."
   ]
  },
  {
   "cell_type": "code",
   "execution_count": 18,
   "metadata": {},
   "outputs": [],
   "source": [
    "data['floors_total'] = data['floors_total'].astype('int')"
   ]
  },
  {
   "cell_type": "markdown",
   "metadata": {},
   "source": [
    "Конвертним в int."
   ]
  },
  {
   "cell_type": "code",
   "execution_count": 19,
   "metadata": {},
   "outputs": [],
   "source": [
    "data.loc[data['ceiling_height'] > 10,\n",
    "         'ceiling_height'] = data['ceiling_height']/10\n",
    "data.loc[data['ceiling_height'] < 2,\n",
    "         'ceiling_height'] = data['ceiling_height'].median()"
   ]
  },
  {
   "cell_type": "markdown",
   "metadata": {},
   "source": [
    "высота потолков. все значение у кого выше 10, я предполагаю, что это опечатки. то дели на 10, грубо говоря переноси запятую. Ну и ниже 2 метров тоже сомнения, но так как их единицы применил среднею."
   ]
  },
  {
   "cell_type": "code",
   "execution_count": 20,
   "metadata": {},
   "outputs": [],
   "source": [
    "floor_medians = data.pivot_table(\n",
    "    index='floors_total', values='ceiling_height', aggfunc='median')"
   ]
  },
  {
   "cell_type": "markdown",
   "metadata": {},
   "source": [
    "Получим медианну, для дальнейшего просчета высоты потолков."
   ]
  },
  {
   "cell_type": "code",
   "execution_count": 21,
   "metadata": {},
   "outputs": [],
   "source": [
    "for test in floor_medians.index:\n",
    "    data.loc[(data['ceiling_height'].isna()) &\n",
    "             (data['floors_total'] == test),\n",
    "             'ceiling_height'] = floor_medians.loc[test, 'ceiling_height']"
   ]
  },
  {
   "cell_type": "markdown",
   "metadata": {},
   "source": [
    "А вот заполнить пропуски ну предположим, что дома типичные, и будем ориентироватья на этажность здания от него заполним по этажности потолки."
   ]
  },
  {
   "cell_type": "markdown",
   "metadata": {},
   "source": [
    "### Посчитайте и добавьте в таблицу новые столбцы"
   ]
  },
  {
   "cell_type": "code",
   "execution_count": 22,
   "metadata": {},
   "outputs": [],
   "source": [
    "data['price_meter'] = data['last_price'] / data['total_area']"
   ]
  },
  {
   "cell_type": "code",
   "execution_count": 23,
   "metadata": {},
   "outputs": [],
   "source": [
    "data['day'] = data['first_day_exposition'].dt.weekday"
   ]
  },
  {
   "cell_type": "code",
   "execution_count": 24,
   "metadata": {},
   "outputs": [],
   "source": [
    "data['month'] = data['first_day_exposition'].dt.month"
   ]
  },
  {
   "cell_type": "code",
   "execution_count": 25,
   "metadata": {},
   "outputs": [],
   "source": [
    "data['year'] = data['first_day_exposition'].dt.year"
   ]
  },
  {
   "cell_type": "code",
   "execution_count": 26,
   "metadata": {},
   "outputs": [],
   "source": [
    "def floor_type_(income):\n",
    "    try:\n",
    "        floors_total = income['floors_total']\n",
    "        floor = income['floor']\n",
    "        if floor == 1:\n",
    "            return 'первый'\n",
    "        elif floor == floors_total:\n",
    "            return 'последний'\n",
    "        elif 1 < floor < floors_total:\n",
    "            return 'другой'\n",
    "    except:\n",
    "        pass"
   ]
  },
  {
   "cell_type": "code",
   "execution_count": 27,
   "metadata": {},
   "outputs": [],
   "source": [
    "data['floor_type'] = data.apply(floor_type_, axis=1)"
   ]
  },
  {
   "cell_type": "code",
   "execution_count": 28,
   "metadata": {},
   "outputs": [],
   "source": [
    "def group_type(income):\n",
    "    try:\n",
    "        group = income['total_area']\n",
    "        if group < 30:\n",
    "            return 'A'\n",
    "        elif 30 <= group <= 50:\n",
    "            return 'B'\n",
    "        elif 50 <= group <= 80:\n",
    "            return 'C'\n",
    "        elif 80 <= group <= 100:\n",
    "            return 'D'\n",
    "        elif group > 100:\n",
    "            return 'E'\n",
    "    except:\n",
    "        pass\n",
    "\n",
    "\n",
    "data['group_area'] = data.apply(group_type, axis=1)"
   ]
  },
  {
   "cell_type": "markdown",
   "metadata": {},
   "source": [
    "тут разбиваем на группы, что бы взять в дальнейшем среднею по таким групам"
   ]
  },
  {
   "cell_type": "code",
   "execution_count": 29,
   "metadata": {},
   "outputs": [],
   "source": [
    "group_area = data.pivot_table(index='group_area', values='living_area')\n",
    "for test in group_area.index:\n",
    "    data.loc[(data['living_area'].isna()) &\n",
    "             (data['group_area'] == test),\n",
    "             'living_area'] = group_area.loc[test, 'living_area']"
   ]
  },
  {
   "cell_type": "code",
   "execution_count": 30,
   "metadata": {},
   "outputs": [],
   "source": [
    "group_area_ = data.pivot_table(index='group_area', values='kitchen_area')\n",
    "for test in group_area_.index:\n",
    "    data.loc[(data['kitchen_area'].isna()) &\n",
    "             (data['group_area'] == test),\n",
    "             'kitchen_area'] = group_area_.loc[test, 'kitchen_area']"
   ]
  },
  {
   "cell_type": "markdown",
   "metadata": {},
   "source": [
    "Заполняем пропуски, в жилой площади."
   ]
  },
  {
   "cell_type": "code",
   "execution_count": 31,
   "metadata": {},
   "outputs": [],
   "source": [
    "data['last_price'] = data['last_price']/1000"
   ]
  },
  {
   "cell_type": "markdown",
   "metadata": {},
   "source": [
    "### Проведите исследовательский анализ данных"
   ]
  },
  {
   "cell_type": "code",
   "execution_count": 32,
   "metadata": {},
   "outputs": [
    {
     "data": {
      "text/plain": [
       "count    23699.000000\n",
       "mean        60.348651\n",
       "std         35.654083\n",
       "min         12.000000\n",
       "25%         40.000000\n",
       "50%         52.000000\n",
       "75%         69.900000\n",
       "max        900.000000\n",
       "Name: total_area, dtype: float64"
      ]
     },
     "execution_count": 32,
     "metadata": {},
     "output_type": "execute_result"
    },
    {
     "data": {
      "image/png": "[encoded data removed]",
      "text/plain": [
       "<Figure size 1000x600 with 1 Axes>"
      ]
     },
     "metadata": {},
     "output_type": "display_data"
    }
   ],
   "source": [
    "data.plot(y = 'total_area', kind = 'hist', bins = 50, grid=True, figsize = (10,6), range = (0,600))\n",
    "data['total_area'].describe()"
   ]
  },
  {
   "cell_type": "markdown",
   "metadata": {},
   "source": [
    "Eсть выбросы, но они особо не влияют. Видим максимально число квартир ~50м."
   ]
  },
  {
   "cell_type": "code",
   "execution_count": 33,
   "metadata": {},
   "outputs": [
    {
     "data": {
      "text/plain": [
       "count    23699.000000\n",
       "mean        34.541351\n",
       "std         21.814302\n",
       "min          2.000000\n",
       "25%         19.000000\n",
       "50%         30.000000\n",
       "75%         42.000000\n",
       "max        409.700000\n",
       "Name: living_area, dtype: float64"
      ]
     },
     "execution_count": 33,
     "metadata": {},
     "output_type": "execute_result"
    },
    {
     "data": {
      "image/png": "[encoded data removed]",
      "text/plain": [
       "<Figure size 1000x600 with 1 Axes>"
      ]
     },
     "metadata": {},
     "output_type": "display_data"
    }
   ],
   "source": [
    "data.plot(y='living_area', kind='hist', bins=50,\n",
    "          grid=True, figsize=(10, 6), range=(0, 350))\n",
    "data['living_area'].describe()"
   ]
  },
  {
   "cell_type": "markdown",
   "metadata": {},
   "source": [
    "Судя по площади квартир чаще продаются кватиры ~ 30м2. Eсть выбросы, но они особо не влияют. "
   ]
  },
  {
   "cell_type": "code",
   "execution_count": 34,
   "metadata": {},
   "outputs": [
    {
     "data": {
      "text/plain": [
       "count    23699.000000\n",
       "mean        10.509617\n",
       "std          5.724751\n",
       "min          1.300000\n",
       "25%          7.100000\n",
       "50%          9.000000\n",
       "75%         11.800000\n",
       "max        112.000000\n",
       "Name: kitchen_area, dtype: float64"
      ]
     },
     "execution_count": 34,
     "metadata": {},
     "output_type": "execute_result"
    },
    {
     "data": {
      "image/png": "[encoded data removed]",
      "text/plain": [
       "<Figure size 1000x600 with 1 Axes>"
      ]
     },
     "metadata": {},
     "output_type": "display_data"
    }
   ],
   "source": [
    "data.plot(y='kitchen_area', kind='hist', bins=50,\n",
    "          grid=True, figsize=(10, 6), range=(0, 100))\n",
    "data['kitchen_area'].describe()"
   ]
  },
  {
   "cell_type": "markdown",
   "metadata": {},
   "source": [
    "Площадь кухни самая популярная  9 м2. Данные хорошие,выбросов почти нету "
   ]
  },
  {
   "cell_type": "code",
   "execution_count": 35,
   "metadata": {},
   "outputs": [
    {
     "data": {
      "text/plain": [
       "count     23699.000000\n",
       "mean       6541.548772\n",
       "std       10887.013268\n",
       "min          12.190000\n",
       "25%        3400.000000\n",
       "50%        4650.000000\n",
       "75%        6800.000000\n",
       "max      763000.000000\n",
       "Name: last_price, dtype: float64"
      ]
     },
     "execution_count": 35,
     "metadata": {},
     "output_type": "execute_result"
    },
    {
     "data": {
      "image/png": "[encoded data removed]",
      "text/plain": [
       "<Figure size 1000x800 with 1 Axes>"
      ]
     },
     "metadata": {},
     "output_type": "display_data"
    }
   ],
   "source": [
    "data.plot(y = 'last_price', kind = 'hist', bins = 100, grid=True, range = (0,15000), figsize = (10,8))\n",
    "data['last_price'].describe()"
   ]
  },
  {
   "cell_type": "markdown",
   "metadata": {},
   "source": [
    "Большинство квартир, которые продаются. видим по цене ~4.5млн. "
   ]
  },
  {
   "cell_type": "code",
   "execution_count": 36,
   "metadata": {},
   "outputs": [
    {
     "data": {
      "text/plain": [
       "count    23699.000000\n",
       "mean         2.073125\n",
       "std          1.074770\n",
       "min          0.000000\n",
       "25%          1.000000\n",
       "50%          2.000000\n",
       "75%          3.000000\n",
       "max         19.000000\n",
       "Name: rooms, dtype: float64"
      ]
     },
     "execution_count": 36,
     "metadata": {},
     "output_type": "execute_result"
    },
    {
     "data": {
      "image/png": "[encoded data removed]",
      "text/plain": [
       "<Figure size 800x500 with 1 Axes>"
      ]
     },
     "metadata": {},
     "output_type": "display_data"
    }
   ],
   "source": [
    "data.plot(y='rooms', kind='hist', bins=40,\n",
    "          grid=True, figsize=(8, 5), range=(0, 10))\n",
    "data['rooms'].describe()"
   ]
  },
  {
   "cell_type": "markdown",
   "metadata": {},
   "source": [
    "Студий а также 5+ комнатных квартир в продаже не много. делаем вывод, что чаще всего продаются 1 и 2 комнатные квартиры"
   ]
  },
  {
   "cell_type": "code",
   "execution_count": 37,
   "metadata": {},
   "outputs": [
    {
     "data": {
      "text/plain": [
       "count    23698.000000\n",
       "mean         2.708544\n",
       "std          0.249654\n",
       "min          2.000000\n",
       "25%          2.550000\n",
       "50%          2.650000\n",
       "75%          2.750000\n",
       "max         10.000000\n",
       "Name: ceiling_height, dtype: float64"
      ]
     },
     "execution_count": 37,
     "metadata": {},
     "output_type": "execute_result"
    },
    {
     "data": {
      "image/png": "[encoded data removed]",
      "text/plain": [
       "<Figure size 1000x600 with 1 Axes>"
      ]
     },
     "metadata": {},
     "output_type": "display_data"
    }
   ],
   "source": [
    "data.plot(y='ceiling_height', kind='hist', bins=30,\n",
    "          grid=True, figsize=(10, 6), range=(2, 5))\n",
    "data['ceiling_height'].describe()"
   ]
  },
  {
   "cell_type": "markdown",
   "metadata": {},
   "source": [
    "Видим средняя по потолкам 2,7 .есть небольшой пик на 3м+, тут мы упираемся в какие -то типовые данные. ну а дальше явно спад ибо квартир с высотой потолков выше 3,5 крайне мало"
   ]
  },
  {
   "cell_type": "code",
   "execution_count": 38,
   "metadata": {},
   "outputs": [
    {
     "data": {
      "text/plain": [
       "count    23699.00000\n",
       "mean         5.88143\n",
       "std          4.86739\n",
       "min          1.00000\n",
       "25%          2.00000\n",
       "50%          4.00000\n",
       "75%          8.00000\n",
       "max         33.00000\n",
       "Name: floor, dtype: float64"
      ]
     },
     "execution_count": 38,
     "metadata": {},
     "output_type": "execute_result"
    },
    {
     "data": {
      "image/png": "[encoded data removed]",
      "text/plain": [
       "<Figure size 1000x600 with 1 Axes>"
      ]
     },
     "metadata": {},
     "output_type": "display_data"
    }
   ],
   "source": [
    "data.plot(y='floor', kind='hist', bins=30,\n",
    "          grid=True, figsize=(10, 6), range=(1, 33))\n",
    "data['floor'].describe()"
   ]
  },
  {
   "cell_type": "markdown",
   "metadata": {},
   "source": [
    "Тут выведем 2 графика. Видеть тенденцию, что чем выше этаж тем меньше квартир в продаже"
   ]
  },
  {
   "cell_type": "code",
   "execution_count": 39,
   "metadata": {},
   "outputs": [
    {
     "data": {
      "text/plain": [
       "<AxesSubplot:ylabel='Frequency'>"
      ]
     },
     "execution_count": 39,
     "metadata": {},
     "output_type": "execute_result"
    },
    {
     "data": {
      "image/png": "[encoded data removed]",
      "text/plain": [
       "<Figure size 1000x600 with 1 Axes>"
      ]
     },
     "metadata": {},
     "output_type": "display_data"
    }
   ],
   "source": [
    "data.plot(y='floor', kind='hist', bins=30,\n",
    "          grid=True, figsize=(10, 6), range=(1, 20))"
   ]
  },
  {
   "cell_type": "markdown",
   "metadata": {},
   "source": [
    "квартир в продаже на 2 этаже больше всего. дальше на спад."
   ]
  },
  {
   "cell_type": "code",
   "execution_count": 40,
   "metadata": {},
   "outputs": [
    {
     "data": {
      "text/plain": [
       "<AxesSubplot:>"
      ]
     },
     "execution_count": 40,
     "metadata": {},
     "output_type": "execute_result"
    },
    {
     "data": {
      "image/png": "[encoded data removed]",
      "text/plain": [
       "<Figure size 640x480 with 1 Axes>"
      ]
     },
     "metadata": {},
     "output_type": "display_data"
    }
   ],
   "source": [
    "data['floor_type'].hist()"
   ]
  },
  {
   "cell_type": "markdown",
   "metadata": {},
   "source": [
    "Добавил. тут наблюдаем, что первый и последние этажи в сравнении с остальными крайне не популярны."
   ]
  },
  {
   "cell_type": "code",
   "execution_count": 41,
   "metadata": {},
   "outputs": [
    {
     "data": {
      "text/plain": [
       "<AxesSubplot:ylabel='Frequency'>"
      ]
     },
     "execution_count": 41,
     "metadata": {},
     "output_type": "execute_result"
    },
    {
     "data": {
      "image/png": "[encoded data removed]",
      "text/plain": [
       "<Figure size 1000x600 with 1 Axes>"
      ]
     },
     "metadata": {},
     "output_type": "display_data"
    }
   ],
   "source": [
    "data.plot(y='day', kind='hist', bins=50,\n",
    "          grid=True, figsize=(10, 6), range=(0, 6))"
   ]
  },
  {
   "cell_type": "markdown",
   "metadata": {},
   "source": [
    "очевидно, в выходные реже выкладывают обьявления о продаже."
   ]
  },
  {
   "cell_type": "code",
   "execution_count": 42,
   "metadata": {},
   "outputs": [
    {
     "data": {
      "text/plain": [
       "<AxesSubplot:ylabel='Frequency'>"
      ]
     },
     "execution_count": 42,
     "metadata": {},
     "output_type": "execute_result"
    },
    {
     "data": {
      "image/png": "[encoded data removed]",
      "text/plain": [
       "<Figure size 1000x600 with 1 Axes>"
      ]
     },
     "metadata": {},
     "output_type": "display_data"
    }
   ],
   "source": [
    "data.plot(y='month', kind='hist', bins=50,\n",
    "          grid=True, figsize=(10, 6), range=(1, 12))"
   ]
  },
  {
   "cell_type": "markdown",
   "metadata": {},
   "source": [
    "По данному графику понимаем, что количество обьявлений зависит от сезоности.\n",
    "так например 2,3,4 месяц очень популярны, к лету количество снижается... и после отдых в конце лета снова идёт в рост.\n",
    "ну и к концу года и до 2 месяца затихает..."
   ]
  },
  {
   "cell_type": "code",
   "execution_count": 43,
   "metadata": {},
   "outputs": [
    {
     "data": {
      "text/plain": [
       "count    23699.000000\n",
       "mean      2017.367146\n",
       "std          1.039771\n",
       "min       2014.000000\n",
       "25%       2017.000000\n",
       "50%       2017.000000\n",
       "75%       2018.000000\n",
       "max       2019.000000\n",
       "Name: year, dtype: float64"
      ]
     },
     "execution_count": 43,
     "metadata": {},
     "output_type": "execute_result"
    },
    {
     "data": {
      "image/png": "[encoded data removed]",
      "text/plain": [
       "<Figure size 1000x600 with 1 Axes>"
      ]
     },
     "metadata": {},
     "output_type": "display_data"
    }
   ],
   "source": [
    "data.plot(y='year', kind='hist', bins=50, grid=True, figsize=(10, 6))\n",
    "data['year'].describe()"
   ]
  },
  {
   "cell_type": "markdown",
   "metadata": {},
   "source": [
    "Вывод: Больше всего недвижимости общей площадью около 50м2. в тоже время жилая у них порядка 30м. и 9м кухней, потолками высотой 2.7 м\n",
    "Ценой ~4,5млн.. Чаще продаются 1 и 2 комнатные квартиры. Не на крайних этажах, что вполне обьяснимо квартир на крайних этажах по статисктике будет меньше=)\n",
    "и ещё можем делать вывод о сезоности... летом и в зимниии месяцы активность ниже."
   ]
  },
  {
   "cell_type": "code",
   "execution_count": 44,
   "metadata": {},
   "outputs": [
    {
     "data": {
      "text/plain": [
       "count    23699.000000\n",
       "mean       156.608844\n",
       "std        213.546873\n",
       "min          0.000000\n",
       "25%         22.000000\n",
       "50%         74.000000\n",
       "75%        199.000000\n",
       "max       1580.000000\n",
       "Name: days_exposition, dtype: float64"
      ]
     },
     "execution_count": 44,
     "metadata": {},
     "output_type": "execute_result"
    },
    {
     "data": {
      "image/png": "[encoded data removed]",
      "text/plain": [
       "<Figure size 1000x600 with 1 Axes>"
      ]
     },
     "metadata": {},
     "output_type": "display_data"
    }
   ],
   "source": [
    "data.plot(y='days_exposition', kind='hist', bins=100,\n",
    "          grid=True, range=(1, 500), figsize=(10, 6))\n",
    "data['days_exposition'].describe()"
   ]
  },
  {
   "cell_type": "markdown",
   "metadata": {},
   "source": [
    "5 пиков выделаяются, надо посмотреть в разреве 100 дней"
   ]
  },
  {
   "cell_type": "code",
   "execution_count": 45,
   "metadata": {},
   "outputs": [
    {
     "data": {
      "text/plain": [
       "<AxesSubplot:ylabel='Frequency'>"
      ]
     },
     "execution_count": 45,
     "metadata": {},
     "output_type": "execute_result"
    },
    {
     "data": {
      "image/png": "[encoded data removed]",
      "text/plain": [
       "<Figure size 1000x600 with 1 Axes>"
      ]
     },
     "metadata": {},
     "output_type": "display_data"
    }
   ],
   "source": [
    "data.plot(y='days_exposition', kind='hist', bins=100,\n",
    "          grid=True, range=(1, 200), figsize=(10, 6))"
   ]
  },
  {
   "cell_type": "code",
   "execution_count": 46,
   "metadata": {},
   "outputs": [
    {
     "data": {
      "text/plain": [
       "count    22077.000000\n",
       "mean       164.027404\n",
       "std        219.391854\n",
       "min          0.000000\n",
       "25%         19.000000\n",
       "50%         83.000000\n",
       "75%        214.000000\n",
       "max       1580.000000\n",
       "Name: days_exposition, dtype: float64"
      ]
     },
     "execution_count": 46,
     "metadata": {},
     "output_type": "execute_result"
    },
    {
     "data": {
      "image/png": "[encoded data removed]",
      "text/plain": [
       "<Figure size 1000x600 with 1 Axes>"
      ]
     },
     "metadata": {},
     "output_type": "display_data"
    }
   ],
   "source": [
    "data_good3 = data.loc[(data['days_exposition'] != 45) &\n",
    "                      (data['days_exposition'] != 60) &\n",
    "                      (data['days_exposition'] != 90)]\n",
    "data_good3.plot(y='days_exposition', kind='hist', bins=100,\n",
    "                grid=True, range=(1, 800), figsize=(10, 6))\n",
    "data_good3['days_exposition'].describe()"
   ]
  },
  {
   "cell_type": "code",
   "execution_count": 47,
   "metadata": {},
   "outputs": [
    {
     "data": {
      "text/plain": [
       "83.0"
      ]
     },
     "execution_count": 47,
     "metadata": {},
     "output_type": "execute_result"
    }
   ],
   "source": [
    "data_good3['days_exposition'].median()"
   ]
  },
  {
   "cell_type": "markdown",
   "metadata": {},
   "source": [
    "Уберём выбросы то\n",
    "медианна = 83\n",
    "среднее  = 164\n",
    "Быстрые продажи от 3 до 19\n",
    "Долгие от 400 и дальше. 45,60,90 плафторма в эти дни  снимает объявления"
   ]
  },
  {
   "cell_type": "code",
   "execution_count": 48,
   "metadata": {},
   "outputs": [
    {
     "name": "stdout",
     "output_type": "stream",
     "text": [
      "0.6536750579657246\n",
      "0.6536750579657247\n"
     ]
    },
    {
     "data": {
      "image/png": "[encoded data removed]",
      "text/plain": [
       "<Figure size 640x480 with 1 Axes>"
      ]
     },
     "metadata": {},
     "output_type": "display_data"
    }
   ],
   "source": [
    "area_price = data.pivot_table(\n",
    "    index='total_area', values='last_price', aggfunc='median')\n",
    "area_price.plot(y='last_price', style='o')\n",
    "print(data['total_area'].corr(data['last_price']))\n",
    "print(data['last_price'].corr(data['total_area']))"
   ]
  },
  {
   "cell_type": "markdown",
   "metadata": {},
   "source": [
    "Отношение общей площади к цене.зависимость есть. чем больше площадь ты выше цена получается, ну оно и логично...\n",
    "Судя по корреляции связь есть."
   ]
  },
  {
   "cell_type": "code",
   "execution_count": 49,
   "metadata": {},
   "outputs": [
    {
     "name": "stdout",
     "output_type": "stream",
     "text": [
      "0.5657212536300777\n",
      "0.5657212536300777\n"
     ]
    },
    {
     "data": {
      "image/png": "[encoded data removed]",
      "text/plain": [
       "<Figure size 640x480 with 1 Axes>"
      ]
     },
     "metadata": {},
     "output_type": "display_data"
    }
   ],
   "source": [
    "area_price = data.pivot_table(\n",
    "    index='living_area', values='last_price', aggfunc='median')\n",
    "area_price.plot(y='last_price', style='o')\n",
    "print(data['living_area'].corr(data['last_price']))\n",
    "print(data['last_price'].corr(data['living_area']))"
   ]
  },
  {
   "cell_type": "markdown",
   "metadata": {},
   "source": [
    "Отношение жилой площади к цене, результат похож.\n",
    "судя по корреляции тут зависимост ещё меньше"
   ]
  },
  {
   "cell_type": "code",
   "execution_count": 50,
   "metadata": {},
   "outputs": [
    {
     "name": "stdout",
     "output_type": "stream",
     "text": [
      "0.46988733447195613\n",
      "0.46988733447195613\n"
     ]
    },
    {
     "data": {
      "image/png": "[encoded data removed]",
      "text/plain": [
       "<Figure size 640x480 with 1 Axes>"
      ]
     },
     "metadata": {},
     "output_type": "display_data"
    }
   ],
   "source": [
    "area_price = data.pivot_table(\n",
    "    index='kitchen_area', values='last_price', aggfunc='median')\n",
    "area_price.plot(y='last_price', style='o')\n",
    "print(data['kitchen_area'].corr(data['last_price']))\n",
    "print(data['last_price'].corr(data['kitchen_area']))"
   ]
  },
  {
   "cell_type": "markdown",
   "metadata": {},
   "source": [
    "если откинуть выбросы, то не однозначно. Считаю, что не значительно.\n",
    "Корреляция не значительна"
   ]
  },
  {
   "cell_type": "code",
   "execution_count": 51,
   "metadata": {},
   "outputs": [
    {
     "name": "stdout",
     "output_type": "stream",
     "text": [
      "0.36401203449989167\n",
      "0.3640120344998916\n"
     ]
    },
    {
     "data": {
      "image/png": "[encoded data removed]",
      "text/plain": [
       "<Figure size 640x480 with 1 Axes>"
      ]
     },
     "metadata": {},
     "output_type": "display_data"
    }
   ],
   "source": [
    "area_price = data.pivot_table(\n",
    "    index='rooms', values='last_price', aggfunc='median')\n",
    "area_price.plot(y='last_price', style='o-')\n",
    "print(data['rooms'].corr(data['last_price']))\n",
    "print(data['last_price'].corr(data['rooms']))"
   ]
  },
  {
   "cell_type": "markdown",
   "metadata": {},
   "source": [
    "связи между количеством комнат и ценой нет.Только видимо вылет на 12.5\n",
    "Данные подтверждаются корреляцией"
   ]
  },
  {
   "cell_type": "code",
   "execution_count": 52,
   "metadata": {},
   "outputs": [
    {
     "data": {
      "text/plain": [
       "<AxesSubplot:xlabel='floor_type'>"
      ]
     },
     "execution_count": 52,
     "metadata": {},
     "output_type": "execute_result"
    },
    {
     "data": {
      "image/png": "[encoded data removed]",
      "text/plain": [
       "<Figure size 640x480 with 1 Axes>"
      ]
     },
     "metadata": {},
     "output_type": "display_data"
    }
   ],
   "source": [
    "area_price = data.pivot_table(\n",
    "    index='floor_type', values='last_price', aggfunc='median')\n",
    "area_price.plot(y='last_price', style='o-')"
   ]
  },
  {
   "cell_type": "markdown",
   "metadata": {},
   "source": [
    "видим , что первый этаж самый дешевый, но последний тоже дешевле рынка."
   ]
  },
  {
   "cell_type": "code",
   "execution_count": 53,
   "metadata": {},
   "outputs": [
    {
     "name": "stdout",
     "output_type": "stream",
     "text": [
      "0.0015501452176215444\n",
      "0.0015501452176215447\n"
     ]
    },
    {
     "data": {
      "image/png": "[encoded data removed]",
      "text/plain": [
       "<Figure size 640x480 with 1 Axes>"
      ]
     },
     "metadata": {},
     "output_type": "display_data"
    }
   ],
   "source": [
    "area_price = data.pivot_table(\n",
    "    index='day', values='last_price', aggfunc='median')\n",
    "area_price.plot(y='last_price', style='o-')\n",
    "print(data['day'].corr(data['last_price']))\n",
    "print(data['last_price'].corr(data['day']))"
   ]
  },
  {
   "cell_type": "markdown",
   "metadata": {},
   "source": [
    "Видим, выставленые во вторник имеют самую высокую цену. В выходные гараздо ниже.\n",
    "Но кореляция минимальна."
   ]
  },
  {
   "cell_type": "code",
   "execution_count": 54,
   "metadata": {},
   "outputs": [
    {
     "name": "stdout",
     "output_type": "stream",
     "text": [
      "0.002779128750739716\n",
      "0.0027791287507397157\n"
     ]
    },
    {
     "data": {
      "image/png": "[encoded data removed]",
      "text/plain": [
       "<Figure size 640x480 with 1 Axes>"
      ]
     },
     "metadata": {},
     "output_type": "display_data"
    }
   ],
   "source": [
    "area_price = data.pivot_table(\n",
    "    index='month', values='last_price', aggfunc='median')\n",
    "area_price.plot(y='last_price', style='o-')\n",
    "print(data['month'].corr(data['last_price']))\n",
    "print(data['last_price'].corr(data['month']))"
   ]
  },
  {
   "cell_type": "markdown",
   "metadata": {},
   "source": [
    "Явно, видно провал в летнии месяцы, цена падает. а конец весны самые высокие цены. "
   ]
  },
  {
   "cell_type": "code",
   "execution_count": 55,
   "metadata": {},
   "outputs": [
    {
     "name": "stdout",
     "output_type": "stream",
     "text": [
      "-0.0430890361995084\n",
      "-0.0430890361995084\n"
     ]
    },
    {
     "data": {
      "image/png": "[encoded data removed]",
      "text/plain": [
       "<Figure size 640x480 with 1 Axes>"
      ]
     },
     "metadata": {},
     "output_type": "display_data"
    }
   ],
   "source": [
    "area_price = data.pivot_table(\n",
    "    index='year', values='last_price', aggfunc='median')\n",
    "area_price.plot(y='last_price', style='o-')\n",
    "print(data['year'].corr(data['last_price']))\n",
    "print(data['last_price'].corr(data['year']))"
   ]
  },
  {
   "cell_type": "markdown",
   "metadata": {},
   "source": [
    "Видим за последние 3 года в среднем цена была на уровне,В 2018 и далее начала увеличиватся цена.\n",
    "\n",
    "Ну это меданна цен, как вариант, у нас квартиры с разных районов и городов... воот возможно в каком-то из городов выставлено гораздо больше квартир,а сама цена нидвижимости там ниже. Корректней наверное рассматривать квартиры с одного района или города хотя бы."
   ]
  },
  {
   "cell_type": "code",
   "execution_count": 56,
   "metadata": {},
   "outputs": [
    {
     "data": {
      "text/html": [
       "<div>\n",
       "<style scoped>\n",
       "    .dataframe tbody tr th:only-of-type {\n",
       "        vertical-align: middle;\n",
       "    }\n",
       "\n",
       "    .dataframe tbody tr th {\n",
       "        vertical-align: top;\n",
       "    }\n",
       "\n",
       "    .dataframe thead th {\n",
       "        text-align: right;\n",
       "    }\n",
       "</style>\n",
       "<table border=\"1\" class=\"dataframe\">\n",
       "  <thead>\n",
       "    <tr style=\"text-align: right;\">\n",
       "      <th></th>\n",
       "      <th>counts</th>\n",
       "      <th>median</th>\n",
       "    </tr>\n",
       "    <tr>\n",
       "      <th>locality_name</th>\n",
       "      <th></th>\n",
       "      <th></th>\n",
       "    </tr>\n",
       "  </thead>\n",
       "  <tbody>\n",
       "    <tr>\n",
       "      <th>санкт-петербург</th>\n",
       "      <td>15721</td>\n",
       "      <td>104761.904762</td>\n",
       "    </tr>\n",
       "    <tr>\n",
       "      <th>поселок мурино</th>\n",
       "      <td>556</td>\n",
       "      <td>85878.462169</td>\n",
       "    </tr>\n",
       "    <tr>\n",
       "      <th>поселок шушары</th>\n",
       "      <td>440</td>\n",
       "      <td>76876.172608</td>\n",
       "    </tr>\n",
       "    <tr>\n",
       "      <th>всеволожск</th>\n",
       "      <td>398</td>\n",
       "      <td>65789.473684</td>\n",
       "    </tr>\n",
       "    <tr>\n",
       "      <th>пушкин</th>\n",
       "      <td>369</td>\n",
       "      <td>100000.000000</td>\n",
       "    </tr>\n",
       "    <tr>\n",
       "      <th>колпино</th>\n",
       "      <td>338</td>\n",
       "      <td>74723.748474</td>\n",
       "    </tr>\n",
       "    <tr>\n",
       "      <th>поселок парголово</th>\n",
       "      <td>327</td>\n",
       "      <td>91642.857143</td>\n",
       "    </tr>\n",
       "    <tr>\n",
       "      <th>гатчина</th>\n",
       "      <td>307</td>\n",
       "      <td>67796.610169</td>\n",
       "    </tr>\n",
       "    <tr>\n",
       "      <th>деревня кудрово</th>\n",
       "      <td>299</td>\n",
       "      <td>91860.465116</td>\n",
       "    </tr>\n",
       "    <tr>\n",
       "      <th>выборг</th>\n",
       "      <td>237</td>\n",
       "      <td>58158.319871</td>\n",
       "    </tr>\n",
       "  </tbody>\n",
       "</table>\n",
       "</div>"
      ],
      "text/plain": [
       "                   counts         median\n",
       "locality_name                           \n",
       "санкт-петербург     15721  104761.904762\n",
       "поселок мурино        556   85878.462169\n",
       "поселок шушары        440   76876.172608\n",
       "всеволожск            398   65789.473684\n",
       "пушкин                369  100000.000000\n",
       "колпино               338   74723.748474\n",
       "поселок парголово     327   91642.857143\n",
       "гатчина               307   67796.610169\n",
       "деревня кудрово       299   91860.465116\n",
       "выборг                237   58158.319871"
      ]
     },
     "execution_count": 56,
     "metadata": {},
     "output_type": "execute_result"
    }
   ],
   "source": [
    "top_data = data.pivot_table(index='locality_name',\n",
    "                            values='price_meter', aggfunc=['count', 'median'])\n",
    "top_data.columns = ('counts', 'median')\n",
    "top_locality = top_data.sort_values('counts', ascending=False).head(10)\n",
    "top_locality"
   ]
  },
  {
   "cell_type": "code",
   "execution_count": 57,
   "metadata": {},
   "outputs": [
    {
     "name": "stdout",
     "output_type": "stream",
     "text": [
      "[104761.90476190476]\n"
     ]
    }
   ],
   "source": [
    "print([top_locality['median'].max()])"
   ]
  },
  {
   "cell_type": "code",
   "execution_count": 58,
   "metadata": {},
   "outputs": [
    {
     "name": "stdout",
     "output_type": "stream",
     "text": [
      "[58158.31987075929]\n"
     ]
    }
   ],
   "source": [
    "print([top_locality['median'].min()])"
   ]
  },
  {
   "cell_type": "code",
   "execution_count": 59,
   "metadata": {},
   "outputs": [],
   "source": [
    "spb = data.loc[data['locality_name'] == 'санкт-петербург'].copy()\n",
    "spb.loc[spb['cityCenters_nearest'].isna(\n",
    "), 'cityCenters_nearest'] = spb['cityCenters_nearest'].mean()\n",
    "spb['cityCenters_nearest'] = spb['cityCenters_nearest']/1000"
   ]
  },
  {
   "cell_type": "markdown",
   "metadata": {},
   "source": [
    "Тут у меня был вообще како-то ад, кое как убрал предупреждение питона.\n"
   ]
  },
  {
   "cell_type": "code",
   "execution_count": 60,
   "metadata": {},
   "outputs": [
    {
     "data": {
      "text/plain": [
       "<AxesSubplot:xlabel='cityCenters_nearest'>"
      ]
     },
     "execution_count": 60,
     "metadata": {},
     "output_type": "execute_result"
    },
    {
     "data": {
      "image/png": "[encoded data removed]",
      "text/plain": [
       "<Figure size 1000x600 with 1 Axes>"
      ]
     },
     "metadata": {},
     "output_type": "display_data"
    }
   ],
   "source": [
    "spb_plot = data[data['locality_name'] == 'санкт-петербург'].groupby(\n",
    "    'cityCenters_nearest').mean()['last_price'].sort_values(ascending=False)\n",
    "spb_plot.plot(y='last_price', style='o', figsize=(10, 6))"
   ]
  },
  {
   "cell_type": "markdown",
   "metadata": {},
   "source": [
    "### Общий вывод"
   ]
  },
  {
   "cell_type": "markdown",
   "metadata": {},
   "source": [
    "\n",
    "Были удалены аномалии  и заменены пропуски. Изменены типы данных для корректного анализа.\n",
    "Созданы дополнительные столбцы для улучшения анализа данных.\n",
    "Посчитали и добавили в таблицу цену квадратного метра жилья, \n",
    "вывели из даты дни недели, месяцы и года размещения объявлений, \n",
    "Аномальное время снятия с продажи квартиры мы устранили, ответы на поставленые вопросы получены. хотя  остались вопросы к данным...\n",
    "Основны показателм цены, является площадь квартиры, также влияют на цену площадь кухни. и жилая площадь(одно выходит из другого).\n",
    "В тоже время влияет этаж, средние этажи дороже, чем крайнии. с годами странности запросил бы больше информации.\n",
    "По СПБ да есть удорожание квартир на приближенность к центру города и оно заметно.\n"
   ]
  }
 ],
 "metadata": {
  "ExecuteTimeLog": [
   {
    "duration": 1169,
    "start_time": "2022-09-22T16:37:21.499Z"
   },
   {
    "duration": 11,
    "start_time": "2022-09-22T16:38:28.949Z"
   },
   {
    "duration": 12,
    "start_time": "2022-09-22T16:38:37.146Z"
   },
   {
    "duration": 10,
    "start_time": "2022-09-22T16:39:19.328Z"
   },
   {
    "duration": 13,
    "start_time": "2022-09-22T16:39:30.330Z"
   },
   {
    "duration": 104,
    "start_time": "2022-09-22T16:39:42.750Z"
   },
   {
    "duration": 719,
    "start_time": "2022-09-23T05:16:01.546Z"
   },
   {
    "duration": 81,
    "start_time": "2022-09-23T05:16:17.374Z"
   },
   {
    "duration": 59,
    "start_time": "2022-09-23T05:16:33.031Z"
   },
   {
    "duration": 87,
    "start_time": "2022-09-23T05:16:52.671Z"
   },
   {
    "duration": 84,
    "start_time": "2022-09-23T05:17:49.297Z"
   },
   {
    "duration": 55,
    "start_time": "2022-09-23T05:17:55.887Z"
   },
   {
    "duration": 82,
    "start_time": "2022-09-23T05:18:03.397Z"
   },
   {
    "duration": 99,
    "start_time": "2022-09-23T05:18:30.656Z"
   },
   {
    "duration": 93,
    "start_time": "2022-09-23T05:18:49.739Z"
   },
   {
    "duration": 96,
    "start_time": "2022-09-23T05:18:52.976Z"
   },
   {
    "duration": 91,
    "start_time": "2022-09-23T05:19:12.217Z"
   },
   {
    "duration": 14,
    "start_time": "2022-09-23T05:19:23.434Z"
   },
   {
    "duration": 90,
    "start_time": "2022-09-23T05:27:06.113Z"
   },
   {
    "duration": 12,
    "start_time": "2022-09-23T05:50:00.749Z"
   },
   {
    "duration": 103,
    "start_time": "2022-09-23T06:10:55.389Z"
   },
   {
    "duration": 23,
    "start_time": "2022-09-23T06:30:47.369Z"
   },
   {
    "duration": 6,
    "start_time": "2022-09-23T06:31:02.251Z"
   },
   {
    "duration": 61,
    "start_time": "2022-09-23T06:39:35.334Z"
   },
   {
    "duration": 7,
    "start_time": "2022-09-23T06:39:44.843Z"
   },
   {
    "duration": 5,
    "start_time": "2022-09-23T06:41:15.535Z"
   },
   {
    "duration": 7,
    "start_time": "2022-09-23T06:48:21.795Z"
   },
   {
    "duration": 40,
    "start_time": "2022-09-23T06:48:44.587Z"
   },
   {
    "duration": 106,
    "start_time": "2022-09-23T06:52:39.159Z"
   },
   {
    "duration": 67,
    "start_time": "2022-09-23T06:52:47.113Z"
   },
   {
    "duration": 17,
    "start_time": "2022-09-23T06:52:58.379Z"
   },
   {
    "duration": 14,
    "start_time": "2022-09-23T06:53:05.481Z"
   },
   {
    "duration": 15,
    "start_time": "2022-09-23T06:53:26.298Z"
   },
   {
    "duration": 37,
    "start_time": "2022-09-23T06:53:41.770Z"
   },
   {
    "duration": 4,
    "start_time": "2022-09-23T06:54:21.204Z"
   },
   {
    "duration": 16,
    "start_time": "2022-09-23T06:54:29.103Z"
   },
   {
    "duration": 7,
    "start_time": "2022-09-23T07:00:50.606Z"
   },
   {
    "duration": 4,
    "start_time": "2022-09-23T07:07:38.770Z"
   },
   {
    "duration": 5,
    "start_time": "2022-09-23T07:08:09.615Z"
   },
   {
    "duration": 7,
    "start_time": "2022-09-23T07:08:15.667Z"
   },
   {
    "duration": 14,
    "start_time": "2022-09-23T07:09:13.877Z"
   },
   {
    "duration": 3,
    "start_time": "2022-09-23T07:10:04.131Z"
   },
   {
    "duration": 543,
    "start_time": "2022-09-23T07:19:33.985Z"
   },
   {
    "duration": 461,
    "start_time": "2022-09-23T07:20:01.082Z"
   },
   {
    "duration": 905,
    "start_time": "2022-09-23T07:20:09.504Z"
   },
   {
    "duration": 468,
    "start_time": "2022-09-23T07:23:25.993Z"
   },
   {
    "duration": 884,
    "start_time": "2022-09-23T07:23:32.639Z"
   },
   {
    "duration": 551,
    "start_time": "2022-09-23T07:24:35.884Z"
   },
   {
    "duration": 4,
    "start_time": "2022-09-23T07:26:52.006Z"
   },
   {
    "duration": 435,
    "start_time": "2022-09-23T07:28:07.833Z"
   },
   {
    "duration": 98,
    "start_time": "2022-09-23T07:29:18.803Z"
   },
   {
    "duration": 13,
    "start_time": "2022-09-23T07:29:23.642Z"
   },
   {
    "duration": 427,
    "start_time": "2022-09-23T07:29:28.336Z"
   },
   {
    "duration": 768,
    "start_time": "2022-09-23T07:30:28.104Z"
   },
   {
    "duration": 577,
    "start_time": "2022-09-23T07:30:43.841Z"
   },
   {
    "duration": 385,
    "start_time": "2022-09-23T07:31:50.120Z"
   },
   {
    "duration": 9,
    "start_time": "2022-09-23T07:32:30.903Z"
   },
   {
    "duration": 108,
    "start_time": "2022-09-23T07:32:38.515Z"
   },
   {
    "duration": 11,
    "start_time": "2022-09-23T07:35:49.528Z"
   },
   {
    "duration": 63,
    "start_time": "2022-09-23T07:36:05.881Z"
   },
   {
    "duration": 30,
    "start_time": "2022-09-23T07:36:46.248Z"
   },
   {
    "duration": 47,
    "start_time": "2022-09-23T07:37:11.653Z"
   },
   {
    "duration": 97,
    "start_time": "2022-09-23T07:37:32.022Z"
   },
   {
    "duration": 14,
    "start_time": "2022-09-23T07:37:32.694Z"
   },
   {
    "duration": 30,
    "start_time": "2022-09-23T07:37:36.844Z"
   },
   {
    "duration": 12,
    "start_time": "2022-09-23T07:38:00.931Z"
   },
   {
    "duration": 96,
    "start_time": "2022-09-23T07:38:23.689Z"
   },
   {
    "duration": 13,
    "start_time": "2022-09-23T07:38:24.335Z"
   },
   {
    "duration": 7,
    "start_time": "2022-09-23T07:38:27.752Z"
   },
   {
    "duration": 16,
    "start_time": "2022-09-23T07:38:48.399Z"
   },
   {
    "duration": 99,
    "start_time": "2022-09-23T07:40:30.703Z"
   },
   {
    "duration": 14,
    "start_time": "2022-09-23T07:40:34.372Z"
   },
   {
    "duration": 696,
    "start_time": "2022-09-23T07:40:38.570Z"
   },
   {
    "duration": 11,
    "start_time": "2022-09-23T07:40:55.941Z"
   },
   {
    "duration": 107,
    "start_time": "2022-09-23T07:41:17.092Z"
   },
   {
    "duration": 20,
    "start_time": "2022-09-23T07:41:17.555Z"
   },
   {
    "duration": 13,
    "start_time": "2022-09-23T07:41:19.579Z"
   },
   {
    "duration": 22,
    "start_time": "2022-09-23T07:42:36.340Z"
   },
   {
    "duration": 12,
    "start_time": "2022-09-23T07:42:49.440Z"
   },
   {
    "duration": 12,
    "start_time": "2022-09-23T08:18:12.731Z"
   },
   {
    "duration": 15,
    "start_time": "2022-09-23T08:18:21.940Z"
   },
   {
    "duration": 16,
    "start_time": "2022-09-23T08:18:43.772Z"
   },
   {
    "duration": 29,
    "start_time": "2022-09-23T08:19:44.196Z"
   },
   {
    "duration": 88,
    "start_time": "2022-09-23T08:20:03.700Z"
   },
   {
    "duration": 54,
    "start_time": "2022-09-23T08:21:24.968Z"
   },
   {
    "duration": 50,
    "start_time": "2022-09-23T08:21:50.603Z"
   },
   {
    "duration": 19,
    "start_time": "2022-09-23T08:31:35.226Z"
   },
   {
    "duration": 17,
    "start_time": "2022-09-23T08:32:06.315Z"
   },
   {
    "duration": 17,
    "start_time": "2022-09-23T08:32:13.603Z"
   },
   {
    "duration": 23,
    "start_time": "2022-09-23T08:44:42.278Z"
   },
   {
    "duration": 24,
    "start_time": "2022-09-23T08:44:52.370Z"
   },
   {
    "duration": 11,
    "start_time": "2022-09-23T09:41:09.403Z"
   },
   {
    "duration": 43,
    "start_time": "2022-09-23T09:41:09.872Z"
   },
   {
    "duration": 11,
    "start_time": "2022-09-23T09:41:10.904Z"
   },
   {
    "duration": 13,
    "start_time": "2022-09-23T09:41:12.311Z"
   },
   {
    "duration": 5,
    "start_time": "2022-09-23T09:43:07.240Z"
   },
   {
    "duration": 4,
    "start_time": "2022-09-23T09:43:44.610Z"
   },
   {
    "duration": 5,
    "start_time": "2022-09-23T09:43:49.375Z"
   },
   {
    "duration": 5,
    "start_time": "2022-09-23T09:44:58.944Z"
   },
   {
    "duration": 827,
    "start_time": "2022-09-23T09:45:38.676Z"
   },
   {
    "duration": 5,
    "start_time": "2022-09-23T09:46:00.787Z"
   },
   {
    "duration": 18,
    "start_time": "2022-09-23T09:54:10.076Z"
   },
   {
    "duration": 46,
    "start_time": "2022-09-23T10:11:40.919Z"
   },
   {
    "duration": 42,
    "start_time": "2022-09-23T10:11:55.759Z"
   },
   {
    "duration": 48,
    "start_time": "2022-09-23T10:12:03.634Z"
   },
   {
    "duration": 7,
    "start_time": "2022-09-23T10:13:44.822Z"
   },
   {
    "duration": 115,
    "start_time": "2022-09-23T10:14:11.768Z"
   },
   {
    "duration": 21,
    "start_time": "2022-09-23T10:14:30.138Z"
   },
   {
    "duration": 7,
    "start_time": "2022-09-23T10:26:57.058Z"
   },
   {
    "duration": 13,
    "start_time": "2022-09-23T10:57:25.364Z"
   },
   {
    "duration": 6,
    "start_time": "2022-09-23T10:58:49.449Z"
   },
   {
    "duration": 13,
    "start_time": "2022-09-23T10:58:58.257Z"
   },
   {
    "duration": 5,
    "start_time": "2022-09-23T11:26:10.954Z"
   },
   {
    "duration": 6,
    "start_time": "2022-09-23T11:28:00.972Z"
   },
   {
    "duration": 6,
    "start_time": "2022-09-23T11:28:24.467Z"
   },
   {
    "duration": 5,
    "start_time": "2022-09-23T11:28:58.813Z"
   },
   {
    "duration": 6,
    "start_time": "2022-09-23T11:29:07.672Z"
   },
   {
    "duration": 6,
    "start_time": "2022-09-23T11:32:46.082Z"
   },
   {
    "duration": 5,
    "start_time": "2022-09-23T11:33:03.644Z"
   },
   {
    "duration": 6,
    "start_time": "2022-09-23T11:33:09.185Z"
   },
   {
    "duration": 5,
    "start_time": "2022-09-23T11:45:02.087Z"
   },
   {
    "duration": 39,
    "start_time": "2022-09-23T11:45:24.732Z"
   },
   {
    "duration": 42,
    "start_time": "2022-09-23T11:52:01.300Z"
   },
   {
    "duration": 14,
    "start_time": "2022-09-23T11:55:40.531Z"
   },
   {
    "duration": 5,
    "start_time": "2022-09-23T11:56:16.434Z"
   },
   {
    "duration": 42,
    "start_time": "2022-09-23T11:56:31.467Z"
   },
   {
    "duration": 49,
    "start_time": "2022-09-23T11:56:43.448Z"
   },
   {
    "duration": 47,
    "start_time": "2022-09-23T11:56:52.229Z"
   },
   {
    "duration": 16,
    "start_time": "2022-09-23T11:57:00.835Z"
   },
   {
    "duration": 15,
    "start_time": "2022-09-23T11:57:04.047Z"
   },
   {
    "duration": 67,
    "start_time": "2022-09-23T11:57:15.354Z"
   },
   {
    "duration": 13,
    "start_time": "2022-09-23T11:59:38.699Z"
   },
   {
    "duration": 21,
    "start_time": "2022-09-23T11:59:43.960Z"
   },
   {
    "duration": 26,
    "start_time": "2022-09-23T12:06:30.510Z"
   },
   {
    "duration": 23,
    "start_time": "2022-09-23T12:06:45.831Z"
   },
   {
    "duration": 12,
    "start_time": "2022-09-23T12:09:18.378Z"
   },
   {
    "duration": 41,
    "start_time": "2022-09-23T12:12:56.893Z"
   },
   {
    "duration": 13,
    "start_time": "2022-09-23T12:13:38.204Z"
   },
   {
    "duration": 99,
    "start_time": "2022-09-23T12:13:51.974Z"
   },
   {
    "duration": 14,
    "start_time": "2022-09-23T12:13:53.358Z"
   },
   {
    "duration": 24,
    "start_time": "2022-09-23T12:16:48.273Z"
   },
   {
    "duration": 5,
    "start_time": "2022-09-23T12:19:03.779Z"
   },
   {
    "duration": 43,
    "start_time": "2022-09-23T12:19:09.295Z"
   },
   {
    "duration": 19,
    "start_time": "2022-09-23T12:19:35.335Z"
   },
   {
    "duration": 5,
    "start_time": "2022-09-23T12:51:26.480Z"
   },
   {
    "duration": 5,
    "start_time": "2022-09-23T12:51:40.135Z"
   },
   {
    "duration": 10,
    "start_time": "2022-09-23T12:53:15.960Z"
   },
   {
    "duration": 14,
    "start_time": "2022-09-23T12:53:46.635Z"
   },
   {
    "duration": 7,
    "start_time": "2022-09-23T12:54:17.423Z"
   },
   {
    "duration": 6,
    "start_time": "2022-09-23T12:54:19.061Z"
   },
   {
    "duration": 10,
    "start_time": "2022-09-23T12:56:29.060Z"
   },
   {
    "duration": 909,
    "start_time": "2022-09-23T13:24:16.877Z"
   },
   {
    "duration": 932,
    "start_time": "2022-09-23T13:24:36.933Z"
   },
   {
    "duration": 60,
    "start_time": "2022-09-23T13:25:22.081Z"
   },
   {
    "duration": 4,
    "start_time": "2022-09-23T13:29:59.557Z"
   },
   {
    "duration": 106,
    "start_time": "2022-09-23T13:30:06.023Z"
   },
   {
    "duration": 13,
    "start_time": "2022-09-23T13:30:06.479Z"
   },
   {
    "duration": 5,
    "start_time": "2022-09-23T13:30:11.733Z"
   },
   {
    "duration": 8,
    "start_time": "2022-09-23T13:30:12.764Z"
   },
   {
    "duration": 5,
    "start_time": "2022-09-23T13:30:14.525Z"
   },
   {
    "duration": 5,
    "start_time": "2022-09-23T13:30:15.386Z"
   },
   {
    "duration": 6,
    "start_time": "2022-09-23T13:30:16.955Z"
   },
   {
    "duration": 7,
    "start_time": "2022-09-23T13:32:24.136Z"
   },
   {
    "duration": 7,
    "start_time": "2022-09-23T13:32:57.891Z"
   },
   {
    "duration": 7,
    "start_time": "2022-09-23T13:33:14.579Z"
   },
   {
    "duration": 14,
    "start_time": "2022-09-23T13:36:10.518Z"
   },
   {
    "duration": 102,
    "start_time": "2022-09-23T13:36:59.299Z"
   },
   {
    "duration": 13,
    "start_time": "2022-09-23T13:36:59.984Z"
   },
   {
    "duration": 4,
    "start_time": "2022-09-23T13:37:02.105Z"
   },
   {
    "duration": 7,
    "start_time": "2022-09-23T13:37:02.737Z"
   },
   {
    "duration": 4,
    "start_time": "2022-09-23T13:37:04.737Z"
   },
   {
    "duration": 4,
    "start_time": "2022-09-23T13:37:05.384Z"
   },
   {
    "duration": 6,
    "start_time": "2022-09-23T13:37:06.015Z"
   },
   {
    "duration": 7,
    "start_time": "2022-09-23T13:37:08.175Z"
   },
   {
    "duration": 107,
    "start_time": "2022-09-23T13:59:43.234Z"
   },
   {
    "duration": 16,
    "start_time": "2022-09-23T13:59:44.193Z"
   },
   {
    "duration": 10,
    "start_time": "2022-09-23T13:59:54.717Z"
   },
   {
    "duration": 11,
    "start_time": "2022-09-23T13:59:57.790Z"
   },
   {
    "duration": 5,
    "start_time": "2022-09-23T13:59:59.722Z"
   },
   {
    "duration": 4,
    "start_time": "2022-09-23T14:00:02.441Z"
   },
   {
    "duration": 6,
    "start_time": "2022-09-23T14:01:17.709Z"
   },
   {
    "duration": 23,
    "start_time": "2022-09-23T14:01:20.675Z"
   },
   {
    "duration": 42,
    "start_time": "2022-09-23T14:01:39.006Z"
   },
   {
    "duration": 13,
    "start_time": "2022-09-23T14:04:11.582Z"
   },
   {
    "duration": 10,
    "start_time": "2022-09-23T14:06:29.697Z"
   },
   {
    "duration": 9,
    "start_time": "2022-09-23T14:06:42.427Z"
   },
   {
    "duration": 197,
    "start_time": "2022-09-23T14:08:18.213Z"
   },
   {
    "duration": 6,
    "start_time": "2022-09-23T14:08:37.477Z"
   },
   {
    "duration": 20,
    "start_time": "2022-09-23T14:08:45.435Z"
   },
   {
    "duration": 6,
    "start_time": "2022-09-23T14:08:56.893Z"
   },
   {
    "duration": 15,
    "start_time": "2022-09-23T14:09:11.391Z"
   },
   {
    "duration": 263,
    "start_time": "2022-09-23T14:10:09.688Z"
   },
   {
    "duration": 114,
    "start_time": "2022-09-23T14:14:36.284Z"
   },
   {
    "duration": 17,
    "start_time": "2022-09-23T14:14:36.465Z"
   },
   {
    "duration": 5,
    "start_time": "2022-09-23T14:14:37.756Z"
   },
   {
    "duration": 8,
    "start_time": "2022-09-23T14:14:38.244Z"
   },
   {
    "duration": 5,
    "start_time": "2022-09-23T14:14:38.980Z"
   },
   {
    "duration": 3,
    "start_time": "2022-09-23T14:14:39.696Z"
   },
   {
    "duration": 6,
    "start_time": "2022-09-23T14:14:40.228Z"
   },
   {
    "duration": 6,
    "start_time": "2022-09-23T14:15:18.598Z"
   },
   {
    "duration": 112,
    "start_time": "2022-09-23T14:16:37.373Z"
   },
   {
    "duration": 15,
    "start_time": "2022-09-23T14:16:37.588Z"
   },
   {
    "duration": 5,
    "start_time": "2022-09-23T14:16:39.125Z"
   },
   {
    "duration": 8,
    "start_time": "2022-09-23T14:16:39.747Z"
   },
   {
    "duration": 5,
    "start_time": "2022-09-23T14:16:40.827Z"
   },
   {
    "duration": 5,
    "start_time": "2022-09-23T14:16:46.352Z"
   },
   {
    "duration": 8,
    "start_time": "2022-09-23T14:16:47.425Z"
   },
   {
    "duration": 6,
    "start_time": "2022-09-23T14:17:15.839Z"
   },
   {
    "duration": 6,
    "start_time": "2022-09-23T14:17:39.710Z"
   },
   {
    "duration": 8,
    "start_time": "2022-09-23T14:17:53.133Z"
   },
   {
    "duration": 48,
    "start_time": "2022-09-23T14:17:53.326Z"
   },
   {
    "duration": 219,
    "start_time": "2022-09-23T14:18:28.578Z"
   },
   {
    "duration": 256,
    "start_time": "2022-09-23T14:18:59.573Z"
   },
   {
    "duration": 7,
    "start_time": "2022-09-23T14:19:22.620Z"
   },
   {
    "duration": 17,
    "start_time": "2022-09-23T14:19:30.345Z"
   },
   {
    "duration": 18,
    "start_time": "2022-09-23T14:19:36.328Z"
   },
   {
    "duration": 249,
    "start_time": "2022-09-23T14:19:53.561Z"
   },
   {
    "duration": 108,
    "start_time": "2022-09-23T14:20:00.077Z"
   },
   {
    "duration": 14,
    "start_time": "2022-09-23T14:20:00.284Z"
   },
   {
    "duration": 6,
    "start_time": "2022-09-23T14:20:01.682Z"
   },
   {
    "duration": 8,
    "start_time": "2022-09-23T14:20:02.290Z"
   },
   {
    "duration": 5,
    "start_time": "2022-09-23T14:20:02.978Z"
   },
   {
    "duration": 4,
    "start_time": "2022-09-23T14:20:04.242Z"
   },
   {
    "duration": 6,
    "start_time": "2022-09-23T14:20:05.722Z"
   },
   {
    "duration": 15,
    "start_time": "2022-09-23T14:21:01.653Z"
   },
   {
    "duration": 11,
    "start_time": "2022-09-23T14:21:14.360Z"
   },
   {
    "duration": 15,
    "start_time": "2022-09-23T14:21:54.183Z"
   },
   {
    "duration": 115,
    "start_time": "2022-09-23T14:22:08.018Z"
   },
   {
    "duration": 17,
    "start_time": "2022-09-23T14:22:08.210Z"
   },
   {
    "duration": 6,
    "start_time": "2022-09-23T14:22:09.426Z"
   },
   {
    "duration": 7,
    "start_time": "2022-09-23T14:22:09.713Z"
   },
   {
    "duration": 4,
    "start_time": "2022-09-23T14:22:10.210Z"
   },
   {
    "duration": 3,
    "start_time": "2022-09-23T14:22:10.775Z"
   },
   {
    "duration": 8,
    "start_time": "2022-09-23T14:22:11.248Z"
   },
   {
    "duration": 12,
    "start_time": "2022-09-23T14:22:14.336Z"
   },
   {
    "duration": 52,
    "start_time": "2022-09-23T14:22:20.117Z"
   },
   {
    "duration": 44,
    "start_time": "2022-09-23T14:23:24.250Z"
   },
   {
    "duration": 8,
    "start_time": "2022-09-23T14:23:46.627Z"
   },
   {
    "duration": 6,
    "start_time": "2022-09-23T14:23:58.677Z"
   },
   {
    "duration": 50,
    "start_time": "2022-09-23T14:24:03.292Z"
   },
   {
    "duration": 3,
    "start_time": "2022-09-23T14:27:36.329Z"
   },
   {
    "duration": 15,
    "start_time": "2022-09-23T14:28:06.042Z"
   },
   {
    "duration": 15,
    "start_time": "2022-09-23T14:30:36.208Z"
   },
   {
    "duration": 4,
    "start_time": "2022-09-23T14:31:06.792Z"
   },
   {
    "duration": 103,
    "start_time": "2022-09-23T14:33:22.412Z"
   },
   {
    "duration": 15,
    "start_time": "2022-09-23T14:33:22.716Z"
   },
   {
    "duration": 7,
    "start_time": "2022-09-23T14:33:24.611Z"
   },
   {
    "duration": 12,
    "start_time": "2022-09-23T14:33:25.098Z"
   },
   {
    "duration": 4,
    "start_time": "2022-09-23T14:33:25.890Z"
   },
   {
    "duration": 4,
    "start_time": "2022-09-23T14:33:28.635Z"
   },
   {
    "duration": 8,
    "start_time": "2022-09-23T14:33:29.451Z"
   },
   {
    "duration": 4,
    "start_time": "2022-09-23T14:33:30.602Z"
   },
   {
    "duration": 5,
    "start_time": "2022-09-23T14:33:31.943Z"
   },
   {
    "duration": 7,
    "start_time": "2022-09-23T14:33:33.992Z"
   },
   {
    "duration": 15,
    "start_time": "2022-09-23T14:33:39.582Z"
   },
   {
    "duration": 110,
    "start_time": "2022-09-23T14:34:06.515Z"
   },
   {
    "duration": 14,
    "start_time": "2022-09-23T14:34:06.778Z"
   },
   {
    "duration": 6,
    "start_time": "2022-09-23T14:34:07.650Z"
   },
   {
    "duration": 8,
    "start_time": "2022-09-23T14:34:08.009Z"
   },
   {
    "duration": 4,
    "start_time": "2022-09-23T14:34:08.441Z"
   },
   {
    "duration": 4,
    "start_time": "2022-09-23T14:34:09.185Z"
   },
   {
    "duration": 5,
    "start_time": "2022-09-23T14:34:09.657Z"
   },
   {
    "duration": 5,
    "start_time": "2022-09-23T14:34:10.264Z"
   },
   {
    "duration": 5,
    "start_time": "2022-09-23T14:34:10.840Z"
   },
   {
    "duration": 3,
    "start_time": "2022-09-23T14:34:11.568Z"
   },
   {
    "duration": 18,
    "start_time": "2022-09-23T14:34:12.464Z"
   },
   {
    "duration": 8,
    "start_time": "2022-09-23T14:38:36.793Z"
   },
   {
    "duration": 8,
    "start_time": "2022-09-23T14:39:45.147Z"
   },
   {
    "duration": 13,
    "start_time": "2022-09-23T14:41:13.976Z"
   },
   {
    "duration": 10,
    "start_time": "2022-09-23T14:41:26.491Z"
   },
   {
    "duration": 968,
    "start_time": "2022-09-23T14:41:30.170Z"
   },
   {
    "duration": 15,
    "start_time": "2022-09-23T14:41:56.487Z"
   },
   {
    "duration": 36,
    "start_time": "2022-09-23T14:42:33.642Z"
   },
   {
    "duration": 37,
    "start_time": "2022-09-23T14:42:38.213Z"
   },
   {
    "duration": 85,
    "start_time": "2022-09-23T14:43:23.301Z"
   },
   {
    "duration": 3,
    "start_time": "2022-09-23T14:44:15.551Z"
   },
   {
    "duration": 12,
    "start_time": "2022-09-23T14:44:15.806Z"
   },
   {
    "duration": 4,
    "start_time": "2022-09-23T14:44:16.006Z"
   },
   {
    "duration": 4,
    "start_time": "2022-09-23T14:44:16.190Z"
   },
   {
    "duration": 6,
    "start_time": "2022-09-23T14:44:16.391Z"
   },
   {
    "duration": 6,
    "start_time": "2022-09-23T14:44:16.839Z"
   },
   {
    "duration": 5,
    "start_time": "2022-09-23T14:44:17.558Z"
   },
   {
    "duration": 8,
    "start_time": "2022-09-23T14:44:18.038Z"
   },
   {
    "duration": 15,
    "start_time": "2022-09-23T14:44:19.390Z"
   },
   {
    "duration": 77,
    "start_time": "2022-09-23T14:44:38.528Z"
   },
   {
    "duration": 73,
    "start_time": "2022-09-23T14:44:47.980Z"
   },
   {
    "duration": 45,
    "start_time": "2022-09-23T14:45:17.654Z"
   },
   {
    "duration": 98,
    "start_time": "2022-09-23T14:45:24.740Z"
   },
   {
    "duration": 13,
    "start_time": "2022-09-23T14:45:24.931Z"
   },
   {
    "duration": 6,
    "start_time": "2022-09-23T14:45:25.596Z"
   },
   {
    "duration": 11,
    "start_time": "2022-09-23T14:45:25.852Z"
   },
   {
    "duration": 7,
    "start_time": "2022-09-23T14:45:26.107Z"
   },
   {
    "duration": 4,
    "start_time": "2022-09-23T14:45:26.587Z"
   },
   {
    "duration": 7,
    "start_time": "2022-09-23T14:45:27.123Z"
   },
   {
    "duration": 6,
    "start_time": "2022-09-23T14:45:27.587Z"
   },
   {
    "duration": 4,
    "start_time": "2022-09-23T14:45:28.227Z"
   },
   {
    "duration": 6,
    "start_time": "2022-09-23T14:45:28.673Z"
   },
   {
    "duration": 55,
    "start_time": "2022-09-23T14:45:29.538Z"
   },
   {
    "duration": 74,
    "start_time": "2022-09-23T14:45:36.400Z"
   },
   {
    "duration": 123,
    "start_time": "2022-09-23T14:45:57.704Z"
   },
   {
    "duration": 14,
    "start_time": "2022-09-23T14:45:57.909Z"
   },
   {
    "duration": 6,
    "start_time": "2022-09-23T14:45:58.695Z"
   },
   {
    "duration": 8,
    "start_time": "2022-09-23T14:45:58.926Z"
   },
   {
    "duration": 4,
    "start_time": "2022-09-23T14:45:59.341Z"
   },
   {
    "duration": 3,
    "start_time": "2022-09-23T14:45:59.845Z"
   },
   {
    "duration": 7,
    "start_time": "2022-09-23T14:46:00.332Z"
   },
   {
    "duration": 5,
    "start_time": "2022-09-23T14:46:00.821Z"
   },
   {
    "duration": 5,
    "start_time": "2022-09-23T14:46:01.493Z"
   },
   {
    "duration": 2,
    "start_time": "2022-09-23T14:46:01.973Z"
   },
   {
    "duration": 129,
    "start_time": "2022-09-23T14:46:15.432Z"
   },
   {
    "duration": 20,
    "start_time": "2022-09-23T14:46:15.629Z"
   },
   {
    "duration": 6,
    "start_time": "2022-09-23T14:46:16.712Z"
   },
   {
    "duration": 8,
    "start_time": "2022-09-23T14:46:17.095Z"
   },
   {
    "duration": 5,
    "start_time": "2022-09-23T14:46:17.717Z"
   },
   {
    "duration": 4,
    "start_time": "2022-09-23T14:46:18.373Z"
   },
   {
    "duration": 6,
    "start_time": "2022-09-23T14:46:18.853Z"
   },
   {
    "duration": 3,
    "start_time": "2022-09-23T14:46:19.541Z"
   },
   {
    "duration": 13,
    "start_time": "2022-09-23T14:46:22.085Z"
   },
   {
    "duration": 2,
    "start_time": "2022-09-23T14:46:26.307Z"
   },
   {
    "duration": 48,
    "start_time": "2022-09-23T14:46:27.620Z"
   },
   {
    "duration": 109,
    "start_time": "2022-09-23T14:46:52.576Z"
   },
   {
    "duration": 16,
    "start_time": "2022-09-23T14:46:52.776Z"
   },
   {
    "duration": 6,
    "start_time": "2022-09-23T14:46:53.440Z"
   },
   {
    "duration": 8,
    "start_time": "2022-09-23T14:46:53.745Z"
   },
   {
    "duration": 5,
    "start_time": "2022-09-23T14:46:54.017Z"
   },
   {
    "duration": 4,
    "start_time": "2022-09-23T14:46:54.313Z"
   },
   {
    "duration": 8,
    "start_time": "2022-09-23T14:46:54.751Z"
   },
   {
    "duration": 5,
    "start_time": "2022-09-23T14:46:55.495Z"
   },
   {
    "duration": 4,
    "start_time": "2022-09-23T14:46:56.119Z"
   },
   {
    "duration": 3,
    "start_time": "2022-09-23T14:47:01.172Z"
   },
   {
    "duration": 7,
    "start_time": "2022-09-23T14:47:01.717Z"
   },
   {
    "duration": 11,
    "start_time": "2022-09-23T14:47:02.669Z"
   },
   {
    "duration": 754,
    "start_time": "2022-09-24T07:23:06.646Z"
   },
   {
    "duration": 15,
    "start_time": "2022-09-24T07:23:07.402Z"
   },
   {
    "duration": 7,
    "start_time": "2022-09-24T07:23:08.416Z"
   },
   {
    "duration": 13,
    "start_time": "2022-09-24T07:39:21.985Z"
   },
   {
    "duration": 63,
    "start_time": "2022-09-24T07:40:56.576Z"
   },
   {
    "duration": 11,
    "start_time": "2022-09-24T07:41:19.876Z"
   },
   {
    "duration": 14,
    "start_time": "2022-09-24T07:41:31.504Z"
   },
   {
    "duration": 33,
    "start_time": "2022-09-24T08:02:40.205Z"
   },
   {
    "duration": 22,
    "start_time": "2022-09-24T08:03:14.763Z"
   },
   {
    "duration": 10,
    "start_time": "2022-09-24T08:18:05.831Z"
   },
   {
    "duration": 11,
    "start_time": "2022-09-24T08:18:19.978Z"
   },
   {
    "duration": 16,
    "start_time": "2022-09-24T08:18:43.759Z"
   },
   {
    "duration": 12,
    "start_time": "2022-09-24T08:19:43.087Z"
   },
   {
    "duration": 8,
    "start_time": "2022-09-24T08:20:05.966Z"
   },
   {
    "duration": 3,
    "start_time": "2022-09-24T08:26:47.721Z"
   },
   {
    "duration": 9,
    "start_time": "2022-09-24T08:27:46.881Z"
   },
   {
    "duration": 6,
    "start_time": "2022-09-24T08:28:44.573Z"
   },
   {
    "duration": 4,
    "start_time": "2022-09-24T08:29:18.650Z"
   },
   {
    "duration": 13,
    "start_time": "2022-09-24T08:32:35.187Z"
   },
   {
    "duration": 5,
    "start_time": "2022-09-24T08:33:26.400Z"
   },
   {
    "duration": 4,
    "start_time": "2022-09-24T08:34:03.574Z"
   },
   {
    "duration": 7,
    "start_time": "2022-09-24T08:35:03.825Z"
   },
   {
    "duration": 10,
    "start_time": "2022-09-24T08:36:51.834Z"
   },
   {
    "duration": 36,
    "start_time": "2022-09-24T08:38:40.927Z"
   },
   {
    "duration": 36,
    "start_time": "2022-09-24T08:40:13.604Z"
   },
   {
    "duration": 10,
    "start_time": "2022-09-24T08:40:17.722Z"
   },
   {
    "duration": 37,
    "start_time": "2022-09-24T08:40:42.642Z"
   },
   {
    "duration": 10,
    "start_time": "2022-09-24T08:47:03.382Z"
   },
   {
    "duration": 67,
    "start_time": "2022-09-24T08:47:14.137Z"
   },
   {
    "duration": 4,
    "start_time": "2022-09-24T08:48:34.971Z"
   },
   {
    "duration": 6,
    "start_time": "2022-09-24T08:49:52.939Z"
   },
   {
    "duration": 5,
    "start_time": "2022-09-24T08:49:53.431Z"
   },
   {
    "duration": 51,
    "start_time": "2022-09-24T08:49:54.030Z"
   },
   {
    "duration": 52,
    "start_time": "2022-09-24T08:53:00.302Z"
   },
   {
    "duration": 6,
    "start_time": "2022-09-24T08:53:06.916Z"
   },
   {
    "duration": 52,
    "start_time": "2022-09-24T09:12:40.221Z"
   },
   {
    "duration": 4,
    "start_time": "2022-09-24T09:13:25.274Z"
   },
   {
    "duration": 937,
    "start_time": "2022-09-24T09:14:37.018Z"
   },
   {
    "duration": 768,
    "start_time": "2022-09-24T09:14:56.506Z"
   },
   {
    "duration": 1009,
    "start_time": "2022-09-24T09:16:02.192Z"
   },
   {
    "duration": 7,
    "start_time": "2022-09-24T09:18:16.834Z"
   },
   {
    "duration": 4,
    "start_time": "2022-09-24T09:18:22.153Z"
   },
   {
    "duration": 8,
    "start_time": "2022-09-24T09:18:23.991Z"
   },
   {
    "duration": 55,
    "start_time": "2022-09-24T09:18:30.276Z"
   },
   {
    "duration": 378,
    "start_time": "2022-09-24T09:23:17.248Z"
   },
   {
    "duration": 3,
    "start_time": "2022-09-24T09:23:38.980Z"
   },
   {
    "duration": 4,
    "start_time": "2022-09-24T09:26:19.926Z"
   },
   {
    "duration": 6,
    "start_time": "2022-09-24T09:26:30.734Z"
   },
   {
    "duration": 4,
    "start_time": "2022-09-24T09:27:13.709Z"
   },
   {
    "duration": 290,
    "start_time": "2022-09-24T09:36:21.896Z"
   },
   {
    "duration": 6,
    "start_time": "2022-09-24T09:37:04.845Z"
   },
   {
    "duration": 750,
    "start_time": "2022-09-24T09:46:04.671Z"
   },
   {
    "duration": 276,
    "start_time": "2022-09-24T09:46:37.213Z"
   },
   {
    "duration": 206,
    "start_time": "2022-09-24T09:46:57.222Z"
   },
   {
    "duration": 209,
    "start_time": "2022-09-24T09:48:11.751Z"
   },
   {
    "duration": 254,
    "start_time": "2022-09-24T09:48:20.116Z"
   },
   {
    "duration": 250,
    "start_time": "2022-09-24T09:48:32.134Z"
   },
   {
    "duration": 227,
    "start_time": "2022-09-24T09:48:39.219Z"
   },
   {
    "duration": 309,
    "start_time": "2022-09-24T09:49:57.165Z"
   },
   {
    "duration": 327,
    "start_time": "2022-09-24T09:50:10.535Z"
   },
   {
    "duration": 239,
    "start_time": "2022-09-24T09:50:17.724Z"
   },
   {
    "duration": 237,
    "start_time": "2022-09-24T09:50:39.000Z"
   },
   {
    "duration": 239,
    "start_time": "2022-09-24T09:54:25.579Z"
   },
   {
    "duration": 249,
    "start_time": "2022-09-24T09:56:16.806Z"
   },
   {
    "duration": 976,
    "start_time": "2022-09-24T09:56:57.701Z"
   },
   {
    "duration": 329,
    "start_time": "2022-09-24T09:57:09.249Z"
   },
   {
    "duration": 1827,
    "start_time": "2022-09-24T10:01:39.322Z"
   },
   {
    "duration": 351,
    "start_time": "2022-09-24T10:02:01.332Z"
   },
   {
    "duration": 338,
    "start_time": "2022-09-24T10:02:10.872Z"
   },
   {
    "duration": 1868,
    "start_time": "2022-09-24T10:02:36.022Z"
   },
   {
    "duration": 356,
    "start_time": "2022-09-24T10:02:47.617Z"
   },
   {
    "duration": 309,
    "start_time": "2022-09-24T10:07:15.973Z"
   },
   {
    "duration": 388,
    "start_time": "2022-09-24T10:07:24.694Z"
   },
   {
    "duration": 269,
    "start_time": "2022-09-24T10:07:32.512Z"
   },
   {
    "duration": 189,
    "start_time": "2022-09-24T10:07:55.958Z"
   },
   {
    "duration": 636,
    "start_time": "2022-09-24T10:08:08.894Z"
   },
   {
    "duration": 611,
    "start_time": "2022-09-24T10:08:27.250Z"
   },
   {
    "duration": 538,
    "start_time": "2022-09-24T10:09:55.478Z"
   },
   {
    "duration": 351,
    "start_time": "2022-09-24T10:10:05.307Z"
   },
   {
    "duration": 186,
    "start_time": "2022-09-24T10:10:13.847Z"
   },
   {
    "duration": 258,
    "start_time": "2022-09-24T10:10:25.338Z"
   },
   {
    "duration": 261,
    "start_time": "2022-09-24T10:10:48.146Z"
   },
   {
    "duration": 246,
    "start_time": "2022-09-24T10:35:31.928Z"
   },
   {
    "duration": 331,
    "start_time": "2022-09-24T10:35:55.830Z"
   },
   {
    "duration": 15,
    "start_time": "2022-09-24T10:36:48.248Z"
   },
   {
    "duration": 1323,
    "start_time": "2022-09-24T10:43:44.203Z"
   },
   {
    "duration": 3,
    "start_time": "2022-09-24T10:50:19.206Z"
   },
   {
    "duration": 4,
    "start_time": "2022-09-24T10:50:58.445Z"
   },
   {
    "duration": 248,
    "start_time": "2022-09-24T10:51:09.593Z"
   },
   {
    "duration": 259,
    "start_time": "2022-09-24T10:53:04.174Z"
   },
   {
    "duration": 306,
    "start_time": "2022-09-24T10:54:33.880Z"
   },
   {
    "duration": 217,
    "start_time": "2022-09-24T10:54:46.488Z"
   },
   {
    "duration": 214,
    "start_time": "2022-09-24T10:55:01.891Z"
   },
   {
    "duration": 249,
    "start_time": "2022-09-24T10:55:21.235Z"
   },
   {
    "duration": 288,
    "start_time": "2022-09-24T10:55:30.847Z"
   },
   {
    "duration": 215,
    "start_time": "2022-09-24T10:55:42.779Z"
   },
   {
    "duration": 234,
    "start_time": "2022-09-24T10:55:55.437Z"
   },
   {
    "duration": 216,
    "start_time": "2022-09-24T10:56:03.699Z"
   },
   {
    "duration": 330,
    "start_time": "2022-09-24T10:56:11.587Z"
   },
   {
    "duration": 218,
    "start_time": "2022-09-24T10:56:21.979Z"
   },
   {
    "duration": 220,
    "start_time": "2022-09-24T11:00:17.126Z"
   },
   {
    "duration": 221,
    "start_time": "2022-09-24T11:00:37.436Z"
   },
   {
    "duration": 296,
    "start_time": "2022-09-24T11:01:05.659Z"
   },
   {
    "duration": 225,
    "start_time": "2022-09-24T11:04:37.869Z"
   },
   {
    "duration": 1098,
    "start_time": "2022-09-24T11:16:34.000Z"
   },
   {
    "duration": 240,
    "start_time": "2022-09-24T11:17:40.602Z"
   },
   {
    "duration": 287,
    "start_time": "2022-09-24T11:17:43.800Z"
   },
   {
    "duration": 275,
    "start_time": "2022-09-24T11:17:53.140Z"
   },
   {
    "duration": 16,
    "start_time": "2022-09-24T11:18:07.118Z"
   },
   {
    "duration": 215,
    "start_time": "2022-09-24T11:18:32.521Z"
   },
   {
    "duration": 27,
    "start_time": "2022-09-24T11:19:23.273Z"
   },
   {
    "duration": 246,
    "start_time": "2022-09-24T11:21:05.984Z"
   },
   {
    "duration": 261,
    "start_time": "2022-09-24T11:21:56.005Z"
   },
   {
    "duration": 337,
    "start_time": "2022-09-24T11:22:14.124Z"
   },
   {
    "duration": 250,
    "start_time": "2022-09-24T11:26:23.993Z"
   },
   {
    "duration": 233,
    "start_time": "2022-09-24T11:27:18.363Z"
   },
   {
    "duration": 305,
    "start_time": "2022-09-24T11:27:49.638Z"
   },
   {
    "duration": 199,
    "start_time": "2022-09-24T11:27:57.459Z"
   },
   {
    "duration": 233,
    "start_time": "2022-09-24T11:28:04.344Z"
   },
   {
    "duration": 97,
    "start_time": "2022-09-24T11:28:50.712Z"
   },
   {
    "duration": 218,
    "start_time": "2022-09-24T11:29:04.471Z"
   },
   {
    "duration": 231,
    "start_time": "2022-09-24T11:29:14.124Z"
   },
   {
    "duration": 229,
    "start_time": "2022-09-24T11:29:22.273Z"
   },
   {
    "duration": 343,
    "start_time": "2022-09-24T11:29:39.465Z"
   },
   {
    "duration": 248,
    "start_time": "2022-09-24T11:29:43.000Z"
   },
   {
    "duration": 315,
    "start_time": "2022-09-24T11:30:51.659Z"
   },
   {
    "duration": 355,
    "start_time": "2022-09-24T11:31:12.085Z"
   },
   {
    "duration": 341,
    "start_time": "2022-09-24T11:32:04.152Z"
   },
   {
    "duration": 327,
    "start_time": "2022-09-24T11:32:13.634Z"
   },
   {
    "duration": 441,
    "start_time": "2022-09-24T11:32:22.305Z"
   },
   {
    "duration": 186,
    "start_time": "2022-09-24T11:34:49.989Z"
   },
   {
    "duration": 240,
    "start_time": "2022-09-24T11:35:02.848Z"
   },
   {
    "duration": 203,
    "start_time": "2022-09-24T11:35:10.899Z"
   },
   {
    "duration": 254,
    "start_time": "2022-09-24T11:35:30.292Z"
   },
   {
    "duration": 246,
    "start_time": "2022-09-24T11:36:16.713Z"
   },
   {
    "duration": 230,
    "start_time": "2022-09-24T11:36:26.285Z"
   },
   {
    "duration": 46,
    "start_time": "2022-09-24T11:36:53.507Z"
   },
   {
    "duration": 199,
    "start_time": "2022-09-24T11:37:18.880Z"
   },
   {
    "duration": 302,
    "start_time": "2022-09-24T11:37:29.484Z"
   },
   {
    "duration": 216,
    "start_time": "2022-09-24T11:42:18.305Z"
   },
   {
    "duration": 181,
    "start_time": "2022-09-24T11:42:26.596Z"
   },
   {
    "duration": 166,
    "start_time": "2022-09-24T11:42:48.516Z"
   },
   {
    "duration": 273,
    "start_time": "2022-09-24T11:42:56.048Z"
   },
   {
    "duration": 251,
    "start_time": "2022-09-24T11:43:07.891Z"
   },
   {
    "duration": 248,
    "start_time": "2022-09-24T11:43:27.443Z"
   },
   {
    "duration": 256,
    "start_time": "2022-09-24T11:43:40.350Z"
   },
   {
    "duration": 371,
    "start_time": "2022-09-24T11:44:09.953Z"
   },
   {
    "duration": 45,
    "start_time": "2022-09-24T11:44:19.657Z"
   },
   {
    "duration": 19,
    "start_time": "2022-09-24T11:45:14.465Z"
   },
   {
    "duration": 17,
    "start_time": "2022-09-24T11:45:28.722Z"
   },
   {
    "duration": 321,
    "start_time": "2022-09-24T11:49:22.956Z"
   },
   {
    "duration": 305,
    "start_time": "2022-09-24T11:49:49.483Z"
   },
   {
    "duration": 320,
    "start_time": "2022-09-24T11:50:16.096Z"
   },
   {
    "duration": 309,
    "start_time": "2022-09-24T11:50:31.081Z"
   },
   {
    "duration": 319,
    "start_time": "2022-09-24T11:50:57.535Z"
   },
   {
    "duration": 402,
    "start_time": "2022-09-24T11:52:16.255Z"
   },
   {
    "duration": 296,
    "start_time": "2022-09-24T11:52:28.001Z"
   },
   {
    "duration": 306,
    "start_time": "2022-09-24T11:52:59.253Z"
   },
   {
    "duration": 303,
    "start_time": "2022-09-24T11:53:26.853Z"
   },
   {
    "duration": 312,
    "start_time": "2022-09-24T11:57:25.754Z"
   },
   {
    "duration": 46,
    "start_time": "2022-09-24T11:59:49.979Z"
   },
   {
    "duration": 48,
    "start_time": "2022-09-24T11:59:52.969Z"
   },
   {
    "duration": 422,
    "start_time": "2022-09-24T12:04:06.851Z"
   },
   {
    "duration": 312,
    "start_time": "2022-09-24T12:05:27.730Z"
   },
   {
    "duration": 355,
    "start_time": "2022-09-24T12:05:34.600Z"
   },
   {
    "duration": 13,
    "start_time": "2022-09-24T12:08:36.805Z"
   },
   {
    "duration": 321,
    "start_time": "2022-09-24T12:10:45.993Z"
   },
   {
    "duration": 346,
    "start_time": "2022-09-24T12:11:25.154Z"
   },
   {
    "duration": 147,
    "start_time": "2022-09-24T12:11:36.070Z"
   },
   {
    "duration": 150,
    "start_time": "2022-09-24T12:11:56.310Z"
   },
   {
    "duration": 167,
    "start_time": "2022-09-24T12:12:42.147Z"
   },
   {
    "duration": 161,
    "start_time": "2022-09-24T12:13:18.299Z"
   },
   {
    "duration": 953,
    "start_time": "2022-09-24T12:15:06.866Z"
   },
   {
    "duration": 158,
    "start_time": "2022-09-24T12:15:18.029Z"
   },
   {
    "duration": 162,
    "start_time": "2022-09-24T12:15:44.985Z"
   },
   {
    "duration": 182,
    "start_time": "2022-09-24T12:16:10.079Z"
   },
   {
    "duration": 274,
    "start_time": "2022-09-24T12:18:27.740Z"
   },
   {
    "duration": 25,
    "start_time": "2022-09-24T12:26:46.880Z"
   },
   {
    "duration": 42,
    "start_time": "2022-09-24T12:28:04.194Z"
   },
   {
    "duration": 58,
    "start_time": "2022-09-24T12:28:35.566Z"
   },
   {
    "duration": 217,
    "start_time": "2022-09-24T12:28:54.732Z"
   },
   {
    "duration": 191,
    "start_time": "2022-09-24T12:29:06.418Z"
   },
   {
    "duration": 188,
    "start_time": "2022-09-24T12:29:22.769Z"
   },
   {
    "duration": 189,
    "start_time": "2022-09-24T12:29:47.111Z"
   },
   {
    "duration": 196,
    "start_time": "2022-09-24T12:30:10.617Z"
   },
   {
    "duration": 137,
    "start_time": "2022-09-24T12:31:04.611Z"
   },
   {
    "duration": 183,
    "start_time": "2022-09-24T12:31:14.221Z"
   },
   {
    "duration": 199,
    "start_time": "2022-09-24T12:31:33.973Z"
   },
   {
    "duration": 212,
    "start_time": "2022-09-24T12:32:53.798Z"
   },
   {
    "duration": 207,
    "start_time": "2022-09-24T12:33:03.067Z"
   },
   {
    "duration": 216,
    "start_time": "2022-09-24T12:34:54.356Z"
   },
   {
    "duration": 200,
    "start_time": "2022-09-24T12:35:06.248Z"
   },
   {
    "duration": 20,
    "start_time": "2022-09-24T12:41:46.503Z"
   },
   {
    "duration": 17,
    "start_time": "2022-09-24T12:42:14.054Z"
   },
   {
    "duration": 1606,
    "start_time": "2022-09-24T12:43:14.596Z"
   },
   {
    "duration": 1054,
    "start_time": "2022-09-24T12:43:39.848Z"
   },
   {
    "duration": 852,
    "start_time": "2022-09-24T12:44:06.814Z"
   },
   {
    "duration": 18,
    "start_time": "2022-09-24T12:44:16.562Z"
   },
   {
    "duration": 1152,
    "start_time": "2022-09-24T12:44:25.439Z"
   },
   {
    "duration": 16,
    "start_time": "2022-09-24T12:44:31.244Z"
   },
   {
    "duration": 73,
    "start_time": "2022-09-24T12:46:07.853Z"
   },
   {
    "duration": 80,
    "start_time": "2022-09-24T12:46:45.541Z"
   },
   {
    "duration": 714,
    "start_time": "2022-09-24T12:46:52.348Z"
   },
   {
    "duration": 18,
    "start_time": "2022-09-24T12:47:13.084Z"
   },
   {
    "duration": 204,
    "start_time": "2022-09-24T12:47:40.232Z"
   },
   {
    "duration": 12,
    "start_time": "2022-09-24T12:48:20.697Z"
   },
   {
    "duration": 20,
    "start_time": "2022-09-24T12:48:24.271Z"
   },
   {
    "duration": 25,
    "start_time": "2022-09-24T12:48:57.571Z"
   },
   {
    "duration": 19,
    "start_time": "2022-09-24T12:49:45.535Z"
   },
   {
    "duration": 20,
    "start_time": "2022-09-24T12:51:27.500Z"
   },
   {
    "duration": 37,
    "start_time": "2022-09-24T12:51:36.474Z"
   },
   {
    "duration": 1154,
    "start_time": "2022-09-24T12:57:28.020Z"
   },
   {
    "duration": 158,
    "start_time": "2022-09-24T13:00:39.687Z"
   },
   {
    "duration": 66,
    "start_time": "2022-09-24T13:00:54.130Z"
   },
   {
    "duration": 28,
    "start_time": "2022-09-24T13:01:00.342Z"
   },
   {
    "duration": 142,
    "start_time": "2022-09-24T13:01:15.793Z"
   },
   {
    "duration": 1012,
    "start_time": "2022-09-24T13:01:42.670Z"
   },
   {
    "duration": 20,
    "start_time": "2022-09-24T13:01:51.227Z"
   },
   {
    "duration": 22,
    "start_time": "2022-09-24T13:03:29.448Z"
   },
   {
    "duration": 23,
    "start_time": "2022-09-24T13:03:42.549Z"
   },
   {
    "duration": 11,
    "start_time": "2022-09-24T13:03:52.595Z"
   },
   {
    "duration": 21,
    "start_time": "2022-09-24T13:03:55.576Z"
   },
   {
    "duration": 22,
    "start_time": "2022-09-24T13:04:48.652Z"
   },
   {
    "duration": 17,
    "start_time": "2022-09-24T13:05:48.468Z"
   },
   {
    "duration": 24,
    "start_time": "2022-09-24T13:05:59.264Z"
   },
   {
    "duration": 18,
    "start_time": "2022-09-24T13:06:45.846Z"
   },
   {
    "duration": 210,
    "start_time": "2022-09-24T13:10:07.925Z"
   },
   {
    "duration": 188,
    "start_time": "2022-09-24T13:10:54.009Z"
   },
   {
    "duration": 14,
    "start_time": "2022-09-24T13:17:55.275Z"
   },
   {
    "duration": 19,
    "start_time": "2022-09-24T13:19:54.778Z"
   },
   {
    "duration": 205,
    "start_time": "2022-09-24T13:23:23.200Z"
   },
   {
    "duration": 17,
    "start_time": "2022-09-24T13:24:40.805Z"
   },
   {
    "duration": 882,
    "start_time": "2022-09-24T14:02:08.005Z"
   },
   {
    "duration": 21,
    "start_time": "2022-09-24T14:02:26.331Z"
   },
   {
    "duration": 18,
    "start_time": "2022-09-24T14:02:36.654Z"
   },
   {
    "duration": 269,
    "start_time": "2022-09-24T14:02:46.595Z"
   },
   {
    "duration": 145,
    "start_time": "2022-09-24T14:03:25.167Z"
   },
   {
    "duration": 133,
    "start_time": "2022-09-24T14:03:27.611Z"
   },
   {
    "duration": 56,
    "start_time": "2022-09-24T14:04:36.486Z"
   },
   {
    "duration": 152,
    "start_time": "2022-09-24T14:05:19.846Z"
   },
   {
    "duration": 728,
    "start_time": "2022-09-24T15:53:23.321Z"
   },
   {
    "duration": 13,
    "start_time": "2022-09-24T15:53:24.051Z"
   },
   {
    "duration": 3,
    "start_time": "2022-09-24T15:53:24.066Z"
   },
   {
    "duration": 5,
    "start_time": "2022-09-24T15:53:24.459Z"
   },
   {
    "duration": 7,
    "start_time": "2022-09-24T15:53:24.880Z"
   },
   {
    "duration": 5,
    "start_time": "2022-09-24T15:53:25.321Z"
   },
   {
    "duration": 3,
    "start_time": "2022-09-24T15:53:25.689Z"
   },
   {
    "duration": 12,
    "start_time": "2022-09-24T15:53:26.081Z"
   },
   {
    "duration": 5,
    "start_time": "2022-09-24T15:53:26.489Z"
   },
   {
    "duration": 4,
    "start_time": "2022-09-24T15:53:26.906Z"
   },
   {
    "duration": 7,
    "start_time": "2022-09-24T15:53:27.320Z"
   },
   {
    "duration": 10,
    "start_time": "2022-09-24T15:53:27.792Z"
   },
   {
    "duration": 32,
    "start_time": "2022-09-24T15:53:28.232Z"
   },
   {
    "duration": 4,
    "start_time": "2022-09-24T15:53:28.936Z"
   },
   {
    "duration": 6,
    "start_time": "2022-09-24T15:53:29.192Z"
   },
   {
    "duration": 5,
    "start_time": "2022-09-24T15:53:29.432Z"
   },
   {
    "duration": 6,
    "start_time": "2022-09-24T15:53:29.624Z"
   },
   {
    "duration": 3,
    "start_time": "2022-09-24T15:53:29.849Z"
   },
   {
    "duration": 297,
    "start_time": "2022-09-24T15:53:30.608Z"
   },
   {
    "duration": 206,
    "start_time": "2022-09-24T15:53:31.086Z"
   },
   {
    "duration": 22,
    "start_time": "2022-09-24T15:53:31.551Z"
   },
   {
    "duration": 640,
    "start_time": "2022-09-24T15:53:36.317Z"
   },
   {
    "duration": 231,
    "start_time": "2022-09-24T15:53:36.959Z"
   },
   {
    "duration": 45,
    "start_time": "2022-09-24T15:53:37.192Z"
   },
   {
    "duration": 0,
    "start_time": "2022-09-24T15:53:37.239Z"
   },
   {
    "duration": 299,
    "start_time": "2022-09-24T15:53:37.572Z"
   },
   {
    "duration": 44,
    "start_time": "2022-09-24T15:53:37.873Z"
   },
   {
    "duration": 221,
    "start_time": "2022-09-24T15:53:38.436Z"
   },
   {
    "duration": 213,
    "start_time": "2022-09-24T15:53:41.348Z"
   },
   {
    "duration": 206,
    "start_time": "2022-09-24T15:53:51.391Z"
   },
   {
    "duration": 347,
    "start_time": "2022-09-24T15:53:52.368Z"
   },
   {
    "duration": 254,
    "start_time": "2022-09-24T15:53:54.479Z"
   },
   {
    "duration": 265,
    "start_time": "2022-09-24T15:53:55.773Z"
   },
   {
    "duration": 133,
    "start_time": "2022-09-24T15:54:02.908Z"
   },
   {
    "duration": 133,
    "start_time": "2022-09-24T15:54:11.248Z"
   },
   {
    "duration": 46,
    "start_time": "2022-09-24T15:56:37.997Z"
   },
   {
    "duration": 121,
    "start_time": "2022-09-24T16:01:35.646Z"
   },
   {
    "duration": 122,
    "start_time": "2022-09-24T16:15:12.760Z"
   },
   {
    "duration": 73,
    "start_time": "2022-09-24T16:15:50.970Z"
   },
   {
    "duration": 115,
    "start_time": "2022-09-24T16:16:53.201Z"
   },
   {
    "duration": 125,
    "start_time": "2022-09-24T16:21:02.444Z"
   },
   {
    "duration": 172,
    "start_time": "2022-09-24T16:21:33.936Z"
   },
   {
    "duration": 118,
    "start_time": "2022-09-24T16:27:21.526Z"
   },
   {
    "duration": 69,
    "start_time": "2022-09-24T16:27:22.548Z"
   },
   {
    "duration": 131,
    "start_time": "2022-09-24T16:27:48.443Z"
   },
   {
    "duration": 142,
    "start_time": "2022-09-24T16:28:03.133Z"
   },
   {
    "duration": 57,
    "start_time": "2022-09-24T16:28:31.114Z"
   },
   {
    "duration": 119,
    "start_time": "2022-09-24T16:28:37.887Z"
   },
   {
    "duration": 121,
    "start_time": "2022-09-24T16:29:42.917Z"
   },
   {
    "duration": 164,
    "start_time": "2022-09-24T16:30:51.226Z"
   },
   {
    "duration": 144,
    "start_time": "2022-09-24T16:33:18.605Z"
   },
   {
    "duration": 85,
    "start_time": "2022-09-24T16:36:07.945Z"
   },
   {
    "duration": 128,
    "start_time": "2022-09-24T16:36:49.474Z"
   },
   {
    "duration": 69,
    "start_time": "2022-09-24T16:41:37.366Z"
   },
   {
    "duration": 5,
    "start_time": "2022-09-24T16:43:44.285Z"
   },
   {
    "duration": 4,
    "start_time": "2022-09-24T16:46:16.252Z"
   },
   {
    "duration": 24,
    "start_time": "2022-09-24T16:46:38.800Z"
   },
   {
    "duration": 85,
    "start_time": "2022-09-24T16:47:53.030Z"
   },
   {
    "duration": 26,
    "start_time": "2022-09-24T16:48:07.275Z"
   },
   {
    "duration": 15,
    "start_time": "2022-09-24T16:48:09.874Z"
   },
   {
    "duration": 22,
    "start_time": "2022-09-24T16:48:15.544Z"
   },
   {
    "duration": 21,
    "start_time": "2022-09-24T16:48:36.689Z"
   },
   {
    "duration": 22,
    "start_time": "2022-09-24T16:49:27.355Z"
   },
   {
    "duration": 20,
    "start_time": "2022-09-24T16:49:51.210Z"
   },
   {
    "duration": 21,
    "start_time": "2022-09-24T16:50:47.555Z"
   },
   {
    "duration": 21,
    "start_time": "2022-09-24T16:53:51.941Z"
   },
   {
    "duration": 20,
    "start_time": "2022-09-24T16:54:15.311Z"
   },
   {
    "duration": 737,
    "start_time": "2022-09-24T16:54:46.483Z"
   },
   {
    "duration": 64,
    "start_time": "2022-09-25T07:22:47.109Z"
   },
   {
    "duration": 45,
    "start_time": "2022-09-25T07:22:53.416Z"
   },
   {
    "duration": 80,
    "start_time": "2022-09-25T07:23:11.374Z"
   },
   {
    "duration": 48,
    "start_time": "2022-09-25T07:23:15.078Z"
   },
   {
    "duration": 4,
    "start_time": "2022-09-25T07:26:35.246Z"
   },
   {
    "duration": 44,
    "start_time": "2022-09-25T07:32:15.537Z"
   },
   {
    "duration": 781,
    "start_time": "2022-09-25T07:36:17.724Z"
   },
   {
    "duration": 63,
    "start_time": "2022-09-25T07:54:29.355Z"
   },
   {
    "duration": 18,
    "start_time": "2022-09-25T08:09:37.858Z"
   },
   {
    "duration": 162,
    "start_time": "2022-09-25T08:17:00.120Z"
   },
   {
    "duration": 68,
    "start_time": "2022-09-25T08:17:22.503Z"
   },
   {
    "duration": 62,
    "start_time": "2022-09-25T08:17:55.682Z"
   },
   {
    "duration": 73,
    "start_time": "2022-09-25T08:18:17.538Z"
   },
   {
    "duration": 47,
    "start_time": "2022-09-25T08:18:46.942Z"
   },
   {
    "duration": 62,
    "start_time": "2022-09-25T08:19:34.875Z"
   },
   {
    "duration": 51,
    "start_time": "2022-09-25T08:19:57.187Z"
   },
   {
    "duration": 217,
    "start_time": "2022-09-25T08:20:12.580Z"
   },
   {
    "duration": 239,
    "start_time": "2022-09-25T08:20:28.053Z"
   },
   {
    "duration": 1009,
    "start_time": "2022-09-25T08:20:31.133Z"
   },
   {
    "duration": 46,
    "start_time": "2022-09-25T08:21:18.427Z"
   },
   {
    "duration": 220,
    "start_time": "2022-09-25T08:21:32.316Z"
   },
   {
    "duration": 125,
    "start_time": "2022-09-25T08:29:15.960Z"
   },
   {
    "duration": 16,
    "start_time": "2022-09-25T08:29:19.704Z"
   },
   {
    "duration": 5,
    "start_time": "2022-09-25T08:29:27.150Z"
   },
   {
    "duration": 7,
    "start_time": "2022-09-25T08:29:27.862Z"
   },
   {
    "duration": 8,
    "start_time": "2022-09-25T08:29:28.405Z"
   },
   {
    "duration": 5,
    "start_time": "2022-09-25T08:29:32.195Z"
   },
   {
    "duration": 8,
    "start_time": "2022-09-25T08:29:35.603Z"
   },
   {
    "duration": 13,
    "start_time": "2022-09-25T08:40:53.527Z"
   },
   {
    "duration": 7,
    "start_time": "2022-09-25T08:45:35.231Z"
   },
   {
    "duration": 34,
    "start_time": "2022-09-25T08:46:51.836Z"
   },
   {
    "duration": 12,
    "start_time": "2022-09-25T08:48:05.776Z"
   },
   {
    "duration": 7,
    "start_time": "2022-09-25T08:48:11.892Z"
   },
   {
    "duration": 3,
    "start_time": "2022-09-25T08:53:48.601Z"
   },
   {
    "duration": 3,
    "start_time": "2022-09-25T08:55:01.737Z"
   },
   {
    "duration": 4,
    "start_time": "2022-09-25T08:55:51.157Z"
   },
   {
    "duration": 3,
    "start_time": "2022-09-25T08:56:10.581Z"
   },
   {
    "duration": 4,
    "start_time": "2022-09-25T08:56:29.533Z"
   },
   {
    "duration": 3,
    "start_time": "2022-09-25T08:56:46.646Z"
   },
   {
    "duration": 3,
    "start_time": "2022-09-25T08:57:05.463Z"
   },
   {
    "duration": 4,
    "start_time": "2022-09-25T08:57:29.845Z"
   },
   {
    "duration": 3,
    "start_time": "2022-09-25T08:58:42.104Z"
   },
   {
    "duration": 5,
    "start_time": "2022-09-25T08:58:55.442Z"
   },
   {
    "duration": 5,
    "start_time": "2022-09-25T08:59:27.990Z"
   },
   {
    "duration": 114,
    "start_time": "2022-09-25T08:59:37.021Z"
   },
   {
    "duration": 13,
    "start_time": "2022-09-25T08:59:38.273Z"
   },
   {
    "duration": 4,
    "start_time": "2022-09-25T08:59:40.096Z"
   },
   {
    "duration": 5,
    "start_time": "2022-09-25T08:59:40.512Z"
   },
   {
    "duration": 6,
    "start_time": "2022-09-25T08:59:40.921Z"
   },
   {
    "duration": 4,
    "start_time": "2022-09-25T08:59:41.402Z"
   },
   {
    "duration": 6,
    "start_time": "2022-09-25T08:59:43.326Z"
   },
   {
    "duration": 7,
    "start_time": "2022-09-25T09:00:17.450Z"
   },
   {
    "duration": 7,
    "start_time": "2022-09-25T09:00:22.984Z"
   },
   {
    "duration": 6,
    "start_time": "2022-09-25T09:00:26.949Z"
   },
   {
    "duration": 6,
    "start_time": "2022-09-25T09:00:33.219Z"
   },
   {
    "duration": 17,
    "start_time": "2022-09-25T09:13:24.743Z"
   },
   {
    "duration": 8,
    "start_time": "2022-09-25T09:13:39.290Z"
   },
   {
    "duration": 17,
    "start_time": "2022-09-25T09:14:17.499Z"
   },
   {
    "duration": 15,
    "start_time": "2022-09-25T09:15:40.322Z"
   },
   {
    "duration": 17,
    "start_time": "2022-09-25T09:15:48.311Z"
   },
   {
    "duration": 16,
    "start_time": "2022-09-25T09:16:45.391Z"
   },
   {
    "duration": 17,
    "start_time": "2022-09-25T09:16:50.453Z"
   },
   {
    "duration": 16,
    "start_time": "2022-09-25T09:17:02.929Z"
   },
   {
    "duration": 24,
    "start_time": "2022-09-25T09:17:09.542Z"
   },
   {
    "duration": 19,
    "start_time": "2022-09-25T09:17:19.210Z"
   },
   {
    "duration": 64,
    "start_time": "2022-09-25T09:19:36.985Z"
   },
   {
    "duration": 14,
    "start_time": "2022-09-25T09:41:12.053Z"
   },
   {
    "duration": 13,
    "start_time": "2022-09-25T09:41:28.008Z"
   },
   {
    "duration": 11,
    "start_time": "2022-09-25T09:42:07.464Z"
   },
   {
    "duration": 113,
    "start_time": "2022-09-25T09:42:40.830Z"
   },
   {
    "duration": 14,
    "start_time": "2022-09-25T09:42:41.401Z"
   },
   {
    "duration": 4,
    "start_time": "2022-09-25T09:42:42.376Z"
   },
   {
    "duration": 5,
    "start_time": "2022-09-25T09:42:42.776Z"
   },
   {
    "duration": 7,
    "start_time": "2022-09-25T09:42:43.168Z"
   },
   {
    "duration": 4,
    "start_time": "2022-09-25T09:42:43.568Z"
   },
   {
    "duration": 10,
    "start_time": "2022-09-25T09:42:44.215Z"
   },
   {
    "duration": 22,
    "start_time": "2022-09-25T09:42:45.079Z"
   },
   {
    "duration": 299,
    "start_time": "2022-09-25T09:42:45.895Z"
   },
   {
    "duration": 4,
    "start_time": "2022-09-25T09:42:46.711Z"
   },
   {
    "duration": 7,
    "start_time": "2022-09-25T09:42:47.151Z"
   },
   {
    "duration": 11,
    "start_time": "2022-09-25T09:42:48.133Z"
   },
   {
    "duration": 34,
    "start_time": "2022-09-25T09:42:49.309Z"
   },
   {
    "duration": 206,
    "start_time": "2022-09-25T09:43:09.927Z"
   },
   {
    "duration": 28,
    "start_time": "2022-09-25T09:43:11.981Z"
   },
   {
    "duration": 143,
    "start_time": "2022-09-25T09:43:14.444Z"
   },
   {
    "duration": 9,
    "start_time": "2022-09-25T09:43:28.992Z"
   },
   {
    "duration": 9,
    "start_time": "2022-09-25T09:43:31.500Z"
   },
   {
    "duration": 18,
    "start_time": "2022-09-25T09:43:46.672Z"
   },
   {
    "duration": 67,
    "start_time": "2022-09-25T09:43:57.196Z"
   },
   {
    "duration": 23,
    "start_time": "2022-09-25T09:45:26.996Z"
   },
   {
    "duration": 24,
    "start_time": "2022-09-25T09:46:07.928Z"
   },
   {
    "duration": 21,
    "start_time": "2022-09-25T09:46:21.051Z"
   },
   {
    "duration": 25,
    "start_time": "2022-09-25T09:46:36.700Z"
   },
   {
    "duration": 24,
    "start_time": "2022-09-25T09:46:41.217Z"
   },
   {
    "duration": 22,
    "start_time": "2022-09-25T09:50:27.097Z"
   },
   {
    "duration": 13,
    "start_time": "2022-09-25T09:53:21.082Z"
   },
   {
    "duration": 22,
    "start_time": "2022-09-25T09:54:19.863Z"
   },
   {
    "duration": 23,
    "start_time": "2022-09-25T09:54:38.826Z"
   },
   {
    "duration": 7,
    "start_time": "2022-09-25T09:58:21.260Z"
   },
   {
    "duration": 92,
    "start_time": "2022-09-25T10:02:54.908Z"
   },
   {
    "duration": 590,
    "start_time": "2022-09-25T10:11:04.530Z"
   },
   {
    "duration": 219,
    "start_time": "2022-09-25T10:11:20.156Z"
   },
   {
    "duration": 21,
    "start_time": "2022-09-25T10:11:26.050Z"
   },
   {
    "duration": 206,
    "start_time": "2022-09-25T10:11:55.821Z"
   },
   {
    "duration": 212,
    "start_time": "2022-09-25T10:12:40.995Z"
   },
   {
    "duration": 262,
    "start_time": "2022-09-25T10:17:07.961Z"
   },
   {
    "duration": 256,
    "start_time": "2022-09-25T10:17:44.283Z"
   },
   {
    "duration": 111,
    "start_time": "2022-09-25T10:18:38.318Z"
   },
   {
    "duration": 18,
    "start_time": "2022-09-25T10:18:39.697Z"
   },
   {
    "duration": 5,
    "start_time": "2022-09-25T10:18:43.105Z"
   },
   {
    "duration": 6,
    "start_time": "2022-09-25T10:18:43.562Z"
   },
   {
    "duration": 7,
    "start_time": "2022-09-25T10:18:46.072Z"
   },
   {
    "duration": 5,
    "start_time": "2022-09-25T10:18:47.079Z"
   },
   {
    "duration": 5,
    "start_time": "2022-09-25T10:19:06.969Z"
   },
   {
    "duration": 799,
    "start_time": "2022-09-25T10:19:42.907Z"
   },
   {
    "duration": 5,
    "start_time": "2022-09-25T10:19:52.982Z"
   },
   {
    "duration": 4,
    "start_time": "2022-09-25T10:20:53.167Z"
   },
   {
    "duration": 7,
    "start_time": "2022-09-25T10:20:58.428Z"
   },
   {
    "duration": 6,
    "start_time": "2022-09-25T10:21:11.037Z"
   },
   {
    "duration": 4,
    "start_time": "2022-09-25T10:21:28.968Z"
   },
   {
    "duration": 119,
    "start_time": "2022-09-25T10:21:45.961Z"
   },
   {
    "duration": 13,
    "start_time": "2022-09-25T10:21:46.952Z"
   },
   {
    "duration": 4,
    "start_time": "2022-09-25T10:21:51.006Z"
   },
   {
    "duration": 5,
    "start_time": "2022-09-25T10:21:51.446Z"
   },
   {
    "duration": 7,
    "start_time": "2022-09-25T10:21:52.350Z"
   },
   {
    "duration": 4,
    "start_time": "2022-09-25T10:21:56.095Z"
   },
   {
    "duration": 5,
    "start_time": "2022-09-25T10:22:19.108Z"
   },
   {
    "duration": 4,
    "start_time": "2022-09-25T10:22:31.638Z"
   },
   {
    "duration": 113,
    "start_time": "2022-09-25T10:23:11.888Z"
   },
   {
    "duration": 6,
    "start_time": "2022-09-25T10:23:58.219Z"
   },
   {
    "duration": 5,
    "start_time": "2022-09-25T10:24:08.857Z"
   },
   {
    "duration": 44,
    "start_time": "2022-09-25T10:24:35.925Z"
   },
   {
    "duration": 10,
    "start_time": "2022-09-25T10:25:52.929Z"
   },
   {
    "duration": 7,
    "start_time": "2022-09-25T10:26:51.167Z"
   },
   {
    "duration": 256,
    "start_time": "2022-09-25T10:31:09.536Z"
   },
   {
    "duration": 247,
    "start_time": "2022-09-25T10:31:24.355Z"
   },
   {
    "duration": 119,
    "start_time": "2022-09-25T10:31:41.148Z"
   },
   {
    "duration": 15,
    "start_time": "2022-09-25T10:31:41.778Z"
   },
   {
    "duration": 4,
    "start_time": "2022-09-25T10:31:42.798Z"
   },
   {
    "duration": 7,
    "start_time": "2022-09-25T10:31:43.209Z"
   },
   {
    "duration": 12,
    "start_time": "2022-09-25T10:31:43.632Z"
   },
   {
    "duration": 5,
    "start_time": "2022-09-25T10:31:44.064Z"
   },
   {
    "duration": 6,
    "start_time": "2022-09-25T10:31:44.720Z"
   },
   {
    "duration": 22,
    "start_time": "2022-09-25T10:31:45.881Z"
   },
   {
    "duration": 259,
    "start_time": "2022-09-25T10:31:47.169Z"
   },
   {
    "duration": 4,
    "start_time": "2022-09-25T10:31:49.128Z"
   },
   {
    "duration": 7,
    "start_time": "2022-09-25T10:31:50.038Z"
   },
   {
    "duration": 10,
    "start_time": "2022-09-25T10:31:52.022Z"
   },
   {
    "duration": 34,
    "start_time": "2022-09-25T10:31:53.333Z"
   },
   {
    "duration": 4,
    "start_time": "2022-09-25T10:31:56.588Z"
   },
   {
    "duration": 5,
    "start_time": "2022-09-25T10:31:56.988Z"
   },
   {
    "duration": 5,
    "start_time": "2022-09-25T10:31:57.236Z"
   },
   {
    "duration": 6,
    "start_time": "2022-09-25T10:31:57.443Z"
   },
   {
    "duration": 4,
    "start_time": "2022-09-25T10:31:57.660Z"
   },
   {
    "duration": 284,
    "start_time": "2022-09-25T10:31:58.132Z"
   },
   {
    "duration": 274,
    "start_time": "2022-09-25T10:31:58.603Z"
   },
   {
    "duration": 21,
    "start_time": "2022-09-25T10:31:59.119Z"
   },
   {
    "duration": 20,
    "start_time": "2022-09-25T10:31:59.955Z"
   },
   {
    "duration": 221,
    "start_time": "2022-09-25T10:32:01.363Z"
   },
   {
    "duration": 218,
    "start_time": "2022-09-25T10:32:08.193Z"
   },
   {
    "duration": 206,
    "start_time": "2022-09-25T10:33:47.513Z"
   },
   {
    "duration": 254,
    "start_time": "2022-09-25T10:33:56.278Z"
   },
   {
    "duration": 72,
    "start_time": "2022-09-25T10:37:49.697Z"
   },
   {
    "duration": 39,
    "start_time": "2022-09-25T10:37:59.828Z"
   },
   {
    "duration": 336,
    "start_time": "2022-09-25T10:38:19.099Z"
   },
   {
    "duration": 271,
    "start_time": "2022-09-25T10:38:27.776Z"
   },
   {
    "duration": 270,
    "start_time": "2022-09-25T10:38:32.175Z"
   },
   {
    "duration": 294,
    "start_time": "2022-09-25T10:38:38.213Z"
   },
   {
    "duration": 5,
    "start_time": "2022-09-25T10:39:24.722Z"
   },
   {
    "duration": 7,
    "start_time": "2022-09-25T10:39:58.638Z"
   },
   {
    "duration": 6,
    "start_time": "2022-09-25T10:40:08.264Z"
   },
   {
    "duration": 6,
    "start_time": "2022-09-25T10:40:12.102Z"
   },
   {
    "duration": 7,
    "start_time": "2022-09-25T10:40:17.334Z"
   },
   {
    "duration": 6,
    "start_time": "2022-09-25T10:41:29.920Z"
   },
   {
    "duration": 9,
    "start_time": "2022-09-25T10:42:31.841Z"
   },
   {
    "duration": 293,
    "start_time": "2022-09-25T10:42:41.132Z"
   },
   {
    "duration": 299,
    "start_time": "2022-09-25T10:42:54.297Z"
   },
   {
    "duration": 121,
    "start_time": "2022-09-25T10:43:16.984Z"
   },
   {
    "duration": 14,
    "start_time": "2022-09-25T10:43:17.572Z"
   },
   {
    "duration": 5,
    "start_time": "2022-09-25T10:43:18.556Z"
   },
   {
    "duration": 6,
    "start_time": "2022-09-25T10:43:18.964Z"
   },
   {
    "duration": 7,
    "start_time": "2022-09-25T10:43:19.397Z"
   },
   {
    "duration": 5,
    "start_time": "2022-09-25T10:43:19.779Z"
   },
   {
    "duration": 6,
    "start_time": "2022-09-25T10:43:20.397Z"
   },
   {
    "duration": 22,
    "start_time": "2022-09-25T10:43:21.427Z"
   },
   {
    "duration": 335,
    "start_time": "2022-09-25T10:43:22.273Z"
   },
   {
    "duration": 4,
    "start_time": "2022-09-25T10:43:23.170Z"
   },
   {
    "duration": 7,
    "start_time": "2022-09-25T10:43:23.590Z"
   },
   {
    "duration": 11,
    "start_time": "2022-09-25T10:43:24.441Z"
   },
   {
    "duration": 32,
    "start_time": "2022-09-25T10:43:24.894Z"
   },
   {
    "duration": 4,
    "start_time": "2022-09-25T10:43:26.721Z"
   },
   {
    "duration": 6,
    "start_time": "2022-09-25T10:43:27.354Z"
   },
   {
    "duration": 7,
    "start_time": "2022-09-25T10:43:27.569Z"
   },
   {
    "duration": 5,
    "start_time": "2022-09-25T10:43:27.775Z"
   },
   {
    "duration": 3,
    "start_time": "2022-09-25T10:43:27.976Z"
   },
   {
    "duration": 254,
    "start_time": "2022-09-25T10:43:28.759Z"
   },
   {
    "duration": 208,
    "start_time": "2022-09-25T10:43:30.359Z"
   },
   {
    "duration": 20,
    "start_time": "2022-09-25T10:43:31.616Z"
   },
   {
    "duration": 18,
    "start_time": "2022-09-25T10:43:36.005Z"
   },
   {
    "duration": 4,
    "start_time": "2022-09-25T10:44:42.426Z"
   },
   {
    "duration": 220,
    "start_time": "2022-09-25T10:44:43.498Z"
   },
   {
    "duration": 229,
    "start_time": "2022-09-25T10:44:45.555Z"
   },
   {
    "duration": 255,
    "start_time": "2022-09-25T10:44:53.311Z"
   },
   {
    "duration": 278,
    "start_time": "2022-09-25T10:45:05.331Z"
   },
   {
    "duration": 272,
    "start_time": "2022-09-25T10:45:11.104Z"
   },
   {
    "duration": 280,
    "start_time": "2022-09-25T10:45:18.228Z"
   },
   {
    "duration": 275,
    "start_time": "2022-09-25T10:45:28.897Z"
   },
   {
    "duration": 6,
    "start_time": "2022-09-25T10:46:05.658Z"
   },
   {
    "duration": 275,
    "start_time": "2022-09-25T10:46:44.906Z"
   },
   {
    "duration": 344,
    "start_time": "2022-09-25T10:46:51.207Z"
   },
   {
    "duration": 9,
    "start_time": "2022-09-25T10:47:39.444Z"
   },
   {
    "duration": 10,
    "start_time": "2022-09-25T10:47:47.017Z"
   },
   {
    "duration": 9,
    "start_time": "2022-09-25T10:52:30.938Z"
   },
   {
    "duration": 8,
    "start_time": "2022-09-25T10:52:35.158Z"
   },
   {
    "duration": 10,
    "start_time": "2022-09-25T10:52:39.604Z"
   },
   {
    "duration": 9,
    "start_time": "2022-09-25T10:52:45.297Z"
   },
   {
    "duration": 9,
    "start_time": "2022-09-25T10:52:52.366Z"
   },
   {
    "duration": 11,
    "start_time": "2022-09-25T10:52:55.669Z"
   },
   {
    "duration": 116,
    "start_time": "2022-09-25T10:53:20.729Z"
   },
   {
    "duration": 14,
    "start_time": "2022-09-25T10:53:21.300Z"
   },
   {
    "duration": 5,
    "start_time": "2022-09-25T10:53:22.273Z"
   },
   {
    "duration": 6,
    "start_time": "2022-09-25T10:53:22.674Z"
   },
   {
    "duration": 7,
    "start_time": "2022-09-25T10:53:23.073Z"
   },
   {
    "duration": 4,
    "start_time": "2022-09-25T10:53:23.465Z"
   },
   {
    "duration": 6,
    "start_time": "2022-09-25T10:53:24.049Z"
   },
   {
    "duration": 20,
    "start_time": "2022-09-25T10:53:25.049Z"
   },
   {
    "duration": 251,
    "start_time": "2022-09-25T10:53:25.881Z"
   },
   {
    "duration": 4,
    "start_time": "2022-09-25T10:53:26.737Z"
   },
   {
    "duration": 8,
    "start_time": "2022-09-25T10:53:27.169Z"
   },
   {
    "duration": 10,
    "start_time": "2022-09-25T10:53:28.001Z"
   },
   {
    "duration": 35,
    "start_time": "2022-09-25T10:53:28.439Z"
   },
   {
    "duration": 5,
    "start_time": "2022-09-25T10:53:29.702Z"
   },
   {
    "duration": 6,
    "start_time": "2022-09-25T10:53:29.919Z"
   },
   {
    "duration": 6,
    "start_time": "2022-09-25T10:53:30.183Z"
   },
   {
    "duration": 6,
    "start_time": "2022-09-25T10:53:30.391Z"
   },
   {
    "duration": 3,
    "start_time": "2022-09-25T10:53:30.608Z"
   },
   {
    "duration": 258,
    "start_time": "2022-09-25T10:53:31.064Z"
   },
   {
    "duration": 203,
    "start_time": "2022-09-25T10:53:31.784Z"
   },
   {
    "duration": 22,
    "start_time": "2022-09-25T10:53:32.222Z"
   },
   {
    "duration": 21,
    "start_time": "2022-09-25T10:53:32.991Z"
   },
   {
    "duration": 4,
    "start_time": "2022-09-25T10:53:33.726Z"
   },
   {
    "duration": 251,
    "start_time": "2022-09-25T10:53:34.485Z"
   },
   {
    "duration": 220,
    "start_time": "2022-09-25T10:53:35.629Z"
   },
   {
    "duration": 9,
    "start_time": "2022-09-25T10:53:48.609Z"
   },
   {
    "duration": 110,
    "start_time": "2022-09-25T10:54:25.451Z"
   },
   {
    "duration": 14,
    "start_time": "2022-09-25T10:54:26.041Z"
   },
   {
    "duration": 4,
    "start_time": "2022-09-25T10:54:27.081Z"
   },
   {
    "duration": 6,
    "start_time": "2022-09-25T10:54:27.493Z"
   },
   {
    "duration": 7,
    "start_time": "2022-09-25T10:54:27.913Z"
   },
   {
    "duration": 5,
    "start_time": "2022-09-25T10:54:28.328Z"
   },
   {
    "duration": 7,
    "start_time": "2022-09-25T10:54:28.944Z"
   },
   {
    "duration": 21,
    "start_time": "2022-09-25T10:54:29.942Z"
   },
   {
    "duration": 269,
    "start_time": "2022-09-25T10:54:30.734Z"
   },
   {
    "duration": 4,
    "start_time": "2022-09-25T10:54:31.551Z"
   },
   {
    "duration": 8,
    "start_time": "2022-09-25T10:54:31.958Z"
   },
   {
    "duration": 10,
    "start_time": "2022-09-25T10:54:32.822Z"
   },
   {
    "duration": 32,
    "start_time": "2022-09-25T10:54:33.630Z"
   },
   {
    "duration": 3,
    "start_time": "2022-09-25T10:54:35.134Z"
   },
   {
    "duration": 7,
    "start_time": "2022-09-25T10:54:35.462Z"
   },
   {
    "duration": 5,
    "start_time": "2022-09-25T10:54:35.693Z"
   },
   {
    "duration": 6,
    "start_time": "2022-09-25T10:54:35.893Z"
   },
   {
    "duration": 3,
    "start_time": "2022-09-25T10:54:36.101Z"
   },
   {
    "duration": 260,
    "start_time": "2022-09-25T10:54:36.636Z"
   },
   {
    "duration": 251,
    "start_time": "2022-09-25T10:54:37.428Z"
   },
   {
    "duration": 22,
    "start_time": "2022-09-25T10:54:38.052Z"
   },
   {
    "duration": 18,
    "start_time": "2022-09-25T10:54:39.917Z"
   },
   {
    "duration": 4,
    "start_time": "2022-09-25T10:54:41.643Z"
   },
   {
    "duration": 229,
    "start_time": "2022-09-25T10:54:42.722Z"
   },
   {
    "duration": 220,
    "start_time": "2022-09-25T10:54:44.378Z"
   },
   {
    "duration": 197,
    "start_time": "2022-09-25T10:54:50.920Z"
   },
   {
    "duration": 11,
    "start_time": "2022-09-25T10:54:56.173Z"
   },
   {
    "duration": 110,
    "start_time": "2022-09-25T10:55:57.206Z"
   },
   {
    "duration": 14,
    "start_time": "2022-09-25T10:55:59.004Z"
   },
   {
    "duration": 4,
    "start_time": "2022-09-25T10:55:59.988Z"
   },
   {
    "duration": 5,
    "start_time": "2022-09-25T10:56:00.405Z"
   },
   {
    "duration": 8,
    "start_time": "2022-09-25T10:56:00.828Z"
   },
   {
    "duration": 5,
    "start_time": "2022-09-25T10:56:01.236Z"
   },
   {
    "duration": 6,
    "start_time": "2022-09-25T10:56:01.857Z"
   },
   {
    "duration": 20,
    "start_time": "2022-09-25T10:56:02.898Z"
   },
   {
    "duration": 261,
    "start_time": "2022-09-25T10:56:03.738Z"
   },
   {
    "duration": 4,
    "start_time": "2022-09-25T10:56:04.602Z"
   },
   {
    "duration": 8,
    "start_time": "2022-09-25T10:56:05.017Z"
   },
   {
    "duration": 10,
    "start_time": "2022-09-25T10:56:05.906Z"
   },
   {
    "duration": 35,
    "start_time": "2022-09-25T10:56:06.450Z"
   },
   {
    "duration": 4,
    "start_time": "2022-09-25T10:56:08.143Z"
   },
   {
    "duration": 6,
    "start_time": "2022-09-25T10:56:08.600Z"
   },
   {
    "duration": 5,
    "start_time": "2022-09-25T10:56:08.800Z"
   },
   {
    "duration": 6,
    "start_time": "2022-09-25T10:56:09.016Z"
   },
   {
    "duration": 4,
    "start_time": "2022-09-25T10:56:09.223Z"
   },
   {
    "duration": 309,
    "start_time": "2022-09-25T10:56:09.695Z"
   },
   {
    "duration": 205,
    "start_time": "2022-09-25T10:56:10.128Z"
   },
   {
    "duration": 20,
    "start_time": "2022-09-25T10:56:10.656Z"
   },
   {
    "duration": 19,
    "start_time": "2022-09-25T10:56:11.567Z"
   },
   {
    "duration": 5,
    "start_time": "2022-09-25T10:56:16.333Z"
   },
   {
    "duration": 222,
    "start_time": "2022-09-25T10:56:18.149Z"
   },
   {
    "duration": 211,
    "start_time": "2022-09-25T10:56:19.293Z"
   },
   {
    "duration": 198,
    "start_time": "2022-09-25T10:56:20.467Z"
   },
   {
    "duration": 9,
    "start_time": "2022-09-25T10:56:24.723Z"
   },
   {
    "duration": 297,
    "start_time": "2022-09-25T10:56:49.945Z"
   },
   {
    "duration": 351,
    "start_time": "2022-09-25T10:57:02.524Z"
   },
   {
    "duration": 295,
    "start_time": "2022-09-25T10:57:13.695Z"
   },
   {
    "duration": 280,
    "start_time": "2022-09-25T10:57:20.493Z"
   },
   {
    "duration": 269,
    "start_time": "2022-09-25T10:57:27.235Z"
   },
   {
    "duration": 310,
    "start_time": "2022-09-25T10:57:41.453Z"
   },
   {
    "duration": 369,
    "start_time": "2022-09-25T10:57:48.161Z"
   },
   {
    "duration": 48,
    "start_time": "2022-09-25T10:59:36.545Z"
   },
   {
    "duration": 180,
    "start_time": "2022-09-25T11:04:58.518Z"
   },
   {
    "duration": 180,
    "start_time": "2022-09-25T11:05:06.587Z"
   },
   {
    "duration": 198,
    "start_time": "2022-09-25T11:05:12.792Z"
   },
   {
    "duration": 195,
    "start_time": "2022-09-25T11:05:28.721Z"
   },
   {
    "duration": 116,
    "start_time": "2022-09-25T11:06:02.478Z"
   },
   {
    "duration": 15,
    "start_time": "2022-09-25T11:06:02.596Z"
   },
   {
    "duration": 30,
    "start_time": "2022-09-25T11:06:02.613Z"
   },
   {
    "duration": 13,
    "start_time": "2022-09-25T11:06:02.645Z"
   },
   {
    "duration": 12,
    "start_time": "2022-09-25T11:06:02.659Z"
   },
   {
    "duration": 18,
    "start_time": "2022-09-25T11:06:02.672Z"
   },
   {
    "duration": 11,
    "start_time": "2022-09-25T11:06:02.692Z"
   },
   {
    "duration": 33,
    "start_time": "2022-09-25T11:06:02.705Z"
   },
   {
    "duration": 265,
    "start_time": "2022-09-25T11:06:02.739Z"
   },
   {
    "duration": 4,
    "start_time": "2022-09-25T11:06:03.007Z"
   },
   {
    "duration": 13,
    "start_time": "2022-09-25T11:06:03.012Z"
   },
   {
    "duration": 13,
    "start_time": "2022-09-25T11:06:03.026Z"
   },
   {
    "duration": 36,
    "start_time": "2022-09-25T11:06:03.041Z"
   },
   {
    "duration": 4,
    "start_time": "2022-09-25T11:06:03.079Z"
   },
   {
    "duration": 10,
    "start_time": "2022-09-25T11:06:03.085Z"
   },
   {
    "duration": 10,
    "start_time": "2022-09-25T11:06:03.097Z"
   },
   {
    "duration": 7,
    "start_time": "2022-09-25T11:06:03.109Z"
   },
   {
    "duration": 16,
    "start_time": "2022-09-25T11:06:03.118Z"
   },
   {
    "duration": 262,
    "start_time": "2022-09-25T11:06:03.136Z"
   },
   {
    "duration": 278,
    "start_time": "2022-09-25T11:06:03.400Z"
   },
   {
    "duration": 20,
    "start_time": "2022-09-25T11:06:03.680Z"
   },
   {
    "duration": 18,
    "start_time": "2022-09-25T11:06:03.702Z"
   },
   {
    "duration": 13,
    "start_time": "2022-09-25T11:06:03.721Z"
   },
   {
    "duration": 223,
    "start_time": "2022-09-25T11:06:03.736Z"
   },
   {
    "duration": 232,
    "start_time": "2022-09-25T11:06:03.960Z"
   },
   {
    "duration": 221,
    "start_time": "2022-09-25T11:06:04.194Z"
   },
   {
    "duration": 322,
    "start_time": "2022-09-25T11:06:04.417Z"
   },
   {
    "duration": 206,
    "start_time": "2022-09-25T11:06:04.742Z"
   },
   {
    "duration": 274,
    "start_time": "2022-09-25T11:06:04.950Z"
   },
   {
    "duration": 250,
    "start_time": "2022-09-25T11:06:05.226Z"
   },
   {
    "duration": 297,
    "start_time": "2022-09-25T11:06:05.478Z"
   },
   {
    "duration": 337,
    "start_time": "2022-09-25T11:06:05.777Z"
   },
   {
    "duration": 406,
    "start_time": "2022-09-25T11:06:06.117Z"
   },
   {
    "duration": 138,
    "start_time": "2022-09-25T11:06:06.525Z"
   },
   {
    "duration": 178,
    "start_time": "2022-09-25T11:06:06.664Z"
   },
   {
    "duration": 191,
    "start_time": "2022-09-25T11:06:06.844Z"
   },
   {
    "duration": 134,
    "start_time": "2022-09-25T11:06:07.037Z"
   },
   {
    "duration": 130,
    "start_time": "2022-09-25T11:06:07.173Z"
   },
   {
    "duration": 148,
    "start_time": "2022-09-25T11:06:07.304Z"
   },
   {
    "duration": 152,
    "start_time": "2022-09-25T11:06:07.453Z"
   },
   {
    "duration": 148,
    "start_time": "2022-09-25T11:06:07.607Z"
   },
   {
    "duration": 5,
    "start_time": "2022-09-25T11:06:07.757Z"
   },
   {
    "duration": 4,
    "start_time": "2022-09-25T11:11:48.457Z"
   },
   {
    "duration": 4,
    "start_time": "2022-09-25T11:12:01.965Z"
   },
   {
    "duration": 119,
    "start_time": "2022-09-25T11:12:10.386Z"
   },
   {
    "duration": 35,
    "start_time": "2022-09-25T11:12:10.507Z"
   },
   {
    "duration": 5,
    "start_time": "2022-09-25T11:12:10.543Z"
   },
   {
    "duration": 9,
    "start_time": "2022-09-25T11:12:10.550Z"
   },
   {
    "duration": 21,
    "start_time": "2022-09-25T11:12:10.561Z"
   },
   {
    "duration": 10,
    "start_time": "2022-09-25T11:12:10.583Z"
   },
   {
    "duration": 6,
    "start_time": "2022-09-25T11:12:10.595Z"
   },
   {
    "duration": 21,
    "start_time": "2022-09-25T11:12:10.603Z"
   },
   {
    "duration": 264,
    "start_time": "2022-09-25T11:12:10.625Z"
   },
   {
    "duration": 4,
    "start_time": "2022-09-25T11:12:10.892Z"
   },
   {
    "duration": 8,
    "start_time": "2022-09-25T11:12:10.898Z"
   },
   {
    "duration": 32,
    "start_time": "2022-09-25T11:12:10.907Z"
   },
   {
    "duration": 32,
    "start_time": "2022-09-25T11:12:10.941Z"
   },
   {
    "duration": 3,
    "start_time": "2022-09-25T11:12:10.975Z"
   },
   {
    "duration": 8,
    "start_time": "2022-09-25T11:12:10.980Z"
   },
   {
    "duration": 5,
    "start_time": "2022-09-25T11:12:10.990Z"
   },
   {
    "duration": 8,
    "start_time": "2022-09-25T11:12:10.996Z"
   },
   {
    "duration": 4,
    "start_time": "2022-09-25T11:12:11.005Z"
   },
   {
    "duration": 335,
    "start_time": "2022-09-25T11:12:11.011Z"
   },
   {
    "duration": 213,
    "start_time": "2022-09-25T11:12:11.348Z"
   },
   {
    "duration": 22,
    "start_time": "2022-09-25T11:12:11.562Z"
   },
   {
    "duration": 22,
    "start_time": "2022-09-25T11:12:11.585Z"
   },
   {
    "duration": 4,
    "start_time": "2022-09-25T11:12:11.608Z"
   },
   {
    "duration": 263,
    "start_time": "2022-09-25T11:12:11.614Z"
   },
   {
    "duration": 226,
    "start_time": "2022-09-25T11:12:11.878Z"
   },
   {
    "duration": 219,
    "start_time": "2022-09-25T11:12:12.106Z"
   },
   {
    "duration": 296,
    "start_time": "2022-09-25T11:12:12.327Z"
   },
   {
    "duration": 279,
    "start_time": "2022-09-25T11:12:12.626Z"
   },
   {
    "duration": 213,
    "start_time": "2022-09-25T11:12:12.907Z"
   },
   {
    "duration": 218,
    "start_time": "2022-09-25T11:12:13.121Z"
   },
   {
    "duration": 275,
    "start_time": "2022-09-25T11:12:13.340Z"
   },
   {
    "duration": 266,
    "start_time": "2022-09-25T11:12:13.617Z"
   },
   {
    "duration": 281,
    "start_time": "2022-09-25T11:12:13.885Z"
   },
   {
    "duration": 133,
    "start_time": "2022-09-25T11:12:14.167Z"
   },
   {
    "duration": 237,
    "start_time": "2022-09-25T11:12:14.301Z"
   },
   {
    "duration": 134,
    "start_time": "2022-09-25T11:12:14.539Z"
   },
   {
    "duration": 127,
    "start_time": "2022-09-25T11:12:14.674Z"
   },
   {
    "duration": 122,
    "start_time": "2022-09-25T11:12:14.802Z"
   },
   {
    "duration": 139,
    "start_time": "2022-09-25T11:12:14.933Z"
   },
   {
    "duration": 149,
    "start_time": "2022-09-25T11:12:15.073Z"
   },
   {
    "duration": 141,
    "start_time": "2022-09-25T11:12:15.223Z"
   },
   {
    "duration": 4,
    "start_time": "2022-09-25T11:12:15.366Z"
   },
   {
    "duration": 8,
    "start_time": "2022-09-25T11:16:43.020Z"
   },
   {
    "duration": 5,
    "start_time": "2022-09-25T11:16:51.855Z"
   },
   {
    "duration": 122,
    "start_time": "2022-09-25T11:16:58.055Z"
   },
   {
    "duration": 13,
    "start_time": "2022-09-25T11:16:58.179Z"
   },
   {
    "duration": 4,
    "start_time": "2022-09-25T11:16:58.194Z"
   },
   {
    "duration": 7,
    "start_time": "2022-09-25T11:16:58.200Z"
   },
   {
    "duration": 34,
    "start_time": "2022-09-25T11:16:58.208Z"
   },
   {
    "duration": 6,
    "start_time": "2022-09-25T11:16:58.244Z"
   },
   {
    "duration": 5,
    "start_time": "2022-09-25T11:16:58.252Z"
   },
   {
    "duration": 21,
    "start_time": "2022-09-25T11:16:58.258Z"
   },
   {
    "duration": 300,
    "start_time": "2022-09-25T11:16:58.281Z"
   },
   {
    "duration": 4,
    "start_time": "2022-09-25T11:16:58.584Z"
   },
   {
    "duration": 9,
    "start_time": "2022-09-25T11:16:58.590Z"
   },
   {
    "duration": 10,
    "start_time": "2022-09-25T11:16:58.601Z"
   },
   {
    "duration": 46,
    "start_time": "2022-09-25T11:16:58.613Z"
   },
   {
    "duration": 3,
    "start_time": "2022-09-25T11:16:58.661Z"
   },
   {
    "duration": 9,
    "start_time": "2022-09-25T11:16:58.666Z"
   },
   {
    "duration": 4,
    "start_time": "2022-09-25T11:16:58.677Z"
   },
   {
    "duration": 5,
    "start_time": "2022-09-25T11:16:58.683Z"
   },
   {
    "duration": 4,
    "start_time": "2022-09-25T11:16:58.689Z"
   },
   {
    "duration": 358,
    "start_time": "2022-09-25T11:16:58.694Z"
   },
   {
    "duration": 208,
    "start_time": "2022-09-25T11:16:59.054Z"
   },
   {
    "duration": 21,
    "start_time": "2022-09-25T11:16:59.263Z"
   },
   {
    "duration": 20,
    "start_time": "2022-09-25T11:16:59.285Z"
   },
   {
    "duration": 3,
    "start_time": "2022-09-25T11:16:59.306Z"
   },
   {
    "duration": 229,
    "start_time": "2022-09-25T11:16:59.311Z"
   },
   {
    "duration": 237,
    "start_time": "2022-09-25T11:16:59.541Z"
   },
   {
    "duration": 211,
    "start_time": "2022-09-25T11:16:59.780Z"
   },
   {
    "duration": 410,
    "start_time": "2022-09-25T11:16:59.993Z"
   },
   {
    "duration": 202,
    "start_time": "2022-09-25T11:17:00.406Z"
   },
   {
    "duration": 203,
    "start_time": "2022-09-25T11:17:00.610Z"
   },
   {
    "duration": 227,
    "start_time": "2022-09-25T11:17:00.815Z"
   },
   {
    "duration": 294,
    "start_time": "2022-09-25T11:17:01.043Z"
   },
   {
    "duration": 281,
    "start_time": "2022-09-25T11:17:01.338Z"
   },
   {
    "duration": 286,
    "start_time": "2022-09-25T11:17:01.621Z"
   },
   {
    "duration": 247,
    "start_time": "2022-09-25T11:17:01.909Z"
   },
   {
    "duration": 160,
    "start_time": "2022-09-25T11:17:02.158Z"
   },
   {
    "duration": 134,
    "start_time": "2022-09-25T11:17:02.320Z"
   },
   {
    "duration": 135,
    "start_time": "2022-09-25T11:17:02.456Z"
   },
   {
    "duration": 127,
    "start_time": "2022-09-25T11:17:02.593Z"
   },
   {
    "duration": 143,
    "start_time": "2022-09-25T11:17:02.722Z"
   },
   {
    "duration": 144,
    "start_time": "2022-09-25T11:17:02.866Z"
   },
   {
    "duration": 139,
    "start_time": "2022-09-25T11:17:03.011Z"
   },
   {
    "duration": 4,
    "start_time": "2022-09-25T11:17:03.152Z"
   },
   {
    "duration": 116,
    "start_time": "2022-09-25T11:17:10.640Z"
   },
   {
    "duration": 15,
    "start_time": "2022-09-25T11:17:11.487Z"
   },
   {
    "duration": 5,
    "start_time": "2022-09-25T11:17:13.601Z"
   },
   {
    "duration": 5,
    "start_time": "2022-09-25T11:17:13.911Z"
   },
   {
    "duration": 8,
    "start_time": "2022-09-25T11:17:14.542Z"
   },
   {
    "duration": 6,
    "start_time": "2022-09-25T11:17:17.685Z"
   },
   {
    "duration": 7,
    "start_time": "2022-09-25T11:17:28.364Z"
   },
   {
    "duration": 31,
    "start_time": "2022-09-25T11:18:46.988Z"
   },
   {
    "duration": 6,
    "start_time": "2022-09-25T11:18:58.607Z"
   },
   {
    "duration": 7,
    "start_time": "2022-09-25T11:19:09.169Z"
   },
   {
    "duration": 7,
    "start_time": "2022-09-25T11:20:19.558Z"
   },
   {
    "duration": 8,
    "start_time": "2022-09-25T11:22:51.098Z"
   },
   {
    "duration": 7,
    "start_time": "2022-09-25T11:22:55.194Z"
   },
   {
    "duration": 6,
    "start_time": "2022-09-25T11:23:02.940Z"
   },
   {
    "duration": 5,
    "start_time": "2022-09-25T11:23:08.866Z"
   },
   {
    "duration": 119,
    "start_time": "2022-09-25T11:23:16.846Z"
   },
   {
    "duration": 14,
    "start_time": "2022-09-25T11:23:17.482Z"
   },
   {
    "duration": 6,
    "start_time": "2022-09-25T11:23:19.699Z"
   },
   {
    "duration": 6,
    "start_time": "2022-09-25T11:23:20.499Z"
   },
   {
    "duration": 7,
    "start_time": "2022-09-25T11:23:21.556Z"
   },
   {
    "duration": 5,
    "start_time": "2022-09-25T11:23:23.459Z"
   },
   {
    "duration": 6,
    "start_time": "2022-09-25T11:23:25.474Z"
   },
   {
    "duration": 5,
    "start_time": "2022-09-25T11:23:38.534Z"
   },
   {
    "duration": 5,
    "start_time": "2022-09-25T11:23:57.950Z"
   },
   {
    "duration": 7,
    "start_time": "2022-09-25T11:24:28.002Z"
   },
   {
    "duration": 122,
    "start_time": "2022-09-25T11:24:52.685Z"
   },
   {
    "duration": 31,
    "start_time": "2022-09-25T11:24:52.808Z"
   },
   {
    "duration": 5,
    "start_time": "2022-09-25T11:24:52.840Z"
   },
   {
    "duration": 8,
    "start_time": "2022-09-25T11:24:52.847Z"
   },
   {
    "duration": 11,
    "start_time": "2022-09-25T11:24:52.856Z"
   },
   {
    "duration": 9,
    "start_time": "2022-09-25T11:24:52.868Z"
   },
   {
    "duration": 8,
    "start_time": "2022-09-25T11:24:52.878Z"
   },
   {
    "duration": 35,
    "start_time": "2022-09-25T11:24:52.887Z"
   },
   {
    "duration": 289,
    "start_time": "2022-09-25T11:24:52.923Z"
   },
   {
    "duration": 4,
    "start_time": "2022-09-25T11:24:53.215Z"
   },
   {
    "duration": 15,
    "start_time": "2022-09-25T11:24:53.221Z"
   },
   {
    "duration": 11,
    "start_time": "2022-09-25T11:24:53.237Z"
   },
   {
    "duration": 32,
    "start_time": "2022-09-25T11:24:53.250Z"
   },
   {
    "duration": 4,
    "start_time": "2022-09-25T11:24:53.284Z"
   },
   {
    "duration": 14,
    "start_time": "2022-09-25T11:24:53.289Z"
   },
   {
    "duration": 6,
    "start_time": "2022-09-25T11:24:53.305Z"
   },
   {
    "duration": 25,
    "start_time": "2022-09-25T11:24:53.312Z"
   },
   {
    "duration": 8,
    "start_time": "2022-09-25T11:24:53.339Z"
   },
   {
    "duration": 363,
    "start_time": "2022-09-25T11:24:53.349Z"
   },
   {
    "duration": 210,
    "start_time": "2022-09-25T11:24:53.714Z"
   },
   {
    "duration": 27,
    "start_time": "2022-09-25T11:24:53.926Z"
   },
   {
    "duration": 20,
    "start_time": "2022-09-25T11:24:53.954Z"
   },
   {
    "duration": 3,
    "start_time": "2022-09-25T11:24:53.976Z"
   },
   {
    "duration": 242,
    "start_time": "2022-09-25T11:24:53.980Z"
   },
   {
    "duration": 260,
    "start_time": "2022-09-25T11:24:54.224Z"
   },
   {
    "duration": 236,
    "start_time": "2022-09-25T11:24:54.485Z"
   },
   {
    "duration": 310,
    "start_time": "2022-09-25T11:24:54.723Z"
   },
   {
    "duration": 205,
    "start_time": "2022-09-25T11:24:55.037Z"
   },
   {
    "duration": 213,
    "start_time": "2022-09-25T11:24:55.243Z"
   },
   {
    "duration": 340,
    "start_time": "2022-09-25T11:24:55.457Z"
   },
   {
    "duration": 284,
    "start_time": "2022-09-25T11:24:55.799Z"
   },
   {
    "duration": 345,
    "start_time": "2022-09-25T11:24:56.085Z"
   },
   {
    "duration": 270,
    "start_time": "2022-09-25T11:24:56.432Z"
   },
   {
    "duration": 139,
    "start_time": "2022-09-25T11:24:56.704Z"
   },
   {
    "duration": 144,
    "start_time": "2022-09-25T11:24:56.845Z"
   },
   {
    "duration": 134,
    "start_time": "2022-09-25T11:24:56.990Z"
   },
   {
    "duration": 149,
    "start_time": "2022-09-25T11:24:57.125Z"
   },
   {
    "duration": 127,
    "start_time": "2022-09-25T11:24:57.276Z"
   },
   {
    "duration": 159,
    "start_time": "2022-09-25T11:24:57.404Z"
   },
   {
    "duration": 262,
    "start_time": "2022-09-25T11:24:57.565Z"
   },
   {
    "duration": 144,
    "start_time": "2022-09-25T11:24:57.833Z"
   },
   {
    "duration": 4,
    "start_time": "2022-09-25T11:24:57.979Z"
   },
   {
    "duration": 207,
    "start_time": "2022-09-25T11:25:00.021Z"
   },
   {
    "duration": 5,
    "start_time": "2022-09-25T11:25:35.239Z"
   },
   {
    "duration": 6,
    "start_time": "2022-09-25T11:25:55.743Z"
   },
   {
    "duration": 9,
    "start_time": "2022-09-25T11:26:16.654Z"
   },
   {
    "duration": 7,
    "start_time": "2022-09-25T11:28:31.705Z"
   },
   {
    "duration": 111,
    "start_time": "2022-09-25T11:28:44.646Z"
   },
   {
    "duration": 13,
    "start_time": "2022-09-25T11:28:45.289Z"
   },
   {
    "duration": 5,
    "start_time": "2022-09-25T11:28:46.857Z"
   },
   {
    "duration": 5,
    "start_time": "2022-09-25T11:28:47.488Z"
   },
   {
    "duration": 7,
    "start_time": "2022-09-25T11:28:48.390Z"
   },
   {
    "duration": 5,
    "start_time": "2022-09-25T11:28:49.743Z"
   },
   {
    "duration": 6,
    "start_time": "2022-09-25T11:28:55.081Z"
   },
   {
    "duration": 10,
    "start_time": "2022-09-25T11:29:18.991Z"
   },
   {
    "duration": 6,
    "start_time": "2022-09-25T11:29:26.035Z"
   },
   {
    "duration": 5,
    "start_time": "2022-09-25T11:36:02.158Z"
   },
   {
    "duration": 8,
    "start_time": "2022-09-25T11:36:09.683Z"
   },
   {
    "duration": 6,
    "start_time": "2022-09-25T11:36:22.547Z"
   },
   {
    "duration": 8,
    "start_time": "2022-09-25T11:36:27.439Z"
   },
   {
    "duration": 7,
    "start_time": "2022-09-25T11:37:10.874Z"
   },
   {
    "duration": 8,
    "start_time": "2022-09-25T11:37:14.391Z"
   },
   {
    "duration": 135,
    "start_time": "2022-09-25T11:37:33.733Z"
   },
   {
    "duration": 13,
    "start_time": "2022-09-25T11:37:33.870Z"
   },
   {
    "duration": 4,
    "start_time": "2022-09-25T11:37:33.885Z"
   },
   {
    "duration": 10,
    "start_time": "2022-09-25T11:37:33.891Z"
   },
   {
    "duration": 11,
    "start_time": "2022-09-25T11:37:33.902Z"
   },
   {
    "duration": 22,
    "start_time": "2022-09-25T11:37:33.914Z"
   },
   {
    "duration": 7,
    "start_time": "2022-09-25T11:37:33.947Z"
   },
   {
    "duration": 20,
    "start_time": "2022-09-25T11:37:33.956Z"
   },
   {
    "duration": 287,
    "start_time": "2022-09-25T11:37:33.978Z"
   },
   {
    "duration": 3,
    "start_time": "2022-09-25T11:37:34.268Z"
   },
   {
    "duration": 7,
    "start_time": "2022-09-25T11:37:34.273Z"
   },
   {
    "duration": 12,
    "start_time": "2022-09-25T11:37:34.281Z"
   },
   {
    "duration": 53,
    "start_time": "2022-09-25T11:37:34.295Z"
   },
   {
    "duration": 4,
    "start_time": "2022-09-25T11:37:34.350Z"
   },
   {
    "duration": 11,
    "start_time": "2022-09-25T11:37:34.355Z"
   },
   {
    "duration": 6,
    "start_time": "2022-09-25T11:37:34.367Z"
   },
   {
    "duration": 7,
    "start_time": "2022-09-25T11:37:34.375Z"
   },
   {
    "duration": 6,
    "start_time": "2022-09-25T11:37:34.383Z"
   },
   {
    "duration": 274,
    "start_time": "2022-09-25T11:37:34.390Z"
   },
   {
    "duration": 219,
    "start_time": "2022-09-25T11:37:34.665Z"
   },
   {
    "duration": 21,
    "start_time": "2022-09-25T11:37:34.886Z"
   },
   {
    "duration": 43,
    "start_time": "2022-09-25T11:37:34.909Z"
   },
   {
    "duration": 4,
    "start_time": "2022-09-25T11:37:34.953Z"
   },
   {
    "duration": 219,
    "start_time": "2022-09-25T11:37:34.958Z"
   },
   {
    "duration": 368,
    "start_time": "2022-09-25T11:37:35.178Z"
   },
   {
    "duration": 218,
    "start_time": "2022-09-25T11:37:35.547Z"
   },
   {
    "duration": 326,
    "start_time": "2022-09-25T11:37:35.767Z"
   },
   {
    "duration": 279,
    "start_time": "2022-09-25T11:37:36.096Z"
   },
   {
    "duration": 271,
    "start_time": "2022-09-25T11:37:36.377Z"
   },
   {
    "duration": 226,
    "start_time": "2022-09-25T11:37:36.650Z"
   },
   {
    "duration": 297,
    "start_time": "2022-09-25T11:37:36.878Z"
   },
   {
    "duration": 298,
    "start_time": "2022-09-25T11:37:37.177Z"
   },
   {
    "duration": 424,
    "start_time": "2022-09-25T11:37:37.477Z"
   },
   {
    "duration": 143,
    "start_time": "2022-09-25T11:37:37.904Z"
   },
   {
    "duration": 158,
    "start_time": "2022-09-25T11:37:38.049Z"
   },
   {
    "duration": 142,
    "start_time": "2022-09-25T11:37:38.209Z"
   },
   {
    "duration": 140,
    "start_time": "2022-09-25T11:37:38.353Z"
   },
   {
    "duration": 133,
    "start_time": "2022-09-25T11:37:38.495Z"
   },
   {
    "duration": 166,
    "start_time": "2022-09-25T11:37:38.630Z"
   },
   {
    "duration": 157,
    "start_time": "2022-09-25T11:37:38.799Z"
   },
   {
    "duration": 144,
    "start_time": "2022-09-25T11:37:38.957Z"
   },
   {
    "duration": 4,
    "start_time": "2022-09-25T11:37:39.103Z"
   },
   {
    "duration": 217,
    "start_time": "2022-09-25T11:38:01.212Z"
   },
   {
    "duration": 197,
    "start_time": "2022-09-25T11:38:10.273Z"
   },
   {
    "duration": 234,
    "start_time": "2022-09-25T11:44:01.534Z"
   },
   {
    "duration": 193,
    "start_time": "2022-09-25T11:44:12.521Z"
   },
   {
    "duration": 232,
    "start_time": "2022-09-25T11:44:49.730Z"
   },
   {
    "duration": 206,
    "start_time": "2022-09-25T11:45:01.269Z"
   },
   {
    "duration": 20,
    "start_time": "2022-09-25T11:45:36.829Z"
   },
   {
    "duration": 362,
    "start_time": "2022-09-25T11:45:48.186Z"
   },
   {
    "duration": 207,
    "start_time": "2022-09-25T11:45:55.104Z"
   },
   {
    "duration": 197,
    "start_time": "2022-09-25T11:46:11.968Z"
   },
   {
    "duration": 64,
    "start_time": "2022-09-25T11:46:56.077Z"
   },
   {
    "duration": 188,
    "start_time": "2022-09-25T11:47:12.360Z"
   },
   {
    "duration": 215,
    "start_time": "2022-09-25T11:48:05.146Z"
   },
   {
    "duration": 193,
    "start_time": "2022-09-25T11:48:27.371Z"
   },
   {
    "duration": 15,
    "start_time": "2022-09-25T11:50:56.060Z"
   },
   {
    "duration": 1198,
    "start_time": "2022-09-25T11:51:02.125Z"
   },
   {
    "duration": 18,
    "start_time": "2022-09-25T11:51:25.708Z"
   },
   {
    "duration": 25,
    "start_time": "2022-09-25T11:51:36.823Z"
   },
   {
    "duration": 17,
    "start_time": "2022-09-25T11:51:43.162Z"
   },
   {
    "duration": 215,
    "start_time": "2022-09-25T11:52:40.347Z"
   },
   {
    "duration": 261,
    "start_time": "2022-09-25T11:53:38.222Z"
   },
   {
    "duration": 1477,
    "start_time": "2022-09-25T11:53:46.196Z"
   },
   {
    "duration": 159,
    "start_time": "2022-09-25T11:53:52.497Z"
   },
   {
    "duration": 136,
    "start_time": "2022-09-25T11:54:04.057Z"
   },
   {
    "duration": 121,
    "start_time": "2022-09-25T11:57:43.661Z"
   },
   {
    "duration": 195,
    "start_time": "2022-09-25T11:58:17.432Z"
   },
   {
    "duration": 216,
    "start_time": "2022-09-25T11:58:30.411Z"
   },
   {
    "duration": 196,
    "start_time": "2022-09-25T11:58:36.457Z"
   },
   {
    "duration": 173,
    "start_time": "2022-09-25T11:58:45.227Z"
   },
   {
    "duration": 52,
    "start_time": "2022-09-25T11:59:13.562Z"
   },
   {
    "duration": 167,
    "start_time": "2022-09-25T11:59:21.111Z"
   },
   {
    "duration": 180,
    "start_time": "2022-09-25T12:00:11.898Z"
   },
   {
    "duration": 184,
    "start_time": "2022-09-25T12:00:29.762Z"
   },
   {
    "duration": 218,
    "start_time": "2022-09-25T12:00:40.599Z"
   },
   {
    "duration": 227,
    "start_time": "2022-09-25T12:00:54.728Z"
   },
   {
    "duration": 221,
    "start_time": "2022-09-25T12:01:12.045Z"
   },
   {
    "duration": 214,
    "start_time": "2022-09-25T12:01:41.807Z"
   },
   {
    "duration": 98,
    "start_time": "2022-09-25T12:03:21.491Z"
   },
   {
    "duration": 240,
    "start_time": "2022-09-25T12:03:58.599Z"
   },
   {
    "duration": 226,
    "start_time": "2022-09-25T12:04:22.493Z"
   },
   {
    "duration": 222,
    "start_time": "2022-09-25T12:04:28.171Z"
   },
   {
    "duration": 218,
    "start_time": "2022-09-25T12:04:40.540Z"
   },
   {
    "duration": 213,
    "start_time": "2022-09-25T12:05:02.458Z"
   },
   {
    "duration": 80,
    "start_time": "2022-09-25T12:09:47.705Z"
   },
   {
    "duration": 8,
    "start_time": "2022-09-25T12:10:09.174Z"
   },
   {
    "duration": 203,
    "start_time": "2022-09-25T12:10:46.599Z"
   },
   {
    "duration": 234,
    "start_time": "2022-09-25T12:10:58.129Z"
   },
   {
    "duration": 1674,
    "start_time": "2022-09-25T12:11:34.790Z"
   },
   {
    "duration": 217,
    "start_time": "2022-09-25T12:13:03.471Z"
   },
   {
    "duration": 325,
    "start_time": "2022-09-25T12:35:11.549Z"
   },
   {
    "duration": 299,
    "start_time": "2022-09-25T12:35:18.881Z"
   },
   {
    "duration": 8,
    "start_time": "2022-09-25T12:52:23.582Z"
   },
   {
    "duration": 7,
    "start_time": "2022-09-25T12:52:39.953Z"
   },
   {
    "duration": 198,
    "start_time": "2022-09-25T12:52:55.386Z"
   },
   {
    "duration": 202,
    "start_time": "2022-09-25T12:53:15.010Z"
   },
   {
    "duration": 54,
    "start_time": "2022-09-25T12:55:26.421Z"
   },
   {
    "duration": 45,
    "start_time": "2022-09-25T12:55:32.348Z"
   },
   {
    "duration": 57,
    "start_time": "2022-09-25T12:55:47.421Z"
   },
   {
    "duration": 49,
    "start_time": "2022-09-25T12:55:54.530Z"
   },
   {
    "duration": 6,
    "start_time": "2022-09-25T12:56:02.797Z"
   },
   {
    "duration": 11,
    "start_time": "2022-09-25T12:56:24.784Z"
   },
   {
    "duration": 17,
    "start_time": "2022-09-25T12:56:30.451Z"
   },
   {
    "duration": 304,
    "start_time": "2022-09-25T12:57:01.624Z"
   },
   {
    "duration": 274,
    "start_time": "2022-09-25T12:57:41.151Z"
   },
   {
    "duration": 335,
    "start_time": "2022-09-25T12:58:24.047Z"
   },
   {
    "duration": 305,
    "start_time": "2022-09-25T12:58:43.382Z"
   },
   {
    "duration": 345,
    "start_time": "2022-09-25T12:58:50.349Z"
   },
   {
    "duration": 286,
    "start_time": "2022-09-25T12:59:07.172Z"
   },
   {
    "duration": 326,
    "start_time": "2022-09-25T12:59:13.810Z"
   },
   {
    "duration": 9,
    "start_time": "2022-09-25T13:00:40.416Z"
   },
   {
    "duration": 11,
    "start_time": "2022-09-25T13:01:15.381Z"
   },
   {
    "duration": 59,
    "start_time": "2022-09-25T13:03:14.555Z"
   },
   {
    "duration": 13,
    "start_time": "2022-09-25T13:04:38.673Z"
   },
   {
    "duration": 9,
    "start_time": "2022-09-25T13:04:50.852Z"
   },
   {
    "duration": 9,
    "start_time": "2022-09-25T13:06:38.362Z"
   },
   {
    "duration": 4,
    "start_time": "2022-09-25T13:08:15.650Z"
   },
   {
    "duration": 4,
    "start_time": "2022-09-25T13:08:24.600Z"
   },
   {
    "duration": 4,
    "start_time": "2022-09-25T13:08:46.857Z"
   },
   {
    "duration": 110,
    "start_time": "2022-09-25T13:08:51.004Z"
   },
   {
    "duration": 5,
    "start_time": "2022-09-25T13:08:59.650Z"
   },
   {
    "duration": 11,
    "start_time": "2022-09-25T13:09:29.525Z"
   },
   {
    "duration": 12,
    "start_time": "2022-09-25T13:10:49.270Z"
   },
   {
    "duration": 8,
    "start_time": "2022-09-25T13:11:05.654Z"
   },
   {
    "duration": 293,
    "start_time": "2022-09-25T13:11:18.338Z"
   },
   {
    "duration": 14,
    "start_time": "2022-09-25T13:11:44.119Z"
   },
   {
    "duration": 13,
    "start_time": "2022-09-25T13:11:50.014Z"
   },
   {
    "duration": 321,
    "start_time": "2022-09-25T13:11:55.020Z"
   },
   {
    "duration": 294,
    "start_time": "2022-09-25T13:12:19.377Z"
   },
   {
    "duration": 306,
    "start_time": "2022-09-25T13:12:31.508Z"
   },
   {
    "duration": 274,
    "start_time": "2022-09-25T13:12:41.810Z"
   },
   {
    "duration": 11,
    "start_time": "2022-09-25T13:16:24.120Z"
   },
   {
    "duration": 10,
    "start_time": "2022-09-25T13:16:44.169Z"
   },
   {
    "duration": 9,
    "start_time": "2022-09-25T13:17:23.195Z"
   },
   {
    "duration": 11,
    "start_time": "2022-09-25T13:18:06.857Z"
   },
   {
    "duration": 63,
    "start_time": "2022-09-25T13:18:15.602Z"
   },
   {
    "duration": 22,
    "start_time": "2022-09-25T13:18:22.432Z"
   },
   {
    "duration": 274,
    "start_time": "2022-09-25T13:20:55.682Z"
   },
   {
    "duration": 297,
    "start_time": "2022-09-25T13:21:21.049Z"
   },
   {
    "duration": 10,
    "start_time": "2022-09-25T13:21:41.183Z"
   },
   {
    "duration": 286,
    "start_time": "2022-09-25T13:25:25.476Z"
   },
   {
    "duration": 312,
    "start_time": "2022-09-25T13:25:49.854Z"
   },
   {
    "duration": 296,
    "start_time": "2022-09-25T13:26:18.697Z"
   },
   {
    "duration": 272,
    "start_time": "2022-09-25T13:26:42.648Z"
   },
   {
    "duration": 356,
    "start_time": "2022-09-25T13:27:26.159Z"
   },
   {
    "duration": 278,
    "start_time": "2022-09-25T13:28:33.404Z"
   },
   {
    "duration": 277,
    "start_time": "2022-09-25T13:28:37.395Z"
   },
   {
    "duration": 317,
    "start_time": "2022-09-25T13:28:47.230Z"
   },
   {
    "duration": 290,
    "start_time": "2022-09-25T13:29:11.688Z"
   },
   {
    "duration": 183,
    "start_time": "2022-09-25T13:29:37.025Z"
   },
   {
    "duration": 5,
    "start_time": "2022-09-25T13:29:57.230Z"
   },
   {
    "duration": 310,
    "start_time": "2022-09-25T13:30:36.346Z"
   },
   {
    "duration": 282,
    "start_time": "2022-09-25T13:31:35.132Z"
   },
   {
    "duration": 286,
    "start_time": "2022-09-25T13:32:21.112Z"
   },
   {
    "duration": 315,
    "start_time": "2022-09-25T13:33:35.829Z"
   },
   {
    "duration": 46,
    "start_time": "2022-09-25T13:34:36.661Z"
   },
   {
    "duration": 62,
    "start_time": "2022-09-25T13:34:48.632Z"
   },
   {
    "duration": 171,
    "start_time": "2022-09-25T13:35:02.424Z"
   },
   {
    "duration": 121,
    "start_time": "2022-09-25T13:40:57.291Z"
   },
   {
    "duration": 126,
    "start_time": "2022-09-25T13:44:25.335Z"
   },
   {
    "duration": 123,
    "start_time": "2022-09-25T13:44:46.489Z"
   },
   {
    "duration": 132,
    "start_time": "2022-09-25T13:46:37.178Z"
   },
   {
    "duration": 129,
    "start_time": "2022-09-25T13:48:10.750Z"
   },
   {
    "duration": 136,
    "start_time": "2022-09-25T13:49:15.612Z"
   },
   {
    "duration": 453,
    "start_time": "2022-09-25T13:50:04.378Z"
   },
   {
    "duration": 124,
    "start_time": "2022-09-25T13:50:22.202Z"
   },
   {
    "duration": 134,
    "start_time": "2022-09-25T13:50:50.326Z"
   },
   {
    "duration": 135,
    "start_time": "2022-09-25T13:53:53.524Z"
   },
   {
    "duration": 126,
    "start_time": "2022-09-25T13:55:21.642Z"
   },
   {
    "duration": 4,
    "start_time": "2022-09-25T13:57:18.052Z"
   },
   {
    "duration": 19,
    "start_time": "2022-09-25T13:57:24.049Z"
   },
   {
    "duration": 24,
    "start_time": "2022-09-25T13:57:34.372Z"
   },
   {
    "duration": 23,
    "start_time": "2022-09-25T13:58:16.124Z"
   },
   {
    "duration": 23,
    "start_time": "2022-09-25T13:58:19.425Z"
   },
   {
    "duration": 3,
    "start_time": "2022-09-25T13:58:26.432Z"
   },
   {
    "duration": 4,
    "start_time": "2022-09-25T13:58:34.357Z"
   },
   {
    "duration": 4,
    "start_time": "2022-09-25T13:59:03.753Z"
   },
   {
    "duration": 9,
    "start_time": "2022-09-25T13:59:14.108Z"
   },
   {
    "duration": 8,
    "start_time": "2022-09-25T13:59:18.050Z"
   },
   {
    "duration": 4,
    "start_time": "2022-09-25T13:59:22.522Z"
   },
   {
    "duration": 64,
    "start_time": "2022-09-25T13:59:26.567Z"
   },
   {
    "duration": 247,
    "start_time": "2022-09-25T13:59:51.470Z"
   },
   {
    "duration": 61,
    "start_time": "2022-09-25T14:00:25.904Z"
   },
   {
    "duration": 3,
    "start_time": "2022-09-25T14:00:56.124Z"
   },
   {
    "duration": 3,
    "start_time": "2022-09-25T14:00:59.507Z"
   },
   {
    "duration": 3,
    "start_time": "2022-09-25T14:01:09.591Z"
   },
   {
    "duration": 130,
    "start_time": "2022-09-25T14:04:56.547Z"
   },
   {
    "duration": 15,
    "start_time": "2022-09-25T14:11:55.376Z"
   },
   {
    "duration": 24463,
    "start_time": "2022-09-25T14:12:10.486Z"
   },
   {
    "duration": 7,
    "start_time": "2022-09-25T14:15:11.119Z"
   },
   {
    "duration": 38,
    "start_time": "2022-09-25T14:15:15.965Z"
   },
   {
    "duration": 12,
    "start_time": "2022-09-25T14:23:29.541Z"
   },
   {
    "duration": 10,
    "start_time": "2022-09-25T14:24:00.254Z"
   },
   {
    "duration": 9,
    "start_time": "2022-09-25T14:24:22.164Z"
   },
   {
    "duration": 22,
    "start_time": "2022-09-25T14:24:49.233Z"
   },
   {
    "duration": 12,
    "start_time": "2022-09-25T14:25:00.028Z"
   },
   {
    "duration": 125,
    "start_time": "2022-09-25T14:37:28.482Z"
   },
   {
    "duration": 13,
    "start_time": "2022-09-25T14:49:49.971Z"
   },
   {
    "duration": 12,
    "start_time": "2022-09-25T14:49:59.973Z"
   },
   {
    "duration": 9,
    "start_time": "2022-09-25T14:50:04.500Z"
   },
   {
    "duration": 8,
    "start_time": "2022-09-25T14:50:11.848Z"
   },
   {
    "duration": 8,
    "start_time": "2022-09-25T14:50:17.926Z"
   },
   {
    "duration": 8,
    "start_time": "2022-09-25T14:50:42.476Z"
   },
   {
    "duration": 9,
    "start_time": "2022-09-25T14:50:54.207Z"
   },
   {
    "duration": 7,
    "start_time": "2022-09-25T14:51:10.649Z"
   },
   {
    "duration": 6,
    "start_time": "2022-09-25T14:51:19.549Z"
   },
   {
    "duration": 10,
    "start_time": "2022-09-25T14:51:38.254Z"
   },
   {
    "duration": 109,
    "start_time": "2022-09-25T14:53:58.017Z"
   },
   {
    "duration": 16,
    "start_time": "2022-09-25T14:53:58.677Z"
   },
   {
    "duration": 5,
    "start_time": "2022-09-25T14:53:59.836Z"
   },
   {
    "duration": 6,
    "start_time": "2022-09-25T14:54:00.349Z"
   },
   {
    "duration": 8,
    "start_time": "2022-09-25T14:54:00.844Z"
   },
   {
    "duration": 4,
    "start_time": "2022-09-25T14:54:01.341Z"
   },
   {
    "duration": 7,
    "start_time": "2022-09-25T14:54:02.005Z"
   },
   {
    "duration": 22,
    "start_time": "2022-09-25T14:54:03.132Z"
   },
   {
    "duration": 265,
    "start_time": "2022-09-25T14:54:04.037Z"
   },
   {
    "duration": 4,
    "start_time": "2022-09-25T14:54:04.965Z"
   },
   {
    "duration": 7,
    "start_time": "2022-09-25T14:54:05.410Z"
   },
   {
    "duration": 13,
    "start_time": "2022-09-25T14:54:06.330Z"
   },
   {
    "duration": 37,
    "start_time": "2022-09-25T14:54:06.774Z"
   },
   {
    "duration": 5,
    "start_time": "2022-09-25T14:54:08.169Z"
   },
   {
    "duration": 6,
    "start_time": "2022-09-25T14:54:08.395Z"
   },
   {
    "duration": 5,
    "start_time": "2022-09-25T14:54:08.618Z"
   },
   {
    "duration": 6,
    "start_time": "2022-09-25T14:54:08.842Z"
   },
   {
    "duration": 3,
    "start_time": "2022-09-25T14:54:09.071Z"
   },
   {
    "duration": 279,
    "start_time": "2022-09-25T14:54:09.538Z"
   },
   {
    "duration": 211,
    "start_time": "2022-09-25T14:54:10.010Z"
   },
   {
    "duration": 22,
    "start_time": "2022-09-25T14:54:10.488Z"
   },
   {
    "duration": 20,
    "start_time": "2022-09-25T14:54:11.208Z"
   },
   {
    "duration": 4,
    "start_time": "2022-09-25T14:54:11.672Z"
   },
   {
    "duration": 210,
    "start_time": "2022-09-25T14:54:12.368Z"
   },
   {
    "duration": 220,
    "start_time": "2022-09-25T14:54:12.896Z"
   },
   {
    "duration": 207,
    "start_time": "2022-09-25T14:54:13.668Z"
   },
   {
    "duration": 295,
    "start_time": "2022-09-25T14:54:14.192Z"
   },
   {
    "duration": 198,
    "start_time": "2022-09-25T14:54:15.799Z"
   },
   {
    "duration": 244,
    "start_time": "2022-09-25T14:54:16.274Z"
   },
   {
    "duration": 181,
    "start_time": "2022-09-25T14:54:16.771Z"
   },
   {
    "duration": 193,
    "start_time": "2022-09-25T14:54:17.237Z"
   },
   {
    "duration": 109,
    "start_time": "2022-09-25T14:54:17.677Z"
   },
   {
    "duration": 55,
    "start_time": "2022-09-25T14:54:17.909Z"
   },
   {
    "duration": 1967,
    "start_time": "2022-09-25T14:54:18.133Z"
   },
   {
    "duration": 219,
    "start_time": "2022-09-25T14:54:20.101Z"
   },
   {
    "duration": 234,
    "start_time": "2022-09-25T14:54:20.322Z"
   },
   {
    "duration": 43,
    "start_time": "2022-09-25T14:54:21.517Z"
   },
   {
    "duration": 282,
    "start_time": "2022-09-25T14:54:22.429Z"
   },
   {
    "duration": 280,
    "start_time": "2022-09-25T14:54:23.611Z"
   },
   {
    "duration": 282,
    "start_time": "2022-09-25T14:54:24.580Z"
   },
   {
    "duration": 6,
    "start_time": "2022-09-25T14:54:25.106Z"
   },
   {
    "duration": 123,
    "start_time": "2022-09-25T14:54:45.872Z"
   },
   {
    "duration": 135,
    "start_time": "2022-09-25T14:54:48.185Z"
   },
   {
    "duration": 134,
    "start_time": "2022-09-25T14:54:49.786Z"
   },
   {
    "duration": 125,
    "start_time": "2022-09-25T14:54:50.586Z"
   },
   {
    "duration": 127,
    "start_time": "2022-09-25T14:54:51.809Z"
   },
   {
    "duration": 138,
    "start_time": "2022-09-25T14:54:53.327Z"
   },
   {
    "duration": 143,
    "start_time": "2022-09-25T14:54:55.855Z"
   },
   {
    "duration": 165,
    "start_time": "2022-09-25T14:54:57.310Z"
   },
   {
    "duration": 31,
    "start_time": "2022-09-25T14:55:08.138Z"
   },
   {
    "duration": 4,
    "start_time": "2022-09-25T14:55:10.826Z"
   },
   {
    "duration": 3,
    "start_time": "2022-09-25T14:55:11.482Z"
   },
   {
    "duration": 8,
    "start_time": "2022-09-25T14:55:20.509Z"
   },
   {
    "duration": 23,
    "start_time": "2022-09-25T14:55:26.069Z"
   },
   {
    "duration": 11,
    "start_time": "2022-09-25T14:55:47.452Z"
   },
   {
    "duration": 15,
    "start_time": "2022-09-25T14:55:59.239Z"
   },
   {
    "duration": 14,
    "start_time": "2022-09-25T14:56:02.972Z"
   },
   {
    "duration": 12,
    "start_time": "2022-09-25T14:56:08.082Z"
   },
   {
    "duration": 16,
    "start_time": "2022-09-25T15:00:54.434Z"
   },
   {
    "duration": 23,
    "start_time": "2022-09-25T15:01:06.074Z"
   },
   {
    "duration": 13,
    "start_time": "2022-09-25T15:01:13.954Z"
   },
   {
    "duration": 11,
    "start_time": "2022-09-25T15:01:47.680Z"
   },
   {
    "duration": 11,
    "start_time": "2022-09-25T15:02:08.325Z"
   },
   {
    "duration": 11,
    "start_time": "2022-09-25T15:02:21.101Z"
   },
   {
    "duration": 10,
    "start_time": "2022-09-25T15:02:30.411Z"
   },
   {
    "duration": 13,
    "start_time": "2022-09-25T15:02:41.294Z"
   },
   {
    "duration": 13,
    "start_time": "2022-09-25T15:02:45.955Z"
   },
   {
    "duration": 13,
    "start_time": "2022-09-25T15:04:06.588Z"
   },
   {
    "duration": 12,
    "start_time": "2022-09-25T15:04:29.236Z"
   },
   {
    "duration": 5,
    "start_time": "2022-09-25T15:04:39.303Z"
   },
   {
    "duration": 7,
    "start_time": "2022-09-25T15:04:43.069Z"
   },
   {
    "duration": 7,
    "start_time": "2022-09-25T15:05:11.210Z"
   },
   {
    "duration": 8,
    "start_time": "2022-09-25T15:05:16.449Z"
   },
   {
    "duration": 5,
    "start_time": "2022-09-25T15:05:34.114Z"
   },
   {
    "duration": 6,
    "start_time": "2022-09-25T15:05:58.888Z"
   },
   {
    "duration": 14,
    "start_time": "2022-09-25T15:07:55.417Z"
   },
   {
    "duration": 13,
    "start_time": "2022-09-25T15:08:01.711Z"
   },
   {
    "duration": 14,
    "start_time": "2022-09-25T15:09:07.854Z"
   },
   {
    "duration": 41,
    "start_time": "2022-09-25T15:09:14.066Z"
   },
   {
    "duration": 13,
    "start_time": "2022-09-25T15:09:31.038Z"
   },
   {
    "duration": 11,
    "start_time": "2022-09-25T15:09:47.149Z"
   },
   {
    "duration": 51,
    "start_time": "2022-09-25T15:09:56.337Z"
   },
   {
    "duration": 10,
    "start_time": "2022-09-25T15:10:07.366Z"
   },
   {
    "duration": 4,
    "start_time": "2022-09-25T15:11:54.074Z"
   },
   {
    "duration": 6,
    "start_time": "2022-09-25T15:12:01.165Z"
   },
   {
    "duration": 121,
    "start_time": "2022-09-25T15:12:29.478Z"
   },
   {
    "duration": 14,
    "start_time": "2022-09-25T15:12:29.600Z"
   },
   {
    "duration": 20,
    "start_time": "2022-09-25T15:12:29.615Z"
   },
   {
    "duration": 6,
    "start_time": "2022-09-25T15:12:29.637Z"
   },
   {
    "duration": 21,
    "start_time": "2022-09-25T15:12:29.645Z"
   },
   {
    "duration": 16,
    "start_time": "2022-09-25T15:12:29.668Z"
   },
   {
    "duration": 11,
    "start_time": "2022-09-25T15:12:29.686Z"
   },
   {
    "duration": 29,
    "start_time": "2022-09-25T15:12:29.698Z"
   },
   {
    "duration": 272,
    "start_time": "2022-09-25T15:12:29.729Z"
   },
   {
    "duration": 4,
    "start_time": "2022-09-25T15:12:30.004Z"
   },
   {
    "duration": 33,
    "start_time": "2022-09-25T15:12:30.010Z"
   },
   {
    "duration": 22,
    "start_time": "2022-09-25T15:12:30.045Z"
   },
   {
    "duration": 32,
    "start_time": "2022-09-25T15:12:30.069Z"
   },
   {
    "duration": 4,
    "start_time": "2022-09-25T15:12:30.103Z"
   },
   {
    "duration": 17,
    "start_time": "2022-09-25T15:12:30.109Z"
   },
   {
    "duration": 16,
    "start_time": "2022-09-25T15:12:30.127Z"
   },
   {
    "duration": 11,
    "start_time": "2022-09-25T15:12:30.145Z"
   },
   {
    "duration": 23,
    "start_time": "2022-09-25T15:12:30.158Z"
   },
   {
    "duration": 288,
    "start_time": "2022-09-25T15:12:30.183Z"
   },
   {
    "duration": 211,
    "start_time": "2022-09-25T15:12:30.472Z"
   },
   {
    "duration": 20,
    "start_time": "2022-09-25T15:12:30.685Z"
   },
   {
    "duration": 32,
    "start_time": "2022-09-25T15:12:30.707Z"
   },
   {
    "duration": 12,
    "start_time": "2022-09-25T15:12:30.740Z"
   },
   {
    "duration": 244,
    "start_time": "2022-09-25T15:12:30.753Z"
   },
   {
    "duration": 240,
    "start_time": "2022-09-25T15:12:30.999Z"
   },
   {
    "duration": 222,
    "start_time": "2022-09-25T15:12:31.241Z"
   },
   {
    "duration": 324,
    "start_time": "2022-09-25T15:12:31.465Z"
   },
   {
    "duration": 192,
    "start_time": "2022-09-25T15:12:31.792Z"
   },
   {
    "duration": 212,
    "start_time": "2022-09-25T15:12:31.986Z"
   },
   {
    "duration": 200,
    "start_time": "2022-09-25T15:12:32.200Z"
   },
   {
    "duration": 203,
    "start_time": "2022-09-25T15:12:32.402Z"
   },
   {
    "duration": 129,
    "start_time": "2022-09-25T15:12:32.606Z"
   },
   {
    "duration": 206,
    "start_time": "2022-09-25T15:12:32.736Z"
   },
   {
    "duration": 213,
    "start_time": "2022-09-25T15:12:32.944Z"
   },
   {
    "duration": 226,
    "start_time": "2022-09-25T15:12:33.158Z"
   },
   {
    "duration": 296,
    "start_time": "2022-09-25T15:12:33.386Z"
   },
   {
    "duration": 285,
    "start_time": "2022-09-25T15:12:33.684Z"
   },
   {
    "duration": 297,
    "start_time": "2022-09-25T15:12:33.971Z"
   },
   {
    "duration": 5,
    "start_time": "2022-09-25T15:12:34.269Z"
   },
   {
    "duration": 135,
    "start_time": "2022-09-25T15:12:34.276Z"
   },
   {
    "duration": 153,
    "start_time": "2022-09-25T15:12:34.413Z"
   },
   {
    "duration": 144,
    "start_time": "2022-09-25T15:12:34.568Z"
   },
   {
    "duration": 146,
    "start_time": "2022-09-25T15:12:34.714Z"
   },
   {
    "duration": 136,
    "start_time": "2022-09-25T15:12:34.862Z"
   },
   {
    "duration": 144,
    "start_time": "2022-09-25T15:12:35.000Z"
   },
   {
    "duration": 163,
    "start_time": "2022-09-25T15:12:35.145Z"
   },
   {
    "duration": 147,
    "start_time": "2022-09-25T15:12:35.310Z"
   },
   {
    "duration": 23,
    "start_time": "2022-09-25T15:12:35.459Z"
   },
   {
    "duration": 3,
    "start_time": "2022-09-25T15:12:35.484Z"
   },
   {
    "duration": 10,
    "start_time": "2022-09-25T15:12:35.488Z"
   },
   {
    "duration": 21,
    "start_time": "2022-09-25T15:12:35.499Z"
   },
   {
    "duration": 139,
    "start_time": "2022-09-25T15:12:59.657Z"
   },
   {
    "duration": 13,
    "start_time": "2022-09-25T15:12:59.798Z"
   },
   {
    "duration": 23,
    "start_time": "2022-09-25T15:12:59.813Z"
   },
   {
    "duration": 9,
    "start_time": "2022-09-25T15:12:59.839Z"
   },
   {
    "duration": 18,
    "start_time": "2022-09-25T15:12:59.850Z"
   },
   {
    "duration": 5,
    "start_time": "2022-09-25T15:12:59.870Z"
   },
   {
    "duration": 6,
    "start_time": "2022-09-25T15:12:59.877Z"
   },
   {
    "duration": 23,
    "start_time": "2022-09-25T15:12:59.885Z"
   },
   {
    "duration": 289,
    "start_time": "2022-09-25T15:12:59.909Z"
   },
   {
    "duration": 5,
    "start_time": "2022-09-25T15:13:00.202Z"
   },
   {
    "duration": 13,
    "start_time": "2022-09-25T15:13:00.209Z"
   },
   {
    "duration": 19,
    "start_time": "2022-09-25T15:13:00.223Z"
   },
   {
    "duration": 36,
    "start_time": "2022-09-25T15:13:00.244Z"
   },
   {
    "duration": 4,
    "start_time": "2022-09-25T15:13:00.281Z"
   },
   {
    "duration": 31,
    "start_time": "2022-09-25T15:13:00.286Z"
   },
   {
    "duration": 15,
    "start_time": "2022-09-25T15:13:00.319Z"
   },
   {
    "duration": 18,
    "start_time": "2022-09-25T15:13:00.336Z"
   },
   {
    "duration": 3,
    "start_time": "2022-09-25T15:13:00.357Z"
   },
   {
    "duration": 274,
    "start_time": "2022-09-25T15:13:00.362Z"
   },
   {
    "duration": 219,
    "start_time": "2022-09-25T15:13:00.638Z"
   },
   {
    "duration": 22,
    "start_time": "2022-09-25T15:13:00.859Z"
   },
   {
    "duration": 23,
    "start_time": "2022-09-25T15:13:00.882Z"
   },
   {
    "duration": 6,
    "start_time": "2022-09-25T15:13:00.908Z"
   },
   {
    "duration": 254,
    "start_time": "2022-09-25T15:13:00.915Z"
   },
   {
    "duration": 235,
    "start_time": "2022-09-25T15:13:01.170Z"
   },
   {
    "duration": 229,
    "start_time": "2022-09-25T15:13:01.406Z"
   },
   {
    "duration": 317,
    "start_time": "2022-09-25T15:13:01.637Z"
   },
   {
    "duration": 221,
    "start_time": "2022-09-25T15:13:01.958Z"
   },
   {
    "duration": 209,
    "start_time": "2022-09-25T15:13:02.181Z"
   },
   {
    "duration": 198,
    "start_time": "2022-09-25T15:13:02.392Z"
   },
   {
    "duration": 203,
    "start_time": "2022-09-25T15:13:02.592Z"
   },
   {
    "duration": 114,
    "start_time": "2022-09-25T15:13:02.796Z"
   },
   {
    "duration": 212,
    "start_time": "2022-09-25T15:13:02.912Z"
   },
   {
    "duration": 222,
    "start_time": "2022-09-25T15:13:03.126Z"
   },
   {
    "duration": 229,
    "start_time": "2022-09-25T15:13:03.350Z"
   },
   {
    "duration": 292,
    "start_time": "2022-09-25T15:13:03.580Z"
   },
   {
    "duration": 301,
    "start_time": "2022-09-25T15:13:03.873Z"
   },
   {
    "duration": 303,
    "start_time": "2022-09-25T15:13:04.176Z"
   },
   {
    "duration": 6,
    "start_time": "2022-09-25T15:13:04.481Z"
   },
   {
    "duration": 152,
    "start_time": "2022-09-25T15:13:04.489Z"
   },
   {
    "duration": 145,
    "start_time": "2022-09-25T15:13:04.642Z"
   },
   {
    "duration": 132,
    "start_time": "2022-09-25T15:13:04.789Z"
   },
   {
    "duration": 148,
    "start_time": "2022-09-25T15:13:04.922Z"
   },
   {
    "duration": 133,
    "start_time": "2022-09-25T15:13:05.071Z"
   },
   {
    "duration": 151,
    "start_time": "2022-09-25T15:13:05.205Z"
   },
   {
    "duration": 163,
    "start_time": "2022-09-25T15:13:05.357Z"
   },
   {
    "duration": 142,
    "start_time": "2022-09-25T15:13:05.521Z"
   },
   {
    "duration": 25,
    "start_time": "2022-09-25T15:13:05.665Z"
   },
   {
    "duration": 3,
    "start_time": "2022-09-25T15:13:05.692Z"
   },
   {
    "duration": 10,
    "start_time": "2022-09-25T15:13:05.696Z"
   },
   {
    "duration": 30,
    "start_time": "2022-09-25T15:13:05.707Z"
   },
   {
    "duration": 9,
    "start_time": "2022-09-25T15:13:52.683Z"
   },
   {
    "duration": 4,
    "start_time": "2022-09-25T15:13:53.337Z"
   },
   {
    "duration": 9,
    "start_time": "2022-09-25T15:14:34.714Z"
   },
   {
    "duration": 13,
    "start_time": "2022-09-25T15:15:00.288Z"
   },
   {
    "duration": 5,
    "start_time": "2022-09-25T15:15:01.750Z"
   },
   {
    "duration": 6,
    "start_time": "2022-09-25T15:15:09.475Z"
   },
   {
    "duration": 118,
    "start_time": "2022-09-25T15:15:17.276Z"
   },
   {
    "duration": 13,
    "start_time": "2022-09-25T15:15:17.396Z"
   },
   {
    "duration": 22,
    "start_time": "2022-09-25T15:15:17.411Z"
   },
   {
    "duration": 5,
    "start_time": "2022-09-25T15:15:17.435Z"
   },
   {
    "duration": 10,
    "start_time": "2022-09-25T15:15:17.442Z"
   },
   {
    "duration": 10,
    "start_time": "2022-09-25T15:15:17.453Z"
   },
   {
    "duration": 6,
    "start_time": "2022-09-25T15:15:17.464Z"
   },
   {
    "duration": 22,
    "start_time": "2022-09-25T15:15:17.472Z"
   },
   {
    "duration": 283,
    "start_time": "2022-09-25T15:15:17.496Z"
   },
   {
    "duration": 5,
    "start_time": "2022-09-25T15:15:17.782Z"
   },
   {
    "duration": 8,
    "start_time": "2022-09-25T15:15:17.788Z"
   },
   {
    "duration": 9,
    "start_time": "2022-09-25T15:15:17.797Z"
   },
   {
    "duration": 49,
    "start_time": "2022-09-25T15:15:17.808Z"
   },
   {
    "duration": 4,
    "start_time": "2022-09-25T15:15:17.858Z"
   },
   {
    "duration": 10,
    "start_time": "2022-09-25T15:15:17.863Z"
   },
   {
    "duration": 6,
    "start_time": "2022-09-25T15:15:17.875Z"
   },
   {
    "duration": 6,
    "start_time": "2022-09-25T15:15:17.882Z"
   },
   {
    "duration": 4,
    "start_time": "2022-09-25T15:15:17.890Z"
   },
   {
    "duration": 286,
    "start_time": "2022-09-25T15:15:17.895Z"
   },
   {
    "duration": 223,
    "start_time": "2022-09-25T15:15:18.183Z"
   },
   {
    "duration": 27,
    "start_time": "2022-09-25T15:15:18.408Z"
   },
   {
    "duration": 18,
    "start_time": "2022-09-25T15:15:18.437Z"
   },
   {
    "duration": 3,
    "start_time": "2022-09-25T15:15:18.457Z"
   },
   {
    "duration": 219,
    "start_time": "2022-09-25T15:15:18.462Z"
   },
   {
    "duration": 234,
    "start_time": "2022-09-25T15:15:18.682Z"
   },
   {
    "duration": 219,
    "start_time": "2022-09-25T15:15:18.918Z"
   },
   {
    "duration": 318,
    "start_time": "2022-09-25T15:15:19.138Z"
   },
   {
    "duration": 203,
    "start_time": "2022-09-25T15:15:19.460Z"
   },
   {
    "duration": 223,
    "start_time": "2022-09-25T15:15:19.664Z"
   },
   {
    "duration": 195,
    "start_time": "2022-09-25T15:15:19.888Z"
   },
   {
    "duration": 223,
    "start_time": "2022-09-25T15:15:20.085Z"
   },
   {
    "duration": 127,
    "start_time": "2022-09-25T15:15:20.310Z"
   },
   {
    "duration": 215,
    "start_time": "2022-09-25T15:15:20.439Z"
   },
   {
    "duration": 215,
    "start_time": "2022-09-25T15:15:20.656Z"
   },
   {
    "duration": 238,
    "start_time": "2022-09-25T15:15:20.873Z"
   },
   {
    "duration": 302,
    "start_time": "2022-09-25T15:15:21.112Z"
   },
   {
    "duration": 314,
    "start_time": "2022-09-25T15:15:21.416Z"
   },
   {
    "duration": 292,
    "start_time": "2022-09-25T15:15:21.733Z"
   },
   {
    "duration": 10,
    "start_time": "2022-09-25T15:15:22.027Z"
   },
   {
    "duration": 145,
    "start_time": "2022-09-25T15:15:22.039Z"
   },
   {
    "duration": 149,
    "start_time": "2022-09-25T15:15:22.186Z"
   },
   {
    "duration": 135,
    "start_time": "2022-09-25T15:15:22.337Z"
   },
   {
    "duration": 149,
    "start_time": "2022-09-25T15:15:22.473Z"
   },
   {
    "duration": 134,
    "start_time": "2022-09-25T15:15:22.623Z"
   },
   {
    "duration": 150,
    "start_time": "2022-09-25T15:15:22.759Z"
   },
   {
    "duration": 156,
    "start_time": "2022-09-25T15:15:22.911Z"
   },
   {
    "duration": 196,
    "start_time": "2022-09-25T15:15:23.068Z"
   },
   {
    "duration": 23,
    "start_time": "2022-09-25T15:15:23.266Z"
   },
   {
    "duration": 3,
    "start_time": "2022-09-25T15:15:23.290Z"
   },
   {
    "duration": 5,
    "start_time": "2022-09-25T15:15:23.295Z"
   },
   {
    "duration": 13,
    "start_time": "2022-09-25T15:15:23.301Z"
   },
   {
    "duration": 6,
    "start_time": "2022-09-25T15:15:23.334Z"
   },
   {
    "duration": 3,
    "start_time": "2022-09-25T15:16:12.667Z"
   },
   {
    "duration": 13,
    "start_time": "2022-09-25T15:16:14.521Z"
   },
   {
    "duration": 138,
    "start_time": "2022-09-25T15:16:38.395Z"
   },
   {
    "duration": 13,
    "start_time": "2022-09-25T15:16:38.535Z"
   },
   {
    "duration": 5,
    "start_time": "2022-09-25T15:16:38.550Z"
   },
   {
    "duration": 5,
    "start_time": "2022-09-25T15:16:38.557Z"
   },
   {
    "duration": 9,
    "start_time": "2022-09-25T15:16:38.563Z"
   },
   {
    "duration": 6,
    "start_time": "2022-09-25T15:16:38.573Z"
   },
   {
    "duration": 5,
    "start_time": "2022-09-25T15:16:38.580Z"
   },
   {
    "duration": 64,
    "start_time": "2022-09-25T15:16:38.586Z"
   },
   {
    "duration": 282,
    "start_time": "2022-09-25T15:16:38.651Z"
   },
   {
    "duration": 6,
    "start_time": "2022-09-25T15:16:38.935Z"
   },
   {
    "duration": 11,
    "start_time": "2022-09-25T15:16:38.942Z"
   },
   {
    "duration": 11,
    "start_time": "2022-09-25T15:16:38.954Z"
   },
   {
    "duration": 34,
    "start_time": "2022-09-25T15:16:38.966Z"
   },
   {
    "duration": 4,
    "start_time": "2022-09-25T15:16:39.001Z"
   },
   {
    "duration": 35,
    "start_time": "2022-09-25T15:16:39.006Z"
   },
   {
    "duration": 7,
    "start_time": "2022-09-25T15:16:39.043Z"
   },
   {
    "duration": 5,
    "start_time": "2022-09-25T15:16:39.052Z"
   },
   {
    "duration": 4,
    "start_time": "2022-09-25T15:16:39.058Z"
   },
   {
    "duration": 276,
    "start_time": "2022-09-25T15:16:39.063Z"
   },
   {
    "duration": 215,
    "start_time": "2022-09-25T15:16:39.340Z"
   },
   {
    "duration": 23,
    "start_time": "2022-09-25T15:16:39.557Z"
   },
   {
    "duration": 22,
    "start_time": "2022-09-25T15:16:39.581Z"
   },
   {
    "duration": 4,
    "start_time": "2022-09-25T15:16:39.604Z"
   },
   {
    "duration": 260,
    "start_time": "2022-09-25T15:16:39.609Z"
   },
   {
    "duration": 232,
    "start_time": "2022-09-25T15:16:39.871Z"
   },
   {
    "duration": 224,
    "start_time": "2022-09-25T15:16:40.104Z"
   },
   {
    "duration": 298,
    "start_time": "2022-09-25T15:16:40.329Z"
   },
   {
    "duration": 222,
    "start_time": "2022-09-25T15:16:40.633Z"
   },
   {
    "duration": 226,
    "start_time": "2022-09-25T15:16:40.856Z"
   },
   {
    "duration": 213,
    "start_time": "2022-09-25T15:16:41.084Z"
   },
   {
    "duration": 208,
    "start_time": "2022-09-25T15:16:41.298Z"
   },
   {
    "duration": 136,
    "start_time": "2022-09-25T15:16:41.508Z"
   },
   {
    "duration": 216,
    "start_time": "2022-09-25T15:16:41.646Z"
   },
   {
    "duration": 209,
    "start_time": "2022-09-25T15:16:41.863Z"
   },
   {
    "duration": 242,
    "start_time": "2022-09-25T15:16:42.074Z"
   },
   {
    "duration": 271,
    "start_time": "2022-09-25T15:16:42.318Z"
   },
   {
    "duration": 284,
    "start_time": "2022-09-25T15:16:42.591Z"
   },
   {
    "duration": 318,
    "start_time": "2022-09-25T15:16:42.876Z"
   },
   {
    "duration": 5,
    "start_time": "2022-09-25T15:16:43.196Z"
   },
   {
    "duration": 133,
    "start_time": "2022-09-25T15:16:43.202Z"
   },
   {
    "duration": 139,
    "start_time": "2022-09-25T15:16:43.336Z"
   },
   {
    "duration": 137,
    "start_time": "2022-09-25T15:16:43.477Z"
   },
   {
    "duration": 148,
    "start_time": "2022-09-25T15:16:43.616Z"
   },
   {
    "duration": 127,
    "start_time": "2022-09-25T15:16:43.766Z"
   },
   {
    "duration": 145,
    "start_time": "2022-09-25T15:16:43.895Z"
   },
   {
    "duration": 160,
    "start_time": "2022-09-25T15:16:44.042Z"
   },
   {
    "duration": 150,
    "start_time": "2022-09-25T15:16:44.205Z"
   },
   {
    "duration": 23,
    "start_time": "2022-09-25T15:16:44.357Z"
   },
   {
    "duration": 4,
    "start_time": "2022-09-25T15:16:44.381Z"
   },
   {
    "duration": 5,
    "start_time": "2022-09-25T15:16:44.387Z"
   },
   {
    "duration": 6,
    "start_time": "2022-09-25T15:16:44.393Z"
   },
   {
    "duration": 35,
    "start_time": "2022-09-25T15:16:44.401Z"
   },
   {
    "duration": 5,
    "start_time": "2022-09-25T15:16:44.438Z"
   },
   {
    "duration": 48,
    "start_time": "2022-09-25T15:17:05.349Z"
   },
   {
    "duration": 45,
    "start_time": "2022-09-25T15:17:15.505Z"
   },
   {
    "duration": 53,
    "start_time": "2022-09-25T15:17:26.375Z"
   },
   {
    "duration": 29,
    "start_time": "2022-09-25T15:17:37.537Z"
   },
   {
    "duration": 142,
    "start_time": "2022-09-25T15:18:05.911Z"
   },
   {
    "duration": 16,
    "start_time": "2022-09-25T15:18:06.055Z"
   },
   {
    "duration": 6,
    "start_time": "2022-09-25T15:18:06.073Z"
   },
   {
    "duration": 7,
    "start_time": "2022-09-25T15:18:06.081Z"
   },
   {
    "duration": 62,
    "start_time": "2022-09-25T15:18:06.089Z"
   },
   {
    "duration": 9,
    "start_time": "2022-09-25T15:18:06.155Z"
   },
   {
    "duration": 6,
    "start_time": "2022-09-25T15:18:06.165Z"
   },
   {
    "duration": 28,
    "start_time": "2022-09-25T15:18:06.173Z"
   },
   {
    "duration": 349,
    "start_time": "2022-09-25T15:18:06.203Z"
   },
   {
    "duration": 4,
    "start_time": "2022-09-25T15:18:06.554Z"
   },
   {
    "duration": 8,
    "start_time": "2022-09-25T15:18:06.560Z"
   },
   {
    "duration": 9,
    "start_time": "2022-09-25T15:18:06.570Z"
   },
   {
    "duration": 32,
    "start_time": "2022-09-25T15:18:06.581Z"
   },
   {
    "duration": 4,
    "start_time": "2022-09-25T15:18:06.614Z"
   },
   {
    "duration": 13,
    "start_time": "2022-09-25T15:18:06.633Z"
   },
   {
    "duration": 14,
    "start_time": "2022-09-25T15:18:06.647Z"
   },
   {
    "duration": 9,
    "start_time": "2022-09-25T15:18:06.662Z"
   },
   {
    "duration": 6,
    "start_time": "2022-09-25T15:18:06.672Z"
   },
   {
    "duration": 280,
    "start_time": "2022-09-25T15:18:06.679Z"
   },
   {
    "duration": 216,
    "start_time": "2022-09-25T15:18:06.961Z"
   },
   {
    "duration": 23,
    "start_time": "2022-09-25T15:18:07.179Z"
   },
   {
    "duration": 39,
    "start_time": "2022-09-25T15:18:07.204Z"
   },
   {
    "duration": 6,
    "start_time": "2022-09-25T15:18:07.244Z"
   },
   {
    "duration": 233,
    "start_time": "2022-09-25T15:18:07.251Z"
   },
   {
    "duration": 265,
    "start_time": "2022-09-25T15:18:07.486Z"
   },
   {
    "duration": 220,
    "start_time": "2022-09-25T15:18:07.753Z"
   },
   {
    "duration": 313,
    "start_time": "2022-09-25T15:18:07.975Z"
   },
   {
    "duration": 210,
    "start_time": "2022-09-25T15:18:08.291Z"
   },
   {
    "duration": 220,
    "start_time": "2022-09-25T15:18:08.503Z"
   },
   {
    "duration": 198,
    "start_time": "2022-09-25T15:18:08.725Z"
   },
   {
    "duration": 222,
    "start_time": "2022-09-25T15:18:08.925Z"
   },
   {
    "duration": 115,
    "start_time": "2022-09-25T15:18:09.149Z"
   },
   {
    "duration": 222,
    "start_time": "2022-09-25T15:18:09.266Z"
   },
   {
    "duration": 211,
    "start_time": "2022-09-25T15:18:09.490Z"
   },
   {
    "duration": 228,
    "start_time": "2022-09-25T15:18:09.702Z"
   },
   {
    "duration": 3034,
    "start_time": "2022-09-25T15:18:09.932Z"
   },
   {
    "duration": 308,
    "start_time": "2022-09-25T15:18:12.968Z"
   },
   {
    "duration": 299,
    "start_time": "2022-09-25T15:18:13.278Z"
   },
   {
    "duration": 5,
    "start_time": "2022-09-25T15:18:13.578Z"
   },
   {
    "duration": 136,
    "start_time": "2022-09-25T15:18:13.584Z"
   },
   {
    "duration": 161,
    "start_time": "2022-09-25T15:18:13.721Z"
   },
   {
    "duration": 133,
    "start_time": "2022-09-25T15:18:13.883Z"
   },
   {
    "duration": 149,
    "start_time": "2022-09-25T15:18:14.017Z"
   },
   {
    "duration": 138,
    "start_time": "2022-09-25T15:18:14.168Z"
   },
   {
    "duration": 158,
    "start_time": "2022-09-25T15:18:14.308Z"
   },
   {
    "duration": 146,
    "start_time": "2022-09-25T15:18:14.468Z"
   },
   {
    "duration": 149,
    "start_time": "2022-09-25T15:18:14.616Z"
   },
   {
    "duration": 23,
    "start_time": "2022-09-25T15:18:14.767Z"
   },
   {
    "duration": 3,
    "start_time": "2022-09-25T15:18:14.792Z"
   },
   {
    "duration": 6,
    "start_time": "2022-09-25T15:18:14.796Z"
   },
   {
    "duration": 4,
    "start_time": "2022-09-25T15:18:14.803Z"
   },
   {
    "duration": 37,
    "start_time": "2022-09-25T15:18:14.809Z"
   },
   {
    "duration": 9,
    "start_time": "2022-09-25T15:18:14.848Z"
   },
   {
    "duration": 14,
    "start_time": "2022-09-25T15:18:48.773Z"
   },
   {
    "duration": 11,
    "start_time": "2022-09-25T15:18:57.137Z"
   },
   {
    "duration": 8,
    "start_time": "2022-09-25T15:18:58.716Z"
   },
   {
    "duration": 7,
    "start_time": "2022-09-25T15:19:08.244Z"
   },
   {
    "duration": 7,
    "start_time": "2022-09-25T15:19:43.958Z"
   },
   {
    "duration": 5,
    "start_time": "2022-09-25T15:19:56.466Z"
   },
   {
    "duration": 4,
    "start_time": "2022-09-25T15:20:49.372Z"
   },
   {
    "duration": 13,
    "start_time": "2022-09-25T15:20:50.395Z"
   },
   {
    "duration": 14,
    "start_time": "2022-09-25T15:21:25.734Z"
   },
   {
    "duration": 5,
    "start_time": "2022-09-25T15:21:26.747Z"
   },
   {
    "duration": 7,
    "start_time": "2022-09-25T15:21:32.832Z"
   },
   {
    "duration": 113,
    "start_time": "2022-09-25T15:21:49.032Z"
   },
   {
    "duration": 14,
    "start_time": "2022-09-25T15:21:49.147Z"
   },
   {
    "duration": 5,
    "start_time": "2022-09-25T15:21:49.162Z"
   },
   {
    "duration": 7,
    "start_time": "2022-09-25T15:21:49.169Z"
   },
   {
    "duration": 11,
    "start_time": "2022-09-25T15:21:49.178Z"
   },
   {
    "duration": 8,
    "start_time": "2022-09-25T15:21:49.190Z"
   },
   {
    "duration": 9,
    "start_time": "2022-09-25T15:21:49.199Z"
   },
   {
    "duration": 22,
    "start_time": "2022-09-25T15:21:49.233Z"
   },
   {
    "duration": 271,
    "start_time": "2022-09-25T15:21:49.257Z"
   },
   {
    "duration": 4,
    "start_time": "2022-09-25T15:21:49.533Z"
   },
   {
    "duration": 8,
    "start_time": "2022-09-25T15:21:49.538Z"
   },
   {
    "duration": 11,
    "start_time": "2022-09-25T15:21:49.548Z"
   },
   {
    "duration": 34,
    "start_time": "2022-09-25T15:21:49.561Z"
   },
   {
    "duration": 4,
    "start_time": "2022-09-25T15:21:49.597Z"
   },
   {
    "duration": 34,
    "start_time": "2022-09-25T15:21:49.602Z"
   },
   {
    "duration": 6,
    "start_time": "2022-09-25T15:21:49.638Z"
   },
   {
    "duration": 6,
    "start_time": "2022-09-25T15:21:49.646Z"
   },
   {
    "duration": 4,
    "start_time": "2022-09-25T15:21:49.654Z"
   },
   {
    "duration": 309,
    "start_time": "2022-09-25T15:21:49.660Z"
   },
   {
    "duration": 209,
    "start_time": "2022-09-25T15:21:49.971Z"
   },
   {
    "duration": 21,
    "start_time": "2022-09-25T15:21:50.182Z"
   },
   {
    "duration": 34,
    "start_time": "2022-09-25T15:21:50.205Z"
   },
   {
    "duration": 4,
    "start_time": "2022-09-25T15:21:50.241Z"
   },
   {
    "duration": 230,
    "start_time": "2022-09-25T15:21:50.247Z"
   },
   {
    "duration": 243,
    "start_time": "2022-09-25T15:21:50.479Z"
   },
   {
    "duration": 222,
    "start_time": "2022-09-25T15:21:50.723Z"
   },
   {
    "duration": 334,
    "start_time": "2022-09-25T15:21:50.947Z"
   },
   {
    "duration": 228,
    "start_time": "2022-09-25T15:21:51.284Z"
   },
   {
    "duration": 219,
    "start_time": "2022-09-25T15:21:51.514Z"
   },
   {
    "duration": 201,
    "start_time": "2022-09-25T15:21:51.735Z"
   },
   {
    "duration": 221,
    "start_time": "2022-09-25T15:21:51.938Z"
   },
   {
    "duration": 125,
    "start_time": "2022-09-25T15:21:52.161Z"
   },
   {
    "duration": 219,
    "start_time": "2022-09-25T15:21:52.288Z"
   },
   {
    "duration": 211,
    "start_time": "2022-09-25T15:21:52.509Z"
   },
   {
    "duration": 234,
    "start_time": "2022-09-25T15:21:52.721Z"
   },
   {
    "duration": 286,
    "start_time": "2022-09-25T15:21:52.957Z"
   },
   {
    "duration": 283,
    "start_time": "2022-09-25T15:21:53.244Z"
   },
   {
    "duration": 293,
    "start_time": "2022-09-25T15:21:53.529Z"
   },
   {
    "duration": 11,
    "start_time": "2022-09-25T15:21:53.823Z"
   },
   {
    "duration": 131,
    "start_time": "2022-09-25T15:21:53.835Z"
   },
   {
    "duration": 152,
    "start_time": "2022-09-25T15:21:53.968Z"
   },
   {
    "duration": 138,
    "start_time": "2022-09-25T15:21:54.122Z"
   },
   {
    "duration": 149,
    "start_time": "2022-09-25T15:21:54.262Z"
   },
   {
    "duration": 131,
    "start_time": "2022-09-25T15:21:54.412Z"
   },
   {
    "duration": 161,
    "start_time": "2022-09-25T15:21:54.546Z"
   },
   {
    "duration": 150,
    "start_time": "2022-09-25T15:21:54.709Z"
   },
   {
    "duration": 134,
    "start_time": "2022-09-25T15:21:54.860Z"
   },
   {
    "duration": 26,
    "start_time": "2022-09-25T15:21:54.995Z"
   },
   {
    "duration": 4,
    "start_time": "2022-09-25T15:21:55.033Z"
   },
   {
    "duration": 11,
    "start_time": "2022-09-25T15:21:55.038Z"
   },
   {
    "duration": 6,
    "start_time": "2022-09-25T15:21:55.050Z"
   },
   {
    "duration": 17,
    "start_time": "2022-09-25T15:21:55.057Z"
   },
   {
    "duration": 788,
    "start_time": "2022-09-25T15:21:55.075Z"
   },
   {
    "duration": 12,
    "start_time": "2022-09-25T15:22:48.805Z"
   },
   {
    "duration": 12,
    "start_time": "2022-09-25T15:23:08.574Z"
   },
   {
    "duration": 12,
    "start_time": "2022-09-25T15:23:15.786Z"
   },
   {
    "duration": 12,
    "start_time": "2022-09-25T15:23:19.184Z"
   },
   {
    "duration": 820,
    "start_time": "2022-09-25T15:23:22.583Z"
   },
   {
    "duration": 6,
    "start_time": "2022-09-25T15:23:30.627Z"
   },
   {
    "duration": 147,
    "start_time": "2022-09-25T15:23:34.558Z"
   },
   {
    "duration": 35,
    "start_time": "2022-09-25T15:23:34.707Z"
   },
   {
    "duration": 6,
    "start_time": "2022-09-25T15:23:34.743Z"
   },
   {
    "duration": 16,
    "start_time": "2022-09-25T15:23:34.751Z"
   },
   {
    "duration": 18,
    "start_time": "2022-09-25T15:23:34.770Z"
   },
   {
    "duration": 16,
    "start_time": "2022-09-25T15:23:34.791Z"
   },
   {
    "duration": 23,
    "start_time": "2022-09-25T15:23:34.809Z"
   },
   {
    "duration": 52,
    "start_time": "2022-09-25T15:23:34.834Z"
   },
   {
    "duration": 297,
    "start_time": "2022-09-25T15:23:34.888Z"
   },
   {
    "duration": 4,
    "start_time": "2022-09-25T15:23:35.188Z"
   },
   {
    "duration": 9,
    "start_time": "2022-09-25T15:23:35.193Z"
   },
   {
    "duration": 11,
    "start_time": "2022-09-25T15:23:35.204Z"
   },
   {
    "duration": 46,
    "start_time": "2022-09-25T15:23:35.217Z"
   },
   {
    "duration": 4,
    "start_time": "2022-09-25T15:23:35.264Z"
   },
   {
    "duration": 11,
    "start_time": "2022-09-25T15:23:35.269Z"
   },
   {
    "duration": 5,
    "start_time": "2022-09-25T15:23:35.282Z"
   },
   {
    "duration": 8,
    "start_time": "2022-09-25T15:23:35.289Z"
   },
   {
    "duration": 5,
    "start_time": "2022-09-25T15:23:35.298Z"
   },
   {
    "duration": 265,
    "start_time": "2022-09-25T15:23:35.304Z"
   },
   {
    "duration": 212,
    "start_time": "2022-09-25T15:23:35.571Z"
   },
   {
    "duration": 23,
    "start_time": "2022-09-25T15:23:35.785Z"
   },
   {
    "duration": 30,
    "start_time": "2022-09-25T15:23:35.810Z"
   },
   {
    "duration": 4,
    "start_time": "2022-09-25T15:23:35.841Z"
   },
   {
    "duration": 252,
    "start_time": "2022-09-25T15:23:35.846Z"
   },
   {
    "duration": 292,
    "start_time": "2022-09-25T15:23:36.100Z"
   },
   {
    "duration": 239,
    "start_time": "2022-09-25T15:23:36.394Z"
   },
   {
    "duration": 313,
    "start_time": "2022-09-25T15:23:36.635Z"
   },
   {
    "duration": 208,
    "start_time": "2022-09-25T15:23:36.952Z"
   },
   {
    "duration": 212,
    "start_time": "2022-09-25T15:23:37.162Z"
   },
   {
    "duration": 186,
    "start_time": "2022-09-25T15:23:37.376Z"
   },
   {
    "duration": 212,
    "start_time": "2022-09-25T15:23:37.564Z"
   },
   {
    "duration": 124,
    "start_time": "2022-09-25T15:23:37.778Z"
   },
   {
    "duration": 226,
    "start_time": "2022-09-25T15:23:37.904Z"
   },
   {
    "duration": 223,
    "start_time": "2022-09-25T15:23:38.132Z"
   },
   {
    "duration": 224,
    "start_time": "2022-09-25T15:23:38.357Z"
   },
   {
    "duration": 309,
    "start_time": "2022-09-25T15:23:38.583Z"
   },
   {
    "duration": 315,
    "start_time": "2022-09-25T15:23:38.894Z"
   },
   {
    "duration": 324,
    "start_time": "2022-09-25T15:23:39.211Z"
   },
   {
    "duration": 6,
    "start_time": "2022-09-25T15:23:39.537Z"
   },
   {
    "duration": 142,
    "start_time": "2022-09-25T15:23:39.544Z"
   },
   {
    "duration": 169,
    "start_time": "2022-09-25T15:23:39.688Z"
   },
   {
    "duration": 132,
    "start_time": "2022-09-25T15:23:39.859Z"
   },
   {
    "duration": 148,
    "start_time": "2022-09-25T15:23:39.993Z"
   },
   {
    "duration": 138,
    "start_time": "2022-09-25T15:23:40.142Z"
   },
   {
    "duration": 141,
    "start_time": "2022-09-25T15:23:40.282Z"
   },
   {
    "duration": 152,
    "start_time": "2022-09-25T15:23:40.425Z"
   },
   {
    "duration": 143,
    "start_time": "2022-09-25T15:23:40.579Z"
   },
   {
    "duration": 31,
    "start_time": "2022-09-25T15:23:40.723Z"
   },
   {
    "duration": 4,
    "start_time": "2022-09-25T15:23:40.757Z"
   },
   {
    "duration": 7,
    "start_time": "2022-09-25T15:23:40.763Z"
   },
   {
    "duration": 18,
    "start_time": "2022-09-25T15:23:40.772Z"
   },
   {
    "duration": 19,
    "start_time": "2022-09-25T15:23:40.792Z"
   },
   {
    "duration": 20,
    "start_time": "2022-09-25T15:23:40.814Z"
   },
   {
    "duration": 11,
    "start_time": "2022-09-25T15:24:14.372Z"
   },
   {
    "duration": 6,
    "start_time": "2022-09-25T15:24:15.177Z"
   },
   {
    "duration": 117,
    "start_time": "2022-09-25T15:24:21.695Z"
   },
   {
    "duration": 15,
    "start_time": "2022-09-25T15:24:22.302Z"
   },
   {
    "duration": 5,
    "start_time": "2022-09-25T15:24:23.382Z"
   },
   {
    "duration": 6,
    "start_time": "2022-09-25T15:24:23.789Z"
   },
   {
    "duration": 8,
    "start_time": "2022-09-25T15:24:24.197Z"
   },
   {
    "duration": 6,
    "start_time": "2022-09-25T15:24:24.620Z"
   },
   {
    "duration": 6,
    "start_time": "2022-09-25T15:24:25.284Z"
   },
   {
    "duration": 36,
    "start_time": "2022-09-25T15:24:26.923Z"
   },
   {
    "duration": 262,
    "start_time": "2022-09-25T15:24:27.724Z"
   },
   {
    "duration": 6,
    "start_time": "2022-09-25T15:24:28.771Z"
   },
   {
    "duration": 7,
    "start_time": "2022-09-25T15:24:29.307Z"
   },
   {
    "duration": 10,
    "start_time": "2022-09-25T15:24:30.291Z"
   },
   {
    "duration": 35,
    "start_time": "2022-09-25T15:24:30.729Z"
   },
   {
    "duration": 4,
    "start_time": "2022-09-25T15:24:32.057Z"
   },
   {
    "duration": 6,
    "start_time": "2022-09-25T15:24:32.313Z"
   },
   {
    "duration": 6,
    "start_time": "2022-09-25T15:24:32.513Z"
   },
   {
    "duration": 6,
    "start_time": "2022-09-25T15:24:32.737Z"
   },
   {
    "duration": 3,
    "start_time": "2022-09-25T15:24:32.970Z"
   },
   {
    "duration": 262,
    "start_time": "2022-09-25T15:24:33.409Z"
   },
   {
    "duration": 215,
    "start_time": "2022-09-25T15:24:34.113Z"
   },
   {
    "duration": 23,
    "start_time": "2022-09-25T15:24:34.570Z"
   },
   {
    "duration": 22,
    "start_time": "2022-09-25T15:24:35.225Z"
   },
   {
    "duration": 3,
    "start_time": "2022-09-25T15:24:35.665Z"
   },
   {
    "duration": 253,
    "start_time": "2022-09-25T15:24:36.362Z"
   },
   {
    "duration": 216,
    "start_time": "2022-09-25T15:24:36.887Z"
   },
   {
    "duration": 224,
    "start_time": "2022-09-25T15:24:38.264Z"
   },
   {
    "duration": 321,
    "start_time": "2022-09-25T15:24:39.456Z"
   },
   {
    "duration": 219,
    "start_time": "2022-09-25T15:24:40.527Z"
   },
   {
    "duration": 194,
    "start_time": "2022-09-25T15:24:41.071Z"
   },
   {
    "duration": 194,
    "start_time": "2022-09-25T15:24:41.704Z"
   },
   {
    "duration": 188,
    "start_time": "2022-09-25T15:24:42.286Z"
   },
   {
    "duration": 110,
    "start_time": "2022-09-25T15:24:43.237Z"
   },
   {
    "duration": 193,
    "start_time": "2022-09-25T15:24:44.308Z"
   },
   {
    "duration": 216,
    "start_time": "2022-09-25T15:24:45.507Z"
   },
   {
    "duration": 223,
    "start_time": "2022-09-25T15:24:46.644Z"
   },
   {
    "duration": 280,
    "start_time": "2022-09-25T15:24:52.522Z"
   },
   {
    "duration": 272,
    "start_time": "2022-09-25T15:24:54.665Z"
   },
   {
    "duration": 293,
    "start_time": "2022-09-25T15:24:56.440Z"
   },
   {
    "duration": 5,
    "start_time": "2022-09-25T15:24:57.424Z"
   },
   {
    "duration": 129,
    "start_time": "2022-09-25T15:25:00.360Z"
   },
   {
    "duration": 134,
    "start_time": "2022-09-25T15:25:01.446Z"
   },
   {
    "duration": 135,
    "start_time": "2022-09-25T15:25:02.557Z"
   },
   {
    "duration": 129,
    "start_time": "2022-09-25T15:25:03.485Z"
   },
   {
    "duration": 129,
    "start_time": "2022-09-25T15:25:04.997Z"
   },
   {
    "duration": 134,
    "start_time": "2022-09-25T15:25:06.517Z"
   },
   {
    "duration": 133,
    "start_time": "2022-09-25T15:25:07.970Z"
   },
   {
    "duration": 135,
    "start_time": "2022-09-25T15:25:09.355Z"
   },
   {
    "duration": 24,
    "start_time": "2022-09-25T15:25:31.563Z"
   },
   {
    "duration": 3,
    "start_time": "2022-09-25T15:25:33.618Z"
   },
   {
    "duration": 4,
    "start_time": "2022-09-25T15:25:34.193Z"
   },
   {
    "duration": 4,
    "start_time": "2022-09-25T15:25:40.062Z"
   },
   {
    "duration": 15,
    "start_time": "2022-09-25T15:25:41.494Z"
   },
   {
    "duration": 12,
    "start_time": "2022-09-25T15:25:51.763Z"
   },
   {
    "duration": 11,
    "start_time": "2022-09-25T15:25:56.075Z"
   },
   {
    "duration": 11,
    "start_time": "2022-09-25T15:25:58.376Z"
   },
   {
    "duration": 11,
    "start_time": "2022-09-25T15:26:03.077Z"
   },
   {
    "duration": 117,
    "start_time": "2022-09-25T15:26:08.224Z"
   },
   {
    "duration": 13,
    "start_time": "2022-09-25T15:26:08.343Z"
   },
   {
    "duration": 16,
    "start_time": "2022-09-25T15:26:08.358Z"
   },
   {
    "duration": 15,
    "start_time": "2022-09-25T15:26:08.377Z"
   },
   {
    "duration": 10,
    "start_time": "2022-09-25T15:26:08.393Z"
   },
   {
    "duration": 12,
    "start_time": "2022-09-25T15:26:08.404Z"
   },
   {
    "duration": 6,
    "start_time": "2022-09-25T15:26:08.418Z"
   },
   {
    "duration": 37,
    "start_time": "2022-09-25T15:26:08.434Z"
   },
   {
    "duration": 294,
    "start_time": "2022-09-25T15:26:08.474Z"
   },
   {
    "duration": 4,
    "start_time": "2022-09-25T15:26:08.772Z"
   },
   {
    "duration": 13,
    "start_time": "2022-09-25T15:26:08.778Z"
   },
   {
    "duration": 13,
    "start_time": "2022-09-25T15:26:08.793Z"
   },
   {
    "duration": 47,
    "start_time": "2022-09-25T15:26:08.808Z"
   },
   {
    "duration": 3,
    "start_time": "2022-09-25T15:26:08.857Z"
   },
   {
    "duration": 9,
    "start_time": "2022-09-25T15:26:08.862Z"
   },
   {
    "duration": 7,
    "start_time": "2022-09-25T15:26:08.873Z"
   },
   {
    "duration": 6,
    "start_time": "2022-09-25T15:26:08.881Z"
   },
   {
    "duration": 3,
    "start_time": "2022-09-25T15:26:08.889Z"
   },
   {
    "duration": 291,
    "start_time": "2022-09-25T15:26:08.894Z"
   },
   {
    "duration": 207,
    "start_time": "2022-09-25T15:26:09.187Z"
   },
   {
    "duration": 22,
    "start_time": "2022-09-25T15:26:09.396Z"
   },
   {
    "duration": 30,
    "start_time": "2022-09-25T15:26:09.420Z"
   },
   {
    "duration": 3,
    "start_time": "2022-09-25T15:26:09.452Z"
   },
   {
    "duration": 228,
    "start_time": "2022-09-25T15:26:09.457Z"
   },
   {
    "duration": 259,
    "start_time": "2022-09-25T15:26:09.688Z"
   },
   {
    "duration": 222,
    "start_time": "2022-09-25T15:26:09.949Z"
   },
   {
    "duration": 353,
    "start_time": "2022-09-25T15:26:10.173Z"
   },
   {
    "duration": 207,
    "start_time": "2022-09-25T15:26:10.533Z"
   },
   {
    "duration": 231,
    "start_time": "2022-09-25T15:26:10.741Z"
   },
   {
    "duration": 196,
    "start_time": "2022-09-25T15:26:10.974Z"
   },
   {
    "duration": 195,
    "start_time": "2022-09-25T15:26:11.171Z"
   },
   {
    "duration": 117,
    "start_time": "2022-09-25T15:26:11.368Z"
   },
   {
    "duration": 245,
    "start_time": "2022-09-25T15:26:11.486Z"
   },
   {
    "duration": 227,
    "start_time": "2022-09-25T15:26:11.733Z"
   },
   {
    "duration": 254,
    "start_time": "2022-09-25T15:26:11.962Z"
   },
   {
    "duration": 295,
    "start_time": "2022-09-25T15:26:12.218Z"
   },
   {
    "duration": 292,
    "start_time": "2022-09-25T15:26:12.515Z"
   },
   {
    "duration": 291,
    "start_time": "2022-09-25T15:26:12.809Z"
   },
   {
    "duration": 5,
    "start_time": "2022-09-25T15:26:13.102Z"
   },
   {
    "duration": 2104,
    "start_time": "2022-09-25T15:26:13.108Z"
   },
   {
    "duration": 161,
    "start_time": "2022-09-25T15:26:15.214Z"
   },
   {
    "duration": 149,
    "start_time": "2022-09-25T15:26:15.377Z"
   },
   {
    "duration": 148,
    "start_time": "2022-09-25T15:26:15.533Z"
   },
   {
    "duration": 160,
    "start_time": "2022-09-25T15:26:15.683Z"
   },
   {
    "duration": 153,
    "start_time": "2022-09-25T15:26:15.844Z"
   },
   {
    "duration": 159,
    "start_time": "2022-09-25T15:26:15.999Z"
   },
   {
    "duration": 221,
    "start_time": "2022-09-25T15:26:16.160Z"
   },
   {
    "duration": 33,
    "start_time": "2022-09-25T15:26:16.383Z"
   },
   {
    "duration": 20,
    "start_time": "2022-09-25T15:26:16.418Z"
   },
   {
    "duration": 11,
    "start_time": "2022-09-25T15:26:16.440Z"
   },
   {
    "duration": 11,
    "start_time": "2022-09-25T15:26:16.453Z"
   },
   {
    "duration": 21,
    "start_time": "2022-09-25T15:26:16.466Z"
   },
   {
    "duration": 5,
    "start_time": "2022-09-25T15:26:16.489Z"
   },
   {
    "duration": 114,
    "start_time": "2022-09-25T15:27:44.002Z"
   },
   {
    "duration": 29,
    "start_time": "2022-09-25T15:27:44.117Z"
   },
   {
    "duration": 5,
    "start_time": "2022-09-25T15:27:44.147Z"
   },
   {
    "duration": 11,
    "start_time": "2022-09-25T15:27:44.154Z"
   },
   {
    "duration": 12,
    "start_time": "2022-09-25T15:27:44.167Z"
   },
   {
    "duration": 8,
    "start_time": "2022-09-25T15:27:44.180Z"
   },
   {
    "duration": 5,
    "start_time": "2022-09-25T15:27:44.189Z"
   },
   {
    "duration": 56,
    "start_time": "2022-09-25T15:27:44.196Z"
   },
   {
    "duration": 262,
    "start_time": "2022-09-25T15:27:44.253Z"
   },
   {
    "duration": 4,
    "start_time": "2022-09-25T15:27:44.518Z"
   },
   {
    "duration": 14,
    "start_time": "2022-09-25T15:27:44.523Z"
   },
   {
    "duration": 15,
    "start_time": "2022-09-25T15:27:44.539Z"
   },
   {
    "duration": 45,
    "start_time": "2022-09-25T15:27:44.555Z"
   },
   {
    "duration": 4,
    "start_time": "2022-09-25T15:27:44.601Z"
   },
   {
    "duration": 27,
    "start_time": "2022-09-25T15:27:44.607Z"
   },
   {
    "duration": 5,
    "start_time": "2022-09-25T15:27:44.636Z"
   },
   {
    "duration": 9,
    "start_time": "2022-09-25T15:27:44.643Z"
   },
   {
    "duration": 4,
    "start_time": "2022-09-25T15:27:44.654Z"
   },
   {
    "duration": 261,
    "start_time": "2022-09-25T15:27:44.659Z"
   },
   {
    "duration": 201,
    "start_time": "2022-09-25T15:27:44.922Z"
   },
   {
    "duration": 26,
    "start_time": "2022-09-25T15:27:45.124Z"
   },
   {
    "duration": 19,
    "start_time": "2022-09-25T15:27:45.152Z"
   },
   {
    "duration": 4,
    "start_time": "2022-09-25T15:27:45.172Z"
   },
   {
    "duration": 260,
    "start_time": "2022-09-25T15:27:45.178Z"
   },
   {
    "duration": 250,
    "start_time": "2022-09-25T15:27:45.440Z"
   },
   {
    "duration": 228,
    "start_time": "2022-09-25T15:27:45.692Z"
   },
   {
    "duration": 341,
    "start_time": "2022-09-25T15:27:45.922Z"
   },
   {
    "duration": 300,
    "start_time": "2022-09-25T15:27:46.268Z"
   },
   {
    "duration": 207,
    "start_time": "2022-09-25T15:27:46.569Z"
   },
   {
    "duration": 200,
    "start_time": "2022-09-25T15:27:46.777Z"
   },
   {
    "duration": 207,
    "start_time": "2022-09-25T15:27:46.980Z"
   },
   {
    "duration": 129,
    "start_time": "2022-09-25T15:27:47.189Z"
   },
   {
    "duration": 220,
    "start_time": "2022-09-25T15:27:47.320Z"
   },
   {
    "duration": 228,
    "start_time": "2022-09-25T15:27:47.542Z"
   },
   {
    "duration": 234,
    "start_time": "2022-09-25T15:27:47.772Z"
   },
   {
    "duration": 389,
    "start_time": "2022-09-25T15:27:48.008Z"
   },
   {
    "duration": 334,
    "start_time": "2022-09-25T15:27:48.399Z"
   },
   {
    "duration": 317,
    "start_time": "2022-09-25T15:27:48.735Z"
   },
   {
    "duration": 5,
    "start_time": "2022-09-25T15:27:49.053Z"
   },
   {
    "duration": 136,
    "start_time": "2022-09-25T15:27:49.060Z"
   },
   {
    "duration": 160,
    "start_time": "2022-09-25T15:27:49.197Z"
   },
   {
    "duration": 135,
    "start_time": "2022-09-25T15:27:49.359Z"
   },
   {
    "duration": 147,
    "start_time": "2022-09-25T15:27:49.496Z"
   },
   {
    "duration": 158,
    "start_time": "2022-09-25T15:27:49.644Z"
   },
   {
    "duration": 158,
    "start_time": "2022-09-25T15:27:49.804Z"
   },
   {
    "duration": 169,
    "start_time": "2022-09-25T15:27:49.965Z"
   },
   {
    "duration": 148,
    "start_time": "2022-09-25T15:27:50.136Z"
   },
   {
    "duration": 28,
    "start_time": "2022-09-25T15:27:50.285Z"
   },
   {
    "duration": 4,
    "start_time": "2022-09-25T15:27:50.314Z"
   },
   {
    "duration": 6,
    "start_time": "2022-09-25T15:27:50.333Z"
   },
   {
    "duration": 8,
    "start_time": "2022-09-25T15:27:50.340Z"
   },
   {
    "duration": 16,
    "start_time": "2022-09-25T15:27:50.349Z"
   },
   {
    "duration": 8,
    "start_time": "2022-09-25T15:27:50.366Z"
   },
   {
    "duration": 6,
    "start_time": "2022-09-25T15:28:29.517Z"
   },
   {
    "duration": 12,
    "start_time": "2022-09-25T15:29:41.456Z"
   },
   {
    "duration": 12,
    "start_time": "2022-09-25T15:30:00.280Z"
   },
   {
    "duration": 52,
    "start_time": "2022-09-25T15:30:58.760Z"
   },
   {
    "duration": 99,
    "start_time": "2022-09-25T15:31:28.572Z"
   },
   {
    "duration": 67,
    "start_time": "2022-09-25T15:31:46.181Z"
   },
   {
    "duration": 11,
    "start_time": "2022-09-25T15:32:26.025Z"
   },
   {
    "duration": 37,
    "start_time": "2022-09-25T15:34:10.741Z"
   },
   {
    "duration": 13,
    "start_time": "2022-09-25T15:34:36.774Z"
   },
   {
    "duration": 13,
    "start_time": "2022-09-25T15:34:50.531Z"
   },
   {
    "duration": 13,
    "start_time": "2022-09-25T15:35:36.385Z"
   },
   {
    "duration": 12,
    "start_time": "2022-09-25T15:35:57.832Z"
   },
   {
    "duration": 12,
    "start_time": "2022-09-25T15:36:18.505Z"
   },
   {
    "duration": 8,
    "start_time": "2022-09-25T15:36:27.214Z"
   },
   {
    "duration": 13,
    "start_time": "2022-09-25T15:36:36.276Z"
   },
   {
    "duration": 6,
    "start_time": "2022-09-25T15:36:39.169Z"
   },
   {
    "duration": 11,
    "start_time": "2022-09-25T15:37:21.520Z"
   },
   {
    "duration": 11,
    "start_time": "2022-09-25T15:37:22.956Z"
   },
   {
    "duration": 125,
    "start_time": "2022-09-25T15:37:26.570Z"
   },
   {
    "duration": 13,
    "start_time": "2022-09-25T15:37:26.697Z"
   },
   {
    "duration": 31,
    "start_time": "2022-09-25T15:37:26.711Z"
   },
   {
    "duration": 21,
    "start_time": "2022-09-25T15:37:26.747Z"
   },
   {
    "duration": 14,
    "start_time": "2022-09-25T15:37:26.770Z"
   },
   {
    "duration": 12,
    "start_time": "2022-09-25T15:37:26.785Z"
   },
   {
    "duration": 6,
    "start_time": "2022-09-25T15:37:26.799Z"
   },
   {
    "duration": 23,
    "start_time": "2022-09-25T15:37:26.806Z"
   },
   {
    "duration": 289,
    "start_time": "2022-09-25T15:37:26.831Z"
   },
   {
    "duration": 4,
    "start_time": "2022-09-25T15:37:27.123Z"
   },
   {
    "duration": 31,
    "start_time": "2022-09-25T15:37:27.128Z"
   },
   {
    "duration": 18,
    "start_time": "2022-09-25T15:37:27.160Z"
   },
   {
    "duration": 33,
    "start_time": "2022-09-25T15:37:27.179Z"
   },
   {
    "duration": 4,
    "start_time": "2022-09-25T15:37:27.213Z"
   },
   {
    "duration": 12,
    "start_time": "2022-09-25T15:37:27.218Z"
   },
   {
    "duration": 26,
    "start_time": "2022-09-25T15:37:27.231Z"
   },
   {
    "duration": 9,
    "start_time": "2022-09-25T15:37:27.260Z"
   },
   {
    "duration": 4,
    "start_time": "2022-09-25T15:37:27.270Z"
   },
   {
    "duration": 298,
    "start_time": "2022-09-25T15:37:27.275Z"
   },
   {
    "duration": 223,
    "start_time": "2022-09-25T15:37:27.575Z"
   },
   {
    "duration": 21,
    "start_time": "2022-09-25T15:37:27.800Z"
   },
   {
    "duration": 42,
    "start_time": "2022-09-25T15:37:27.823Z"
   },
   {
    "duration": 7,
    "start_time": "2022-09-25T15:37:27.867Z"
   },
   {
    "duration": 241,
    "start_time": "2022-09-25T15:37:27.875Z"
   },
   {
    "duration": 279,
    "start_time": "2022-09-25T15:37:28.118Z"
   },
   {
    "duration": 264,
    "start_time": "2022-09-25T15:37:28.399Z"
   },
   {
    "duration": 356,
    "start_time": "2022-09-25T15:37:28.664Z"
   },
   {
    "duration": 256,
    "start_time": "2022-09-25T15:37:29.025Z"
   },
   {
    "duration": 244,
    "start_time": "2022-09-25T15:37:29.282Z"
   },
   {
    "duration": 224,
    "start_time": "2022-09-25T15:37:29.528Z"
   },
   {
    "duration": 221,
    "start_time": "2022-09-25T15:37:29.754Z"
   },
   {
    "duration": 136,
    "start_time": "2022-09-25T15:37:29.977Z"
   },
   {
    "duration": 257,
    "start_time": "2022-09-25T15:37:30.114Z"
   },
   {
    "duration": 238,
    "start_time": "2022-09-25T15:37:30.373Z"
   },
   {
    "duration": 276,
    "start_time": "2022-09-25T15:37:30.613Z"
   },
   {
    "duration": 325,
    "start_time": "2022-09-25T15:37:30.890Z"
   },
   {
    "duration": 345,
    "start_time": "2022-09-25T15:37:31.216Z"
   },
   {
    "duration": 326,
    "start_time": "2022-09-25T15:37:31.563Z"
   },
   {
    "duration": 5,
    "start_time": "2022-09-25T15:37:31.891Z"
   },
   {
    "duration": 164,
    "start_time": "2022-09-25T15:37:31.898Z"
   },
   {
    "duration": 157,
    "start_time": "2022-09-25T15:37:32.064Z"
   },
   {
    "duration": 153,
    "start_time": "2022-09-25T15:37:32.222Z"
   },
   {
    "duration": 163,
    "start_time": "2022-09-25T15:37:32.377Z"
   },
   {
    "duration": 142,
    "start_time": "2022-09-25T15:37:32.541Z"
   },
   {
    "duration": 147,
    "start_time": "2022-09-25T15:37:32.685Z"
   },
   {
    "duration": 171,
    "start_time": "2022-09-25T15:37:32.836Z"
   },
   {
    "duration": 166,
    "start_time": "2022-09-25T15:37:33.009Z"
   },
   {
    "duration": 28,
    "start_time": "2022-09-25T15:37:33.177Z"
   },
   {
    "duration": 3,
    "start_time": "2022-09-25T15:37:33.207Z"
   },
   {
    "duration": 36,
    "start_time": "2022-09-25T15:37:33.211Z"
   },
   {
    "duration": 16,
    "start_time": "2022-09-25T15:37:33.253Z"
   },
   {
    "duration": 16,
    "start_time": "2022-09-25T15:37:33.270Z"
   },
   {
    "duration": 6,
    "start_time": "2022-09-25T15:37:33.287Z"
   },
   {
    "duration": 13,
    "start_time": "2022-09-25T15:38:00.455Z"
   },
   {
    "duration": 10,
    "start_time": "2022-09-25T15:38:03.999Z"
   },
   {
    "duration": 113,
    "start_time": "2022-09-25T15:38:21.323Z"
   },
   {
    "duration": 14,
    "start_time": "2022-09-25T15:38:21.437Z"
   },
   {
    "duration": 4,
    "start_time": "2022-09-25T15:38:21.453Z"
   },
   {
    "duration": 7,
    "start_time": "2022-09-25T15:38:21.459Z"
   },
   {
    "duration": 10,
    "start_time": "2022-09-25T15:38:21.467Z"
   },
   {
    "duration": 8,
    "start_time": "2022-09-25T15:38:21.479Z"
   },
   {
    "duration": 5,
    "start_time": "2022-09-25T15:38:21.488Z"
   },
   {
    "duration": 54,
    "start_time": "2022-09-25T15:38:21.494Z"
   },
   {
    "duration": 259,
    "start_time": "2022-09-25T15:38:21.550Z"
   },
   {
    "duration": 4,
    "start_time": "2022-09-25T15:38:21.812Z"
   },
   {
    "duration": 12,
    "start_time": "2022-09-25T15:38:21.817Z"
   },
   {
    "duration": 12,
    "start_time": "2022-09-25T15:38:21.833Z"
   },
   {
    "duration": 33,
    "start_time": "2022-09-25T15:38:21.847Z"
   },
   {
    "duration": 4,
    "start_time": "2022-09-25T15:38:21.881Z"
   },
   {
    "duration": 12,
    "start_time": "2022-09-25T15:38:21.886Z"
   },
   {
    "duration": 5,
    "start_time": "2022-09-25T15:38:21.899Z"
   },
   {
    "duration": 5,
    "start_time": "2022-09-25T15:38:21.906Z"
   },
   {
    "duration": 21,
    "start_time": "2022-09-25T15:38:21.913Z"
   },
   {
    "duration": 270,
    "start_time": "2022-09-25T15:38:21.935Z"
   },
   {
    "duration": 203,
    "start_time": "2022-09-25T15:38:22.207Z"
   },
   {
    "duration": 28,
    "start_time": "2022-09-25T15:38:22.411Z"
   },
   {
    "duration": 19,
    "start_time": "2022-09-25T15:38:22.441Z"
   },
   {
    "duration": 6,
    "start_time": "2022-09-25T15:38:22.462Z"
   },
   {
    "duration": 228,
    "start_time": "2022-09-25T15:38:22.470Z"
   },
   {
    "duration": 233,
    "start_time": "2022-09-25T15:38:22.700Z"
   },
   {
    "duration": 213,
    "start_time": "2022-09-25T15:38:22.935Z"
   },
   {
    "duration": 301,
    "start_time": "2022-09-25T15:38:23.149Z"
   },
   {
    "duration": 207,
    "start_time": "2022-09-25T15:38:23.453Z"
   },
   {
    "duration": 211,
    "start_time": "2022-09-25T15:38:23.662Z"
   },
   {
    "duration": 203,
    "start_time": "2022-09-25T15:38:23.875Z"
   },
   {
    "duration": 221,
    "start_time": "2022-09-25T15:38:24.080Z"
   },
   {
    "duration": 120,
    "start_time": "2022-09-25T15:38:24.303Z"
   },
   {
    "duration": 215,
    "start_time": "2022-09-25T15:38:24.424Z"
   },
   {
    "duration": 211,
    "start_time": "2022-09-25T15:38:24.642Z"
   },
   {
    "duration": 232,
    "start_time": "2022-09-25T15:38:24.855Z"
   },
   {
    "duration": 294,
    "start_time": "2022-09-25T15:38:25.089Z"
   },
   {
    "duration": 285,
    "start_time": "2022-09-25T15:38:25.385Z"
   },
   {
    "duration": 299,
    "start_time": "2022-09-25T15:38:25.672Z"
   },
   {
    "duration": 5,
    "start_time": "2022-09-25T15:38:25.972Z"
   },
   {
    "duration": 130,
    "start_time": "2022-09-25T15:38:25.978Z"
   },
   {
    "duration": 181,
    "start_time": "2022-09-25T15:38:26.110Z"
   },
   {
    "duration": 170,
    "start_time": "2022-09-25T15:38:26.293Z"
   },
   {
    "duration": 133,
    "start_time": "2022-09-25T15:38:26.465Z"
   },
   {
    "duration": 122,
    "start_time": "2022-09-25T15:38:26.599Z"
   },
   {
    "duration": 153,
    "start_time": "2022-09-25T15:38:26.722Z"
   },
   {
    "duration": 139,
    "start_time": "2022-09-25T15:38:26.877Z"
   },
   {
    "duration": 140,
    "start_time": "2022-09-25T15:38:27.018Z"
   },
   {
    "duration": 24,
    "start_time": "2022-09-25T15:38:27.160Z"
   },
   {
    "duration": 4,
    "start_time": "2022-09-25T15:38:27.186Z"
   },
   {
    "duration": 9,
    "start_time": "2022-09-25T15:38:27.191Z"
   },
   {
    "duration": 10,
    "start_time": "2022-09-25T15:38:27.201Z"
   },
   {
    "duration": 30,
    "start_time": "2022-09-25T15:38:27.213Z"
   },
   {
    "duration": 7,
    "start_time": "2022-09-25T15:38:27.244Z"
   },
   {
    "duration": 110,
    "start_time": "2022-09-25T15:39:12.758Z"
   },
   {
    "duration": 13,
    "start_time": "2022-09-25T15:39:12.870Z"
   },
   {
    "duration": 17,
    "start_time": "2022-09-25T15:39:12.885Z"
   },
   {
    "duration": 18,
    "start_time": "2022-09-25T15:39:12.904Z"
   },
   {
    "duration": 28,
    "start_time": "2022-09-25T15:39:12.924Z"
   },
   {
    "duration": 11,
    "start_time": "2022-09-25T15:39:12.954Z"
   },
   {
    "duration": 15,
    "start_time": "2022-09-25T15:39:12.967Z"
   },
   {
    "duration": 27,
    "start_time": "2022-09-25T15:39:12.983Z"
   },
   {
    "duration": 265,
    "start_time": "2022-09-25T15:39:13.011Z"
   },
   {
    "duration": 4,
    "start_time": "2022-09-25T15:39:13.278Z"
   },
   {
    "duration": 10,
    "start_time": "2022-09-25T15:39:13.283Z"
   },
   {
    "duration": 15,
    "start_time": "2022-09-25T15:39:13.294Z"
   },
   {
    "duration": 37,
    "start_time": "2022-09-25T15:39:13.310Z"
   },
   {
    "duration": 3,
    "start_time": "2022-09-25T15:39:13.351Z"
   },
   {
    "duration": 20,
    "start_time": "2022-09-25T15:39:13.356Z"
   },
   {
    "duration": 12,
    "start_time": "2022-09-25T15:39:13.377Z"
   },
   {
    "duration": 14,
    "start_time": "2022-09-25T15:39:13.390Z"
   },
   {
    "duration": 16,
    "start_time": "2022-09-25T15:39:13.406Z"
   },
   {
    "duration": 277,
    "start_time": "2022-09-25T15:39:13.424Z"
   },
   {
    "duration": 202,
    "start_time": "2022-09-25T15:39:13.703Z"
   },
   {
    "duration": 20,
    "start_time": "2022-09-25T15:39:13.907Z"
   },
   {
    "duration": 19,
    "start_time": "2022-09-25T15:39:13.934Z"
   },
   {
    "duration": 3,
    "start_time": "2022-09-25T15:39:13.954Z"
   },
   {
    "duration": 239,
    "start_time": "2022-09-25T15:39:13.958Z"
   },
   {
    "duration": 225,
    "start_time": "2022-09-25T15:39:14.199Z"
   },
   {
    "duration": 207,
    "start_time": "2022-09-25T15:39:14.426Z"
   },
   {
    "duration": 300,
    "start_time": "2022-09-25T15:39:14.635Z"
   },
   {
    "duration": 200,
    "start_time": "2022-09-25T15:39:14.937Z"
   },
   {
    "duration": 205,
    "start_time": "2022-09-25T15:39:15.139Z"
   },
   {
    "duration": 203,
    "start_time": "2022-09-25T15:39:15.346Z"
   },
   {
    "duration": 212,
    "start_time": "2022-09-25T15:39:15.550Z"
   },
   {
    "duration": 119,
    "start_time": "2022-09-25T15:39:15.763Z"
   },
   {
    "duration": 199,
    "start_time": "2022-09-25T15:39:15.884Z"
   },
   {
    "duration": 215,
    "start_time": "2022-09-25T15:39:16.084Z"
   },
   {
    "duration": 297,
    "start_time": "2022-09-25T15:39:16.300Z"
   },
   {
    "duration": 308,
    "start_time": "2022-09-25T15:39:16.600Z"
   },
   {
    "duration": 282,
    "start_time": "2022-09-25T15:39:16.910Z"
   },
   {
    "duration": 298,
    "start_time": "2022-09-25T15:39:17.194Z"
   },
   {
    "duration": 6,
    "start_time": "2022-09-25T15:39:17.494Z"
   },
   {
    "duration": 140,
    "start_time": "2022-09-25T15:39:17.501Z"
   },
   {
    "duration": 156,
    "start_time": "2022-09-25T15:39:17.645Z"
   },
   {
    "duration": 141,
    "start_time": "2022-09-25T15:39:17.803Z"
   },
   {
    "duration": 140,
    "start_time": "2022-09-25T15:39:17.946Z"
   },
   {
    "duration": 145,
    "start_time": "2022-09-25T15:39:18.088Z"
   },
   {
    "duration": 145,
    "start_time": "2022-09-25T15:39:18.235Z"
   },
   {
    "duration": 147,
    "start_time": "2022-09-25T15:39:18.382Z"
   },
   {
    "duration": 140,
    "start_time": "2022-09-25T15:39:18.533Z"
   },
   {
    "duration": 25,
    "start_time": "2022-09-25T15:39:18.674Z"
   },
   {
    "duration": 5,
    "start_time": "2022-09-25T15:39:18.700Z"
   },
   {
    "duration": 26,
    "start_time": "2022-09-25T15:39:18.706Z"
   },
   {
    "duration": 9,
    "start_time": "2022-09-25T15:39:18.734Z"
   },
   {
    "duration": 17,
    "start_time": "2022-09-25T15:39:18.745Z"
   },
   {
    "duration": 8,
    "start_time": "2022-09-25T15:39:18.764Z"
   },
   {
    "duration": 778,
    "start_time": "2022-09-25T15:39:57.153Z"
   },
   {
    "duration": 2214,
    "start_time": "2022-09-25T15:40:02.024Z"
   },
   {
    "duration": 957,
    "start_time": "2022-09-25T15:40:05.806Z"
   },
   {
    "duration": 798,
    "start_time": "2022-09-25T15:40:15.947Z"
   },
   {
    "duration": 13,
    "start_time": "2022-09-25T15:40:56.163Z"
   },
   {
    "duration": 11,
    "start_time": "2022-09-25T15:41:10.595Z"
   },
   {
    "duration": 1111,
    "start_time": "2022-09-25T15:41:37.938Z"
   },
   {
    "duration": 139,
    "start_time": "2022-09-25T15:41:50.408Z"
   },
   {
    "duration": 13,
    "start_time": "2022-09-25T15:41:50.549Z"
   },
   {
    "duration": 25,
    "start_time": "2022-09-25T15:41:50.564Z"
   },
   {
    "duration": 51,
    "start_time": "2022-09-25T15:41:50.591Z"
   },
   {
    "duration": 22,
    "start_time": "2022-09-25T15:41:50.644Z"
   },
   {
    "duration": 53,
    "start_time": "2022-09-25T15:41:50.667Z"
   },
   {
    "duration": 25,
    "start_time": "2022-09-25T15:41:50.722Z"
   },
   {
    "duration": 70,
    "start_time": "2022-09-25T15:41:50.748Z"
   },
   {
    "duration": 284,
    "start_time": "2022-09-25T15:41:50.820Z"
   },
   {
    "duration": 4,
    "start_time": "2022-09-25T15:41:51.107Z"
   },
   {
    "duration": 33,
    "start_time": "2022-09-25T15:41:51.112Z"
   },
   {
    "duration": 46,
    "start_time": "2022-09-25T15:41:51.147Z"
   },
   {
    "duration": 71,
    "start_time": "2022-09-25T15:41:51.194Z"
   },
   {
    "duration": 18,
    "start_time": "2022-09-25T15:41:51.267Z"
   },
   {
    "duration": 34,
    "start_time": "2022-09-25T15:41:51.287Z"
   },
   {
    "duration": 26,
    "start_time": "2022-09-25T15:41:51.322Z"
   },
   {
    "duration": 16,
    "start_time": "2022-09-25T15:41:51.349Z"
   },
   {
    "duration": 37,
    "start_time": "2022-09-25T15:41:51.367Z"
   },
   {
    "duration": 280,
    "start_time": "2022-09-25T15:41:51.406Z"
   },
   {
    "duration": 2218,
    "start_time": "2022-09-25T15:41:51.688Z"
   },
   {
    "duration": 27,
    "start_time": "2022-09-25T15:41:53.908Z"
   },
   {
    "duration": 18,
    "start_time": "2022-09-25T15:41:53.936Z"
   },
   {
    "duration": 2,
    "start_time": "2022-09-25T15:41:53.956Z"
   },
   {
    "duration": 226,
    "start_time": "2022-09-25T15:41:53.960Z"
   },
   {
    "duration": 250,
    "start_time": "2022-09-25T15:41:54.187Z"
   },
   {
    "duration": 213,
    "start_time": "2022-09-25T15:41:54.439Z"
   },
   {
    "duration": 306,
    "start_time": "2022-09-25T15:41:54.654Z"
   },
   {
    "duration": 205,
    "start_time": "2022-09-25T15:41:54.963Z"
   },
   {
    "duration": 214,
    "start_time": "2022-09-25T15:41:55.170Z"
   },
   {
    "duration": 190,
    "start_time": "2022-09-25T15:41:55.385Z"
   },
   {
    "duration": 207,
    "start_time": "2022-09-25T15:41:55.577Z"
   },
   {
    "duration": 125,
    "start_time": "2022-09-25T15:41:55.786Z"
   },
   {
    "duration": 206,
    "start_time": "2022-09-25T15:41:55.913Z"
   },
   {
    "duration": 277,
    "start_time": "2022-09-25T15:41:56.121Z"
   },
   {
    "duration": 265,
    "start_time": "2022-09-25T15:41:56.400Z"
   },
   {
    "duration": 292,
    "start_time": "2022-09-25T15:41:56.667Z"
   },
   {
    "duration": 283,
    "start_time": "2022-09-25T15:41:56.960Z"
   },
   {
    "duration": 302,
    "start_time": "2022-09-25T15:41:57.245Z"
   },
   {
    "duration": 4,
    "start_time": "2022-09-25T15:41:57.549Z"
   },
   {
    "duration": 137,
    "start_time": "2022-09-25T15:41:57.554Z"
   },
   {
    "duration": 134,
    "start_time": "2022-09-25T15:41:57.692Z"
   },
   {
    "duration": 133,
    "start_time": "2022-09-25T15:41:57.833Z"
   },
   {
    "duration": 132,
    "start_time": "2022-09-25T15:41:57.968Z"
   },
   {
    "duration": 135,
    "start_time": "2022-09-25T15:41:58.102Z"
   },
   {
    "duration": 146,
    "start_time": "2022-09-25T15:41:58.238Z"
   },
   {
    "duration": 156,
    "start_time": "2022-09-25T15:41:58.386Z"
   },
   {
    "duration": 146,
    "start_time": "2022-09-25T15:41:58.544Z"
   },
   {
    "duration": 29,
    "start_time": "2022-09-25T15:41:58.692Z"
   },
   {
    "duration": 11,
    "start_time": "2022-09-25T15:41:58.734Z"
   },
   {
    "duration": 11,
    "start_time": "2022-09-25T15:41:58.747Z"
   },
   {
    "duration": 7,
    "start_time": "2022-09-25T15:41:58.760Z"
   },
   {
    "duration": 21,
    "start_time": "2022-09-25T15:41:58.768Z"
   },
   {
    "duration": 16,
    "start_time": "2022-09-25T15:41:58.791Z"
   },
   {
    "duration": 12,
    "start_time": "2022-09-25T15:42:06.732Z"
   },
   {
    "duration": 11,
    "start_time": "2022-09-25T15:42:16.195Z"
   },
   {
    "duration": 6,
    "start_time": "2022-09-25T15:42:17.086Z"
   },
   {
    "duration": 115,
    "start_time": "2022-09-25T15:42:28.752Z"
   },
   {
    "duration": 14,
    "start_time": "2022-09-25T15:42:28.869Z"
   },
   {
    "duration": 5,
    "start_time": "2022-09-25T15:42:28.885Z"
   },
   {
    "duration": 6,
    "start_time": "2022-09-25T15:42:28.892Z"
   },
   {
    "duration": 35,
    "start_time": "2022-09-25T15:42:28.899Z"
   },
   {
    "duration": 4,
    "start_time": "2022-09-25T15:42:28.936Z"
   },
   {
    "duration": 9,
    "start_time": "2022-09-25T15:42:28.941Z"
   },
   {
    "duration": 24,
    "start_time": "2022-09-25T15:42:28.951Z"
   },
   {
    "duration": 265,
    "start_time": "2022-09-25T15:42:28.976Z"
   },
   {
    "duration": 4,
    "start_time": "2022-09-25T15:42:29.243Z"
   },
   {
    "duration": 8,
    "start_time": "2022-09-25T15:42:29.248Z"
   },
   {
    "duration": 9,
    "start_time": "2022-09-25T15:42:29.258Z"
   },
   {
    "duration": 32,
    "start_time": "2022-09-25T15:42:29.268Z"
   },
   {
    "duration": 3,
    "start_time": "2022-09-25T15:42:29.302Z"
   },
   {
    "duration": 27,
    "start_time": "2022-09-25T15:42:29.307Z"
   },
   {
    "duration": 4,
    "start_time": "2022-09-25T15:42:29.336Z"
   },
   {
    "duration": 12,
    "start_time": "2022-09-25T15:42:29.342Z"
   },
   {
    "duration": 10,
    "start_time": "2022-09-25T15:42:29.356Z"
   },
   {
    "duration": 268,
    "start_time": "2022-09-25T15:42:29.367Z"
   },
   {
    "duration": 224,
    "start_time": "2022-09-25T15:42:29.637Z"
   },
   {
    "duration": 22,
    "start_time": "2022-09-25T15:42:29.863Z"
   },
   {
    "duration": 19,
    "start_time": "2022-09-25T15:42:29.887Z"
   },
   {
    "duration": 2,
    "start_time": "2022-09-25T15:42:29.908Z"
   },
   {
    "duration": 234,
    "start_time": "2022-09-25T15:42:29.912Z"
   },
   {
    "duration": 254,
    "start_time": "2022-09-25T15:42:30.148Z"
   },
   {
    "duration": 230,
    "start_time": "2022-09-25T15:42:30.404Z"
   },
   {
    "duration": 327,
    "start_time": "2022-09-25T15:42:30.635Z"
   },
   {
    "duration": 214,
    "start_time": "2022-09-25T15:42:30.966Z"
   },
   {
    "duration": 212,
    "start_time": "2022-09-25T15:42:31.181Z"
   },
   {
    "duration": 190,
    "start_time": "2022-09-25T15:42:31.394Z"
   },
   {
    "duration": 194,
    "start_time": "2022-09-25T15:42:31.586Z"
   },
   {
    "duration": 118,
    "start_time": "2022-09-25T15:42:31.782Z"
   },
   {
    "duration": 199,
    "start_time": "2022-09-25T15:42:31.901Z"
   },
   {
    "duration": 219,
    "start_time": "2022-09-25T15:42:32.102Z"
   },
   {
    "duration": 235,
    "start_time": "2022-09-25T15:42:32.323Z"
   },
   {
    "duration": 286,
    "start_time": "2022-09-25T15:42:32.559Z"
   },
   {
    "duration": 281,
    "start_time": "2022-09-25T15:42:32.847Z"
   },
   {
    "duration": 301,
    "start_time": "2022-09-25T15:42:33.133Z"
   },
   {
    "duration": 5,
    "start_time": "2022-09-25T15:42:33.435Z"
   },
   {
    "duration": 135,
    "start_time": "2022-09-25T15:42:33.442Z"
   },
   {
    "duration": 135,
    "start_time": "2022-09-25T15:42:33.579Z"
   },
   {
    "duration": 128,
    "start_time": "2022-09-25T15:42:33.716Z"
   },
   {
    "duration": 136,
    "start_time": "2022-09-25T15:42:33.845Z"
   },
   {
    "duration": 121,
    "start_time": "2022-09-25T15:42:33.983Z"
   },
   {
    "duration": 149,
    "start_time": "2022-09-25T15:42:34.106Z"
   },
   {
    "duration": 161,
    "start_time": "2022-09-25T15:42:34.256Z"
   },
   {
    "duration": 143,
    "start_time": "2022-09-25T15:42:34.419Z"
   },
   {
    "duration": 24,
    "start_time": "2022-09-25T15:42:34.564Z"
   },
   {
    "duration": 3,
    "start_time": "2022-09-25T15:42:34.590Z"
   },
   {
    "duration": 11,
    "start_time": "2022-09-25T15:42:34.594Z"
   },
   {
    "duration": 19,
    "start_time": "2022-09-25T15:42:34.606Z"
   },
   {
    "duration": 17,
    "start_time": "2022-09-25T15:42:34.627Z"
   },
   {
    "duration": 5,
    "start_time": "2022-09-25T15:42:34.646Z"
   },
   {
    "duration": 99,
    "start_time": "2022-09-25T15:43:28.670Z"
   },
   {
    "duration": 12,
    "start_time": "2022-09-25T15:43:42.528Z"
   },
   {
    "duration": 5,
    "start_time": "2022-09-25T15:43:53.534Z"
   },
   {
    "duration": 13,
    "start_time": "2022-09-25T15:43:59.787Z"
   },
   {
    "duration": 6,
    "start_time": "2022-09-25T15:44:00.477Z"
   },
   {
    "duration": 17,
    "start_time": "2022-09-25T15:44:09.764Z"
   },
   {
    "duration": 116,
    "start_time": "2022-09-25T15:46:18.467Z"
   },
   {
    "duration": 13,
    "start_time": "2022-09-25T15:46:18.585Z"
   },
   {
    "duration": 3,
    "start_time": "2022-09-25T15:46:18.600Z"
   },
   {
    "duration": 30,
    "start_time": "2022-09-25T15:46:18.605Z"
   },
   {
    "duration": 6,
    "start_time": "2022-09-25T15:46:18.637Z"
   },
   {
    "duration": 12,
    "start_time": "2022-09-25T15:46:18.645Z"
   },
   {
    "duration": 12,
    "start_time": "2022-09-25T15:46:18.658Z"
   },
   {
    "duration": 21,
    "start_time": "2022-09-25T15:46:18.672Z"
   },
   {
    "duration": 273,
    "start_time": "2022-09-25T15:46:18.695Z"
   },
   {
    "duration": 4,
    "start_time": "2022-09-25T15:46:18.971Z"
   },
   {
    "duration": 9,
    "start_time": "2022-09-25T15:46:18.976Z"
   },
   {
    "duration": 14,
    "start_time": "2022-09-25T15:46:18.986Z"
   },
   {
    "duration": 43,
    "start_time": "2022-09-25T15:46:19.001Z"
   },
   {
    "duration": 3,
    "start_time": "2022-09-25T15:46:19.046Z"
   },
   {
    "duration": 8,
    "start_time": "2022-09-25T15:46:19.051Z"
   },
   {
    "duration": 13,
    "start_time": "2022-09-25T15:46:19.060Z"
   },
   {
    "duration": 6,
    "start_time": "2022-09-25T15:46:19.074Z"
   },
   {
    "duration": 4,
    "start_time": "2022-09-25T15:46:19.081Z"
   },
   {
    "duration": 261,
    "start_time": "2022-09-25T15:46:19.087Z"
   },
   {
    "duration": 198,
    "start_time": "2022-09-25T15:46:19.350Z"
   },
   {
    "duration": 20,
    "start_time": "2022-09-25T15:46:19.550Z"
   },
   {
    "duration": 18,
    "start_time": "2022-09-25T15:46:19.572Z"
   },
   {
    "duration": 4,
    "start_time": "2022-09-25T15:46:19.591Z"
   },
   {
    "duration": 257,
    "start_time": "2022-09-25T15:46:19.596Z"
   },
   {
    "duration": 221,
    "start_time": "2022-09-25T15:46:19.854Z"
   },
   {
    "duration": 222,
    "start_time": "2022-09-25T15:46:20.077Z"
   },
   {
    "duration": 304,
    "start_time": "2022-09-25T15:46:20.301Z"
   },
   {
    "duration": 200,
    "start_time": "2022-09-25T15:46:20.609Z"
   },
   {
    "duration": 197,
    "start_time": "2022-09-25T15:46:20.810Z"
   },
   {
    "duration": 191,
    "start_time": "2022-09-25T15:46:21.008Z"
   },
   {
    "duration": 203,
    "start_time": "2022-09-25T15:46:21.201Z"
   },
   {
    "duration": 113,
    "start_time": "2022-09-25T15:46:21.406Z"
   },
   {
    "duration": 214,
    "start_time": "2022-09-25T15:46:21.521Z"
   },
   {
    "duration": 207,
    "start_time": "2022-09-25T15:46:21.738Z"
   },
   {
    "duration": 232,
    "start_time": "2022-09-25T15:46:21.947Z"
   },
   {
    "duration": 280,
    "start_time": "2022-09-25T15:46:22.181Z"
   },
   {
    "duration": 285,
    "start_time": "2022-09-25T15:46:22.463Z"
   },
   {
    "duration": 299,
    "start_time": "2022-09-25T15:46:22.750Z"
   },
   {
    "duration": 6,
    "start_time": "2022-09-25T15:46:23.051Z"
   },
   {
    "duration": 135,
    "start_time": "2022-09-25T15:46:23.058Z"
   },
   {
    "duration": 162,
    "start_time": "2022-09-25T15:46:23.195Z"
   },
   {
    "duration": 132,
    "start_time": "2022-09-25T15:46:23.358Z"
   },
   {
    "duration": 134,
    "start_time": "2022-09-25T15:46:23.492Z"
   },
   {
    "duration": 126,
    "start_time": "2022-09-25T15:46:23.633Z"
   },
   {
    "duration": 139,
    "start_time": "2022-09-25T15:46:23.760Z"
   },
   {
    "duration": 149,
    "start_time": "2022-09-25T15:46:23.901Z"
   },
   {
    "duration": 151,
    "start_time": "2022-09-25T15:46:24.052Z"
   },
   {
    "duration": 37,
    "start_time": "2022-09-25T15:46:24.205Z"
   },
   {
    "duration": 3,
    "start_time": "2022-09-25T15:46:24.244Z"
   },
   {
    "duration": 6,
    "start_time": "2022-09-25T15:46:24.249Z"
   },
   {
    "duration": 5,
    "start_time": "2022-09-25T15:46:24.256Z"
   },
   {
    "duration": 1686,
    "start_time": "2022-09-25T15:46:24.262Z"
   },
   {
    "duration": 0,
    "start_time": "2022-09-25T15:46:25.950Z"
   },
   {
    "duration": 12,
    "start_time": "2022-09-25T15:47:00.729Z"
   },
   {
    "duration": 11,
    "start_time": "2022-09-25T15:47:40.552Z"
   },
   {
    "duration": 1857,
    "start_time": "2022-09-25T15:47:41.386Z"
   },
   {
    "duration": 6,
    "start_time": "2022-09-25T15:47:49.500Z"
   },
   {
    "duration": 6,
    "start_time": "2022-09-25T15:47:58.265Z"
   },
   {
    "duration": 92,
    "start_time": "2022-09-25T15:48:05.869Z"
   },
   {
    "duration": 5,
    "start_time": "2022-09-25T15:48:29.052Z"
   },
   {
    "duration": 6,
    "start_time": "2022-09-25T15:48:43.701Z"
   },
   {
    "duration": 7,
    "start_time": "2022-09-25T15:49:00.416Z"
   },
   {
    "duration": 6,
    "start_time": "2022-09-25T15:49:44.134Z"
   },
   {
    "duration": 5,
    "start_time": "2022-09-25T15:49:53.450Z"
   },
   {
    "duration": 8,
    "start_time": "2022-09-25T15:50:23.462Z"
   },
   {
    "duration": 4,
    "start_time": "2022-09-25T15:51:42.662Z"
   },
   {
    "duration": 6,
    "start_time": "2022-09-25T15:51:57.409Z"
   },
   {
    "duration": 8,
    "start_time": "2022-09-25T15:52:18.400Z"
   },
   {
    "duration": 6,
    "start_time": "2022-09-25T15:53:14.969Z"
   },
   {
    "duration": 7,
    "start_time": "2022-09-25T15:53:20.254Z"
   },
   {
    "duration": 17,
    "start_time": "2022-09-25T15:53:50.827Z"
   },
   {
    "duration": 119,
    "start_time": "2022-09-25T15:58:19.300Z"
   },
   {
    "duration": 16,
    "start_time": "2022-09-25T15:58:19.434Z"
   },
   {
    "duration": 10,
    "start_time": "2022-09-25T15:58:19.452Z"
   },
   {
    "duration": 16,
    "start_time": "2022-09-25T15:58:19.464Z"
   },
   {
    "duration": 10,
    "start_time": "2022-09-25T15:58:19.482Z"
   },
   {
    "duration": 8,
    "start_time": "2022-09-25T15:58:19.494Z"
   },
   {
    "duration": 6,
    "start_time": "2022-09-25T15:58:19.503Z"
   },
   {
    "duration": 33,
    "start_time": "2022-09-25T15:58:19.511Z"
   },
   {
    "duration": 274,
    "start_time": "2022-09-25T15:58:19.545Z"
   },
   {
    "duration": 4,
    "start_time": "2022-09-25T15:58:19.822Z"
   },
   {
    "duration": 9,
    "start_time": "2022-09-25T15:58:19.833Z"
   },
   {
    "duration": 11,
    "start_time": "2022-09-25T15:58:19.843Z"
   },
   {
    "duration": 33,
    "start_time": "2022-09-25T15:58:19.856Z"
   },
   {
    "duration": 4,
    "start_time": "2022-09-25T15:58:19.891Z"
   },
   {
    "duration": 17,
    "start_time": "2022-09-25T15:58:19.897Z"
   },
   {
    "duration": 17,
    "start_time": "2022-09-25T15:58:19.916Z"
   },
   {
    "duration": 9,
    "start_time": "2022-09-25T15:58:19.935Z"
   },
   {
    "duration": 4,
    "start_time": "2022-09-25T15:58:19.946Z"
   },
   {
    "duration": 292,
    "start_time": "2022-09-25T15:58:19.952Z"
   },
   {
    "duration": 202,
    "start_time": "2022-09-25T15:58:20.246Z"
   },
   {
    "duration": 21,
    "start_time": "2022-09-25T15:58:20.450Z"
   },
   {
    "duration": 18,
    "start_time": "2022-09-25T15:58:20.473Z"
   },
   {
    "duration": 3,
    "start_time": "2022-09-25T15:58:20.493Z"
   },
   {
    "duration": 231,
    "start_time": "2022-09-25T15:58:20.497Z"
   },
   {
    "duration": 229,
    "start_time": "2022-09-25T15:58:20.733Z"
   },
   {
    "duration": 214,
    "start_time": "2022-09-25T15:58:20.963Z"
   },
   {
    "duration": 304,
    "start_time": "2022-09-25T15:58:21.179Z"
   },
   {
    "duration": 212,
    "start_time": "2022-09-25T15:58:21.486Z"
   },
   {
    "duration": 202,
    "start_time": "2022-09-25T15:58:21.700Z"
   },
   {
    "duration": 210,
    "start_time": "2022-09-25T15:58:21.904Z"
   },
   {
    "duration": 205,
    "start_time": "2022-09-25T15:58:22.117Z"
   },
   {
    "duration": 139,
    "start_time": "2022-09-25T15:58:22.323Z"
   },
   {
    "duration": 217,
    "start_time": "2022-09-25T15:58:22.463Z"
   },
   {
    "duration": 219,
    "start_time": "2022-09-25T15:58:22.682Z"
   },
   {
    "duration": 235,
    "start_time": "2022-09-25T15:58:22.902Z"
   },
   {
    "duration": 274,
    "start_time": "2022-09-25T15:58:23.138Z"
   },
   {
    "duration": 290,
    "start_time": "2022-09-25T15:58:23.414Z"
   },
   {
    "duration": 298,
    "start_time": "2022-09-25T15:58:23.705Z"
   },
   {
    "duration": 4,
    "start_time": "2022-09-25T15:58:24.005Z"
   },
   {
    "duration": 140,
    "start_time": "2022-09-25T15:58:24.011Z"
   },
   {
    "duration": 148,
    "start_time": "2022-09-25T15:58:24.154Z"
   },
   {
    "duration": 146,
    "start_time": "2022-09-25T15:58:24.304Z"
   },
   {
    "duration": 138,
    "start_time": "2022-09-25T15:58:24.452Z"
   },
   {
    "duration": 149,
    "start_time": "2022-09-25T15:58:24.592Z"
   },
   {
    "duration": 142,
    "start_time": "2022-09-25T15:58:24.742Z"
   },
   {
    "duration": 160,
    "start_time": "2022-09-25T15:58:24.886Z"
   },
   {
    "duration": 161,
    "start_time": "2022-09-25T15:58:25.048Z"
   },
   {
    "duration": 31,
    "start_time": "2022-09-25T15:58:25.211Z"
   },
   {
    "duration": 4,
    "start_time": "2022-09-25T15:58:25.244Z"
   },
   {
    "duration": 7,
    "start_time": "2022-09-25T15:58:25.249Z"
   },
   {
    "duration": 15,
    "start_time": "2022-09-25T15:58:25.258Z"
   },
   {
    "duration": 6,
    "start_time": "2022-09-25T15:58:25.274Z"
   },
   {
    "duration": 17,
    "start_time": "2022-09-25T16:01:39.671Z"
   },
   {
    "duration": 13,
    "start_time": "2022-09-25T16:02:19.310Z"
   },
   {
    "duration": 11,
    "start_time": "2022-09-25T16:02:37.895Z"
   },
   {
    "duration": 13,
    "start_time": "2022-09-25T16:02:54.729Z"
   },
   {
    "duration": 14,
    "start_time": "2022-09-25T16:03:09.594Z"
   },
   {
    "duration": 6,
    "start_time": "2022-09-25T16:03:24.183Z"
   },
   {
    "duration": 7,
    "start_time": "2022-09-25T16:03:32.539Z"
   },
   {
    "duration": 13,
    "start_time": "2022-09-25T16:03:58.272Z"
   },
   {
    "duration": 12,
    "start_time": "2022-09-25T16:07:20.238Z"
   },
   {
    "duration": 6,
    "start_time": "2022-09-25T16:07:21.805Z"
   },
   {
    "duration": 15,
    "start_time": "2022-09-25T16:07:25.127Z"
   },
   {
    "duration": 118,
    "start_time": "2022-09-25T16:07:44.023Z"
   },
   {
    "duration": 15,
    "start_time": "2022-09-25T16:07:44.143Z"
   },
   {
    "duration": 13,
    "start_time": "2022-09-25T16:07:44.160Z"
   },
   {
    "duration": 7,
    "start_time": "2022-09-25T16:07:44.175Z"
   },
   {
    "duration": 11,
    "start_time": "2022-09-25T16:07:44.184Z"
   },
   {
    "duration": 13,
    "start_time": "2022-09-25T16:07:44.197Z"
   },
   {
    "duration": 24,
    "start_time": "2022-09-25T16:07:44.212Z"
   },
   {
    "duration": 21,
    "start_time": "2022-09-25T16:07:44.238Z"
   },
   {
    "duration": 277,
    "start_time": "2022-09-25T16:07:44.260Z"
   },
   {
    "duration": 4,
    "start_time": "2022-09-25T16:07:44.540Z"
   },
   {
    "duration": 13,
    "start_time": "2022-09-25T16:07:44.546Z"
   },
   {
    "duration": 18,
    "start_time": "2022-09-25T16:07:44.560Z"
   },
   {
    "duration": 37,
    "start_time": "2022-09-25T16:07:44.579Z"
   },
   {
    "duration": 4,
    "start_time": "2022-09-25T16:07:44.618Z"
   },
   {
    "duration": 11,
    "start_time": "2022-09-25T16:07:44.623Z"
   },
   {
    "duration": 7,
    "start_time": "2022-09-25T16:07:44.636Z"
   },
   {
    "duration": 8,
    "start_time": "2022-09-25T16:07:44.644Z"
   },
   {
    "duration": 5,
    "start_time": "2022-09-25T16:07:44.653Z"
   },
   {
    "duration": 271,
    "start_time": "2022-09-25T16:07:44.659Z"
   },
   {
    "duration": 204,
    "start_time": "2022-09-25T16:07:44.933Z"
   },
   {
    "duration": 23,
    "start_time": "2022-09-25T16:07:45.139Z"
   },
   {
    "duration": 20,
    "start_time": "2022-09-25T16:07:45.163Z"
   },
   {
    "duration": 3,
    "start_time": "2022-09-25T16:07:45.185Z"
   },
   {
    "duration": 275,
    "start_time": "2022-09-25T16:07:45.190Z"
   },
   {
    "duration": 267,
    "start_time": "2022-09-25T16:07:45.466Z"
   },
   {
    "duration": 243,
    "start_time": "2022-09-25T16:07:45.735Z"
   },
   {
    "duration": 356,
    "start_time": "2022-09-25T16:07:45.980Z"
   },
   {
    "duration": 230,
    "start_time": "2022-09-25T16:07:46.341Z"
   },
   {
    "duration": 200,
    "start_time": "2022-09-25T16:07:46.573Z"
   },
   {
    "duration": 201,
    "start_time": "2022-09-25T16:07:46.775Z"
   },
   {
    "duration": 206,
    "start_time": "2022-09-25T16:07:46.978Z"
   },
   {
    "duration": 125,
    "start_time": "2022-09-25T16:07:47.186Z"
   },
   {
    "duration": 220,
    "start_time": "2022-09-25T16:07:47.313Z"
   },
   {
    "duration": 206,
    "start_time": "2022-09-25T16:07:47.535Z"
   },
   {
    "duration": 245,
    "start_time": "2022-09-25T16:07:47.743Z"
   },
   {
    "duration": 2497,
    "start_time": "2022-09-25T16:07:47.990Z"
   },
   {
    "duration": 350,
    "start_time": "2022-09-25T16:07:50.489Z"
   },
   {
    "duration": 295,
    "start_time": "2022-09-25T16:07:50.841Z"
   },
   {
    "duration": 5,
    "start_time": "2022-09-25T16:07:51.138Z"
   },
   {
    "duration": 134,
    "start_time": "2022-09-25T16:07:51.144Z"
   },
   {
    "duration": 148,
    "start_time": "2022-09-25T16:07:51.280Z"
   },
   {
    "duration": 136,
    "start_time": "2022-09-25T16:07:51.430Z"
   },
   {
    "duration": 201,
    "start_time": "2022-09-25T16:07:51.567Z"
   },
   {
    "duration": 146,
    "start_time": "2022-09-25T16:07:51.770Z"
   },
   {
    "duration": 159,
    "start_time": "2022-09-25T16:07:51.918Z"
   },
   {
    "duration": 174,
    "start_time": "2022-09-25T16:07:52.079Z"
   },
   {
    "duration": 147,
    "start_time": "2022-09-25T16:07:52.255Z"
   },
   {
    "duration": 31,
    "start_time": "2022-09-25T16:07:52.403Z"
   },
   {
    "duration": 3,
    "start_time": "2022-09-25T16:07:52.436Z"
   },
   {
    "duration": 7,
    "start_time": "2022-09-25T16:07:52.440Z"
   },
   {
    "duration": 17,
    "start_time": "2022-09-25T16:07:52.448Z"
   },
   {
    "duration": 5,
    "start_time": "2022-09-25T16:07:52.466Z"
   },
   {
    "duration": 16,
    "start_time": "2022-09-25T16:11:06.323Z"
   },
   {
    "duration": 6,
    "start_time": "2022-09-25T16:11:09.284Z"
   },
   {
    "duration": 16,
    "start_time": "2022-09-25T16:11:12.865Z"
   },
   {
    "duration": 13,
    "start_time": "2022-09-25T16:11:14.696Z"
   },
   {
    "duration": 16,
    "start_time": "2022-09-25T16:12:13.085Z"
   },
   {
    "duration": 13,
    "start_time": "2022-09-25T16:12:20.566Z"
   },
   {
    "duration": 13,
    "start_time": "2022-09-25T16:12:22.325Z"
   },
   {
    "duration": 12,
    "start_time": "2022-09-25T16:12:53.657Z"
   },
   {
    "duration": 5,
    "start_time": "2022-09-25T16:12:59.111Z"
   },
   {
    "duration": 12,
    "start_time": "2022-09-25T16:13:00.870Z"
   },
   {
    "duration": 6,
    "start_time": "2022-09-25T16:13:05.316Z"
   },
   {
    "duration": 11,
    "start_time": "2022-09-25T16:13:08.027Z"
   },
   {
    "duration": 118,
    "start_time": "2022-09-25T16:13:11.092Z"
   },
   {
    "duration": 35,
    "start_time": "2022-09-25T16:13:11.212Z"
   },
   {
    "duration": 5,
    "start_time": "2022-09-25T16:13:11.249Z"
   },
   {
    "duration": 6,
    "start_time": "2022-09-25T16:13:11.257Z"
   },
   {
    "duration": 9,
    "start_time": "2022-09-25T16:13:11.264Z"
   },
   {
    "duration": 9,
    "start_time": "2022-09-25T16:13:11.274Z"
   },
   {
    "duration": 11,
    "start_time": "2022-09-25T16:13:11.285Z"
   },
   {
    "duration": 48,
    "start_time": "2022-09-25T16:13:11.298Z"
   },
   {
    "duration": 327,
    "start_time": "2022-09-25T16:13:11.348Z"
   },
   {
    "duration": 4,
    "start_time": "2022-09-25T16:13:11.678Z"
   },
   {
    "duration": 19,
    "start_time": "2022-09-25T16:13:11.684Z"
   },
   {
    "duration": 11,
    "start_time": "2022-09-25T16:13:11.705Z"
   },
   {
    "duration": 45,
    "start_time": "2022-09-25T16:13:11.720Z"
   },
   {
    "duration": 4,
    "start_time": "2022-09-25T16:13:11.767Z"
   },
   {
    "duration": 14,
    "start_time": "2022-09-25T16:13:11.773Z"
   },
   {
    "duration": 7,
    "start_time": "2022-09-25T16:13:11.788Z"
   },
   {
    "duration": 9,
    "start_time": "2022-09-25T16:13:11.796Z"
   },
   {
    "duration": 4,
    "start_time": "2022-09-25T16:13:11.806Z"
   },
   {
    "duration": 342,
    "start_time": "2022-09-25T16:13:11.811Z"
   },
   {
    "duration": 270,
    "start_time": "2022-09-25T16:13:12.155Z"
   },
   {
    "duration": 26,
    "start_time": "2022-09-25T16:13:12.427Z"
   },
   {
    "duration": 21,
    "start_time": "2022-09-25T16:13:12.455Z"
   },
   {
    "duration": 4,
    "start_time": "2022-09-25T16:13:12.478Z"
   },
   {
    "duration": 255,
    "start_time": "2022-09-25T16:13:12.484Z"
   },
   {
    "duration": 246,
    "start_time": "2022-09-25T16:13:12.740Z"
   },
   {
    "duration": 255,
    "start_time": "2022-09-25T16:13:12.987Z"
   },
   {
    "duration": 329,
    "start_time": "2022-09-25T16:13:13.244Z"
   },
   {
    "duration": 217,
    "start_time": "2022-09-25T16:13:13.576Z"
   },
   {
    "duration": 215,
    "start_time": "2022-09-25T16:13:13.795Z"
   },
   {
    "duration": 214,
    "start_time": "2022-09-25T16:13:14.012Z"
   },
   {
    "duration": 201,
    "start_time": "2022-09-25T16:13:14.228Z"
   },
   {
    "duration": 129,
    "start_time": "2022-09-25T16:13:14.430Z"
   },
   {
    "duration": 231,
    "start_time": "2022-09-25T16:13:14.561Z"
   },
   {
    "duration": 214,
    "start_time": "2022-09-25T16:13:14.794Z"
   },
   {
    "duration": 237,
    "start_time": "2022-09-25T16:13:15.010Z"
   },
   {
    "duration": 321,
    "start_time": "2022-09-25T16:13:15.249Z"
   },
   {
    "duration": 326,
    "start_time": "2022-09-25T16:13:15.571Z"
   },
   {
    "duration": 327,
    "start_time": "2022-09-25T16:13:15.899Z"
   },
   {
    "duration": 9,
    "start_time": "2022-09-25T16:13:16.228Z"
   },
   {
    "duration": 178,
    "start_time": "2022-09-25T16:13:16.239Z"
   },
   {
    "duration": 165,
    "start_time": "2022-09-25T16:13:16.419Z"
   },
   {
    "duration": 150,
    "start_time": "2022-09-25T16:13:16.585Z"
   },
   {
    "duration": 143,
    "start_time": "2022-09-25T16:13:16.737Z"
   },
   {
    "duration": 135,
    "start_time": "2022-09-25T16:13:16.882Z"
   },
   {
    "duration": 150,
    "start_time": "2022-09-25T16:13:17.018Z"
   },
   {
    "duration": 155,
    "start_time": "2022-09-25T16:13:17.170Z"
   },
   {
    "duration": 152,
    "start_time": "2022-09-25T16:13:17.326Z"
   },
   {
    "duration": 26,
    "start_time": "2022-09-25T16:13:17.480Z"
   },
   {
    "duration": 3,
    "start_time": "2022-09-25T16:13:17.508Z"
   },
   {
    "duration": 21,
    "start_time": "2022-09-25T16:13:17.513Z"
   },
   {
    "duration": 17,
    "start_time": "2022-09-25T16:13:17.535Z"
   },
   {
    "duration": 6,
    "start_time": "2022-09-25T16:13:17.553Z"
   },
   {
    "duration": 118,
    "start_time": "2022-09-25T16:14:55.156Z"
   },
   {
    "duration": 14,
    "start_time": "2022-09-25T16:14:55.276Z"
   },
   {
    "duration": 5,
    "start_time": "2022-09-25T16:14:55.292Z"
   },
   {
    "duration": 10,
    "start_time": "2022-09-25T16:14:55.299Z"
   },
   {
    "duration": 23,
    "start_time": "2022-09-25T16:14:55.311Z"
   },
   {
    "duration": 7,
    "start_time": "2022-09-25T16:14:55.336Z"
   },
   {
    "duration": 17,
    "start_time": "2022-09-25T16:14:55.345Z"
   },
   {
    "duration": 25,
    "start_time": "2022-09-25T16:14:55.364Z"
   },
   {
    "duration": 264,
    "start_time": "2022-09-25T16:14:55.391Z"
   },
   {
    "duration": 4,
    "start_time": "2022-09-25T16:14:55.657Z"
   },
   {
    "duration": 9,
    "start_time": "2022-09-25T16:14:55.663Z"
   },
   {
    "duration": 10,
    "start_time": "2022-09-25T16:14:55.673Z"
   },
   {
    "duration": 32,
    "start_time": "2022-09-25T16:14:55.684Z"
   },
   {
    "duration": 3,
    "start_time": "2022-09-25T16:14:55.734Z"
   },
   {
    "duration": 10,
    "start_time": "2022-09-25T16:14:55.739Z"
   },
   {
    "duration": 7,
    "start_time": "2022-09-25T16:14:55.751Z"
   },
   {
    "duration": 6,
    "start_time": "2022-09-25T16:14:55.759Z"
   },
   {
    "duration": 3,
    "start_time": "2022-09-25T16:14:55.767Z"
   },
   {
    "duration": 277,
    "start_time": "2022-09-25T16:14:55.771Z"
   },
   {
    "duration": 275,
    "start_time": "2022-09-25T16:14:56.050Z"
   },
   {
    "duration": 35,
    "start_time": "2022-09-25T16:14:56.327Z"
   },
   {
    "duration": 26,
    "start_time": "2022-09-25T16:14:56.364Z"
   },
   {
    "duration": 261,
    "start_time": "2022-09-25T16:14:56.392Z"
   },
   {
    "duration": 263,
    "start_time": "2022-09-25T16:14:56.655Z"
   },
   {
    "duration": 229,
    "start_time": "2022-09-25T16:14:56.920Z"
   },
   {
    "duration": 303,
    "start_time": "2022-09-25T16:14:57.151Z"
   },
   {
    "duration": 209,
    "start_time": "2022-09-25T16:14:57.456Z"
   },
   {
    "duration": 204,
    "start_time": "2022-09-25T16:14:57.669Z"
   },
   {
    "duration": 195,
    "start_time": "2022-09-25T16:14:57.874Z"
   },
   {
    "duration": 213,
    "start_time": "2022-09-25T16:14:58.071Z"
   },
   {
    "duration": 138,
    "start_time": "2022-09-25T16:14:58.285Z"
   },
   {
    "duration": 229,
    "start_time": "2022-09-25T16:14:58.425Z"
   },
   {
    "duration": 235,
    "start_time": "2022-09-25T16:14:58.656Z"
   },
   {
    "duration": 233,
    "start_time": "2022-09-25T16:14:58.893Z"
   },
   {
    "duration": 287,
    "start_time": "2022-09-25T16:14:59.128Z"
   },
   {
    "duration": 310,
    "start_time": "2022-09-25T16:14:59.416Z"
   },
   {
    "duration": 327,
    "start_time": "2022-09-25T16:14:59.728Z"
   },
   {
    "duration": 6,
    "start_time": "2022-09-25T16:15:00.057Z"
   },
   {
    "duration": 147,
    "start_time": "2022-09-25T16:15:00.065Z"
   },
   {
    "duration": 157,
    "start_time": "2022-09-25T16:15:00.214Z"
   },
   {
    "duration": 139,
    "start_time": "2022-09-25T16:15:00.373Z"
   },
   {
    "duration": 149,
    "start_time": "2022-09-25T16:15:00.514Z"
   },
   {
    "duration": 147,
    "start_time": "2022-09-25T16:15:00.665Z"
   },
   {
    "duration": 157,
    "start_time": "2022-09-25T16:15:00.814Z"
   },
   {
    "duration": 162,
    "start_time": "2022-09-25T16:15:00.973Z"
   },
   {
    "duration": 154,
    "start_time": "2022-09-25T16:15:01.137Z"
   },
   {
    "duration": 27,
    "start_time": "2022-09-25T16:15:01.293Z"
   },
   {
    "duration": 13,
    "start_time": "2022-09-25T16:15:01.322Z"
   },
   {
    "duration": 44,
    "start_time": "2022-09-25T16:15:01.336Z"
   },
   {
    "duration": 37,
    "start_time": "2022-09-25T16:15:01.382Z"
   },
   {
    "duration": 59,
    "start_time": "2022-09-25T16:15:01.420Z"
   },
   {
    "duration": 117,
    "start_time": "2022-09-25T16:15:24.185Z"
   },
   {
    "duration": 33,
    "start_time": "2022-09-25T16:15:24.303Z"
   },
   {
    "duration": 5,
    "start_time": "2022-09-25T16:15:24.338Z"
   },
   {
    "duration": 8,
    "start_time": "2022-09-25T16:15:24.345Z"
   },
   {
    "duration": 10,
    "start_time": "2022-09-25T16:15:24.354Z"
   },
   {
    "duration": 6,
    "start_time": "2022-09-25T16:15:24.366Z"
   },
   {
    "duration": 8,
    "start_time": "2022-09-25T16:15:24.374Z"
   },
   {
    "duration": 24,
    "start_time": "2022-09-25T16:15:24.383Z"
   },
   {
    "duration": 292,
    "start_time": "2022-09-25T16:15:24.409Z"
   },
   {
    "duration": 4,
    "start_time": "2022-09-25T16:15:24.704Z"
   },
   {
    "duration": 9,
    "start_time": "2022-09-25T16:15:24.710Z"
   },
   {
    "duration": 16,
    "start_time": "2022-09-25T16:15:24.720Z"
   },
   {
    "duration": 33,
    "start_time": "2022-09-25T16:15:24.738Z"
   },
   {
    "duration": 3,
    "start_time": "2022-09-25T16:15:24.773Z"
   },
   {
    "duration": 8,
    "start_time": "2022-09-25T16:15:24.778Z"
   },
   {
    "duration": 6,
    "start_time": "2022-09-25T16:15:24.788Z"
   },
   {
    "duration": 6,
    "start_time": "2022-09-25T16:15:24.795Z"
   },
   {
    "duration": 32,
    "start_time": "2022-09-25T16:15:24.802Z"
   },
   {
    "duration": 263,
    "start_time": "2022-09-25T16:15:24.836Z"
   },
   {
    "duration": 208,
    "start_time": "2022-09-25T16:15:25.101Z"
   },
   {
    "duration": 27,
    "start_time": "2022-09-25T16:15:25.310Z"
   },
   {
    "duration": 19,
    "start_time": "2022-09-25T16:15:25.338Z"
   },
   {
    "duration": 236,
    "start_time": "2022-09-25T16:15:25.359Z"
   },
   {
    "duration": 228,
    "start_time": "2022-09-25T16:15:25.597Z"
   },
   {
    "duration": 225,
    "start_time": "2022-09-25T16:15:25.827Z"
   },
   {
    "duration": 365,
    "start_time": "2022-09-25T16:15:26.053Z"
   },
   {
    "duration": 234,
    "start_time": "2022-09-25T16:15:26.425Z"
   },
   {
    "duration": 220,
    "start_time": "2022-09-25T16:15:26.664Z"
   },
   {
    "duration": 207,
    "start_time": "2022-09-25T16:15:26.886Z"
   },
   {
    "duration": 210,
    "start_time": "2022-09-25T16:15:27.094Z"
   },
   {
    "duration": 127,
    "start_time": "2022-09-25T16:15:27.306Z"
   },
   {
    "duration": 218,
    "start_time": "2022-09-25T16:15:27.435Z"
   },
   {
    "duration": 246,
    "start_time": "2022-09-25T16:15:27.654Z"
   },
   {
    "duration": 254,
    "start_time": "2022-09-25T16:15:27.902Z"
   },
   {
    "duration": 298,
    "start_time": "2022-09-25T16:15:28.158Z"
   },
   {
    "duration": 298,
    "start_time": "2022-09-25T16:15:28.457Z"
   },
   {
    "duration": 317,
    "start_time": "2022-09-25T16:15:28.757Z"
   },
   {
    "duration": 5,
    "start_time": "2022-09-25T16:15:29.076Z"
   },
   {
    "duration": 138,
    "start_time": "2022-09-25T16:15:29.082Z"
   },
   {
    "duration": 154,
    "start_time": "2022-09-25T16:15:29.221Z"
   },
   {
    "duration": 134,
    "start_time": "2022-09-25T16:15:29.377Z"
   },
   {
    "duration": 148,
    "start_time": "2022-09-25T16:15:29.513Z"
   },
   {
    "duration": 150,
    "start_time": "2022-09-25T16:15:29.663Z"
   },
   {
    "duration": 152,
    "start_time": "2022-09-25T16:15:29.815Z"
   },
   {
    "duration": 156,
    "start_time": "2022-09-25T16:15:29.969Z"
   },
   {
    "duration": 159,
    "start_time": "2022-09-25T16:15:30.133Z"
   },
   {
    "duration": 26,
    "start_time": "2022-09-25T16:15:30.294Z"
   },
   {
    "duration": 4,
    "start_time": "2022-09-25T16:15:30.333Z"
   },
   {
    "duration": 14,
    "start_time": "2022-09-25T16:15:30.338Z"
   },
   {
    "duration": 40,
    "start_time": "2022-09-25T16:15:30.353Z"
   },
   {
    "duration": 55,
    "start_time": "2022-09-25T16:15:30.395Z"
   },
   {
    "duration": 5,
    "start_time": "2022-09-25T16:16:06.298Z"
   },
   {
    "duration": 13,
    "start_time": "2022-09-25T16:16:55.530Z"
   },
   {
    "duration": 5,
    "start_time": "2022-09-25T16:17:06.061Z"
   },
   {
    "duration": 117,
    "start_time": "2022-09-25T16:18:47.998Z"
   },
   {
    "duration": 13,
    "start_time": "2022-09-25T16:18:48.133Z"
   },
   {
    "duration": 13,
    "start_time": "2022-09-25T16:18:48.148Z"
   },
   {
    "duration": 10,
    "start_time": "2022-09-25T16:18:48.165Z"
   },
   {
    "duration": 18,
    "start_time": "2022-09-25T16:18:48.177Z"
   },
   {
    "duration": 10,
    "start_time": "2022-09-25T16:18:48.197Z"
   },
   {
    "duration": 7,
    "start_time": "2022-09-25T16:18:48.209Z"
   },
   {
    "duration": 33,
    "start_time": "2022-09-25T16:18:48.218Z"
   },
   {
    "duration": 257,
    "start_time": "2022-09-25T16:18:48.252Z"
   },
   {
    "duration": 4,
    "start_time": "2022-09-25T16:18:48.513Z"
   },
   {
    "duration": 17,
    "start_time": "2022-09-25T16:18:48.518Z"
   },
   {
    "duration": 9,
    "start_time": "2022-09-25T16:18:48.536Z"
   },
   {
    "duration": 31,
    "start_time": "2022-09-25T16:18:48.547Z"
   },
   {
    "duration": 3,
    "start_time": "2022-09-25T16:18:48.580Z"
   },
   {
    "duration": 8,
    "start_time": "2022-09-25T16:18:48.585Z"
   },
   {
    "duration": 5,
    "start_time": "2022-09-25T16:18:48.595Z"
   },
   {
    "duration": 9,
    "start_time": "2022-09-25T16:18:48.601Z"
   },
   {
    "duration": 23,
    "start_time": "2022-09-25T16:18:48.611Z"
   },
   {
    "duration": 293,
    "start_time": "2022-09-25T16:18:48.635Z"
   },
   {
    "duration": 214,
    "start_time": "2022-09-25T16:18:48.929Z"
   },
   {
    "duration": 24,
    "start_time": "2022-09-25T16:18:49.145Z"
   },
   {
    "duration": 23,
    "start_time": "2022-09-25T16:18:49.170Z"
   },
   {
    "duration": 3,
    "start_time": "2022-09-25T16:18:49.195Z"
   },
   {
    "duration": 237,
    "start_time": "2022-09-25T16:18:49.199Z"
   },
   {
    "duration": 229,
    "start_time": "2022-09-25T16:18:49.437Z"
   },
   {
    "duration": 241,
    "start_time": "2022-09-25T16:18:49.667Z"
   },
   {
    "duration": 308,
    "start_time": "2022-09-25T16:18:49.910Z"
   },
   {
    "duration": 197,
    "start_time": "2022-09-25T16:18:50.223Z"
   },
   {
    "duration": 199,
    "start_time": "2022-09-25T16:18:50.421Z"
   },
   {
    "duration": 179,
    "start_time": "2022-09-25T16:18:50.621Z"
   },
   {
    "duration": 195,
    "start_time": "2022-09-25T16:18:50.802Z"
   },
   {
    "duration": 112,
    "start_time": "2022-09-25T16:18:50.999Z"
   },
   {
    "duration": 197,
    "start_time": "2022-09-25T16:18:51.113Z"
   },
   {
    "duration": 213,
    "start_time": "2022-09-25T16:18:51.312Z"
   },
   {
    "duration": 215,
    "start_time": "2022-09-25T16:18:51.526Z"
   },
   {
    "duration": 296,
    "start_time": "2022-09-25T16:18:51.743Z"
   },
   {
    "duration": 298,
    "start_time": "2022-09-25T16:18:52.041Z"
   },
   {
    "duration": 293,
    "start_time": "2022-09-25T16:18:52.340Z"
   },
   {
    "duration": 5,
    "start_time": "2022-09-25T16:18:52.634Z"
   },
   {
    "duration": 137,
    "start_time": "2022-09-25T16:18:52.640Z"
   },
   {
    "duration": 141,
    "start_time": "2022-09-25T16:18:52.779Z"
   },
   {
    "duration": 140,
    "start_time": "2022-09-25T16:18:52.922Z"
   },
   {
    "duration": 136,
    "start_time": "2022-09-25T16:18:53.063Z"
   },
   {
    "duration": 126,
    "start_time": "2022-09-25T16:18:53.200Z"
   },
   {
    "duration": 134,
    "start_time": "2022-09-25T16:18:53.333Z"
   },
   {
    "duration": 152,
    "start_time": "2022-09-25T16:18:53.468Z"
   },
   {
    "duration": 173,
    "start_time": "2022-09-25T16:18:53.622Z"
   },
   {
    "duration": 37,
    "start_time": "2022-09-25T16:18:53.797Z"
   },
   {
    "duration": 3,
    "start_time": "2022-09-25T16:18:53.836Z"
   },
   {
    "duration": 5,
    "start_time": "2022-09-25T16:18:53.841Z"
   },
   {
    "duration": 16,
    "start_time": "2022-09-25T16:18:53.847Z"
   },
   {
    "duration": 5,
    "start_time": "2022-09-25T16:18:53.864Z"
   },
   {
    "duration": 49,
    "start_time": "2022-09-25T16:19:37.986Z"
   },
   {
    "duration": 10,
    "start_time": "2022-09-25T16:19:49.963Z"
   },
   {
    "duration": 126,
    "start_time": "2022-09-25T16:20:40.836Z"
   },
   {
    "duration": 14,
    "start_time": "2022-09-25T16:20:40.964Z"
   },
   {
    "duration": 5,
    "start_time": "2022-09-25T16:20:40.980Z"
   },
   {
    "duration": 18,
    "start_time": "2022-09-25T16:20:40.987Z"
   },
   {
    "duration": 21,
    "start_time": "2022-09-25T16:20:41.007Z"
   },
   {
    "duration": 6,
    "start_time": "2022-09-25T16:20:41.033Z"
   },
   {
    "duration": 5,
    "start_time": "2022-09-25T16:20:41.040Z"
   },
   {
    "duration": 20,
    "start_time": "2022-09-25T16:20:41.046Z"
   },
   {
    "duration": 270,
    "start_time": "2022-09-25T16:20:41.067Z"
   },
   {
    "duration": 4,
    "start_time": "2022-09-25T16:20:41.339Z"
   },
   {
    "duration": 7,
    "start_time": "2022-09-25T16:20:41.345Z"
   },
   {
    "duration": 14,
    "start_time": "2022-09-25T16:20:41.353Z"
   },
   {
    "duration": 32,
    "start_time": "2022-09-25T16:20:41.368Z"
   },
   {
    "duration": 4,
    "start_time": "2022-09-25T16:20:41.401Z"
   },
   {
    "duration": 27,
    "start_time": "2022-09-25T16:20:41.406Z"
   },
   {
    "duration": 4,
    "start_time": "2022-09-25T16:20:41.435Z"
   },
   {
    "duration": 7,
    "start_time": "2022-09-25T16:20:41.441Z"
   },
   {
    "duration": 4,
    "start_time": "2022-09-25T16:20:41.449Z"
   },
   {
    "duration": 292,
    "start_time": "2022-09-25T16:20:41.454Z"
   },
   {
    "duration": 209,
    "start_time": "2022-09-25T16:20:41.747Z"
   },
   {
    "duration": 22,
    "start_time": "2022-09-25T16:20:41.958Z"
   },
   {
    "duration": 19,
    "start_time": "2022-09-25T16:20:41.982Z"
   },
   {
    "duration": 3,
    "start_time": "2022-09-25T16:20:42.002Z"
   },
   {
    "duration": 237,
    "start_time": "2022-09-25T16:20:42.007Z"
   },
   {
    "duration": 222,
    "start_time": "2022-09-25T16:20:42.246Z"
   },
   {
    "duration": 230,
    "start_time": "2022-09-25T16:20:42.470Z"
   },
   {
    "duration": 309,
    "start_time": "2022-09-25T16:20:42.701Z"
   },
   {
    "duration": 2370,
    "start_time": "2022-09-25T16:20:43.014Z"
   },
   {
    "duration": 221,
    "start_time": "2022-09-25T16:20:45.386Z"
   },
   {
    "duration": 188,
    "start_time": "2022-09-25T16:20:45.608Z"
   },
   {
    "duration": 196,
    "start_time": "2022-09-25T16:20:45.798Z"
   },
   {
    "duration": 129,
    "start_time": "2022-09-25T16:20:45.995Z"
   },
   {
    "duration": 222,
    "start_time": "2022-09-25T16:20:46.126Z"
   },
   {
    "duration": 272,
    "start_time": "2022-09-25T16:20:46.350Z"
   },
   {
    "duration": 232,
    "start_time": "2022-09-25T16:20:46.624Z"
   },
   {
    "duration": 288,
    "start_time": "2022-09-25T16:20:46.858Z"
   },
   {
    "duration": 292,
    "start_time": "2022-09-25T16:20:47.147Z"
   },
   {
    "duration": 303,
    "start_time": "2022-09-25T16:20:47.440Z"
   },
   {
    "duration": 5,
    "start_time": "2022-09-25T16:20:47.744Z"
   },
   {
    "duration": 135,
    "start_time": "2022-09-25T16:20:47.750Z"
   },
   {
    "duration": 142,
    "start_time": "2022-09-25T16:20:47.886Z"
   },
   {
    "duration": 132,
    "start_time": "2022-09-25T16:20:48.033Z"
   },
   {
    "duration": 146,
    "start_time": "2022-09-25T16:20:48.166Z"
   },
   {
    "duration": 125,
    "start_time": "2022-09-25T16:20:48.313Z"
   },
   {
    "duration": 138,
    "start_time": "2022-09-25T16:20:48.440Z"
   },
   {
    "duration": 143,
    "start_time": "2022-09-25T16:20:48.579Z"
   },
   {
    "duration": 153,
    "start_time": "2022-09-25T16:20:48.723Z"
   },
   {
    "duration": 24,
    "start_time": "2022-09-25T16:20:48.878Z"
   },
   {
    "duration": 4,
    "start_time": "2022-09-25T16:20:48.903Z"
   },
   {
    "duration": 7,
    "start_time": "2022-09-25T16:20:48.909Z"
   },
   {
    "duration": 12,
    "start_time": "2022-09-25T16:20:48.933Z"
   },
   {
    "duration": 10,
    "start_time": "2022-09-25T16:20:48.946Z"
   },
   {
    "duration": 95,
    "start_time": "2022-09-25T16:26:08.556Z"
   },
   {
    "duration": 1012,
    "start_time": "2022-09-25T16:26:54.587Z"
   },
   {
    "duration": 7596,
    "start_time": "2022-09-25T16:27:10.188Z"
   },
   {
    "duration": 5,
    "start_time": "2022-09-25T16:27:17.786Z"
   },
   {
    "duration": 7343,
    "start_time": "2022-09-25T16:27:52.017Z"
   },
   {
    "duration": 48,
    "start_time": "2022-09-25T16:28:28.213Z"
   },
   {
    "duration": 11,
    "start_time": "2022-09-25T16:28:39.187Z"
   },
   {
    "duration": 6,
    "start_time": "2022-09-25T16:28:40.335Z"
   },
   {
    "duration": 10,
    "start_time": "2022-09-25T16:28:43.062Z"
   },
   {
    "duration": 6,
    "start_time": "2022-09-25T16:28:43.645Z"
   },
   {
    "duration": 115,
    "start_time": "2022-09-25T16:28:51.541Z"
   },
   {
    "duration": 14,
    "start_time": "2022-09-25T16:28:51.657Z"
   },
   {
    "duration": 4,
    "start_time": "2022-09-25T16:28:51.672Z"
   },
   {
    "duration": 8,
    "start_time": "2022-09-25T16:28:51.678Z"
   },
   {
    "duration": 8,
    "start_time": "2022-09-25T16:28:51.688Z"
   },
   {
    "duration": 7,
    "start_time": "2022-09-25T16:28:51.697Z"
   },
   {
    "duration": 31,
    "start_time": "2022-09-25T16:28:51.706Z"
   },
   {
    "duration": 27,
    "start_time": "2022-09-25T16:28:51.739Z"
   },
   {
    "duration": 286,
    "start_time": "2022-09-25T16:28:51.768Z"
   },
   {
    "duration": 4,
    "start_time": "2022-09-25T16:28:52.057Z"
   },
   {
    "duration": 9,
    "start_time": "2022-09-25T16:28:52.062Z"
   },
   {
    "duration": 12,
    "start_time": "2022-09-25T16:28:52.073Z"
   },
   {
    "duration": 50,
    "start_time": "2022-09-25T16:28:52.088Z"
   },
   {
    "duration": 5,
    "start_time": "2022-09-25T16:28:52.139Z"
   },
   {
    "duration": 9,
    "start_time": "2022-09-25T16:28:52.146Z"
   },
   {
    "duration": 6,
    "start_time": "2022-09-25T16:28:52.157Z"
   },
   {
    "duration": 8,
    "start_time": "2022-09-25T16:28:52.164Z"
   },
   {
    "duration": 6,
    "start_time": "2022-09-25T16:28:52.173Z"
   },
   {
    "duration": 279,
    "start_time": "2022-09-25T16:28:52.181Z"
   },
   {
    "duration": 200,
    "start_time": "2022-09-25T16:28:52.462Z"
   },
   {
    "duration": 21,
    "start_time": "2022-09-25T16:28:52.664Z"
   },
   {
    "duration": 18,
    "start_time": "2022-09-25T16:28:52.686Z"
   },
   {
    "duration": 2,
    "start_time": "2022-09-25T16:28:52.706Z"
   },
   {
    "duration": 241,
    "start_time": "2022-09-25T16:28:52.710Z"
   },
   {
    "duration": 238,
    "start_time": "2022-09-25T16:28:52.953Z"
   },
   {
    "duration": 214,
    "start_time": "2022-09-25T16:28:53.193Z"
   },
   {
    "duration": 314,
    "start_time": "2022-09-25T16:28:53.408Z"
   },
   {
    "duration": 208,
    "start_time": "2022-09-25T16:28:53.725Z"
   },
   {
    "duration": 200,
    "start_time": "2022-09-25T16:28:53.935Z"
   },
   {
    "duration": 191,
    "start_time": "2022-09-25T16:28:54.137Z"
   },
   {
    "duration": 201,
    "start_time": "2022-09-25T16:28:54.333Z"
   },
   {
    "duration": 120,
    "start_time": "2022-09-25T16:28:54.535Z"
   },
   {
    "duration": 213,
    "start_time": "2022-09-25T16:28:54.656Z"
   },
   {
    "duration": 212,
    "start_time": "2022-09-25T16:28:54.870Z"
   },
   {
    "duration": 226,
    "start_time": "2022-09-25T16:28:55.084Z"
   },
   {
    "duration": 300,
    "start_time": "2022-09-25T16:28:55.312Z"
   },
   {
    "duration": 307,
    "start_time": "2022-09-25T16:28:55.613Z"
   },
   {
    "duration": 329,
    "start_time": "2022-09-25T16:28:55.922Z"
   },
   {
    "duration": 6,
    "start_time": "2022-09-25T16:28:56.253Z"
   },
   {
    "duration": 182,
    "start_time": "2022-09-25T16:28:56.261Z"
   },
   {
    "duration": 152,
    "start_time": "2022-09-25T16:28:56.445Z"
   },
   {
    "duration": 135,
    "start_time": "2022-09-25T16:28:56.598Z"
   },
   {
    "duration": 141,
    "start_time": "2022-09-25T16:28:56.735Z"
   },
   {
    "duration": 128,
    "start_time": "2022-09-25T16:28:56.878Z"
   },
   {
    "duration": 146,
    "start_time": "2022-09-25T16:28:57.008Z"
   },
   {
    "duration": 142,
    "start_time": "2022-09-25T16:28:57.156Z"
   },
   {
    "duration": 139,
    "start_time": "2022-09-25T16:28:57.300Z"
   },
   {
    "duration": 24,
    "start_time": "2022-09-25T16:28:57.441Z"
   },
   {
    "duration": 4,
    "start_time": "2022-09-25T16:28:57.467Z"
   },
   {
    "duration": 5,
    "start_time": "2022-09-25T16:28:57.472Z"
   },
   {
    "duration": 12,
    "start_time": "2022-09-25T16:28:57.479Z"
   },
   {
    "duration": 5,
    "start_time": "2022-09-25T16:28:57.493Z"
   },
   {
    "duration": 19,
    "start_time": "2022-09-25T16:31:46.572Z"
   },
   {
    "duration": 67,
    "start_time": "2022-09-25T16:32:12.588Z"
   },
   {
    "duration": 13,
    "start_time": "2022-09-25T16:32:19.832Z"
   },
   {
    "duration": 5,
    "start_time": "2022-09-25T16:32:22.088Z"
   },
   {
    "duration": 13,
    "start_time": "2022-09-25T16:32:24.365Z"
   },
   {
    "duration": 140,
    "start_time": "2022-09-25T16:32:33.205Z"
   },
   {
    "duration": 16,
    "start_time": "2022-09-25T16:32:33.348Z"
   },
   {
    "duration": 5,
    "start_time": "2022-09-25T16:32:33.365Z"
   },
   {
    "duration": 8,
    "start_time": "2022-09-25T16:32:33.372Z"
   },
   {
    "duration": 10,
    "start_time": "2022-09-25T16:32:33.382Z"
   },
   {
    "duration": 15,
    "start_time": "2022-09-25T16:32:33.394Z"
   },
   {
    "duration": 6,
    "start_time": "2022-09-25T16:32:33.433Z"
   },
   {
    "duration": 29,
    "start_time": "2022-09-25T16:32:33.440Z"
   },
   {
    "duration": 270,
    "start_time": "2022-09-25T16:32:33.470Z"
   },
   {
    "duration": 4,
    "start_time": "2022-09-25T16:32:33.742Z"
   },
   {
    "duration": 8,
    "start_time": "2022-09-25T16:32:33.748Z"
   },
   {
    "duration": 11,
    "start_time": "2022-09-25T16:32:33.757Z"
   },
   {
    "duration": 33,
    "start_time": "2022-09-25T16:32:33.769Z"
   },
   {
    "duration": 31,
    "start_time": "2022-09-25T16:32:33.803Z"
   },
   {
    "duration": 7,
    "start_time": "2022-09-25T16:32:33.835Z"
   },
   {
    "duration": 7,
    "start_time": "2022-09-25T16:32:33.843Z"
   },
   {
    "duration": 7,
    "start_time": "2022-09-25T16:32:33.851Z"
   },
   {
    "duration": 5,
    "start_time": "2022-09-25T16:32:33.859Z"
   },
   {
    "duration": 276,
    "start_time": "2022-09-25T16:32:33.865Z"
   },
   {
    "duration": 230,
    "start_time": "2022-09-25T16:32:34.142Z"
   },
   {
    "duration": 21,
    "start_time": "2022-09-25T16:32:34.374Z"
   },
   {
    "duration": 19,
    "start_time": "2022-09-25T16:32:34.397Z"
   },
   {
    "duration": 17,
    "start_time": "2022-09-25T16:32:34.417Z"
   },
   {
    "duration": 220,
    "start_time": "2022-09-25T16:32:34.436Z"
   },
   {
    "duration": 223,
    "start_time": "2022-09-25T16:32:34.658Z"
   },
   {
    "duration": 215,
    "start_time": "2022-09-25T16:32:34.882Z"
   },
   {
    "duration": 302,
    "start_time": "2022-09-25T16:32:35.099Z"
   },
   {
    "duration": 196,
    "start_time": "2022-09-25T16:32:35.404Z"
   },
   {
    "duration": 203,
    "start_time": "2022-09-25T16:32:35.602Z"
   },
   {
    "duration": 198,
    "start_time": "2022-09-25T16:32:35.807Z"
   },
   {
    "duration": 201,
    "start_time": "2022-09-25T16:32:36.006Z"
   },
   {
    "duration": 159,
    "start_time": "2022-09-25T16:32:36.209Z"
   },
   {
    "duration": 234,
    "start_time": "2022-09-25T16:32:36.370Z"
   },
   {
    "duration": 211,
    "start_time": "2022-09-25T16:32:36.606Z"
   },
   {
    "duration": 225,
    "start_time": "2022-09-25T16:32:36.819Z"
   },
   {
    "duration": 283,
    "start_time": "2022-09-25T16:32:37.046Z"
   },
   {
    "duration": 284,
    "start_time": "2022-09-25T16:32:37.331Z"
   },
   {
    "duration": 288,
    "start_time": "2022-09-25T16:32:37.616Z"
   },
   {
    "duration": 5,
    "start_time": "2022-09-25T16:32:37.905Z"
   },
   {
    "duration": 134,
    "start_time": "2022-09-25T16:32:37.912Z"
   },
   {
    "duration": 154,
    "start_time": "2022-09-25T16:32:38.047Z"
   },
   {
    "duration": 140,
    "start_time": "2022-09-25T16:32:38.202Z"
   },
   {
    "duration": 137,
    "start_time": "2022-09-25T16:32:38.343Z"
   },
   {
    "duration": 121,
    "start_time": "2022-09-25T16:32:38.482Z"
   },
   {
    "duration": 148,
    "start_time": "2022-09-25T16:32:38.604Z"
   },
   {
    "duration": 145,
    "start_time": "2022-09-25T16:32:38.754Z"
   },
   {
    "duration": 139,
    "start_time": "2022-09-25T16:32:38.901Z"
   },
   {
    "duration": 26,
    "start_time": "2022-09-25T16:32:39.041Z"
   },
   {
    "duration": 3,
    "start_time": "2022-09-25T16:32:39.069Z"
   },
   {
    "duration": 6,
    "start_time": "2022-09-25T16:32:39.073Z"
   },
   {
    "duration": 17,
    "start_time": "2022-09-25T16:32:39.080Z"
   },
   {
    "duration": 5,
    "start_time": "2022-09-25T16:32:39.099Z"
   },
   {
    "duration": 14,
    "start_time": "2022-09-25T16:33:32.106Z"
   },
   {
    "duration": 127,
    "start_time": "2022-09-25T16:33:42.009Z"
   },
   {
    "duration": 14,
    "start_time": "2022-09-25T16:33:42.138Z"
   },
   {
    "duration": 12,
    "start_time": "2022-09-25T16:33:42.154Z"
   },
   {
    "duration": 16,
    "start_time": "2022-09-25T16:33:42.168Z"
   },
   {
    "duration": 13,
    "start_time": "2022-09-25T16:33:42.185Z"
   },
   {
    "duration": 8,
    "start_time": "2022-09-25T16:33:42.199Z"
   },
   {
    "duration": 12,
    "start_time": "2022-09-25T16:33:42.209Z"
   },
   {
    "duration": 25,
    "start_time": "2022-09-25T16:33:42.232Z"
   },
   {
    "duration": 262,
    "start_time": "2022-09-25T16:33:42.258Z"
   },
   {
    "duration": 11,
    "start_time": "2022-09-25T16:33:42.522Z"
   },
   {
    "duration": 7,
    "start_time": "2022-09-25T16:33:42.535Z"
   },
   {
    "duration": 10,
    "start_time": "2022-09-25T16:33:42.543Z"
   },
   {
    "duration": 32,
    "start_time": "2022-09-25T16:33:42.555Z"
   },
   {
    "duration": 4,
    "start_time": "2022-09-25T16:33:42.588Z"
   },
   {
    "duration": 9,
    "start_time": "2022-09-25T16:33:42.593Z"
   },
   {
    "duration": 31,
    "start_time": "2022-09-25T16:33:42.604Z"
   },
   {
    "duration": 5,
    "start_time": "2022-09-25T16:33:42.636Z"
   },
   {
    "duration": 3,
    "start_time": "2022-09-25T16:33:42.643Z"
   },
   {
    "duration": 259,
    "start_time": "2022-09-25T16:33:42.647Z"
   },
   {
    "duration": 203,
    "start_time": "2022-09-25T16:33:42.908Z"
   },
   {
    "duration": 26,
    "start_time": "2022-09-25T16:33:43.113Z"
   },
   {
    "duration": 19,
    "start_time": "2022-09-25T16:33:43.140Z"
   },
   {
    "duration": 3,
    "start_time": "2022-09-25T16:33:43.161Z"
   },
   {
    "duration": 228,
    "start_time": "2022-09-25T16:33:43.165Z"
   },
   {
    "duration": 226,
    "start_time": "2022-09-25T16:33:43.395Z"
   },
   {
    "duration": 210,
    "start_time": "2022-09-25T16:33:43.623Z"
   },
   {
    "duration": 294,
    "start_time": "2022-09-25T16:33:43.835Z"
   },
   {
    "duration": 219,
    "start_time": "2022-09-25T16:33:44.134Z"
   },
   {
    "duration": 206,
    "start_time": "2022-09-25T16:33:44.355Z"
   },
   {
    "duration": 184,
    "start_time": "2022-09-25T16:33:44.563Z"
   },
   {
    "duration": 205,
    "start_time": "2022-09-25T16:33:44.748Z"
   },
   {
    "duration": 126,
    "start_time": "2022-09-25T16:33:44.955Z"
   },
   {
    "duration": 217,
    "start_time": "2022-09-25T16:33:45.082Z"
   },
   {
    "duration": 227,
    "start_time": "2022-09-25T16:33:45.301Z"
   },
   {
    "duration": 233,
    "start_time": "2022-09-25T16:33:45.534Z"
   },
   {
    "duration": 294,
    "start_time": "2022-09-25T16:33:45.769Z"
   },
   {
    "duration": 354,
    "start_time": "2022-09-25T16:33:46.065Z"
   },
   {
    "duration": 303,
    "start_time": "2022-09-25T16:33:46.420Z"
   },
   {
    "duration": 8,
    "start_time": "2022-09-25T16:33:46.726Z"
   },
   {
    "duration": 130,
    "start_time": "2022-09-25T16:33:46.736Z"
   },
   {
    "duration": 139,
    "start_time": "2022-09-25T16:33:46.868Z"
   },
   {
    "duration": 130,
    "start_time": "2022-09-25T16:33:47.010Z"
   },
   {
    "duration": 133,
    "start_time": "2022-09-25T16:33:47.142Z"
   },
   {
    "duration": 122,
    "start_time": "2022-09-25T16:33:47.277Z"
   },
   {
    "duration": 140,
    "start_time": "2022-09-25T16:33:47.401Z"
   },
   {
    "duration": 141,
    "start_time": "2022-09-25T16:33:47.543Z"
   },
   {
    "duration": 142,
    "start_time": "2022-09-25T16:33:47.685Z"
   },
   {
    "duration": 25,
    "start_time": "2022-09-25T16:33:47.833Z"
   },
   {
    "duration": 3,
    "start_time": "2022-09-25T16:33:47.859Z"
   },
   {
    "duration": 9,
    "start_time": "2022-09-25T16:33:47.863Z"
   },
   {
    "duration": 19,
    "start_time": "2022-09-25T16:33:47.874Z"
   },
   {
    "duration": 5,
    "start_time": "2022-09-25T16:33:47.894Z"
   },
   {
    "duration": 17,
    "start_time": "2022-09-25T16:35:41.862Z"
   },
   {
    "duration": 19,
    "start_time": "2022-09-25T16:35:46.764Z"
   },
   {
    "duration": 14,
    "start_time": "2022-09-25T16:35:51.739Z"
   },
   {
    "duration": 14,
    "start_time": "2022-09-25T16:36:04.349Z"
   },
   {
    "duration": 16,
    "start_time": "2022-09-25T16:36:19.713Z"
   },
   {
    "duration": 17,
    "start_time": "2022-09-25T16:36:46.805Z"
   },
   {
    "duration": 16,
    "start_time": "2022-09-25T16:37:55.201Z"
   },
   {
    "duration": 13,
    "start_time": "2022-09-25T16:38:13.189Z"
   },
   {
    "duration": 44,
    "start_time": "2022-09-25T16:38:31.659Z"
   },
   {
    "duration": 45,
    "start_time": "2022-09-25T16:39:02.666Z"
   },
   {
    "duration": 14,
    "start_time": "2022-09-25T16:39:19.920Z"
   },
   {
    "duration": 10,
    "start_time": "2022-09-25T16:43:44.439Z"
   },
   {
    "duration": 15,
    "start_time": "2022-09-25T16:44:11.724Z"
   },
   {
    "duration": 14,
    "start_time": "2022-09-25T16:44:32.179Z"
   },
   {
    "duration": 15,
    "start_time": "2022-09-25T16:45:14.392Z"
   },
   {
    "duration": 15,
    "start_time": "2022-09-25T16:45:24.254Z"
   },
   {
    "duration": 14,
    "start_time": "2022-09-25T16:45:28.796Z"
   },
   {
    "duration": 15,
    "start_time": "2022-09-25T16:45:31.932Z"
   },
   {
    "duration": 15,
    "start_time": "2022-09-25T16:45:58.343Z"
   },
   {
    "duration": 125,
    "start_time": "2022-09-25T16:46:00.843Z"
   },
   {
    "duration": 14,
    "start_time": "2022-09-25T16:46:00.971Z"
   },
   {
    "duration": 5,
    "start_time": "2022-09-25T16:46:00.987Z"
   },
   {
    "duration": 14,
    "start_time": "2022-09-25T16:46:00.994Z"
   },
   {
    "duration": 25,
    "start_time": "2022-09-25T16:46:01.010Z"
   },
   {
    "duration": 10,
    "start_time": "2022-09-25T16:46:01.037Z"
   },
   {
    "duration": 25,
    "start_time": "2022-09-25T16:46:01.049Z"
   },
   {
    "duration": 46,
    "start_time": "2022-09-25T16:46:01.075Z"
   },
   {
    "duration": 277,
    "start_time": "2022-09-25T16:46:01.123Z"
   },
   {
    "duration": 4,
    "start_time": "2022-09-25T16:46:01.403Z"
   },
   {
    "duration": 16,
    "start_time": "2022-09-25T16:46:01.408Z"
   },
   {
    "duration": 26,
    "start_time": "2022-09-25T16:46:01.426Z"
   },
   {
    "duration": 38,
    "start_time": "2022-09-25T16:46:01.453Z"
   },
   {
    "duration": 4,
    "start_time": "2022-09-25T16:46:01.493Z"
   },
   {
    "duration": 25,
    "start_time": "2022-09-25T16:46:01.498Z"
   },
   {
    "duration": 22,
    "start_time": "2022-09-25T16:46:01.525Z"
   },
   {
    "duration": 24,
    "start_time": "2022-09-25T16:46:01.548Z"
   },
   {
    "duration": 24,
    "start_time": "2022-09-25T16:46:01.573Z"
   },
   {
    "duration": 282,
    "start_time": "2022-09-25T16:46:01.598Z"
   },
   {
    "duration": 210,
    "start_time": "2022-09-25T16:46:01.881Z"
   },
   {
    "duration": 23,
    "start_time": "2022-09-25T16:46:02.093Z"
   },
   {
    "duration": 32,
    "start_time": "2022-09-25T16:46:02.117Z"
   },
   {
    "duration": 3,
    "start_time": "2022-09-25T16:46:02.151Z"
   },
   {
    "duration": 230,
    "start_time": "2022-09-25T16:46:02.156Z"
   },
   {
    "duration": 234,
    "start_time": "2022-09-25T16:46:02.387Z"
   },
   {
    "duration": 227,
    "start_time": "2022-09-25T16:46:02.623Z"
   },
   {
    "duration": 310,
    "start_time": "2022-09-25T16:46:02.852Z"
   },
   {
    "duration": 209,
    "start_time": "2022-09-25T16:46:03.166Z"
   },
   {
    "duration": 199,
    "start_time": "2022-09-25T16:46:03.377Z"
   },
   {
    "duration": 193,
    "start_time": "2022-09-25T16:46:03.577Z"
   },
   {
    "duration": 199,
    "start_time": "2022-09-25T16:46:03.772Z"
   },
   {
    "duration": 126,
    "start_time": "2022-09-25T16:46:03.973Z"
   },
   {
    "duration": 212,
    "start_time": "2022-09-25T16:46:04.101Z"
   },
   {
    "duration": 204,
    "start_time": "2022-09-25T16:46:04.314Z"
   },
   {
    "duration": 223,
    "start_time": "2022-09-25T16:46:04.519Z"
   },
   {
    "duration": 278,
    "start_time": "2022-09-25T16:46:04.743Z"
   },
   {
    "duration": 298,
    "start_time": "2022-09-25T16:46:05.023Z"
   },
   {
    "duration": 298,
    "start_time": "2022-09-25T16:46:05.323Z"
   },
   {
    "duration": 5,
    "start_time": "2022-09-25T16:46:05.623Z"
   },
   {
    "duration": 144,
    "start_time": "2022-09-25T16:46:05.634Z"
   },
   {
    "duration": 161,
    "start_time": "2022-09-25T16:46:05.780Z"
   },
   {
    "duration": 137,
    "start_time": "2022-09-25T16:46:05.943Z"
   },
   {
    "duration": 162,
    "start_time": "2022-09-25T16:46:06.082Z"
   },
   {
    "duration": 171,
    "start_time": "2022-09-25T16:46:06.246Z"
   },
   {
    "duration": 157,
    "start_time": "2022-09-25T16:46:06.419Z"
   },
   {
    "duration": 145,
    "start_time": "2022-09-25T16:46:06.577Z"
   },
   {
    "duration": 154,
    "start_time": "2022-09-25T16:46:06.724Z"
   },
   {
    "duration": 24,
    "start_time": "2022-09-25T16:46:06.880Z"
   },
   {
    "duration": 3,
    "start_time": "2022-09-25T16:46:06.906Z"
   },
   {
    "duration": 8,
    "start_time": "2022-09-25T16:46:06.910Z"
   },
   {
    "duration": 15,
    "start_time": "2022-09-25T16:46:06.932Z"
   },
   {
    "duration": 15,
    "start_time": "2022-09-25T16:47:24.793Z"
   },
   {
    "duration": 14,
    "start_time": "2022-09-25T16:48:05.414Z"
   },
   {
    "duration": 14,
    "start_time": "2022-09-25T16:52:38.958Z"
   },
   {
    "duration": 57,
    "start_time": "2022-09-25T16:55:54.507Z"
   },
   {
    "duration": 48,
    "start_time": "2022-09-25T16:56:04.438Z"
   },
   {
    "duration": 14,
    "start_time": "2022-09-25T16:56:20.998Z"
   },
   {
    "duration": 40,
    "start_time": "2022-09-25T16:56:46.876Z"
   },
   {
    "duration": 134,
    "start_time": "2022-09-25T16:57:21.497Z"
   },
   {
    "duration": 157,
    "start_time": "2022-09-25T16:58:19.920Z"
   },
   {
    "duration": 142,
    "start_time": "2022-09-25T16:58:27.605Z"
   },
   {
    "duration": 141,
    "start_time": "2022-09-25T16:59:19.530Z"
   },
   {
    "duration": 1033,
    "start_time": "2022-09-25T17:00:26.974Z"
   },
   {
    "duration": 16,
    "start_time": "2022-09-25T17:00:56.035Z"
   },
   {
    "duration": 14,
    "start_time": "2022-09-25T17:01:31.016Z"
   },
   {
    "duration": 17,
    "start_time": "2022-09-25T17:01:36.169Z"
   },
   {
    "duration": 13,
    "start_time": "2022-09-25T17:01:46.702Z"
   },
   {
    "duration": 56,
    "start_time": "2022-09-25T17:01:47.628Z"
   },
   {
    "duration": 17,
    "start_time": "2022-09-25T17:01:54.810Z"
   },
   {
    "duration": 16,
    "start_time": "2022-09-25T17:02:17.526Z"
   },
   {
    "duration": 39,
    "start_time": "2022-09-25T17:02:36.035Z"
   },
   {
    "duration": 12,
    "start_time": "2022-09-25T17:02:53.157Z"
   },
   {
    "duration": 12,
    "start_time": "2022-09-25T17:03:29.981Z"
   },
   {
    "duration": 828,
    "start_time": "2022-09-25T17:04:49.438Z"
   },
   {
    "duration": 143,
    "start_time": "2022-09-25T17:05:00.026Z"
   },
   {
    "duration": 4,
    "start_time": "2022-09-25T17:07:12.159Z"
   },
   {
    "duration": 150,
    "start_time": "2022-09-25T17:07:15.538Z"
   },
   {
    "duration": 158,
    "start_time": "2022-09-25T17:07:51.560Z"
   },
   {
    "duration": 44,
    "start_time": "2022-09-25T17:09:42.488Z"
   },
   {
    "duration": 45,
    "start_time": "2022-09-25T17:10:13.564Z"
   },
   {
    "duration": 163,
    "start_time": "2022-09-25T17:10:20.930Z"
   },
   {
    "duration": 203,
    "start_time": "2022-09-25T17:12:18.051Z"
   },
   {
    "duration": 157,
    "start_time": "2022-09-25T17:13:12.749Z"
   },
   {
    "duration": 163,
    "start_time": "2022-09-25T17:13:41.490Z"
   },
   {
    "duration": 56,
    "start_time": "2022-09-25T17:14:08.550Z"
   },
   {
    "duration": 71,
    "start_time": "2022-09-25T17:14:12.039Z"
   },
   {
    "duration": 156,
    "start_time": "2022-09-25T17:15:17.715Z"
   },
   {
    "duration": 162,
    "start_time": "2022-09-25T17:15:27.527Z"
   },
   {
    "duration": 50,
    "start_time": "2022-09-25T17:25:40.322Z"
   },
   {
    "duration": 126,
    "start_time": "2022-09-25T17:25:47.479Z"
   },
   {
    "duration": 157,
    "start_time": "2022-09-25T17:25:57.651Z"
   },
   {
    "duration": 15,
    "start_time": "2022-09-25T17:29:27.452Z"
   },
   {
    "duration": 151,
    "start_time": "2022-09-25T17:30:10.862Z"
   },
   {
    "duration": 143,
    "start_time": "2022-09-25T17:30:18.938Z"
   },
   {
    "duration": 133,
    "start_time": "2022-09-25T17:30:23.794Z"
   },
   {
    "duration": 2450,
    "start_time": "2022-09-25T17:30:27.615Z"
   },
   {
    "duration": 146,
    "start_time": "2022-09-25T17:30:34.133Z"
   },
   {
    "duration": 150,
    "start_time": "2022-09-25T17:30:44.552Z"
   },
   {
    "duration": 113,
    "start_time": "2022-09-25T17:30:58.587Z"
   },
   {
    "duration": 15,
    "start_time": "2022-09-25T17:31:02.551Z"
   },
   {
    "duration": 137,
    "start_time": "2022-09-25T17:31:03.145Z"
   },
   {
    "duration": 135,
    "start_time": "2022-09-25T17:31:11.909Z"
   },
   {
    "duration": 141,
    "start_time": "2022-09-25T17:31:15.923Z"
   },
   {
    "duration": 132,
    "start_time": "2022-09-25T17:31:20.666Z"
   },
   {
    "duration": 162,
    "start_time": "2022-09-25T17:31:29.694Z"
   },
   {
    "duration": 150,
    "start_time": "2022-09-25T17:31:34.100Z"
   },
   {
    "duration": 102,
    "start_time": "2022-09-26T17:28:10.687Z"
   },
   {
    "duration": 40,
    "start_time": "2022-09-26T17:28:19.363Z"
   },
   {
    "duration": 6,
    "start_time": "2022-09-26T17:28:44.609Z"
   },
   {
    "duration": 8,
    "start_time": "2022-09-26T17:29:06.023Z"
   },
   {
    "duration": 567,
    "start_time": "2022-09-26T17:29:31.315Z"
   },
   {
    "duration": 13,
    "start_time": "2022-09-26T17:29:31.883Z"
   },
   {
    "duration": 501,
    "start_time": "2022-09-26T17:29:31.898Z"
   },
   {
    "duration": 6,
    "start_time": "2022-09-26T17:29:32.402Z"
   },
   {
    "duration": 13,
    "start_time": "2022-09-26T17:29:32.409Z"
   },
   {
    "duration": 12,
    "start_time": "2022-09-26T17:29:32.424Z"
   },
   {
    "duration": 14,
    "start_time": "2022-09-26T17:29:32.438Z"
   },
   {
    "duration": 5,
    "start_time": "2022-09-26T17:29:32.453Z"
   },
   {
    "duration": 26,
    "start_time": "2022-09-26T17:29:32.460Z"
   },
   {
    "duration": 300,
    "start_time": "2022-09-26T17:29:32.489Z"
   },
   {
    "duration": 4,
    "start_time": "2022-09-26T17:29:32.791Z"
   },
   {
    "duration": 12,
    "start_time": "2022-09-26T17:29:32.796Z"
   },
   {
    "duration": 14,
    "start_time": "2022-09-26T17:29:32.810Z"
   },
   {
    "duration": 31,
    "start_time": "2022-09-26T17:29:32.826Z"
   },
   {
    "duration": 4,
    "start_time": "2022-09-26T17:29:32.858Z"
   },
   {
    "duration": 10,
    "start_time": "2022-09-26T17:29:32.863Z"
   },
   {
    "duration": 6,
    "start_time": "2022-09-26T17:29:32.874Z"
   },
   {
    "duration": 6,
    "start_time": "2022-09-26T17:29:32.882Z"
   },
   {
    "duration": 4,
    "start_time": "2022-09-26T17:29:32.889Z"
   },
   {
    "duration": 274,
    "start_time": "2022-09-26T17:29:32.894Z"
   },
   {
    "duration": 224,
    "start_time": "2022-09-26T17:29:33.169Z"
   },
   {
    "duration": 28,
    "start_time": "2022-09-26T17:29:33.394Z"
   },
   {
    "duration": 19,
    "start_time": "2022-09-26T17:29:33.423Z"
   },
   {
    "duration": 3,
    "start_time": "2022-09-26T17:29:33.443Z"
   },
   {
    "duration": 214,
    "start_time": "2022-09-26T17:29:33.448Z"
   },
   {
    "duration": 228,
    "start_time": "2022-09-26T17:29:33.663Z"
   },
   {
    "duration": 207,
    "start_time": "2022-09-26T17:29:33.892Z"
   },
   {
    "duration": 387,
    "start_time": "2022-09-26T17:29:34.102Z"
   },
   {
    "duration": 250,
    "start_time": "2022-09-26T17:29:34.491Z"
   },
   {
    "duration": 243,
    "start_time": "2022-09-26T17:29:34.743Z"
   },
   {
    "duration": 256,
    "start_time": "2022-09-26T17:29:34.988Z"
   },
   {
    "duration": 237,
    "start_time": "2022-09-26T17:29:35.247Z"
   },
   {
    "duration": 128,
    "start_time": "2022-09-26T17:29:35.485Z"
   },
   {
    "duration": 228,
    "start_time": "2022-09-26T17:29:35.614Z"
   },
   {
    "duration": 257,
    "start_time": "2022-09-26T17:29:35.844Z"
   },
   {
    "duration": 278,
    "start_time": "2022-09-26T17:29:36.103Z"
   },
   {
    "duration": 367,
    "start_time": "2022-09-26T17:29:36.383Z"
   },
   {
    "duration": 297,
    "start_time": "2022-09-26T17:29:36.752Z"
   },
   {
    "duration": 308,
    "start_time": "2022-09-26T17:29:37.052Z"
   },
   {
    "duration": 6,
    "start_time": "2022-09-26T17:29:37.362Z"
   },
   {
    "duration": 152,
    "start_time": "2022-09-26T17:29:37.369Z"
   },
   {
    "duration": 149,
    "start_time": "2022-09-26T17:29:37.523Z"
   },
   {
    "duration": 153,
    "start_time": "2022-09-26T17:29:37.674Z"
   },
   {
    "duration": 161,
    "start_time": "2022-09-26T17:29:37.829Z"
   },
   {
    "duration": 135,
    "start_time": "2022-09-26T17:29:37.991Z"
   },
   {
    "duration": 220,
    "start_time": "2022-09-26T17:29:38.127Z"
   },
   {
    "duration": 147,
    "start_time": "2022-09-26T17:29:38.348Z"
   },
   {
    "duration": 138,
    "start_time": "2022-09-26T17:29:38.496Z"
   },
   {
    "duration": 23,
    "start_time": "2022-09-26T17:29:38.636Z"
   },
   {
    "duration": 4,
    "start_time": "2022-09-26T17:29:38.660Z"
   },
   {
    "duration": 6,
    "start_time": "2022-09-26T17:29:38.665Z"
   },
   {
    "duration": 14,
    "start_time": "2022-09-26T17:29:38.672Z"
   },
   {
    "duration": 7,
    "start_time": "2022-09-26T17:29:38.688Z"
   },
   {
    "duration": 119,
    "start_time": "2022-09-26T17:30:11.429Z"
   },
   {
    "duration": 8,
    "start_time": "2022-09-26T17:30:24.279Z"
   },
   {
    "duration": 10,
    "start_time": "2022-09-26T17:31:20.624Z"
   },
   {
    "duration": 42,
    "start_time": "2022-09-26T17:31:25.160Z"
   },
   {
    "duration": 9,
    "start_time": "2022-09-26T17:31:30.799Z"
   },
   {
    "duration": 9,
    "start_time": "2022-09-26T17:31:50.752Z"
   },
   {
    "duration": 9,
    "start_time": "2022-09-26T17:32:03.936Z"
   },
   {
    "duration": 21,
    "start_time": "2022-09-26T17:32:25.680Z"
   },
   {
    "duration": 171,
    "start_time": "2022-09-26T17:32:36.156Z"
   }
  ],
  "kernelspec": {
   "display_name": "Python 3 (ipykernel)",
   "language": "python",
   "name": "python3"
  },
  "language_info": {
   "codemirror_mode": {
    "name": "ipython",
    "version": 3
   },
   "file_extension": ".py",
   "mimetype": "text/x-python",
   "name": "python",
   "nbconvert_exporter": "python",
   "pygments_lexer": "ipython3",
   "version": "3.9.13"
  },
  "toc": {
   "base_numbering": 1,
   "nav_menu": {},
   "number_sections": true,
   "sideBar": true,
   "skip_h1_title": true,
   "title_cell": "Table of Contents",
   "title_sidebar": "Contents",
   "toc_cell": false,
   "toc_position": {},
   "toc_section_display": true,
   "toc_window_display": false
  }
 },
 "nbformat": 4,
 "nbformat_minor": 2
}
