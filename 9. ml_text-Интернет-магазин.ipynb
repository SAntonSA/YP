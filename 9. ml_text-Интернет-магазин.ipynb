{
 "cells": [
  {
   "cell_type": "markdown",
   "metadata": {
    "toc": true
   },
   "source": [
    "<h1>Содержание<span class=\"tocSkip\"></span></h1>\n",
    "<div class=\"toc\"><ul class=\"toc-item\"><li><span><a href=\"#Подготовка\" data-toc-modified-id=\"Подготовка-1\"><span class=\"toc-item-num\">1&nbsp;&nbsp;</span>Подготовка</a></span></li><li><span><a href=\"#Обучение\" data-toc-modified-id=\"Обучение-2\"><span class=\"toc-item-num\">2&nbsp;&nbsp;</span>Обучение</a></span></li><li><span><a href=\"#Выводы\" data-toc-modified-id=\"Выводы-3\"><span class=\"toc-item-num\">3&nbsp;&nbsp;</span>Выводы</a></span></li><li><span><a href=\"#Чек-лист-проверки\" data-toc-modified-id=\"Чек-лист-проверки-4\"><span class=\"toc-item-num\">4&nbsp;&nbsp;</span>Чек-лист проверки</a></span></li></ul></div>"
   ]
  },
  {
   "cell_type": "markdown",
   "metadata": {},
   "source": [
    "# Проект для «Викишоп»"
   ]
  },
  {
   "cell_type": "markdown",
   "metadata": {},
   "source": [
    "Интернет-магазин «Викишоп» запускает новый сервис. Теперь пользователи могут редактировать и дополнять описания товаров, как в вики-сообществах. То есть клиенты предлагают свои правки и комментируют изменения других. Магазину нужен инструмент, который будет искать токсичные комментарии и отправлять их на модерацию. \n",
    "\n",
    "Обучите модель классифицировать комментарии на позитивные и негативные. В вашем распоряжении набор данных с разметкой о токсичности правок.\n",
    "\n",
    "Постройте модель со значением метрики качества *F1* не меньше 0.75. \n",
    "\n",
    "**Инструкция по выполнению проекта**\n",
    "\n",
    "1. Загрузите и подготовьте данные.\n",
    "2. Обучите разные модели. \n",
    "3. Сделайте выводы.\n",
    "\n",
    "Для выполнения проекта применять *BERT* необязательно, но вы можете попробовать.\n",
    "\n",
    "**Описание данных**\n",
    "\n",
    "Данные находятся в файле `toxic_comments.csv`. Столбец *text* в нём содержит текст комментария, а *toxic* — целевой признак."
   ]
  },
  {
   "cell_type": "code",
   "execution_count": 7,
   "metadata": {},
   "outputs": [
    {
     "name": "stdout",
     "output_type": "stream",
     "text": [
      "Requirement already satisfied: catboost in c:\\users\\dom\\anaconda3\\lib\\site-packages (1.1.1)\n",
      "Requirement already satisfied: matplotlib in c:\\users\\dom\\anaconda3\\lib\\site-packages (from catboost) (3.5.2)\n",
      "Requirement already satisfied: pandas>=0.24.0 in c:\\users\\dom\\anaconda3\\lib\\site-packages (from catboost) (1.4.4)\n",
      "Requirement already satisfied: six in c:\\users\\dom\\anaconda3\\lib\\site-packages (from catboost) (1.16.0)\n",
      "Requirement already satisfied: numpy>=1.16.0 in c:\\users\\dom\\anaconda3\\lib\\site-packages (from catboost) (1.21.5)\n",
      "Requirement already satisfied: graphviz in c:\\users\\dom\\anaconda3\\lib\\site-packages (from catboost) (0.20.1)\n",
      "Requirement already satisfied: plotly in c:\\users\\dom\\anaconda3\\lib\\site-packages (from catboost) (5.9.0)\n",
      "Requirement already satisfied: scipy in c:\\users\\dom\\anaconda3\\lib\\site-packages (from catboost) (1.9.1)\n",
      "Requirement already satisfied: pytz>=2020.1 in c:\\users\\dom\\anaconda3\\lib\\site-packages (from pandas>=0.24.0->catboost) (2022.1)\n",
      "Requirement already satisfied: python-dateutil>=2.8.1 in c:\\users\\dom\\anaconda3\\lib\\site-packages (from pandas>=0.24.0->catboost) (2.8.2)\n",
      "Requirement already satisfied: pyparsing>=2.2.1 in c:\\users\\dom\\anaconda3\\lib\\site-packages (from matplotlib->catboost) (3.0.9)\n",
      "Requirement already satisfied: fonttools>=4.22.0 in c:\\users\\dom\\anaconda3\\lib\\site-packages (from matplotlib->catboost) (4.25.0)\n",
      "Requirement already satisfied: packaging>=20.0 in c:\\users\\dom\\anaconda3\\lib\\site-packages (from matplotlib->catboost) (21.3)\n",
      "Requirement already satisfied: pillow>=6.2.0 in c:\\users\\dom\\anaconda3\\lib\\site-packages (from matplotlib->catboost) (9.2.0)\n",
      "Requirement already satisfied: kiwisolver>=1.0.1 in c:\\users\\dom\\anaconda3\\lib\\site-packages (from matplotlib->catboost) (1.4.2)\n",
      "Requirement already satisfied: cycler>=0.10 in c:\\users\\dom\\anaconda3\\lib\\site-packages (from matplotlib->catboost) (0.11.0)\n",
      "Requirement already satisfied: tenacity>=6.2.0 in c:\\users\\dom\\anaconda3\\lib\\site-packages (from plotly->catboost) (8.0.1)\n"
     ]
    }
   ],
   "source": [
    "!pip install catboost"
   ]
  },
  {
   "cell_type": "code",
   "execution_count": 8,
   "metadata": {},
   "outputs": [
    {
     "name": "stdout",
     "output_type": "stream",
     "text": [
      "Requirement already satisfied: spacy in c:\\users\\dom\\anaconda3\\lib\\site-packages (3.5.2)\n",
      "Requirement already satisfied: setuptools in c:\\users\\dom\\anaconda3\\lib\\site-packages (from spacy) (63.4.1)\n",
      "Requirement already satisfied: typer<0.8.0,>=0.3.0 in c:\\users\\dom\\anaconda3\\lib\\site-packages (from spacy) (0.7.0)\n",
      "Requirement already satisfied: smart-open<7.0.0,>=5.2.1 in c:\\users\\dom\\anaconda3\\lib\\site-packages (from spacy) (5.2.1)\n",
      "Requirement already satisfied: spacy-loggers<2.0.0,>=1.0.0 in c:\\users\\dom\\anaconda3\\lib\\site-packages (from spacy) (1.0.4)\n",
      "Requirement already satisfied: packaging>=20.0 in c:\\users\\dom\\anaconda3\\lib\\site-packages (from spacy) (21.3)\n",
      "Requirement already satisfied: tqdm<5.0.0,>=4.38.0 in c:\\users\\dom\\anaconda3\\lib\\site-packages (from spacy) (4.64.1)\n",
      "Requirement already satisfied: cymem<2.1.0,>=2.0.2 in c:\\users\\dom\\anaconda3\\lib\\site-packages (from spacy) (2.0.7)\n",
      "Requirement already satisfied: requests<3.0.0,>=2.13.0 in c:\\users\\dom\\anaconda3\\lib\\site-packages (from spacy) (2.28.1)\n",
      "Requirement already satisfied: srsly<3.0.0,>=2.4.3 in c:\\users\\dom\\anaconda3\\lib\\site-packages (from spacy) (2.4.6)\n",
      "Requirement already satisfied: thinc<8.2.0,>=8.1.8 in c:\\users\\dom\\anaconda3\\lib\\site-packages (from spacy) (8.1.9)\n",
      "Requirement already satisfied: numpy>=1.15.0 in c:\\users\\dom\\anaconda3\\lib\\site-packages (from spacy) (1.21.5)\n",
      "Requirement already satisfied: catalogue<2.1.0,>=2.0.6 in c:\\users\\dom\\anaconda3\\lib\\site-packages (from spacy) (2.0.8)\n",
      "Requirement already satisfied: pydantic!=1.8,!=1.8.1,<1.11.0,>=1.7.4 in c:\\users\\dom\\anaconda3\\lib\\site-packages (from spacy) (1.10.7)\n",
      "Requirement already satisfied: wasabi<1.2.0,>=0.9.1 in c:\\users\\dom\\anaconda3\\lib\\site-packages (from spacy) (1.1.1)\n",
      "Requirement already satisfied: pathy>=0.10.0 in c:\\users\\dom\\anaconda3\\lib\\site-packages (from spacy) (0.10.1)\n",
      "Requirement already satisfied: preshed<3.1.0,>=3.0.2 in c:\\users\\dom\\anaconda3\\lib\\site-packages (from spacy) (3.0.8)\n",
      "Requirement already satisfied: langcodes<4.0.0,>=3.2.0 in c:\\users\\dom\\anaconda3\\lib\\site-packages (from spacy) (3.3.0)\n",
      "Requirement already satisfied: murmurhash<1.1.0,>=0.28.0 in c:\\users\\dom\\anaconda3\\lib\\site-packages (from spacy) (1.0.9)\n",
      "Requirement already satisfied: jinja2 in c:\\users\\dom\\anaconda3\\lib\\site-packages (from spacy) (2.11.3)\n",
      "Requirement already satisfied: spacy-legacy<3.1.0,>=3.0.11 in c:\\users\\dom\\anaconda3\\lib\\site-packages (from spacy) (3.0.12)\n",
      "Requirement already satisfied: pyparsing!=3.0.5,>=2.0.2 in c:\\users\\dom\\anaconda3\\lib\\site-packages (from packaging>=20.0->spacy) (3.0.9)\n",
      "Requirement already satisfied: typing-extensions>=4.2.0 in c:\\users\\dom\\anaconda3\\lib\\site-packages (from pydantic!=1.8,!=1.8.1,<1.11.0,>=1.7.4->spacy) (4.3.0)\n",
      "Requirement already satisfied: certifi>=2017.4.17 in c:\\users\\dom\\anaconda3\\lib\\site-packages (from requests<3.0.0,>=2.13.0->spacy) (2022.9.14)\n",
      "Requirement already satisfied: urllib3<1.27,>=1.21.1 in c:\\users\\dom\\anaconda3\\lib\\site-packages (from requests<3.0.0,>=2.13.0->spacy) (1.26.11)\n",
      "Requirement already satisfied: charset-normalizer<3,>=2 in c:\\users\\dom\\anaconda3\\lib\\site-packages (from requests<3.0.0,>=2.13.0->spacy) (2.0.4)\n",
      "Requirement already satisfied: idna<4,>=2.5 in c:\\users\\dom\\anaconda3\\lib\\site-packages (from requests<3.0.0,>=2.13.0->spacy) (3.3)\n",
      "Requirement already satisfied: blis<0.8.0,>=0.7.8 in c:\\users\\dom\\anaconda3\\lib\\site-packages (from thinc<8.2.0,>=8.1.8->spacy) (0.7.9)\n",
      "Requirement already satisfied: confection<1.0.0,>=0.0.1 in c:\\users\\dom\\anaconda3\\lib\\site-packages (from thinc<8.2.0,>=8.1.8->spacy) (0.0.4)\n",
      "Requirement already satisfied: colorama in c:\\users\\dom\\anaconda3\\lib\\site-packages (from tqdm<5.0.0,>=4.38.0->spacy) (0.4.6)\n",
      "Requirement already satisfied: click<9.0.0,>=7.1.1 in c:\\users\\dom\\anaconda3\\lib\\site-packages (from typer<0.8.0,>=0.3.0->spacy) (8.0.4)\n",
      "Requirement already satisfied: MarkupSafe>=0.23 in c:\\users\\dom\\anaconda3\\lib\\site-packages (from jinja2->spacy) (2.0.1)\n",
      "Collecting en-core-web-sm==3.5.0\n",
      "  Downloading https://github.com/explosion/spacy-models/releases/download/en_core_web_sm-3.5.0/en_core_web_sm-3.5.0-py3-none-any.whl (12.8 MB)\n",
      "     --------------------------------------- 12.8/12.8 MB 11.5 MB/s eta 0:00:00\n",
      "Requirement already satisfied: spacy<3.6.0,>=3.5.0 in c:\\users\\dom\\anaconda3\\lib\\site-packages (from en-core-web-sm==3.5.0) (3.5.2)\n",
      "Requirement already satisfied: spacy-loggers<2.0.0,>=1.0.0 in c:\\users\\dom\\anaconda3\\lib\\site-packages (from spacy<3.6.0,>=3.5.0->en-core-web-sm==3.5.0) (1.0.4)\n",
      "Requirement already satisfied: requests<3.0.0,>=2.13.0 in c:\\users\\dom\\anaconda3\\lib\\site-packages (from spacy<3.6.0,>=3.5.0->en-core-web-sm==3.5.0) (2.28.1)\n",
      "Requirement already satisfied: packaging>=20.0 in c:\\users\\dom\\anaconda3\\lib\\site-packages (from spacy<3.6.0,>=3.5.0->en-core-web-sm==3.5.0) (21.3)\n",
      "Requirement already satisfied: setuptools in c:\\users\\dom\\anaconda3\\lib\\site-packages (from spacy<3.6.0,>=3.5.0->en-core-web-sm==3.5.0) (63.4.1)\n",
      "Requirement already satisfied: murmurhash<1.1.0,>=0.28.0 in c:\\users\\dom\\anaconda3\\lib\\site-packages (from spacy<3.6.0,>=3.5.0->en-core-web-sm==3.5.0) (1.0.9)\n",
      "Requirement already satisfied: spacy-legacy<3.1.0,>=3.0.11 in c:\\users\\dom\\anaconda3\\lib\\site-packages (from spacy<3.6.0,>=3.5.0->en-core-web-sm==3.5.0) (3.0.12)\n",
      "Requirement already satisfied: thinc<8.2.0,>=8.1.8 in c:\\users\\dom\\anaconda3\\lib\\site-packages (from spacy<3.6.0,>=3.5.0->en-core-web-sm==3.5.0) (8.1.9)\n",
      "Requirement already satisfied: pathy>=0.10.0 in c:\\users\\dom\\anaconda3\\lib\\site-packages (from spacy<3.6.0,>=3.5.0->en-core-web-sm==3.5.0) (0.10.1)\n",
      "Requirement already satisfied: typer<0.8.0,>=0.3.0 in c:\\users\\dom\\anaconda3\\lib\\site-packages (from spacy<3.6.0,>=3.5.0->en-core-web-sm==3.5.0) (0.7.0)\n",
      "Requirement already satisfied: jinja2 in c:\\users\\dom\\anaconda3\\lib\\site-packages (from spacy<3.6.0,>=3.5.0->en-core-web-sm==3.5.0) (2.11.3)\n",
      "Requirement already satisfied: preshed<3.1.0,>=3.0.2 in c:\\users\\dom\\anaconda3\\lib\\site-packages (from spacy<3.6.0,>=3.5.0->en-core-web-sm==3.5.0) (3.0.8)\n",
      "Requirement already satisfied: wasabi<1.2.0,>=0.9.1 in c:\\users\\dom\\anaconda3\\lib\\site-packages (from spacy<3.6.0,>=3.5.0->en-core-web-sm==3.5.0) (1.1.1)\n",
      "Requirement already satisfied: tqdm<5.0.0,>=4.38.0 in c:\\users\\dom\\anaconda3\\lib\\site-packages (from spacy<3.6.0,>=3.5.0->en-core-web-sm==3.5.0) (4.64.1)\n",
      "Requirement already satisfied: cymem<2.1.0,>=2.0.2 in c:\\users\\dom\\anaconda3\\lib\\site-packages (from spacy<3.6.0,>=3.5.0->en-core-web-sm==3.5.0) (2.0.7)\n",
      "Requirement already satisfied: srsly<3.0.0,>=2.4.3 in c:\\users\\dom\\anaconda3\\lib\\site-packages (from spacy<3.6.0,>=3.5.0->en-core-web-sm==3.5.0) (2.4.6)\n",
      "Requirement already satisfied: numpy>=1.15.0 in c:\\users\\dom\\anaconda3\\lib\\site-packages (from spacy<3.6.0,>=3.5.0->en-core-web-sm==3.5.0) (1.21.5)\n",
      "Requirement already satisfied: smart-open<7.0.0,>=5.2.1 in c:\\users\\dom\\anaconda3\\lib\\site-packages (from spacy<3.6.0,>=3.5.0->en-core-web-sm==3.5.0) (5.2.1)\n",
      "Requirement already satisfied: langcodes<4.0.0,>=3.2.0 in c:\\users\\dom\\anaconda3\\lib\\site-packages (from spacy<3.6.0,>=3.5.0->en-core-web-sm==3.5.0) (3.3.0)\n",
      "Requirement already satisfied: catalogue<2.1.0,>=2.0.6 in c:\\users\\dom\\anaconda3\\lib\\site-packages (from spacy<3.6.0,>=3.5.0->en-core-web-sm==3.5.0) (2.0.8)\n",
      "Requirement already satisfied: pydantic!=1.8,!=1.8.1,<1.11.0,>=1.7.4 in c:\\users\\dom\\anaconda3\\lib\\site-packages (from spacy<3.6.0,>=3.5.0->en-core-web-sm==3.5.0) (1.10.7)\n",
      "Requirement already satisfied: pyparsing!=3.0.5,>=2.0.2 in c:\\users\\dom\\anaconda3\\lib\\site-packages (from packaging>=20.0->spacy<3.6.0,>=3.5.0->en-core-web-sm==3.5.0) (3.0.9)\n",
      "Requirement already satisfied: typing-extensions>=4.2.0 in c:\\users\\dom\\anaconda3\\lib\\site-packages (from pydantic!=1.8,!=1.8.1,<1.11.0,>=1.7.4->spacy<3.6.0,>=3.5.0->en-core-web-sm==3.5.0) (4.3.0)\n",
      "Requirement already satisfied: certifi>=2017.4.17 in c:\\users\\dom\\anaconda3\\lib\\site-packages (from requests<3.0.0,>=2.13.0->spacy<3.6.0,>=3.5.0->en-core-web-sm==3.5.0) (2022.9.14)\n",
      "Requirement already satisfied: urllib3<1.27,>=1.21.1 in c:\\users\\dom\\anaconda3\\lib\\site-packages (from requests<3.0.0,>=2.13.0->spacy<3.6.0,>=3.5.0->en-core-web-sm==3.5.0) (1.26.11)\n",
      "Requirement already satisfied: idna<4,>=2.5 in c:\\users\\dom\\anaconda3\\lib\\site-packages (from requests<3.0.0,>=2.13.0->spacy<3.6.0,>=3.5.0->en-core-web-sm==3.5.0) (3.3)\n",
      "Requirement already satisfied: charset-normalizer<3,>=2 in c:\\users\\dom\\anaconda3\\lib\\site-packages (from requests<3.0.0,>=2.13.0->spacy<3.6.0,>=3.5.0->en-core-web-sm==3.5.0) (2.0.4)\n",
      "Requirement already satisfied: blis<0.8.0,>=0.7.8 in c:\\users\\dom\\anaconda3\\lib\\site-packages (from thinc<8.2.0,>=8.1.8->spacy<3.6.0,>=3.5.0->en-core-web-sm==3.5.0) (0.7.9)\n",
      "Requirement already satisfied: confection<1.0.0,>=0.0.1 in c:\\users\\dom\\anaconda3\\lib\\site-packages (from thinc<8.2.0,>=8.1.8->spacy<3.6.0,>=3.5.0->en-core-web-sm==3.5.0) (0.0.4)\n",
      "Requirement already satisfied: colorama in c:\\users\\dom\\anaconda3\\lib\\site-packages (from tqdm<5.0.0,>=4.38.0->spacy<3.6.0,>=3.5.0->en-core-web-sm==3.5.0) (0.4.6)\n",
      "Requirement already satisfied: click<9.0.0,>=7.1.1 in c:\\users\\dom\\anaconda3\\lib\\site-packages (from typer<0.8.0,>=0.3.0->spacy<3.6.0,>=3.5.0->en-core-web-sm==3.5.0) (8.0.4)\n",
      "Requirement already satisfied: MarkupSafe>=0.23 in c:\\users\\dom\\anaconda3\\lib\\site-packages (from jinja2->spacy<3.6.0,>=3.5.0->en-core-web-sm==3.5.0) (2.0.1)\n",
      "\u001b[38;5;2m[+] Download and installation successful\u001b[0m\n",
      "You can now load the package via spacy.load('en_core_web_sm')\n"
     ]
    }
   ],
   "source": [
    "import sys\n",
    "!{sys.executable} -m pip install spacy\n",
    "!{sys.executable} -m spacy download en_core_web_sm"
   ]
  },
  {
   "cell_type": "markdown",
   "metadata": {},
   "source": [
    "## Подготовка"
   ]
  },
  {
   "cell_type": "code",
   "execution_count": 9,
   "metadata": {},
   "outputs": [],
   "source": [
    "import pandas as pd\n",
    "import numpy as np\n",
    "import nltk\n",
    "import re \n",
    "import lightgbm as lgb\n",
    "import catboost as cb\n",
    "from nltk.stem import WordNetLemmatizer \n",
    "from sklearn.model_selection import train_test_split\n",
    "from nltk.corpus import stopwords as nltk_stopwords\n",
    "from sklearn.feature_extraction.text import TfidfVectorizer\n",
    "from sklearn.linear_model import LogisticRegression \n",
    "from sklearn.metrics import f1_score\n",
    "from sklearn.tree import DecisionTreeClassifier\n",
    "from catboost import CatBoostClassifier,Pool\n",
    "from sklearn.model_selection import GridSearchCV\n",
    "import warnings\n",
    "warnings.filterwarnings('ignore')\n",
    "import spacy\n",
    "from sklearn.pipeline import Pipeline"
   ]
  },
  {
   "cell_type": "code",
   "execution_count": 10,
   "metadata": {},
   "outputs": [],
   "source": [
    "df = pd.read_csv('datasets/toxic_comments.csv')"
   ]
  },
  {
   "cell_type": "code",
   "execution_count": 11,
   "metadata": {},
   "outputs": [
    {
     "data": {
      "text/html": [
       "<div>\n",
       "<style scoped>\n",
       "    .dataframe tbody tr th:only-of-type {\n",
       "        vertical-align: middle;\n",
       "    }\n",
       "\n",
       "    .dataframe tbody tr th {\n",
       "        vertical-align: top;\n",
       "    }\n",
       "\n",
       "    .dataframe thead th {\n",
       "        text-align: right;\n",
       "    }\n",
       "</style>\n",
       "<table border=\"1\" class=\"dataframe\">\n",
       "  <thead>\n",
       "    <tr style=\"text-align: right;\">\n",
       "      <th></th>\n",
       "      <th>Unnamed: 0</th>\n",
       "      <th>text</th>\n",
       "      <th>toxic</th>\n",
       "    </tr>\n",
       "  </thead>\n",
       "  <tbody>\n",
       "    <tr>\n",
       "      <th>0</th>\n",
       "      <td>0</td>\n",
       "      <td>Explanation\\nWhy the edits made under my usern...</td>\n",
       "      <td>0</td>\n",
       "    </tr>\n",
       "    <tr>\n",
       "      <th>1</th>\n",
       "      <td>1</td>\n",
       "      <td>D'aww! He matches this background colour I'm s...</td>\n",
       "      <td>0</td>\n",
       "    </tr>\n",
       "    <tr>\n",
       "      <th>2</th>\n",
       "      <td>2</td>\n",
       "      <td>Hey man, I'm really not trying to edit war. It...</td>\n",
       "      <td>0</td>\n",
       "    </tr>\n",
       "    <tr>\n",
       "      <th>3</th>\n",
       "      <td>3</td>\n",
       "      <td>\"\\nMore\\nI can't make any real suggestions on ...</td>\n",
       "      <td>0</td>\n",
       "    </tr>\n",
       "    <tr>\n",
       "      <th>4</th>\n",
       "      <td>4</td>\n",
       "      <td>You, sir, are my hero. Any chance you remember...</td>\n",
       "      <td>0</td>\n",
       "    </tr>\n",
       "    <tr>\n",
       "      <th>...</th>\n",
       "      <td>...</td>\n",
       "      <td>...</td>\n",
       "      <td>...</td>\n",
       "    </tr>\n",
       "    <tr>\n",
       "      <th>159287</th>\n",
       "      <td>159446</td>\n",
       "      <td>\":::::And for the second time of asking, when ...</td>\n",
       "      <td>0</td>\n",
       "    </tr>\n",
       "    <tr>\n",
       "      <th>159288</th>\n",
       "      <td>159447</td>\n",
       "      <td>You should be ashamed of yourself \\n\\nThat is ...</td>\n",
       "      <td>0</td>\n",
       "    </tr>\n",
       "    <tr>\n",
       "      <th>159289</th>\n",
       "      <td>159448</td>\n",
       "      <td>Spitzer \\n\\nUmm, theres no actual article for ...</td>\n",
       "      <td>0</td>\n",
       "    </tr>\n",
       "    <tr>\n",
       "      <th>159290</th>\n",
       "      <td>159449</td>\n",
       "      <td>And it looks like it was actually you who put ...</td>\n",
       "      <td>0</td>\n",
       "    </tr>\n",
       "    <tr>\n",
       "      <th>159291</th>\n",
       "      <td>159450</td>\n",
       "      <td>\"\\nAnd ... I really don't think you understand...</td>\n",
       "      <td>0</td>\n",
       "    </tr>\n",
       "  </tbody>\n",
       "</table>\n",
       "<p>159292 rows × 3 columns</p>\n",
       "</div>"
      ],
      "text/plain": [
       "        Unnamed: 0                                               text  toxic\n",
       "0                0  Explanation\\nWhy the edits made under my usern...      0\n",
       "1                1  D'aww! He matches this background colour I'm s...      0\n",
       "2                2  Hey man, I'm really not trying to edit war. It...      0\n",
       "3                3  \"\\nMore\\nI can't make any real suggestions on ...      0\n",
       "4                4  You, sir, are my hero. Any chance you remember...      0\n",
       "...            ...                                                ...    ...\n",
       "159287      159446  \":::::And for the second time of asking, when ...      0\n",
       "159288      159447  You should be ashamed of yourself \\n\\nThat is ...      0\n",
       "159289      159448  Spitzer \\n\\nUmm, theres no actual article for ...      0\n",
       "159290      159449  And it looks like it was actually you who put ...      0\n",
       "159291      159450  \"\\nAnd ... I really don't think you understand...      0\n",
       "\n",
       "[159292 rows x 3 columns]"
      ]
     },
     "execution_count": 11,
     "metadata": {},
     "output_type": "execute_result"
    }
   ],
   "source": [
    "df"
   ]
  },
  {
   "cell_type": "code",
   "execution_count": 12,
   "metadata": {},
   "outputs": [
    {
     "name": "stdout",
     "output_type": "stream",
     "text": [
      "<class 'pandas.core.frame.DataFrame'>\n",
      "RangeIndex: 159292 entries, 0 to 159291\n",
      "Data columns (total 3 columns):\n",
      " #   Column      Non-Null Count   Dtype \n",
      "---  ------      --------------   ----- \n",
      " 0   Unnamed: 0  159292 non-null  int64 \n",
      " 1   text        159292 non-null  object\n",
      " 2   toxic       159292 non-null  int64 \n",
      "dtypes: int64(2), object(1)\n",
      "memory usage: 3.6+ MB\n"
     ]
    }
   ],
   "source": [
    "df.info()"
   ]
  },
  {
   "cell_type": "code",
   "execution_count": 13,
   "metadata": {},
   "outputs": [
    {
     "data": {
      "text/plain": [
       "0"
      ]
     },
     "execution_count": 13,
     "metadata": {},
     "output_type": "execute_result"
    }
   ],
   "source": [
    "df.duplicated().sum()"
   ]
  },
  {
   "cell_type": "code",
   "execution_count": 14,
   "metadata": {},
   "outputs": [
    {
     "name": "stdout",
     "output_type": "stream",
     "text": [
      "(143106, 3)\n",
      "(16186, 3)\n"
     ]
    }
   ],
   "source": [
    "print(df[df['toxic']==0].shape)\n",
    "print(df[df['toxic']==1].shape)"
   ]
  },
  {
   "cell_type": "markdown",
   "metadata": {},
   "source": [
    "Дальше когда разделять выборку буду, сохраню баланс классов"
   ]
  },
  {
   "cell_type": "markdown",
   "metadata": {},
   "source": [
    "с данными всё в порядке</font><font color='Blue'><b> ,но присутсвует большой дизбаланс,</b></font><br>будем работать дальше"
   ]
  },
  {
   "cell_type": "code",
   "execution_count": 15,
   "metadata": {},
   "outputs": [],
   "source": [
    "def clear_text(text):\n",
    "    text = re.sub(r'[^a-zA-Z]' , ' ', text) \n",
    "    text = text.lower()\n",
    "    return \" \".join(text.split())"
   ]
  },
  {
   "cell_type": "markdown",
   "metadata": {},
   "source": [
    "Создадим очистку"
   ]
  },
  {
   "cell_type": "code",
   "execution_count": 16,
   "metadata": {},
   "outputs": [],
   "source": [
    "df['text'] = df['text'].apply(clear_text)"
   ]
  },
  {
   "cell_type": "code",
   "execution_count": 17,
   "metadata": {},
   "outputs": [],
   "source": [
    "nlp = spacy.load('en_core_web_sm', disable=['parser', 'ner'])"
   ]
  },
  {
   "cell_type": "code",
   "execution_count": 18,
   "metadata": {},
   "outputs": [],
   "source": [
    "def lemmatize(text):\n",
    "    doc = nlp(text)\n",
    "    doc=\" \".join([token.lemma_ for token in doc])\n",
    "    return \"\".join(doc)"
   ]
  },
  {
   "cell_type": "markdown",
   "metadata": {},
   "source": [
    "создадим функцию лематизации"
   ]
  },
  {
   "cell_type": "code",
   "execution_count": 19,
   "metadata": {},
   "outputs": [],
   "source": [
    "features=df['text']\n",
    "target=df['toxic']"
   ]
  },
  {
   "cell_type": "markdown",
   "metadata": {},
   "source": [
    "разделим выборку..."
   ]
  },
  {
   "cell_type": "code",
   "execution_count": 20,
   "metadata": {},
   "outputs": [],
   "source": [
    "features = features.apply(lemmatize)"
   ]
  },
  {
   "cell_type": "markdown",
   "metadata": {},
   "source": [
    "\n",
    "</font><font color='Blue'><b>было долго, но результат получен.\n",
    "    </b></font><br>"
   ]
  },
  {
   "cell_type": "code",
   "execution_count": 21,
   "metadata": {},
   "outputs": [
    {
     "data": {
      "text/plain": [
       "0         explanation why the edit make under my usernam...\n",
       "1         d aww he match this background colour I m seem...\n",
       "2         hey man I m really not try to edit war it s ju...\n",
       "3         more I can t make any real suggestion on impro...\n",
       "4         you sir be my hero any chance you remember wha...\n",
       "                                ...                        \n",
       "159287    and for the second time of ask when your view ...\n",
       "159288    you should be ashamed of yourself that be a ho...\n",
       "159289    spitzer umm there s no actual article for pros...\n",
       "159290    and it look like it be actually you who put on...\n",
       "159291    and I really don t think you understand I come...\n",
       "Name: text, Length: 159292, dtype: object"
      ]
     },
     "execution_count": 21,
     "metadata": {},
     "output_type": "execute_result"
    }
   ],
   "source": [
    "features"
   ]
  },
  {
   "cell_type": "code",
   "execution_count": 22,
   "metadata": {},
   "outputs": [
    {
     "data": {
      "text/plain": [
       "0         explanation why the edits made under my userna...\n",
       "1         d aww he matches this background colour i m se...\n",
       "2         hey man i m really not trying to edit war it s...\n",
       "3         more i can t make any real suggestions on impr...\n",
       "4         you sir are my hero any chance you remember wh...\n",
       "                                ...                        \n",
       "159287    and for the second time of asking when your vi...\n",
       "159288    you should be ashamed of yourself that is a ho...\n",
       "159289    spitzer umm theres no actual article for prost...\n",
       "159290    and it looks like it was actually you who put ...\n",
       "159291    and i really don t think you understand i came...\n",
       "Name: text, Length: 159292, dtype: object"
      ]
     },
     "execution_count": 22,
     "metadata": {},
     "output_type": "execute_result"
    }
   ],
   "source": [
    "df['text']"
   ]
  },
  {
   "cell_type": "code",
   "execution_count": 23,
   "metadata": {
    "scrolled": true
   },
   "outputs": [
    {
     "name": "stderr",
     "output_type": "stream",
     "text": [
      "[nltk_data] Downloading package stopwords to\n",
      "[nltk_data]     C:\\Users\\Dom\\AppData\\Roaming\\nltk_data...\n",
      "[nltk_data]   Package stopwords is already up-to-date!\n"
     ]
    }
   ],
   "source": [
    "nltk.download('stopwords')\n",
    "stopwords = set(nltk_stopwords.words('english'))"
   ]
  },
  {
   "cell_type": "code",
   "execution_count": 24,
   "metadata": {},
   "outputs": [],
   "source": [
    "features_train, features_test, target_train, target_test = train_test_split(\n",
    "    features, target, test_size=0.1, random_state=12345,stratify=target)\n",
    "\n",
    "features_test, features_valid, target_test, target_valid = train_test_split(\n",
    "    features_test, target_test, test_size = 0.25, random_state = 12345,stratify=target_test)"
   ]
  },
  {
   "cell_type": "markdown",
   "metadata": {},
   "source": []
  },
  {
   "cell_type": "code",
   "execution_count": 25,
   "metadata": {},
   "outputs": [],
   "source": [
    "count_tf_idf = TfidfVectorizer(stop_words=stopwords) \n",
    "features_train = count_tf_idf.fit_transform(features_train) "
   ]
  },
  {
   "cell_type": "code",
   "execution_count": 26,
   "metadata": {},
   "outputs": [],
   "source": [
    "features_test = count_tf_idf.transform(features_test)"
   ]
  },
  {
   "cell_type": "code",
   "execution_count": 27,
   "metadata": {},
   "outputs": [],
   "source": [
    "features_valid = count_tf_idf.transform(features_valid)"
   ]
  },
  {
   "cell_type": "code",
   "execution_count": 28,
   "metadata": {
    "scrolled": true
   },
   "outputs": [
    {
     "data": {
      "text/plain": [
       "(143362, 142647)"
      ]
     },
     "execution_count": 28,
     "metadata": {},
     "output_type": "execute_result"
    }
   ],
   "source": [
    "features_train.shape"
   ]
  },
  {
   "cell_type": "code",
   "execution_count": 29,
   "metadata": {},
   "outputs": [
    {
     "data": {
      "text/plain": [
       "(11947, 142647)"
      ]
     },
     "execution_count": 29,
     "metadata": {},
     "output_type": "execute_result"
    }
   ],
   "source": [
    "features_test.shape"
   ]
  },
  {
   "cell_type": "code",
   "execution_count": 30,
   "metadata": {},
   "outputs": [],
   "source": [
    "#features_valid.shape"
   ]
  },
  {
   "cell_type": "markdown",
   "metadata": {},
   "source": [
    "с признаками всё нормально, работаем дальше"
   ]
  },
  {
   "cell_type": "code",
   "execution_count": 31,
   "metadata": {},
   "outputs": [],
   "source": [
    "def itog(model, features_train=features_train, target_train= target_train,features_valid=features_valid, target_valid=target_valid): \n",
    "    model.fit(features_train,target_train)\n",
    "    return print(f1_score(target_valid, model.predict(features_valid)))"
   ]
  },
  {
   "cell_type": "markdown",
   "metadata": {},
   "source": [
    "функция для оценки моделей, взял из прошлого проекта."
   ]
  },
  {
   "cell_type": "markdown",
   "metadata": {},
   "source": [
    "## Обучение"
   ]
  },
  {
   "cell_type": "markdown",
   "metadata": {},
   "source": [
    "Чутка переберём параметры"
   ]
  },
  {
   "cell_type": "markdown",
   "metadata": {},
   "source": [
    "LogisticRegression"
   ]
  },
  {
   "cell_type": "code",
   "execution_count": 32,
   "metadata": {},
   "outputs": [],
   "source": [
    "pipe_lr = Pipeline([ (\"vect\", TfidfVectorizer(stop_words=stopwords) ),           \n",
    " ('clf', LogisticRegression(random_state=12345, class_weight = 'balanced',penalty='l2'))],)"
   ]
  },
  {
   "cell_type": "code",
   "execution_count": 33,
   "metadata": {},
   "outputs": [],
   "source": [
    "pipe_cat = Pipeline([ (\"vect\", TfidfVectorizer(stop_words=stopwords) ),           \n",
    " ('clf', cb.CatBoostClassifier(loss_function='Logloss', eval_metric='F1',random_state=12345))],)"
   ]
  },
  {
   "cell_type": "code",
   "execution_count": 34,
   "metadata": {},
   "outputs": [],
   "source": [
    "pipe_tree = Pipeline([ (\"vect\", TfidfVectorizer(stop_words=stopwords) ),           \n",
    " ('clf', DecisionTreeClassifier(random_state = 12345))],) "
   ]
  },
  {
   "cell_type": "code",
   "execution_count": 35,
   "metadata": {
    "scrolled": true
   },
   "outputs": [
    {
     "data": {
      "text/plain": [
       "GridSearchCV(cv=3,\n",
       "             estimator=LogisticRegression(class_weight='balanced',\n",
       "                                          random_state=12345),\n",
       "             n_jobs=-1, param_grid=[{'C': [1, 10, 100]}], scoring='f1')"
      ]
     },
     "execution_count": 35,
     "metadata": {},
     "output_type": "execute_result"
    }
   ],
   "source": [
    "model = LogisticRegression(random_state=12345, class_weight = 'balanced',penalty='l2')\n",
    "parameters = [ {'C':[1, 10,100],}]\n",
    "lr = GridSearchCV(model,  \n",
    "                           param_grid = parameters,\n",
    "                           scoring = 'f1',\n",
    "                           cv =3,\n",
    "                           verbose=0,\n",
    "                           n_jobs = -1)\n",
    "lr.fit(features_train,target_train)\n"
   ]
  },
  {
   "cell_type": "code",
   "execution_count": 36,
   "metadata": {},
   "outputs": [
    {
     "name": "stdout",
     "output_type": "stream",
     "text": [
      " качество модели по кросс-валидации равно 0.76408279293703\n"
     ]
    }
   ],
   "source": [
    "print(f' качество модели по кросс-валидации равно {lr.best_score_}')"
   ]
  },
  {
   "cell_type": "markdown",
   "metadata": {},
   "source": [
    "DecisionTreeClassifier"
   ]
  },
  {
   "cell_type": "code",
   "execution_count": 37,
   "metadata": {},
   "outputs": [
    {
     "data": {
      "text/plain": [
       "GridSearchCV(cv=3, estimator=DecisionTreeClassifier(random_state=12345),\n",
       "             param_grid={'max_depth': [50, 100]}, scoring='f1')"
      ]
     },
     "execution_count": 37,
     "metadata": {},
     "output_type": "execute_result"
    }
   ],
   "source": [
    "model = DecisionTreeClassifier(random_state = 12345)\n",
    "tree_para = {'max_depth':[50,100]}\n",
    "model = GridSearchCV(model, tree_para, cv=3,scoring = 'f1')\n",
    "#itog(model)\n",
    "model.fit(features_train,target_train)"
   ]
  },
  {
   "cell_type": "code",
   "execution_count": 38,
   "metadata": {},
   "outputs": [
    {
     "name": "stdout",
     "output_type": "stream",
     "text": [
      " качество модели по кросс-валидации равно 0.7260519940991955\n"
     ]
    }
   ],
   "source": [
    "print(f' качество модели по кросс-валидации равно {model.best_score_}')"
   ]
  },
  {
   "cell_type": "markdown",
   "metadata": {},
   "source": [
    "CatBoostClassifier"
   ]
  },
  {
   "cell_type": "code",
   "execution_count": 39,
   "metadata": {},
   "outputs": [
    {
     "data": {
      "application/vnd.jupyter.widget-view+json": {
       "model_id": "acd556bb79e642a482fa8394b2d52bfa",
       "version_major": 2,
       "version_minor": 0
      },
      "text/plain": [
       "MetricVisualizer(layout=Layout(align_self='stretch', height='500px'))"
      ]
     },
     "metadata": {},
     "output_type": "display_data"
    },
    {
     "name": "stdout",
     "output_type": "stream",
     "text": [
      "0:\tlearn: 0.3577737\ttest: 0.3785894\tbest: 0.3785894 (0)\ttotal: 478ms\tremaining: 47.3s\n",
      "1:\tlearn: 0.5004711\ttest: 0.5216960\tbest: 0.5216960 (1)\ttotal: 809ms\tremaining: 39.6s\n",
      "2:\tlearn: 0.4495226\ttest: 0.4691423\tbest: 0.5216960 (1)\ttotal: 1.14s\tremaining: 36.9s\n",
      "3:\tlearn: 0.4745390\ttest: 0.4957703\tbest: 0.5216960 (1)\ttotal: 1.47s\tremaining: 35.3s\n",
      "4:\tlearn: 0.4962396\ttest: 0.5175461\tbest: 0.5216960 (1)\ttotal: 1.8s\tremaining: 34.3s\n",
      "5:\tlearn: 0.5154561\ttest: 0.5458602\tbest: 0.5458602 (5)\ttotal: 2.13s\tremaining: 33.4s\n",
      "6:\tlearn: 0.5479988\ttest: 0.5821934\tbest: 0.5821934 (6)\ttotal: 2.46s\tremaining: 32.7s\n",
      "7:\tlearn: 0.5302861\ttest: 0.5630784\tbest: 0.5821934 (6)\ttotal: 2.79s\tremaining: 32s\n",
      "8:\tlearn: 0.5603339\ttest: 0.5867493\tbest: 0.5867493 (8)\ttotal: 3.11s\tremaining: 31.5s\n",
      "9:\tlearn: 0.5640531\ttest: 0.5922584\tbest: 0.5922584 (9)\ttotal: 3.44s\tremaining: 31s\n",
      "10:\tlearn: 0.5673563\ttest: 0.5963086\tbest: 0.5963086 (10)\ttotal: 3.76s\tremaining: 30.4s\n",
      "11:\tlearn: 0.5747989\ttest: 0.6043031\tbest: 0.6043031 (11)\ttotal: 4.08s\tremaining: 29.9s\n",
      "12:\tlearn: 0.5855365\ttest: 0.6128432\tbest: 0.6128432 (12)\ttotal: 4.42s\tremaining: 29.6s\n",
      "13:\tlearn: 0.5887779\ttest: 0.6157418\tbest: 0.6157418 (13)\ttotal: 4.75s\tremaining: 29.2s\n",
      "14:\tlearn: 0.5997662\ttest: 0.6241363\tbest: 0.6241363 (14)\ttotal: 5.08s\tremaining: 28.8s\n",
      "15:\tlearn: 0.6235045\ttest: 0.6430185\tbest: 0.6430185 (15)\ttotal: 5.41s\tremaining: 28.4s\n",
      "16:\tlearn: 0.6308130\ttest: 0.6491465\tbest: 0.6491465 (16)\ttotal: 5.73s\tremaining: 28s\n",
      "17:\tlearn: 0.6302320\ttest: 0.6499102\tbest: 0.6499102 (17)\ttotal: 6.06s\tremaining: 27.6s\n",
      "18:\tlearn: 0.6354367\ttest: 0.6557890\tbest: 0.6557890 (18)\ttotal: 6.39s\tremaining: 27.2s\n",
      "19:\tlearn: 0.6418070\ttest: 0.6610283\tbest: 0.6610283 (19)\ttotal: 6.71s\tremaining: 26.9s\n",
      "20:\tlearn: 0.6335601\ttest: 0.6548712\tbest: 0.6610283 (19)\ttotal: 7.05s\tremaining: 26.5s\n",
      "21:\tlearn: 0.6400406\ttest: 0.6613262\tbest: 0.6613262 (21)\ttotal: 7.38s\tremaining: 26.2s\n",
      "22:\tlearn: 0.6429575\ttest: 0.6642984\tbest: 0.6642984 (22)\ttotal: 7.7s\tremaining: 25.8s\n",
      "23:\tlearn: 0.6549116\ttest: 0.6741474\tbest: 0.6741474 (23)\ttotal: 8.03s\tremaining: 25.4s\n",
      "24:\tlearn: 0.6593638\ttest: 0.6777729\tbest: 0.6777729 (24)\ttotal: 8.37s\tremaining: 25.1s\n",
      "25:\tlearn: 0.6623262\ttest: 0.6795012\tbest: 0.6795012 (25)\ttotal: 8.71s\tremaining: 24.8s\n",
      "26:\tlearn: 0.6646842\ttest: 0.6819472\tbest: 0.6819472 (26)\ttotal: 9.04s\tremaining: 24.4s\n",
      "27:\tlearn: 0.6569497\ttest: 0.6758893\tbest: 0.6819472 (26)\ttotal: 9.36s\tremaining: 24.1s\n",
      "28:\tlearn: 0.6686462\ttest: 0.6834171\tbest: 0.6834171 (28)\ttotal: 9.69s\tremaining: 23.7s\n",
      "29:\tlearn: 0.6702157\ttest: 0.6845433\tbest: 0.6845433 (29)\ttotal: 10s\tremaining: 23.4s\n",
      "30:\tlearn: 0.6685001\ttest: 0.6844057\tbest: 0.6845433 (29)\ttotal: 10.3s\tremaining: 23s\n",
      "31:\tlearn: 0.6700357\ttest: 0.6859756\tbest: 0.6859756 (31)\ttotal: 10.7s\tremaining: 22.7s\n",
      "32:\tlearn: 0.6735196\ttest: 0.6883681\tbest: 0.6883681 (32)\ttotal: 11s\tremaining: 22.4s\n",
      "33:\tlearn: 0.6777391\ttest: 0.6914595\tbest: 0.6914595 (33)\ttotal: 11.4s\tremaining: 22.1s\n",
      "34:\tlearn: 0.6782760\ttest: 0.6921581\tbest: 0.6921581 (34)\ttotal: 11.7s\tremaining: 21.8s\n",
      "35:\tlearn: 0.6838144\ttest: 0.6974844\tbest: 0.6974844 (35)\ttotal: 12s\tremaining: 21.4s\n",
      "36:\tlearn: 0.6847403\ttest: 0.6978943\tbest: 0.6978943 (36)\ttotal: 12.4s\tremaining: 21.1s\n",
      "37:\tlearn: 0.6855074\ttest: 0.6992707\tbest: 0.6992707 (37)\ttotal: 12.7s\tremaining: 20.8s\n",
      "38:\tlearn: 0.6889236\ttest: 0.7035455\tbest: 0.7035455 (38)\ttotal: 13.1s\tremaining: 20.4s\n",
      "39:\tlearn: 0.6882416\ttest: 0.7032920\tbest: 0.7035455 (38)\ttotal: 13.4s\tremaining: 20.1s\n",
      "40:\tlearn: 0.6894768\ttest: 0.7038223\tbest: 0.7038223 (40)\ttotal: 13.7s\tremaining: 19.7s\n",
      "41:\tlearn: 0.6908348\ttest: 0.7050053\tbest: 0.7050053 (41)\ttotal: 14s\tremaining: 19.4s\n",
      "42:\tlearn: 0.6927704\ttest: 0.7058073\tbest: 0.7058073 (42)\ttotal: 14.4s\tremaining: 19s\n",
      "43:\tlearn: 0.6962995\ttest: 0.7089521\tbest: 0.7089521 (43)\ttotal: 14.7s\tremaining: 18.7s\n",
      "44:\tlearn: 0.6974853\ttest: 0.7092259\tbest: 0.7092259 (44)\ttotal: 15s\tremaining: 18.3s\n",
      "45:\tlearn: 0.6980627\ttest: 0.7096227\tbest: 0.7096227 (45)\ttotal: 15.3s\tremaining: 18s\n",
      "46:\tlearn: 0.6997275\ttest: 0.7105653\tbest: 0.7105653 (46)\ttotal: 15.6s\tremaining: 17.6s\n",
      "47:\tlearn: 0.7007260\ttest: 0.7131685\tbest: 0.7131685 (47)\ttotal: 16s\tremaining: 17.3s\n",
      "48:\tlearn: 0.7031258\ttest: 0.7140747\tbest: 0.7140747 (48)\ttotal: 16.3s\tremaining: 16.9s\n",
      "49:\tlearn: 0.7041489\ttest: 0.7151592\tbest: 0.7151592 (49)\ttotal: 16.6s\tremaining: 16.6s\n",
      "50:\tlearn: 0.7044246\ttest: 0.7153100\tbest: 0.7153100 (50)\ttotal: 16.9s\tremaining: 16.3s\n",
      "51:\tlearn: 0.7053320\ttest: 0.7141953\tbest: 0.7153100 (50)\ttotal: 17.2s\tremaining: 15.9s\n",
      "52:\tlearn: 0.7059824\ttest: 0.7145868\tbest: 0.7153100 (50)\ttotal: 17.6s\tremaining: 15.6s\n",
      "53:\tlearn: 0.7068004\ttest: 0.7152485\tbest: 0.7153100 (50)\ttotal: 17.9s\tremaining: 15.2s\n",
      "54:\tlearn: 0.7093836\ttest: 0.7160598\tbest: 0.7160598 (54)\ttotal: 18.2s\tremaining: 14.9s\n",
      "55:\tlearn: 0.7101112\ttest: 0.7166000\tbest: 0.7166000 (55)\ttotal: 18.5s\tremaining: 14.5s\n",
      "56:\tlearn: 0.7093664\ttest: 0.7166316\tbest: 0.7166316 (56)\ttotal: 18.8s\tremaining: 14.2s\n",
      "57:\tlearn: 0.7108854\ttest: 0.7188418\tbest: 0.7188418 (57)\ttotal: 19.2s\tremaining: 13.9s\n",
      "58:\tlearn: 0.7127542\ttest: 0.7191106\tbest: 0.7191106 (58)\ttotal: 19.5s\tremaining: 13.5s\n",
      "59:\tlearn: 0.7133892\ttest: 0.7180025\tbest: 0.7191106 (58)\ttotal: 19.8s\tremaining: 13.2s\n",
      "60:\tlearn: 0.7150756\ttest: 0.7182390\tbest: 0.7191106 (58)\ttotal: 20.1s\tremaining: 12.9s\n",
      "61:\tlearn: 0.7160520\ttest: 0.7185077\tbest: 0.7191106 (58)\ttotal: 20.5s\tremaining: 12.5s\n",
      "62:\tlearn: 0.7174987\ttest: 0.7198492\tbest: 0.7198492 (62)\ttotal: 20.8s\tremaining: 12.2s\n",
      "63:\tlearn: 0.7172211\ttest: 0.7196144\tbest: 0.7198492 (62)\ttotal: 21.1s\tremaining: 11.9s\n",
      "64:\tlearn: 0.7184548\ttest: 0.7206529\tbest: 0.7206529 (64)\ttotal: 21.5s\tremaining: 11.6s\n",
      "65:\tlearn: 0.7189549\ttest: 0.7210372\tbest: 0.7210372 (65)\ttotal: 21.8s\tremaining: 11.2s\n",
      "66:\tlearn: 0.7208669\ttest: 0.7228715\tbest: 0.7228715 (66)\ttotal: 22.1s\tremaining: 10.9s\n",
      "67:\tlearn: 0.7219170\ttest: 0.7239008\tbest: 0.7239008 (67)\ttotal: 22.4s\tremaining: 10.6s\n",
      "68:\tlearn: 0.7228525\ttest: 0.7242815\tbest: 0.7242815 (68)\ttotal: 22.8s\tremaining: 10.2s\n",
      "69:\tlearn: 0.7236402\ttest: 0.7253800\tbest: 0.7253800 (69)\ttotal: 23.1s\tremaining: 9.9s\n",
      "70:\tlearn: 0.7238982\ttest: 0.7254943\tbest: 0.7254943 (70)\ttotal: 23.4s\tremaining: 9.57s\n",
      "71:\tlearn: 0.7260009\ttest: 0.7274616\tbest: 0.7274616 (71)\ttotal: 23.8s\tremaining: 9.24s\n",
      "72:\tlearn: 0.7262389\ttest: 0.7282541\tbest: 0.7282541 (72)\ttotal: 24.1s\tremaining: 8.91s\n",
      "73:\tlearn: 0.7265430\ttest: 0.7283285\tbest: 0.7283285 (73)\ttotal: 24.4s\tremaining: 8.58s\n",
      "74:\tlearn: 0.7288515\ttest: 0.7310716\tbest: 0.7310716 (74)\ttotal: 24.8s\tremaining: 8.25s\n",
      "75:\tlearn: 0.7293139\ttest: 0.7311828\tbest: 0.7311828 (75)\ttotal: 25.1s\tremaining: 7.92s\n",
      "76:\tlearn: 0.7297382\ttest: 0.7318182\tbest: 0.7318182 (76)\ttotal: 25.4s\tremaining: 7.59s\n",
      "77:\tlearn: 0.7322529\ttest: 0.7317375\tbest: 0.7318182 (76)\ttotal: 25.7s\tremaining: 7.26s\n",
      "78:\tlearn: 0.7330401\ttest: 0.7324118\tbest: 0.7324118 (78)\ttotal: 26.1s\tremaining: 6.93s\n",
      "79:\tlearn: 0.7335851\ttest: 0.7336082\tbest: 0.7336082 (79)\ttotal: 26.4s\tremaining: 6.6s\n",
      "80:\tlearn: 0.7339506\ttest: 0.7338693\tbest: 0.7338693 (80)\ttotal: 26.7s\tremaining: 6.27s\n",
      "81:\tlearn: 0.7345124\ttest: 0.7341303\tbest: 0.7341303 (81)\ttotal: 27.1s\tremaining: 5.94s\n",
      "82:\tlearn: 0.7344913\ttest: 0.7346518\tbest: 0.7346518 (82)\ttotal: 27.4s\tremaining: 5.62s\n",
      "83:\tlearn: 0.7348837\ttest: 0.7349547\tbest: 0.7349547 (83)\ttotal: 27.8s\tremaining: 5.29s\n",
      "84:\tlearn: 0.7361735\ttest: 0.7350216\tbest: 0.7350216 (84)\ttotal: 28.1s\tremaining: 4.96s\n",
      "85:\tlearn: 0.7366682\ttest: 0.7350216\tbest: 0.7350216 (84)\ttotal: 28.5s\tremaining: 4.63s\n",
      "86:\tlearn: 0.7367661\ttest: 0.7343750\tbest: 0.7350216 (84)\ttotal: 28.8s\tremaining: 4.3s\n",
      "87:\tlearn: 0.7369616\ttest: 0.7342240\tbest: 0.7350216 (84)\ttotal: 29.1s\tremaining: 3.97s\n",
      "88:\tlearn: 0.7377370\ttest: 0.7361510\tbest: 0.7361510 (88)\ttotal: 29.5s\tremaining: 3.64s\n",
      "89:\tlearn: 0.7382571\ttest: 0.7363021\tbest: 0.7363021 (89)\ttotal: 29.8s\tremaining: 3.31s\n",
      "90:\tlearn: 0.7385550\ttest: 0.7368205\tbest: 0.7368205 (90)\ttotal: 30.1s\tremaining: 2.98s\n",
      "91:\tlearn: 0.7399064\ttest: 0.7382220\tbest: 0.7382220 (91)\ttotal: 30.5s\tremaining: 2.65s\n",
      "92:\tlearn: 0.7400247\ttest: 0.7382220\tbest: 0.7382220 (91)\ttotal: 30.8s\tremaining: 2.32s\n",
      "93:\tlearn: 0.7400586\ttest: 0.7380709\tbest: 0.7382220 (91)\ttotal: 31.1s\tremaining: 1.99s\n",
      "94:\tlearn: 0.7411100\ttest: 0.7383292\tbest: 0.7383292 (94)\ttotal: 31.5s\tremaining: 1.66s\n",
      "95:\tlearn: 0.7422088\ttest: 0.7380270\tbest: 0.7383292 (94)\ttotal: 31.8s\tremaining: 1.32s\n",
      "96:\tlearn: 0.7423262\ttest: 0.7376613\tbest: 0.7383292 (94)\ttotal: 32.2s\tremaining: 995ms\n",
      "97:\tlearn: 0.7427135\ttest: 0.7376613\tbest: 0.7383292 (94)\ttotal: 32.5s\tremaining: 663ms\n",
      "98:\tlearn: 0.7436042\ttest: 0.7391037\tbest: 0.7391037 (98)\ttotal: 32.8s\tremaining: 331ms\n",
      "99:\tlearn: 0.7437067\ttest: 0.7395130\tbest: 0.7395130 (99)\ttotal: 33.1s\tremaining: 0us\n",
      "\n",
      "bestTest = 0.7395129937\n",
      "bestIteration = 99\n",
      "\n",
      "0:\tloss: 0.7395130\tbest: 0.7395130 (0)\ttotal: 42.7s\tremaining: 4m 58s\n",
      "0:\tlearn: 0.3577737\ttest: 0.3785894\tbest: 0.3785894 (0)\ttotal: 339ms\tremaining: 33.6s\n",
      "1:\tlearn: 0.3669265\ttest: 0.3912924\tbest: 0.3912924 (1)\ttotal: 674ms\tremaining: 33s\n",
      "2:\tlearn: 0.3688644\ttest: 0.3857896\tbest: 0.3912924 (1)\ttotal: 1.03s\tremaining: 33.5s\n",
      "3:\tlearn: 0.4154375\ttest: 0.4394667\tbest: 0.4394667 (3)\ttotal: 1.37s\tremaining: 33s\n",
      "4:\tlearn: 0.4142068\ttest: 0.4384513\tbest: 0.4394667 (3)\ttotal: 1.7s\tremaining: 32.3s\n",
      "5:\tlearn: 0.4168965\ttest: 0.4421950\tbest: 0.4421950 (5)\ttotal: 2.03s\tremaining: 31.8s\n",
      "6:\tlearn: 0.4241571\ttest: 0.4448588\tbest: 0.4448588 (6)\ttotal: 2.36s\tremaining: 31.4s\n",
      "7:\tlearn: 0.4215680\ttest: 0.4439713\tbest: 0.4448588 (6)\ttotal: 2.69s\tremaining: 31s\n",
      "8:\tlearn: 0.4303527\ttest: 0.4573991\tbest: 0.4573991 (8)\ttotal: 3.02s\tremaining: 30.5s\n",
      "9:\tlearn: 0.3974578\ttest: 0.4222222\tbest: 0.4573991 (8)\ttotal: 3.34s\tremaining: 30s\n",
      "10:\tlearn: 0.4368610\ttest: 0.4622666\tbest: 0.4622666 (10)\ttotal: 3.66s\tremaining: 29.6s\n",
      "11:\tlearn: 0.4381344\ttest: 0.4644077\tbest: 0.4644077 (11)\ttotal: 3.99s\tremaining: 29.2s\n",
      "12:\tlearn: 0.4075508\ttest: 0.4295737\tbest: 0.4644077 (11)\ttotal: 4.31s\tremaining: 28.9s\n",
      "13:\tlearn: 0.4429290\ttest: 0.4644924\tbest: 0.4644924 (13)\ttotal: 4.63s\tremaining: 28.5s\n",
      "14:\tlearn: 0.4111111\ttest: 0.4353668\tbest: 0.4644924 (13)\ttotal: 4.97s\tremaining: 28.2s\n",
      "15:\tlearn: 0.4140123\ttest: 0.4378857\tbest: 0.4644924 (13)\ttotal: 5.3s\tremaining: 27.8s\n",
      "16:\tlearn: 0.4168185\ttest: 0.4422460\tbest: 0.4644924 (13)\ttotal: 5.63s\tremaining: 27.5s\n",
      "17:\tlearn: 0.4499242\ttest: 0.4710809\tbest: 0.4710809 (17)\ttotal: 5.96s\tremaining: 27.2s\n",
      "18:\tlearn: 0.4507414\ttest: 0.4714809\tbest: 0.4714809 (18)\ttotal: 6.29s\tremaining: 26.8s\n",
      "19:\tlearn: 0.4510476\ttest: 0.4732026\tbest: 0.4732026 (19)\ttotal: 6.61s\tremaining: 26.4s\n",
      "20:\tlearn: 0.4465159\ttest: 0.4700944\tbest: 0.4732026 (19)\ttotal: 6.95s\tremaining: 26.2s\n",
      "21:\tlearn: 0.4485673\ttest: 0.4708967\tbest: 0.4732026 (19)\ttotal: 7.29s\tremaining: 25.8s\n",
      "22:\tlearn: 0.4254462\ttest: 0.4502395\tbest: 0.4732026 (19)\ttotal: 7.63s\tremaining: 25.5s\n",
      "23:\tlearn: 0.4283226\ttest: 0.4527099\tbest: 0.4732026 (19)\ttotal: 7.96s\tremaining: 25.2s\n",
      "24:\tlearn: 0.4302154\ttest: 0.4527099\tbest: 0.4732026 (19)\ttotal: 8.31s\tremaining: 24.9s\n",
      "25:\tlearn: 0.4316845\ttest: 0.4544731\tbest: 0.4732026 (19)\ttotal: 8.64s\tremaining: 24.6s\n",
      "26:\tlearn: 0.4602384\ttest: 0.4828304\tbest: 0.4828304 (26)\ttotal: 8.98s\tremaining: 24.3s\n",
      "27:\tlearn: 0.4604100\ttest: 0.4842816\tbest: 0.4842816 (27)\ttotal: 9.33s\tremaining: 24s\n",
      "28:\tlearn: 0.4617699\ttest: 0.4842816\tbest: 0.4842816 (27)\ttotal: 9.67s\tremaining: 23.7s\n",
      "29:\tlearn: 0.4636583\ttest: 0.4833680\tbest: 0.4842816 (27)\ttotal: 10s\tremaining: 23.4s\n",
      "30:\tlearn: 0.4626242\ttest: 0.4849429\tbest: 0.4849429 (30)\ttotal: 10.4s\tremaining: 23.1s\n",
      "31:\tlearn: 0.4912034\ttest: 0.5189490\tbest: 0.5189490 (31)\ttotal: 10.7s\tremaining: 22.8s\n",
      "32:\tlearn: 0.4919752\ttest: 0.5185747\tbest: 0.5189490 (31)\ttotal: 11.1s\tremaining: 22.5s\n",
      "33:\tlearn: 0.4922329\ttest: 0.5190801\tbest: 0.5190801 (33)\ttotal: 11.4s\tremaining: 22.1s\n",
      "34:\tlearn: 0.4933887\ttest: 0.5198282\tbest: 0.5198282 (34)\ttotal: 11.7s\tremaining: 21.8s\n",
      "35:\tlearn: 0.4943519\ttest: 0.5208176\tbest: 0.5208176 (35)\ttotal: 12.1s\tremaining: 21.5s\n",
      "36:\tlearn: 0.4911405\ttest: 0.5222447\tbest: 0.5222447 (36)\ttotal: 12.4s\tremaining: 21.1s\n",
      "37:\tlearn: 0.5122135\ttest: 0.5457249\tbest: 0.5457249 (37)\ttotal: 12.8s\tremaining: 20.8s\n",
      "38:\tlearn: 0.4912034\ttest: 0.5213654\tbest: 0.5457249 (37)\ttotal: 13.1s\tremaining: 20.5s\n",
      "39:\tlearn: 0.4905902\ttest: 0.5207490\tbest: 0.5457249 (37)\ttotal: 13.4s\tremaining: 20.1s\n",
      "40:\tlearn: 0.5114052\ttest: 0.5453644\tbest: 0.5457249 (37)\ttotal: 13.8s\tremaining: 19.8s\n",
      "41:\tlearn: 0.4928759\ttest: 0.5233645\tbest: 0.5457249 (37)\ttotal: 14.1s\tremaining: 19.5s\n",
      "42:\tlearn: 0.4931332\ttest: 0.5248549\tbest: 0.5457249 (37)\ttotal: 14.4s\tremaining: 19.1s\n",
      "43:\tlearn: 0.4939044\ttest: 0.5252270\tbest: 0.5457249 (37)\ttotal: 14.7s\tremaining: 18.8s\n",
      "44:\tlearn: 0.4978360\ttest: 0.5286720\tbest: 0.5457249 (37)\ttotal: 15.1s\tremaining: 18.4s\n",
      "45:\tlearn: 0.4999364\ttest: 0.5319950\tbest: 0.5457249 (37)\ttotal: 15.4s\tremaining: 18.1s\n",
      "46:\tlearn: 0.5007620\ttest: 0.5330993\tbest: 0.5457249 (37)\ttotal: 15.7s\tremaining: 17.7s\n",
      "47:\tlearn: 0.5228195\ttest: 0.5588813\tbest: 0.5588813 (47)\ttotal: 16s\tremaining: 17.4s\n",
      "48:\tlearn: 0.5254501\ttest: 0.5610771\tbest: 0.5610771 (48)\ttotal: 16.4s\tremaining: 17s\n",
      "49:\tlearn: 0.5258766\ttest: 0.5611546\tbest: 0.5611546 (49)\ttotal: 16.7s\tremaining: 16.7s\n",
      "50:\tlearn: 0.5250234\ttest: 0.5618582\tbest: 0.5618582 (50)\ttotal: 17s\tremaining: 16.4s\n",
      "51:\tlearn: 0.5261584\ttest: 0.5622097\tbest: 0.5622097 (51)\ttotal: 17.4s\tremaining: 16s\n",
      "52:\tlearn: 0.5268268\ttest: 0.5629123\tbest: 0.5629123 (52)\ttotal: 17.7s\tremaining: 15.7s\n",
      "53:\tlearn: 0.5288085\ttest: 0.5653659\tbest: 0.5653659 (53)\ttotal: 18s\tremaining: 15.3s\n",
      "54:\tlearn: 0.5297882\ttest: 0.5671133\tbest: 0.5671133 (54)\ttotal: 18.3s\tremaining: 15s\n",
      "55:\tlearn: 0.5307009\ttest: 0.5688564\tbest: 0.5688564 (55)\ttotal: 18.7s\tremaining: 14.7s\n",
      "56:\tlearn: 0.5302776\ttest: 0.5686465\tbest: 0.5688564 (55)\ttotal: 19s\tremaining: 14.3s\n",
      "57:\tlearn: 0.5309416\ttest: 0.5695525\tbest: 0.5695525 (57)\ttotal: 19.3s\tremaining: 14s\n",
      "58:\tlearn: 0.5313644\ttest: 0.5699003\tbest: 0.5699003 (58)\ttotal: 19.6s\tremaining: 13.6s\n",
      "59:\tlearn: 0.5320270\ttest: 0.5717756\tbest: 0.5717756 (59)\ttotal: 20s\tremaining: 13.3s\n",
      "60:\tlearn: 0.5336800\ttest: 0.5732299\tbest: 0.5732299 (60)\ttotal: 20.3s\tremaining: 13s\n",
      "61:\tlearn: 0.5342576\ttest: 0.5741279\tbest: 0.5741279 (61)\ttotal: 20.6s\tremaining: 12.6s\n",
      "62:\tlearn: 0.5363653\ttest: 0.5755082\tbest: 0.5755082 (62)\ttotal: 20.9s\tremaining: 12.3s\n",
      "63:\tlearn: 0.5470044\ttest: 0.5865707\tbest: 0.5865707 (63)\ttotal: 21.2s\tremaining: 11.9s\n",
      "64:\tlearn: 0.5472936\ttest: 0.5869096\tbest: 0.5869096 (64)\ttotal: 21.6s\tremaining: 11.6s\n",
      "65:\tlearn: 0.5482053\ttest: 0.5872483\tbest: 0.5872483 (65)\ttotal: 21.9s\tremaining: 11.3s\n",
      "66:\tlearn: 0.5486498\ttest: 0.5879253\tbest: 0.5879253 (66)\ttotal: 22.2s\tremaining: 10.9s\n",
      "67:\tlearn: 0.5493604\ttest: 0.5882635\tbest: 0.5882635 (67)\ttotal: 22.5s\tremaining: 10.6s\n",
      "68:\tlearn: 0.5501590\ttest: 0.5889394\tbest: 0.5889394 (68)\ttotal: 22.9s\tremaining: 10.3s\n",
      "69:\tlearn: 0.5633615\ttest: 0.5993840\tbest: 0.5993840 (69)\ttotal: 23.2s\tremaining: 9.94s\n",
      "70:\tlearn: 0.5648551\ttest: 0.6002367\tbest: 0.6002367 (70)\ttotal: 23.5s\tremaining: 9.6s\n",
      "71:\tlearn: 0.5652541\ttest: 0.6008990\tbest: 0.6008990 (71)\ttotal: 23.8s\tremaining: 9.27s\n",
      "72:\tlearn: 0.5662062\ttest: 0.6025520\tbest: 0.6025520 (72)\ttotal: 24.1s\tremaining: 8.93s\n",
      "73:\tlearn: 0.5771234\ttest: 0.6097790\tbest: 0.6097790 (73)\ttotal: 24.5s\tremaining: 8.6s\n",
      "74:\tlearn: 0.5858910\ttest: 0.6159963\tbest: 0.6159963 (74)\ttotal: 24.8s\tremaining: 8.27s\n",
      "75:\tlearn: 0.5863607\ttest: 0.6166433\tbest: 0.6166433 (75)\ttotal: 25.1s\tremaining: 7.94s\n",
      "76:\tlearn: 0.5869139\ttest: 0.6172897\tbest: 0.6172897 (76)\ttotal: 25.5s\tremaining: 7.61s\n",
      "77:\tlearn: 0.5785351\ttest: 0.6087571\tbest: 0.6172897 (76)\ttotal: 25.8s\tremaining: 7.28s\n",
      "78:\tlearn: 0.5791298\ttest: 0.6094118\tbest: 0.6172897 (76)\ttotal: 26.2s\tremaining: 6.95s\n",
      "79:\tlearn: 0.5800287\ttest: 0.6110458\tbest: 0.6172897 (76)\ttotal: 26.5s\tremaining: 6.62s\n",
      "80:\tlearn: 0.5807568\ttest: 0.6116984\tbest: 0.6172897 (76)\ttotal: 26.8s\tremaining: 6.29s\n",
      "81:\tlearn: 0.5801481\ttest: 0.6118421\tbest: 0.6172897 (76)\ttotal: 27.2s\tremaining: 5.96s\n",
      "82:\tlearn: 0.5894075\ttest: 0.6211238\tbest: 0.6211238 (82)\ttotal: 27.5s\tremaining: 5.64s\n",
      "83:\tlearn: 0.5902086\ttest: 0.6240112\tbest: 0.6240112 (83)\ttotal: 27.9s\tremaining: 5.3s\n",
      "84:\tlearn: 0.5830751\ttest: 0.6151323\tbest: 0.6240112 (83)\ttotal: 28.2s\tremaining: 4.97s\n",
      "85:\tlearn: 0.5835816\ttest: 0.6161049\tbest: 0.6240112 (83)\ttotal: 28.5s\tremaining: 4.64s\n",
      "86:\tlearn: 0.5838347\ttest: 0.6177227\tbest: 0.6240112 (83)\ttotal: 28.8s\tremaining: 4.31s\n",
      "87:\tlearn: 0.5923997\ttest: 0.6264221\tbest: 0.6264221 (87)\ttotal: 29.2s\tremaining: 3.98s\n",
      "88:\tlearn: 0.5939458\ttest: 0.6261314\tbest: 0.6264221 (87)\ttotal: 29.5s\tremaining: 3.64s\n",
      "89:\tlearn: 0.5940898\ttest: 0.6267687\tbest: 0.6267687 (89)\ttotal: 29.8s\tremaining: 3.31s\n",
      "90:\tlearn: 0.5946712\ttest: 0.6267687\tbest: 0.6267687 (89)\ttotal: 30.1s\tremaining: 2.98s\n",
      "91:\tlearn: 0.5952170\ttest: 0.6269418\tbest: 0.6269418 (91)\ttotal: 30.5s\tremaining: 2.65s\n",
      "92:\tlearn: 0.5957849\ttest: 0.6271147\tbest: 0.6271147 (92)\ttotal: 30.8s\tremaining: 2.32s\n",
      "93:\tlearn: 0.5973368\ttest: 0.6290733\tbest: 0.6290733 (93)\ttotal: 31.1s\tremaining: 1.99s\n",
      "94:\tlearn: 0.5974898\ttest: 0.6300231\tbest: 0.6300231 (94)\ttotal: 31.4s\tremaining: 1.65s\n",
      "95:\tlearn: 0.6059612\ttest: 0.6383857\tbest: 0.6383857 (95)\ttotal: 31.7s\tremaining: 1.32s\n",
      "96:\tlearn: 0.6060322\ttest: 0.6380537\tbest: 0.6383857 (95)\ttotal: 32.1s\tremaining: 992ms\n",
      "97:\tlearn: 0.6066495\ttest: 0.6388251\tbest: 0.6388251 (97)\ttotal: 32.4s\tremaining: 661ms\n",
      "98:\tlearn: 0.6074602\ttest: 0.6400916\tbest: 0.6400916 (98)\ttotal: 32.7s\tremaining: 330ms\n",
      "99:\tlearn: 0.6077044\ttest: 0.6404031\tbest: 0.6404031 (99)\ttotal: 33s\tremaining: 0us\n",
      "\n",
      "bestTest = 0.640403115\n",
      "bestIteration = 99\n",
      "\n",
      "0:\tlearn: 0.3577737\ttest: 0.3785894\tbest: 0.3785894 (0)\ttotal: 338ms\tremaining: 1m 7s\n",
      "1:\tlearn: 0.5004711\ttest: 0.5216960\tbest: 0.5216960 (1)\ttotal: 671ms\tremaining: 1m 6s\n",
      "2:\tlearn: 0.4495226\ttest: 0.4691423\tbest: 0.5216960 (1)\ttotal: 1s\tremaining: 1m 6s\n",
      "3:\tlearn: 0.4745390\ttest: 0.4957703\tbest: 0.5216960 (1)\ttotal: 1.33s\tremaining: 1m 4s\n",
      "4:\tlearn: 0.4962396\ttest: 0.5175461\tbest: 0.5216960 (1)\ttotal: 1.65s\tremaining: 1m 4s\n",
      "5:\tlearn: 0.5154561\ttest: 0.5458602\tbest: 0.5458602 (5)\ttotal: 1.98s\tremaining: 1m 3s\n",
      "6:\tlearn: 0.5479988\ttest: 0.5821934\tbest: 0.5821934 (6)\ttotal: 2.3s\tremaining: 1m 3s\n",
      "7:\tlearn: 0.5302861\ttest: 0.5630784\tbest: 0.5821934 (6)\ttotal: 2.62s\tremaining: 1m 2s\n",
      "8:\tlearn: 0.5603339\ttest: 0.5867493\tbest: 0.5867493 (8)\ttotal: 2.94s\tremaining: 1m 2s\n",
      "9:\tlearn: 0.5640531\ttest: 0.5922584\tbest: 0.5922584 (9)\ttotal: 3.27s\tremaining: 1m 2s\n",
      "10:\tlearn: 0.5673563\ttest: 0.5963086\tbest: 0.5963086 (10)\ttotal: 3.59s\tremaining: 1m 1s\n",
      "11:\tlearn: 0.5747989\ttest: 0.6043031\tbest: 0.6043031 (11)\ttotal: 3.92s\tremaining: 1m 1s\n",
      "12:\tlearn: 0.5855365\ttest: 0.6128432\tbest: 0.6128432 (12)\ttotal: 4.25s\tremaining: 1m 1s\n",
      "13:\tlearn: 0.5887779\ttest: 0.6157418\tbest: 0.6157418 (13)\ttotal: 4.58s\tremaining: 1m\n",
      "14:\tlearn: 0.5997662\ttest: 0.6241363\tbest: 0.6241363 (14)\ttotal: 4.9s\tremaining: 1m\n",
      "15:\tlearn: 0.6235045\ttest: 0.6430185\tbest: 0.6430185 (15)\ttotal: 5.22s\tremaining: 1m\n",
      "16:\tlearn: 0.6308130\ttest: 0.6491465\tbest: 0.6491465 (16)\ttotal: 5.54s\tremaining: 59.7s\n",
      "17:\tlearn: 0.6302320\ttest: 0.6499102\tbest: 0.6499102 (17)\ttotal: 5.86s\tremaining: 59.3s\n",
      "18:\tlearn: 0.6354367\ttest: 0.6557890\tbest: 0.6557890 (18)\ttotal: 6.18s\tremaining: 58.9s\n",
      "19:\tlearn: 0.6418070\ttest: 0.6610283\tbest: 0.6610283 (19)\ttotal: 6.5s\tremaining: 58.5s\n",
      "20:\tlearn: 0.6335601\ttest: 0.6548712\tbest: 0.6610283 (19)\ttotal: 6.82s\tremaining: 58.2s\n",
      "21:\tlearn: 0.6400406\ttest: 0.6613262\tbest: 0.6613262 (21)\ttotal: 7.15s\tremaining: 57.9s\n",
      "22:\tlearn: 0.6429575\ttest: 0.6642984\tbest: 0.6642984 (22)\ttotal: 7.47s\tremaining: 57.5s\n",
      "23:\tlearn: 0.6549116\ttest: 0.6741474\tbest: 0.6741474 (23)\ttotal: 7.8s\tremaining: 57.2s\n",
      "24:\tlearn: 0.6593638\ttest: 0.6777729\tbest: 0.6777729 (24)\ttotal: 8.14s\tremaining: 57s\n",
      "25:\tlearn: 0.6623262\ttest: 0.6795012\tbest: 0.6795012 (25)\ttotal: 8.47s\tremaining: 56.7s\n",
      "26:\tlearn: 0.6646842\ttest: 0.6819472\tbest: 0.6819472 (26)\ttotal: 8.8s\tremaining: 56.4s\n",
      "27:\tlearn: 0.6569497\ttest: 0.6758893\tbest: 0.6819472 (26)\ttotal: 9.13s\tremaining: 56.1s\n",
      "28:\tlearn: 0.6686462\ttest: 0.6834171\tbest: 0.6834171 (28)\ttotal: 9.49s\tremaining: 55.9s\n",
      "29:\tlearn: 0.6702157\ttest: 0.6845433\tbest: 0.6845433 (29)\ttotal: 9.82s\tremaining: 55.6s\n",
      "30:\tlearn: 0.6685001\ttest: 0.6844057\tbest: 0.6845433 (29)\ttotal: 10.2s\tremaining: 55.4s\n",
      "31:\tlearn: 0.6700357\ttest: 0.6859756\tbest: 0.6859756 (31)\ttotal: 10.5s\tremaining: 55.1s\n",
      "32:\tlearn: 0.6735196\ttest: 0.6883681\tbest: 0.6883681 (32)\ttotal: 10.8s\tremaining: 54.8s\n",
      "33:\tlearn: 0.6777391\ttest: 0.6914595\tbest: 0.6914595 (33)\ttotal: 11.1s\tremaining: 54.4s\n",
      "34:\tlearn: 0.6782760\ttest: 0.6921581\tbest: 0.6921581 (34)\ttotal: 11.5s\tremaining: 54.1s\n",
      "35:\tlearn: 0.6838144\ttest: 0.6974844\tbest: 0.6974844 (35)\ttotal: 11.8s\tremaining: 53.8s\n",
      "36:\tlearn: 0.6847403\ttest: 0.6978943\tbest: 0.6978943 (36)\ttotal: 12.1s\tremaining: 53.4s\n",
      "37:\tlearn: 0.6855074\ttest: 0.6992707\tbest: 0.6992707 (37)\ttotal: 12.5s\tremaining: 53.1s\n",
      "38:\tlearn: 0.6889236\ttest: 0.7035455\tbest: 0.7035455 (38)\ttotal: 12.8s\tremaining: 52.8s\n",
      "39:\tlearn: 0.6882416\ttest: 0.7032920\tbest: 0.7035455 (38)\ttotal: 13.2s\tremaining: 52.6s\n",
      "40:\tlearn: 0.6894768\ttest: 0.7038223\tbest: 0.7038223 (40)\ttotal: 13.5s\tremaining: 52.3s\n",
      "41:\tlearn: 0.6908348\ttest: 0.7050053\tbest: 0.7050053 (41)\ttotal: 13.8s\tremaining: 52s\n",
      "42:\tlearn: 0.6927704\ttest: 0.7058073\tbest: 0.7058073 (42)\ttotal: 14.2s\tremaining: 51.7s\n",
      "43:\tlearn: 0.6962995\ttest: 0.7089521\tbest: 0.7089521 (43)\ttotal: 14.5s\tremaining: 51.4s\n",
      "44:\tlearn: 0.6974853\ttest: 0.7092259\tbest: 0.7092259 (44)\ttotal: 14.8s\tremaining: 51.1s\n",
      "45:\tlearn: 0.6980627\ttest: 0.7096227\tbest: 0.7096227 (45)\ttotal: 15.2s\tremaining: 50.9s\n",
      "46:\tlearn: 0.6997275\ttest: 0.7105653\tbest: 0.7105653 (46)\ttotal: 15.5s\tremaining: 50.5s\n",
      "47:\tlearn: 0.7007260\ttest: 0.7131685\tbest: 0.7131685 (47)\ttotal: 15.9s\tremaining: 50.2s\n",
      "48:\tlearn: 0.7031258\ttest: 0.7140747\tbest: 0.7140747 (48)\ttotal: 16.2s\tremaining: 49.9s\n",
      "49:\tlearn: 0.7041489\ttest: 0.7151592\tbest: 0.7151592 (49)\ttotal: 16.5s\tremaining: 49.6s\n",
      "50:\tlearn: 0.7044246\ttest: 0.7153100\tbest: 0.7153100 (50)\ttotal: 16.9s\tremaining: 49.3s\n",
      "51:\tlearn: 0.7053320\ttest: 0.7141953\tbest: 0.7153100 (50)\ttotal: 17.2s\tremaining: 49s\n",
      "52:\tlearn: 0.7059824\ttest: 0.7145868\tbest: 0.7153100 (50)\ttotal: 17.6s\tremaining: 48.9s\n",
      "53:\tlearn: 0.7068004\ttest: 0.7152485\tbest: 0.7153100 (50)\ttotal: 18s\tremaining: 48.6s\n",
      "54:\tlearn: 0.7093836\ttest: 0.7160598\tbest: 0.7160598 (54)\ttotal: 18.3s\tremaining: 48.3s\n",
      "55:\tlearn: 0.7101112\ttest: 0.7166000\tbest: 0.7166000 (55)\ttotal: 18.7s\tremaining: 48.1s\n",
      "56:\tlearn: 0.7093664\ttest: 0.7166316\tbest: 0.7166316 (56)\ttotal: 19s\tremaining: 47.8s\n",
      "57:\tlearn: 0.7108854\ttest: 0.7188418\tbest: 0.7188418 (57)\ttotal: 19.4s\tremaining: 47.4s\n",
      "58:\tlearn: 0.7127542\ttest: 0.7191106\tbest: 0.7191106 (58)\ttotal: 19.7s\tremaining: 47.2s\n",
      "59:\tlearn: 0.7133892\ttest: 0.7180025\tbest: 0.7191106 (58)\ttotal: 20.1s\tremaining: 46.9s\n",
      "60:\tlearn: 0.7150756\ttest: 0.7182390\tbest: 0.7191106 (58)\ttotal: 20.5s\tremaining: 46.7s\n",
      "61:\tlearn: 0.7160520\ttest: 0.7185077\tbest: 0.7191106 (58)\ttotal: 20.8s\tremaining: 46.4s\n",
      "62:\tlearn: 0.7174987\ttest: 0.7198492\tbest: 0.7198492 (62)\ttotal: 21.2s\tremaining: 46.1s\n",
      "63:\tlearn: 0.7172211\ttest: 0.7196144\tbest: 0.7198492 (62)\ttotal: 21.6s\tremaining: 45.8s\n",
      "64:\tlearn: 0.7184548\ttest: 0.7206529\tbest: 0.7206529 (64)\ttotal: 21.9s\tremaining: 45.5s\n",
      "65:\tlearn: 0.7189549\ttest: 0.7210372\tbest: 0.7210372 (65)\ttotal: 22.3s\tremaining: 45.2s\n",
      "66:\tlearn: 0.7208669\ttest: 0.7228715\tbest: 0.7228715 (66)\ttotal: 22.6s\tremaining: 44.9s\n",
      "67:\tlearn: 0.7219170\ttest: 0.7239008\tbest: 0.7239008 (67)\ttotal: 22.9s\tremaining: 44.5s\n",
      "68:\tlearn: 0.7228525\ttest: 0.7242815\tbest: 0.7242815 (68)\ttotal: 23.3s\tremaining: 44.2s\n",
      "69:\tlearn: 0.7236402\ttest: 0.7253800\tbest: 0.7253800 (69)\ttotal: 23.6s\tremaining: 43.8s\n",
      "70:\tlearn: 0.7238982\ttest: 0.7254943\tbest: 0.7254943 (70)\ttotal: 24s\tremaining: 43.5s\n",
      "71:\tlearn: 0.7260009\ttest: 0.7274616\tbest: 0.7274616 (71)\ttotal: 24.3s\tremaining: 43.2s\n",
      "72:\tlearn: 0.7262389\ttest: 0.7282541\tbest: 0.7282541 (72)\ttotal: 24.7s\tremaining: 42.9s\n",
      "73:\tlearn: 0.7265430\ttest: 0.7283285\tbest: 0.7283285 (73)\ttotal: 25.1s\tremaining: 42.7s\n",
      "74:\tlearn: 0.7288515\ttest: 0.7310716\tbest: 0.7310716 (74)\ttotal: 25.4s\tremaining: 42.4s\n",
      "75:\tlearn: 0.7293139\ttest: 0.7311828\tbest: 0.7311828 (75)\ttotal: 25.8s\tremaining: 42.1s\n",
      "76:\tlearn: 0.7297382\ttest: 0.7318182\tbest: 0.7318182 (76)\ttotal: 26.2s\tremaining: 41.9s\n",
      "77:\tlearn: 0.7322529\ttest: 0.7317375\tbest: 0.7318182 (76)\ttotal: 26.6s\tremaining: 41.5s\n",
      "78:\tlearn: 0.7330401\ttest: 0.7324118\tbest: 0.7324118 (78)\ttotal: 26.9s\tremaining: 41.3s\n",
      "79:\tlearn: 0.7335851\ttest: 0.7336082\tbest: 0.7336082 (79)\ttotal: 27.3s\tremaining: 41s\n",
      "80:\tlearn: 0.7339506\ttest: 0.7338693\tbest: 0.7338693 (80)\ttotal: 27.6s\tremaining: 40.6s\n",
      "81:\tlearn: 0.7345124\ttest: 0.7341303\tbest: 0.7341303 (81)\ttotal: 28s\tremaining: 40.3s\n",
      "82:\tlearn: 0.7344913\ttest: 0.7346518\tbest: 0.7346518 (82)\ttotal: 28.3s\tremaining: 39.9s\n",
      "83:\tlearn: 0.7348837\ttest: 0.7349547\tbest: 0.7349547 (83)\ttotal: 28.7s\tremaining: 39.6s\n",
      "84:\tlearn: 0.7361735\ttest: 0.7350216\tbest: 0.7350216 (84)\ttotal: 29s\tremaining: 39.3s\n",
      "85:\tlearn: 0.7366682\ttest: 0.7350216\tbest: 0.7350216 (84)\ttotal: 29.4s\tremaining: 38.9s\n",
      "86:\tlearn: 0.7367661\ttest: 0.7343750\tbest: 0.7350216 (84)\ttotal: 29.7s\tremaining: 38.6s\n",
      "87:\tlearn: 0.7369616\ttest: 0.7342240\tbest: 0.7350216 (84)\ttotal: 30s\tremaining: 38.2s\n",
      "88:\tlearn: 0.7377370\ttest: 0.7361510\tbest: 0.7361510 (88)\ttotal: 30.4s\tremaining: 37.9s\n",
      "89:\tlearn: 0.7382571\ttest: 0.7363021\tbest: 0.7363021 (89)\ttotal: 30.7s\tremaining: 37.5s\n",
      "90:\tlearn: 0.7385550\ttest: 0.7368205\tbest: 0.7368205 (90)\ttotal: 31s\tremaining: 37.2s\n",
      "91:\tlearn: 0.7399064\ttest: 0.7382220\tbest: 0.7382220 (91)\ttotal: 31.4s\tremaining: 36.8s\n",
      "92:\tlearn: 0.7400247\ttest: 0.7382220\tbest: 0.7382220 (91)\ttotal: 31.7s\tremaining: 36.5s\n",
      "93:\tlearn: 0.7400586\ttest: 0.7380709\tbest: 0.7382220 (91)\ttotal: 32s\tremaining: 36.1s\n",
      "94:\tlearn: 0.7411100\ttest: 0.7383292\tbest: 0.7383292 (94)\ttotal: 32.4s\tremaining: 35.8s\n",
      "95:\tlearn: 0.7422088\ttest: 0.7380270\tbest: 0.7383292 (94)\ttotal: 32.7s\tremaining: 35.4s\n",
      "96:\tlearn: 0.7423262\ttest: 0.7376613\tbest: 0.7383292 (94)\ttotal: 33s\tremaining: 35.1s\n",
      "97:\tlearn: 0.7427135\ttest: 0.7376613\tbest: 0.7383292 (94)\ttotal: 33.4s\tremaining: 34.8s\n",
      "98:\tlearn: 0.7436042\ttest: 0.7391037\tbest: 0.7391037 (98)\ttotal: 33.7s\tremaining: 34.4s\n",
      "99:\tlearn: 0.7437067\ttest: 0.7395130\tbest: 0.7395130 (99)\ttotal: 34.1s\tremaining: 34.1s\n",
      "100:\tlearn: 0.7458321\ttest: 0.7411789\tbest: 0.7411789 (100)\ttotal: 34.4s\tremaining: 33.7s\n",
      "101:\tlearn: 0.7473706\ttest: 0.7416463\tbest: 0.7416463 (101)\ttotal: 34.8s\tremaining: 33.4s\n",
      "102:\tlearn: 0.7478953\ttest: 0.7419026\tbest: 0.7419026 (102)\ttotal: 35.1s\tremaining: 33s\n",
      "103:\tlearn: 0.7478696\ttest: 0.7424150\tbest: 0.7424150 (103)\ttotal: 35.4s\tremaining: 32.7s\n",
      "104:\tlearn: 0.7487253\ttest: 0.7434385\tbest: 0.7434385 (104)\ttotal: 35.8s\tremaining: 32.4s\n",
      "105:\tlearn: 0.7487509\ttest: 0.7431361\tbest: 0.7434385 (104)\ttotal: 36.1s\tremaining: 32s\n",
      "106:\tlearn: 0.7488403\ttest: 0.7431361\tbest: 0.7434385 (104)\ttotal: 36.4s\tremaining: 31.6s\n",
      "107:\tlearn: 0.7498854\ttest: 0.7434959\tbest: 0.7434959 (107)\ttotal: 36.7s\tremaining: 31.3s\n",
      "108:\tlearn: 0.7497452\ttest: 0.7442616\tbest: 0.7442616 (108)\ttotal: 37.1s\tremaining: 31s\n",
      "109:\tlearn: 0.7496814\ttest: 0.7442616\tbest: 0.7442616 (108)\ttotal: 37.4s\tremaining: 30.6s\n",
      "110:\tlearn: 0.7503438\ttest: 0.7447716\tbest: 0.7447716 (110)\ttotal: 37.7s\tremaining: 30.3s\n",
      "111:\tlearn: 0.7504838\ttest: 0.7446679\tbest: 0.7447716 (110)\ttotal: 38.1s\tremaining: 29.9s\n",
      "112:\tlearn: 0.7516280\ttest: 0.7446679\tbest: 0.7447716 (110)\ttotal: 38.4s\tremaining: 29.5s\n",
      "113:\tlearn: 0.7516922\ttest: 0.7446679\tbest: 0.7447716 (110)\ttotal: 38.7s\tremaining: 29.2s\n",
      "114:\tlearn: 0.7523936\ttest: 0.7449705\tbest: 0.7449705 (114)\ttotal: 39.1s\tremaining: 28.9s\n",
      "115:\tlearn: 0.7525841\ttest: 0.7452255\tbest: 0.7452255 (115)\ttotal: 39.4s\tremaining: 28.5s\n",
      "116:\tlearn: 0.7534093\ttest: 0.7456319\tbest: 0.7456319 (116)\ttotal: 39.7s\tremaining: 28.2s\n",
      "117:\tlearn: 0.7536630\ttest: 0.7453770\tbest: 0.7456319 (116)\ttotal: 40.1s\tremaining: 27.9s\n",
      "118:\tlearn: 0.7535996\ttest: 0.7452734\tbest: 0.7456319 (116)\ttotal: 40.5s\tremaining: 27.6s\n",
      "119:\tlearn: 0.7531820\ttest: 0.7454730\tbest: 0.7456319 (116)\ttotal: 40.9s\tremaining: 27.2s\n",
      "120:\tlearn: 0.7537249\ttest: 0.7455766\tbest: 0.7456319 (116)\ttotal: 41.3s\tremaining: 26.9s\n",
      "121:\tlearn: 0.7538900\ttest: 0.7453214\tbest: 0.7456319 (116)\ttotal: 41.6s\tremaining: 26.6s\n",
      "122:\tlearn: 0.7538900\ttest: 0.7453214\tbest: 0.7456319 (116)\ttotal: 42s\tremaining: 26.3s\n",
      "123:\tlearn: 0.7558871\ttest: 0.7483269\tbest: 0.7483269 (123)\ttotal: 42.3s\tremaining: 25.9s\n",
      "124:\tlearn: 0.7561644\ttest: 0.7485807\tbest: 0.7485807 (124)\ttotal: 42.6s\tremaining: 25.6s\n",
      "125:\tlearn: 0.7561013\ttest: 0.7485807\tbest: 0.7485807 (124)\ttotal: 43s\tremaining: 25.2s\n",
      "126:\tlearn: 0.7578873\ttest: 0.7492912\tbest: 0.7492912 (126)\ttotal: 43.3s\tremaining: 24.9s\n",
      "127:\tlearn: 0.7585928\ttest: 0.7499494\tbest: 0.7499494 (127)\ttotal: 43.6s\tremaining: 24.5s\n",
      "128:\tlearn: 0.7587813\ttest: 0.7502024\tbest: 0.7502024 (128)\ttotal: 44s\tremaining: 24.2s\n",
      "129:\tlearn: 0.7587184\ttest: 0.7502024\tbest: 0.7502024 (128)\ttotal: 44.3s\tremaining: 23.8s\n",
      "130:\tlearn: 0.7586556\ttest: 0.7504554\tbest: 0.7504554 (130)\ttotal: 44.6s\tremaining: 23.5s\n",
      "131:\tlearn: 0.7592415\ttest: 0.7504554\tbest: 0.7504554 (130)\ttotal: 44.9s\tremaining: 23.1s\n",
      "132:\tlearn: 0.7594924\ttest: 0.7507082\tbest: 0.7507082 (132)\ttotal: 45.2s\tremaining: 22.8s\n",
      "133:\tlearn: 0.7600424\ttest: 0.7512136\tbest: 0.7512136 (133)\ttotal: 45.6s\tremaining: 22.4s\n",
      "134:\tlearn: 0.7603556\ttest: 0.7517186\tbest: 0.7517186 (134)\ttotal: 45.9s\tremaining: 22.1s\n",
      "135:\tlearn: 0.7604809\ttest: 0.7515666\tbest: 0.7517186 (134)\ttotal: 46.2s\tremaining: 21.7s\n",
      "136:\tlearn: 0.7605093\ttest: 0.7513142\tbest: 0.7517186 (134)\ttotal: 46.5s\tremaining: 21.4s\n",
      "137:\tlearn: 0.7599150\ttest: 0.7513142\tbest: 0.7517186 (134)\ttotal: 46.8s\tremaining: 21s\n",
      "138:\tlearn: 0.7602670\ttest: 0.7514147\tbest: 0.7517186 (134)\ttotal: 47.2s\tremaining: 20.7s\n",
      "139:\tlearn: 0.7606717\ttest: 0.7516670\tbest: 0.7517186 (134)\ttotal: 47.5s\tremaining: 20.3s\n",
      "140:\tlearn: 0.7609850\ttest: 0.7519192\tbest: 0.7519192 (140)\ttotal: 47.8s\tremaining: 20s\n",
      "141:\tlearn: 0.7609850\ttest: 0.7517673\tbest: 0.7519192 (140)\ttotal: 48.1s\tremaining: 19.7s\n",
      "142:\tlearn: 0.7610476\ttest: 0.7517673\tbest: 0.7519192 (140)\ttotal: 48.4s\tremaining: 19.3s\n",
      "143:\tlearn: 0.7612355\ttest: 0.7525232\tbest: 0.7525232 (143)\ttotal: 48.8s\tremaining: 19s\n",
      "144:\tlearn: 0.7619625\ttest: 0.7521195\tbest: 0.7525232 (143)\ttotal: 49.1s\tremaining: 18.6s\n",
      "145:\tlearn: 0.7630968\ttest: 0.7524233\tbest: 0.7525232 (143)\ttotal: 49.4s\tremaining: 18.3s\n",
      "146:\tlearn: 0.7633611\ttest: 0.7526751\tbest: 0.7526751 (146)\ttotal: 49.7s\tremaining: 17.9s\n",
      "147:\tlearn: 0.7633465\ttest: 0.7522195\tbest: 0.7526751 (146)\ttotal: 50s\tremaining: 17.6s\n",
      "148:\tlearn: 0.7635997\ttest: 0.7519645\tbest: 0.7526751 (146)\ttotal: 50.4s\tremaining: 17.2s\n",
      "149:\tlearn: 0.7637244\ttest: 0.7517130\tbest: 0.7526751 (146)\ttotal: 50.7s\tremaining: 16.9s\n",
      "150:\tlearn: 0.7648303\ttest: 0.7521643\tbest: 0.7526751 (146)\ttotal: 51s\tremaining: 16.6s\n",
      "151:\tlearn: 0.7649310\ttest: 0.7526189\tbest: 0.7526751 (146)\ttotal: 51.3s\tremaining: 16.2s\n",
      "152:\tlearn: 0.7649932\ttest: 0.7528701\tbest: 0.7528701 (152)\ttotal: 51.7s\tremaining: 15.9s\n",
      "153:\tlearn: 0.7654905\ttest: 0.7528701\tbest: 0.7528701 (152)\ttotal: 52s\tremaining: 15.5s\n",
      "154:\tlearn: 0.7659403\ttest: 0.7527185\tbest: 0.7528701 (152)\ttotal: 52.3s\tremaining: 15.2s\n",
      "155:\tlearn: 0.7654284\ttest: 0.7535707\tbest: 0.7535707 (155)\ttotal: 52.6s\tremaining: 14.8s\n",
      "156:\tlearn: 0.7656769\ttest: 0.7535707\tbest: 0.7535707 (155)\ttotal: 53s\tremaining: 14.5s\n",
      "157:\tlearn: 0.7658011\ttest: 0.7538214\tbest: 0.7538214 (157)\ttotal: 53.3s\tremaining: 14.2s\n",
      "158:\tlearn: 0.7666315\ttest: 0.7536698\tbest: 0.7538214 (157)\ttotal: 53.6s\tremaining: 13.8s\n",
      "159:\tlearn: 0.7670035\ttest: 0.7536698\tbest: 0.7538214 (157)\ttotal: 53.9s\tremaining: 13.5s\n",
      "160:\tlearn: 0.7672279\ttest: 0.7536698\tbest: 0.7538214 (157)\ttotal: 54.2s\tremaining: 13.1s\n",
      "161:\tlearn: 0.7678859\ttest: 0.7537688\tbest: 0.7538214 (157)\ttotal: 54.6s\tremaining: 12.8s\n",
      "162:\tlearn: 0.7682572\ttest: 0.7544670\tbest: 0.7544670 (162)\ttotal: 54.9s\tremaining: 12.5s\n",
      "163:\tlearn: 0.7684427\ttest: 0.7544670\tbest: 0.7544670 (162)\ttotal: 55.2s\tremaining: 12.1s\n",
      "164:\tlearn: 0.7687519\ttest: 0.7547170\tbest: 0.7547170 (164)\ttotal: 55.5s\tremaining: 11.8s\n",
      "165:\tlearn: 0.7688755\ttest: 0.7544670\tbest: 0.7547170 (164)\ttotal: 55.8s\tremaining: 11.4s\n",
      "166:\tlearn: 0.7688215\ttest: 0.7552700\tbest: 0.7552700 (166)\ttotal: 56.2s\tremaining: 11.1s\n",
      "167:\tlearn: 0.7692539\ttest: 0.7549138\tbest: 0.7552700 (166)\ttotal: 56.5s\tremaining: 10.8s\n",
      "168:\tlearn: 0.7692539\ttest: 0.7544141\tbest: 0.7552700 (166)\ttotal: 56.8s\tremaining: 10.4s\n",
      "169:\tlearn: 0.7696241\ttest: 0.7542101\tbest: 0.7552700 (166)\ttotal: 57.2s\tremaining: 10.1s\n",
      "170:\tlearn: 0.7696472\ttest: 0.7543613\tbest: 0.7552700 (166)\ttotal: 57.5s\tremaining: 9.76s\n",
      "171:\tlearn: 0.7699554\ttest: 0.7542101\tbest: 0.7552700 (166)\ttotal: 57.9s\tremaining: 9.42s\n",
      "172:\tlearn: 0.7703785\ttest: 0.7543613\tbest: 0.7552700 (166)\ttotal: 58.2s\tremaining: 9.08s\n",
      "173:\tlearn: 0.7715685\ttest: 0.7564974\tbest: 0.7564974 (173)\ttotal: 58.5s\tremaining: 8.75s\n",
      "174:\tlearn: 0.7719368\ttest: 0.7563462\tbest: 0.7564974 (173)\ttotal: 58.9s\tremaining: 8.41s\n",
      "175:\tlearn: 0.7719596\ttest: 0.7563462\tbest: 0.7564974 (173)\ttotal: 59.2s\tremaining: 8.07s\n",
      "176:\tlearn: 0.7724434\ttest: 0.7564974\tbest: 0.7564974 (173)\ttotal: 59.5s\tremaining: 7.73s\n",
      "177:\tlearn: 0.7725502\ttest: 0.7563462\tbest: 0.7564974 (173)\ttotal: 59.9s\tremaining: 7.4s\n",
      "178:\tlearn: 0.7727954\ttest: 0.7564436\tbest: 0.7564974 (173)\ttotal: 1m\tremaining: 7.06s\n",
      "179:\tlearn: 0.7733466\ttest: 0.7564870\tbest: 0.7564974 (173)\ttotal: 1m\tremaining: 6.72s\n",
      "180:\tlearn: 0.7736301\ttest: 0.7569832\tbest: 0.7569832 (180)\ttotal: 1m\tremaining: 6.38s\n",
      "181:\tlearn: 0.7735689\ttest: 0.7569832\tbest: 0.7569832 (180)\ttotal: 1m 1s\tremaining: 6.05s\n",
      "182:\tlearn: 0.7735077\ttest: 0.7569832\tbest: 0.7569832 (180)\ttotal: 1m 1s\tremaining: 5.71s\n",
      "183:\tlearn: 0.7737525\ttest: 0.7567352\tbest: 0.7569832 (180)\ttotal: 1m 1s\tremaining: 5.38s\n",
      "184:\tlearn: 0.7738137\ttest: 0.7565842\tbest: 0.7569832 (180)\ttotal: 1m 2s\tremaining: 5.04s\n",
      "185:\tlearn: 0.7738523\ttest: 0.7565842\tbest: 0.7569832 (180)\ttotal: 1m 2s\tremaining: 4.7s\n",
      "186:\tlearn: 0.7740358\ttest: 0.7568322\tbest: 0.7569832 (180)\ttotal: 1m 2s\tremaining: 4.37s\n",
      "187:\tlearn: 0.7743416\ttest: 0.7572312\tbest: 0.7572312 (187)\ttotal: 1m 3s\tremaining: 4.03s\n",
      "188:\tlearn: 0.7746732\ttest: 0.7576846\tbest: 0.7576846 (188)\ttotal: 1m 3s\tremaining: 3.69s\n",
      "189:\tlearn: 0.7750399\ttest: 0.7580291\tbest: 0.7580291 (189)\ttotal: 1m 3s\tremaining: 3.35s\n",
      "190:\tlearn: 0.7752680\ttest: 0.7579745\tbest: 0.7580291 (189)\ttotal: 1m 4s\tremaining: 3.02s\n",
      "191:\tlearn: 0.7755570\ttest: 0.7581256\tbest: 0.7581256 (191)\ttotal: 1m 4s\tremaining: 2.68s\n",
      "192:\tlearn: 0.7756790\ttest: 0.7579745\tbest: 0.7581256 (191)\ttotal: 1m 4s\tremaining: 2.35s\n",
      "193:\tlearn: 0.7758011\ttest: 0.7579745\tbest: 0.7581256 (191)\ttotal: 1m 5s\tremaining: 2.01s\n",
      "194:\tlearn: 0.7761447\ttest: 0.7582220\tbest: 0.7582220 (194)\ttotal: 1m 5s\tremaining: 1.68s\n",
      "195:\tlearn: 0.7761834\ttest: 0.7586207\tbest: 0.7586207 (195)\ttotal: 1m 5s\tremaining: 1.34s\n",
      "196:\tlearn: 0.7763827\ttest: 0.7587169\tbest: 0.7587169 (196)\ttotal: 1m 6s\tremaining: 1s\n",
      "197:\tlearn: 0.7765104\ttest: 0.7588130\tbest: 0.7588130 (197)\ttotal: 1m 6s\tremaining: 670ms\n",
      "198:\tlearn: 0.7770637\ttest: 0.7590601\tbest: 0.7590601 (198)\ttotal: 1m 6s\tremaining: 335ms\n",
      "199:\tlearn: 0.7770028\ttest: 0.7590601\tbest: 0.7590601 (198)\ttotal: 1m 7s\tremaining: 0us\n",
      "\n",
      "bestTest = 0.7590601354\n",
      "bestIteration = 198\n",
      "\n",
      "0:\tlearn: 0.3577737\ttest: 0.3785894\tbest: 0.3785894 (0)\ttotal: 333ms\tremaining: 1m 6s\n",
      "1:\tlearn: 0.3669265\ttest: 0.3912924\tbest: 0.3912924 (1)\ttotal: 678ms\tremaining: 1m 7s\n",
      "2:\tlearn: 0.3688644\ttest: 0.3857896\tbest: 0.3912924 (1)\ttotal: 1.01s\tremaining: 1m 6s\n",
      "3:\tlearn: 0.4154375\ttest: 0.4394667\tbest: 0.4394667 (3)\ttotal: 1.34s\tremaining: 1m 5s\n",
      "4:\tlearn: 0.4142068\ttest: 0.4384513\tbest: 0.4394667 (3)\ttotal: 1.67s\tremaining: 1m 5s\n",
      "5:\tlearn: 0.4168965\ttest: 0.4421950\tbest: 0.4421950 (5)\ttotal: 2s\tremaining: 1m 4s\n",
      "6:\tlearn: 0.4241571\ttest: 0.4448588\tbest: 0.4448588 (6)\ttotal: 2.33s\tremaining: 1m 4s\n",
      "7:\tlearn: 0.4215680\ttest: 0.4439713\tbest: 0.4448588 (6)\ttotal: 2.66s\tremaining: 1m 3s\n",
      "8:\tlearn: 0.4303527\ttest: 0.4573991\tbest: 0.4573991 (8)\ttotal: 2.99s\tremaining: 1m 3s\n",
      "9:\tlearn: 0.3974578\ttest: 0.4222222\tbest: 0.4573991 (8)\ttotal: 3.31s\tremaining: 1m 2s\n",
      "10:\tlearn: 0.4368610\ttest: 0.4622666\tbest: 0.4622666 (10)\ttotal: 3.64s\tremaining: 1m 2s\n",
      "11:\tlearn: 0.4381344\ttest: 0.4644077\tbest: 0.4644077 (11)\ttotal: 3.96s\tremaining: 1m 2s\n",
      "12:\tlearn: 0.4075508\ttest: 0.4295737\tbest: 0.4644077 (11)\ttotal: 4.29s\tremaining: 1m 1s\n",
      "13:\tlearn: 0.4429290\ttest: 0.4644924\tbest: 0.4644924 (13)\ttotal: 4.62s\tremaining: 1m 1s\n",
      "14:\tlearn: 0.4111111\ttest: 0.4353668\tbest: 0.4644924 (13)\ttotal: 4.96s\tremaining: 1m 1s\n",
      "15:\tlearn: 0.4140123\ttest: 0.4378857\tbest: 0.4644924 (13)\ttotal: 5.3s\tremaining: 1m 1s\n",
      "16:\tlearn: 0.4168185\ttest: 0.4422460\tbest: 0.4644924 (13)\ttotal: 5.65s\tremaining: 1m\n",
      "17:\tlearn: 0.4499242\ttest: 0.4710809\tbest: 0.4710809 (17)\ttotal: 6s\tremaining: 1m\n",
      "18:\tlearn: 0.4507414\ttest: 0.4714809\tbest: 0.4714809 (18)\ttotal: 6.35s\tremaining: 1m\n",
      "19:\tlearn: 0.4510476\ttest: 0.4732026\tbest: 0.4732026 (19)\ttotal: 6.71s\tremaining: 1m\n",
      "20:\tlearn: 0.4465159\ttest: 0.4700944\tbest: 0.4732026 (19)\ttotal: 7.05s\tremaining: 1m\n",
      "21:\tlearn: 0.4485673\ttest: 0.4708967\tbest: 0.4732026 (19)\ttotal: 7.4s\tremaining: 59.8s\n",
      "22:\tlearn: 0.4254462\ttest: 0.4502395\tbest: 0.4732026 (19)\ttotal: 7.74s\tremaining: 59.6s\n",
      "23:\tlearn: 0.4283226\ttest: 0.4527099\tbest: 0.4732026 (19)\ttotal: 8.07s\tremaining: 59.2s\n",
      "24:\tlearn: 0.4302154\ttest: 0.4527099\tbest: 0.4732026 (19)\ttotal: 8.42s\tremaining: 59s\n",
      "25:\tlearn: 0.4316845\ttest: 0.4544731\tbest: 0.4732026 (19)\ttotal: 8.76s\tremaining: 58.7s\n",
      "26:\tlearn: 0.4602384\ttest: 0.4828304\tbest: 0.4828304 (26)\ttotal: 9.11s\tremaining: 58.4s\n",
      "27:\tlearn: 0.4604100\ttest: 0.4842816\tbest: 0.4842816 (27)\ttotal: 9.46s\tremaining: 58.1s\n",
      "28:\tlearn: 0.4617699\ttest: 0.4842816\tbest: 0.4842816 (27)\ttotal: 9.81s\tremaining: 57.8s\n",
      "29:\tlearn: 0.4636583\ttest: 0.4833680\tbest: 0.4842816 (27)\ttotal: 10.1s\tremaining: 57.5s\n",
      "30:\tlearn: 0.4626242\ttest: 0.4849429\tbest: 0.4849429 (30)\ttotal: 10.5s\tremaining: 57.1s\n",
      "31:\tlearn: 0.4912034\ttest: 0.5189490\tbest: 0.5189490 (31)\ttotal: 10.8s\tremaining: 56.8s\n",
      "32:\tlearn: 0.4919752\ttest: 0.5185747\tbest: 0.5189490 (31)\ttotal: 11.1s\tremaining: 56.4s\n",
      "33:\tlearn: 0.4922329\ttest: 0.5190801\tbest: 0.5190801 (33)\ttotal: 11.5s\tremaining: 56s\n",
      "34:\tlearn: 0.4933887\ttest: 0.5198282\tbest: 0.5198282 (34)\ttotal: 11.8s\tremaining: 55.7s\n",
      "35:\tlearn: 0.4943519\ttest: 0.5208176\tbest: 0.5208176 (35)\ttotal: 12.2s\tremaining: 55.4s\n",
      "36:\tlearn: 0.4911405\ttest: 0.5222447\tbest: 0.5222447 (36)\ttotal: 12.5s\tremaining: 55.1s\n",
      "37:\tlearn: 0.5122135\ttest: 0.5457249\tbest: 0.5457249 (37)\ttotal: 12.9s\tremaining: 55s\n",
      "38:\tlearn: 0.4912034\ttest: 0.5213654\tbest: 0.5457249 (37)\ttotal: 13.3s\tremaining: 54.8s\n",
      "39:\tlearn: 0.4905902\ttest: 0.5207490\tbest: 0.5457249 (37)\ttotal: 13.6s\tremaining: 54.5s\n",
      "40:\tlearn: 0.5114052\ttest: 0.5453644\tbest: 0.5457249 (37)\ttotal: 14s\tremaining: 54.4s\n",
      "41:\tlearn: 0.4928759\ttest: 0.5233645\tbest: 0.5457249 (37)\ttotal: 14.4s\tremaining: 54.2s\n",
      "42:\tlearn: 0.4931332\ttest: 0.5248549\tbest: 0.5457249 (37)\ttotal: 14.8s\tremaining: 54s\n",
      "43:\tlearn: 0.4939044\ttest: 0.5252270\tbest: 0.5457249 (37)\ttotal: 15.2s\tremaining: 53.8s\n",
      "44:\tlearn: 0.4978360\ttest: 0.5286720\tbest: 0.5457249 (37)\ttotal: 15.5s\tremaining: 53.5s\n",
      "45:\tlearn: 0.4999364\ttest: 0.5319950\tbest: 0.5457249 (37)\ttotal: 15.9s\tremaining: 53.2s\n",
      "46:\tlearn: 0.5007620\ttest: 0.5330993\tbest: 0.5457249 (37)\ttotal: 16.2s\tremaining: 52.9s\n",
      "47:\tlearn: 0.5228195\ttest: 0.5588813\tbest: 0.5588813 (47)\ttotal: 16.6s\tremaining: 52.5s\n",
      "48:\tlearn: 0.5254501\ttest: 0.5610771\tbest: 0.5610771 (48)\ttotal: 16.9s\tremaining: 52.1s\n",
      "49:\tlearn: 0.5258766\ttest: 0.5611546\tbest: 0.5611546 (49)\ttotal: 17.2s\tremaining: 51.7s\n",
      "50:\tlearn: 0.5250234\ttest: 0.5618582\tbest: 0.5618582 (50)\ttotal: 17.6s\tremaining: 51.4s\n",
      "51:\tlearn: 0.5261584\ttest: 0.5622097\tbest: 0.5622097 (51)\ttotal: 17.9s\tremaining: 51.1s\n",
      "52:\tlearn: 0.5268268\ttest: 0.5629123\tbest: 0.5629123 (52)\ttotal: 18.3s\tremaining: 50.7s\n",
      "53:\tlearn: 0.5288085\ttest: 0.5653659\tbest: 0.5653659 (53)\ttotal: 18.7s\tremaining: 50.5s\n",
      "54:\tlearn: 0.5297882\ttest: 0.5671133\tbest: 0.5671133 (54)\ttotal: 19s\tremaining: 50.1s\n",
      "55:\tlearn: 0.5307009\ttest: 0.5688564\tbest: 0.5688564 (55)\ttotal: 19.3s\tremaining: 49.7s\n",
      "56:\tlearn: 0.5302776\ttest: 0.5686465\tbest: 0.5688564 (55)\ttotal: 19.7s\tremaining: 49.4s\n",
      "57:\tlearn: 0.5309416\ttest: 0.5695525\tbest: 0.5695525 (57)\ttotal: 20s\tremaining: 49s\n",
      "58:\tlearn: 0.5313644\ttest: 0.5699003\tbest: 0.5699003 (58)\ttotal: 20.4s\tremaining: 48.7s\n",
      "59:\tlearn: 0.5320270\ttest: 0.5717756\tbest: 0.5717756 (59)\ttotal: 20.7s\tremaining: 48.3s\n",
      "60:\tlearn: 0.5336800\ttest: 0.5732299\tbest: 0.5732299 (60)\ttotal: 21.1s\tremaining: 48.1s\n",
      "61:\tlearn: 0.5342576\ttest: 0.5741279\tbest: 0.5741279 (61)\ttotal: 21.5s\tremaining: 47.8s\n",
      "62:\tlearn: 0.5363653\ttest: 0.5755082\tbest: 0.5755082 (62)\ttotal: 21.8s\tremaining: 47.5s\n",
      "63:\tlearn: 0.5470044\ttest: 0.5865707\tbest: 0.5865707 (63)\ttotal: 22.2s\tremaining: 47.2s\n",
      "64:\tlearn: 0.5472936\ttest: 0.5869096\tbest: 0.5869096 (64)\ttotal: 22.6s\tremaining: 46.9s\n",
      "65:\tlearn: 0.5482053\ttest: 0.5872483\tbest: 0.5872483 (65)\ttotal: 22.9s\tremaining: 46.6s\n",
      "66:\tlearn: 0.5486498\ttest: 0.5879253\tbest: 0.5879253 (66)\ttotal: 23.3s\tremaining: 46.3s\n",
      "67:\tlearn: 0.5493604\ttest: 0.5882635\tbest: 0.5882635 (67)\ttotal: 23.7s\tremaining: 46s\n",
      "68:\tlearn: 0.5501590\ttest: 0.5889394\tbest: 0.5889394 (68)\ttotal: 24s\tremaining: 45.6s\n",
      "69:\tlearn: 0.5633615\ttest: 0.5993840\tbest: 0.5993840 (69)\ttotal: 24.4s\tremaining: 45.2s\n",
      "70:\tlearn: 0.5648551\ttest: 0.6002367\tbest: 0.6002367 (70)\ttotal: 24.7s\tremaining: 44.9s\n",
      "71:\tlearn: 0.5652541\ttest: 0.6008990\tbest: 0.6008990 (71)\ttotal: 25s\tremaining: 44.5s\n",
      "72:\tlearn: 0.5662062\ttest: 0.6025520\tbest: 0.6025520 (72)\ttotal: 25.4s\tremaining: 44.1s\n",
      "73:\tlearn: 0.5771234\ttest: 0.6097790\tbest: 0.6097790 (73)\ttotal: 25.7s\tremaining: 43.7s\n",
      "74:\tlearn: 0.5858910\ttest: 0.6159963\tbest: 0.6159963 (74)\ttotal: 26s\tremaining: 43.4s\n",
      "75:\tlearn: 0.5863607\ttest: 0.6166433\tbest: 0.6166433 (75)\ttotal: 26.4s\tremaining: 43s\n",
      "76:\tlearn: 0.5869139\ttest: 0.6172897\tbest: 0.6172897 (76)\ttotal: 26.7s\tremaining: 42.7s\n",
      "77:\tlearn: 0.5785351\ttest: 0.6087571\tbest: 0.6172897 (76)\ttotal: 27s\tremaining: 42.3s\n",
      "78:\tlearn: 0.5791298\ttest: 0.6094118\tbest: 0.6172897 (76)\ttotal: 27.4s\tremaining: 41.9s\n",
      "79:\tlearn: 0.5800287\ttest: 0.6110458\tbest: 0.6172897 (76)\ttotal: 27.7s\tremaining: 41.6s\n",
      "80:\tlearn: 0.5807568\ttest: 0.6116984\tbest: 0.6172897 (76)\ttotal: 28.1s\tremaining: 41.2s\n",
      "81:\tlearn: 0.5801481\ttest: 0.6118421\tbest: 0.6172897 (76)\ttotal: 28.4s\tremaining: 40.9s\n",
      "82:\tlearn: 0.5894075\ttest: 0.6211238\tbest: 0.6211238 (82)\ttotal: 28.8s\tremaining: 40.5s\n",
      "83:\tlearn: 0.5902086\ttest: 0.6240112\tbest: 0.6240112 (83)\ttotal: 29.1s\tremaining: 40.2s\n",
      "84:\tlearn: 0.5830751\ttest: 0.6151323\tbest: 0.6240112 (83)\ttotal: 29.4s\tremaining: 39.8s\n",
      "85:\tlearn: 0.5835816\ttest: 0.6161049\tbest: 0.6240112 (83)\ttotal: 29.8s\tremaining: 39.5s\n",
      "86:\tlearn: 0.5838347\ttest: 0.6177227\tbest: 0.6240112 (83)\ttotal: 30.1s\tremaining: 39.1s\n",
      "87:\tlearn: 0.5923997\ttest: 0.6264221\tbest: 0.6264221 (87)\ttotal: 30.5s\tremaining: 38.8s\n",
      "88:\tlearn: 0.5939458\ttest: 0.6261314\tbest: 0.6264221 (87)\ttotal: 30.8s\tremaining: 38.4s\n",
      "89:\tlearn: 0.5940898\ttest: 0.6267687\tbest: 0.6267687 (89)\ttotal: 31.1s\tremaining: 38.1s\n",
      "90:\tlearn: 0.5946712\ttest: 0.6267687\tbest: 0.6267687 (89)\ttotal: 31.5s\tremaining: 37.7s\n",
      "91:\tlearn: 0.5952170\ttest: 0.6269418\tbest: 0.6269418 (91)\ttotal: 31.8s\tremaining: 37.4s\n",
      "92:\tlearn: 0.5957849\ttest: 0.6271147\tbest: 0.6271147 (92)\ttotal: 32.2s\tremaining: 37s\n",
      "93:\tlearn: 0.5973368\ttest: 0.6290733\tbest: 0.6290733 (93)\ttotal: 32.5s\tremaining: 36.6s\n",
      "94:\tlearn: 0.5974898\ttest: 0.6300231\tbest: 0.6300231 (94)\ttotal: 32.8s\tremaining: 36.3s\n",
      "95:\tlearn: 0.6059612\ttest: 0.6383857\tbest: 0.6383857 (95)\ttotal: 33.2s\tremaining: 35.9s\n",
      "96:\tlearn: 0.6060322\ttest: 0.6380537\tbest: 0.6383857 (95)\ttotal: 33.5s\tremaining: 35.6s\n",
      "97:\tlearn: 0.6066495\ttest: 0.6388251\tbest: 0.6388251 (97)\ttotal: 33.8s\tremaining: 35.2s\n",
      "98:\tlearn: 0.6074602\ttest: 0.6400916\tbest: 0.6400916 (98)\ttotal: 34.2s\tremaining: 34.8s\n",
      "99:\tlearn: 0.6077044\ttest: 0.6404031\tbest: 0.6404031 (99)\ttotal: 34.5s\tremaining: 34.5s\n",
      "100:\tlearn: 0.6079944\ttest: 0.6404031\tbest: 0.6404031 (99)\ttotal: 34.8s\tremaining: 34.1s\n",
      "101:\tlearn: 0.6084823\ttest: 0.6407144\tbest: 0.6407144 (101)\ttotal: 35.1s\tremaining: 33.8s\n",
      "102:\tlearn: 0.6095383\ttest: 0.6410256\tbest: 0.6410256 (102)\ttotal: 35.5s\tremaining: 33.4s\n",
      "103:\tlearn: 0.6105926\ttest: 0.6411899\tbest: 0.6411899 (103)\ttotal: 35.8s\tremaining: 33.1s\n",
      "104:\tlearn: 0.6107645\ttest: 0.6413367\tbest: 0.6413367 (104)\ttotal: 36.1s\tremaining: 32.7s\n",
      "105:\tlearn: 0.6107547\ttest: 0.6417945\tbest: 0.6417945 (105)\ttotal: 36.5s\tremaining: 32.4s\n",
      "106:\tlearn: 0.6111597\ttest: 0.6416476\tbest: 0.6417945 (105)\ttotal: 36.8s\tremaining: 32s\n",
      "107:\tlearn: 0.6120499\ttest: 0.6413367\tbest: 0.6417945 (105)\ttotal: 37.2s\tremaining: 31.7s\n",
      "108:\tlearn: 0.6129032\ttest: 0.6419584\tbest: 0.6419584 (108)\ttotal: 37.5s\tremaining: 31.3s\n",
      "109:\tlearn: 0.6133613\ttest: 0.6428898\tbest: 0.6428898 (109)\ttotal: 37.9s\tremaining: 31s\n",
      "110:\tlearn: 0.6135583\ttest: 0.6428898\tbest: 0.6428898 (109)\ttotal: 38.2s\tremaining: 30.6s\n",
      "111:\tlearn: 0.6148036\ttest: 0.6447639\tbest: 0.6447639 (111)\ttotal: 38.5s\tremaining: 30.3s\n",
      "112:\tlearn: 0.6148393\ttest: 0.6450730\tbest: 0.6450730 (112)\ttotal: 38.9s\tremaining: 29.9s\n",
      "113:\tlearn: 0.6156883\ttest: 0.6456908\tbest: 0.6456908 (113)\ttotal: 39.2s\tremaining: 29.6s\n",
      "114:\tlearn: 0.6165091\ttest: 0.6466302\tbest: 0.6466302 (114)\ttotal: 39.6s\tremaining: 29.2s\n",
      "115:\tlearn: 0.6170793\ttest: 0.6478617\tbest: 0.6478617 (115)\ttotal: 39.9s\tremaining: 28.9s\n",
      "116:\tlearn: 0.6170435\ttest: 0.6481692\tbest: 0.6481692 (116)\ttotal: 40.3s\tremaining: 28.6s\n",
      "117:\tlearn: 0.6172840\ttest: 0.6484766\tbest: 0.6484766 (117)\ttotal: 40.6s\tremaining: 28.2s\n",
      "118:\tlearn: 0.6174170\ttest: 0.6487838\tbest: 0.6487838 (118)\ttotal: 41s\tremaining: 27.9s\n",
      "119:\tlearn: 0.6191578\ttest: 0.6489555\tbest: 0.6489555 (119)\ttotal: 41.3s\tremaining: 27.5s\n",
      "120:\tlearn: 0.6198763\ttest: 0.6489555\tbest: 0.6489555 (119)\ttotal: 41.6s\tremaining: 27.2s\n",
      "121:\tlearn: 0.6198763\ttest: 0.6492622\tbest: 0.6492622 (121)\ttotal: 41.9s\tremaining: 26.8s\n",
      "122:\tlearn: 0.6205502\ttest: 0.6495688\tbest: 0.6495688 (122)\ttotal: 42.3s\tremaining: 26.5s\n",
      "123:\tlearn: 0.6208769\ttest: 0.6495688\tbest: 0.6495688 (122)\ttotal: 42.6s\tremaining: 26.1s\n",
      "124:\tlearn: 0.6208690\ttest: 0.6497162\tbest: 0.6497162 (124)\ttotal: 43s\tremaining: 25.8s\n",
      "125:\tlearn: 0.6208690\ttest: 0.6497162\tbest: 0.6497162 (124)\ttotal: 43.3s\tremaining: 25.4s\n",
      "126:\tlearn: 0.6211876\ttest: 0.6506352\tbest: 0.6506352 (126)\ttotal: 43.6s\tremaining: 25.1s\n",
      "127:\tlearn: 0.6216450\ttest: 0.6524694\tbest: 0.6524694 (127)\ttotal: 44s\tremaining: 24.7s\n",
      "128:\tlearn: 0.6220350\ttest: 0.6530797\tbest: 0.6530797 (128)\ttotal: 44.3s\tremaining: 24.4s\n",
      "129:\tlearn: 0.6221427\ttest: 0.6524694\tbest: 0.6530797 (128)\ttotal: 44.7s\tremaining: 24.1s\n",
      "130:\tlearn: 0.6225838\ttest: 0.6529225\tbest: 0.6530797 (128)\ttotal: 45s\tremaining: 23.7s\n",
      "131:\tlearn: 0.6225914\ttest: 0.6529225\tbest: 0.6530797 (128)\ttotal: 45.4s\tremaining: 23.4s\n",
      "132:\tlearn: 0.6268331\ttest: 0.6550554\tbest: 0.6550554 (132)\ttotal: 45.8s\tremaining: 23s\n",
      "133:\tlearn: 0.6269910\ttest: 0.6550554\tbest: 0.6550554 (132)\ttotal: 46.1s\tremaining: 22.7s\n",
      "134:\tlearn: 0.6271557\ttest: 0.6550554\tbest: 0.6550554 (132)\ttotal: 46.5s\tremaining: 22.4s\n",
      "135:\tlearn: 0.6275569\ttest: 0.6553596\tbest: 0.6553596 (135)\ttotal: 46.8s\tremaining: 22s\n",
      "136:\tlearn: 0.6324405\ttest: 0.6594546\tbest: 0.6594546 (136)\ttotal: 47.1s\tremaining: 21.7s\n",
      "137:\tlearn: 0.6326332\ttest: 0.6591575\tbest: 0.6594546 (136)\ttotal: 47.5s\tremaining: 21.3s\n",
      "138:\tlearn: 0.6329462\ttest: 0.6593110\tbest: 0.6594546 (136)\ttotal: 47.8s\tremaining: 21s\n",
      "139:\tlearn: 0.6333429\ttest: 0.6596128\tbest: 0.6596128 (139)\ttotal: 48.2s\tremaining: 20.6s\n",
      "140:\tlearn: 0.6336192\ttest: 0.6599145\tbest: 0.6599145 (140)\ttotal: 48.5s\tremaining: 20.3s\n",
      "141:\tlearn: 0.6353679\ttest: 0.6608227\tbest: 0.6608227 (141)\ttotal: 48.9s\tremaining: 20s\n",
      "142:\tlearn: 0.6356793\ttest: 0.6614244\tbest: 0.6614244 (142)\ttotal: 49.2s\tremaining: 19.6s\n",
      "143:\tlearn: 0.6355705\ttest: 0.6614244\tbest: 0.6614244 (142)\ttotal: 49.5s\tremaining: 19.3s\n",
      "144:\tlearn: 0.6357676\ttest: 0.6620256\tbest: 0.6620256 (144)\ttotal: 49.8s\tremaining: 18.9s\n",
      "145:\tlearn: 0.6356121\ttest: 0.6620256\tbest: 0.6620256 (144)\ttotal: 50.2s\tremaining: 18.6s\n",
      "146:\tlearn: 0.6358816\ttest: 0.6620256\tbest: 0.6620256 (144)\ttotal: 50.5s\tremaining: 18.2s\n",
      "147:\tlearn: 0.6364672\ttest: 0.6621773\tbest: 0.6621773 (147)\ttotal: 50.8s\tremaining: 17.9s\n",
      "148:\tlearn: 0.6376729\ttest: 0.6632310\tbest: 0.6632310 (148)\ttotal: 51.2s\tremaining: 17.5s\n",
      "149:\tlearn: 0.6381017\ttest: 0.6627829\tbest: 0.6632310 (148)\ttotal: 51.5s\tremaining: 17.2s\n",
      "150:\tlearn: 0.6386899\ttest: 0.6627855\tbest: 0.6632310 (148)\ttotal: 51.9s\tremaining: 16.8s\n",
      "151:\tlearn: 0.6389221\ttest: 0.6630848\tbest: 0.6632310 (148)\ttotal: 52.2s\tremaining: 16.5s\n",
      "152:\tlearn: 0.6391542\ttest: 0.6633841\tbest: 0.6633841 (152)\ttotal: 52.5s\tremaining: 16.1s\n",
      "153:\tlearn: 0.6393499\ttest: 0.6636832\tbest: 0.6636832 (153)\ttotal: 52.9s\tremaining: 15.8s\n",
      "154:\tlearn: 0.6397727\ttest: 0.6636832\tbest: 0.6636832 (153)\ttotal: 53.2s\tremaining: 15.4s\n",
      "155:\tlearn: 0.6399636\ttest: 0.6648770\tbest: 0.6648770 (155)\ttotal: 53.6s\tremaining: 15.1s\n",
      "156:\tlearn: 0.6402363\ttest: 0.6647282\tbest: 0.6648770 (155)\ttotal: 53.9s\tremaining: 14.8s\n",
      "157:\tlearn: 0.6407039\ttest: 0.6644295\tbest: 0.6648770 (155)\ttotal: 54.2s\tremaining: 14.4s\n",
      "158:\tlearn: 0.6407447\ttest: 0.6644295\tbest: 0.6648770 (155)\ttotal: 54.6s\tremaining: 14.1s\n",
      "159:\tlearn: 0.6406676\ttest: 0.6645782\tbest: 0.6648770 (155)\ttotal: 54.9s\tremaining: 13.7s\n",
      "160:\tlearn: 0.6407855\ttest: 0.6645782\tbest: 0.6648770 (155)\ttotal: 55.3s\tremaining: 13.4s\n",
      "161:\tlearn: 0.6413660\ttest: 0.6648770\tbest: 0.6648770 (155)\ttotal: 55.7s\tremaining: 13.1s\n",
      "162:\tlearn: 0.6423672\ttest: 0.6656236\tbest: 0.6656236 (162)\ttotal: 56s\tremaining: 12.7s\n",
      "163:\tlearn: 0.6430271\ttest: 0.6657736\tbest: 0.6657736 (163)\ttotal: 56.3s\tremaining: 12.4s\n",
      "164:\tlearn: 0.6436860\ttest: 0.6654757\tbest: 0.6657736 (163)\ttotal: 56.6s\tremaining: 12s\n",
      "165:\tlearn: 0.6441464\ttest: 0.6663691\tbest: 0.6663691 (165)\ttotal: 57s\tremaining: 11.7s\n",
      "166:\tlearn: 0.6448366\ttest: 0.6666667\tbest: 0.6666667 (166)\ttotal: 57.3s\tremaining: 11.3s\n",
      "167:\tlearn: 0.6481001\ttest: 0.6703737\tbest: 0.6703737 (167)\ttotal: 57.7s\tremaining: 11s\n",
      "168:\tlearn: 0.6492453\ttest: 0.6697819\tbest: 0.6703737 (167)\ttotal: 58s\tremaining: 10.6s\n",
      "169:\tlearn: 0.6493975\ttest: 0.6697799\tbest: 0.6703737 (167)\ttotal: 58.4s\tremaining: 10.3s\n",
      "170:\tlearn: 0.6501210\ttest: 0.6703712\tbest: 0.6703737 (167)\ttotal: 58.7s\tremaining: 9.96s\n",
      "171:\tlearn: 0.6498171\ttest: 0.6706667\tbest: 0.6706667 (171)\ttotal: 59.1s\tremaining: 9.62s\n",
      "172:\tlearn: 0.6531552\ttest: 0.6733156\tbest: 0.6733156 (172)\ttotal: 59.4s\tremaining: 9.28s\n",
      "173:\tlearn: 0.6537987\ttest: 0.6739034\tbest: 0.6739034 (173)\ttotal: 59.8s\tremaining: 8.94s\n",
      "174:\tlearn: 0.6542884\ttest: 0.6739034\tbest: 0.6739034 (173)\ttotal: 1m\tremaining: 8.59s\n",
      "175:\tlearn: 0.6544027\ttest: 0.6741971\tbest: 0.6741971 (175)\ttotal: 1m\tremaining: 8.25s\n",
      "176:\tlearn: 0.6547412\ttest: 0.6746401\tbest: 0.6746401 (176)\ttotal: 1m\tremaining: 7.91s\n",
      "177:\tlearn: 0.6549248\ttest: 0.6753764\tbest: 0.6753764 (177)\ttotal: 1m 1s\tremaining: 7.57s\n",
      "178:\tlearn: 0.6555300\ttest: 0.6750775\tbest: 0.6753764 (177)\ttotal: 1m 1s\tremaining: 7.22s\n",
      "179:\tlearn: 0.6556807\ttest: 0.6758132\tbest: 0.6758132 (179)\ttotal: 1m 1s\tremaining: 6.88s\n",
      "180:\tlearn: 0.6556403\ttest: 0.6758132\tbest: 0.6758132 (179)\ttotal: 1m 2s\tremaining: 6.53s\n",
      "181:\tlearn: 0.6558296\ttest: 0.6758132\tbest: 0.6758132 (179)\ttotal: 1m 2s\tremaining: 6.19s\n",
      "182:\tlearn: 0.6562062\ttest: 0.6758132\tbest: 0.6758132 (179)\ttotal: 1m 2s\tremaining: 5.84s\n",
      "183:\tlearn: 0.6563568\ttest: 0.6758132\tbest: 0.6758132 (179)\ttotal: 1m 3s\tremaining: 5.5s\n",
      "184:\tlearn: 0.6565074\ttest: 0.6766917\tbest: 0.6766917 (184)\ttotal: 1m 3s\tremaining: 5.15s\n",
      "185:\tlearn: 0.6568084\ttest: 0.6769843\tbest: 0.6769843 (185)\ttotal: 1m 3s\tremaining: 4.81s\n",
      "186:\tlearn: 0.6568836\ttest: 0.6775691\tbest: 0.6775691 (186)\ttotal: 1m 4s\tremaining: 4.46s\n",
      "187:\tlearn: 0.6568452\ttest: 0.6778612\tbest: 0.6778612 (187)\ttotal: 1m 4s\tremaining: 4.12s\n",
      "188:\tlearn: 0.6573732\ttest: 0.6778612\tbest: 0.6778612 (187)\ttotal: 1m 4s\tremaining: 3.77s\n",
      "189:\tlearn: 0.6573732\ttest: 0.6775691\tbest: 0.6778612 (187)\ttotal: 1m 5s\tremaining: 3.43s\n",
      "190:\tlearn: 0.6573364\ttest: 0.6775691\tbest: 0.6778612 (187)\ttotal: 1m 5s\tremaining: 3.09s\n",
      "191:\tlearn: 0.6575250\ttest: 0.6780035\tbest: 0.6780035 (191)\ttotal: 1m 5s\tremaining: 2.74s\n",
      "192:\tlearn: 0.6574867\ttest: 0.6780035\tbest: 0.6780035 (191)\ttotal: 1m 6s\tremaining: 2.4s\n",
      "193:\tlearn: 0.6582378\ttest: 0.6780035\tbest: 0.6780035 (191)\ttotal: 1m 6s\tremaining: 2.06s\n",
      "194:\tlearn: 0.6586880\ttest: 0.6780035\tbest: 0.6780035 (191)\ttotal: 1m 6s\tremaining: 1.71s\n",
      "195:\tlearn: 0.6591379\ttest: 0.6780035\tbest: 0.6780035 (191)\ttotal: 1m 7s\tremaining: 1.37s\n",
      "196:\tlearn: 0.6589117\ttest: 0.6784452\tbest: 0.6784452 (196)\ttotal: 1m 7s\tremaining: 1.03s\n",
      "197:\tlearn: 0.6615333\ttest: 0.6801851\tbest: 0.6801851 (197)\ttotal: 1m 7s\tremaining: 685ms\n",
      "198:\tlearn: 0.6621689\ttest: 0.6811881\tbest: 0.6811881 (198)\ttotal: 1m 8s\tremaining: 343ms\n",
      "199:\tlearn: 0.6633619\ttest: 0.6813283\tbest: 0.6813283 (199)\ttotal: 1m 8s\tremaining: 0us\n",
      "\n",
      "bestTest = 0.6813283484\n",
      "bestIteration = 199\n",
      "\n",
      "0:\tlearn: 0.3800899\ttest: 0.4002199\tbest: 0.4002199 (0)\ttotal: 650ms\tremaining: 1m 4s\n",
      "1:\tlearn: 0.5428727\ttest: 0.5739378\tbest: 0.5739378 (1)\ttotal: 1.3s\tremaining: 1m 3s\n",
      "2:\tlearn: 0.4965982\ttest: 0.5157709\tbest: 0.5739378 (1)\ttotal: 1.96s\tremaining: 1m 3s\n",
      "3:\tlearn: 0.4990840\ttest: 0.5167920\tbest: 0.5739378 (1)\ttotal: 2.59s\tremaining: 1m 2s\n",
      "4:\tlearn: 0.5427044\ttest: 0.5723165\tbest: 0.5739378 (1)\ttotal: 3.24s\tremaining: 1m 1s\n",
      "5:\tlearn: 0.5478367\ttest: 0.5816180\tbest: 0.5816180 (5)\ttotal: 3.84s\tremaining: 1m\n",
      "6:\tlearn: 0.5676940\ttest: 0.5986842\tbest: 0.5986842 (6)\ttotal: 4.48s\tremaining: 59.6s\n",
      "7:\tlearn: 0.5735601\ttest: 0.6037471\tbest: 0.6037471 (7)\ttotal: 5.14s\tremaining: 59.2s\n",
      "8:\tlearn: 0.5766549\ttest: 0.6076186\tbest: 0.6076186 (8)\ttotal: 5.8s\tremaining: 58.7s\n",
      "9:\tlearn: 0.5944425\ttest: 0.6238490\tbest: 0.6238490 (9)\ttotal: 6.46s\tremaining: 58.1s\n",
      "10:\tlearn: 0.6015379\ttest: 0.6311213\tbest: 0.6311213 (10)\ttotal: 7.12s\tremaining: 57.6s\n",
      "11:\tlearn: 0.6195845\ttest: 0.6480522\tbest: 0.6480522 (11)\ttotal: 7.8s\tremaining: 57.2s\n",
      "12:\tlearn: 0.6368558\ttest: 0.6623723\tbest: 0.6623723 (12)\ttotal: 8.44s\tremaining: 56.5s\n",
      "13:\tlearn: 0.6430655\ttest: 0.6675514\tbest: 0.6675514 (13)\ttotal: 9.06s\tremaining: 55.7s\n",
      "14:\tlearn: 0.6624883\ttest: 0.6847237\tbest: 0.6847237 (14)\ttotal: 9.71s\tremaining: 55s\n",
      "15:\tlearn: 0.6659000\ttest: 0.6859862\tbest: 0.6859862 (15)\ttotal: 10.4s\tremaining: 54.7s\n",
      "16:\tlearn: 0.6687811\ttest: 0.6878650\tbest: 0.6878650 (16)\ttotal: 11s\tremaining: 53.9s\n",
      "17:\tlearn: 0.6711739\ttest: 0.6912462\tbest: 0.6912462 (17)\ttotal: 11.6s\tremaining: 53.1s\n",
      "18:\tlearn: 0.6786256\ttest: 0.6968656\tbest: 0.6968656 (18)\ttotal: 12.3s\tremaining: 52.3s\n",
      "19:\tlearn: 0.6837109\ttest: 0.7007050\tbest: 0.7007050 (19)\ttotal: 12.9s\tremaining: 51.6s\n",
      "20:\tlearn: 0.6845565\ttest: 0.7015148\tbest: 0.7015148 (20)\ttotal: 13.5s\tremaining: 51s\n",
      "21:\tlearn: 0.6850513\ttest: 0.7019868\tbest: 0.7019868 (21)\ttotal: 14.2s\tremaining: 50.4s\n",
      "22:\tlearn: 0.6903777\ttest: 0.7067093\tbest: 0.7067093 (22)\ttotal: 14.9s\tremaining: 49.8s\n",
      "23:\tlearn: 0.6927243\ttest: 0.7090059\tbest: 0.7090059 (23)\ttotal: 15.6s\tremaining: 49.3s\n",
      "24:\tlearn: 0.6943760\ttest: 0.7111959\tbest: 0.7111959 (24)\ttotal: 16.2s\tremaining: 48.6s\n",
      "25:\tlearn: 0.6955219\ttest: 0.7106212\tbest: 0.7111959 (24)\ttotal: 16.9s\tremaining: 48.1s\n",
      "26:\tlearn: 0.6976620\ttest: 0.7138019\tbest: 0.7138019 (26)\ttotal: 17.5s\tremaining: 47.4s\n",
      "27:\tlearn: 0.6978383\ttest: 0.7130766\tbest: 0.7138019 (26)\ttotal: 18.1s\tremaining: 46.6s\n",
      "28:\tlearn: 0.7026281\ttest: 0.7170208\tbest: 0.7170208 (28)\ttotal: 18.8s\tremaining: 45.9s\n",
      "29:\tlearn: 0.7038668\ttest: 0.7177114\tbest: 0.7177114 (29)\ttotal: 19.4s\tremaining: 45.2s\n",
      "30:\tlearn: 0.7047538\ttest: 0.7189405\tbest: 0.7189405 (30)\ttotal: 20s\tremaining: 44.4s\n",
      "31:\tlearn: 0.7067605\ttest: 0.7189405\tbest: 0.7189405 (30)\ttotal: 20.5s\tremaining: 43.6s\n",
      "32:\tlearn: 0.7110316\ttest: 0.7225941\tbest: 0.7225941 (32)\ttotal: 21.1s\tremaining: 42.9s\n",
      "33:\tlearn: 0.7122495\ttest: 0.7220247\tbest: 0.7225941 (32)\ttotal: 21.7s\tremaining: 42.2s\n",
      "34:\tlearn: 0.7149677\ttest: 0.7244621\tbest: 0.7244621 (34)\ttotal: 22.3s\tremaining: 41.4s\n",
      "35:\tlearn: 0.7165165\ttest: 0.7268557\tbest: 0.7268557 (35)\ttotal: 22.9s\tremaining: 40.7s\n",
      "36:\tlearn: 0.7172045\ttest: 0.7270073\tbest: 0.7270073 (36)\ttotal: 23.5s\tremaining: 40s\n",
      "37:\tlearn: 0.7179809\ttest: 0.7283333\tbest: 0.7283333 (37)\ttotal: 24.1s\tremaining: 39.3s\n",
      "38:\tlearn: 0.7192973\ttest: 0.7289759\tbest: 0.7289759 (38)\ttotal: 24.7s\tremaining: 38.7s\n",
      "39:\tlearn: 0.7205306\ttest: 0.7302974\tbest: 0.7302974 (39)\ttotal: 25.3s\tremaining: 38s\n",
      "40:\tlearn: 0.7216366\ttest: 0.7318795\tbest: 0.7318795 (40)\ttotal: 25.9s\tremaining: 37.3s\n",
      "41:\tlearn: 0.7219843\ttest: 0.7306733\tbest: 0.7318795 (40)\ttotal: 26.5s\tremaining: 36.6s\n",
      "42:\tlearn: 0.7225268\ttest: 0.7305215\tbest: 0.7318795 (40)\ttotal: 27.1s\tremaining: 35.9s\n",
      "43:\tlearn: 0.7243356\ttest: 0.7317276\tbest: 0.7318795 (40)\ttotal: 27.7s\tremaining: 35.3s\n",
      "44:\tlearn: 0.7258459\ttest: 0.7343135\tbest: 0.7343135 (44)\ttotal: 28.3s\tremaining: 34.6s\n",
      "45:\tlearn: 0.7280561\ttest: 0.7353853\tbest: 0.7353853 (45)\ttotal: 29s\tremaining: 34s\n",
      "46:\tlearn: 0.7285840\ttest: 0.7353853\tbest: 0.7353853 (45)\ttotal: 29.5s\tremaining: 33.3s\n",
      "47:\tlearn: 0.7310459\ttest: 0.7376880\tbest: 0.7376880 (47)\ttotal: 30.1s\tremaining: 32.6s\n",
      "48:\tlearn: 0.7312684\ttest: 0.7368204\tbest: 0.7376880 (47)\ttotal: 30.7s\tremaining: 32s\n",
      "49:\tlearn: 0.7343806\ttest: 0.7382468\tbest: 0.7382468 (49)\ttotal: 31.3s\tremaining: 31.3s\n",
      "50:\tlearn: 0.7363487\ttest: 0.7386574\tbest: 0.7386574 (50)\ttotal: 31.9s\tremaining: 30.7s\n",
      "51:\tlearn: 0.7367391\ttest: 0.7388090\tbest: 0.7388090 (51)\ttotal: 32.6s\tremaining: 30.1s\n",
      "52:\tlearn: 0.7377294\ttest: 0.7413475\tbest: 0.7413475 (52)\ttotal: 33.2s\tremaining: 29.5s\n",
      "53:\tlearn: 0.7381723\ttest: 0.7426817\tbest: 0.7426817 (53)\ttotal: 33.8s\tremaining: 28.8s\n",
      "54:\tlearn: 0.7390523\ttest: 0.7427870\tbest: 0.7427870 (54)\ttotal: 34.5s\tremaining: 28.2s\n",
      "55:\tlearn: 0.7398399\ttest: 0.7427403\tbest: 0.7427870 (54)\ttotal: 35.1s\tremaining: 27.6s\n",
      "56:\tlearn: 0.7399692\ttest: 0.7426936\tbest: 0.7427870 (54)\ttotal: 35.7s\tremaining: 27s\n",
      "57:\tlearn: 0.7416812\ttest: 0.7433122\tbest: 0.7433122 (57)\ttotal: 36.4s\tremaining: 26.3s\n",
      "58:\tlearn: 0.7431845\ttest: 0.7434170\tbest: 0.7434170 (58)\ttotal: 37s\tremaining: 25.7s\n",
      "59:\tlearn: 0.7449318\ttest: 0.7444898\tbest: 0.7444898 (59)\ttotal: 37.7s\tremaining: 25.1s\n",
      "60:\tlearn: 0.7456745\ttest: 0.7447460\tbest: 0.7447460 (60)\ttotal: 38.3s\tremaining: 24.5s\n",
      "61:\tlearn: 0.7464408\ttest: 0.7448980\tbest: 0.7448980 (61)\ttotal: 38.9s\tremaining: 23.9s\n",
      "62:\tlearn: 0.7484725\ttest: 0.7470960\tbest: 0.7470960 (62)\ttotal: 39.5s\tremaining: 23.2s\n",
      "63:\tlearn: 0.7486887\ttest: 0.7475036\tbest: 0.7475036 (63)\ttotal: 40.1s\tremaining: 22.6s\n",
      "64:\tlearn: 0.7510046\ttest: 0.7469978\tbest: 0.7475036 (63)\ttotal: 40.8s\tremaining: 21.9s\n",
      "65:\tlearn: 0.7511317\ttest: 0.7478119\tbest: 0.7478119 (65)\ttotal: 41.4s\tremaining: 21.3s\n",
      "66:\tlearn: 0.7514245\ttest: 0.7476103\tbest: 0.7478119 (65)\ttotal: 42s\tremaining: 20.7s\n",
      "67:\tlearn: 0.7538438\ttest: 0.7489862\tbest: 0.7489862 (67)\ttotal: 42.6s\tremaining: 20s\n",
      "68:\tlearn: 0.7538688\ttest: 0.7491381\tbest: 0.7491381 (68)\ttotal: 43.2s\tremaining: 19.4s\n",
      "69:\tlearn: 0.7542231\ttest: 0.7487325\tbest: 0.7491381 (68)\ttotal: 43.8s\tremaining: 18.8s\n",
      "70:\tlearn: 0.7543130\ttest: 0.7479708\tbest: 0.7491381 (68)\ttotal: 44.4s\tremaining: 18.1s\n",
      "71:\tlearn: 0.7555105\ttest: 0.7485807\tbest: 0.7491381 (68)\ttotal: 45s\tremaining: 17.5s\n",
      "72:\tlearn: 0.7559023\ttest: 0.7483269\tbest: 0.7491381 (68)\ttotal: 45.6s\tremaining: 16.9s\n",
      "73:\tlearn: 0.7568826\ttest: 0.7495948\tbest: 0.7495948 (73)\ttotal: 46.2s\tremaining: 16.2s\n",
      "74:\tlearn: 0.7566199\ttest: 0.7493414\tbest: 0.7495948 (73)\ttotal: 46.8s\tremaining: 15.6s\n",
      "75:\tlearn: 0.7568471\ttest: 0.7489362\tbest: 0.7495948 (73)\ttotal: 47.4s\tremaining: 15s\n",
      "76:\tlearn: 0.7573306\ttest: 0.7506572\tbest: 0.7506572 (76)\ttotal: 48.1s\tremaining: 14.4s\n",
      "77:\tlearn: 0.7575574\ttest: 0.7506572\tbest: 0.7506572 (76)\ttotal: 48.7s\tremaining: 13.7s\n",
      "78:\tlearn: 0.7594694\ttest: 0.7520711\tbest: 0.7520711 (78)\ttotal: 49.3s\tremaining: 13.1s\n",
      "79:\tlearn: 0.7595703\ttest: 0.7520711\tbest: 0.7520711 (78)\ttotal: 50s\tremaining: 12.5s\n",
      "80:\tlearn: 0.7610700\ttest: 0.7519192\tbest: 0.7520711 (78)\ttotal: 50.6s\tremaining: 11.9s\n",
      "81:\tlearn: 0.7622691\ttest: 0.7529269\tbest: 0.7529269 (81)\ttotal: 51.2s\tremaining: 11.2s\n",
      "82:\tlearn: 0.7624560\ttest: 0.7527750\tbest: 0.7529269 (81)\ttotal: 51.9s\tremaining: 10.6s\n",
      "83:\tlearn: 0.7640585\ttest: 0.7533723\tbest: 0.7533723 (83)\ttotal: 52.5s\tremaining: 10s\n",
      "84:\tlearn: 0.7647413\ttest: 0.7536232\tbest: 0.7536232 (84)\ttotal: 53.1s\tremaining: 9.37s\n",
      "85:\tlearn: 0.7649038\ttest: 0.7535240\tbest: 0.7536232 (84)\ttotal: 53.7s\tremaining: 8.74s\n",
      "86:\tlearn: 0.7649955\ttest: 0.7535240\tbest: 0.7536232 (84)\ttotal: 54.3s\tremaining: 8.12s\n",
      "87:\tlearn: 0.7652052\ttest: 0.7542765\tbest: 0.7542765 (87)\ttotal: 55s\tremaining: 7.5s\n",
      "88:\tlearn: 0.7664593\ttest: 0.7541709\tbest: 0.7542765 (87)\ttotal: 55.6s\tremaining: 6.87s\n",
      "89:\tlearn: 0.7668924\ttest: 0.7545199\tbest: 0.7545199 (89)\ttotal: 56.3s\tremaining: 6.25s\n",
      "90:\tlearn: 0.7672634\ttest: 0.7543683\tbest: 0.7545199 (89)\ttotal: 56.9s\tremaining: 5.63s\n",
      "91:\tlearn: 0.7677487\ttest: 0.7545199\tbest: 0.7545199 (89)\ttotal: 57.6s\tremaining: 5s\n",
      "92:\tlearn: 0.7679189\ttest: 0.7555199\tbest: 0.7555199 (92)\ttotal: 58.2s\tremaining: 4.38s\n",
      "93:\tlearn: 0.7695236\ttest: 0.7566159\tbest: 0.7566159 (93)\ttotal: 58.8s\tremaining: 3.75s\n",
      "94:\tlearn: 0.7704779\ttest: 0.7571142\tbest: 0.7571142 (94)\ttotal: 59.4s\tremaining: 3.13s\n",
      "95:\tlearn: 0.7706009\ttest: 0.7576122\tbest: 0.7576122 (95)\ttotal: 1m\tremaining: 2.5s\n",
      "96:\tlearn: 0.7721367\ttest: 0.7584551\tbest: 0.7584551 (96)\ttotal: 1m\tremaining: 1.88s\n",
      "97:\tlearn: 0.7726887\ttest: 0.7582484\tbest: 0.7584551 (96)\ttotal: 1m 1s\tremaining: 1.25s\n",
      "98:\tlearn: 0.7742579\ttest: 0.7578905\tbest: 0.7584551 (96)\ttotal: 1m 1s\tremaining: 626ms\n",
      "99:\tlearn: 0.7745411\ttest: 0.7573941\tbest: 0.7584551 (96)\ttotal: 1m 2s\tremaining: 0us\n",
      "\n",
      "bestTest = 0.758455073\n",
      "bestIteration = 96\n",
      "\n",
      "0:\tlearn: 0.3800899\ttest: 0.4002199\tbest: 0.4002199 (0)\ttotal: 667ms\tremaining: 1m 6s\n",
      "1:\tlearn: 0.3869771\ttest: 0.4091528\tbest: 0.4091528 (1)\ttotal: 1.35s\tremaining: 1m 6s\n",
      "2:\tlearn: 0.3950448\ttest: 0.4154432\tbest: 0.4154432 (2)\ttotal: 2.07s\tremaining: 1m 6s\n",
      "3:\tlearn: 0.4356317\ttest: 0.4503171\tbest: 0.4503171 (3)\ttotal: 2.72s\tremaining: 1m 5s\n",
      "4:\tlearn: 0.4356962\ttest: 0.4544254\tbest: 0.4544254 (4)\ttotal: 3.37s\tremaining: 1m 3s\n",
      "5:\tlearn: 0.4398357\ttest: 0.4589905\tbest: 0.4589905 (5)\ttotal: 4.03s\tremaining: 1m 3s\n",
      "6:\tlearn: 0.4783001\ttest: 0.4994893\tbest: 0.4994893 (6)\ttotal: 4.67s\tremaining: 1m 2s\n",
      "7:\tlearn: 0.5081895\ttest: 0.5311573\tbest: 0.5311573 (7)\ttotal: 5.29s\tremaining: 1m\n",
      "8:\tlearn: 0.4809980\ttest: 0.5048346\tbest: 0.5311573 (7)\ttotal: 5.91s\tremaining: 59.8s\n",
      "9:\tlearn: 0.4836308\ttest: 0.5072501\tbest: 0.5311573 (7)\ttotal: 6.53s\tremaining: 58.8s\n",
      "10:\tlearn: 0.4835913\ttest: 0.5102818\tbest: 0.5311573 (7)\ttotal: 7.2s\tremaining: 58.2s\n",
      "11:\tlearn: 0.4815911\ttest: 0.5090170\tbest: 0.5311573 (7)\ttotal: 7.83s\tremaining: 57.4s\n",
      "12:\tlearn: 0.4817199\ttest: 0.5087764\tbest: 0.5311573 (7)\ttotal: 8.44s\tremaining: 56.5s\n",
      "13:\tlearn: 0.4817725\ttest: 0.5096643\tbest: 0.5311573 (7)\ttotal: 9.05s\tremaining: 55.6s\n",
      "14:\tlearn: 0.4839166\ttest: 0.5133147\tbest: 0.5311573 (7)\ttotal: 9.65s\tremaining: 54.7s\n",
      "15:\tlearn: 0.4615083\ttest: 0.4877039\tbest: 0.5311573 (7)\ttotal: 10.2s\tremaining: 53.8s\n",
      "16:\tlearn: 0.4906940\ttest: 0.5186869\tbest: 0.5311573 (7)\ttotal: 10.9s\tremaining: 53s\n",
      "17:\tlearn: 0.4927851\ttest: 0.5186869\tbest: 0.5311573 (7)\ttotal: 11.5s\tremaining: 52.2s\n",
      "18:\tlearn: 0.4919143\ttest: 0.5205756\tbest: 0.5311573 (7)\ttotal: 12.1s\tremaining: 51.5s\n",
      "19:\tlearn: 0.4962741\ttest: 0.5214322\tbest: 0.5311573 (7)\ttotal: 12.7s\tremaining: 50.8s\n",
      "20:\tlearn: 0.4989193\ttest: 0.5231621\tbest: 0.5311573 (7)\ttotal: 13.3s\tremaining: 50s\n",
      "21:\tlearn: 0.5158536\ttest: 0.5478842\tbest: 0.5478842 (21)\ttotal: 14s\tremaining: 49.5s\n",
      "22:\tlearn: 0.5168737\ttest: 0.5520474\tbest: 0.5520474 (22)\ttotal: 14.6s\tremaining: 48.9s\n",
      "23:\tlearn: 0.4996821\ttest: 0.5291165\tbest: 0.5520474 (22)\ttotal: 15.2s\tremaining: 48.2s\n",
      "24:\tlearn: 0.5006037\ttest: 0.5291165\tbest: 0.5520474 (22)\ttotal: 15.9s\tremaining: 47.6s\n",
      "25:\tlearn: 0.5171808\ttest: 0.5476543\tbest: 0.5520474 (22)\ttotal: 16.5s\tremaining: 47s\n",
      "26:\tlearn: 0.5158451\ttest: 0.5426087\tbest: 0.5520474 (22)\ttotal: 17.1s\tremaining: 46.3s\n",
      "27:\tlearn: 0.5360876\ttest: 0.5669752\tbest: 0.5669752 (27)\ttotal: 17.8s\tremaining: 45.8s\n",
      "28:\tlearn: 0.5502904\ttest: 0.5844530\tbest: 0.5844530 (28)\ttotal: 18.5s\tremaining: 45.2s\n",
      "29:\tlearn: 0.5518378\ttest: 0.5860086\tbest: 0.5860086 (29)\ttotal: 19.2s\tremaining: 44.7s\n",
      "30:\tlearn: 0.5532434\ttest: 0.5868263\tbest: 0.5868263 (30)\ttotal: 19.8s\tremaining: 44.2s\n",
      "31:\tlearn: 0.5544373\ttest: 0.5875030\tbest: 0.5875030 (31)\ttotal: 20.5s\tremaining: 43.6s\n",
      "32:\tlearn: 0.5551085\ttest: 0.5903989\tbest: 0.5903989 (32)\ttotal: 21.1s\tremaining: 42.9s\n",
      "33:\tlearn: 0.5565027\ttest: 0.5911260\tbest: 0.5911260 (33)\ttotal: 21.7s\tremaining: 42.2s\n",
      "34:\tlearn: 0.5693642\ttest: 0.6031596\tbest: 0.6031596 (34)\ttotal: 22.4s\tremaining: 41.5s\n",
      "35:\tlearn: 0.5701047\ttest: 0.6038181\tbest: 0.6038181 (35)\ttotal: 23s\tremaining: 40.8s\n",
      "36:\tlearn: 0.5711193\ttest: 0.6050460\tbest: 0.6050460 (36)\ttotal: 23.6s\tremaining: 40.1s\n",
      "37:\tlearn: 0.5728184\ttest: 0.6057035\tbest: 0.6057035 (37)\ttotal: 24.2s\tremaining: 39.5s\n",
      "38:\tlearn: 0.5734870\ttest: 0.6055608\tbest: 0.6057035 (37)\ttotal: 24.8s\tremaining: 38.8s\n",
      "39:\tlearn: 0.5748891\ttest: 0.6085116\tbest: 0.6085116 (39)\ttotal: 25.4s\tremaining: 38.1s\n",
      "40:\tlearn: 0.5780513\ttest: 0.6097561\tbest: 0.6097561 (40)\ttotal: 26s\tremaining: 37.4s\n",
      "41:\tlearn: 0.5787808\ttest: 0.6107335\tbest: 0.6107335 (41)\ttotal: 26.6s\tremaining: 36.7s\n",
      "42:\tlearn: 0.5777831\ttest: 0.6103683\tbest: 0.6107335 (41)\ttotal: 27.2s\tremaining: 36.1s\n",
      "43:\tlearn: 0.5793622\ttest: 0.6123214\tbest: 0.6123214 (43)\ttotal: 27.8s\tremaining: 35.4s\n",
      "44:\tlearn: 0.5908822\ttest: 0.6196133\tbest: 0.6196133 (44)\ttotal: 28.4s\tremaining: 34.8s\n",
      "45:\tlearn: 0.5906048\ttest: 0.6197249\tbest: 0.6197249 (45)\ttotal: 29.1s\tremaining: 34.1s\n",
      "46:\tlearn: 0.5926933\ttest: 0.6213637\tbest: 0.6213637 (46)\ttotal: 29.7s\tremaining: 33.5s\n",
      "47:\tlearn: 0.6015038\ttest: 0.6309221\tbest: 0.6309221 (47)\ttotal: 30.3s\tremaining: 32.8s\n",
      "48:\tlearn: 0.6018334\ttest: 0.6308973\tbest: 0.6309221 (47)\ttotal: 30.9s\tremaining: 32.2s\n",
      "49:\tlearn: 0.6032398\ttest: 0.6320166\tbest: 0.6320166 (49)\ttotal: 31.5s\tremaining: 31.5s\n",
      "50:\tlearn: 0.6052477\ttest: 0.6322581\tbest: 0.6322581 (50)\ttotal: 32.1s\tremaining: 30.9s\n",
      "51:\tlearn: 0.6056454\ttest: 0.6328881\tbest: 0.6328881 (51)\ttotal: 32.7s\tremaining: 30.2s\n",
      "52:\tlearn: 0.6043047\ttest: 0.6319188\tbest: 0.6328881 (51)\ttotal: 33.3s\tremaining: 29.6s\n",
      "53:\tlearn: 0.6049701\ttest: 0.6330106\tbest: 0.6330106 (53)\ttotal: 33.9s\tremaining: 28.9s\n",
      "54:\tlearn: 0.6056949\ttest: 0.6341014\tbest: 0.6341014 (54)\ttotal: 34.6s\tremaining: 28.3s\n",
      "55:\tlearn: 0.6065363\ttest: 0.6343937\tbest: 0.6343937 (55)\ttotal: 35.2s\tremaining: 27.6s\n",
      "56:\tlearn: 0.6075564\ttest: 0.6364473\tbest: 0.6364473 (56)\ttotal: 35.8s\tremaining: 27s\n",
      "57:\tlearn: 0.6080449\ttest: 0.6377011\tbest: 0.6377011 (57)\ttotal: 36.4s\tremaining: 26.4s\n",
      "58:\tlearn: 0.6081618\ttest: 0.6378676\tbest: 0.6378676 (58)\ttotal: 37s\tremaining: 25.7s\n",
      "59:\tlearn: 0.6095538\ttest: 0.6394308\tbest: 0.6394308 (59)\ttotal: 37.6s\tremaining: 25s\n",
      "60:\tlearn: 0.6108001\ttest: 0.6411549\tbest: 0.6411549 (60)\ttotal: 38.1s\tremaining: 24.4s\n",
      "61:\tlearn: 0.6119333\ttest: 0.6416132\tbest: 0.6416132 (61)\ttotal: 38.8s\tremaining: 23.8s\n",
      "62:\tlearn: 0.6148393\ttest: 0.6424159\tbest: 0.6424159 (62)\ttotal: 39.4s\tremaining: 23.1s\n",
      "63:\tlearn: 0.6155186\ttest: 0.6419584\tbest: 0.6424159 (62)\ttotal: 40s\tremaining: 22.5s\n",
      "64:\tlearn: 0.6160543\ttest: 0.6422690\tbest: 0.6424159 (62)\ttotal: 40.6s\tremaining: 21.9s\n",
      "65:\tlearn: 0.6177033\ttest: 0.6433630\tbest: 0.6433630 (65)\ttotal: 41.2s\tremaining: 21.2s\n",
      "66:\tlearn: 0.6178193\ttest: 0.6436729\tbest: 0.6436729 (66)\ttotal: 41.9s\tremaining: 20.7s\n",
      "67:\tlearn: 0.6183166\ttest: 0.6439826\tbest: 0.6439826 (67)\ttotal: 42.6s\tremaining: 20s\n",
      "68:\tlearn: 0.6132837\ttest: 0.6385515\tbest: 0.6439826 (67)\ttotal: 43.2s\tremaining: 19.4s\n",
      "69:\tlearn: 0.6148672\ttest: 0.6395242\tbest: 0.6439826 (67)\ttotal: 43.8s\tremaining: 18.8s\n",
      "70:\tlearn: 0.6163114\ttest: 0.6400183\tbest: 0.6439826 (67)\ttotal: 44.5s\tremaining: 18.2s\n",
      "71:\tlearn: 0.6163384\ttest: 0.6397260\tbest: 0.6439826 (67)\ttotal: 45.1s\tremaining: 17.5s\n",
      "72:\tlearn: 0.6173797\ttest: 0.6414234\tbest: 0.6439826 (67)\ttotal: 45.8s\tremaining: 16.9s\n",
      "73:\tlearn: 0.6179041\ttest: 0.6423524\tbest: 0.6439826 (67)\ttotal: 46.4s\tremaining: 16.3s\n",
      "74:\tlearn: 0.6183038\ttest: 0.6429711\tbest: 0.6439826 (67)\ttotal: 47.1s\tremaining: 15.7s\n",
      "75:\tlearn: 0.6186676\ttest: 0.6438824\tbest: 0.6439826 (67)\ttotal: 47.7s\tremaining: 15.1s\n",
      "76:\tlearn: 0.6187999\ttest: 0.6443534\tbest: 0.6443534 (76)\ttotal: 48.3s\tremaining: 14.4s\n",
      "77:\tlearn: 0.6193586\ttest: 0.6455725\tbest: 0.6455725 (77)\ttotal: 49s\tremaining: 13.8s\n",
      "78:\tlearn: 0.6199965\ttest: 0.6458949\tbest: 0.6458949 (78)\ttotal: 49.6s\tremaining: 13.2s\n",
      "79:\tlearn: 0.6198013\ttest: 0.6458949\tbest: 0.6458949 (78)\ttotal: 50.2s\tremaining: 12.5s\n",
      "80:\tlearn: 0.6206658\ttest: 0.6457481\tbest: 0.6458949 (78)\ttotal: 50.8s\tremaining: 11.9s\n",
      "81:\tlearn: 0.6267662\ttest: 0.6515837\tbest: 0.6515837 (81)\ttotal: 51.4s\tremaining: 11.3s\n",
      "82:\tlearn: 0.6284698\ttest: 0.6537158\tbest: 0.6537158 (82)\ttotal: 52.1s\tremaining: 10.7s\n",
      "83:\tlearn: 0.6323672\ttest: 0.6562993\tbest: 0.6562993 (83)\ttotal: 52.7s\tremaining: 10s\n",
      "84:\tlearn: 0.6376449\ttest: 0.6611311\tbest: 0.6611311 (84)\ttotal: 53.3s\tremaining: 9.41s\n",
      "85:\tlearn: 0.6373939\ttest: 0.6624747\tbest: 0.6624747 (85)\ttotal: 53.9s\tremaining: 8.78s\n",
      "86:\tlearn: 0.6379055\ttest: 0.6626263\tbest: 0.6626263 (86)\ttotal: 54.5s\tremaining: 8.14s\n",
      "87:\tlearn: 0.6381332\ttest: 0.6632264\tbest: 0.6632264 (87)\ttotal: 55.1s\tremaining: 7.51s\n",
      "88:\tlearn: 0.6380871\ttest: 0.6624747\tbest: 0.6632264 (87)\ttotal: 55.7s\tremaining: 6.89s\n",
      "89:\tlearn: 0.6393312\ttest: 0.6629264\tbest: 0.6632264 (87)\ttotal: 56.3s\tremaining: 6.26s\n",
      "90:\tlearn: 0.6421966\ttest: 0.6657718\tbest: 0.6657718 (90)\ttotal: 56.9s\tremaining: 5.63s\n",
      "91:\tlearn: 0.6432821\ttest: 0.6663687\tbest: 0.6663687 (91)\ttotal: 57.5s\tremaining: 5s\n",
      "92:\tlearn: 0.6438604\ttest: 0.6660710\tbest: 0.6663687 (91)\ttotal: 58.1s\tremaining: 4.37s\n",
      "93:\tlearn: 0.6444746\ttest: 0.6657730\tbest: 0.6663687 (91)\ttotal: 58.7s\tremaining: 3.75s\n",
      "94:\tlearn: 0.6448254\ttest: 0.6659218\tbest: 0.6663687 (91)\ttotal: 59.3s\tremaining: 3.12s\n",
      "95:\tlearn: 0.6452160\ttest: 0.6662198\tbest: 0.6663687 (91)\ttotal: 59.9s\tremaining: 2.49s\n",
      "96:\tlearn: 0.6456355\ttest: 0.6671132\tbest: 0.6671132 (96)\ttotal: 1m\tremaining: 1.87s\n",
      "97:\tlearn: 0.6464772\ttest: 0.6675591\tbest: 0.6675591 (97)\ttotal: 1m 1s\tremaining: 1.25s\n",
      "98:\tlearn: 0.6472017\ttest: 0.6674102\tbest: 0.6675591 (97)\ttotal: 1m 1s\tremaining: 623ms\n",
      "99:\tlearn: 0.6473212\ttest: 0.6674102\tbest: 0.6675591 (97)\ttotal: 1m 2s\tremaining: 0us\n",
      "\n",
      "bestTest = 0.6675591254\n",
      "bestIteration = 97\n",
      "\n",
      "0:\tlearn: 0.3800899\ttest: 0.4002199\tbest: 0.4002199 (0)\ttotal: 604ms\tremaining: 2m\n",
      "1:\tlearn: 0.5428727\ttest: 0.5739378\tbest: 0.5739378 (1)\ttotal: 1.21s\tremaining: 2m\n",
      "2:\tlearn: 0.4965982\ttest: 0.5157709\tbest: 0.5739378 (1)\ttotal: 1.82s\tremaining: 1m 59s\n",
      "3:\tlearn: 0.4990840\ttest: 0.5167920\tbest: 0.5739378 (1)\ttotal: 2.41s\tremaining: 1m 58s\n",
      "4:\tlearn: 0.5427044\ttest: 0.5723165\tbest: 0.5739378 (1)\ttotal: 3.02s\tremaining: 1m 57s\n",
      "5:\tlearn: 0.5478367\ttest: 0.5816180\tbest: 0.5816180 (5)\ttotal: 3.64s\tremaining: 1m 57s\n",
      "6:\tlearn: 0.5676940\ttest: 0.5986842\tbest: 0.5986842 (6)\ttotal: 4.28s\tremaining: 1m 58s\n",
      "7:\tlearn: 0.5735601\ttest: 0.6037471\tbest: 0.6037471 (7)\ttotal: 4.97s\tremaining: 1m 59s\n",
      "8:\tlearn: 0.5766549\ttest: 0.6076186\tbest: 0.6076186 (8)\ttotal: 5.6s\tremaining: 1m 58s\n",
      "9:\tlearn: 0.5944425\ttest: 0.6238490\tbest: 0.6238490 (9)\ttotal: 6.21s\tremaining: 1m 57s\n",
      "10:\tlearn: 0.6015379\ttest: 0.6311213\tbest: 0.6311213 (10)\ttotal: 6.8s\tremaining: 1m 56s\n",
      "11:\tlearn: 0.6195845\ttest: 0.6480522\tbest: 0.6480522 (11)\ttotal: 7.41s\tremaining: 1m 56s\n",
      "12:\tlearn: 0.6368558\ttest: 0.6623723\tbest: 0.6623723 (12)\ttotal: 8.02s\tremaining: 1m 55s\n",
      "13:\tlearn: 0.6430655\ttest: 0.6675514\tbest: 0.6675514 (13)\ttotal: 8.61s\tremaining: 1m 54s\n",
      "14:\tlearn: 0.6624883\ttest: 0.6847237\tbest: 0.6847237 (14)\ttotal: 9.2s\tremaining: 1m 53s\n",
      "15:\tlearn: 0.6659000\ttest: 0.6859862\tbest: 0.6859862 (15)\ttotal: 9.82s\tremaining: 1m 52s\n",
      "16:\tlearn: 0.6687811\ttest: 0.6878650\tbest: 0.6878650 (16)\ttotal: 10.4s\tremaining: 1m 52s\n",
      "17:\tlearn: 0.6711739\ttest: 0.6912462\tbest: 0.6912462 (17)\ttotal: 11s\tremaining: 1m 51s\n",
      "18:\tlearn: 0.6786256\ttest: 0.6968656\tbest: 0.6968656 (18)\ttotal: 11.6s\tremaining: 1m 50s\n",
      "19:\tlearn: 0.6837109\ttest: 0.7007050\tbest: 0.7007050 (19)\ttotal: 12.2s\tremaining: 1m 50s\n",
      "20:\tlearn: 0.6845565\ttest: 0.7015148\tbest: 0.7015148 (20)\ttotal: 12.8s\tremaining: 1m 49s\n",
      "21:\tlearn: 0.6850513\ttest: 0.7019868\tbest: 0.7019868 (21)\ttotal: 13.4s\tremaining: 1m 48s\n",
      "22:\tlearn: 0.6903777\ttest: 0.7067093\tbest: 0.7067093 (22)\ttotal: 14s\tremaining: 1m 47s\n",
      "23:\tlearn: 0.6927243\ttest: 0.7090059\tbest: 0.7090059 (23)\ttotal: 14.6s\tremaining: 1m 47s\n",
      "24:\tlearn: 0.6943760\ttest: 0.7111959\tbest: 0.7111959 (24)\ttotal: 15.2s\tremaining: 1m 46s\n",
      "25:\tlearn: 0.6955219\ttest: 0.7106212\tbest: 0.7111959 (24)\ttotal: 15.8s\tremaining: 1m 45s\n",
      "26:\tlearn: 0.6976620\ttest: 0.7138019\tbest: 0.7138019 (26)\ttotal: 16.4s\tremaining: 1m 44s\n",
      "27:\tlearn: 0.6978383\ttest: 0.7130766\tbest: 0.7138019 (26)\ttotal: 17s\tremaining: 1m 44s\n",
      "28:\tlearn: 0.7026281\ttest: 0.7170208\tbest: 0.7170208 (28)\ttotal: 17.6s\tremaining: 1m 43s\n",
      "29:\tlearn: 0.7038668\ttest: 0.7177114\tbest: 0.7177114 (29)\ttotal: 18.2s\tremaining: 1m 42s\n",
      "30:\tlearn: 0.7047538\ttest: 0.7189405\tbest: 0.7189405 (30)\ttotal: 18.8s\tremaining: 1m 42s\n",
      "31:\tlearn: 0.7067605\ttest: 0.7189405\tbest: 0.7189405 (30)\ttotal: 19.4s\tremaining: 1m 41s\n",
      "32:\tlearn: 0.7110316\ttest: 0.7225941\tbest: 0.7225941 (32)\ttotal: 20s\tremaining: 1m 41s\n",
      "33:\tlearn: 0.7122495\ttest: 0.7220247\tbest: 0.7225941 (32)\ttotal: 20.6s\tremaining: 1m 40s\n",
      "34:\tlearn: 0.7149677\ttest: 0.7244621\tbest: 0.7244621 (34)\ttotal: 21.2s\tremaining: 1m 40s\n",
      "35:\tlearn: 0.7165165\ttest: 0.7268557\tbest: 0.7268557 (35)\ttotal: 21.9s\tremaining: 1m 39s\n",
      "36:\tlearn: 0.7172045\ttest: 0.7270073\tbest: 0.7270073 (36)\ttotal: 22.5s\tremaining: 1m 39s\n",
      "37:\tlearn: 0.7179809\ttest: 0.7283333\tbest: 0.7283333 (37)\ttotal: 23.2s\tremaining: 1m 38s\n",
      "38:\tlearn: 0.7192973\ttest: 0.7289759\tbest: 0.7289759 (38)\ttotal: 23.7s\tremaining: 1m 38s\n",
      "39:\tlearn: 0.7205306\ttest: 0.7302974\tbest: 0.7302974 (39)\ttotal: 24.3s\tremaining: 1m 37s\n",
      "40:\tlearn: 0.7216366\ttest: 0.7318795\tbest: 0.7318795 (40)\ttotal: 24.9s\tremaining: 1m 36s\n",
      "41:\tlearn: 0.7219843\ttest: 0.7306733\tbest: 0.7318795 (40)\ttotal: 25.5s\tremaining: 1m 36s\n",
      "42:\tlearn: 0.7225268\ttest: 0.7305215\tbest: 0.7318795 (40)\ttotal: 26.1s\tremaining: 1m 35s\n",
      "43:\tlearn: 0.7243356\ttest: 0.7317276\tbest: 0.7318795 (40)\ttotal: 26.7s\tremaining: 1m 34s\n",
      "44:\tlearn: 0.7258459\ttest: 0.7343135\tbest: 0.7343135 (44)\ttotal: 27.4s\tremaining: 1m 34s\n",
      "45:\tlearn: 0.7280561\ttest: 0.7353853\tbest: 0.7353853 (45)\ttotal: 28s\tremaining: 1m 33s\n",
      "46:\tlearn: 0.7285840\ttest: 0.7353853\tbest: 0.7353853 (45)\ttotal: 28.7s\tremaining: 1m 33s\n",
      "47:\tlearn: 0.7310459\ttest: 0.7376880\tbest: 0.7376880 (47)\ttotal: 29.3s\tremaining: 1m 32s\n",
      "48:\tlearn: 0.7312684\ttest: 0.7368204\tbest: 0.7376880 (47)\ttotal: 30s\tremaining: 1m 32s\n",
      "49:\tlearn: 0.7343806\ttest: 0.7382468\tbest: 0.7382468 (49)\ttotal: 30.6s\tremaining: 1m 31s\n",
      "50:\tlearn: 0.7363487\ttest: 0.7386574\tbest: 0.7386574 (50)\ttotal: 31.3s\tremaining: 1m 31s\n",
      "51:\tlearn: 0.7367391\ttest: 0.7388090\tbest: 0.7388090 (51)\ttotal: 31.9s\tremaining: 1m 30s\n",
      "52:\tlearn: 0.7377294\ttest: 0.7413475\tbest: 0.7413475 (52)\ttotal: 32.5s\tremaining: 1m 30s\n",
      "53:\tlearn: 0.7381723\ttest: 0.7426817\tbest: 0.7426817 (53)\ttotal: 33.1s\tremaining: 1m 29s\n",
      "54:\tlearn: 0.7390523\ttest: 0.7427870\tbest: 0.7427870 (54)\ttotal: 33.7s\tremaining: 1m 28s\n",
      "55:\tlearn: 0.7398399\ttest: 0.7427403\tbest: 0.7427870 (54)\ttotal: 34.3s\tremaining: 1m 28s\n",
      "56:\tlearn: 0.7399692\ttest: 0.7426936\tbest: 0.7427870 (54)\ttotal: 34.9s\tremaining: 1m 27s\n",
      "57:\tlearn: 0.7416812\ttest: 0.7433122\tbest: 0.7433122 (57)\ttotal: 35.5s\tremaining: 1m 26s\n",
      "58:\tlearn: 0.7431845\ttest: 0.7434170\tbest: 0.7434170 (58)\ttotal: 36.1s\tremaining: 1m 26s\n",
      "59:\tlearn: 0.7449318\ttest: 0.7444898\tbest: 0.7444898 (59)\ttotal: 36.8s\tremaining: 1m 25s\n",
      "60:\tlearn: 0.7456745\ttest: 0.7447460\tbest: 0.7447460 (60)\ttotal: 37.4s\tremaining: 1m 25s\n",
      "61:\tlearn: 0.7464408\ttest: 0.7448980\tbest: 0.7448980 (61)\ttotal: 38s\tremaining: 1m 24s\n",
      "62:\tlearn: 0.7484725\ttest: 0.7470960\tbest: 0.7470960 (62)\ttotal: 38.6s\tremaining: 1m 23s\n",
      "63:\tlearn: 0.7486887\ttest: 0.7475036\tbest: 0.7475036 (63)\ttotal: 39.2s\tremaining: 1m 23s\n",
      "64:\tlearn: 0.7510046\ttest: 0.7469978\tbest: 0.7475036 (63)\ttotal: 39.8s\tremaining: 1m 22s\n",
      "65:\tlearn: 0.7511317\ttest: 0.7478119\tbest: 0.7478119 (65)\ttotal: 40.4s\tremaining: 1m 22s\n",
      "66:\tlearn: 0.7514245\ttest: 0.7476103\tbest: 0.7478119 (65)\ttotal: 41s\tremaining: 1m 21s\n",
      "67:\tlearn: 0.7538438\ttest: 0.7489862\tbest: 0.7489862 (67)\ttotal: 41.6s\tremaining: 1m 20s\n",
      "68:\tlearn: 0.7538688\ttest: 0.7491381\tbest: 0.7491381 (68)\ttotal: 42.2s\tremaining: 1m 20s\n",
      "69:\tlearn: 0.7542231\ttest: 0.7487325\tbest: 0.7491381 (68)\ttotal: 42.8s\tremaining: 1m 19s\n",
      "70:\tlearn: 0.7543130\ttest: 0.7479708\tbest: 0.7491381 (68)\ttotal: 43.4s\tremaining: 1m 18s\n",
      "71:\tlearn: 0.7555105\ttest: 0.7485807\tbest: 0.7491381 (68)\ttotal: 44s\tremaining: 1m 18s\n",
      "72:\tlearn: 0.7559023\ttest: 0.7483269\tbest: 0.7491381 (68)\ttotal: 44.6s\tremaining: 1m 17s\n",
      "73:\tlearn: 0.7568826\ttest: 0.7495948\tbest: 0.7495948 (73)\ttotal: 45.2s\tremaining: 1m 16s\n",
      "74:\tlearn: 0.7566199\ttest: 0.7493414\tbest: 0.7495948 (73)\ttotal: 45.8s\tremaining: 1m 16s\n",
      "75:\tlearn: 0.7568471\ttest: 0.7489362\tbest: 0.7495948 (73)\ttotal: 46.4s\tremaining: 1m 15s\n",
      "76:\tlearn: 0.7573306\ttest: 0.7506572\tbest: 0.7506572 (76)\ttotal: 47s\tremaining: 1m 15s\n",
      "77:\tlearn: 0.7575574\ttest: 0.7506572\tbest: 0.7506572 (76)\ttotal: 47.6s\tremaining: 1m 14s\n",
      "78:\tlearn: 0.7594694\ttest: 0.7520711\tbest: 0.7520711 (78)\ttotal: 48.2s\tremaining: 1m 13s\n",
      "79:\tlearn: 0.7595703\ttest: 0.7520711\tbest: 0.7520711 (78)\ttotal: 48.8s\tremaining: 1m 13s\n",
      "80:\tlearn: 0.7610700\ttest: 0.7519192\tbest: 0.7520711 (78)\ttotal: 49.4s\tremaining: 1m 12s\n",
      "81:\tlearn: 0.7622691\ttest: 0.7529269\tbest: 0.7529269 (81)\ttotal: 50s\tremaining: 1m 11s\n",
      "82:\tlearn: 0.7624560\ttest: 0.7527750\tbest: 0.7529269 (81)\ttotal: 50.6s\tremaining: 1m 11s\n",
      "83:\tlearn: 0.7640585\ttest: 0.7533723\tbest: 0.7533723 (83)\ttotal: 51.2s\tremaining: 1m 10s\n",
      "84:\tlearn: 0.7647413\ttest: 0.7536232\tbest: 0.7536232 (84)\ttotal: 51.8s\tremaining: 1m 10s\n",
      "85:\tlearn: 0.7649038\ttest: 0.7535240\tbest: 0.7536232 (84)\ttotal: 52.4s\tremaining: 1m 9s\n",
      "86:\tlearn: 0.7649955\ttest: 0.7535240\tbest: 0.7536232 (84)\ttotal: 53.1s\tremaining: 1m 8s\n",
      "87:\tlearn: 0.7652052\ttest: 0.7542765\tbest: 0.7542765 (87)\ttotal: 53.7s\tremaining: 1m 8s\n",
      "88:\tlearn: 0.7664593\ttest: 0.7541709\tbest: 0.7542765 (87)\ttotal: 54.3s\tremaining: 1m 7s\n",
      "89:\tlearn: 0.7668924\ttest: 0.7545199\tbest: 0.7545199 (89)\ttotal: 55s\tremaining: 1m 7s\n",
      "90:\tlearn: 0.7672634\ttest: 0.7543683\tbest: 0.7545199 (89)\ttotal: 55.6s\tremaining: 1m 6s\n",
      "91:\tlearn: 0.7677487\ttest: 0.7545199\tbest: 0.7545199 (89)\ttotal: 56.2s\tremaining: 1m 5s\n",
      "92:\tlearn: 0.7679189\ttest: 0.7555199\tbest: 0.7555199 (92)\ttotal: 56.8s\tremaining: 1m 5s\n",
      "93:\tlearn: 0.7695236\ttest: 0.7566159\tbest: 0.7566159 (93)\ttotal: 57.4s\tremaining: 1m 4s\n",
      "94:\tlearn: 0.7704779\ttest: 0.7571142\tbest: 0.7571142 (94)\ttotal: 58s\tremaining: 1m 4s\n",
      "95:\tlearn: 0.7706009\ttest: 0.7576122\tbest: 0.7576122 (95)\ttotal: 58.6s\tremaining: 1m 3s\n",
      "96:\tlearn: 0.7721367\ttest: 0.7584551\tbest: 0.7584551 (96)\ttotal: 59.2s\tremaining: 1m 2s\n",
      "97:\tlearn: 0.7726887\ttest: 0.7582484\tbest: 0.7584551 (96)\ttotal: 59.9s\tremaining: 1m 2s\n",
      "98:\tlearn: 0.7742579\ttest: 0.7578905\tbest: 0.7584551 (96)\ttotal: 1m\tremaining: 1m 1s\n",
      "99:\tlearn: 0.7745411\ttest: 0.7573941\tbest: 0.7584551 (96)\ttotal: 1m 1s\tremaining: 1m 1s\n",
      "100:\tlearn: 0.7745411\ttest: 0.7581386\tbest: 0.7584551 (96)\ttotal: 1m 1s\tremaining: 1m\n",
      "101:\tlearn: 0.7759557\ttest: 0.7599681\tbest: 0.7599681 (101)\ttotal: 1m 2s\tremaining: 1m\n",
      "102:\tlearn: 0.7770751\ttest: 0.7602549\tbest: 0.7602549 (102)\ttotal: 1m 3s\tremaining: 59.4s\n",
      "103:\tlearn: 0.7776838\ttest: 0.7595138\tbest: 0.7602549 (102)\ttotal: 1m 3s\tremaining: 58.8s\n",
      "104:\tlearn: 0.7779658\ttest: 0.7596652\tbest: 0.7602549 (102)\ttotal: 1m 4s\tremaining: 58.2s\n",
      "105:\tlearn: 0.7787118\ttest: 0.7605578\tbest: 0.7605578 (105)\ttotal: 1m 4s\tremaining: 57.6s\n",
      "106:\tlearn: 0.7794622\ttest: 0.7619996\tbest: 0.7619996 (106)\ttotal: 1m 5s\tremaining: 57s\n",
      "107:\tlearn: 0.7800298\ttest: 0.7625871\tbest: 0.7625871 (107)\ttotal: 1m 6s\tremaining: 56.4s\n",
      "108:\tlearn: 0.7805968\ttest: 0.7633254\tbest: 0.7633254 (108)\ttotal: 1m 6s\tremaining: 55.8s\n",
      "109:\tlearn: 0.7813446\ttest: 0.7644374\tbest: 0.7644374 (109)\ttotal: 1m 7s\tremaining: 55.2s\n",
      "110:\tlearn: 0.7812841\ttest: 0.7634558\tbest: 0.7644374 (109)\ttotal: 1m 8s\tremaining: 54.6s\n",
      "111:\tlearn: 0.7825139\ttest: 0.7635282\tbest: 0.7644374 (109)\ttotal: 1m 8s\tremaining: 54s\n",
      "112:\tlearn: 0.7831385\ttest: 0.7638669\tbest: 0.7644374 (109)\ttotal: 1m 9s\tremaining: 53.4s\n",
      "113:\tlearn: 0.7841680\ttest: 0.7638669\tbest: 0.7644374 (109)\ttotal: 1m 9s\tremaining: 52.8s\n",
      "114:\tlearn: 0.7842885\ttest: 0.7641117\tbest: 0.7644374 (109)\ttotal: 1m 10s\tremaining: 52.2s\n",
      "115:\tlearn: 0.7844089\ttest: 0.7638669\tbest: 0.7644374 (109)\ttotal: 1m 11s\tremaining: 51.6s\n",
      "116:\tlearn: 0.7844089\ttest: 0.7636220\tbest: 0.7644374 (109)\ttotal: 1m 11s\tremaining: 51s\n",
      "117:\tlearn: 0.7844089\ttest: 0.7636220\tbest: 0.7644374 (109)\ttotal: 1m 12s\tremaining: 50.4s\n",
      "118:\tlearn: 0.7848089\ttest: 0.7639604\tbest: 0.7644374 (109)\ttotal: 1m 13s\tremaining: 49.8s\n",
      "119:\tlearn: 0.7855941\ttest: 0.7635644\tbest: 0.7644374 (109)\ttotal: 1m 13s\tremaining: 49.2s\n",
      "120:\tlearn: 0.7858167\ttest: 0.7640538\tbest: 0.7644374 (109)\ttotal: 1m 14s\tremaining: 48.6s\n",
      "121:\tlearn: 0.7857567\ttest: 0.7640538\tbest: 0.7644374 (109)\ttotal: 1m 15s\tremaining: 48s\n",
      "122:\tlearn: 0.7857567\ttest: 0.7640538\tbest: 0.7644374 (109)\ttotal: 1m 15s\tremaining: 47.4s\n",
      "123:\tlearn: 0.7851485\ttest: 0.7632257\tbest: 0.7644374 (109)\ttotal: 1m 16s\tremaining: 46.8s\n",
      "124:\tlearn: 0.7864169\ttest: 0.7642405\tbest: 0.7644374 (109)\ttotal: 1m 16s\tremaining: 46.2s\n",
      "125:\tlearn: 0.7864169\ttest: 0.7642405\tbest: 0.7644374 (109)\ttotal: 1m 17s\tremaining: 45.6s\n",
      "126:\tlearn: 0.7865368\ttest: 0.7642405\tbest: 0.7644374 (109)\ttotal: 1m 18s\tremaining: 45s\n",
      "127:\tlearn: 0.7862969\ttest: 0.7642405\tbest: 0.7644374 (109)\ttotal: 1m 18s\tremaining: 44.4s\n",
      "128:\tlearn: 0.7862969\ttest: 0.7642405\tbest: 0.7644374 (109)\ttotal: 1m 19s\tremaining: 43.7s\n",
      "129:\tlearn: 0.7863569\ttest: 0.7642405\tbest: 0.7644374 (109)\ttotal: 1m 20s\tremaining: 43.1s\n",
      "130:\tlearn: 0.7863358\ttest: 0.7642405\tbest: 0.7644374 (109)\ttotal: 1m 20s\tremaining: 42.5s\n",
      "131:\tlearn: 0.7862546\ttest: 0.7642405\tbest: 0.7644374 (109)\ttotal: 1m 21s\tremaining: 41.9s\n",
      "132:\tlearn: 0.7862546\ttest: 0.7639960\tbest: 0.7644374 (109)\ttotal: 1m 21s\tremaining: 41.3s\n",
      "133:\tlearn: 0.7872740\ttest: 0.7651830\tbest: 0.7651830 (133)\ttotal: 1m 22s\tremaining: 40.7s\n",
      "134:\tlearn: 0.7882736\ttest: 0.7658566\tbest: 0.7658566 (134)\ttotal: 1m 23s\tremaining: 40.1s\n",
      "135:\tlearn: 0.7886712\ttest: 0.7654614\tbest: 0.7658566 (134)\ttotal: 1m 23s\tremaining: 39.4s\n",
      "136:\tlearn: 0.7886712\ttest: 0.7654614\tbest: 0.7658566 (134)\ttotal: 1m 24s\tremaining: 38.8s\n",
      "137:\tlearn: 0.7886712\ttest: 0.7654614\tbest: 0.7658566 (134)\ttotal: 1m 25s\tremaining: 38.2s\n",
      "138:\tlearn: 0.7887908\ttest: 0.7654614\tbest: 0.7658566 (134)\ttotal: 1m 25s\tremaining: 37.6s\n",
      "139:\tlearn: 0.7886115\ttest: 0.7654614\tbest: 0.7658566 (134)\ttotal: 1m 26s\tremaining: 37s\n",
      "140:\tlearn: 0.7886115\ttest: 0.7654614\tbest: 0.7658566 (134)\ttotal: 1m 26s\tremaining: 36.4s\n",
      "141:\tlearn: 0.7886893\ttest: 0.7656126\tbest: 0.7658566 (134)\ttotal: 1m 27s\tremaining: 35.7s\n",
      "142:\tlearn: 0.7891828\ttest: 0.7662517\tbest: 0.7662517 (142)\ttotal: 1m 28s\tremaining: 35.1s\n",
      "143:\tlearn: 0.7893023\ttest: 0.7662517\tbest: 0.7662517 (142)\ttotal: 1m 28s\tremaining: 34.5s\n",
      "144:\tlearn: 0.7893412\ttest: 0.7662517\tbest: 0.7662517 (142)\ttotal: 1m 29s\tremaining: 33.9s\n",
      "145:\tlearn: 0.7896399\ttest: 0.7661004\tbest: 0.7662517 (142)\ttotal: 1m 29s\tremaining: 33.3s\n",
      "146:\tlearn: 0.7901953\ttest: 0.7664955\tbest: 0.7664955 (146)\ttotal: 1m 30s\tremaining: 32.6s\n",
      "147:\tlearn: 0.7902939\ttest: 0.7667391\tbest: 0.7667391 (147)\ttotal: 1m 31s\tremaining: 32s\n",
      "148:\tlearn: 0.7911102\ttest: 0.7665877\tbest: 0.7667391 (147)\ttotal: 1m 31s\tremaining: 31.4s\n",
      "149:\tlearn: 0.7904522\ttest: 0.7666469\tbest: 0.7667391 (147)\ttotal: 1m 32s\tremaining: 30.8s\n",
      "150:\tlearn: 0.7905715\ttest: 0.7664032\tbest: 0.7667391 (147)\ttotal: 1m 33s\tremaining: 30.2s\n",
      "151:\tlearn: 0.7911676\ttest: 0.7666469\tbest: 0.7667391 (147)\ttotal: 1m 33s\tremaining: 29.6s\n",
      "152:\tlearn: 0.7913463\ttest: 0.7666469\tbest: 0.7667391 (147)\ttotal: 1m 34s\tremaining: 28.9s\n",
      "153:\tlearn: 0.7917837\ttest: 0.7665877\tbest: 0.7667391 (147)\ttotal: 1m 34s\tremaining: 28.3s\n",
      "154:\tlearn: 0.7919027\ttest: 0.7668312\tbest: 0.7668312 (154)\ttotal: 1m 35s\tremaining: 27.7s\n",
      "155:\tlearn: 0.7921650\ttest: 0.7663183\tbest: 0.7668312 (154)\ttotal: 1m 36s\tremaining: 27.1s\n",
      "156:\tlearn: 0.7922244\ttest: 0.7664694\tbest: 0.7668312 (154)\ttotal: 1m 36s\tremaining: 26.5s\n",
      "157:\tlearn: 0.7925605\ttest: 0.7667127\tbest: 0.7668312 (154)\ttotal: 1m 37s\tremaining: 25.9s\n",
      "158:\tlearn: 0.7926589\ttest: 0.7665615\tbest: 0.7668312 (154)\ttotal: 1m 38s\tremaining: 25.3s\n",
      "159:\tlearn: 0.7930746\ttest: 0.7660750\tbest: 0.7668312 (154)\ttotal: 1m 38s\tremaining: 24.7s\n",
      "160:\tlearn: 0.7932323\ttest: 0.7660750\tbest: 0.7668312 (154)\ttotal: 1m 39s\tremaining: 24.1s\n",
      "161:\tlearn: 0.7935884\ttest: 0.7665615\tbest: 0.7668312 (154)\ttotal: 1m 40s\tremaining: 23.5s\n",
      "162:\tlearn: 0.7945340\ttest: 0.7663773\tbest: 0.7668312 (154)\ttotal: 1m 40s\tremaining: 22.9s\n",
      "163:\tlearn: 0.7948693\ttest: 0.7659239\tbest: 0.7668312 (154)\ttotal: 1m 41s\tremaining: 22.3s\n",
      "164:\tlearn: 0.7954210\ttest: 0.7663183\tbest: 0.7668312 (154)\ttotal: 1m 42s\tremaining: 21.6s\n",
      "165:\tlearn: 0.7955394\ttest: 0.7663183\tbest: 0.7668312 (154)\ttotal: 1m 42s\tremaining: 21s\n",
      "166:\tlearn: 0.7957169\ttest: 0.7660750\tbest: 0.7668312 (154)\ttotal: 1m 43s\tremaining: 20.4s\n",
      "167:\tlearn: 0.7957560\ttest: 0.7658315\tbest: 0.7668312 (154)\ttotal: 1m 43s\tremaining: 19.8s\n",
      "168:\tlearn: 0.7959925\ttest: 0.7657729\tbest: 0.7668312 (154)\ttotal: 1m 44s\tremaining: 19.1s\n",
      "169:\tlearn: 0.7963663\ttest: 0.7656805\tbest: 0.7668312 (154)\ttotal: 1m 44s\tremaining: 18.5s\n",
      "170:\tlearn: 0.7963072\ttest: 0.7655295\tbest: 0.7668312 (154)\ttotal: 1m 45s\tremaining: 17.9s\n",
      "171:\tlearn: 0.7961098\ttest: 0.7655295\tbest: 0.7668312 (154)\ttotal: 1m 46s\tremaining: 17.3s\n",
      "172:\tlearn: 0.7962872\ttest: 0.7656219\tbest: 0.7668312 (154)\ttotal: 1m 46s\tremaining: 16.7s\n",
      "173:\tlearn: 0.7968581\ttest: 0.7658652\tbest: 0.7668312 (154)\ttotal: 1m 47s\tremaining: 16s\n",
      "174:\tlearn: 0.7970943\ttest: 0.7657143\tbest: 0.7668312 (154)\ttotal: 1m 47s\tremaining: 15.4s\n",
      "175:\tlearn: 0.7975267\ttest: 0.7658652\tbest: 0.7668312 (154)\ttotal: 1m 48s\tremaining: 14.8s\n",
      "176:\tlearn: 0.7978217\ttest: 0.7658652\tbest: 0.7668312 (154)\ttotal: 1m 49s\tremaining: 14.2s\n",
      "177:\tlearn: 0.7979402\ttest: 0.7663846\tbest: 0.7668312 (154)\ttotal: 1m 49s\tremaining: 13.6s\n",
      "178:\tlearn: 0.7979010\ttest: 0.7666601\tbest: 0.7668312 (154)\ttotal: 1m 50s\tremaining: 12.9s\n",
      "179:\tlearn: 0.7981368\ttest: 0.7669025\tbest: 0.7669025 (179)\ttotal: 1m 50s\tremaining: 12.3s\n",
      "180:\tlearn: 0.7985104\ttest: 0.7666601\tbest: 0.7669025 (179)\ttotal: 1m 51s\tremaining: 11.7s\n",
      "181:\tlearn: 0.7988047\ttest: 0.7666601\tbest: 0.7669025 (179)\ttotal: 1m 52s\tremaining: 11.1s\n",
      "182:\tlearn: 0.7991576\ttest: 0.7666601\tbest: 0.7669025 (179)\ttotal: 1m 52s\tremaining: 10.5s\n",
      "183:\tlearn: 0.7998237\ttest: 0.7676887\tbest: 0.7676887 (183)\ttotal: 1m 53s\tremaining: 9.85s\n",
      "184:\tlearn: 0.7999412\ttest: 0.7676887\tbest: 0.7676887 (183)\ttotal: 1m 53s\tremaining: 9.23s\n",
      "185:\tlearn: 0.8007238\ttest: 0.7682353\tbest: 0.7682353 (185)\ttotal: 1m 54s\tremaining: 8.62s\n",
      "186:\tlearn: 0.8007238\ttest: 0.7682353\tbest: 0.7682353 (185)\ttotal: 1m 55s\tremaining: 8s\n",
      "187:\tlearn: 0.8010364\ttest: 0.7679937\tbest: 0.7682353 (185)\ttotal: 1m 55s\tremaining: 7.38s\n",
      "188:\tlearn: 0.8012122\ttest: 0.7685367\tbest: 0.7685367 (188)\ttotal: 1m 56s\tremaining: 6.77s\n",
      "189:\tlearn: 0.8013879\ttest: 0.7685367\tbest: 0.7685367 (188)\ttotal: 1m 56s\tremaining: 6.16s\n",
      "190:\tlearn: 0.8015636\ttest: 0.7685367\tbest: 0.7685367 (188)\ttotal: 1m 57s\tremaining: 5.54s\n",
      "191:\tlearn: 0.8015830\ttest: 0.7687782\tbest: 0.7687782 (191)\ttotal: 1m 58s\tremaining: 4.92s\n",
      "192:\tlearn: 0.8018172\ttest: 0.7687782\tbest: 0.7687782 (191)\ttotal: 1m 58s\tremaining: 4.31s\n",
      "193:\tlearn: 0.8021683\ttest: 0.7687782\tbest: 0.7687782 (191)\ttotal: 1m 59s\tremaining: 3.69s\n",
      "194:\tlearn: 0.8022853\ttest: 0.7686275\tbest: 0.7687782 (191)\ttotal: 2m\tremaining: 3.08s\n",
      "195:\tlearn: 0.8032019\ttest: 0.7685675\tbest: 0.7687782 (191)\ttotal: 2m\tremaining: 2.46s\n",
      "196:\tlearn: 0.8032995\ttest: 0.7685675\tbest: 0.7687782 (191)\ttotal: 2m 1s\tremaining: 1.85s\n",
      "197:\tlearn: 0.8035915\ttest: 0.7685675\tbest: 0.7687782 (191)\ttotal: 2m 1s\tremaining: 1.23s\n",
      "198:\tlearn: 0.8037666\ttest: 0.7688088\tbest: 0.7688088 (198)\ttotal: 2m 2s\tremaining: 615ms\n",
      "199:\tlearn: 0.8040000\ttest: 0.7694417\tbest: 0.7694417 (199)\ttotal: 2m 3s\tremaining: 0us\n",
      "\n",
      "bestTest = 0.7694417238\n",
      "bestIteration = 199\n",
      "\n",
      "0:\tlearn: 0.3800899\ttest: 0.4002199\tbest: 0.4002199 (0)\ttotal: 668ms\tremaining: 2m 13s\n",
      "1:\tlearn: 0.3869771\ttest: 0.4091528\tbest: 0.4091528 (1)\ttotal: 1.36s\tremaining: 2m 14s\n",
      "2:\tlearn: 0.3950448\ttest: 0.4154432\tbest: 0.4154432 (2)\ttotal: 2.06s\tremaining: 2m 15s\n",
      "3:\tlearn: 0.4356317\ttest: 0.4503171\tbest: 0.4503171 (3)\ttotal: 2.75s\tremaining: 2m 14s\n",
      "4:\tlearn: 0.4356962\ttest: 0.4544254\tbest: 0.4544254 (4)\ttotal: 3.4s\tremaining: 2m 12s\n",
      "5:\tlearn: 0.4398357\ttest: 0.4589905\tbest: 0.4589905 (5)\ttotal: 4.04s\tremaining: 2m 10s\n",
      "6:\tlearn: 0.4783001\ttest: 0.4994893\tbest: 0.4994893 (6)\ttotal: 4.67s\tremaining: 2m 8s\n",
      "7:\tlearn: 0.5081895\ttest: 0.5311573\tbest: 0.5311573 (7)\ttotal: 5.29s\tremaining: 2m 6s\n",
      "8:\tlearn: 0.4809980\ttest: 0.5048346\tbest: 0.5311573 (7)\ttotal: 5.92s\tremaining: 2m 5s\n",
      "9:\tlearn: 0.4836308\ttest: 0.5072501\tbest: 0.5311573 (7)\ttotal: 6.54s\tremaining: 2m 4s\n",
      "10:\tlearn: 0.4835913\ttest: 0.5102818\tbest: 0.5311573 (7)\ttotal: 7.15s\tremaining: 2m 2s\n",
      "11:\tlearn: 0.4815911\ttest: 0.5090170\tbest: 0.5311573 (7)\ttotal: 7.78s\tremaining: 2m 1s\n",
      "12:\tlearn: 0.4817199\ttest: 0.5087764\tbest: 0.5311573 (7)\ttotal: 8.43s\tremaining: 2m 1s\n",
      "13:\tlearn: 0.4817725\ttest: 0.5096643\tbest: 0.5311573 (7)\ttotal: 9.07s\tremaining: 2m\n",
      "14:\tlearn: 0.4839166\ttest: 0.5133147\tbest: 0.5311573 (7)\ttotal: 9.71s\tremaining: 1m 59s\n",
      "15:\tlearn: 0.4615083\ttest: 0.4877039\tbest: 0.5311573 (7)\ttotal: 10.3s\tremaining: 1m 58s\n",
      "16:\tlearn: 0.4906940\ttest: 0.5186869\tbest: 0.5311573 (7)\ttotal: 11s\tremaining: 1m 58s\n",
      "17:\tlearn: 0.4927851\ttest: 0.5186869\tbest: 0.5311573 (7)\ttotal: 11.6s\tremaining: 1m 57s\n",
      "18:\tlearn: 0.4919143\ttest: 0.5205756\tbest: 0.5311573 (7)\ttotal: 12.2s\tremaining: 1m 56s\n",
      "19:\tlearn: 0.4962741\ttest: 0.5214322\tbest: 0.5311573 (7)\ttotal: 12.8s\tremaining: 1m 55s\n",
      "20:\tlearn: 0.4989193\ttest: 0.5231621\tbest: 0.5311573 (7)\ttotal: 13.4s\tremaining: 1m 54s\n",
      "21:\tlearn: 0.5158536\ttest: 0.5478842\tbest: 0.5478842 (21)\ttotal: 14s\tremaining: 1m 53s\n",
      "22:\tlearn: 0.5168737\ttest: 0.5520474\tbest: 0.5520474 (22)\ttotal: 14.6s\tremaining: 1m 52s\n",
      "23:\tlearn: 0.4996821\ttest: 0.5291165\tbest: 0.5520474 (22)\ttotal: 15.2s\tremaining: 1m 51s\n",
      "24:\tlearn: 0.5006037\ttest: 0.5291165\tbest: 0.5520474 (22)\ttotal: 15.8s\tremaining: 1m 50s\n",
      "25:\tlearn: 0.5171808\ttest: 0.5476543\tbest: 0.5520474 (22)\ttotal: 16.4s\tremaining: 1m 50s\n",
      "26:\tlearn: 0.5158451\ttest: 0.5426087\tbest: 0.5520474 (22)\ttotal: 17s\tremaining: 1m 49s\n",
      "27:\tlearn: 0.5360876\ttest: 0.5669752\tbest: 0.5669752 (27)\ttotal: 17.6s\tremaining: 1m 48s\n",
      "28:\tlearn: 0.5502904\ttest: 0.5844530\tbest: 0.5844530 (28)\ttotal: 18.2s\tremaining: 1m 47s\n",
      "29:\tlearn: 0.5518378\ttest: 0.5860086\tbest: 0.5860086 (29)\ttotal: 18.8s\tremaining: 1m 46s\n",
      "30:\tlearn: 0.5532434\ttest: 0.5868263\tbest: 0.5868263 (30)\ttotal: 19.4s\tremaining: 1m 46s\n",
      "31:\tlearn: 0.5544373\ttest: 0.5875030\tbest: 0.5875030 (31)\ttotal: 20.1s\tremaining: 1m 45s\n",
      "32:\tlearn: 0.5551085\ttest: 0.5903989\tbest: 0.5903989 (32)\ttotal: 20.7s\tremaining: 1m 44s\n",
      "33:\tlearn: 0.5565027\ttest: 0.5911260\tbest: 0.5911260 (33)\ttotal: 21.3s\tremaining: 1m 43s\n",
      "34:\tlearn: 0.5693642\ttest: 0.6031596\tbest: 0.6031596 (34)\ttotal: 21.9s\tremaining: 1m 43s\n",
      "35:\tlearn: 0.5701047\ttest: 0.6038181\tbest: 0.6038181 (35)\ttotal: 22.5s\tremaining: 1m 42s\n",
      "36:\tlearn: 0.5711193\ttest: 0.6050460\tbest: 0.6050460 (36)\ttotal: 23.1s\tremaining: 1m 41s\n",
      "37:\tlearn: 0.5728184\ttest: 0.6057035\tbest: 0.6057035 (37)\ttotal: 23.7s\tremaining: 1m 40s\n",
      "38:\tlearn: 0.5734870\ttest: 0.6055608\tbest: 0.6057035 (37)\ttotal: 24.3s\tremaining: 1m 40s\n",
      "39:\tlearn: 0.5748891\ttest: 0.6085116\tbest: 0.6085116 (39)\ttotal: 24.9s\tremaining: 1m 39s\n",
      "40:\tlearn: 0.5780513\ttest: 0.6097561\tbest: 0.6097561 (40)\ttotal: 25.6s\tremaining: 1m 39s\n",
      "41:\tlearn: 0.5787808\ttest: 0.6107335\tbest: 0.6107335 (41)\ttotal: 26.2s\tremaining: 1m 38s\n",
      "42:\tlearn: 0.5777831\ttest: 0.6103683\tbest: 0.6107335 (41)\ttotal: 26.9s\tremaining: 1m 38s\n",
      "43:\tlearn: 0.5793622\ttest: 0.6123214\tbest: 0.6123214 (43)\ttotal: 27.5s\tremaining: 1m 37s\n",
      "44:\tlearn: 0.5908822\ttest: 0.6196133\tbest: 0.6196133 (44)\ttotal: 28.1s\tremaining: 1m 36s\n",
      "45:\tlearn: 0.5906048\ttest: 0.6197249\tbest: 0.6197249 (45)\ttotal: 28.7s\tremaining: 1m 36s\n",
      "46:\tlearn: 0.5926933\ttest: 0.6213637\tbest: 0.6213637 (46)\ttotal: 29.3s\tremaining: 1m 35s\n",
      "47:\tlearn: 0.6015038\ttest: 0.6309221\tbest: 0.6309221 (47)\ttotal: 30s\tremaining: 1m 34s\n",
      "48:\tlearn: 0.6018334\ttest: 0.6308973\tbest: 0.6309221 (47)\ttotal: 30.6s\tremaining: 1m 34s\n",
      "49:\tlearn: 0.6032398\ttest: 0.6320166\tbest: 0.6320166 (49)\ttotal: 31.2s\tremaining: 1m 33s\n",
      "50:\tlearn: 0.6052477\ttest: 0.6322581\tbest: 0.6322581 (50)\ttotal: 31.8s\tremaining: 1m 32s\n",
      "51:\tlearn: 0.6056454\ttest: 0.6328881\tbest: 0.6328881 (51)\ttotal: 32.4s\tremaining: 1m 32s\n",
      "52:\tlearn: 0.6043047\ttest: 0.6319188\tbest: 0.6328881 (51)\ttotal: 33.1s\tremaining: 1m 31s\n",
      "53:\tlearn: 0.6049701\ttest: 0.6330106\tbest: 0.6330106 (53)\ttotal: 33.7s\tremaining: 1m 31s\n",
      "54:\tlearn: 0.6056949\ttest: 0.6341014\tbest: 0.6341014 (54)\ttotal: 34.3s\tremaining: 1m 30s\n",
      "55:\tlearn: 0.6065363\ttest: 0.6343937\tbest: 0.6343937 (55)\ttotal: 34.9s\tremaining: 1m 29s\n",
      "56:\tlearn: 0.6075564\ttest: 0.6364473\tbest: 0.6364473 (56)\ttotal: 35.6s\tremaining: 1m 29s\n",
      "57:\tlearn: 0.6080449\ttest: 0.6377011\tbest: 0.6377011 (57)\ttotal: 36.2s\tremaining: 1m 28s\n",
      "58:\tlearn: 0.6081618\ttest: 0.6378676\tbest: 0.6378676 (58)\ttotal: 36.8s\tremaining: 1m 27s\n",
      "59:\tlearn: 0.6095538\ttest: 0.6394308\tbest: 0.6394308 (59)\ttotal: 37.4s\tremaining: 1m 27s\n",
      "60:\tlearn: 0.6108001\ttest: 0.6411549\tbest: 0.6411549 (60)\ttotal: 38s\tremaining: 1m 26s\n",
      "61:\tlearn: 0.6119333\ttest: 0.6416132\tbest: 0.6416132 (61)\ttotal: 38.6s\tremaining: 1m 25s\n",
      "62:\tlearn: 0.6148393\ttest: 0.6424159\tbest: 0.6424159 (62)\ttotal: 39.2s\tremaining: 1m 25s\n",
      "63:\tlearn: 0.6155186\ttest: 0.6419584\tbest: 0.6424159 (62)\ttotal: 39.9s\tremaining: 1m 24s\n",
      "64:\tlearn: 0.6160543\ttest: 0.6422690\tbest: 0.6424159 (62)\ttotal: 40.5s\tremaining: 1m 24s\n",
      "65:\tlearn: 0.6177033\ttest: 0.6433630\tbest: 0.6433630 (65)\ttotal: 41.2s\tremaining: 1m 23s\n",
      "66:\tlearn: 0.6178193\ttest: 0.6436729\tbest: 0.6436729 (66)\ttotal: 41.8s\tremaining: 1m 22s\n",
      "67:\tlearn: 0.6183166\ttest: 0.6439826\tbest: 0.6439826 (67)\ttotal: 42.4s\tremaining: 1m 22s\n",
      "68:\tlearn: 0.6132837\ttest: 0.6385515\tbest: 0.6439826 (67)\ttotal: 43.1s\tremaining: 1m 21s\n",
      "69:\tlearn: 0.6148672\ttest: 0.6395242\tbest: 0.6439826 (67)\ttotal: 43.7s\tremaining: 1m 21s\n",
      "70:\tlearn: 0.6163114\ttest: 0.6400183\tbest: 0.6439826 (67)\ttotal: 44.3s\tremaining: 1m 20s\n",
      "71:\tlearn: 0.6163384\ttest: 0.6397260\tbest: 0.6439826 (67)\ttotal: 44.9s\tremaining: 1m 19s\n",
      "72:\tlearn: 0.6173797\ttest: 0.6414234\tbest: 0.6439826 (67)\ttotal: 45.5s\tremaining: 1m 19s\n",
      "73:\tlearn: 0.6179041\ttest: 0.6423524\tbest: 0.6439826 (67)\ttotal: 46.1s\tremaining: 1m 18s\n",
      "74:\tlearn: 0.6183038\ttest: 0.6429711\tbest: 0.6439826 (67)\ttotal: 46.7s\tremaining: 1m 17s\n",
      "75:\tlearn: 0.6186676\ttest: 0.6438824\tbest: 0.6439826 (67)\ttotal: 47.3s\tremaining: 1m 17s\n",
      "76:\tlearn: 0.6187999\ttest: 0.6443534\tbest: 0.6443534 (76)\ttotal: 48s\tremaining: 1m 16s\n",
      "77:\tlearn: 0.6193586\ttest: 0.6455725\tbest: 0.6455725 (77)\ttotal: 48.6s\tremaining: 1m 15s\n",
      "78:\tlearn: 0.6199965\ttest: 0.6458949\tbest: 0.6458949 (78)\ttotal: 49.2s\tremaining: 1m 15s\n",
      "79:\tlearn: 0.6198013\ttest: 0.6458949\tbest: 0.6458949 (78)\ttotal: 49.8s\tremaining: 1m 14s\n",
      "80:\tlearn: 0.6206658\ttest: 0.6457481\tbest: 0.6458949 (78)\ttotal: 50.4s\tremaining: 1m 13s\n",
      "81:\tlearn: 0.6267662\ttest: 0.6515837\tbest: 0.6515837 (81)\ttotal: 51s\tremaining: 1m 13s\n",
      "82:\tlearn: 0.6284698\ttest: 0.6537158\tbest: 0.6537158 (82)\ttotal: 51.6s\tremaining: 1m 12s\n",
      "83:\tlearn: 0.6323672\ttest: 0.6562993\tbest: 0.6562993 (83)\ttotal: 52.2s\tremaining: 1m 12s\n",
      "84:\tlearn: 0.6376449\ttest: 0.6611311\tbest: 0.6611311 (84)\ttotal: 52.8s\tremaining: 1m 11s\n",
      "85:\tlearn: 0.6373939\ttest: 0.6624747\tbest: 0.6624747 (85)\ttotal: 53.4s\tremaining: 1m 10s\n",
      "86:\tlearn: 0.6379055\ttest: 0.6626263\tbest: 0.6626263 (86)\ttotal: 54s\tremaining: 1m 10s\n",
      "87:\tlearn: 0.6381332\ttest: 0.6632264\tbest: 0.6632264 (87)\ttotal: 54.6s\tremaining: 1m 9s\n",
      "88:\tlearn: 0.6380871\ttest: 0.6624747\tbest: 0.6632264 (87)\ttotal: 55.2s\tremaining: 1m 8s\n",
      "89:\tlearn: 0.6393312\ttest: 0.6629264\tbest: 0.6632264 (87)\ttotal: 55.8s\tremaining: 1m 8s\n",
      "90:\tlearn: 0.6421966\ttest: 0.6657718\tbest: 0.6657718 (90)\ttotal: 56.4s\tremaining: 1m 7s\n",
      "91:\tlearn: 0.6432821\ttest: 0.6663687\tbest: 0.6663687 (91)\ttotal: 57s\tremaining: 1m 6s\n",
      "92:\tlearn: 0.6438604\ttest: 0.6660710\tbest: 0.6663687 (91)\ttotal: 57.7s\tremaining: 1m 6s\n",
      "93:\tlearn: 0.6444746\ttest: 0.6657730\tbest: 0.6663687 (91)\ttotal: 58.3s\tremaining: 1m 5s\n",
      "94:\tlearn: 0.6448254\ttest: 0.6659218\tbest: 0.6663687 (91)\ttotal: 58.9s\tremaining: 1m 5s\n",
      "95:\tlearn: 0.6452160\ttest: 0.6662198\tbest: 0.6663687 (91)\ttotal: 59.6s\tremaining: 1m 4s\n",
      "96:\tlearn: 0.6456355\ttest: 0.6671132\tbest: 0.6671132 (96)\ttotal: 1m\tremaining: 1m 3s\n",
      "97:\tlearn: 0.6464772\ttest: 0.6675591\tbest: 0.6675591 (97)\ttotal: 1m\tremaining: 1m 3s\n",
      "98:\tlearn: 0.6472017\ttest: 0.6674102\tbest: 0.6675591 (97)\ttotal: 1m 1s\tremaining: 1m 2s\n",
      "99:\tlearn: 0.6473212\ttest: 0.6674102\tbest: 0.6675591 (97)\ttotal: 1m 2s\tremaining: 1m 2s\n",
      "100:\tlearn: 0.6481607\ttest: 0.6680045\tbest: 0.6680045 (100)\ttotal: 1m 2s\tremaining: 1m 1s\n",
      "101:\tlearn: 0.6482735\ttest: 0.6683014\tbest: 0.6683014 (101)\ttotal: 1m 3s\tremaining: 1m\n",
      "102:\tlearn: 0.6489596\ttest: 0.6685982\tbest: 0.6685982 (102)\ttotal: 1m 3s\tremaining: 1m\n",
      "103:\tlearn: 0.6490724\ttest: 0.6693405\tbest: 0.6693405 (103)\ttotal: 1m 4s\tremaining: 59.5s\n",
      "104:\tlearn: 0.6504532\ttest: 0.6711141\tbest: 0.6711141 (104)\ttotal: 1m 5s\tremaining: 58.9s\n",
      "105:\tlearn: 0.6515160\ttest: 0.6717048\tbest: 0.6717048 (105)\ttotal: 1m 5s\tremaining: 58.2s\n",
      "106:\tlearn: 0.6543660\ttest: 0.6740576\tbest: 0.6740576 (106)\ttotal: 1m 6s\tremaining: 57.6s\n",
      "107:\tlearn: 0.6547819\ttest: 0.6740576\tbest: 0.6740576 (106)\ttotal: 1m 6s\tremaining: 57s\n",
      "108:\tlearn: 0.6554217\ttest: 0.6743516\tbest: 0.6743516 (108)\ttotal: 1m 7s\tremaining: 56.4s\n",
      "109:\tlearn: 0.6559489\ttest: 0.6739082\tbest: 0.6743516 (108)\ttotal: 1m 8s\tremaining: 55.7s\n",
      "110:\tlearn: 0.6561747\ttest: 0.6744959\tbest: 0.6744959 (110)\ttotal: 1m 8s\tremaining: 55.1s\n",
      "111:\tlearn: 0.6559857\ttest: 0.6746454\tbest: 0.6746454 (111)\ttotal: 1m 9s\tremaining: 54.4s\n",
      "112:\tlearn: 0.6569637\ttest: 0.6761062\tbest: 0.6761062 (112)\ttotal: 1m 9s\tremaining: 53.8s\n",
      "113:\tlearn: 0.6574131\ttest: 0.6761062\tbest: 0.6761062 (112)\ttotal: 1m 10s\tremaining: 53.2s\n",
      "114:\tlearn: 0.6581641\ttest: 0.6763990\tbest: 0.6763990 (114)\ttotal: 1m 11s\tremaining: 52.5s\n",
      "115:\tlearn: 0.6596291\ttest: 0.6769843\tbest: 0.6769843 (115)\ttotal: 1m 11s\tremaining: 51.9s\n",
      "116:\tlearn: 0.6626184\ttest: 0.6810668\tbest: 0.6810668 (116)\ttotal: 1m 12s\tremaining: 51.3s\n",
      "117:\tlearn: 0.6629157\ttest: 0.6801941\tbest: 0.6810668 (116)\ttotal: 1m 12s\tremaining: 50.7s\n",
      "118:\tlearn: 0.6632136\ttest: 0.6801941\tbest: 0.6810668 (116)\ttotal: 1m 13s\tremaining: 50.1s\n",
      "119:\tlearn: 0.6671839\ttest: 0.6843839\tbest: 0.6843839 (119)\ttotal: 1m 14s\tremaining: 49.5s\n",
      "120:\tlearn: 0.6673316\ttest: 0.6843839\tbest: 0.6843839 (119)\ttotal: 1m 14s\tremaining: 48.8s\n",
      "121:\tlearn: 0.6676637\ttest: 0.6846728\tbest: 0.6846728 (121)\ttotal: 1m 15s\tremaining: 48.2s\n",
      "122:\tlearn: 0.6693214\ttest: 0.6866915\tbest: 0.6866915 (122)\ttotal: 1m 15s\tremaining: 47.6s\n",
      "123:\tlearn: 0.6699469\ttest: 0.6879930\tbest: 0.6879930 (123)\ttotal: 1m 16s\tremaining: 47s\n",
      "124:\tlearn: 0.6704979\ttest: 0.6884312\tbest: 0.6884312 (124)\ttotal: 1m 17s\tremaining: 46.3s\n",
      "125:\tlearn: 0.6710098\ttest: 0.6891419\tbest: 0.6891419 (125)\ttotal: 1m 17s\tremaining: 45.7s\n",
      "126:\tlearn: 0.6715594\ttest: 0.6901532\tbest: 0.6901532 (126)\ttotal: 1m 18s\tremaining: 45.1s\n",
      "127:\tlearn: 0.6717069\ttest: 0.6898665\tbest: 0.6901532 (126)\ttotal: 1m 19s\tremaining: 44.4s\n",
      "128:\tlearn: 0.6717802\ttest: 0.6897155\tbest: 0.6901532 (126)\ttotal: 1m 19s\tremaining: 43.8s\n",
      "129:\tlearn: 0.6720362\ttest: 0.6902887\tbest: 0.6902887 (129)\ttotal: 1m 20s\tremaining: 43.2s\n",
      "130:\tlearn: 0.6722921\ttest: 0.6902887\tbest: 0.6902887 (129)\ttotal: 1m 20s\tremaining: 42.5s\n",
      "131:\tlearn: 0.6733131\ttest: 0.6914173\tbest: 0.6914173 (131)\ttotal: 1m 21s\tremaining: 41.9s\n",
      "132:\tlearn: 0.6742253\ttest: 0.6912664\tbest: 0.6914173 (131)\ttotal: 1m 21s\tremaining: 41.3s\n",
      "133:\tlearn: 0.6752790\ttest: 0.6918212\tbest: 0.6918212 (133)\ttotal: 1m 22s\tremaining: 40.7s\n",
      "134:\tlearn: 0.6764787\ttest: 0.6926765\tbest: 0.6926765 (134)\ttotal: 1m 23s\tremaining: 40s\n",
      "135:\tlearn: 0.6768420\ttest: 0.6926765\tbest: 0.6926765 (134)\ttotal: 1m 23s\tremaining: 39.4s\n",
      "136:\tlearn: 0.6778899\ttest: 0.6935133\tbest: 0.6935133 (136)\ttotal: 1m 24s\tremaining: 38.8s\n",
      "137:\tlearn: 0.6785401\ttest: 0.6934958\tbest: 0.6935133 (136)\ttotal: 1m 24s\tremaining: 38.2s\n",
      "138:\tlearn: 0.6791584\ttest: 0.6947826\tbest: 0.6947826 (138)\ttotal: 1m 25s\tremaining: 37.6s\n",
      "139:\tlearn: 0.6795202\ttest: 0.6947826\tbest: 0.6947826 (138)\ttotal: 1m 26s\tremaining: 36.9s\n",
      "140:\tlearn: 0.6797020\ttest: 0.6953498\tbest: 0.6953498 (140)\ttotal: 1m 26s\tremaining: 36.3s\n",
      "141:\tlearn: 0.6799912\ttest: 0.6961998\tbest: 0.6961998 (141)\ttotal: 1m 27s\tremaining: 35.7s\n",
      "142:\tlearn: 0.6802803\ttest: 0.6964828\tbest: 0.6964828 (142)\ttotal: 1m 27s\tremaining: 35.1s\n",
      "143:\tlearn: 0.6802803\ttest: 0.6967658\tbest: 0.6967658 (143)\ttotal: 1m 28s\tremaining: 34.4s\n",
      "144:\tlearn: 0.6808231\ttest: 0.6964828\tbest: 0.6967658 (143)\ttotal: 1m 29s\tremaining: 33.8s\n",
      "145:\tlearn: 0.6812934\ttest: 0.6966146\tbest: 0.6967658 (143)\ttotal: 1m 29s\tremaining: 33.2s\n",
      "146:\tlearn: 0.6797042\ttest: 0.6943478\tbest: 0.6967658 (143)\ttotal: 1m 30s\tremaining: 32.6s\n",
      "147:\tlearn: 0.6803548\ttest: 0.6951988\tbest: 0.6967658 (143)\ttotal: 1m 31s\tremaining: 32s\n",
      "148:\tlearn: 0.6807486\ttest: 0.6956144\tbest: 0.6967658 (143)\ttotal: 1m 31s\tremaining: 31.4s\n",
      "149:\tlearn: 0.6809232\ttest: 0.6956144\tbest: 0.6967658 (143)\ttotal: 1m 32s\tremaining: 30.7s\n",
      "150:\tlearn: 0.6811047\ttest: 0.6955956\tbest: 0.6967658 (143)\ttotal: 1m 32s\tremaining: 30.1s\n",
      "151:\tlearn: 0.6815001\ttest: 0.6955956\tbest: 0.6967658 (143)\ttotal: 1m 33s\tremaining: 29.5s\n",
      "152:\tlearn: 0.6821807\ttest: 0.6962931\tbest: 0.6967658 (143)\ttotal: 1m 34s\tremaining: 28.9s\n",
      "153:\tlearn: 0.6825405\ttest: 0.6961422\tbest: 0.6967658 (143)\ttotal: 1m 34s\tremaining: 28.3s\n",
      "154:\tlearn: 0.6843713\ttest: 0.6992432\tbest: 0.6992432 (154)\ttotal: 1m 35s\tremaining: 27.7s\n",
      "155:\tlearn: 0.6845491\ttest: 0.6988108\tbest: 0.6992432 (154)\ttotal: 1m 35s\tremaining: 27s\n",
      "156:\tlearn: 0.6846925\ttest: 0.6992432\tbest: 0.6992432 (154)\ttotal: 1m 36s\tremaining: 26.4s\n",
      "157:\tlearn: 0.6849076\ttest: 0.7000864\tbest: 0.7000864 (157)\ttotal: 1m 37s\tremaining: 25.8s\n",
      "158:\tlearn: 0.6850196\ttest: 0.7002377\tbest: 0.7002377 (158)\ttotal: 1m 37s\tremaining: 25.2s\n",
      "159:\tlearn: 0.6852750\ttest: 0.7010799\tbest: 0.7010799 (159)\ttotal: 1m 38s\tremaining: 24.6s\n",
      "160:\tlearn: 0.6856676\ttest: 0.7019210\tbest: 0.7019210 (160)\ttotal: 1m 38s\tremaining: 24s\n",
      "161:\tlearn: 0.6859072\ttest: 0.7034483\tbest: 0.7034483 (161)\ttotal: 1m 39s\tremaining: 23.3s\n",
      "162:\tlearn: 0.6862681\ttest: 0.7037276\tbest: 0.7037276 (162)\ttotal: 1m 40s\tremaining: 22.7s\n",
      "163:\tlearn: 0.6862244\ttest: 0.7034008\tbest: 0.7037276 (162)\ttotal: 1m 40s\tremaining: 22.1s\n",
      "164:\tlearn: 0.6864388\ttest: 0.7036798\tbest: 0.7037276 (162)\ttotal: 1m 41s\tremaining: 21.5s\n",
      "165:\tlearn: 0.6885282\ttest: 0.7044674\tbest: 0.7044674 (165)\ttotal: 1m 41s\tremaining: 20.9s\n",
      "166:\tlearn: 0.6888503\ttest: 0.7050236\tbest: 0.7050236 (166)\ttotal: 1m 42s\tremaining: 20.3s\n",
      "167:\tlearn: 0.6889589\ttest: 0.7055794\tbest: 0.7055794 (167)\ttotal: 1m 43s\tremaining: 19.6s\n",
      "168:\tlearn: 0.6892097\ttest: 0.7051502\tbest: 0.7055794 (167)\ttotal: 1m 43s\tremaining: 19s\n",
      "169:\tlearn: 0.6897786\ttest: 0.7051502\tbest: 0.7055794 (167)\ttotal: 1m 44s\tremaining: 18.4s\n",
      "170:\tlearn: 0.6907770\ttest: 0.7051502\tbest: 0.7055794 (167)\ttotal: 1m 44s\tremaining: 17.8s\n",
      "171:\tlearn: 0.6910609\ttest: 0.7057308\tbest: 0.7057308 (171)\ttotal: 1m 45s\tremaining: 17.2s\n",
      "172:\tlearn: 0.6923285\ttest: 0.7062607\tbest: 0.7062607 (172)\ttotal: 1m 46s\tremaining: 16.6s\n",
      "173:\tlearn: 0.6923993\ttest: 0.7059833\tbest: 0.7062607 (172)\ttotal: 1m 46s\tremaining: 16s\n",
      "174:\tlearn: 0.6923993\ttest: 0.7059833\tbest: 0.7062607 (172)\ttotal: 1m 47s\tremaining: 15.3s\n",
      "175:\tlearn: 0.6927157\ttest: 0.7058067\tbest: 0.7062607 (172)\ttotal: 1m 48s\tremaining: 14.7s\n",
      "176:\tlearn: 0.6932439\ttest: 0.7062099\tbest: 0.7062607 (172)\ttotal: 1m 48s\tremaining: 14.1s\n",
      "177:\tlearn: 0.6921285\ttest: 0.7051255\tbest: 0.7062607 (172)\ttotal: 1m 49s\tremaining: 13.5s\n",
      "178:\tlearn: 0.6921577\ttest: 0.7054031\tbest: 0.7062607 (172)\ttotal: 1m 49s\tremaining: 12.9s\n",
      "179:\tlearn: 0.6919703\ttest: 0.7061093\tbest: 0.7062607 (172)\ttotal: 1m 50s\tremaining: 12.3s\n",
      "180:\tlearn: 0.6940541\ttest: 0.7077714\tbest: 0.7077714 (180)\ttotal: 1m 51s\tremaining: 11.7s\n",
      "181:\tlearn: 0.6945855\ttest: 0.7083244\tbest: 0.7083244 (181)\ttotal: 1m 51s\tremaining: 11s\n",
      "182:\tlearn: 0.6946561\ttest: 0.7083244\tbest: 0.7083244 (181)\ttotal: 1m 52s\tremaining: 10.4s\n",
      "183:\tlearn: 0.6951542\ttest: 0.7090559\tbest: 0.7090559 (183)\ttotal: 1m 52s\tremaining: 9.81s\n",
      "184:\tlearn: 0.6952952\ttest: 0.7090559\tbest: 0.7090559 (183)\ttotal: 1m 53s\tremaining: 9.2s\n",
      "185:\tlearn: 0.6954032\ttest: 0.7092077\tbest: 0.7092077 (185)\ttotal: 1m 54s\tremaining: 8.58s\n",
      "186:\tlearn: 0.6956146\ttest: 0.7092077\tbest: 0.7092077 (185)\ttotal: 1m 54s\tremaining: 7.97s\n",
      "187:\tlearn: 0.6957179\ttest: 0.7097603\tbest: 0.7097603 (187)\ttotal: 1m 55s\tremaining: 7.36s\n",
      "188:\tlearn: 0.6959996\ttest: 0.7096084\tbest: 0.7097603 (187)\ttotal: 1m 55s\tremaining: 6.74s\n",
      "189:\tlearn: 0.6963187\ttest: 0.7101604\tbest: 0.7101604 (189)\ttotal: 1m 56s\tremaining: 6.13s\n",
      "190:\tlearn: 0.6965625\ttest: 0.7104363\tbest: 0.7104363 (190)\ttotal: 1m 57s\tremaining: 5.51s\n",
      "191:\tlearn: 0.6971626\ttest: 0.7108356\tbest: 0.7108356 (191)\ttotal: 1m 57s\tremaining: 4.9s\n",
      "192:\tlearn: 0.6977898\ttest: 0.7109308\tbest: 0.7109308 (192)\ttotal: 1m 58s\tremaining: 4.29s\n",
      "193:\tlearn: 0.6977898\ttest: 0.7109308\tbest: 0.7109308 (192)\ttotal: 1m 58s\tremaining: 3.67s\n",
      "194:\tlearn: 0.6981356\ttest: 0.7120307\tbest: 0.7120307 (194)\ttotal: 1m 59s\tremaining: 3.06s\n",
      "195:\tlearn: 0.6985187\ttest: 0.7121535\tbest: 0.7121535 (195)\ttotal: 1m 59s\tremaining: 2.45s\n",
      "196:\tlearn: 0.6984914\ttest: 0.7123346\tbest: 0.7123346 (196)\ttotal: 2m\tremaining: 1.84s\n",
      "197:\tlearn: 0.6985615\ttest: 0.7123346\tbest: 0.7123346 (196)\ttotal: 2m 1s\tremaining: 1.22s\n",
      "198:\tlearn: 0.6998386\ttest: 0.7128544\tbest: 0.7128544 (198)\ttotal: 2m 1s\tremaining: 613ms\n",
      "199:\tlearn: 0.7006452\ttest: 0.7136470\tbest: 0.7136470 (199)\ttotal: 2m 2s\tremaining: 0us\n",
      "\n",
      "bestTest = 0.7136470087\n",
      "bestIteration = 199\n",
      "\n",
      "7:\tloss: 0.7136470\tbest: 0.7694417 (6)\ttotal: 9m 43s\tremaining: 0us\n",
      "Estimating final quality...\n",
      "Training on fold [0/3]\n",
      "0:\tlearn: 0.3682757\ttest: 0.3669510\tbest: 0.3669510 (0)\ttotal: 474ms\tremaining: 1m 34s\n",
      "1:\tlearn: 0.5083346\ttest: 0.5108614\tbest: 0.5108614 (1)\ttotal: 942ms\tremaining: 1m 33s\n",
      "2:\tlearn: 0.4716804\ttest: 0.4596508\tbest: 0.5108614 (1)\ttotal: 1.41s\tremaining: 1m 32s\n",
      "3:\tlearn: 0.4673453\ttest: 0.4606460\tbest: 0.5108614 (1)\ttotal: 1.87s\tremaining: 1m 31s\n",
      "4:\tlearn: 0.5352217\ttest: 0.5262378\tbest: 0.5262378 (4)\ttotal: 2.34s\tremaining: 1m 31s\n",
      "5:\tlearn: 0.5677215\ttest: 0.5610390\tbest: 0.5610390 (5)\ttotal: 2.8s\tremaining: 1m 30s\n",
      "6:\tlearn: 0.5555960\ttest: 0.5485232\tbest: 0.5610390 (5)\ttotal: 3.26s\tremaining: 1m 29s\n",
      "7:\tlearn: 0.5793340\ttest: 0.5744833\tbest: 0.5744833 (7)\ttotal: 3.74s\tremaining: 1m 29s\n",
      "8:\tlearn: 0.5942244\ttest: 0.5874363\tbest: 0.5874363 (8)\ttotal: 4.22s\tremaining: 1m 29s\n",
      "9:\tlearn: 0.6075385\ttest: 0.5998602\tbest: 0.5998602 (9)\ttotal: 4.7s\tremaining: 1m 29s\n",
      "10:\tlearn: 0.6167255\ttest: 0.6074403\tbest: 0.6074403 (10)\ttotal: 5.17s\tremaining: 1m 28s\n",
      "11:\tlearn: 0.6215546\ttest: 0.6093815\tbest: 0.6093815 (11)\ttotal: 5.66s\tremaining: 1m 28s\n",
      "12:\tlearn: 0.6354110\ttest: 0.6214334\tbest: 0.6214334 (12)\ttotal: 6.13s\tremaining: 1m 28s\n",
      "13:\tlearn: 0.6518102\ttest: 0.6432764\tbest: 0.6432764 (13)\ttotal: 6.62s\tremaining: 1m 27s\n",
      "14:\tlearn: 0.6630824\ttest: 0.6545551\tbest: 0.6545551 (14)\ttotal: 7.09s\tremaining: 1m 27s\n",
      "15:\tlearn: 0.6646329\ttest: 0.6558115\tbest: 0.6558115 (15)\ttotal: 7.55s\tremaining: 1m 26s\n",
      "16:\tlearn: 0.6684294\ttest: 0.6591750\tbest: 0.6591750 (16)\ttotal: 8.02s\tremaining: 1m 26s\n",
      "17:\tlearn: 0.6679025\ttest: 0.6585527\tbest: 0.6591750 (16)\ttotal: 8.49s\tremaining: 1m 25s\n",
      "18:\tlearn: 0.6722379\ttest: 0.6618459\tbest: 0.6618459 (18)\ttotal: 8.95s\tremaining: 1m 25s\n",
      "19:\tlearn: 0.6782495\ttest: 0.6683188\tbest: 0.6683188 (19)\ttotal: 9.41s\tremaining: 1m 24s\n",
      "20:\tlearn: 0.6813531\ttest: 0.6703139\tbest: 0.6703139 (20)\ttotal: 9.88s\tremaining: 1m 24s\n",
      "21:\tlearn: 0.6884034\ttest: 0.6771980\tbest: 0.6771980 (21)\ttotal: 10.3s\tremaining: 1m 23s\n",
      "22:\tlearn: 0.6910243\ttest: 0.6780450\tbest: 0.6780450 (22)\ttotal: 10.8s\tremaining: 1m 22s\n",
      "23:\tlearn: 0.6928931\ttest: 0.6809389\tbest: 0.6809389 (23)\ttotal: 11.2s\tremaining: 1m 22s\n",
      "24:\tlearn: 0.7001984\ttest: 0.6870600\tbest: 0.6870600 (24)\ttotal: 11.7s\tremaining: 1m 21s\n",
      "25:\tlearn: 0.7022540\ttest: 0.6885707\tbest: 0.6885707 (25)\ttotal: 12.2s\tremaining: 1m 21s\n",
      "26:\tlearn: 0.7060845\ttest: 0.6891185\tbest: 0.6891185 (26)\ttotal: 12.6s\tremaining: 1m 20s\n",
      "27:\tlearn: 0.7068702\ttest: 0.6888804\tbest: 0.6891185 (26)\ttotal: 13.1s\tremaining: 1m 20s\n",
      "28:\tlearn: 0.7066692\ttest: 0.6899106\tbest: 0.6899106 (28)\ttotal: 13.5s\tremaining: 1m 19s\n",
      "29:\tlearn: 0.7089718\ttest: 0.6917485\tbest: 0.6917485 (29)\ttotal: 14s\tremaining: 1m 19s\n",
      "30:\tlearn: 0.7118580\ttest: 0.6939710\tbest: 0.6939710 (30)\ttotal: 14.5s\tremaining: 1m 18s\n",
      "31:\tlearn: 0.7128738\ttest: 0.6941371\tbest: 0.6941371 (31)\ttotal: 14.9s\tremaining: 1m 18s\n",
      "32:\tlearn: 0.7184552\ttest: 0.6983085\tbest: 0.6983085 (32)\ttotal: 15.4s\tremaining: 1m 17s\n",
      "33:\tlearn: 0.7206483\ttest: 0.6989166\tbest: 0.6989166 (33)\ttotal: 15.8s\tremaining: 1m 17s\n",
      "34:\tlearn: 0.7235482\ttest: 0.7022747\tbest: 0.7022747 (34)\ttotal: 16.3s\tremaining: 1m 16s\n",
      "35:\tlearn: 0.7244055\ttest: 0.7023361\tbest: 0.7023361 (35)\ttotal: 16.7s\tremaining: 1m 16s\n",
      "36:\tlearn: 0.7234630\ttest: 0.7034847\tbest: 0.7034847 (36)\ttotal: 17.2s\tremaining: 1m 15s\n",
      "37:\tlearn: 0.7258721\ttest: 0.7050396\tbest: 0.7050396 (37)\ttotal: 17.7s\tremaining: 1m 15s\n",
      "38:\tlearn: 0.7307261\ttest: 0.7079158\tbest: 0.7079158 (38)\ttotal: 18.1s\tremaining: 1m 14s\n",
      "39:\tlearn: 0.7338504\ttest: 0.7086870\tbest: 0.7086870 (39)\ttotal: 18.6s\tremaining: 1m 14s\n",
      "40:\tlearn: 0.7349696\ttest: 0.7103689\tbest: 0.7103689 (40)\ttotal: 19s\tremaining: 1m 13s\n",
      "41:\tlearn: 0.7374930\ttest: 0.7125093\tbest: 0.7125093 (41)\ttotal: 19.5s\tremaining: 1m 13s\n",
      "42:\tlearn: 0.7398494\ttest: 0.7125637\tbest: 0.7125637 (42)\ttotal: 20s\tremaining: 1m 12s\n",
      "43:\tlearn: 0.7394688\ttest: 0.7134866\tbest: 0.7134866 (43)\ttotal: 20.5s\tremaining: 1m 12s\n",
      "44:\tlearn: 0.7408777\ttest: 0.7145163\tbest: 0.7145163 (44)\ttotal: 20.9s\tremaining: 1m 12s\n",
      "45:\tlearn: 0.7413113\ttest: 0.7142680\tbest: 0.7145163 (44)\ttotal: 21.4s\tremaining: 1m 11s\n",
      "46:\tlearn: 0.7410648\ttest: 0.7157921\tbest: 0.7157921 (46)\ttotal: 21.9s\tremaining: 1m 11s\n",
      "47:\tlearn: 0.7431243\ttest: 0.7166357\tbest: 0.7166357 (47)\ttotal: 22.4s\tremaining: 1m 10s\n",
      "48:\tlearn: 0.7432790\ttest: 0.7171817\tbest: 0.7171817 (48)\ttotal: 22.8s\tremaining: 1m 10s\n",
      "49:\tlearn: 0.7449631\ttest: 0.7176383\tbest: 0.7176383 (49)\ttotal: 23.3s\tremaining: 1m 9s\n",
      "50:\tlearn: 0.7455796\ttest: 0.7177081\tbest: 0.7177081 (50)\ttotal: 23.8s\tremaining: 1m 9s\n",
      "51:\tlearn: 0.7450138\ttest: 0.7193004\tbest: 0.7193004 (51)\ttotal: 24.2s\tremaining: 1m 8s\n",
      "52:\tlearn: 0.7458730\ttest: 0.7201970\tbest: 0.7201970 (52)\ttotal: 24.7s\tremaining: 1m 8s\n",
      "53:\tlearn: 0.7471800\ttest: 0.7212106\tbest: 0.7212106 (53)\ttotal: 25.1s\tremaining: 1m 7s\n",
      "54:\tlearn: 0.7465489\ttest: 0.7200986\tbest: 0.7212106 (53)\ttotal: 25.6s\tremaining: 1m 7s\n",
      "55:\tlearn: 0.7465031\ttest: 0.7201677\tbest: 0.7212106 (53)\ttotal: 26s\tremaining: 1m 6s\n",
      "56:\tlearn: 0.7471638\ttest: 0.7206408\tbest: 0.7212106 (53)\ttotal: 26.5s\tremaining: 1m 6s\n",
      "57:\tlearn: 0.7480851\ttest: 0.7211337\tbest: 0.7212106 (53)\ttotal: 26.9s\tremaining: 1m 5s\n",
      "58:\tlearn: 0.7508253\ttest: 0.7233781\tbest: 0.7233781 (58)\ttotal: 27.4s\tremaining: 1m 5s\n",
      "59:\tlearn: 0.7511617\ttest: 0.7231318\tbest: 0.7233781 (58)\ttotal: 27.9s\tremaining: 1m 5s\n",
      "60:\tlearn: 0.7524547\ttest: 0.7238072\tbest: 0.7238072 (60)\ttotal: 28.3s\tremaining: 1m 4s\n",
      "61:\tlearn: 0.7527275\ttest: 0.7236082\tbest: 0.7238072 (60)\ttotal: 28.8s\tremaining: 1m 4s\n",
      "62:\tlearn: 0.7526515\ttest: 0.7236971\tbest: 0.7238072 (60)\ttotal: 29.3s\tremaining: 1m 3s\n",
      "63:\tlearn: 0.7541403\ttest: 0.7242141\tbest: 0.7242141 (63)\ttotal: 29.7s\tremaining: 1m 3s\n",
      "64:\tlearn: 0.7551418\ttest: 0.7240152\tbest: 0.7242141 (63)\ttotal: 30.2s\tremaining: 1m 2s\n",
      "65:\tlearn: 0.7555664\ttest: 0.7240152\tbest: 0.7242141 (63)\ttotal: 30.6s\tremaining: 1m 2s\n",
      "66:\tlearn: 0.7555664\ttest: 0.7238376\tbest: 0.7242141 (63)\ttotal: 31s\tremaining: 1m 1s\n",
      "67:\tlearn: 0.7564414\ttest: 0.7247122\tbest: 0.7247122 (67)\ttotal: 31.5s\tremaining: 1m 1s\n",
      "68:\tlearn: 0.7567141\ttest: 0.7247122\tbest: 0.7247122 (67)\ttotal: 32s\tremaining: 1m\n",
      "69:\tlearn: 0.7583864\ttest: 0.7245385\tbest: 0.7247122 (67)\ttotal: 32.4s\tremaining: 1m\n",
      "70:\tlearn: 0.7585830\ttest: 0.7246944\tbest: 0.7247122 (67)\ttotal: 32.9s\tremaining: 59.7s\n",
      "71:\tlearn: 0.7592020\ttest: 0.7249389\tbest: 0.7249389 (71)\ttotal: 33.3s\tremaining: 59.2s\n",
      "72:\tlearn: 0.7608840\ttest: 0.7260742\tbest: 0.7260742 (72)\ttotal: 33.8s\tremaining: 58.8s\n",
      "73:\tlearn: 0.7617779\ttest: 0.7271618\tbest: 0.7271618 (73)\ttotal: 34.2s\tremaining: 58.3s\n",
      "74:\tlearn: 0.7628380\ttest: 0.7274500\tbest: 0.7274500 (74)\ttotal: 34.7s\tremaining: 57.8s\n",
      "75:\tlearn: 0.7636715\ttest: 0.7280915\tbest: 0.7280915 (75)\ttotal: 35.2s\tremaining: 57.4s\n",
      "76:\tlearn: 0.7641196\ttest: 0.7285558\tbest: 0.7285558 (76)\ttotal: 35.6s\tremaining: 56.9s\n",
      "77:\tlearn: 0.7654336\ttest: 0.7296377\tbest: 0.7296377 (77)\ttotal: 36.1s\tremaining: 56.4s\n",
      "78:\tlearn: 0.7661782\ttest: 0.7306103\tbest: 0.7306103 (78)\ttotal: 36.6s\tremaining: 56s\n",
      "79:\tlearn: 0.7669681\ttest: 0.7304327\tbest: 0.7306103 (78)\ttotal: 37s\tremaining: 55.6s\n",
      "80:\tlearn: 0.7681369\ttest: 0.7298118\tbest: 0.7306103 (78)\ttotal: 37.6s\tremaining: 55.2s\n",
      "81:\tlearn: 0.7683595\ttest: 0.7297232\tbest: 0.7306103 (78)\ttotal: 38s\tremaining: 54.7s\n",
      "82:\tlearn: 0.7699711\ttest: 0.7308391\tbest: 0.7308391 (82)\ttotal: 38.5s\tremaining: 54.3s\n",
      "83:\tlearn: 0.7706532\ttest: 0.7327284\tbest: 0.7327284 (83)\ttotal: 39s\tremaining: 53.9s\n",
      "84:\tlearn: 0.7723295\ttest: 0.7330995\tbest: 0.7330995 (84)\ttotal: 39.5s\tremaining: 53.4s\n",
      "85:\tlearn: 0.7728716\ttest: 0.7329223\tbest: 0.7330995 (84)\ttotal: 40s\tremaining: 53s\n",
      "86:\tlearn: 0.7735329\ttest: 0.7335991\tbest: 0.7335991 (86)\ttotal: 40.4s\tremaining: 52.5s\n",
      "87:\tlearn: 0.7739000\ttest: 0.7334461\tbest: 0.7335991 (86)\ttotal: 40.9s\tremaining: 52.1s\n",
      "88:\tlearn: 0.7742669\ttest: 0.7335991\tbest: 0.7335991 (86)\ttotal: 41.4s\tremaining: 51.6s\n",
      "89:\tlearn: 0.7753636\ttest: 0.7348220\tbest: 0.7348220 (89)\ttotal: 41.9s\tremaining: 51.2s\n",
      "90:\tlearn: 0.7752170\ttest: 0.7346692\tbest: 0.7348220 (89)\ttotal: 42.3s\tremaining: 50.7s\n",
      "91:\tlearn: 0.7761694\ttest: 0.7343882\tbest: 0.7348220 (89)\ttotal: 42.8s\tremaining: 50.2s\n",
      "92:\tlearn: 0.7762552\ttest: 0.7341619\tbest: 0.7348220 (89)\ttotal: 43.3s\tremaining: 49.8s\n",
      "93:\tlearn: 0.7784674\ttest: 0.7353968\tbest: 0.7353968 (93)\ttotal: 43.7s\tremaining: 49.3s\n",
      "94:\tlearn: 0.7787864\ttest: 0.7347627\tbest: 0.7353968 (93)\ttotal: 44.2s\tremaining: 48.9s\n",
      "95:\tlearn: 0.7786871\ttest: 0.7347627\tbest: 0.7353968 (93)\ttotal: 44.7s\tremaining: 48.4s\n",
      "96:\tlearn: 0.7787600\ttest: 0.7349151\tbest: 0.7353968 (93)\ttotal: 45.1s\tremaining: 47.9s\n",
      "97:\tlearn: 0.7800513\ttest: 0.7358150\tbest: 0.7358150 (97)\ttotal: 45.6s\tremaining: 47.4s\n",
      "98:\tlearn: 0.7800513\ttest: 0.7358150\tbest: 0.7358150 (97)\ttotal: 46s\tremaining: 47s\n",
      "99:\tlearn: 0.7803889\ttest: 0.7358150\tbest: 0.7358150 (97)\ttotal: 46.5s\tremaining: 46.5s\n",
      "100:\tlearn: 0.7821169\ttest: 0.7372087\tbest: 0.7372087 (100)\ttotal: 46.9s\tremaining: 46s\n",
      "101:\tlearn: 0.7825725\ttest: 0.7370571\tbest: 0.7372087 (100)\ttotal: 47.4s\tremaining: 45.5s\n",
      "102:\tlearn: 0.7824016\ttest: 0.7370571\tbest: 0.7372087 (100)\ttotal: 47.8s\tremaining: 45.1s\n",
      "103:\tlearn: 0.7832401\ttest: 0.7384578\tbest: 0.7384578 (103)\ttotal: 48.3s\tremaining: 44.6s\n",
      "104:\tlearn: 0.7836633\ttest: 0.7384062\tbest: 0.7384578 (103)\ttotal: 48.8s\tremaining: 44.1s\n",
      "105:\tlearn: 0.7840713\ttest: 0.7383435\tbest: 0.7384578 (103)\ttotal: 49.2s\tremaining: 43.6s\n",
      "106:\tlearn: 0.7841902\ttest: 0.7383435\tbest: 0.7384578 (103)\ttotal: 49.7s\tremaining: 43.2s\n",
      "107:\tlearn: 0.7852265\ttest: 0.7394012\tbest: 0.7394012 (107)\ttotal: 50.2s\tremaining: 42.7s\n",
      "108:\tlearn: 0.7855616\ttest: 0.7393751\tbest: 0.7394012 (107)\ttotal: 50.6s\tremaining: 42.3s\n",
      "109:\tlearn: 0.7855616\ttest: 0.7392241\tbest: 0.7394012 (107)\ttotal: 51.1s\tremaining: 41.8s\n",
      "110:\tlearn: 0.7856804\ttest: 0.7389847\tbest: 0.7394012 (107)\ttotal: 51.5s\tremaining: 41.3s\n",
      "111:\tlearn: 0.7858245\ttest: 0.7391981\tbest: 0.7394012 (107)\ttotal: 52s\tremaining: 40.9s\n",
      "112:\tlearn: 0.7860153\ttest: 0.7391981\tbest: 0.7394012 (107)\ttotal: 52.5s\tremaining: 40.4s\n",
      "113:\tlearn: 0.7859433\ttest: 0.7392866\tbest: 0.7394012 (107)\ttotal: 53s\tremaining: 40s\n",
      "114:\tlearn: 0.7860874\ttest: 0.7392866\tbest: 0.7394012 (107)\ttotal: 53.4s\tremaining: 39.5s\n",
      "115:\tlearn: 0.7860874\ttest: 0.7391356\tbest: 0.7394012 (107)\ttotal: 53.9s\tremaining: 39s\n",
      "116:\tlearn: 0.7871457\ttest: 0.7399522\tbest: 0.7399522 (116)\ttotal: 54.4s\tremaining: 38.6s\n",
      "117:\tlearn: 0.7871457\ttest: 0.7400407\tbest: 0.7400407 (117)\ttotal: 54.9s\tremaining: 38.1s\n",
      "118:\tlearn: 0.7872176\ttest: 0.7400407\tbest: 0.7400407 (117)\ttotal: 55.3s\tremaining: 37.6s\n",
      "119:\tlearn: 0.7872176\ttest: 0.7403421\tbest: 0.7403421 (119)\ttotal: 55.8s\tremaining: 37.2s\n",
      "120:\tlearn: 0.7882918\ttest: 0.7405548\tbest: 0.7405548 (120)\ttotal: 56.2s\tremaining: 36.7s\n",
      "121:\tlearn: 0.7884319\ttest: 0.7416965\tbest: 0.7416965 (121)\ttotal: 56.7s\tremaining: 36.3s\n",
      "122:\tlearn: 0.7897946\ttest: 0.7415811\tbest: 0.7416965 (121)\ttotal: 57.2s\tremaining: 35.8s\n",
      "123:\tlearn: 0.7900562\ttest: 0.7418199\tbest: 0.7418199 (123)\ttotal: 57.6s\tremaining: 35.3s\n",
      "124:\tlearn: 0.7901278\ttest: 0.7417313\tbest: 0.7418199 (123)\ttotal: 58.1s\tremaining: 34.8s\n",
      "125:\tlearn: 0.7904610\ttest: 0.7417313\tbest: 0.7418199 (123)\ttotal: 58.5s\tremaining: 34.4s\n",
      "126:\tlearn: 0.7911516\ttest: 0.7419432\tbest: 0.7419432 (126)\ttotal: 59s\tremaining: 33.9s\n",
      "127:\tlearn: 0.7912452\ttest: 0.7419432\tbest: 0.7419432 (126)\ttotal: 59.4s\tremaining: 33.4s\n",
      "128:\tlearn: 0.7911490\ttest: 0.7418816\tbest: 0.7419432 (126)\ttotal: 59.9s\tremaining: 33s\n",
      "129:\tlearn: 0.7910033\ttest: 0.7419971\tbest: 0.7419971 (129)\ttotal: 1m\tremaining: 32.5s\n",
      "130:\tlearn: 0.7914325\ttest: 0.7419971\tbest: 0.7419971 (129)\ttotal: 1m\tremaining: 32s\n",
      "131:\tlearn: 0.7916223\ttest: 0.7419971\tbest: 0.7419971 (129)\ttotal: 1m 1s\tremaining: 31.6s\n",
      "132:\tlearn: 0.7924551\ttest: 0.7422705\tbest: 0.7422705 (132)\ttotal: 1m 1s\tremaining: 31.1s\n",
      "133:\tlearn: 0.7929057\ttest: 0.7430208\tbest: 0.7430208 (133)\ttotal: 1m 2s\tremaining: 30.6s\n",
      "134:\tlearn: 0.7939509\ttest: 0.7426392\tbest: 0.7430208 (133)\ttotal: 1m 2s\tremaining: 30.2s\n",
      "135:\tlearn: 0.7944477\ttest: 0.7422508\tbest: 0.7430208 (133)\ttotal: 1m 3s\tremaining: 29.7s\n",
      "136:\tlearn: 0.7950641\ttest: 0.7427005\tbest: 0.7430208 (133)\ttotal: 1m 3s\tremaining: 29.2s\n",
      "137:\tlearn: 0.7957510\ttest: 0.7427005\tbest: 0.7430208 (133)\ttotal: 1m 4s\tremaining: 28.8s\n",
      "138:\tlearn: 0.7958220\ttest: 0.7430001\tbest: 0.7430208 (133)\ttotal: 1m 4s\tremaining: 28.3s\n",
      "139:\tlearn: 0.7963662\ttest: 0.7430001\tbest: 0.7430208 (133)\ttotal: 1m 4s\tremaining: 27.8s\n",
      "140:\tlearn: 0.7965792\ttest: 0.7430001\tbest: 0.7430208 (133)\ttotal: 1m 5s\tremaining: 27.4s\n",
      "141:\tlearn: 0.7966502\ttest: 0.7428503\tbest: 0.7430208 (133)\ttotal: 1m 5s\tremaining: 26.9s\n",
      "142:\tlearn: 0.7967211\ttest: 0.7429116\tbest: 0.7430208 (133)\ttotal: 1m 6s\tremaining: 26.4s\n",
      "143:\tlearn: 0.7973116\ttest: 0.7420124\tbest: 0.7430208 (133)\ttotal: 1m 6s\tremaining: 26s\n",
      "144:\tlearn: 0.7975243\ttest: 0.7422508\tbest: 0.7430208 (133)\ttotal: 1m 7s\tremaining: 25.5s\n",
      "145:\tlearn: 0.7977601\ttest: 0.7421009\tbest: 0.7430208 (133)\ttotal: 1m 7s\tremaining: 25s\n",
      "146:\tlearn: 0.7977601\ttest: 0.7422508\tbest: 0.7430208 (133)\ttotal: 1m 8s\tremaining: 24.6s\n",
      "147:\tlearn: 0.7983743\ttest: 0.7427005\tbest: 0.7430208 (133)\ttotal: 1m 8s\tremaining: 24.1s\n",
      "148:\tlearn: 0.7981619\ttest: 0.7433607\tbest: 0.7433607 (148)\ttotal: 1m 9s\tremaining: 23.7s\n",
      "149:\tlearn: 0.7985158\ttest: 0.7424080\tbest: 0.7433607 (148)\ttotal: 1m 9s\tremaining: 23.2s\n",
      "150:\tlearn: 0.7988695\ttest: 0.7423196\tbest: 0.7433607 (148)\ttotal: 1m 10s\tremaining: 22.7s\n",
      "151:\tlearn: 0.8000471\ttest: 0.7420890\tbest: 0.7433607 (148)\ttotal: 1m 10s\tremaining: 22.3s\n",
      "152:\tlearn: 0.8003294\ttest: 0.7422386\tbest: 0.7433607 (148)\ttotal: 1m 10s\tremaining: 21.8s\n",
      "153:\tlearn: 0.8006115\ttest: 0.7422386\tbest: 0.7433607 (148)\ttotal: 1m 11s\tremaining: 21.3s\n",
      "154:\tlearn: 0.8007525\ttest: 0.7423882\tbest: 0.7433607 (148)\ttotal: 1m 11s\tremaining: 20.9s\n",
      "155:\tlearn: 0.8004471\ttest: 0.7417550\tbest: 0.7433607 (148)\ttotal: 1m 12s\tremaining: 20.4s\n",
      "156:\tlearn: 0.8010582\ttest: 0.7414019\tbest: 0.7433607 (148)\ttotal: 1m 12s\tremaining: 19.9s\n",
      "157:\tlearn: 0.8014810\ttest: 0.7416131\tbest: 0.7433607 (148)\ttotal: 1m 13s\tremaining: 19.5s\n",
      "158:\tlearn: 0.8017626\ttest: 0.7416131\tbest: 0.7433607 (148)\ttotal: 1m 13s\tremaining: 19s\n",
      "159:\tlearn: 0.8019034\ttest: 0.7417014\tbest: 0.7433607 (148)\ttotal: 1m 14s\tremaining: 18.5s\n",
      "160:\tlearn: 0.8020442\ttest: 0.7417014\tbest: 0.7433607 (148)\ttotal: 1m 14s\tremaining: 18.1s\n",
      "161:\tlearn: 0.8023256\ttest: 0.7413752\tbest: 0.7433607 (148)\ttotal: 1m 15s\tremaining: 17.6s\n",
      "162:\tlearn: 0.8043606\ttest: 0.7420007\tbest: 0.7433607 (148)\ttotal: 1m 15s\tremaining: 17.1s\n",
      "163:\tlearn: 0.8045479\ttest: 0.7421773\tbest: 0.7433607 (148)\ttotal: 1m 15s\tremaining: 16.7s\n",
      "164:\tlearn: 0.8038019\ttest: 0.7419931\tbest: 0.7433607 (148)\ttotal: 1m 16s\tremaining: 16.2s\n",
      "165:\tlearn: 0.8040826\ttest: 0.7418433\tbest: 0.7433607 (148)\ttotal: 1m 16s\tremaining: 15.7s\n",
      "166:\tlearn: 0.8045734\ttest: 0.7417550\tbest: 0.7433607 (148)\ttotal: 1m 17s\tremaining: 15.3s\n",
      "167:\tlearn: 0.8052511\ttest: 0.7410672\tbest: 0.7433607 (148)\ttotal: 1m 17s\tremaining: 14.8s\n",
      "168:\tlearn: 0.8056011\ttest: 0.7410672\tbest: 0.7433607 (148)\ttotal: 1m 18s\tremaining: 14.3s\n",
      "169:\tlearn: 0.8058355\ttest: 0.7410672\tbest: 0.7433607 (148)\ttotal: 1m 18s\tremaining: 13.9s\n",
      "170:\tlearn: 0.8064648\ttest: 0.7412171\tbest: 0.7433607 (148)\ttotal: 1m 19s\tremaining: 13.4s\n",
      "171:\tlearn: 0.8068388\ttest: 0.7414553\tbest: 0.7433607 (148)\ttotal: 1m 19s\tremaining: 13s\n",
      "172:\tlearn: 0.8063514\ttest: 0.7415784\tbest: 0.7433607 (148)\ttotal: 1m 20s\tremaining: 12.5s\n",
      "173:\tlearn: 0.8076788\ttest: 0.7424224\tbest: 0.7433607 (148)\ttotal: 1m 20s\tremaining: 12s\n",
      "174:\tlearn: 0.8079579\ttest: 0.7424224\tbest: 0.7433607 (148)\ttotal: 1m 20s\tremaining: 11.6s\n",
      "175:\tlearn: 0.8088889\ttest: 0.7426602\tbest: 0.7433607 (148)\ttotal: 1m 21s\tremaining: 11.1s\n",
      "176:\tlearn: 0.8090282\ttest: 0.7428096\tbest: 0.7433607 (148)\ttotal: 1m 21s\tremaining: 10.6s\n",
      "177:\tlearn: 0.8093067\ttest: 0.7428096\tbest: 0.7433607 (148)\ttotal: 1m 22s\tremaining: 10.2s\n",
      "178:\tlearn: 0.8097019\ttest: 0.7426602\tbest: 0.7433607 (148)\ttotal: 1m 22s\tremaining: 9.71s\n",
      "179:\tlearn: 0.8097966\ttest: 0.7426602\tbest: 0.7433607 (148)\ttotal: 1m 23s\tremaining: 9.24s\n",
      "180:\tlearn: 0.8104697\ttest: 0.7431084\tbest: 0.7433607 (148)\ttotal: 1m 23s\tremaining: 8.78s\n",
      "181:\tlearn: 0.8107477\ttest: 0.7431967\tbest: 0.7433607 (148)\ttotal: 1m 24s\tremaining: 8.32s\n",
      "182:\tlearn: 0.8108171\ttest: 0.7434343\tbest: 0.7434343 (182)\ttotal: 1m 24s\tremaining: 7.86s\n",
      "183:\tlearn: 0.8110917\ttest: 0.7435227\tbest: 0.7435227 (183)\ttotal: 1m 25s\tremaining: 7.4s\n",
      "184:\tlearn: 0.8114132\ttest: 0.7437663\tbest: 0.7437663 (184)\ttotal: 1m 25s\tremaining: 6.94s\n",
      "185:\tlearn: 0.8117599\ttest: 0.7436780\tbest: 0.7437663 (184)\ttotal: 1m 26s\tremaining: 6.47s\n",
      "186:\tlearn: 0.8119239\ttest: 0.7441529\tbest: 0.7441529 (186)\ttotal: 1m 26s\tremaining: 6.01s\n",
      "187:\tlearn: 0.8125474\ttest: 0.7437663\tbest: 0.7441529 (186)\ttotal: 1m 26s\tremaining: 5.55s\n",
      "188:\tlearn: 0.8126858\ttest: 0.7436780\tbest: 0.7441529 (186)\ttotal: 1m 27s\tremaining: 5.09s\n",
      "189:\tlearn: 0.8131266\ttest: 0.7438272\tbest: 0.7441529 (186)\ttotal: 1m 27s\tremaining: 4.62s\n",
      "190:\tlearn: 0.8133341\ttest: 0.7438272\tbest: 0.7441529 (186)\ttotal: 1m 28s\tremaining: 4.16s\n",
      "191:\tlearn: 0.8134685\ttest: 0.7441253\tbest: 0.7441529 (186)\ttotal: 1m 28s\tremaining: 3.7s\n",
      "192:\tlearn: 0.8137449\ttest: 0.7441860\tbest: 0.7441860 (192)\ttotal: 1m 29s\tremaining: 3.24s\n",
      "193:\tlearn: 0.8143664\ttest: 0.7440978\tbest: 0.7441860 (192)\ttotal: 1m 29s\tremaining: 2.77s\n",
      "194:\tlearn: 0.8147803\ttest: 0.7442467\tbest: 0.7442467 (194)\ttotal: 1m 30s\tremaining: 2.31s\n",
      "195:\tlearn: 0.8150561\ttest: 0.7440978\tbest: 0.7442467 (194)\ttotal: 1m 30s\tremaining: 1.85s\n",
      "196:\tlearn: 0.8161273\ttest: 0.7444286\tbest: 0.7444286 (196)\ttotal: 1m 31s\tremaining: 1.39s\n",
      "197:\tlearn: 0.8165186\ttest: 0.7444286\tbest: 0.7444286 (196)\ttotal: 1m 31s\tremaining: 924ms\n",
      "198:\tlearn: 0.8170045\ttest: 0.7452931\tbest: 0.7452931 (198)\ttotal: 1m 31s\tremaining: 462ms\n",
      "199:\tlearn: 0.8172792\ttest: 0.7455902\tbest: 0.7455902 (199)\ttotal: 1m 32s\tremaining: 0us\n",
      "\n",
      "bestTest = 0.7455901503\n",
      "bestIteration = 199\n",
      "\n",
      "Training on fold [1/3]\n",
      "0:\tlearn: 0.4311606\ttest: 0.4171089\tbest: 0.4171089 (0)\ttotal: 494ms\tremaining: 1m 38s\n",
      "1:\tlearn: 0.5163928\ttest: 0.4993208\tbest: 0.4993208 (1)\ttotal: 986ms\tremaining: 1m 37s\n",
      "2:\tlearn: 0.5059583\ttest: 0.4953314\tbest: 0.4993208 (1)\ttotal: 1.45s\tremaining: 1m 35s\n",
      "3:\tlearn: 0.5075781\ttest: 0.4904966\tbest: 0.4993208 (1)\ttotal: 1.93s\tremaining: 1m 34s\n",
      "4:\tlearn: 0.5633925\ttest: 0.5391407\tbest: 0.5391407 (4)\ttotal: 2.39s\tremaining: 1m 33s\n",
      "5:\tlearn: 0.6084367\ttest: 0.5866214\tbest: 0.5866214 (5)\ttotal: 2.86s\tremaining: 1m 32s\n",
      "6:\tlearn: 0.6065334\ttest: 0.5862314\tbest: 0.5866214 (5)\ttotal: 3.35s\tremaining: 1m 32s\n",
      "7:\tlearn: 0.6085989\ttest: 0.5874840\tbest: 0.5874840 (7)\ttotal: 3.83s\tremaining: 1m 31s\n",
      "8:\tlearn: 0.6191230\ttest: 0.5992415\tbest: 0.5992415 (8)\ttotal: 4.3s\tremaining: 1m 31s\n",
      "9:\tlearn: 0.6339377\ttest: 0.6117810\tbest: 0.6117810 (9)\ttotal: 4.79s\tremaining: 1m 30s\n",
      "10:\tlearn: 0.6323789\ttest: 0.6091779\tbest: 0.6117810 (9)\ttotal: 5.25s\tremaining: 1m 30s\n",
      "11:\tlearn: 0.6495452\ttest: 0.6314928\tbest: 0.6314928 (11)\ttotal: 5.73s\tremaining: 1m 29s\n",
      "12:\tlearn: 0.6402489\ttest: 0.6258410\tbest: 0.6314928 (11)\ttotal: 6.2s\tremaining: 1m 29s\n",
      "13:\tlearn: 0.6575561\ttest: 0.6383844\tbest: 0.6383844 (13)\ttotal: 6.66s\tremaining: 1m 28s\n",
      "14:\tlearn: 0.6620817\ttest: 0.6403901\tbest: 0.6403901 (14)\ttotal: 7.14s\tremaining: 1m 28s\n",
      "15:\tlearn: 0.6628783\ttest: 0.6428957\tbest: 0.6428957 (15)\ttotal: 7.62s\tremaining: 1m 27s\n",
      "16:\tlearn: 0.6599139\ttest: 0.6387647\tbest: 0.6428957 (15)\ttotal: 8.12s\tremaining: 1m 27s\n",
      "17:\tlearn: 0.6612893\ttest: 0.6399675\tbest: 0.6428957 (15)\ttotal: 8.59s\tremaining: 1m 26s\n",
      "18:\tlearn: 0.6643809\ttest: 0.6430209\tbest: 0.6430209 (18)\ttotal: 9.06s\tremaining: 1m 26s\n",
      "19:\tlearn: 0.6743029\ttest: 0.6525639\tbest: 0.6525639 (19)\ttotal: 9.54s\tremaining: 1m 25s\n",
      "20:\tlearn: 0.6724862\ttest: 0.6528261\tbest: 0.6528261 (20)\ttotal: 10s\tremaining: 1m 25s\n",
      "21:\tlearn: 0.6740940\ttest: 0.6542731\tbest: 0.6542731 (21)\ttotal: 10.5s\tremaining: 1m 24s\n",
      "22:\tlearn: 0.6765225\ttest: 0.6562375\tbest: 0.6562375 (22)\ttotal: 11s\tremaining: 1m 24s\n",
      "23:\tlearn: 0.6829363\ttest: 0.6637543\tbest: 0.6637543 (23)\ttotal: 11.4s\tremaining: 1m 23s\n",
      "24:\tlearn: 0.6866193\ttest: 0.6664027\tbest: 0.6664027 (24)\ttotal: 11.9s\tremaining: 1m 23s\n",
      "25:\tlearn: 0.6935359\ttest: 0.6754098\tbest: 0.6754098 (25)\ttotal: 12.4s\tremaining: 1m 22s\n",
      "26:\tlearn: 0.6980624\ttest: 0.6781744\tbest: 0.6781744 (26)\ttotal: 12.9s\tremaining: 1m 22s\n",
      "27:\tlearn: 0.7003776\ttest: 0.6804016\tbest: 0.6804016 (27)\ttotal: 13.3s\tremaining: 1m 21s\n",
      "28:\tlearn: 0.7013436\ttest: 0.6823805\tbest: 0.6823805 (28)\ttotal: 13.8s\tremaining: 1m 21s\n",
      "29:\tlearn: 0.7045107\ttest: 0.6843336\tbest: 0.6843336 (29)\ttotal: 14.3s\tremaining: 1m 20s\n",
      "30:\tlearn: 0.7057776\ttest: 0.6849564\tbest: 0.6849564 (30)\ttotal: 14.8s\tremaining: 1m 20s\n",
      "31:\tlearn: 0.7070925\ttest: 0.6858775\tbest: 0.6858775 (31)\ttotal: 15.3s\tremaining: 1m 20s\n",
      "32:\tlearn: 0.7081668\ttest: 0.6863890\tbest: 0.6863890 (32)\ttotal: 15.8s\tremaining: 1m 19s\n",
      "33:\tlearn: 0.7123894\ttest: 0.6912942\tbest: 0.6912942 (33)\ttotal: 16.3s\tremaining: 1m 19s\n",
      "34:\tlearn: 0.7178037\ttest: 0.6941086\tbest: 0.6941086 (34)\ttotal: 16.8s\tremaining: 1m 19s\n",
      "35:\tlearn: 0.7176973\ttest: 0.6932578\tbest: 0.6941086 (34)\ttotal: 17.3s\tremaining: 1m 18s\n",
      "36:\tlearn: 0.7154584\ttest: 0.6886096\tbest: 0.6941086 (34)\ttotal: 17.8s\tremaining: 1m 18s\n",
      "37:\tlearn: 0.7182460\ttest: 0.6916516\tbest: 0.6941086 (34)\ttotal: 18.3s\tremaining: 1m 17s\n",
      "38:\tlearn: 0.7191436\ttest: 0.6934985\tbest: 0.6941086 (34)\ttotal: 18.8s\tremaining: 1m 17s\n",
      "39:\tlearn: 0.7190941\ttest: 0.6944766\tbest: 0.6944766 (39)\ttotal: 19.3s\tremaining: 1m 17s\n",
      "40:\tlearn: 0.7209346\ttest: 0.6953838\tbest: 0.6953838 (40)\ttotal: 19.8s\tremaining: 1m 16s\n",
      "41:\tlearn: 0.7253283\ttest: 0.7003324\tbest: 0.7003324 (41)\ttotal: 20.3s\tremaining: 1m 16s\n",
      "42:\tlearn: 0.7266592\ttest: 0.7014944\tbest: 0.7014944 (42)\ttotal: 20.8s\tremaining: 1m 16s\n",
      "43:\tlearn: 0.7285331\ttest: 0.7039163\tbest: 0.7039163 (43)\ttotal: 21.4s\tremaining: 1m 15s\n",
      "44:\tlearn: 0.7303665\ttest: 0.7054629\tbest: 0.7054629 (44)\ttotal: 21.8s\tremaining: 1m 15s\n",
      "45:\tlearn: 0.7312753\ttest: 0.7067803\tbest: 0.7067803 (45)\ttotal: 22.4s\tremaining: 1m 14s\n",
      "46:\tlearn: 0.7328225\ttest: 0.7075124\tbest: 0.7075124 (46)\ttotal: 22.9s\tremaining: 1m 14s\n",
      "47:\tlearn: 0.7355551\ttest: 0.7099797\tbest: 0.7099797 (47)\ttotal: 23.3s\tremaining: 1m 13s\n",
      "48:\tlearn: 0.7367051\ttest: 0.7112178\tbest: 0.7112178 (48)\ttotal: 23.8s\tremaining: 1m 13s\n",
      "49:\tlearn: 0.7367508\ttest: 0.7111280\tbest: 0.7112178 (48)\ttotal: 24.3s\tremaining: 1m 12s\n",
      "50:\tlearn: 0.7381910\ttest: 0.7121040\tbest: 0.7121040 (50)\ttotal: 24.8s\tremaining: 1m 12s\n",
      "51:\tlearn: 0.7384254\ttest: 0.7121040\tbest: 0.7121040 (50)\ttotal: 25.3s\tremaining: 1m 12s\n",
      "52:\tlearn: 0.7396922\ttest: 0.7131509\tbest: 0.7131509 (52)\ttotal: 25.8s\tremaining: 1m 11s\n",
      "53:\tlearn: 0.7422795\ttest: 0.7171185\tbest: 0.7171185 (53)\ttotal: 26.3s\tremaining: 1m 11s\n",
      "54:\tlearn: 0.7445121\ttest: 0.7193092\tbest: 0.7193092 (54)\ttotal: 26.8s\tremaining: 1m 10s\n",
      "55:\tlearn: 0.7456544\ttest: 0.7200200\tbest: 0.7200200 (55)\ttotal: 27.3s\tremaining: 1m 10s\n",
      "56:\tlearn: 0.7467943\ttest: 0.7199800\tbest: 0.7200200 (55)\ttotal: 27.8s\tremaining: 1m 9s\n",
      "57:\tlearn: 0.7484993\ttest: 0.7211887\tbest: 0.7211887 (57)\ttotal: 28.3s\tremaining: 1m 9s\n",
      "58:\tlearn: 0.7490508\ttest: 0.7207095\tbest: 0.7211887 (57)\ttotal: 28.8s\tremaining: 1m 8s\n",
      "59:\tlearn: 0.7489116\ttest: 0.7199500\tbest: 0.7211887 (57)\ttotal: 29.3s\tremaining: 1m 8s\n",
      "60:\tlearn: 0.7513143\ttest: 0.7210901\tbest: 0.7211887 (57)\ttotal: 29.8s\tremaining: 1m 7s\n",
      "61:\tlearn: 0.7517418\ttest: 0.7212500\tbest: 0.7212500 (61)\ttotal: 30.3s\tremaining: 1m 7s\n",
      "62:\tlearn: 0.7545515\ttest: 0.7228315\tbest: 0.7228315 (62)\ttotal: 30.8s\tremaining: 1m 7s\n",
      "63:\tlearn: 0.7553852\ttest: 0.7236269\tbest: 0.7236269 (63)\ttotal: 31.4s\tremaining: 1m 6s\n",
      "64:\tlearn: 0.7562044\ttest: 0.7239661\tbest: 0.7239661 (64)\ttotal: 31.9s\tremaining: 1m 6s\n",
      "65:\tlearn: 0.7576568\ttest: 0.7236695\tbest: 0.7239661 (64)\ttotal: 32.4s\tremaining: 1m 5s\n",
      "66:\tlearn: 0.7587296\ttest: 0.7241465\tbest: 0.7241465 (66)\ttotal: 32.9s\tremaining: 1m 5s\n",
      "67:\tlearn: 0.7597087\ttest: 0.7239661\tbest: 0.7241465 (66)\ttotal: 33.3s\tremaining: 1m 4s\n",
      "68:\tlearn: 0.7604899\ttest: 0.7246016\tbest: 0.7246016 (68)\ttotal: 33.8s\tremaining: 1m 4s\n",
      "69:\tlearn: 0.7609579\ttest: 0.7249191\tbest: 0.7249191 (69)\ttotal: 34.3s\tremaining: 1m 3s\n",
      "70:\tlearn: 0.7623660\ttest: 0.7248322\tbest: 0.7249191 (69)\ttotal: 34.7s\tremaining: 1m 3s\n",
      "71:\tlearn: 0.7625333\ttest: 0.7246521\tbest: 0.7249191 (69)\ttotal: 35.2s\tremaining: 1m 2s\n",
      "72:\tlearn: 0.7626544\ttest: 0.7244251\tbest: 0.7249191 (69)\ttotal: 35.7s\tremaining: 1m 2s\n",
      "73:\tlearn: 0.7638124\ttest: 0.7247170\tbest: 0.7249191 (69)\ttotal: 36.1s\tremaining: 1m 1s\n",
      "74:\tlearn: 0.7643073\ttest: 0.7247855\tbest: 0.7249191 (69)\ttotal: 36.6s\tremaining: 1m 1s\n",
      "75:\tlearn: 0.7647237\ttest: 0.7245800\tbest: 0.7249191 (69)\ttotal: 37.1s\tremaining: 1m\n",
      "76:\tlearn: 0.7650227\ttest: 0.7244212\tbest: 0.7249191 (69)\ttotal: 37.5s\tremaining: 60s\n",
      "77:\tlearn: 0.7651721\ttest: 0.7259609\tbest: 0.7259609 (77)\ttotal: 38s\tremaining: 59.5s\n",
      "78:\tlearn: 0.7664511\ttest: 0.7263459\tbest: 0.7263459 (78)\ttotal: 38.5s\tremaining: 59s\n",
      "79:\tlearn: 0.7667492\ttest: 0.7265946\tbest: 0.7265946 (79)\ttotal: 39s\tremaining: 58.4s\n",
      "80:\tlearn: 0.7699898\ttest: 0.7283538\tbest: 0.7283538 (80)\ttotal: 39.4s\tremaining: 57.9s\n",
      "81:\tlearn: 0.7705076\ttest: 0.7279485\tbest: 0.7283538 (80)\ttotal: 39.9s\tremaining: 57.4s\n",
      "82:\tlearn: 0.7711452\ttest: 0.7280159\tbest: 0.7283538 (80)\ttotal: 40.4s\tremaining: 56.9s\n",
      "83:\tlearn: 0.7718834\ttest: 0.7277681\tbest: 0.7283538 (80)\ttotal: 40.9s\tremaining: 56.4s\n",
      "84:\tlearn: 0.7728964\ttest: 0.7285555\tbest: 0.7285555 (84)\ttotal: 41.4s\tremaining: 56s\n",
      "85:\tlearn: 0.7750434\ttest: 0.7324291\tbest: 0.7324291 (85)\ttotal: 41.9s\tremaining: 55.5s\n",
      "86:\tlearn: 0.7760426\ttest: 0.7333662\tbest: 0.7333662 (86)\ttotal: 42.4s\tremaining: 55s\n",
      "87:\tlearn: 0.7760747\ttest: 0.7331689\tbest: 0.7333662 (86)\ttotal: 42.9s\tremaining: 54.6s\n",
      "88:\tlearn: 0.7761480\ttest: 0.7337030\tbest: 0.7337030 (88)\ttotal: 43.3s\tremaining: 54.1s\n",
      "89:\tlearn: 0.7766607\ttest: 0.7338590\tbest: 0.7338590 (89)\ttotal: 43.8s\tremaining: 53.6s\n",
      "90:\tlearn: 0.7768536\ttest: 0.7338998\tbest: 0.7338998 (90)\ttotal: 44.3s\tremaining: 53.1s\n",
      "91:\tlearn: 0.7770731\ttest: 0.7336782\tbest: 0.7338998 (90)\ttotal: 44.8s\tremaining: 52.6s\n",
      "92:\tlearn: 0.7774122\ttest: 0.7338342\tbest: 0.7338998 (90)\ttotal: 45.3s\tremaining: 52.1s\n",
      "93:\tlearn: 0.7781896\ttest: 0.7338342\tbest: 0.7338998 (90)\ttotal: 45.8s\tremaining: 51.7s\n",
      "94:\tlearn: 0.7786944\ttest: 0.7340150\tbest: 0.7340150 (94)\ttotal: 46.4s\tremaining: 51.2s\n",
      "95:\tlearn: 0.7790392\ttest: 0.7346135\tbest: 0.7346135 (95)\ttotal: 46.9s\tremaining: 50.8s\n",
      "96:\tlearn: 0.7792580\ttest: 0.7347441\tbest: 0.7347441 (96)\ttotal: 47.4s\tremaining: 50.4s\n",
      "97:\tlearn: 0.7796954\ttest: 0.7350554\tbest: 0.7350554 (97)\ttotal: 47.9s\tremaining: 49.9s\n",
      "98:\tlearn: 0.7807033\ttest: 0.7350806\tbest: 0.7350806 (98)\ttotal: 48.5s\tremaining: 49.4s\n",
      "99:\tlearn: 0.7806305\ttest: 0.7352362\tbest: 0.7352362 (99)\ttotal: 49s\tremaining: 49s\n",
      "100:\tlearn: 0.7816023\ttest: 0.7361435\tbest: 0.7361435 (100)\ttotal: 49.4s\tremaining: 48.5s\n",
      "101:\tlearn: 0.7815297\ttest: 0.7361435\tbest: 0.7361435 (100)\ttotal: 49.9s\tremaining: 48s\n",
      "102:\tlearn: 0.7814570\ttest: 0.7360531\tbest: 0.7361435 (100)\ttotal: 50.4s\tremaining: 47.5s\n",
      "103:\tlearn: 0.7814309\ttest: 0.7361179\tbest: 0.7361435 (100)\ttotal: 50.9s\tremaining: 46.9s\n",
      "104:\tlearn: 0.7817216\ttest: 0.7362732\tbest: 0.7362732 (104)\ttotal: 51.3s\tremaining: 46.4s\n",
      "105:\tlearn: 0.7820849\ttest: 0.7365836\tbest: 0.7365836 (105)\ttotal: 51.8s\tremaining: 45.9s\n",
      "106:\tlearn: 0.7819396\ttest: 0.7365836\tbest: 0.7365836 (105)\ttotal: 52.3s\tremaining: 45.4s\n",
      "107:\tlearn: 0.7819136\ttest: 0.7365836\tbest: 0.7365836 (105)\ttotal: 52.7s\tremaining: 44.9s\n",
      "108:\tlearn: 0.7819603\ttest: 0.7366483\tbest: 0.7366483 (108)\ttotal: 53.2s\tremaining: 44.4s\n",
      "109:\tlearn: 0.7819603\ttest: 0.7366483\tbest: 0.7366483 (108)\ttotal: 53.7s\tremaining: 43.9s\n",
      "110:\tlearn: 0.7830492\ttest: 0.7366614\tbest: 0.7366614 (110)\ttotal: 54.2s\tremaining: 43.4s\n",
      "111:\tlearn: 0.7834535\ttest: 0.7369971\tbest: 0.7369971 (111)\ttotal: 54.6s\tremaining: 42.9s\n",
      "112:\tlearn: 0.7834277\ttest: 0.7371520\tbest: 0.7371520 (112)\ttotal: 55.1s\tremaining: 42.4s\n",
      "113:\tlearn: 0.7839352\ttest: 0.7374617\tbest: 0.7374617 (113)\ttotal: 55.6s\tremaining: 41.9s\n",
      "114:\tlearn: 0.7839352\ttest: 0.7374617\tbest: 0.7374617 (113)\ttotal: 56s\tremaining: 41.4s\n",
      "115:\tlearn: 0.7839819\ttest: 0.7374617\tbest: 0.7374617 (113)\ttotal: 56.5s\tremaining: 40.9s\n",
      "116:\tlearn: 0.7839819\ttest: 0.7373713\tbest: 0.7374617 (113)\ttotal: 57s\tremaining: 40.5s\n",
      "117:\tlearn: 0.7842927\ttest: 0.7379902\tbest: 0.7379902 (117)\ttotal: 57.5s\tremaining: 40s\n",
      "118:\tlearn: 0.7842927\ttest: 0.7379902\tbest: 0.7379902 (117)\ttotal: 58s\tremaining: 39.5s\n",
      "119:\tlearn: 0.7843651\ttest: 0.7379902\tbest: 0.7379902 (117)\ttotal: 58.5s\tremaining: 39s\n",
      "120:\tlearn: 0.7847272\ttest: 0.7377451\tbest: 0.7379902 (117)\ttotal: 59s\tremaining: 38.5s\n",
      "121:\tlearn: 0.7847996\ttest: 0.7377451\tbest: 0.7379902 (117)\ttotal: 59.4s\tremaining: 38s\n",
      "122:\tlearn: 0.7843651\ttest: 0.7369712\tbest: 0.7379902 (117)\ttotal: 59.9s\tremaining: 37.5s\n",
      "123:\tlearn: 0.7848765\ttest: 0.7378998\tbest: 0.7379902 (117)\ttotal: 1m\tremaining: 37s\n",
      "124:\tlearn: 0.7858969\ttest: 0.7377832\tbest: 0.7379902 (117)\ttotal: 1m\tremaining: 36.6s\n",
      "125:\tlearn: 0.7858460\ttest: 0.7377832\tbest: 0.7379902 (117)\ttotal: 1m 1s\tremaining: 36.1s\n",
      "126:\tlearn: 0.7864233\ttest: 0.7386461\tbest: 0.7386461 (126)\ttotal: 1m 1s\tremaining: 35.6s\n",
      "127:\tlearn: 0.7867839\ttest: 0.7387101\tbest: 0.7387101 (127)\ttotal: 1m 2s\tremaining: 35.1s\n",
      "128:\tlearn: 0.7867839\ttest: 0.7387101\tbest: 0.7387101 (127)\ttotal: 1m 3s\tremaining: 34.7s\n",
      "129:\tlearn: 0.7869749\ttest: 0.7387101\tbest: 0.7387101 (127)\ttotal: 1m 3s\tremaining: 34.2s\n",
      "130:\tlearn: 0.7866651\ttest: 0.7389656\tbest: 0.7389656 (130)\ttotal: 1m 4s\tremaining: 33.8s\n",
      "131:\tlearn: 0.7867118\ttest: 0.7389656\tbest: 0.7389656 (130)\ttotal: 1m 4s\tremaining: 33.3s\n",
      "132:\tlearn: 0.7874287\ttest: 0.7395184\tbest: 0.7395184 (132)\ttotal: 1m 5s\tremaining: 32.8s\n",
      "133:\tlearn: 0.7878356\ttest: 0.7395553\tbest: 0.7395553 (133)\ttotal: 1m 5s\tremaining: 32.3s\n",
      "134:\tlearn: 0.7879867\ttest: 0.7395020\tbest: 0.7395553 (133)\ttotal: 1m 6s\tremaining: 31.9s\n",
      "135:\tlearn: 0.7886839\ttest: 0.7397193\tbest: 0.7397193 (135)\ttotal: 1m 6s\tremaining: 31.4s\n",
      "136:\tlearn: 0.7884718\ttest: 0.7397193\tbest: 0.7397193 (135)\ttotal: 1m 7s\tremaining: 30.9s\n",
      "137:\tlearn: 0.7890213\ttest: 0.7403975\tbest: 0.7403975 (137)\ttotal: 1m 7s\tremaining: 30.4s\n",
      "138:\tlearn: 0.7897169\ttest: 0.7408941\tbest: 0.7408941 (138)\ttotal: 1m 8s\tremaining: 29.9s\n",
      "139:\tlearn: 0.7897885\ttest: 0.7413541\tbest: 0.7413541 (139)\ttotal: 1m 8s\tremaining: 29.4s\n",
      "140:\tlearn: 0.7917726\ttest: 0.7427946\tbest: 0.7427946 (140)\ttotal: 1m 9s\tremaining: 29s\n",
      "141:\tlearn: 0.7921295\ttest: 0.7427043\tbest: 0.7427946 (140)\ttotal: 1m 9s\tremaining: 28.5s\n",
      "142:\tlearn: 0.7927024\ttest: 0.7422806\tbest: 0.7427946 (140)\ttotal: 1m 10s\tremaining: 28s\n",
      "143:\tlearn: 0.7930587\ttest: 0.7423708\tbest: 0.7427946 (140)\ttotal: 1m 10s\tremaining: 27.5s\n",
      "144:\tlearn: 0.7932724\ttest: 0.7423708\tbest: 0.7427946 (140)\ttotal: 1m 11s\tremaining: 27s\n",
      "145:\tlearn: 0.7935103\ttest: 0.7425863\tbest: 0.7427946 (140)\ttotal: 1m 11s\tremaining: 26.5s\n",
      "146:\tlearn: 0.7941263\ttest: 0.7434059\tbest: 0.7434059 (146)\ttotal: 1m 12s\tremaining: 26s\n",
      "147:\tlearn: 0.7951211\ttest: 0.7441691\tbest: 0.7441691 (147)\ttotal: 1m 12s\tremaining: 25.6s\n",
      "148:\tlearn: 0.7950259\ttest: 0.7441691\tbest: 0.7441691 (147)\ttotal: 1m 13s\tremaining: 25.1s\n",
      "149:\tlearn: 0.7950259\ttest: 0.7439261\tbest: 0.7441691 (147)\ttotal: 1m 13s\tremaining: 24.6s\n",
      "150:\tlearn: 0.7950728\ttest: 0.7437735\tbest: 0.7441691 (147)\ttotal: 1m 14s\tremaining: 24.1s\n",
      "151:\tlearn: 0.7952148\ttest: 0.7439261\tbest: 0.7441691 (147)\ttotal: 1m 14s\tremaining: 23.6s\n",
      "152:\tlearn: 0.7954278\ttest: 0.7439261\tbest: 0.7441691 (147)\ttotal: 1m 15s\tremaining: 23.1s\n",
      "153:\tlearn: 0.7956406\ttest: 0.7439261\tbest: 0.7441691 (147)\ttotal: 1m 15s\tremaining: 22.7s\n",
      "154:\tlearn: 0.7956406\ttest: 0.7439261\tbest: 0.7441691 (147)\ttotal: 1m 16s\tremaining: 22.2s\n",
      "155:\tlearn: 0.7966800\ttest: 0.7440787\tbest: 0.7441691 (147)\ttotal: 1m 16s\tremaining: 21.7s\n",
      "156:\tlearn: 0.7967269\ttest: 0.7440787\tbest: 0.7441691 (147)\ttotal: 1m 17s\tremaining: 21.2s\n",
      "157:\tlearn: 0.7967269\ttest: 0.7440505\tbest: 0.7441691 (147)\ttotal: 1m 17s\tremaining: 20.7s\n",
      "158:\tlearn: 0.7970102\ttest: 0.7441409\tbest: 0.7441691 (147)\ttotal: 1m 18s\tremaining: 20.2s\n",
      "159:\tlearn: 0.7975770\ttest: 0.7450552\tbest: 0.7450552 (159)\ttotal: 1m 18s\tremaining: 19.7s\n",
      "160:\tlearn: 0.7977185\ttest: 0.7450552\tbest: 0.7450552 (159)\ttotal: 1m 19s\tremaining: 19.2s\n",
      "161:\tlearn: 0.7982595\ttest: 0.7453883\tbest: 0.7453883 (161)\ttotal: 1m 19s\tremaining: 18.8s\n",
      "162:\tlearn: 0.7986127\ttest: 0.7456928\tbest: 0.7456928 (162)\ttotal: 1m 20s\tremaining: 18.3s\n",
      "163:\tlearn: 0.7987540\ttest: 0.7455406\tbest: 0.7456928 (162)\ttotal: 1m 21s\tremaining: 17.8s\n",
      "164:\tlearn: 0.7989191\ttest: 0.7454170\tbest: 0.7456928 (162)\ttotal: 1m 21s\tremaining: 17.3s\n",
      "165:\tlearn: 0.7991307\ttest: 0.7455075\tbest: 0.7456928 (162)\ttotal: 1m 22s\tremaining: 16.8s\n",
      "166:\tlearn: 0.7997886\ttest: 0.7459643\tbest: 0.7459643 (166)\ttotal: 1m 22s\tremaining: 16.3s\n",
      "167:\tlearn: 0.8000939\ttest: 0.7458738\tbest: 0.7459643 (166)\ttotal: 1m 22s\tremaining: 15.8s\n",
      "168:\tlearn: 0.8004225\ttest: 0.7459355\tbest: 0.7459643 (166)\ttotal: 1m 23s\tremaining: 15.3s\n",
      "169:\tlearn: 0.8007040\ttest: 0.7459066\tbest: 0.7459643 (166)\ttotal: 1m 24s\tremaining: 14.8s\n",
      "170:\tlearn: 0.8007744\ttest: 0.7458162\tbest: 0.7459643 (166)\ttotal: 1m 24s\tremaining: 14.3s\n",
      "171:\tlearn: 0.8010557\ttest: 0.7458162\tbest: 0.7459643 (166)\ttotal: 1m 25s\tremaining: 13.8s\n",
      "172:\tlearn: 0.8018525\ttest: 0.7456970\tbest: 0.7459643 (166)\ttotal: 1m 25s\tremaining: 13.3s\n",
      "173:\tlearn: 0.8021804\ttest: 0.7457586\tbest: 0.7459643 (166)\ttotal: 1m 25s\tremaining: 12.8s\n",
      "174:\tlearn: 0.8030001\ttest: 0.7460010\tbest: 0.7460010 (174)\ttotal: 1m 26s\tremaining: 12.4s\n",
      "175:\tlearn: 0.8032806\ttest: 0.7460010\tbest: 0.7460010 (174)\ttotal: 1m 26s\tremaining: 11.9s\n",
      "176:\tlearn: 0.8036310\ttest: 0.7460010\tbest: 0.7460010 (174)\ttotal: 1m 27s\tremaining: 11.4s\n",
      "177:\tlearn: 0.8040283\ttest: 0.7460914\tbest: 0.7460914 (177)\ttotal: 1m 27s\tremaining: 10.9s\n",
      "178:\tlearn: 0.8052662\ttest: 0.7461203\tbest: 0.7461203 (178)\ttotal: 1m 28s\tremaining: 10.4s\n",
      "179:\tlearn: 0.8058252\ttest: 0.7461203\tbest: 0.7461203 (178)\ttotal: 1m 28s\tremaining: 9.87s\n",
      "180:\tlearn: 0.8059178\ttest: 0.7459682\tbest: 0.7461203 (178)\ttotal: 1m 29s\tremaining: 9.37s\n",
      "181:\tlearn: 0.8058008\ttest: 0.7464533\tbest: 0.7464533 (181)\ttotal: 1m 29s\tremaining: 8.88s\n",
      "182:\tlearn: 0.8066873\ttest: 0.7478808\tbest: 0.7478808 (182)\ttotal: 1m 30s\tremaining: 8.38s\n",
      "183:\tlearn: 0.8070832\ttest: 0.7477292\tbest: 0.7478808 (182)\ttotal: 1m 30s\tremaining: 7.89s\n",
      "184:\tlearn: 0.8072226\ttest: 0.7475775\tbest: 0.7478808 (182)\ttotal: 1m 31s\tremaining: 7.39s\n",
      "185:\tlearn: 0.8074316\ttest: 0.7475775\tbest: 0.7478808 (182)\ttotal: 1m 31s\tremaining: 6.9s\n",
      "186:\tlearn: 0.8081056\ttest: 0.7474258\tbest: 0.7478808 (182)\ttotal: 1m 32s\tremaining: 6.41s\n",
      "187:\tlearn: 0.8082920\ttest: 0.7475775\tbest: 0.7478808 (182)\ttotal: 1m 32s\tremaining: 5.91s\n",
      "188:\tlearn: 0.8087566\ttest: 0.7478198\tbest: 0.7478808 (182)\ttotal: 1m 33s\tremaining: 5.42s\n",
      "189:\tlearn: 0.8090819\ttest: 0.7479714\tbest: 0.7479714 (189)\ttotal: 1m 33s\tremaining: 4.93s\n",
      "190:\tlearn: 0.8097265\ttest: 0.7477608\tbest: 0.7479714 (189)\ttotal: 1m 34s\tremaining: 4.43s\n",
      "191:\tlearn: 0.8100041\ttest: 0.7479124\tbest: 0.7479714 (189)\ttotal: 1m 34s\tremaining: 3.94s\n",
      "192:\tlearn: 0.8103509\ttest: 0.7479124\tbest: 0.7479714 (189)\ttotal: 1m 35s\tremaining: 3.45s\n",
      "193:\tlearn: 0.8108108\ttest: 0.7475212\tbest: 0.7479714 (189)\ttotal: 1m 35s\tremaining: 2.96s\n",
      "194:\tlearn: 0.8108297\ttest: 0.7478534\tbest: 0.7479714 (189)\ttotal: 1m 36s\tremaining: 2.46s\n",
      "195:\tlearn: 0.8111538\ttest: 0.7478534\tbest: 0.7479714 (189)\ttotal: 1m 36s\tremaining: 1.97s\n",
      "196:\tlearn: 0.8116161\ttest: 0.7480048\tbest: 0.7480048 (196)\ttotal: 1m 37s\tremaining: 1.48s\n",
      "197:\tlearn: 0.8119181\ttest: 0.7480344\tbest: 0.7480344 (197)\ttotal: 1m 37s\tremaining: 986ms\n",
      "198:\tlearn: 0.8124491\ttest: 0.7478534\tbest: 0.7480344 (197)\ttotal: 1m 38s\tremaining: 493ms\n",
      "199:\tlearn: 0.8128199\ttest: 0.7477630\tbest: 0.7480344 (197)\ttotal: 1m 38s\tremaining: 0us\n",
      "\n",
      "bestTest = 0.7480343535\n",
      "bestIteration = 197\n",
      "\n",
      "Training on fold [2/3]\n",
      "0:\tlearn: 0.4576298\ttest: 0.4684153\tbest: 0.4684153 (0)\ttotal: 509ms\tremaining: 1m 41s\n",
      "1:\tlearn: 0.5217586\ttest: 0.5331361\tbest: 0.5331361 (1)\ttotal: 1s\tremaining: 1m 39s\n",
      "2:\tlearn: 0.4923951\ttest: 0.5051798\tbest: 0.5331361 (1)\ttotal: 1.52s\tremaining: 1m 39s\n",
      "3:\tlearn: 0.5344308\ttest: 0.5493388\tbest: 0.5493388 (3)\ttotal: 2.07s\tremaining: 1m 41s\n",
      "4:\tlearn: 0.5634898\ttest: 0.5801505\tbest: 0.5801505 (4)\ttotal: 2.59s\tremaining: 1m 40s\n",
      "5:\tlearn: 0.5576256\ttest: 0.5722436\tbest: 0.5801505 (4)\ttotal: 3.09s\tremaining: 1m 39s\n",
      "6:\tlearn: 0.5592334\ttest: 0.5747061\tbest: 0.5801505 (4)\ttotal: 3.6s\tremaining: 1m 39s\n",
      "7:\tlearn: 0.5906116\ttest: 0.5999721\tbest: 0.5999721 (7)\ttotal: 4.12s\tremaining: 1m 38s\n",
      "8:\tlearn: 0.6087198\ttest: 0.6142581\tbest: 0.6142581 (8)\ttotal: 4.64s\tremaining: 1m 38s\n",
      "9:\tlearn: 0.6129367\ttest: 0.6180766\tbest: 0.6180766 (9)\ttotal: 5.15s\tremaining: 1m 37s\n",
      "10:\tlearn: 0.6237576\ttest: 0.6269473\tbest: 0.6269473 (10)\ttotal: 5.66s\tremaining: 1m 37s\n",
      "11:\tlearn: 0.6270537\ttest: 0.6312202\tbest: 0.6312202 (11)\ttotal: 6.18s\tremaining: 1m 36s\n",
      "12:\tlearn: 0.6371645\ttest: 0.6413719\tbest: 0.6413719 (12)\ttotal: 6.72s\tremaining: 1m 36s\n",
      "13:\tlearn: 0.6436952\ttest: 0.6474781\tbest: 0.6474781 (13)\ttotal: 7.26s\tremaining: 1m 36s\n",
      "14:\tlearn: 0.6504893\ttest: 0.6533886\tbest: 0.6533886 (14)\ttotal: 7.76s\tremaining: 1m 35s\n",
      "15:\tlearn: 0.6577576\ttest: 0.6581231\tbest: 0.6581231 (15)\ttotal: 8.25s\tremaining: 1m 34s\n",
      "16:\tlearn: 0.6695624\ttest: 0.6693845\tbest: 0.6693845 (16)\ttotal: 8.73s\tremaining: 1m 33s\n",
      "17:\tlearn: 0.6731906\ttest: 0.6715712\tbest: 0.6715712 (17)\ttotal: 9.23s\tremaining: 1m 33s\n",
      "18:\tlearn: 0.6765303\ttest: 0.6744399\tbest: 0.6744399 (18)\ttotal: 9.71s\tremaining: 1m 32s\n",
      "19:\tlearn: 0.6802765\ttest: 0.6785854\tbest: 0.6785854 (19)\ttotal: 10.2s\tremaining: 1m 31s\n",
      "20:\tlearn: 0.6877711\ttest: 0.6863507\tbest: 0.6863507 (20)\ttotal: 10.8s\tremaining: 1m 31s\n",
      "21:\tlearn: 0.6910664\ttest: 0.6886305\tbest: 0.6886305 (21)\ttotal: 11.3s\tremaining: 1m 31s\n",
      "22:\tlearn: 0.6926647\ttest: 0.6902426\tbest: 0.6902426 (22)\ttotal: 11.7s\tremaining: 1m 30s\n",
      "23:\tlearn: 0.6967361\ttest: 0.6938513\tbest: 0.6938513 (23)\ttotal: 12.2s\tremaining: 1m 29s\n",
      "24:\tlearn: 0.7010507\ttest: 0.6965340\tbest: 0.6965340 (24)\ttotal: 12.7s\tremaining: 1m 28s\n",
      "25:\tlearn: 0.7052517\ttest: 0.7010098\tbest: 0.7010098 (25)\ttotal: 13.2s\tremaining: 1m 28s\n",
      "26:\tlearn: 0.7087255\ttest: 0.7029438\tbest: 0.7029438 (26)\ttotal: 13.7s\tremaining: 1m 27s\n",
      "27:\tlearn: 0.7100178\ttest: 0.7034535\tbest: 0.7034535 (27)\ttotal: 14.1s\tremaining: 1m 26s\n",
      "28:\tlearn: 0.7117569\ttest: 0.7053288\tbest: 0.7053288 (28)\ttotal: 14.6s\tremaining: 1m 26s\n",
      "29:\tlearn: 0.7129366\ttest: 0.7066599\tbest: 0.7066599 (29)\ttotal: 15.1s\tremaining: 1m 25s\n",
      "30:\tlearn: 0.7141771\ttest: 0.7067344\tbest: 0.7067344 (30)\ttotal: 15.6s\tremaining: 1m 24s\n",
      "31:\tlearn: 0.7158214\ttest: 0.7072118\tbest: 0.7072118 (31)\ttotal: 16.1s\tremaining: 1m 24s\n",
      "32:\tlearn: 0.7146660\ttest: 0.7062262\tbest: 0.7072118 (31)\ttotal: 16.6s\tremaining: 1m 24s\n",
      "33:\tlearn: 0.7164632\ttest: 0.7076884\tbest: 0.7076884 (33)\ttotal: 17.1s\tremaining: 1m 23s\n",
      "34:\tlearn: 0.7127578\ttest: 0.7036280\tbest: 0.7076884 (33)\ttotal: 17.6s\tremaining: 1m 23s\n",
      "35:\tlearn: 0.7171506\ttest: 0.7072427\tbest: 0.7076884 (33)\ttotal: 18.2s\tremaining: 1m 22s\n",
      "36:\tlearn: 0.7190458\ttest: 0.7094483\tbest: 0.7094483 (36)\ttotal: 18.7s\tremaining: 1m 22s\n",
      "37:\tlearn: 0.7204640\ttest: 0.7107564\tbest: 0.7107564 (37)\ttotal: 19.3s\tremaining: 1m 22s\n",
      "38:\tlearn: 0.7221662\ttest: 0.7111900\tbest: 0.7111900 (38)\ttotal: 19.8s\tremaining: 1m 21s\n",
      "39:\tlearn: 0.7228552\ttest: 0.7118429\tbest: 0.7118429 (39)\ttotal: 20.3s\tremaining: 1m 21s\n",
      "40:\tlearn: 0.7307620\ttest: 0.7178137\tbest: 0.7178137 (40)\ttotal: 20.8s\tremaining: 1m 20s\n",
      "41:\tlearn: 0.7309803\ttest: 0.7181545\tbest: 0.7181545 (41)\ttotal: 21.3s\tremaining: 1m 19s\n",
      "42:\tlearn: 0.7325574\ttest: 0.7194191\tbest: 0.7194191 (42)\ttotal: 21.8s\tremaining: 1m 19s\n",
      "43:\tlearn: 0.7328729\ttest: 0.7195794\tbest: 0.7195794 (43)\ttotal: 22.3s\tremaining: 1m 19s\n",
      "44:\tlearn: 0.7356793\ttest: 0.7217989\tbest: 0.7217989 (44)\ttotal: 22.8s\tremaining: 1m 18s\n",
      "45:\tlearn: 0.7348993\ttest: 0.7218609\tbest: 0.7218609 (45)\ttotal: 23.3s\tremaining: 1m 17s\n",
      "46:\tlearn: 0.7358420\ttest: 0.7227500\tbest: 0.7227500 (46)\ttotal: 23.7s\tremaining: 1m 17s\n",
      "47:\tlearn: 0.7378593\ttest: 0.7243702\tbest: 0.7243702 (47)\ttotal: 24.2s\tremaining: 1m 16s\n",
      "48:\tlearn: 0.7389071\ttest: 0.7259813\tbest: 0.7259813 (48)\ttotal: 24.7s\tremaining: 1m 16s\n",
      "49:\tlearn: 0.7392192\ttest: 0.7264574\tbest: 0.7264574 (49)\ttotal: 25.2s\tremaining: 1m 15s\n",
      "50:\tlearn: 0.7399530\ttest: 0.7280865\tbest: 0.7280865 (50)\ttotal: 25.6s\tremaining: 1m 14s\n",
      "51:\tlearn: 0.7403882\ttest: 0.7279960\tbest: 0.7280865 (50)\ttotal: 26.1s\tremaining: 1m 14s\n",
      "52:\tlearn: 0.7409787\ttest: 0.7288767\tbest: 0.7288767 (52)\ttotal: 26.6s\tremaining: 1m 13s\n",
      "53:\tlearn: 0.7420770\ttest: 0.7295316\tbest: 0.7295316 (53)\ttotal: 27.1s\tremaining: 1m 13s\n",
      "54:\tlearn: 0.7435297\ttest: 0.7290995\tbest: 0.7295316 (53)\ttotal: 27.6s\tremaining: 1m 12s\n",
      "55:\tlearn: 0.7449846\ttest: 0.7301784\tbest: 0.7301784 (55)\ttotal: 28.1s\tremaining: 1m 12s\n",
      "56:\tlearn: 0.7471934\ttest: 0.7319422\tbest: 0.7319422 (56)\ttotal: 28.6s\tremaining: 1m 11s\n",
      "57:\tlearn: 0.7475008\ttest: 0.7319422\tbest: 0.7319422 (56)\ttotal: 29.1s\tremaining: 1m 11s\n",
      "58:\tlearn: 0.7474239\ttest: 0.7317856\tbest: 0.7319422 (56)\ttotal: 29.6s\tremaining: 1m 10s\n",
      "59:\tlearn: 0.7482685\ttest: 0.7331523\tbest: 0.7331523 (59)\ttotal: 30.1s\tremaining: 1m 10s\n",
      "60:\tlearn: 0.7488366\ttest: 0.7333662\tbest: 0.7333662 (60)\ttotal: 30.7s\tremaining: 1m 9s\n",
      "61:\tlearn: 0.7491430\ttest: 0.7336126\tbest: 0.7336126 (61)\ttotal: 31.2s\tremaining: 1m 9s\n",
      "62:\tlearn: 0.7501529\ttest: 0.7338998\tbest: 0.7338998 (62)\ttotal: 31.7s\tremaining: 1m 8s\n",
      "63:\tlearn: 0.7510394\ttest: 0.7337191\tbest: 0.7338998 (62)\ttotal: 32.2s\tremaining: 1m 8s\n",
      "64:\tlearn: 0.7520323\ttest: 0.7340308\tbest: 0.7340308 (64)\ttotal: 32.7s\tremaining: 1m 7s\n",
      "65:\tlearn: 0.7530547\ttest: 0.7338253\tbest: 0.7340308 (64)\ttotal: 33.2s\tremaining: 1m 7s\n",
      "66:\tlearn: 0.7542166\ttest: 0.7356124\tbest: 0.7356124 (66)\ttotal: 33.8s\tremaining: 1m 7s\n",
      "67:\tlearn: 0.7557373\ttest: 0.7368938\tbest: 0.7368938 (67)\ttotal: 34.2s\tremaining: 1m 6s\n",
      "68:\tlearn: 0.7560410\ttest: 0.7371134\tbest: 0.7371134 (68)\ttotal: 34.7s\tremaining: 1m 5s\n",
      "69:\tlearn: 0.7563148\ttest: 0.7372684\tbest: 0.7372684 (69)\ttotal: 35.2s\tremaining: 1m 5s\n",
      "70:\tlearn: 0.7581588\ttest: 0.7378736\tbest: 0.7378736 (70)\ttotal: 35.7s\tremaining: 1m 4s\n",
      "71:\tlearn: 0.7592040\ttest: 0.7381827\tbest: 0.7381827 (71)\ttotal: 36.2s\tremaining: 1m 4s\n",
      "72:\tlearn: 0.7598540\ttest: 0.7384917\tbest: 0.7384917 (72)\ttotal: 36.8s\tremaining: 1m 3s\n",
      "73:\tlearn: 0.7599294\ttest: 0.7387365\tbest: 0.7387365 (73)\ttotal: 37.3s\tremaining: 1m 3s\n",
      "74:\tlearn: 0.7606609\ttest: 0.7391996\tbest: 0.7391996 (74)\ttotal: 37.8s\tremaining: 1m 2s\n",
      "75:\tlearn: 0.7617602\ttest: 0.7393272\tbest: 0.7393272 (75)\ttotal: 38.3s\tremaining: 1m 2s\n",
      "76:\tlearn: 0.7623726\ttest: 0.7394013\tbest: 0.7394013 (76)\ttotal: 38.8s\tremaining: 1m 1s\n",
      "77:\tlearn: 0.7625978\ttest: 0.7395553\tbest: 0.7395553 (77)\ttotal: 39.3s\tremaining: 1m 1s\n",
      "78:\tlearn: 0.7629154\ttest: 0.7397093\tbest: 0.7397093 (78)\ttotal: 39.8s\tremaining: 1m\n",
      "79:\tlearn: 0.7638367\ttest: 0.7405326\tbest: 0.7405326 (79)\ttotal: 40.3s\tremaining: 1m\n",
      "80:\tlearn: 0.7639864\ttest: 0.7405960\tbest: 0.7405960 (80)\ttotal: 40.8s\tremaining: 59.9s\n",
      "81:\tlearn: 0.7649017\ttest: 0.7410573\tbest: 0.7410573 (81)\ttotal: 41.3s\tremaining: 59.4s\n",
      "82:\tlearn: 0.7651721\ttest: 0.7408131\tbest: 0.7410573 (81)\ttotal: 41.7s\tremaining: 58.9s\n",
      "83:\tlearn: 0.7652184\ttest: 0.7412382\tbest: 0.7412382 (83)\ttotal: 42.2s\tremaining: 58.3s\n",
      "84:\tlearn: 0.7657979\ttest: 0.7416169\tbest: 0.7416169 (84)\ttotal: 42.7s\tremaining: 57.8s\n",
      "85:\tlearn: 0.7661710\ttest: 0.7417703\tbest: 0.7417703 (85)\ttotal: 43.2s\tremaining: 57.3s\n",
      "86:\tlearn: 0.7663664\ttest: 0.7420141\tbest: 0.7420141 (86)\ttotal: 43.7s\tremaining: 56.7s\n",
      "87:\tlearn: 0.7671398\ttest: 0.7417783\tbest: 0.7420141 (86)\ttotal: 44.2s\tremaining: 56.2s\n",
      "88:\tlearn: 0.7672606\ttest: 0.7419944\tbest: 0.7420141 (86)\ttotal: 44.6s\tremaining: 55.7s\n",
      "89:\tlearn: 0.7685258\ttest: 0.7428294\tbest: 0.7428294 (89)\ttotal: 45.1s\tremaining: 55.1s\n",
      "90:\tlearn: 0.7692400\ttest: 0.7429197\tbest: 0.7429197 (90)\ttotal: 45.6s\tremaining: 54.6s\n",
      "91:\tlearn: 0.7698054\ttest: 0.7426766\tbest: 0.7429197 (90)\ttotal: 46s\tremaining: 54.1s\n",
      "92:\tlearn: 0.7707857\ttest: 0.7435648\tbest: 0.7435648 (92)\ttotal: 46.5s\tremaining: 53.5s\n",
      "93:\tlearn: 0.7713925\ttest: 0.7434809\tbest: 0.7435648 (92)\ttotal: 47s\tremaining: 53s\n",
      "94:\tlearn: 0.7715126\ttest: 0.7422956\tbest: 0.7435648 (92)\ttotal: 47.4s\tremaining: 52.4s\n",
      "95:\tlearn: 0.7710785\ttest: 0.7420255\tbest: 0.7435648 (92)\ttotal: 47.9s\tremaining: 51.9s\n",
      "96:\tlearn: 0.7713188\ttest: 0.7417829\tbest: 0.7435648 (92)\ttotal: 48.4s\tremaining: 51.4s\n",
      "97:\tlearn: 0.7713925\ttest: 0.7418729\tbest: 0.7435648 (92)\ttotal: 48.8s\tremaining: 50.8s\n",
      "98:\tlearn: 0.7717887\ttest: 0.7418455\tbest: 0.7435648 (92)\ttotal: 49.3s\tremaining: 50.3s\n",
      "99:\tlearn: 0.7729318\ttest: 0.7425251\tbest: 0.7435648 (92)\ttotal: 49.8s\tremaining: 49.8s\n",
      "100:\tlearn: 0.7743289\ttest: 0.7434378\tbest: 0.7435648 (92)\ttotal: 50.3s\tremaining: 49.3s\n",
      "101:\tlearn: 0.7747964\ttest: 0.7439894\tbest: 0.7439894 (101)\ttotal: 50.7s\tremaining: 48.7s\n",
      "102:\tlearn: 0.7747964\ttest: 0.7439894\tbest: 0.7439894 (101)\ttotal: 51.2s\tremaining: 48.2s\n",
      "103:\tlearn: 0.7756030\ttest: 0.7448709\tbest: 0.7448709 (103)\ttotal: 51.7s\tremaining: 47.7s\n",
      "104:\tlearn: 0.7756959\ttest: 0.7450223\tbest: 0.7450223 (104)\ttotal: 52.2s\tremaining: 47.2s\n",
      "105:\tlearn: 0.7757547\ttest: 0.7452022\tbest: 0.7452022 (105)\ttotal: 52.6s\tremaining: 46.7s\n",
      "106:\tlearn: 0.7770464\ttest: 0.7453251\tbest: 0.7453251 (106)\ttotal: 53.1s\tremaining: 46.2s\n",
      "107:\tlearn: 0.7774853\ttest: 0.7453866\tbest: 0.7453866 (107)\ttotal: 53.6s\tremaining: 45.6s\n",
      "108:\tlearn: 0.7776316\ttest: 0.7453866\tbest: 0.7453866 (107)\ttotal: 54.1s\tremaining: 45.1s\n",
      "109:\tlearn: 0.7776316\ttest: 0.7454765\tbest: 0.7454765 (109)\ttotal: 54.5s\tremaining: 44.6s\n",
      "110:\tlearn: 0.7790580\ttest: 0.7460241\tbest: 0.7460241 (110)\ttotal: 55s\tremaining: 44.1s\n",
      "111:\tlearn: 0.7789851\ttest: 0.7460241\tbest: 0.7460241 (110)\ttotal: 55.5s\tremaining: 43.6s\n",
      "112:\tlearn: 0.7802493\ttest: 0.7464806\tbest: 0.7464806 (112)\ttotal: 55.9s\tremaining: 43.1s\n",
      "113:\tlearn: 0.7800775\ttest: 0.7461788\tbest: 0.7464806 (112)\ttotal: 56.4s\tremaining: 42.6s\n",
      "114:\tlearn: 0.7812407\ttest: 0.7481375\tbest: 0.7481375 (114)\ttotal: 56.9s\tremaining: 42s\n",
      "115:\tlearn: 0.7811681\ttest: 0.7479870\tbest: 0.7481375 (114)\ttotal: 57.3s\tremaining: 41.5s\n",
      "116:\tlearn: 0.7811159\ttest: 0.7480769\tbest: 0.7481375 (114)\ttotal: 57.8s\tremaining: 41s\n",
      "117:\tlearn: 0.7814064\ttest: 0.7487685\tbest: 0.7487685 (117)\ttotal: 58.3s\tremaining: 40.5s\n",
      "118:\tlearn: 0.7824482\ttest: 0.7499100\tbest: 0.7499100 (118)\ttotal: 58.7s\tremaining: 40s\n",
      "119:\tlearn: 0.7823757\ttest: 0.7500600\tbest: 0.7500600 (119)\ttotal: 59.2s\tremaining: 39.5s\n",
      "120:\tlearn: 0.7829813\ttest: 0.7501501\tbest: 0.7501501 (120)\ttotal: 59.7s\tremaining: 39s\n",
      "121:\tlearn: 0.7830020\ttest: 0.7500000\tbest: 0.7501501 (120)\ttotal: 1m\tremaining: 38.5s\n",
      "122:\tlearn: 0.7830020\ttest: 0.7500000\tbest: 0.7501501 (120)\ttotal: 1m\tremaining: 38s\n",
      "123:\tlearn: 0.7830486\ttest: 0.7500000\tbest: 0.7501501 (120)\ttotal: 1m 1s\tremaining: 37.5s\n",
      "124:\tlearn: 0.7829037\ttest: 0.7500000\tbest: 0.7501501 (120)\ttotal: 1m 1s\tremaining: 36.9s\n",
      "125:\tlearn: 0.7829762\ttest: 0.7500000\tbest: 0.7501501 (120)\ttotal: 1m 2s\tremaining: 36.5s\n",
      "126:\tlearn: 0.7830486\ttest: 0.7501501\tbest: 0.7501501 (120)\ttotal: 1m 2s\tremaining: 36s\n",
      "127:\tlearn: 0.7830486\ttest: 0.7501501\tbest: 0.7501501 (120)\ttotal: 1m 3s\tremaining: 35.5s\n",
      "128:\tlearn: 0.7829762\ttest: 0.7501501\tbest: 0.7501501 (120)\ttotal: 1m 3s\tremaining: 35s\n",
      "129:\tlearn: 0.7840875\ttest: 0.7500300\tbest: 0.7501501 (120)\ttotal: 1m 4s\tremaining: 34.5s\n",
      "130:\tlearn: 0.7847680\ttest: 0.7503001\tbest: 0.7503001 (130)\ttotal: 1m 4s\tremaining: 34s\n",
      "131:\tlearn: 0.7851033\ttest: 0.7502101\tbest: 0.7503001 (130)\ttotal: 1m 5s\tremaining: 33.5s\n",
      "132:\tlearn: 0.7850778\ttest: 0.7500600\tbest: 0.7503001 (130)\ttotal: 1m 5s\tremaining: 33s\n",
      "133:\tlearn: 0.7850056\ttest: 0.7500600\tbest: 0.7503001 (130)\ttotal: 1m 6s\tremaining: 32.5s\n",
      "134:\tlearn: 0.7850223\ttest: 0.7497898\tbest: 0.7503001 (130)\ttotal: 1m 6s\tremaining: 32s\n",
      "135:\tlearn: 0.7850223\ttest: 0.7497898\tbest: 0.7503001 (130)\ttotal: 1m 7s\tremaining: 31.5s\n",
      "136:\tlearn: 0.7849501\ttest: 0.7498499\tbest: 0.7503001 (130)\ttotal: 1m 7s\tremaining: 31.1s\n",
      "137:\tlearn: 0.7850223\ttest: 0.7499100\tbest: 0.7503001 (130)\ttotal: 1m 8s\tremaining: 30.6s\n",
      "138:\tlearn: 0.7852899\ttest: 0.7498800\tbest: 0.7503001 (130)\ttotal: 1m 8s\tremaining: 30.1s\n",
      "139:\tlearn: 0.7854342\ttest: 0.7498800\tbest: 0.7503001 (130)\ttotal: 1m 9s\tremaining: 29.6s\n",
      "140:\tlearn: 0.7857949\ttest: 0.7498800\tbest: 0.7503001 (130)\ttotal: 1m 9s\tremaining: 29.1s\n",
      "141:\tlearn: 0.7867782\ttest: 0.7508401\tbest: 0.7508401 (141)\ttotal: 1m 10s\tremaining: 28.6s\n",
      "142:\tlearn: 0.7869942\ttest: 0.7507500\tbest: 0.7508401 (141)\ttotal: 1m 10s\tremaining: 28.1s\n",
      "143:\tlearn: 0.7867062\ttest: 0.7508098\tbest: 0.7508401 (141)\ttotal: 1m 11s\tremaining: 27.6s\n",
      "144:\tlearn: 0.7872858\ttest: 0.7509294\tbest: 0.7509294 (144)\ttotal: 1m 11s\tremaining: 27.1s\n",
      "145:\tlearn: 0.7877674\ttest: 0.7510791\tbest: 0.7510791 (145)\ttotal: 1m 12s\tremaining: 26.7s\n",
      "146:\tlearn: 0.7884820\ttest: 0.7507191\tbest: 0.7510791 (145)\ttotal: 1m 12s\tremaining: 26.2s\n",
      "147:\tlearn: 0.7892462\ttest: 0.7509881\tbest: 0.7510791 (145)\ttotal: 1m 12s\tremaining: 25.6s\n",
      "148:\tlearn: 0.7899627\ttest: 0.7513468\tbest: 0.7513468 (148)\ttotal: 1m 13s\tremaining: 25.1s\n",
      "149:\tlearn: 0.7907499\ttest: 0.7513468\tbest: 0.7513468 (148)\ttotal: 1m 13s\tremaining: 24.6s\n",
      "150:\tlearn: 0.7910360\ttest: 0.7514063\tbest: 0.7514063 (150)\ttotal: 1m 14s\tremaining: 24.1s\n",
      "151:\tlearn: 0.7913218\ttest: 0.7515558\tbest: 0.7515558 (151)\ttotal: 1m 14s\tremaining: 23.6s\n",
      "152:\tlearn: 0.7920359\ttest: 0.7523616\tbest: 0.7523616 (152)\ttotal: 1m 15s\tremaining: 23.1s\n",
      "153:\tlearn: 0.7925108\ttest: 0.7522716\tbest: 0.7523616 (152)\ttotal: 1m 15s\tremaining: 22.6s\n",
      "154:\tlearn: 0.7929630\ttest: 0.7523002\tbest: 0.7523616 (152)\ttotal: 1m 16s\tremaining: 22.1s\n",
      "155:\tlearn: 0.7936264\ttest: 0.7524800\tbest: 0.7524800 (155)\ttotal: 1m 16s\tremaining: 21.6s\n",
      "156:\tlearn: 0.7939598\ttest: 0.7521511\tbest: 0.7524800 (155)\ttotal: 1m 17s\tremaining: 21.1s\n",
      "157:\tlearn: 0.7942685\ttest: 0.7528372\tbest: 0.7528372 (157)\ttotal: 1m 17s\tremaining: 20.6s\n",
      "158:\tlearn: 0.7945755\ttest: 0.7528372\tbest: 0.7528372 (157)\ttotal: 1m 18s\tremaining: 20.1s\n",
      "159:\tlearn: 0.7954037\ttest: 0.7535782\tbest: 0.7535782 (159)\ttotal: 1m 18s\tremaining: 19.6s\n",
      "160:\tlearn: 0.7957344\ttest: 0.7538755\tbest: 0.7538755 (160)\ttotal: 1m 19s\tremaining: 19.2s\n",
      "161:\tlearn: 0.7959941\ttest: 0.7538755\tbest: 0.7538755 (160)\ttotal: 1m 19s\tremaining: 18.7s\n",
      "162:\tlearn: 0.7962538\ttest: 0.7540241\tbest: 0.7540241 (162)\ttotal: 1m 20s\tremaining: 18.2s\n",
      "163:\tlearn: 0.7966781\ttest: 0.7541413\tbest: 0.7541413 (163)\ttotal: 1m 20s\tremaining: 17.7s\n",
      "164:\tlearn: 0.7968906\ttest: 0.7544382\tbest: 0.7544382 (164)\ttotal: 1m 20s\tremaining: 17.2s\n",
      "165:\tlearn: 0.7973156\ttest: 0.7544382\tbest: 0.7544382 (164)\ttotal: 1m 21s\tremaining: 16.7s\n",
      "166:\tlearn: 0.7983999\ttest: 0.7548203\tbest: 0.7548203 (166)\ttotal: 1m 21s\tremaining: 16.2s\n",
      "167:\tlearn: 0.7982585\ttest: 0.7546721\tbest: 0.7548203 (166)\ttotal: 1m 22s\tremaining: 15.7s\n",
      "168:\tlearn: 0.7986119\ttest: 0.7552964\tbest: 0.7552964 (168)\ttotal: 1m 22s\tremaining: 15.2s\n",
      "169:\tlearn: 0.7988002\ttest: 0.7554445\tbest: 0.7554445 (169)\ttotal: 1m 23s\tremaining: 14.7s\n",
      "170:\tlearn: 0.7996001\ttest: 0.7552065\tbest: 0.7554445 (169)\ttotal: 1m 23s\tremaining: 14.2s\n",
      "171:\tlearn: 0.7997413\ttest: 0.7552964\tbest: 0.7554445 (169)\ttotal: 1m 24s\tremaining: 13.7s\n",
      "172:\tlearn: 0.8003291\ttest: 0.7550535\tbest: 0.7554445 (169)\ttotal: 1m 24s\tremaining: 13.2s\n",
      "173:\tlearn: 0.8005405\ttest: 0.7549637\tbest: 0.7554445 (169)\ttotal: 1m 25s\tremaining: 12.7s\n",
      "174:\tlearn: 0.8007519\ttest: 0.7546676\tbest: 0.7554445 (169)\ttotal: 1m 25s\tremaining: 12.2s\n",
      "175:\tlearn: 0.8009164\ttest: 0.7548472\tbest: 0.7554445 (169)\ttotal: 1m 26s\tremaining: 11.8s\n",
      "176:\tlearn: 0.8019959\ttest: 0.7548740\tbest: 0.7554445 (169)\ttotal: 1m 26s\tremaining: 11.3s\n",
      "177:\tlearn: 0.8016442\ttest: 0.7553179\tbest: 0.7554445 (169)\ttotal: 1m 27s\tremaining: 10.8s\n",
      "178:\tlearn: 0.8022300\ttest: 0.7552547\tbest: 0.7554445 (169)\ttotal: 1m 27s\tremaining: 10.3s\n",
      "179:\tlearn: 0.8025582\ttest: 0.7552547\tbest: 0.7554445 (169)\ttotal: 1m 28s\tremaining: 9.79s\n",
      "180:\tlearn: 0.8033075\ttest: 0.7557297\tbest: 0.7557297 (180)\ttotal: 1m 28s\tremaining: 9.29s\n",
      "181:\tlearn: 0.8035882\ttest: 0.7555503\tbest: 0.7557297 (180)\ttotal: 1m 28s\tremaining: 8.8s\n",
      "182:\tlearn: 0.8037986\ttest: 0.7558457\tbest: 0.7558457 (182)\ttotal: 1m 29s\tremaining: 8.31s\n",
      "183:\tlearn: 0.8041261\ttest: 0.7560513\tbest: 0.7560513 (183)\ttotal: 1m 29s\tremaining: 7.82s\n",
      "184:\tlearn: 0.8044064\ttest: 0.7561410\tbest: 0.7561410 (184)\ttotal: 1m 30s\tremaining: 7.33s\n",
      "185:\tlearn: 0.8050337\ttest: 0.7560513\tbest: 0.7561410 (184)\ttotal: 1m 30s\tremaining: 6.84s\n",
      "186:\tlearn: 0.8052693\ttest: 0.7570836\tbest: 0.7570836 (186)\ttotal: 1m 31s\tremaining: 6.35s\n",
      "187:\tlearn: 0.8051994\ttest: 0.7569362\tbest: 0.7570836 (186)\ttotal: 1m 31s\tremaining: 5.86s\n",
      "188:\tlearn: 0.8054791\ttest: 0.7566414\tbest: 0.7570836 (186)\ttotal: 1m 32s\tremaining: 5.37s\n",
      "189:\tlearn: 0.8060156\ttest: 0.7569362\tbest: 0.7570836 (186)\ttotal: 1m 32s\tremaining: 4.88s\n",
      "190:\tlearn: 0.8063421\ttest: 0.7570260\tbest: 0.7570836 (186)\ttotal: 1m 33s\tremaining: 4.39s\n",
      "191:\tlearn: 0.8064120\ttest: 0.7570260\tbest: 0.7570836 (186)\ttotal: 1m 33s\tremaining: 3.9s\n",
      "192:\tlearn: 0.8068308\ttest: 0.7570836\tbest: 0.7570836 (186)\ttotal: 1m 34s\tremaining: 3.42s\n",
      "193:\tlearn: 0.8072493\ttest: 0.7570836\tbest: 0.7570836 (186)\ttotal: 1m 34s\tremaining: 2.93s\n",
      "194:\tlearn: 0.8071099\ttest: 0.7572309\tbest: 0.7572309 (194)\ttotal: 1m 35s\tremaining: 2.44s\n",
      "195:\tlearn: 0.8079958\ttest: 0.7582040\tbest: 0.7582040 (195)\ttotal: 1m 35s\tremaining: 1.95s\n",
      "196:\tlearn: 0.8081351\ttest: 0.7581142\tbest: 0.7582040 (195)\ttotal: 1m 36s\tremaining: 1.46s\n",
      "197:\tlearn: 0.8086921\ttest: 0.7584083\tbest: 0.7584083 (197)\ttotal: 1m 36s\tremaining: 975ms\n",
      "198:\tlearn: 0.8089953\ttest: 0.7584083\tbest: 0.7584083 (197)\ttotal: 1m 37s\tremaining: 488ms\n",
      "199:\tlearn: 0.8095294\ttest: 0.7585880\tbest: 0.7585880 (199)\ttotal: 1m 37s\tremaining: 0us\n",
      "\n",
      "bestTest = 0.7585880123\n",
      "bestIteration = 199\n",
      "\n"
     ]
    }
   ],
   "source": [
    "model = cb.CatBoostClassifier(loss_function='Logloss', eval_metric='F1',random_state=12345)\n",
    "grid = {'learning_rate': [0.5, 0.1], 'depth': [3,5],'iterations': [100,200]}     \n",
    "catboost_grid = model.grid_search(grid,features_train,target_train,cv=3, plot=True, verbose =10)"
   ]
  },
  {
   "cell_type": "markdown",
   "metadata": {},
   "source": [
    "Ну очееееень долго и результат не впечатлил."
   ]
  },
  {
   "cell_type": "code",
   "execution_count": 40,
   "metadata": {},
   "outputs": [
    {
     "data": {
      "text/plain": [
       "{'depth': 5, 'iterations': 200, 'learning_rate': 0.5}"
      ]
     },
     "execution_count": 40,
     "metadata": {},
     "output_type": "execute_result"
    }
   ],
   "source": [
    "catboost_grid['params']"
   ]
  },
  {
   "cell_type": "code",
   "execution_count": 41,
   "metadata": {},
   "outputs": [
    {
     "name": "stdout",
     "output_type": "stream",
     "text": [
      "средняя катбуста f1 =  0.7195683103670371\n"
     ]
    }
   ],
   "source": [
    "df_t = pd.DataFrame(catboost_grid['cv_results'])\n",
    "print('средняя катбуста f1 = ',df_t['test-F1-mean'].mean())"
   ]
  },
  {
   "cell_type": "markdown",
   "metadata": {},
   "source": [
    "Итого мой выбор на логическую регрессию."
   ]
  },
  {
   "cell_type": "markdown",
   "metadata": {},
   "source": [
    "Тест с лучшими параметрами"
   ]
  },
  {
   "cell_type": "code",
   "execution_count": 42,
   "metadata": {},
   "outputs": [
    {
     "name": "stdout",
     "output_type": "stream",
     "text": [
      "F1 мера лучшей модели на тестовых данных: 0.768588770864947\n"
     ]
    }
   ],
   "source": [
    "print('F1 мера лучшей модели на тестовых данных:', f1_score(target_test, lr.predict(features_test)))"
   ]
  },
  {
   "cell_type": "markdown",
   "metadata": {},
   "source": [
    "## Выводы"
   ]
  },
  {
   "cell_type": "markdown",
   "metadata": {},
   "source": [
    "Проведен анализ моделей и выбрана лучшая, логическая  регрессию с результато на тестовой выборке = 0.7683018867924527\n",
    "что яв-ся выше 0.75.\n",
    "Но на мой взгляд больше времени и можно наверное почти каждую модель разогнать перебором гиперпараметров выше 0,75"
   ]
  }
 ],
 "metadata": {
  "ExecuteTimeLog": [
   {
    "duration": 2011,
    "start_time": "2023-02-09T11:44:25.913Z"
   },
   {
    "duration": 1612,
    "start_time": "2023-02-09T11:44:30.147Z"
   },
   {
    "duration": 3346,
    "start_time": "2023-02-09T11:45:20.892Z"
   },
   {
    "duration": 18,
    "start_time": "2023-02-09T11:45:25.227Z"
   },
   {
    "duration": 12,
    "start_time": "2023-02-09T11:45:48.030Z"
   },
   {
    "duration": 32,
    "start_time": "2023-02-09T11:45:50.480Z"
   },
   {
    "duration": 1918,
    "start_time": "2023-02-09T12:09:12.691Z"
   },
   {
    "duration": 45,
    "start_time": "2023-02-09T12:12:15.410Z"
   },
   {
    "duration": 8,
    "start_time": "2023-02-09T12:12:27.805Z"
   },
   {
    "duration": 1841,
    "start_time": "2023-02-09T12:12:40.807Z"
   },
   {
    "duration": 3415,
    "start_time": "2023-02-09T12:12:42.650Z"
   },
   {
    "duration": 17,
    "start_time": "2023-02-09T12:12:46.066Z"
   },
   {
    "duration": 2,
    "start_time": "2023-02-09T12:12:50.715Z"
   },
   {
    "duration": 811,
    "start_time": "2023-02-09T12:12:50.940Z"
   },
   {
    "duration": 11,
    "start_time": "2023-02-09T12:12:51.753Z"
   },
   {
    "duration": 45,
    "start_time": "2023-02-09T12:12:51.766Z"
   },
   {
    "duration": 4,
    "start_time": "2023-02-09T12:12:52.130Z"
   },
   {
    "duration": 1776,
    "start_time": "2023-02-09T12:12:53.138Z"
   },
   {
    "duration": 78,
    "start_time": "2023-02-09T12:12:56.759Z"
   },
   {
    "duration": 20,
    "start_time": "2023-02-09T12:13:27.588Z"
   },
   {
    "duration": 788,
    "start_time": "2023-02-09T12:13:27.795Z"
   },
   {
    "duration": 15,
    "start_time": "2023-02-09T12:13:28.585Z"
   },
   {
    "duration": 34,
    "start_time": "2023-02-09T12:13:28.601Z"
   },
   {
    "duration": 3,
    "start_time": "2023-02-09T12:13:28.637Z"
   },
   {
    "duration": 47,
    "start_time": "2023-02-09T12:13:30.329Z"
   },
   {
    "duration": 7,
    "start_time": "2023-02-09T12:14:44.318Z"
   },
   {
    "duration": 1246,
    "start_time": "2023-02-09T12:14:54.161Z"
   },
   {
    "duration": 3498,
    "start_time": "2023-02-09T12:14:55.409Z"
   },
   {
    "duration": 16,
    "start_time": "2023-02-09T12:14:58.909Z"
   },
   {
    "duration": 30,
    "start_time": "2023-02-09T12:14:58.927Z"
   },
   {
    "duration": 3,
    "start_time": "2023-02-09T12:14:58.959Z"
   },
   {
    "duration": 1712,
    "start_time": "2023-02-09T12:14:58.963Z"
   },
   {
    "duration": 3,
    "start_time": "2023-02-09T12:15:04.172Z"
   },
   {
    "duration": 44,
    "start_time": "2023-02-09T12:15:22.087Z"
   },
   {
    "duration": 3,
    "start_time": "2023-02-09T12:17:14.749Z"
   },
   {
    "duration": 8,
    "start_time": "2023-02-09T12:17:19.534Z"
   },
   {
    "duration": 7,
    "start_time": "2023-02-09T12:17:25.047Z"
   },
   {
    "duration": 7,
    "start_time": "2023-02-09T12:17:33.521Z"
   },
   {
    "duration": 7,
    "start_time": "2023-02-09T12:18:18.024Z"
   },
   {
    "duration": 6,
    "start_time": "2023-02-09T12:18:23.517Z"
   },
   {
    "duration": 6,
    "start_time": "2023-02-09T12:18:29.772Z"
   },
   {
    "duration": 1339,
    "start_time": "2023-02-09T12:18:41.567Z"
   },
   {
    "duration": 3359,
    "start_time": "2023-02-09T12:18:44.910Z"
   },
   {
    "duration": 16,
    "start_time": "2023-02-09T12:18:49.749Z"
   },
   {
    "duration": 33,
    "start_time": "2023-02-09T12:18:52.178Z"
   },
   {
    "duration": 3,
    "start_time": "2023-02-09T12:18:57.113Z"
   },
   {
    "duration": 30,
    "start_time": "2023-02-09T12:18:59.947Z"
   },
   {
    "duration": 10,
    "start_time": "2023-02-09T12:19:04.645Z"
   },
   {
    "duration": 1742,
    "start_time": "2023-02-09T12:19:15.410Z"
   },
   {
    "duration": 3,
    "start_time": "2023-02-09T12:19:29.515Z"
   },
   {
    "duration": 7,
    "start_time": "2023-02-09T12:19:31.699Z"
   },
   {
    "duration": 3,
    "start_time": "2023-02-09T12:19:39.777Z"
   },
   {
    "duration": 4,
    "start_time": "2023-02-09T12:19:44.446Z"
   },
   {
    "duration": 3,
    "start_time": "2023-02-09T12:19:50.450Z"
   },
   {
    "duration": 4,
    "start_time": "2023-02-09T12:19:55.665Z"
   },
   {
    "duration": 3,
    "start_time": "2023-02-09T12:24:58.850Z"
   },
   {
    "duration": 9,
    "start_time": "2023-02-09T12:25:03.432Z"
   },
   {
    "duration": 55,
    "start_time": "2023-02-09T12:25:03.443Z"
   },
   {
    "duration": 1286,
    "start_time": "2023-02-09T12:25:14.514Z"
   },
   {
    "duration": 3438,
    "start_time": "2023-02-09T12:25:15.801Z"
   },
   {
    "duration": 17,
    "start_time": "2023-02-09T12:25:19.240Z"
   },
   {
    "duration": 32,
    "start_time": "2023-02-09T12:25:19.258Z"
   },
   {
    "duration": 3,
    "start_time": "2023-02-09T12:25:26.118Z"
   },
   {
    "duration": 1876,
    "start_time": "2023-02-09T12:25:27.317Z"
   },
   {
    "duration": 3,
    "start_time": "2023-02-09T12:25:32.875Z"
   },
   {
    "duration": 4,
    "start_time": "2023-02-09T12:25:35.896Z"
   },
   {
    "duration": 86,
    "start_time": "2023-02-09T12:27:19.641Z"
   },
   {
    "duration": 10,
    "start_time": "2023-02-09T12:28:18.289Z"
   },
   {
    "duration": 326,
    "start_time": "2023-02-09T12:28:33.069Z"
   },
   {
    "duration": 3,
    "start_time": "2023-02-09T12:30:56.322Z"
   },
   {
    "duration": 3616,
    "start_time": "2023-02-09T12:30:59.370Z"
   },
   {
    "duration": 10,
    "start_time": "2023-02-09T12:31:10.692Z"
   },
   {
    "duration": 3,
    "start_time": "2023-02-09T12:31:32.484Z"
   },
   {
    "duration": 3,
    "start_time": "2023-02-09T12:31:41.015Z"
   },
   {
    "duration": 1288,
    "start_time": "2023-02-09T12:33:31.555Z"
   },
   {
    "duration": 3421,
    "start_time": "2023-02-09T12:33:32.845Z"
   },
   {
    "duration": 17,
    "start_time": "2023-02-09T12:33:36.268Z"
   },
   {
    "duration": 33,
    "start_time": "2023-02-09T12:33:36.288Z"
   },
   {
    "duration": 3,
    "start_time": "2023-02-09T12:33:36.323Z"
   },
   {
    "duration": 3655,
    "start_time": "2023-02-09T12:33:39.473Z"
   },
   {
    "duration": 1768,
    "start_time": "2023-02-09T12:33:45.695Z"
   },
   {
    "duration": 3,
    "start_time": "2023-02-09T12:33:50.157Z"
   },
   {
    "duration": 4,
    "start_time": "2023-02-09T12:33:53.604Z"
   },
   {
    "duration": 1018,
    "start_time": "2023-02-09T12:36:24.751Z"
   },
   {
    "duration": 800,
    "start_time": "2023-02-09T12:37:28.701Z"
   },
   {
    "duration": 758,
    "start_time": "2023-02-09T12:37:34.379Z"
   },
   {
    "duration": 123,
    "start_time": "2023-02-09T12:37:54.355Z"
   },
   {
    "duration": 775,
    "start_time": "2023-02-09T12:46:03.841Z"
   },
   {
    "duration": 738,
    "start_time": "2023-02-09T12:46:34.341Z"
   },
   {
    "duration": 754,
    "start_time": "2023-02-09T12:46:40.194Z"
   },
   {
    "duration": 756,
    "start_time": "2023-02-09T12:46:45.215Z"
   },
   {
    "duration": 806,
    "start_time": "2023-02-09T12:46:52.165Z"
   },
   {
    "duration": 717,
    "start_time": "2023-02-09T12:46:59.258Z"
   },
   {
    "duration": 4,
    "start_time": "2023-02-09T12:47:39.173Z"
   },
   {
    "duration": 849,
    "start_time": "2023-02-09T12:59:07.303Z"
   },
   {
    "duration": 13,
    "start_time": "2023-02-09T12:59:16.461Z"
   },
   {
    "duration": 11,
    "start_time": "2023-02-09T13:00:08.999Z"
   },
   {
    "duration": 1012246,
    "start_time": "2023-02-09T13:00:19.676Z"
   },
   {
    "duration": 0,
    "start_time": "2023-02-09T13:17:11.924Z"
   },
   {
    "duration": 3,
    "start_time": "2023-02-09T13:17:21.405Z"
   },
   {
    "duration": 1388,
    "start_time": "2023-02-09T13:17:21.656Z"
   },
   {
    "duration": 12,
    "start_time": "2023-02-09T13:17:23.046Z"
   },
   {
    "duration": 52,
    "start_time": "2023-02-09T13:17:23.059Z"
   },
   {
    "duration": 224,
    "start_time": "2023-02-09T13:17:23.114Z"
   },
   {
    "duration": 3,
    "start_time": "2023-02-09T13:17:24.284Z"
   },
   {
    "duration": 3754,
    "start_time": "2023-02-09T13:17:28.578Z"
   },
   {
    "duration": 48,
    "start_time": "2023-02-09T13:17:37.581Z"
   },
   {
    "duration": 2173,
    "start_time": "2023-02-09T13:17:53.551Z"
   },
   {
    "duration": 3750,
    "start_time": "2023-02-09T13:17:55.726Z"
   },
   {
    "duration": 22,
    "start_time": "2023-02-09T13:17:59.478Z"
   },
   {
    "duration": 37,
    "start_time": "2023-02-09T13:18:01.596Z"
   },
   {
    "duration": 249,
    "start_time": "2023-02-09T13:18:03.762Z"
   },
   {
    "duration": 3,
    "start_time": "2023-02-09T13:18:05.850Z"
   },
   {
    "duration": 4121,
    "start_time": "2023-02-09T13:18:08.872Z"
   },
   {
    "duration": 1936,
    "start_time": "2023-02-09T13:18:12.995Z"
   },
   {
    "duration": 3,
    "start_time": "2023-02-09T13:18:18.462Z"
   },
   {
    "duration": 3,
    "start_time": "2023-02-09T13:18:22.965Z"
   },
   {
    "duration": 77,
    "start_time": "2023-02-09T13:18:45.898Z"
   },
   {
    "duration": 16981,
    "start_time": "2023-02-09T13:19:07.675Z"
   },
   {
    "duration": 1327,
    "start_time": "2023-02-09T13:31:19.168Z"
   },
   {
    "duration": 791,
    "start_time": "2023-02-09T13:31:22.388Z"
   },
   {
    "duration": 17,
    "start_time": "2023-02-09T13:31:23.812Z"
   },
   {
    "duration": 35,
    "start_time": "2023-02-09T13:31:24.679Z"
   },
   {
    "duration": 254,
    "start_time": "2023-02-09T13:31:25.746Z"
   },
   {
    "duration": 3,
    "start_time": "2023-02-09T13:31:26.650Z"
   },
   {
    "duration": 3822,
    "start_time": "2023-02-09T13:31:27.993Z"
   },
   {
    "duration": 1972,
    "start_time": "2023-02-09T13:31:33.760Z"
   },
   {
    "duration": 3,
    "start_time": "2023-02-09T13:32:02.781Z"
   },
   {
    "duration": 3,
    "start_time": "2023-02-09T13:32:04.748Z"
   },
   {
    "duration": 155187,
    "start_time": "2023-02-09T13:32:05.892Z"
   },
   {
    "duration": 10,
    "start_time": "2023-02-09T13:34:53.506Z"
   },
   {
    "duration": 724463,
    "start_time": "2023-02-09T13:35:14.608Z"
   },
   {
    "duration": 5,
    "start_time": "2023-02-09T13:47:25.821Z"
   },
   {
    "duration": 4,
    "start_time": "2023-02-09T13:47:36.824Z"
   },
   {
    "duration": 4,
    "start_time": "2023-02-09T13:47:41.054Z"
   },
   {
    "duration": 68,
    "start_time": "2023-02-09T13:47:47.764Z"
   },
   {
    "duration": 6,
    "start_time": "2023-02-09T13:47:52.010Z"
   },
   {
    "duration": 2,
    "start_time": "2023-02-09T13:54:14.688Z"
   },
   {
    "duration": 4,
    "start_time": "2023-02-09T13:54:22.999Z"
   },
   {
    "duration": 935,
    "start_time": "2023-02-09T13:54:24.144Z"
   },
   {
    "duration": 4,
    "start_time": "2023-02-09T14:22:20.480Z"
   },
   {
    "duration": 866,
    "start_time": "2023-02-09T14:22:23.477Z"
   },
   {
    "duration": 14,
    "start_time": "2023-02-09T14:23:46.626Z"
   },
   {
    "duration": 5,
    "start_time": "2023-02-09T14:27:56.388Z"
   },
   {
    "duration": 4,
    "start_time": "2023-02-09T14:28:02.923Z"
   },
   {
    "duration": 44,
    "start_time": "2023-02-09T14:28:10.370Z"
   },
   {
    "duration": 12,
    "start_time": "2023-02-09T14:28:34.750Z"
   },
   {
    "duration": 10,
    "start_time": "2023-02-09T14:28:39.988Z"
   },
   {
    "duration": 12,
    "start_time": "2023-02-09T14:28:47.323Z"
   },
   {
    "duration": 13,
    "start_time": "2023-02-09T14:28:51.887Z"
   },
   {
    "duration": 2,
    "start_time": "2023-02-09T14:30:31.025Z"
   },
   {
    "duration": 728,
    "start_time": "2023-02-09T14:30:35.062Z"
   },
   {
    "duration": 12,
    "start_time": "2023-02-09T14:30:35.903Z"
   },
   {
    "duration": 32,
    "start_time": "2023-02-09T14:30:36.846Z"
   },
   {
    "duration": 207,
    "start_time": "2023-02-09T14:30:37.854Z"
   },
   {
    "duration": 3,
    "start_time": "2023-02-09T14:30:38.622Z"
   },
   {
    "duration": 3716,
    "start_time": "2023-02-09T14:30:39.820Z"
   },
   {
    "duration": 2056,
    "start_time": "2023-02-09T14:30:57.469Z"
   },
   {
    "duration": 3591,
    "start_time": "2023-02-09T14:30:59.526Z"
   },
   {
    "duration": 30,
    "start_time": "2023-02-09T14:31:03.963Z"
   },
   {
    "duration": 33,
    "start_time": "2023-02-09T14:31:05.010Z"
   },
   {
    "duration": 230,
    "start_time": "2023-02-09T14:31:06.546Z"
   },
   {
    "duration": 3,
    "start_time": "2023-02-09T14:31:07.665Z"
   },
   {
    "duration": 3916,
    "start_time": "2023-02-09T14:31:11.816Z"
   },
   {
    "duration": 1863,
    "start_time": "2023-02-09T14:31:20.749Z"
   },
   {
    "duration": 3,
    "start_time": "2023-02-09T14:31:24.202Z"
   },
   {
    "duration": 921,
    "start_time": "2023-02-09T14:31:28.843Z"
   },
   {
    "duration": 4,
    "start_time": "2023-02-09T14:31:38.325Z"
   },
   {
    "duration": 245521,
    "start_time": "2023-02-09T14:31:49.528Z"
   },
   {
    "duration": 3,
    "start_time": "2023-02-09T14:36:01.949Z"
   },
   {
    "duration": 8081,
    "start_time": "2023-02-09T14:36:03.277Z"
   },
   {
    "duration": 3,
    "start_time": "2023-02-09T14:36:19.005Z"
   },
   {
    "duration": 80309,
    "start_time": "2023-02-09T14:36:20.109Z"
   },
   {
    "duration": 3,
    "start_time": "2023-02-09T14:48:11.786Z"
   },
   {
    "duration": 4,
    "start_time": "2023-02-09T14:55:56.761Z"
   },
   {
    "duration": 838865,
    "start_time": "2023-02-09T14:55:57.687Z"
   },
   {
    "duration": 8,
    "start_time": "2023-02-09T15:11:24.056Z"
   },
   {
    "duration": 6,
    "start_time": "2023-02-09T15:11:53.871Z"
   },
   {
    "duration": 7,
    "start_time": "2023-02-09T15:11:56.114Z"
   },
   {
    "duration": 3292,
    "start_time": "2023-02-09T15:12:17.349Z"
   },
   {
    "duration": 47,
    "start_time": "2023-02-09T15:12:35.026Z"
   },
   {
    "duration": 8,
    "start_time": "2023-02-09T15:13:08.844Z"
   },
   {
    "duration": 2141,
    "start_time": "2023-02-09T15:13:17.721Z"
   },
   {
    "duration": 3581,
    "start_time": "2023-02-09T15:13:19.864Z"
   },
   {
    "duration": 26,
    "start_time": "2023-02-09T15:13:23.447Z"
   },
   {
    "duration": 35,
    "start_time": "2023-02-09T15:13:23.475Z"
   },
   {
    "duration": 256,
    "start_time": "2023-02-09T15:13:23.512Z"
   },
   {
    "duration": 4,
    "start_time": "2023-02-09T15:13:23.769Z"
   },
   {
    "duration": 4404,
    "start_time": "2023-02-09T15:13:23.774Z"
   },
   {
    "duration": 3331,
    "start_time": "2023-02-09T15:13:43.191Z"
   },
   {
    "duration": 12,
    "start_time": "2023-02-09T15:13:48.047Z"
   },
   {
    "duration": 4,
    "start_time": "2023-02-09T15:14:07.374Z"
   },
   {
    "duration": 6,
    "start_time": "2023-02-09T15:14:14.227Z"
   },
   {
    "duration": 85,
    "start_time": "2023-02-09T15:14:27.440Z"
   },
   {
    "duration": 3,
    "start_time": "2023-02-09T15:14:43.663Z"
   },
   {
    "duration": 350525,
    "start_time": "2023-02-09T15:14:48.967Z"
   },
   {
    "duration": 16,
    "start_time": "2023-02-09T15:23:27.583Z"
   },
   {
    "duration": 7,
    "start_time": "2023-02-09T15:23:37.004Z"
   },
   {
    "duration": 159,
    "start_time": "2023-02-09T15:41:26.513Z"
   },
   {
    "duration": 3,
    "start_time": "2023-02-09T15:41:35.367Z"
   },
   {
    "duration": 9,
    "start_time": "2023-02-09T15:41:49.727Z"
   },
   {
    "duration": 6,
    "start_time": "2023-02-09T15:42:00.849Z"
   },
   {
    "duration": 10,
    "start_time": "2023-02-09T16:10:43.413Z"
   },
   {
    "duration": 2,
    "start_time": "2023-02-09T16:11:14.272Z"
   },
   {
    "duration": 4,
    "start_time": "2023-02-09T16:11:19.702Z"
   },
   {
    "duration": 4,
    "start_time": "2023-02-09T16:12:15.001Z"
   },
   {
    "duration": 47,
    "start_time": "2023-02-09T16:13:28.372Z"
   },
   {
    "duration": 26,
    "start_time": "2023-02-09T16:18:18.983Z"
   },
   {
    "duration": 4,
    "start_time": "2023-02-09T16:18:23.439Z"
   },
   {
    "duration": 4,
    "start_time": "2023-02-09T16:18:34.681Z"
   },
   {
    "duration": 3,
    "start_time": "2023-02-09T16:18:44.302Z"
   },
   {
    "duration": 3,
    "start_time": "2023-02-09T16:18:50.286Z"
   },
   {
    "duration": 2,
    "start_time": "2023-02-09T16:22:44.772Z"
   },
   {
    "duration": 9,
    "start_time": "2023-02-09T16:23:26.972Z"
   },
   {
    "duration": 4,
    "start_time": "2023-02-09T16:24:00.783Z"
   },
   {
    "duration": 34,
    "start_time": "2023-02-09T16:24:08.919Z"
   },
   {
    "duration": 4,
    "start_time": "2023-02-09T16:25:09.732Z"
   },
   {
    "duration": 35,
    "start_time": "2023-02-09T16:25:17.616Z"
   },
   {
    "duration": 35,
    "start_time": "2023-02-09T16:26:33.826Z"
   },
   {
    "duration": 21,
    "start_time": "2023-02-09T16:26:40.144Z"
   },
   {
    "duration": 22,
    "start_time": "2023-02-09T16:26:48.842Z"
   },
   {
    "duration": 4,
    "start_time": "2023-02-09T16:26:52.835Z"
   },
   {
    "duration": 14,
    "start_time": "2023-02-09T16:26:56.633Z"
   },
   {
    "duration": 25,
    "start_time": "2023-02-09T16:27:13.104Z"
   },
   {
    "duration": 3,
    "start_time": "2023-02-09T16:27:30.584Z"
   },
   {
    "duration": 17,
    "start_time": "2023-02-09T16:27:37.199Z"
   },
   {
    "duration": 4,
    "start_time": "2023-02-09T16:27:56.396Z"
   },
   {
    "duration": 4,
    "start_time": "2023-02-09T16:28:01.424Z"
   },
   {
    "duration": 5,
    "start_time": "2023-02-09T16:28:13.451Z"
   },
   {
    "duration": 6,
    "start_time": "2023-02-09T16:29:26.285Z"
   },
   {
    "duration": 3,
    "start_time": "2023-02-09T16:29:52.805Z"
   },
   {
    "duration": 55,
    "start_time": "2023-02-09T16:29:53.476Z"
   },
   {
    "duration": 24,
    "start_time": "2023-02-09T16:29:54.684Z"
   },
   {
    "duration": 37,
    "start_time": "2023-02-09T16:30:00.903Z"
   },
   {
    "duration": 4,
    "start_time": "2023-02-09T16:30:43.491Z"
   },
   {
    "duration": 17,
    "start_time": "2023-02-09T16:30:50.091Z"
   },
   {
    "duration": 5,
    "start_time": "2023-02-09T16:31:09.725Z"
   },
   {
    "duration": 3,
    "start_time": "2023-02-09T16:33:01.529Z"
   },
   {
    "duration": 38,
    "start_time": "2023-02-09T16:33:04.798Z"
   },
   {
    "duration": 4,
    "start_time": "2023-02-09T16:33:22.795Z"
   },
   {
    "duration": 16,
    "start_time": "2023-02-09T16:33:23.475Z"
   },
   {
    "duration": 5,
    "start_time": "2023-02-09T16:33:33.821Z"
   },
   {
    "duration": 3,
    "start_time": "2023-02-09T16:34:21.567Z"
   },
   {
    "duration": 4,
    "start_time": "2023-02-09T16:34:24.323Z"
   },
   {
    "duration": 5,
    "start_time": "2023-02-09T16:34:36.083Z"
   },
   {
    "duration": 4,
    "start_time": "2023-02-09T16:34:44.667Z"
   },
   {
    "duration": 5,
    "start_time": "2023-02-09T16:34:55.187Z"
   },
   {
    "duration": 5,
    "start_time": "2023-02-09T16:35:18.891Z"
   },
   {
    "duration": 24,
    "start_time": "2023-02-09T16:35:35.619Z"
   },
   {
    "duration": 3,
    "start_time": "2023-02-09T16:35:38.879Z"
   },
   {
    "duration": 6,
    "start_time": "2023-02-09T16:35:43.719Z"
   },
   {
    "duration": 3,
    "start_time": "2023-02-09T16:35:57.833Z"
   },
   {
    "duration": 39,
    "start_time": "2023-02-09T16:35:58.696Z"
   },
   {
    "duration": 3,
    "start_time": "2023-02-09T16:36:24.913Z"
   },
   {
    "duration": 24,
    "start_time": "2023-02-09T16:36:26.071Z"
   },
   {
    "duration": 5,
    "start_time": "2023-02-09T16:37:24.772Z"
   },
   {
    "duration": 846,
    "start_time": "2023-02-09T16:37:25.007Z"
   },
   {
    "duration": 13,
    "start_time": "2023-02-09T16:37:25.856Z"
   },
   {
    "duration": 58,
    "start_time": "2023-02-09T16:37:25.871Z"
   },
   {
    "duration": 246,
    "start_time": "2023-02-09T16:37:25.932Z"
   },
   {
    "duration": 3,
    "start_time": "2023-02-09T16:37:26.180Z"
   },
   {
    "duration": 4067,
    "start_time": "2023-02-09T16:37:26.839Z"
   },
   {
    "duration": 13,
    "start_time": "2023-02-09T16:37:33.298Z"
   },
   {
    "duration": 4,
    "start_time": "2023-02-09T16:37:38.025Z"
   },
   {
    "duration": 3,
    "start_time": "2023-02-09T16:37:41.991Z"
   },
   {
    "duration": 338636,
    "start_time": "2023-02-09T16:37:45.087Z"
   },
   {
    "duration": 153,
    "start_time": "2023-02-09T16:45:07.926Z"
   },
   {
    "duration": 5,
    "start_time": "2023-02-09T16:45:11.390Z"
   },
   {
    "duration": 119,
    "start_time": "2023-02-09T16:45:14.084Z"
   },
   {
    "duration": 14,
    "start_time": "2023-02-09T16:45:15.725Z"
   },
   {
    "duration": 4,
    "start_time": "2023-02-09T16:45:16.378Z"
   },
   {
    "duration": 4,
    "start_time": "2023-02-09T16:45:17.555Z"
   },
   {
    "duration": 3,
    "start_time": "2023-02-09T16:45:29.790Z"
   },
   {
    "duration": 24,
    "start_time": "2023-02-09T16:45:30.477Z"
   },
   {
    "duration": 4,
    "start_time": "2023-02-09T16:48:03.026Z"
   },
   {
    "duration": 4,
    "start_time": "2023-02-09T16:48:04.377Z"
   },
   {
    "duration": 21,
    "start_time": "2023-02-09T16:48:05.009Z"
   },
   {
    "duration": 12,
    "start_time": "2023-02-09T16:48:06.268Z"
   },
   {
    "duration": 4,
    "start_time": "2023-02-09T16:48:06.894Z"
   },
   {
    "duration": 4,
    "start_time": "2023-02-09T16:48:07.763Z"
   },
   {
    "duration": 4,
    "start_time": "2023-02-09T16:48:08.926Z"
   },
   {
    "duration": 23,
    "start_time": "2023-02-09T16:48:09.422Z"
   },
   {
    "duration": 2,
    "start_time": "2023-02-09T16:49:10.393Z"
   },
   {
    "duration": 21,
    "start_time": "2023-02-09T16:50:09.622Z"
   },
   {
    "duration": 3,
    "start_time": "2023-02-09T16:51:04.776Z"
   },
   {
    "duration": 725,
    "start_time": "2023-02-09T16:51:05.000Z"
   },
   {
    "duration": 10,
    "start_time": "2023-02-09T16:51:05.727Z"
   },
   {
    "duration": 31,
    "start_time": "2023-02-09T16:51:05.828Z"
   },
   {
    "duration": 207,
    "start_time": "2023-02-09T16:51:06.127Z"
   },
   {
    "duration": 3,
    "start_time": "2023-02-09T16:51:06.434Z"
   },
   {
    "duration": 3752,
    "start_time": "2023-02-09T16:51:09.606Z"
   },
   {
    "duration": 11,
    "start_time": "2023-02-09T16:51:13.360Z"
   },
   {
    "duration": 3,
    "start_time": "2023-02-09T16:51:16.674Z"
   },
   {
    "duration": 4,
    "start_time": "2023-02-09T16:51:20.002Z"
   },
   {
    "duration": 334250,
    "start_time": "2023-02-09T16:51:24.920Z"
   },
   {
    "duration": 6,
    "start_time": "2023-02-09T17:14:50.789Z"
   },
   {
    "duration": 6,
    "start_time": "2023-02-09T17:14:53.471Z"
   },
   {
    "duration": 24,
    "start_time": "2023-02-09T17:14:54.191Z"
   },
   {
    "duration": 11,
    "start_time": "2023-02-09T17:14:54.792Z"
   },
   {
    "duration": 4,
    "start_time": "2023-02-09T17:14:56.798Z"
   },
   {
    "duration": 4,
    "start_time": "2023-02-09T17:14:57.563Z"
   },
   {
    "duration": 3,
    "start_time": "2023-02-09T17:14:59.004Z"
   },
   {
    "duration": 27,
    "start_time": "2023-02-09T17:15:07.194Z"
   },
   {
    "duration": 3,
    "start_time": "2023-02-09T17:15:27.698Z"
   },
   {
    "duration": 22,
    "start_time": "2023-02-09T17:15:31.256Z"
   },
   {
    "duration": 4,
    "start_time": "2023-02-09T17:16:37.886Z"
   },
   {
    "duration": 2,
    "start_time": "2023-02-09T17:16:38.389Z"
   },
   {
    "duration": 11,
    "start_time": "2023-02-09T17:16:41.309Z"
   },
   {
    "duration": 222,
    "start_time": "2023-02-09T17:18:17.499Z"
   },
   {
    "duration": 5,
    "start_time": "2023-02-09T17:18:23.509Z"
   },
   {
    "duration": 873,
    "start_time": "2023-02-09T17:18:24.662Z"
   },
   {
    "duration": 16,
    "start_time": "2023-02-09T17:18:25.538Z"
   },
   {
    "duration": 32,
    "start_time": "2023-02-09T17:18:29.762Z"
   },
   {
    "duration": 233,
    "start_time": "2023-02-09T17:18:30.768Z"
   },
   {
    "duration": 104105,
    "start_time": "2023-02-09T17:18:53.748Z"
   },
   {
    "duration": 104449,
    "start_time": "2023-02-09T17:21:41.206Z"
   },
   {
    "duration": 12,
    "start_time": "2023-02-09T17:24:48.106Z"
   },
   {
    "duration": 6,
    "start_time": "2023-02-09T17:25:02.652Z"
   },
   {
    "duration": 4,
    "start_time": "2023-02-09T17:25:58.702Z"
   },
   {
    "duration": 698,
    "start_time": "2023-02-09T17:25:58.902Z"
   },
   {
    "duration": 10,
    "start_time": "2023-02-09T17:25:59.602Z"
   },
   {
    "duration": 31,
    "start_time": "2023-02-09T17:26:01.788Z"
   },
   {
    "duration": 258,
    "start_time": "2023-02-09T17:26:04.055Z"
   },
   {
    "duration": 3,
    "start_time": "2023-02-09T17:26:12.537Z"
   },
   {
    "duration": 3727,
    "start_time": "2023-02-09T17:26:19.168Z"
   },
   {
    "duration": 11,
    "start_time": "2023-02-09T17:26:22.898Z"
   },
   {
    "duration": 3,
    "start_time": "2023-02-09T17:26:36.643Z"
   },
   {
    "duration": 4,
    "start_time": "2023-02-09T17:27:00.363Z"
   },
   {
    "duration": 72323,
    "start_time": "2023-02-09T17:27:02.656Z"
   },
   {
    "duration": 5,
    "start_time": "2023-02-09T17:29:18.006Z"
   },
   {
    "duration": 34,
    "start_time": "2023-02-09T17:29:23.343Z"
   },
   {
    "duration": 4021,
    "start_time": "2023-02-09T17:29:38.755Z"
   },
   {
    "duration": 2729,
    "start_time": "2023-02-09T17:29:42.779Z"
   },
   {
    "duration": 4,
    "start_time": "2023-02-09T17:29:45.510Z"
   },
   {
    "duration": 4,
    "start_time": "2023-02-09T17:29:46.742Z"
   },
   {
    "duration": 4,
    "start_time": "2023-02-09T17:29:49.809Z"
   },
   {
    "duration": 14,
    "start_time": "2023-02-09T17:29:50.968Z"
   },
   {
    "duration": 41427,
    "start_time": "2023-02-09T17:29:52.482Z"
   },
   {
    "duration": 21,
    "start_time": "2023-02-09T17:32:46.987Z"
   },
   {
    "duration": 270091,
    "start_time": "2023-02-09T17:32:54.697Z"
   },
   {
    "duration": 1298,
    "start_time": "2023-02-10T06:28:44.574Z"
   },
   {
    "duration": 3578,
    "start_time": "2023-02-10T06:28:45.874Z"
   },
   {
    "duration": 17,
    "start_time": "2023-02-10T06:28:49.453Z"
   },
   {
    "duration": 34,
    "start_time": "2023-02-10T06:28:49.472Z"
   },
   {
    "duration": 263,
    "start_time": "2023-02-10T06:28:49.507Z"
   },
   {
    "duration": 1303,
    "start_time": "2023-02-10T06:28:49.772Z"
   },
   {
    "duration": 3,
    "start_time": "2023-02-10T06:29:01.763Z"
   },
   {
    "duration": 5050,
    "start_time": "2023-02-10T06:29:02.714Z"
   },
   {
    "duration": 14,
    "start_time": "2023-02-10T06:29:07.769Z"
   },
   {
    "duration": 10,
    "start_time": "2023-02-10T06:29:07.786Z"
   },
   {
    "duration": 3,
    "start_time": "2023-02-10T06:29:21.187Z"
   },
   {
    "duration": 82666,
    "start_time": "2023-02-10T06:29:25.625Z"
   },
   {
    "duration": 262,
    "start_time": "2023-02-10T06:30:52.943Z"
   },
   {
    "duration": 84,
    "start_time": "2023-02-10T06:31:01.732Z"
   },
   {
    "duration": 48,
    "start_time": "2023-02-10T06:31:18.804Z"
   },
   {
    "duration": 5291,
    "start_time": "2023-02-10T06:32:08.872Z"
   },
   {
    "duration": 1555,
    "start_time": "2023-02-10T06:32:14.164Z"
   },
   {
    "duration": 530,
    "start_time": "2023-02-10T06:32:39.240Z"
   },
   {
    "duration": 6,
    "start_time": "2023-02-10T06:32:43.562Z"
   },
   {
    "duration": 5,
    "start_time": "2023-02-10T06:32:44.819Z"
   },
   {
    "duration": 5,
    "start_time": "2023-02-10T06:32:47.562Z"
   },
   {
    "duration": 5,
    "start_time": "2023-02-10T06:33:46.634Z"
   },
   {
    "duration": 51322,
    "start_time": "2023-02-10T06:33:48.606Z"
   },
   {
    "duration": 322821,
    "start_time": "2023-02-10T06:34:39.930Z"
   },
   {
    "duration": 2844,
    "start_time": "2023-02-10T06:49:49.408Z"
   },
   {
    "duration": 34,
    "start_time": "2023-02-10T06:50:27.216Z"
   },
   {
    "duration": 97,
    "start_time": "2023-02-10T06:50:53.545Z"
   },
   {
    "duration": 398717,
    "start_time": "2023-02-10T06:50:59.164Z"
   },
   {
    "duration": 0,
    "start_time": "2023-02-10T06:58:25.759Z"
   },
   {
    "duration": 100753,
    "start_time": "2023-02-10T06:59:48.683Z"
   },
   {
    "duration": 155,
    "start_time": "2023-02-10T07:07:52.731Z"
   },
   {
    "duration": 3099,
    "start_time": "2023-02-10T07:14:46.461Z"
   },
   {
    "duration": 1959,
    "start_time": "2023-02-10T07:14:49.563Z"
   },
   {
    "duration": 1226,
    "start_time": "2023-02-10T07:14:51.525Z"
   },
   {
    "duration": 27,
    "start_time": "2023-02-10T07:14:52.754Z"
   },
   {
    "duration": 56,
    "start_time": "2023-02-10T07:14:52.783Z"
   },
   {
    "duration": 368,
    "start_time": "2023-02-10T07:14:52.842Z"
   },
   {
    "duration": 10,
    "start_time": "2023-02-10T07:14:53.213Z"
   },
   {
    "duration": 6488,
    "start_time": "2023-02-10T07:14:53.225Z"
   },
   {
    "duration": 23,
    "start_time": "2023-02-10T07:14:59.718Z"
   },
   {
    "duration": 15,
    "start_time": "2023-02-10T07:14:59.744Z"
   },
   {
    "duration": 6,
    "start_time": "2023-02-10T07:14:59.762Z"
   },
   {
    "duration": 113477,
    "start_time": "2023-02-10T07:14:59.770Z"
   },
   {
    "duration": 162,
    "start_time": "2023-02-10T07:16:53.249Z"
   },
   {
    "duration": 79,
    "start_time": "2023-02-10T07:16:53.414Z"
   },
   {
    "duration": 7857,
    "start_time": "2023-02-10T07:16:53.498Z"
   },
   {
    "duration": 2142,
    "start_time": "2023-02-10T07:17:01.358Z"
   },
   {
    "duration": 554,
    "start_time": "2023-02-10T07:17:03.503Z"
   },
   {
    "duration": 5,
    "start_time": "2023-02-10T07:17:04.059Z"
   },
   {
    "duration": 8,
    "start_time": "2023-02-10T07:17:04.068Z"
   },
   {
    "duration": 7,
    "start_time": "2023-02-10T07:17:04.079Z"
   },
   {
    "duration": 9,
    "start_time": "2023-02-10T07:17:04.088Z"
   },
   {
    "duration": 55233,
    "start_time": "2023-02-10T07:17:04.099Z"
   },
   {
    "duration": 361855,
    "start_time": "2023-02-10T07:17:59.336Z"
   },
   {
    "duration": 3,
    "start_time": "2023-02-10T07:24:01.194Z"
   },
   {
    "duration": 549617,
    "start_time": "2023-02-10T07:24:01.200Z"
   },
   {
    "duration": 320243,
    "start_time": "2023-02-10T07:38:02.109Z"
   },
   {
    "duration": 57538,
    "start_time": "2023-02-10T07:45:27.142Z"
   },
   {
    "duration": 0,
    "start_time": "2023-02-10T07:53:24.548Z"
   },
   {
    "duration": 4,
    "start_time": "2023-02-10T07:53:28.238Z"
   },
   {
    "duration": 73392,
    "start_time": "2023-02-10T07:54:03.010Z"
   },
   {
    "duration": 278895,
    "start_time": "2023-02-10T08:02:52.648Z"
   },
   {
    "duration": 100,
    "start_time": "2023-02-10T08:21:23.813Z"
   },
   {
    "duration": 134,
    "start_time": "2023-02-10T08:21:42.717Z"
   },
   {
    "duration": 165827,
    "start_time": "2023-02-10T08:22:02.126Z"
   },
   {
    "duration": 50840,
    "start_time": "2023-02-10T08:24:57.006Z"
   },
   {
    "duration": 5,
    "start_time": "2023-02-10T08:31:36.998Z"
   },
   {
    "duration": 0,
    "start_time": "2023-02-10T08:32:07.176Z"
   },
   {
    "duration": 43537,
    "start_time": "2023-02-10T08:32:29.800Z"
   },
   {
    "duration": 167736,
    "start_time": "2023-02-10T08:33:14.119Z"
   },
   {
    "duration": 74,
    "start_time": "2023-02-10T08:36:03.580Z"
   },
   {
    "duration": 31771,
    "start_time": "2023-02-10T08:36:13.719Z"
   },
   {
    "duration": 0,
    "start_time": "2023-02-10T08:37:30.898Z"
   },
   {
    "duration": 5692,
    "start_time": "2023-02-10T08:37:35.551Z"
   },
   {
    "duration": 2725,
    "start_time": "2023-02-10T08:37:47.130Z"
   },
   {
    "duration": 1752,
    "start_time": "2023-02-10T08:37:51.800Z"
   },
   {
    "duration": 9578,
    "start_time": "2023-02-10T08:37:55.166Z"
   },
   {
    "duration": 37385,
    "start_time": "2023-02-10T08:38:18.453Z"
   },
   {
    "duration": 72,
    "start_time": "2023-02-10T08:39:12.738Z"
   },
   {
    "duration": 43467,
    "start_time": "2023-02-10T08:39:59.788Z"
   },
   {
    "duration": 51648,
    "start_time": "2023-02-10T08:40:47.707Z"
   },
   {
    "duration": 66881,
    "start_time": "2023-02-10T08:42:00.750Z"
   },
   {
    "duration": 3,
    "start_time": "2023-02-10T08:43:21.555Z"
   },
   {
    "duration": 3,
    "start_time": "2023-02-10T08:43:41.317Z"
   },
   {
    "duration": 7645,
    "start_time": "2023-02-10T08:43:49.408Z"
   },
   {
    "duration": 2512,
    "start_time": "2023-02-10T08:44:10.539Z"
   },
   {
    "duration": 24870,
    "start_time": "2023-02-10T08:45:08.377Z"
   },
   {
    "duration": 6043,
    "start_time": "2023-02-10T08:45:40.150Z"
   },
   {
    "duration": 0,
    "start_time": "2023-02-10T08:45:46.195Z"
   },
   {
    "duration": 54577,
    "start_time": "2023-02-10T08:45:48.170Z"
   },
   {
    "duration": 318770,
    "start_time": "2023-02-10T08:46:46.459Z"
   },
   {
    "duration": 10,
    "start_time": "2023-02-10T08:52:52.073Z"
   },
   {
    "duration": 5,
    "start_time": "2023-02-10T08:53:07.249Z"
   },
   {
    "duration": 485256,
    "start_time": "2023-02-10T08:55:08.285Z"
   },
   {
    "duration": 4,
    "start_time": "2023-02-10T09:03:42.513Z"
   },
   {
    "duration": 76274,
    "start_time": "2023-02-10T10:32:16.467Z"
   },
   {
    "duration": 6,
    "start_time": "2023-02-10T10:33:39.288Z"
   },
   {
    "duration": 4,
    "start_time": "2023-02-10T10:34:00.867Z"
   },
   {
    "duration": 12,
    "start_time": "2023-02-10T10:34:24.863Z"
   },
   {
    "duration": 259439,
    "start_time": "2023-02-10T10:34:38.696Z"
   },
   {
    "duration": 5,
    "start_time": "2023-02-10T10:39:43.264Z"
   },
   {
    "duration": 1611152,
    "start_time": "2023-02-10T10:39:44.576Z"
   },
   {
    "duration": 7,
    "start_time": "2023-02-10T11:06:35.735Z"
   },
   {
    "duration": 3,
    "start_time": "2023-02-10T16:42:23.476Z"
   },
   {
    "duration": 1189,
    "start_time": "2023-02-10T16:42:24.631Z"
   },
   {
    "duration": 3,
    "start_time": "2023-02-10T16:42:41.473Z"
   },
   {
    "duration": 1131,
    "start_time": "2023-02-10T16:42:42.175Z"
   },
   {
    "duration": 3,
    "start_time": "2023-02-10T16:43:01.775Z"
   },
   {
    "duration": 1089,
    "start_time": "2023-02-10T16:43:03.585Z"
   },
   {
    "duration": 3,
    "start_time": "2023-02-10T16:43:46.608Z"
   },
   {
    "duration": 1165,
    "start_time": "2023-02-10T16:43:48.783Z"
   },
   {
    "duration": 3,
    "start_time": "2023-02-10T16:44:16.980Z"
   },
   {
    "duration": 1128,
    "start_time": "2023-02-10T16:44:17.540Z"
   },
   {
    "duration": 11,
    "start_time": "2023-02-10T16:44:46.304Z"
   },
   {
    "duration": 1104,
    "start_time": "2023-02-10T16:44:47.009Z"
   },
   {
    "duration": 3,
    "start_time": "2023-02-10T16:44:59.691Z"
   },
   {
    "duration": 1194,
    "start_time": "2023-02-10T16:45:00.283Z"
   },
   {
    "duration": 3,
    "start_time": "2023-02-10T16:46:38.996Z"
   },
   {
    "duration": 56,
    "start_time": "2023-02-10T16:48:06.808Z"
   },
   {
    "duration": 2000,
    "start_time": "2023-02-10T16:48:16.980Z"
   },
   {
    "duration": 1385,
    "start_time": "2023-02-10T16:48:18.983Z"
   },
   {
    "duration": 3502,
    "start_time": "2023-02-10T16:48:20.451Z"
   },
   {
    "duration": 17,
    "start_time": "2023-02-10T16:48:23.955Z"
   },
   {
    "duration": 34,
    "start_time": "2023-02-10T16:48:23.973Z"
   },
   {
    "duration": 244,
    "start_time": "2023-02-10T16:48:24.009Z"
   },
   {
    "duration": 3,
    "start_time": "2023-02-10T16:48:24.255Z"
   },
   {
    "duration": 4069,
    "start_time": "2023-02-10T16:48:24.259Z"
   },
   {
    "duration": 12,
    "start_time": "2023-02-10T16:48:28.330Z"
   },
   {
    "duration": 12,
    "start_time": "2023-02-10T16:48:28.344Z"
   },
   {
    "duration": 6,
    "start_time": "2023-02-10T16:48:28.357Z"
   },
   {
    "duration": 69144,
    "start_time": "2023-02-10T16:48:28.366Z"
   },
   {
    "duration": 155,
    "start_time": "2023-02-10T16:49:37.512Z"
   },
   {
    "duration": 58,
    "start_time": "2023-02-10T16:49:37.669Z"
   },
   {
    "duration": 5070,
    "start_time": "2023-02-10T16:49:37.729Z"
   },
   {
    "duration": 1468,
    "start_time": "2023-02-10T16:49:42.801Z"
   },
   {
    "duration": 528,
    "start_time": "2023-02-10T16:49:44.270Z"
   },
   {
    "duration": 4,
    "start_time": "2023-02-10T16:49:44.801Z"
   },
   {
    "duration": 9,
    "start_time": "2023-02-10T16:49:44.807Z"
   },
   {
    "duration": 5,
    "start_time": "2023-02-10T16:49:44.827Z"
   },
   {
    "duration": 4,
    "start_time": "2023-02-10T16:49:44.834Z"
   },
   {
    "duration": 4,
    "start_time": "2023-02-10T16:49:56.474Z"
   },
   {
    "duration": 48,
    "start_time": "2023-02-10T16:50:55.314Z"
   },
   {
    "duration": 7,
    "start_time": "2023-02-10T16:51:14.297Z"
   },
   {
    "duration": 1502,
    "start_time": "2023-02-10T16:51:20.303Z"
   },
   {
    "duration": 87,
    "start_time": "2023-02-10T16:51:52.972Z"
   },
   {
    "duration": 4,
    "start_time": "2023-02-10T16:51:59.932Z"
   },
   {
    "duration": 11,
    "start_time": "2023-02-10T16:52:00.732Z"
   },
   {
    "duration": 2092,
    "start_time": "2023-02-10T16:52:13.106Z"
   },
   {
    "duration": 1520,
    "start_time": "2023-02-10T16:52:19.208Z"
   },
   {
    "duration": 3488,
    "start_time": "2023-02-10T16:52:22.428Z"
   },
   {
    "duration": 17,
    "start_time": "2023-02-10T16:52:25.918Z"
   },
   {
    "duration": 35,
    "start_time": "2023-02-10T16:52:27.019Z"
   },
   {
    "duration": 238,
    "start_time": "2023-02-10T16:52:27.993Z"
   },
   {
    "duration": 3,
    "start_time": "2023-02-10T16:52:28.577Z"
   },
   {
    "duration": 4072,
    "start_time": "2023-02-10T16:52:29.775Z"
   },
   {
    "duration": 10,
    "start_time": "2023-02-10T16:52:33.849Z"
   },
   {
    "duration": 4,
    "start_time": "2023-02-10T16:52:33.860Z"
   },
   {
    "duration": 5,
    "start_time": "2023-02-10T16:52:33.865Z"
   },
   {
    "duration": 69606,
    "start_time": "2023-02-10T16:52:38.900Z"
   },
   {
    "duration": 215,
    "start_time": "2023-02-10T16:53:53.277Z"
   },
   {
    "duration": 40,
    "start_time": "2023-02-10T16:53:54.789Z"
   },
   {
    "duration": 4985,
    "start_time": "2023-02-10T16:53:56.146Z"
   },
   {
    "duration": 1462,
    "start_time": "2023-02-10T16:54:01.133Z"
   },
   {
    "duration": 527,
    "start_time": "2023-02-10T16:54:02.596Z"
   },
   {
    "duration": 4,
    "start_time": "2023-02-10T16:54:03.125Z"
   },
   {
    "duration": 33,
    "start_time": "2023-02-10T16:54:03.131Z"
   },
   {
    "duration": 29,
    "start_time": "2023-02-10T16:54:03.166Z"
   },
   {
    "duration": 4,
    "start_time": "2023-02-10T16:54:05.160Z"
   },
   {
    "duration": 4,
    "start_time": "2023-02-10T16:54:12.101Z"
   },
   {
    "duration": 50,
    "start_time": "2023-02-10T16:58:07.009Z"
   },
   {
    "duration": 6,
    "start_time": "2023-02-10T16:58:08.769Z"
   },
   {
    "duration": 2014,
    "start_time": "2023-02-10T16:58:18.070Z"
   },
   {
    "duration": 2273,
    "start_time": "2023-02-10T16:58:20.086Z"
   },
   {
    "duration": 3411,
    "start_time": "2023-02-10T16:58:22.360Z"
   },
   {
    "duration": 16,
    "start_time": "2023-02-10T16:58:25.774Z"
   },
   {
    "duration": 37,
    "start_time": "2023-02-10T16:58:25.791Z"
   },
   {
    "duration": 238,
    "start_time": "2023-02-10T16:58:25.829Z"
   },
   {
    "duration": 3,
    "start_time": "2023-02-10T16:58:26.069Z"
   },
   {
    "duration": 3979,
    "start_time": "2023-02-10T16:58:26.075Z"
   },
   {
    "duration": 10,
    "start_time": "2023-02-10T16:58:30.056Z"
   },
   {
    "duration": 19,
    "start_time": "2023-02-10T16:58:30.068Z"
   },
   {
    "duration": 20,
    "start_time": "2023-02-10T16:58:30.088Z"
   },
   {
    "duration": 64361,
    "start_time": "2023-02-10T16:58:30.111Z"
   },
   {
    "duration": 184,
    "start_time": "2023-02-10T16:59:34.474Z"
   },
   {
    "duration": 55,
    "start_time": "2023-02-10T16:59:34.660Z"
   },
   {
    "duration": 4797,
    "start_time": "2023-02-10T16:59:34.717Z"
   },
   {
    "duration": 1497,
    "start_time": "2023-02-10T16:59:39.515Z"
   },
   {
    "duration": 514,
    "start_time": "2023-02-10T16:59:41.013Z"
   },
   {
    "duration": 4,
    "start_time": "2023-02-10T16:59:41.529Z"
   },
   {
    "duration": 9,
    "start_time": "2023-02-10T16:59:41.535Z"
   },
   {
    "duration": 6,
    "start_time": "2023-02-10T16:59:41.545Z"
   },
   {
    "duration": 7,
    "start_time": "2023-02-10T16:59:41.553Z"
   },
   {
    "duration": 3,
    "start_time": "2023-02-10T17:01:05.736Z"
   },
   {
    "duration": 6,
    "start_time": "2023-02-10T17:01:06.711Z"
   },
   {
    "duration": 2,
    "start_time": "2023-02-10T17:01:11.285Z"
   },
   {
    "duration": 86,
    "start_time": "2023-02-10T17:01:12.325Z"
   },
   {
    "duration": 39772,
    "start_time": "2023-02-10T17:01:27.944Z"
   },
   {
    "duration": 3,
    "start_time": "2023-02-10T17:04:14.796Z"
   },
   {
    "duration": 86,
    "start_time": "2023-02-10T17:04:27.136Z"
   },
   {
    "duration": 63,
    "start_time": "2023-02-10T17:04:36.323Z"
   },
   {
    "duration": 71,
    "start_time": "2023-02-10T17:04:50.565Z"
   },
   {
    "duration": 71,
    "start_time": "2023-02-10T17:05:10.371Z"
   },
   {
    "duration": 11,
    "start_time": "2023-02-10T17:05:24.734Z"
   },
   {
    "duration": 3,
    "start_time": "2023-02-10T17:05:33.028Z"
   },
   {
    "duration": 10,
    "start_time": "2023-02-10T17:05:36.001Z"
   },
   {
    "duration": 53,
    "start_time": "2023-02-10T17:08:21.391Z"
   },
   {
    "duration": 49,
    "start_time": "2023-02-10T17:10:47.744Z"
   },
   {
    "duration": 2165,
    "start_time": "2023-02-10T17:10:59.555Z"
   },
   {
    "duration": 1473,
    "start_time": "2023-02-10T17:11:04.333Z"
   },
   {
    "duration": 3584,
    "start_time": "2023-02-10T17:11:08.066Z"
   },
   {
    "duration": 17,
    "start_time": "2023-02-10T17:11:11.652Z"
   },
   {
    "duration": 32,
    "start_time": "2023-02-10T17:11:11.671Z"
   },
   {
    "duration": 241,
    "start_time": "2023-02-10T17:11:11.705Z"
   },
   {
    "duration": 3,
    "start_time": "2023-02-10T17:11:11.948Z"
   },
   {
    "duration": 4105,
    "start_time": "2023-02-10T17:11:11.953Z"
   },
   {
    "duration": 11,
    "start_time": "2023-02-10T17:11:16.059Z"
   },
   {
    "duration": 14,
    "start_time": "2023-02-10T17:11:16.072Z"
   },
   {
    "duration": 19,
    "start_time": "2023-02-10T17:11:16.088Z"
   },
   {
    "duration": 70045,
    "start_time": "2023-02-10T17:11:16.109Z"
   },
   {
    "duration": 243,
    "start_time": "2023-02-10T17:12:26.156Z"
   },
   {
    "duration": 58,
    "start_time": "2023-02-10T17:12:26.402Z"
   },
   {
    "duration": 5149,
    "start_time": "2023-02-10T17:12:26.462Z"
   },
   {
    "duration": 1515,
    "start_time": "2023-02-10T17:12:31.613Z"
   },
   {
    "duration": 544,
    "start_time": "2023-02-10T17:12:33.130Z"
   },
   {
    "duration": 4,
    "start_time": "2023-02-10T17:12:33.676Z"
   },
   {
    "duration": 7,
    "start_time": "2023-02-10T17:12:33.682Z"
   },
   {
    "duration": 5,
    "start_time": "2023-02-10T17:12:33.691Z"
   },
   {
    "duration": 9,
    "start_time": "2023-02-10T17:12:33.698Z"
   },
   {
    "duration": 3,
    "start_time": "2023-02-10T17:13:16.840Z"
   },
   {
    "duration": 139,
    "start_time": "2023-02-10T17:13:19.137Z"
   },
   {
    "duration": 13,
    "start_time": "2023-02-10T17:13:45.565Z"
   },
   {
    "duration": 13,
    "start_time": "2023-02-10T17:14:06.320Z"
   },
   {
    "duration": 6,
    "start_time": "2023-02-10T17:14:08.442Z"
   },
   {
    "duration": 4,
    "start_time": "2023-02-10T17:14:14.856Z"
   },
   {
    "duration": 13,
    "start_time": "2023-02-10T17:14:41.308Z"
   },
   {
    "duration": 10,
    "start_time": "2023-02-10T17:14:56.831Z"
   },
   {
    "duration": 628,
    "start_time": "2023-02-10T17:15:36.917Z"
   },
   {
    "duration": 788,
    "start_time": "2023-02-10T17:18:14.528Z"
   },
   {
    "duration": 4,
    "start_time": "2023-02-10T17:18:26.371Z"
   },
   {
    "duration": 14,
    "start_time": "2023-02-10T17:18:40.405Z"
   },
   {
    "duration": 10,
    "start_time": "2023-02-10T17:19:12.514Z"
   },
   {
    "duration": 2,
    "start_time": "2023-02-10T17:19:20.756Z"
   },
   {
    "duration": 4,
    "start_time": "2023-02-10T17:19:25.433Z"
   },
   {
    "duration": 11,
    "start_time": "2023-02-10T17:20:49.664Z"
   },
   {
    "duration": 6,
    "start_time": "2023-02-10T17:21:26.952Z"
   },
   {
    "duration": 13,
    "start_time": "2023-02-10T17:21:35.494Z"
   },
   {
    "duration": 635,
    "start_time": "2023-02-10T17:22:01.612Z"
   },
   {
    "duration": 11,
    "start_time": "2023-02-10T17:24:17.846Z"
   },
   {
    "duration": 215752,
    "start_time": "2023-02-10T17:24:34.990Z"
   },
   {
    "duration": 92,
    "start_time": "2023-02-10T17:28:19.004Z"
   },
   {
    "duration": 59,
    "start_time": "2023-02-10T17:28:26.327Z"
   },
   {
    "duration": 277758,
    "start_time": "2023-02-10T17:28:34.518Z"
   },
   {
    "duration": 1560161,
    "start_time": "2023-02-10T17:33:43.765Z"
   },
   {
    "duration": 61,
    "start_time": "2023-02-10T18:01:44.064Z"
   },
   {
    "duration": 2042,
    "start_time": "2023-02-10T18:02:07.350Z"
   },
   {
    "duration": 1565,
    "start_time": "2023-02-10T18:02:09.394Z"
   },
   {
    "duration": 3592,
    "start_time": "2023-02-10T18:02:10.960Z"
   },
   {
    "duration": 18,
    "start_time": "2023-02-10T18:02:14.554Z"
   },
   {
    "duration": 37,
    "start_time": "2023-02-10T18:02:14.573Z"
   },
   {
    "duration": 239,
    "start_time": "2023-02-10T18:02:14.612Z"
   },
   {
    "duration": 3,
    "start_time": "2023-02-10T18:02:14.853Z"
   },
   {
    "duration": 2211,
    "start_time": "2023-02-11T07:06:49.432Z"
   },
   {
    "duration": 1383,
    "start_time": "2023-02-11T07:06:54.274Z"
   },
   {
    "duration": 2355,
    "start_time": "2023-02-11T07:06:56.615Z"
   },
   {
    "duration": 16,
    "start_time": "2023-02-11T07:07:00.191Z"
   },
   {
    "duration": 34,
    "start_time": "2023-02-11T07:07:00.639Z"
   },
   {
    "duration": 223,
    "start_time": "2023-02-11T07:07:01.072Z"
   },
   {
    "duration": 3,
    "start_time": "2023-02-11T07:07:01.363Z"
   },
   {
    "duration": 4394,
    "start_time": "2023-02-11T07:07:01.766Z"
   },
   {
    "duration": 12,
    "start_time": "2023-02-11T07:07:06.163Z"
   },
   {
    "duration": 16,
    "start_time": "2023-02-11T07:07:06.176Z"
   },
   {
    "duration": 7,
    "start_time": "2023-02-11T07:07:06.194Z"
   },
   {
    "duration": 62531,
    "start_time": "2023-02-11T07:07:06.202Z"
   },
   {
    "duration": 1579,
    "start_time": "2023-02-11T07:08:08.735Z"
   },
   {
    "duration": 38,
    "start_time": "2023-02-11T07:08:10.316Z"
   },
   {
    "duration": 4544,
    "start_time": "2023-02-11T07:08:10.356Z"
   },
   {
    "duration": 1433,
    "start_time": "2023-02-11T07:08:14.902Z"
   },
   {
    "duration": 478,
    "start_time": "2023-02-11T07:08:16.338Z"
   },
   {
    "duration": 3,
    "start_time": "2023-02-11T07:08:16.817Z"
   },
   {
    "duration": 6,
    "start_time": "2023-02-11T07:08:16.822Z"
   },
   {
    "duration": 5,
    "start_time": "2023-02-11T07:08:16.830Z"
   },
   {
    "duration": 12,
    "start_time": "2023-02-11T07:08:16.837Z"
   },
   {
    "duration": 4,
    "start_time": "2023-02-11T07:08:16.850Z"
   },
   {
    "duration": 1560902,
    "start_time": "2023-02-11T07:08:16.856Z"
   },
   {
    "duration": 45992,
    "start_time": "2023-02-11T07:34:17.760Z"
   },
   {
    "duration": 290139,
    "start_time": "2023-02-11T07:35:03.754Z"
   },
   {
    "duration": 3,
    "start_time": "2023-02-11T07:41:39.610Z"
   },
   {
    "duration": 2055,
    "start_time": "2023-02-11T07:44:40.362Z"
   },
   {
    "duration": 1407,
    "start_time": "2023-02-11T07:44:42.419Z"
   },
   {
    "duration": 2374,
    "start_time": "2023-02-11T07:44:43.827Z"
   },
   {
    "duration": 15,
    "start_time": "2023-02-11T07:44:46.203Z"
   },
   {
    "duration": 28,
    "start_time": "2023-02-11T07:44:46.219Z"
   },
   {
    "duration": 221,
    "start_time": "2023-02-11T07:44:46.249Z"
   },
   {
    "duration": 3,
    "start_time": "2023-02-11T07:44:46.472Z"
   },
   {
    "duration": 3865,
    "start_time": "2023-02-11T07:44:46.476Z"
   },
   {
    "duration": 13,
    "start_time": "2023-02-11T07:44:50.342Z"
   },
   {
    "duration": 5,
    "start_time": "2023-02-11T07:44:50.357Z"
   },
   {
    "duration": 6,
    "start_time": "2023-02-11T07:44:50.363Z"
   },
   {
    "duration": 61324,
    "start_time": "2023-02-11T07:44:50.371Z"
   },
   {
    "duration": 212,
    "start_time": "2023-02-11T07:45:51.696Z"
   },
   {
    "duration": 46,
    "start_time": "2023-02-11T07:45:51.910Z"
   },
   {
    "duration": 4658,
    "start_time": "2023-02-11T07:45:51.958Z"
   },
   {
    "duration": 1412,
    "start_time": "2023-02-11T07:45:56.618Z"
   },
   {
    "duration": 485,
    "start_time": "2023-02-11T07:45:58.032Z"
   },
   {
    "duration": 4,
    "start_time": "2023-02-11T07:45:58.519Z"
   },
   {
    "duration": 6,
    "start_time": "2023-02-11T07:45:58.524Z"
   },
   {
    "duration": 17,
    "start_time": "2023-02-11T07:45:58.532Z"
   },
   {
    "duration": 3,
    "start_time": "2023-02-11T07:45:58.550Z"
   },
   {
    "duration": 7,
    "start_time": "2023-02-11T07:45:58.554Z"
   },
   {
    "duration": 52,
    "start_time": "2023-02-11T07:57:47.221Z"
   },
   {
    "duration": 2047,
    "start_time": "2023-02-11T07:57:57.461Z"
   },
   {
    "duration": 1506,
    "start_time": "2023-02-11T07:57:59.510Z"
   },
   {
    "duration": 2442,
    "start_time": "2023-02-11T07:58:01.018Z"
   },
   {
    "duration": 16,
    "start_time": "2023-02-11T07:58:03.462Z"
   },
   {
    "duration": 33,
    "start_time": "2023-02-11T07:58:04.419Z"
   },
   {
    "duration": 224,
    "start_time": "2023-02-11T07:58:04.666Z"
   },
   {
    "duration": 3,
    "start_time": "2023-02-11T07:58:04.892Z"
   },
   {
    "duration": 3974,
    "start_time": "2023-02-11T07:58:05.235Z"
   },
   {
    "duration": 10,
    "start_time": "2023-02-11T07:58:09.211Z"
   },
   {
    "duration": 5,
    "start_time": "2023-02-11T07:58:09.222Z"
   },
   {
    "duration": 6,
    "start_time": "2023-02-11T07:58:09.229Z"
   },
   {
    "duration": 62329,
    "start_time": "2023-02-11T07:58:09.236Z"
   },
   {
    "duration": 126,
    "start_time": "2023-02-11T07:59:11.567Z"
   },
   {
    "duration": 37,
    "start_time": "2023-02-11T07:59:11.695Z"
   },
   {
    "duration": 4724,
    "start_time": "2023-02-11T07:59:11.733Z"
   },
   {
    "duration": 1345,
    "start_time": "2023-02-11T07:59:16.458Z"
   },
   {
    "duration": 495,
    "start_time": "2023-02-11T07:59:17.805Z"
   },
   {
    "duration": 3,
    "start_time": "2023-02-11T07:59:18.302Z"
   },
   {
    "duration": 44,
    "start_time": "2023-02-11T07:59:18.307Z"
   },
   {
    "duration": 19,
    "start_time": "2023-02-11T07:59:18.352Z"
   },
   {
    "duration": 8,
    "start_time": "2023-02-11T07:59:18.372Z"
   },
   {
    "duration": 5,
    "start_time": "2023-02-11T07:59:18.382Z"
   },
   {
    "duration": 2076,
    "start_time": "2023-02-11T08:22:25.826Z"
   },
   {
    "duration": 1374,
    "start_time": "2023-02-11T08:22:30.304Z"
   },
   {
    "duration": 2322,
    "start_time": "2023-02-11T08:22:31.680Z"
   },
   {
    "duration": 17,
    "start_time": "2023-02-11T08:22:34.004Z"
   },
   {
    "duration": 30,
    "start_time": "2023-02-11T08:22:34.023Z"
   },
   {
    "duration": 232,
    "start_time": "2023-02-11T08:22:34.055Z"
   },
   {
    "duration": 3,
    "start_time": "2023-02-11T08:22:34.288Z"
   },
   {
    "duration": 4069,
    "start_time": "2023-02-11T08:22:34.292Z"
   },
   {
    "duration": 11,
    "start_time": "2023-02-11T08:22:38.363Z"
   },
   {
    "duration": 7,
    "start_time": "2023-02-11T08:22:38.376Z"
   },
   {
    "duration": 4,
    "start_time": "2023-02-11T08:22:38.385Z"
   },
   {
    "duration": 67637,
    "start_time": "2023-02-11T08:22:40.652Z"
   },
   {
    "duration": 224,
    "start_time": "2023-02-11T08:23:48.291Z"
   },
   {
    "duration": 36,
    "start_time": "2023-02-11T08:23:48.516Z"
   },
   {
    "duration": 4624,
    "start_time": "2023-02-11T08:23:48.554Z"
   },
   {
    "duration": 1421,
    "start_time": "2023-02-11T08:23:53.181Z"
   },
   {
    "duration": 518,
    "start_time": "2023-02-11T08:23:54.604Z"
   },
   {
    "duration": 5,
    "start_time": "2023-02-11T08:23:55.124Z"
   },
   {
    "duration": 7,
    "start_time": "2023-02-11T08:23:55.131Z"
   },
   {
    "duration": 4,
    "start_time": "2023-02-11T08:23:55.147Z"
   },
   {
    "duration": 10,
    "start_time": "2023-02-11T08:23:55.153Z"
   },
   {
    "duration": 15,
    "start_time": "2023-02-11T08:23:55.164Z"
   },
   {
    "duration": 2217,
    "start_time": "2023-02-11T08:27:23.897Z"
   },
   {
    "duration": 1459,
    "start_time": "2023-02-11T08:27:26.116Z"
   },
   {
    "duration": 2344,
    "start_time": "2023-02-11T08:27:27.577Z"
   },
   {
    "duration": 18,
    "start_time": "2023-02-11T08:27:29.924Z"
   },
   {
    "duration": 32,
    "start_time": "2023-02-11T08:27:29.943Z"
   },
   {
    "duration": 235,
    "start_time": "2023-02-11T08:27:29.977Z"
   },
   {
    "duration": 3,
    "start_time": "2023-02-11T08:27:30.214Z"
   },
   {
    "duration": 4167,
    "start_time": "2023-02-11T08:27:30.219Z"
   },
   {
    "duration": 9,
    "start_time": "2023-02-11T08:27:34.388Z"
   },
   {
    "duration": 8,
    "start_time": "2023-02-11T08:27:34.399Z"
   },
   {
    "duration": 8,
    "start_time": "2023-02-11T08:27:34.408Z"
   },
   {
    "duration": 62026,
    "start_time": "2023-02-11T08:27:34.417Z"
   },
   {
    "duration": 183,
    "start_time": "2023-02-11T08:28:36.448Z"
   },
   {
    "duration": 37,
    "start_time": "2023-02-11T08:28:36.632Z"
   },
   {
    "duration": 4759,
    "start_time": "2023-02-11T08:28:36.671Z"
   },
   {
    "duration": 1408,
    "start_time": "2023-02-11T08:28:41.431Z"
   },
   {
    "duration": 517,
    "start_time": "2023-02-11T08:28:42.841Z"
   },
   {
    "duration": 4,
    "start_time": "2023-02-11T08:28:43.360Z"
   },
   {
    "duration": 6,
    "start_time": "2023-02-11T08:28:43.365Z"
   },
   {
    "duration": 6,
    "start_time": "2023-02-11T08:28:43.372Z"
   },
   {
    "duration": 5,
    "start_time": "2023-02-11T08:28:43.380Z"
   },
   {
    "duration": 4,
    "start_time": "2023-02-11T08:28:43.387Z"
   },
   {
    "duration": 2022,
    "start_time": "2023-02-11T08:30:41.167Z"
   },
   {
    "duration": 1443,
    "start_time": "2023-02-11T08:30:45.620Z"
   },
   {
    "duration": 2361,
    "start_time": "2023-02-11T08:30:47.064Z"
   },
   {
    "duration": 16,
    "start_time": "2023-02-11T08:30:49.427Z"
   },
   {
    "duration": 29,
    "start_time": "2023-02-11T08:30:49.445Z"
   },
   {
    "duration": 231,
    "start_time": "2023-02-11T08:30:49.475Z"
   },
   {
    "duration": 3,
    "start_time": "2023-02-11T08:30:49.768Z"
   },
   {
    "duration": 3882,
    "start_time": "2023-02-11T08:30:51.112Z"
   },
   {
    "duration": 11,
    "start_time": "2023-02-11T08:30:54.996Z"
   },
   {
    "duration": 6,
    "start_time": "2023-02-11T08:30:55.008Z"
   },
   {
    "duration": 7,
    "start_time": "2023-02-11T08:30:55.016Z"
   },
   {
    "duration": 65180,
    "start_time": "2023-02-11T08:30:55.025Z"
   },
   {
    "duration": 164,
    "start_time": "2023-02-11T08:32:00.208Z"
   },
   {
    "duration": 38,
    "start_time": "2023-02-11T08:32:00.374Z"
   },
   {
    "duration": 5007,
    "start_time": "2023-02-11T08:32:00.414Z"
   },
   {
    "duration": 1432,
    "start_time": "2023-02-11T08:32:05.424Z"
   },
   {
    "duration": 512,
    "start_time": "2023-02-11T08:32:06.858Z"
   },
   {
    "duration": 4,
    "start_time": "2023-02-11T08:32:07.372Z"
   },
   {
    "duration": 5,
    "start_time": "2023-02-11T08:32:07.378Z"
   },
   {
    "duration": 8,
    "start_time": "2023-02-11T08:32:07.385Z"
   },
   {
    "duration": 7,
    "start_time": "2023-02-11T08:32:07.394Z"
   },
   {
    "duration": 6,
    "start_time": "2023-02-11T08:32:07.402Z"
   },
   {
    "duration": 2038,
    "start_time": "2023-02-11T08:43:26.845Z"
   },
   {
    "duration": 1454,
    "start_time": "2023-02-11T08:43:28.885Z"
   },
   {
    "duration": 2229,
    "start_time": "2023-02-11T08:43:30.340Z"
   },
   {
    "duration": 16,
    "start_time": "2023-02-11T08:43:32.571Z"
   },
   {
    "duration": 29,
    "start_time": "2023-02-11T08:43:32.588Z"
   },
   {
    "duration": 232,
    "start_time": "2023-02-11T08:43:32.619Z"
   },
   {
    "duration": 4,
    "start_time": "2023-02-11T08:43:32.852Z"
   },
   {
    "duration": 4155,
    "start_time": "2023-02-11T08:43:32.857Z"
   },
   {
    "duration": 10,
    "start_time": "2023-02-11T08:43:37.014Z"
   },
   {
    "duration": 14,
    "start_time": "2023-02-11T08:43:37.028Z"
   },
   {
    "duration": 4,
    "start_time": "2023-02-11T08:43:37.047Z"
   },
   {
    "duration": 68904,
    "start_time": "2023-02-11T08:43:37.053Z"
   },
   {
    "duration": 213,
    "start_time": "2023-02-11T08:44:45.959Z"
   },
   {
    "duration": 38,
    "start_time": "2023-02-11T08:44:46.174Z"
   },
   {
    "duration": 4753,
    "start_time": "2023-02-11T08:44:46.213Z"
   },
   {
    "duration": 1399,
    "start_time": "2023-02-11T08:44:50.968Z"
   },
   {
    "duration": 525,
    "start_time": "2023-02-11T08:44:52.369Z"
   },
   {
    "duration": 5,
    "start_time": "2023-02-11T08:44:52.896Z"
   },
   {
    "duration": 8,
    "start_time": "2023-02-11T08:44:52.902Z"
   },
   {
    "duration": 9,
    "start_time": "2023-02-11T08:44:52.912Z"
   },
   {
    "duration": 10,
    "start_time": "2023-02-11T08:44:52.923Z"
   },
   {
    "duration": 238955,
    "start_time": "2023-02-11T08:44:52.937Z"
   },
   {
    "duration": 3,
    "start_time": "2023-02-11T09:03:38.631Z"
   },
   {
    "duration": 53,
    "start_time": "2023-02-11T10:10:14.976Z"
   },
   {
    "duration": 2128,
    "start_time": "2023-02-11T10:10:29.404Z"
   },
   {
    "duration": 1476,
    "start_time": "2023-02-11T10:10:31.534Z"
   },
   {
    "duration": 2397,
    "start_time": "2023-02-11T10:10:33.011Z"
   },
   {
    "duration": 23,
    "start_time": "2023-02-11T10:10:35.411Z"
   },
   {
    "duration": 44,
    "start_time": "2023-02-11T10:10:35.436Z"
   },
   {
    "duration": 263,
    "start_time": "2023-02-11T10:10:35.483Z"
   },
   {
    "duration": 3,
    "start_time": "2023-02-11T10:10:35.748Z"
   },
   {
    "duration": 4027,
    "start_time": "2023-02-11T10:10:35.752Z"
   },
   {
    "duration": 10,
    "start_time": "2023-02-11T10:10:39.781Z"
   },
   {
    "duration": 4,
    "start_time": "2023-02-11T10:10:39.793Z"
   },
   {
    "duration": 16,
    "start_time": "2023-02-11T10:10:39.798Z"
   },
   {
    "duration": 61750,
    "start_time": "2023-02-11T10:10:39.815Z"
   },
   {
    "duration": 212,
    "start_time": "2023-02-11T10:11:41.567Z"
   },
   {
    "duration": 38,
    "start_time": "2023-02-11T10:11:41.781Z"
   },
   {
    "duration": 4677,
    "start_time": "2023-02-11T10:11:41.820Z"
   },
   {
    "duration": 1369,
    "start_time": "2023-02-11T10:11:46.499Z"
   },
   {
    "duration": 507,
    "start_time": "2023-02-11T10:11:47.869Z"
   },
   {
    "duration": 3,
    "start_time": "2023-02-11T10:11:48.378Z"
   },
   {
    "duration": 6,
    "start_time": "2023-02-11T10:11:48.383Z"
   },
   {
    "duration": 5,
    "start_time": "2023-02-11T10:11:48.390Z"
   },
   {
    "duration": 5,
    "start_time": "2023-02-11T10:11:48.396Z"
   },
   {
    "duration": 5,
    "start_time": "2023-02-11T10:11:48.402Z"
   },
   {
    "duration": 2097,
    "start_time": "2023-02-11T10:29:23.111Z"
   },
   {
    "duration": 1419,
    "start_time": "2023-02-11T10:29:25.211Z"
   },
   {
    "duration": 2466,
    "start_time": "2023-02-11T10:29:26.632Z"
   },
   {
    "duration": 17,
    "start_time": "2023-02-11T10:29:29.100Z"
   },
   {
    "duration": 32,
    "start_time": "2023-02-11T10:29:29.119Z"
   },
   {
    "duration": 228,
    "start_time": "2023-02-11T10:29:29.153Z"
   },
   {
    "duration": 3,
    "start_time": "2023-02-11T10:29:29.382Z"
   },
   {
    "duration": 3986,
    "start_time": "2023-02-11T10:29:29.386Z"
   },
   {
    "duration": 10,
    "start_time": "2023-02-11T10:29:33.373Z"
   },
   {
    "duration": 5,
    "start_time": "2023-02-11T10:29:33.385Z"
   },
   {
    "duration": 6,
    "start_time": "2023-02-11T10:29:33.392Z"
   },
   {
    "duration": 62339,
    "start_time": "2023-02-11T10:29:33.399Z"
   },
   {
    "duration": 175,
    "start_time": "2023-02-11T10:30:35.740Z"
   },
   {
    "duration": 45,
    "start_time": "2023-02-11T10:30:35.916Z"
   },
   {
    "duration": 4635,
    "start_time": "2023-02-11T10:30:35.962Z"
   },
   {
    "duration": 1351,
    "start_time": "2023-02-11T10:30:40.598Z"
   },
   {
    "duration": 471,
    "start_time": "2023-02-11T10:30:41.951Z"
   },
   {
    "duration": 4,
    "start_time": "2023-02-11T10:30:42.424Z"
   },
   {
    "duration": 5,
    "start_time": "2023-02-11T10:30:42.430Z"
   },
   {
    "duration": 3,
    "start_time": "2023-02-11T10:30:42.448Z"
   },
   {
    "duration": 5,
    "start_time": "2023-02-11T10:30:42.453Z"
   },
   {
    "duration": 5,
    "start_time": "2023-02-11T10:30:42.460Z"
   },
   {
    "duration": 58,
    "start_time": "2023-02-11T10:55:59.560Z"
   },
   {
    "duration": 2336,
    "start_time": "2023-02-11T10:56:23.982Z"
   },
   {
    "duration": 1412,
    "start_time": "2023-02-11T10:56:26.320Z"
   },
   {
    "duration": 2288,
    "start_time": "2023-02-11T10:56:27.734Z"
   },
   {
    "duration": 18,
    "start_time": "2023-02-11T10:56:30.025Z"
   },
   {
    "duration": 33,
    "start_time": "2023-02-11T10:56:30.045Z"
   },
   {
    "duration": 230,
    "start_time": "2023-02-11T10:56:30.079Z"
   },
   {
    "duration": 3,
    "start_time": "2023-02-11T10:56:30.310Z"
   },
   {
    "duration": 3269,
    "start_time": "2023-02-11T10:56:30.314Z"
   },
   {
    "duration": 0,
    "start_time": "2023-02-11T10:56:33.585Z"
   },
   {
    "duration": 0,
    "start_time": "2023-02-11T10:56:33.587Z"
   },
   {
    "duration": 0,
    "start_time": "2023-02-11T10:56:33.588Z"
   },
   {
    "duration": 0,
    "start_time": "2023-02-11T10:56:33.589Z"
   },
   {
    "duration": 0,
    "start_time": "2023-02-11T10:56:33.591Z"
   },
   {
    "duration": 0,
    "start_time": "2023-02-11T10:56:33.592Z"
   },
   {
    "duration": 0,
    "start_time": "2023-02-11T10:56:33.594Z"
   },
   {
    "duration": 0,
    "start_time": "2023-02-11T10:56:33.595Z"
   },
   {
    "duration": 0,
    "start_time": "2023-02-11T10:56:33.596Z"
   },
   {
    "duration": 0,
    "start_time": "2023-02-11T10:56:33.597Z"
   },
   {
    "duration": 0,
    "start_time": "2023-02-11T10:56:33.598Z"
   },
   {
    "duration": 0,
    "start_time": "2023-02-11T10:56:33.600Z"
   },
   {
    "duration": 0,
    "start_time": "2023-02-11T10:56:33.601Z"
   },
   {
    "duration": 0,
    "start_time": "2023-02-11T10:56:33.602Z"
   },
   {
    "duration": 2040,
    "start_time": "2023-02-11T10:56:49.663Z"
   },
   {
    "duration": 1334,
    "start_time": "2023-02-11T10:56:51.705Z"
   },
   {
    "duration": 813,
    "start_time": "2023-02-11T10:56:53.041Z"
   },
   {
    "duration": 21,
    "start_time": "2023-02-11T10:56:53.856Z"
   },
   {
    "duration": 53,
    "start_time": "2023-02-11T10:56:53.880Z"
   },
   {
    "duration": 234,
    "start_time": "2023-02-11T10:56:53.935Z"
   },
   {
    "duration": 4,
    "start_time": "2023-02-11T10:56:54.171Z"
   },
   {
    "duration": 4111,
    "start_time": "2023-02-11T10:56:54.177Z"
   },
   {
    "duration": 12,
    "start_time": "2023-02-11T10:56:58.289Z"
   },
   {
    "duration": 5,
    "start_time": "2023-02-11T10:56:58.303Z"
   },
   {
    "duration": 6,
    "start_time": "2023-02-11T10:56:58.311Z"
   },
   {
    "duration": 69696,
    "start_time": "2023-02-11T10:56:58.319Z"
   },
   {
    "duration": 134,
    "start_time": "2023-02-11T10:58:08.017Z"
   },
   {
    "duration": 39,
    "start_time": "2023-02-11T10:58:08.153Z"
   },
   {
    "duration": 4871,
    "start_time": "2023-02-11T10:58:08.194Z"
   },
   {
    "duration": 1506,
    "start_time": "2023-02-11T10:58:13.066Z"
   },
   {
    "duration": 491,
    "start_time": "2023-02-11T10:58:14.573Z"
   },
   {
    "duration": 7,
    "start_time": "2023-02-11T10:58:15.066Z"
   },
   {
    "duration": 13,
    "start_time": "2023-02-11T10:58:15.075Z"
   },
   {
    "duration": 8,
    "start_time": "2023-02-11T10:58:15.089Z"
   },
   {
    "duration": 4,
    "start_time": "2023-02-11T10:58:15.100Z"
   },
   {
    "duration": 4,
    "start_time": "2023-02-11T10:58:15.107Z"
   },
   {
    "duration": 69007,
    "start_time": "2023-02-11T10:58:19.545Z"
   },
   {
    "duration": 2040052,
    "start_time": "2023-02-11T10:59:41.256Z"
   },
   {
    "duration": 273633,
    "start_time": "2023-02-11T12:00:21.535Z"
   },
   {
    "duration": 2175,
    "start_time": "2023-02-11T12:27:03.618Z"
   },
   {
    "duration": 1411,
    "start_time": "2023-02-11T12:27:05.795Z"
   },
   {
    "duration": 2269,
    "start_time": "2023-02-11T12:27:07.208Z"
   },
   {
    "duration": 17,
    "start_time": "2023-02-11T12:27:09.478Z"
   },
   {
    "duration": 29,
    "start_time": "2023-02-11T12:27:09.497Z"
   },
   {
    "duration": 237,
    "start_time": "2023-02-11T12:27:09.528Z"
   },
   {
    "duration": 3,
    "start_time": "2023-02-11T12:27:09.767Z"
   },
   {
    "duration": 2894,
    "start_time": "2023-02-11T12:27:09.771Z"
   },
   {
    "duration": 0,
    "start_time": "2023-02-11T12:27:12.667Z"
   },
   {
    "duration": 0,
    "start_time": "2023-02-11T12:27:12.668Z"
   },
   {
    "duration": 0,
    "start_time": "2023-02-11T12:27:12.669Z"
   },
   {
    "duration": 0,
    "start_time": "2023-02-11T12:27:12.670Z"
   },
   {
    "duration": 0,
    "start_time": "2023-02-11T12:27:12.671Z"
   },
   {
    "duration": 0,
    "start_time": "2023-02-11T12:27:12.672Z"
   },
   {
    "duration": 0,
    "start_time": "2023-02-11T12:27:12.673Z"
   },
   {
    "duration": 0,
    "start_time": "2023-02-11T12:27:12.674Z"
   },
   {
    "duration": 0,
    "start_time": "2023-02-11T12:27:12.675Z"
   },
   {
    "duration": 0,
    "start_time": "2023-02-11T12:27:12.676Z"
   },
   {
    "duration": 0,
    "start_time": "2023-02-11T12:27:12.678Z"
   },
   {
    "duration": 0,
    "start_time": "2023-02-11T12:27:12.679Z"
   },
   {
    "duration": 0,
    "start_time": "2023-02-11T12:27:12.680Z"
   },
   {
    "duration": 0,
    "start_time": "2023-02-11T12:27:12.681Z"
   },
   {
    "duration": 0,
    "start_time": "2023-02-11T12:27:12.682Z"
   },
   {
    "duration": 0,
    "start_time": "2023-02-11T12:27:12.684Z"
   },
   {
    "duration": 0,
    "start_time": "2023-02-11T12:27:12.685Z"
   },
   {
    "duration": 0,
    "start_time": "2023-02-11T12:27:12.687Z"
   },
   {
    "duration": 0,
    "start_time": "2023-02-11T12:27:12.688Z"
   },
   {
    "duration": 2110,
    "start_time": "2023-02-11T12:27:21.863Z"
   },
   {
    "duration": 1485,
    "start_time": "2023-02-11T12:27:23.975Z"
   },
   {
    "duration": 869,
    "start_time": "2023-02-11T12:27:25.463Z"
   },
   {
    "duration": 21,
    "start_time": "2023-02-11T12:27:26.334Z"
   },
   {
    "duration": 33,
    "start_time": "2023-02-11T12:27:26.356Z"
   },
   {
    "duration": 235,
    "start_time": "2023-02-11T12:27:32.786Z"
   },
   {
    "duration": 3,
    "start_time": "2023-02-11T12:27:34.029Z"
   },
   {
    "duration": 4073,
    "start_time": "2023-02-11T12:27:35.426Z"
   },
   {
    "duration": 22,
    "start_time": "2023-02-11T12:27:39.501Z"
   },
   {
    "duration": 14,
    "start_time": "2023-02-11T12:27:39.526Z"
   },
   {
    "duration": 6,
    "start_time": "2023-02-11T12:27:39.543Z"
   },
   {
    "duration": 70941,
    "start_time": "2023-02-11T12:27:39.551Z"
   },
   {
    "duration": 165,
    "start_time": "2023-02-11T12:28:50.494Z"
   },
   {
    "duration": 43,
    "start_time": "2023-02-11T12:28:50.661Z"
   },
   {
    "duration": 4751,
    "start_time": "2023-02-11T12:28:50.707Z"
   },
   {
    "duration": 1501,
    "start_time": "2023-02-11T12:28:55.460Z"
   },
   {
    "duration": 486,
    "start_time": "2023-02-11T12:28:56.963Z"
   },
   {
    "duration": 4,
    "start_time": "2023-02-11T12:28:57.451Z"
   },
   {
    "duration": 11,
    "start_time": "2023-02-11T12:28:57.456Z"
   },
   {
    "duration": 7,
    "start_time": "2023-02-11T12:28:57.469Z"
   },
   {
    "duration": 5,
    "start_time": "2023-02-11T12:28:57.477Z"
   },
   {
    "duration": 7,
    "start_time": "2023-02-11T12:28:57.484Z"
   },
   {
    "duration": 2364278,
    "start_time": "2023-02-11T12:29:28.737Z"
   },
   {
    "duration": 118,
    "start_time": "2023-02-11T13:08:58.118Z"
   },
   {
    "duration": 4,
    "start_time": "2023-02-11T13:09:42.313Z"
   },
   {
    "duration": 10,
    "start_time": "2023-02-11T13:09:54.644Z"
   },
   {
    "duration": 9,
    "start_time": "2023-02-11T13:10:28.882Z"
   },
   {
    "duration": 23,
    "start_time": "2023-02-11T13:11:04.560Z"
   },
   {
    "duration": 296082,
    "start_time": "2023-02-11T13:11:30.773Z"
   },
   {
    "duration": 4,
    "start_time": "2023-02-11T13:16:34.315Z"
   },
   {
    "duration": 50,
    "start_time": "2023-02-11T13:17:30.502Z"
   },
   {
    "duration": 124523,
    "start_time": "2023-02-11T13:17:38.744Z"
   },
   {
    "duration": 3,
    "start_time": "2023-02-11T13:19:51.171Z"
   },
   {
    "duration": 0,
    "start_time": "2023-02-11T13:20:22.841Z"
   },
   {
    "duration": 9,
    "start_time": "2023-02-11T13:23:28.811Z"
   },
   {
    "duration": 10,
    "start_time": "2023-02-11T13:24:23.756Z"
   },
   {
    "duration": 199345,
    "start_time": "2023-02-11T13:24:35.168Z"
   },
   {
    "duration": 3,
    "start_time": "2023-02-11T13:27:54.515Z"
   },
   {
    "duration": 4,
    "start_time": "2023-02-11T13:29:38.288Z"
   },
   {
    "duration": 1195937,
    "start_time": "2023-02-11T13:29:39.126Z"
   },
   {
    "duration": 0,
    "start_time": "2023-02-11T13:49:35.065Z"
   },
   {
    "duration": 3,
    "start_time": "2023-02-11T13:49:48.994Z"
   },
   {
    "duration": 4,
    "start_time": "2023-02-11T13:49:55.365Z"
   },
   {
    "duration": 5859,
    "start_time": "2023-02-11T13:49:59.613Z"
   },
   {
    "duration": 9,
    "start_time": "2023-02-11T13:50:17.094Z"
   },
   {
    "duration": 4,
    "start_time": "2023-02-11T13:51:09.542Z"
   },
   {
    "duration": 4,
    "start_time": "2023-02-11T13:51:44.065Z"
   },
   {
    "duration": 3,
    "start_time": "2023-02-11T13:51:53.940Z"
   },
   {
    "duration": 3,
    "start_time": "2023-02-11T13:52:15.234Z"
   },
   {
    "duration": 5,
    "start_time": "2023-02-11T13:53:14.101Z"
   },
   {
    "duration": 27920,
    "start_time": "2023-02-11T13:54:19.466Z"
   },
   {
    "duration": 4,
    "start_time": "2023-02-11T13:55:00.339Z"
   },
   {
    "duration": 197366,
    "start_time": "2023-02-11T13:55:06.017Z"
   },
   {
    "duration": 3,
    "start_time": "2023-02-11T13:58:26.119Z"
   },
   {
    "duration": 601200,
    "start_time": "2023-02-11T13:58:29.448Z"
   },
   {
    "duration": 3,
    "start_time": "2023-02-11T14:25:45.835Z"
   },
   {
    "duration": 7,
    "start_time": "2023-02-11T14:26:17.104Z"
   },
   {
    "duration": 8,
    "start_time": "2023-02-11T14:26:38.711Z"
   },
   {
    "duration": 10,
    "start_time": "2023-02-11T14:26:55.214Z"
   },
   {
    "duration": 4,
    "start_time": "2023-02-11T14:27:42.925Z"
   },
   {
    "duration": 4,
    "start_time": "2023-02-11T14:27:50.849Z"
   },
   {
    "duration": 5,
    "start_time": "2023-02-11T14:27:59.119Z"
   },
   {
    "duration": 5,
    "start_time": "2023-02-11T14:28:13.498Z"
   },
   {
    "duration": 9,
    "start_time": "2023-02-11T14:30:15.486Z"
   },
   {
    "duration": 4,
    "start_time": "2023-02-11T14:30:20.103Z"
   },
   {
    "duration": 4,
    "start_time": "2023-02-11T14:30:35.680Z"
   },
   {
    "duration": 5,
    "start_time": "2023-02-11T14:30:48.834Z"
   },
   {
    "duration": 12,
    "start_time": "2023-02-11T14:31:04.245Z"
   },
   {
    "duration": 5,
    "start_time": "2023-02-11T14:31:56.199Z"
   },
   {
    "duration": 4,
    "start_time": "2023-02-11T14:35:27.482Z"
   },
   {
    "duration": 4,
    "start_time": "2023-02-11T14:35:37.656Z"
   },
   {
    "duration": 75046,
    "start_time": "2023-02-11T14:35:40.032Z"
   },
   {
    "duration": 4,
    "start_time": "2023-02-11T14:37:05.886Z"
   },
   {
    "duration": 50787,
    "start_time": "2023-02-11T14:37:07.111Z"
   },
   {
    "duration": 4,
    "start_time": "2023-02-11T14:37:59.884Z"
   },
   {
    "duration": 387015,
    "start_time": "2023-02-11T14:38:00.601Z"
   },
   {
    "duration": 5,
    "start_time": "2023-02-11T14:54:50.109Z"
   },
   {
    "duration": 2202,
    "start_time": "2023-02-11T15:00:00.823Z"
   },
   {
    "duration": 6,
    "start_time": "2023-02-11T15:00:03.027Z"
   },
   {
    "duration": 799,
    "start_time": "2023-02-11T15:00:03.034Z"
   },
   {
    "duration": 17,
    "start_time": "2023-02-11T15:00:03.835Z"
   },
   {
    "duration": 2119,
    "start_time": "2023-02-11T15:00:11.231Z"
   },
   {
    "duration": 1376,
    "start_time": "2023-02-11T15:00:13.353Z"
   },
   {
    "duration": 907,
    "start_time": "2023-02-11T15:00:14.731Z"
   },
   {
    "duration": 20,
    "start_time": "2023-02-11T15:00:15.641Z"
   },
   {
    "duration": 31,
    "start_time": "2023-02-11T15:00:15.662Z"
   },
   {
    "duration": 261,
    "start_time": "2023-02-11T15:00:15.695Z"
   },
   {
    "duration": 3,
    "start_time": "2023-02-11T15:00:15.958Z"
   },
   {
    "duration": 3957,
    "start_time": "2023-02-11T15:00:15.963Z"
   },
   {
    "duration": 2,
    "start_time": "2023-02-11T15:00:19.922Z"
   },
   {
    "duration": 16,
    "start_time": "2023-02-11T15:00:19.927Z"
   },
   {
    "duration": 61871,
    "start_time": "2023-02-11T15:00:19.944Z"
   },
   {
    "duration": 171,
    "start_time": "2023-02-11T15:01:21.817Z"
   },
   {
    "duration": 49,
    "start_time": "2023-02-11T15:01:21.989Z"
   },
   {
    "duration": 4723,
    "start_time": "2023-02-11T15:01:22.040Z"
   },
   {
    "duration": 1425,
    "start_time": "2023-02-11T15:01:26.764Z"
   },
   {
    "duration": 455,
    "start_time": "2023-02-11T15:01:28.191Z"
   },
   {
    "duration": 4,
    "start_time": "2023-02-11T15:01:28.648Z"
   },
   {
    "duration": 6,
    "start_time": "2023-02-11T15:01:28.653Z"
   },
   {
    "duration": 6,
    "start_time": "2023-02-11T15:01:28.661Z"
   },
   {
    "duration": 7,
    "start_time": "2023-02-11T15:01:28.669Z"
   },
   {
    "duration": 16,
    "start_time": "2023-02-11T15:01:28.678Z"
   },
   {
    "duration": 5,
    "start_time": "2023-02-11T15:01:28.696Z"
   },
   {
    "duration": 397809,
    "start_time": "2023-02-11T15:01:28.703Z"
   },
   {
    "duration": 4,
    "start_time": "2023-02-11T15:08:06.514Z"
   },
   {
    "duration": 199991,
    "start_time": "2023-02-11T15:08:06.520Z"
   },
   {
    "duration": 5,
    "start_time": "2023-02-11T15:11:26.513Z"
   },
   {
    "duration": 2447651,
    "start_time": "2023-02-11T15:11:26.521Z"
   },
   {
    "duration": 19,
    "start_time": "2023-02-11T15:52:14.174Z"
   },
   {
    "duration": 5,
    "start_time": "2023-02-11T15:53:27.304Z"
   },
   {
    "duration": 4,
    "start_time": "2023-02-11T15:54:11.685Z"
   },
   {
    "duration": 879,
    "start_time": "2023-02-11T15:54:27.042Z"
   },
   {
    "duration": 5,
    "start_time": "2023-02-11T15:54:47.075Z"
   },
   {
    "duration": 26,
    "start_time": "2023-02-11T15:54:49.440Z"
   },
   {
    "duration": 6,
    "start_time": "2023-02-11T15:55:08.396Z"
   },
   {
    "duration": 5,
    "start_time": "2023-02-11T15:55:19.317Z"
   },
   {
    "duration": 17,
    "start_time": "2023-02-11T15:55:39.828Z"
   },
   {
    "duration": 2174,
    "start_time": "2023-02-11T15:56:27.477Z"
   },
   {
    "duration": 1419,
    "start_time": "2023-02-11T15:56:29.654Z"
   },
   {
    "duration": 942,
    "start_time": "2023-02-11T15:56:31.075Z"
   },
   {
    "duration": 17,
    "start_time": "2023-02-11T15:56:32.019Z"
   },
   {
    "duration": 33,
    "start_time": "2023-02-11T15:56:33.103Z"
   },
   {
    "duration": 240,
    "start_time": "2023-02-11T15:56:33.399Z"
   },
   {
    "duration": 3,
    "start_time": "2023-02-11T15:56:33.823Z"
   },
   {
    "duration": 4390,
    "start_time": "2023-02-11T15:56:34.175Z"
   },
   {
    "duration": 3,
    "start_time": "2023-02-11T15:56:38.566Z"
   },
   {
    "duration": 8,
    "start_time": "2023-02-11T15:56:38.570Z"
   },
   {
    "duration": 63536,
    "start_time": "2023-02-11T15:56:38.580Z"
   },
   {
    "duration": 201,
    "start_time": "2023-02-11T15:57:42.118Z"
   },
   {
    "duration": 42,
    "start_time": "2023-02-11T15:57:42.321Z"
   },
   {
    "duration": 4744,
    "start_time": "2023-02-11T15:57:42.365Z"
   },
   {
    "duration": 1413,
    "start_time": "2023-02-11T15:57:47.111Z"
   },
   {
    "duration": 457,
    "start_time": "2023-02-11T15:57:48.525Z"
   },
   {
    "duration": 4,
    "start_time": "2023-02-11T15:57:48.985Z"
   },
   {
    "duration": 7,
    "start_time": "2023-02-11T15:57:48.990Z"
   },
   {
    "duration": 8,
    "start_time": "2023-02-11T15:57:48.998Z"
   },
   {
    "duration": 5,
    "start_time": "2023-02-11T15:57:49.008Z"
   },
   {
    "duration": 5,
    "start_time": "2023-02-11T15:57:49.015Z"
   },
   {
    "duration": 8,
    "start_time": "2023-02-11T15:57:49.021Z"
   },
   {
    "duration": 378781,
    "start_time": "2023-02-11T15:57:49.031Z"
   },
   {
    "duration": 4,
    "start_time": "2023-02-11T16:04:07.814Z"
   },
   {
    "duration": 208454,
    "start_time": "2023-02-11T16:04:07.819Z"
   },
   {
    "duration": 4,
    "start_time": "2023-02-11T16:07:36.275Z"
   },
   {
    "duration": 2609820,
    "start_time": "2023-02-11T16:07:36.281Z"
   },
   {
    "duration": 5,
    "start_time": "2023-02-11T16:51:06.104Z"
   },
   {
    "duration": 39,
    "start_time": "2023-02-11T16:51:06.110Z"
   },
   {
    "duration": 7,
    "start_time": "2023-02-11T16:51:06.157Z"
   },
   {
    "duration": 22,
    "start_time": "2023-02-11T16:51:06.170Z"
   },
   {
    "duration": 58,
    "start_time": "2023-02-11T16:51:06.193Z"
   },
   {
    "duration": 51,
    "start_time": "2023-02-12T07:06:45.968Z"
   },
   {
    "duration": 2256,
    "start_time": "2023-02-12T07:06:50.730Z"
   },
   {
    "duration": 1612,
    "start_time": "2023-02-12T07:06:52.988Z"
   },
   {
    "duration": 2368,
    "start_time": "2023-02-12T07:06:54.602Z"
   },
   {
    "duration": 18,
    "start_time": "2023-02-12T07:06:56.973Z"
   },
   {
    "duration": 33,
    "start_time": "2023-02-12T07:06:56.994Z"
   },
   {
    "duration": 236,
    "start_time": "2023-02-12T07:07:03.797Z"
   },
   {
    "duration": 23,
    "start_time": "2023-02-12T07:07:18.399Z"
   },
   {
    "duration": 5,
    "start_time": "2023-02-12T07:12:41.503Z"
   },
   {
    "duration": 803,
    "start_time": "2023-02-12T07:12:44.788Z"
   },
   {
    "duration": 11,
    "start_time": "2023-02-12T07:12:45.593Z"
   },
   {
    "duration": 34,
    "start_time": "2023-02-12T07:12:45.638Z"
   },
   {
    "duration": 260,
    "start_time": "2023-02-12T07:12:48.125Z"
   },
   {
    "duration": 20,
    "start_time": "2023-02-12T07:12:49.452Z"
   },
   {
    "duration": 3,
    "start_time": "2023-02-12T07:13:51.130Z"
   },
   {
    "duration": 3993,
    "start_time": "2023-02-12T07:13:53.137Z"
   },
   {
    "duration": 3,
    "start_time": "2023-02-12T07:13:59.990Z"
   },
   {
    "duration": 3,
    "start_time": "2023-02-12T07:14:06.627Z"
   },
   {
    "duration": 2630,
    "start_time": "2023-02-12T07:14:07.653Z"
   },
   {
    "duration": 1354,
    "start_time": "2023-02-12T07:14:19.721Z"
   },
   {
    "duration": 9,
    "start_time": "2023-02-12T07:14:25.069Z"
   },
   {
    "duration": 7,
    "start_time": "2023-02-12T07:15:15.274Z"
   },
   {
    "duration": 6,
    "start_time": "2023-02-12T07:16:02.723Z"
   },
   {
    "duration": 5,
    "start_time": "2023-02-12T07:16:05.551Z"
   },
   {
    "duration": 5,
    "start_time": "2023-02-12T07:16:14.697Z"
   },
   {
    "duration": 5882,
    "start_time": "2023-02-12T07:20:43.877Z"
   },
   {
    "duration": 4284,
    "start_time": "2023-02-12T07:21:14.065Z"
   },
   {
    "duration": 6,
    "start_time": "2023-02-12T07:21:21.343Z"
   },
   {
    "duration": 51,
    "start_time": "2023-02-12T07:21:55.185Z"
   },
   {
    "duration": 4313,
    "start_time": "2023-02-12T07:23:36.025Z"
   },
   {
    "duration": 11401,
    "start_time": "2023-02-12T07:23:41.454Z"
   },
   {
    "duration": 9671,
    "start_time": "2023-02-12T07:24:06.709Z"
   },
   {
    "duration": 9861,
    "start_time": "2023-02-12T07:24:43.391Z"
   },
   {
    "duration": 4,
    "start_time": "2023-02-12T07:28:38.646Z"
   },
   {
    "duration": 3,
    "start_time": "2023-02-12T07:28:44.836Z"
   },
   {
    "duration": 568,
    "start_time": "2023-02-12T07:28:46.036Z"
   },
   {
    "duration": 707,
    "start_time": "2023-02-12T07:28:54.553Z"
   },
   {
    "duration": 3,
    "start_time": "2023-02-12T07:28:55.921Z"
   },
   {
    "duration": 3,
    "start_time": "2023-02-12T07:28:56.992Z"
   },
   {
    "duration": 1112731,
    "start_time": "2023-02-12T07:28:58.823Z"
   },
   {
    "duration": 6,
    "start_time": "2023-02-12T07:51:05.878Z"
   },
   {
    "duration": 5,
    "start_time": "2023-02-12T08:11:00.980Z"
   },
   {
    "duration": 4,
    "start_time": "2023-02-12T08:11:11.985Z"
   },
   {
    "duration": 29,
    "start_time": "2023-02-12T08:11:23.028Z"
   },
   {
    "duration": 6,
    "start_time": "2023-02-12T08:11:59.141Z"
   },
   {
    "duration": 22,
    "start_time": "2023-02-12T08:12:05.034Z"
   },
   {
    "duration": 22,
    "start_time": "2023-02-12T08:13:20.757Z"
   },
   {
    "duration": 8,
    "start_time": "2023-02-12T08:14:03.829Z"
   },
   {
    "duration": 214,
    "start_time": "2023-02-12T08:14:05.826Z"
   },
   {
    "duration": 77,
    "start_time": "2023-02-12T08:14:08.546Z"
   },
   {
    "duration": 3,
    "start_time": "2023-02-12T08:14:17.606Z"
   },
   {
    "duration": 4,
    "start_time": "2023-02-12T08:15:30.625Z"
   },
   {
    "duration": 62,
    "start_time": "2023-02-12T08:16:37.910Z"
   },
   {
    "duration": 5,
    "start_time": "2023-02-12T08:17:08.166Z"
   },
   {
    "duration": 81,
    "start_time": "2023-02-12T08:17:27.154Z"
   },
   {
    "duration": 5,
    "start_time": "2023-02-12T08:19:06.866Z"
   },
   {
    "duration": 5,
    "start_time": "2023-02-12T08:19:09.075Z"
   },
   {
    "duration": 4,
    "start_time": "2023-02-12T08:19:42.019Z"
   },
   {
    "duration": 72,
    "start_time": "2023-02-12T08:19:42.773Z"
   },
   {
    "duration": 53,
    "start_time": "2023-02-12T08:21:14.895Z"
   },
   {
    "duration": 4,
    "start_time": "2023-02-12T08:21:54.415Z"
   },
   {
    "duration": 11,
    "start_time": "2023-02-12T08:21:58.373Z"
   },
   {
    "duration": 28,
    "start_time": "2023-02-12T08:22:24.892Z"
   },
   {
    "duration": 3,
    "start_time": "2023-02-12T08:22:37.663Z"
   },
   {
    "duration": 26,
    "start_time": "2023-02-12T08:24:22.671Z"
   },
   {
    "duration": 56,
    "start_time": "2023-02-12T08:24:29.913Z"
   },
   {
    "duration": 3,
    "start_time": "2023-02-12T08:25:45.396Z"
   },
   {
    "duration": 84,
    "start_time": "2023-02-12T08:26:33.024Z"
   },
   {
    "duration": 16,
    "start_time": "2023-02-12T08:26:53.218Z"
   },
   {
    "duration": 6793,
    "start_time": "2023-02-12T08:27:59.317Z"
   },
   {
    "duration": 749,
    "start_time": "2023-02-12T08:28:06.113Z"
   },
   {
    "duration": 56,
    "start_time": "2023-02-12T08:28:11.385Z"
   },
   {
    "duration": 5,
    "start_time": "2023-02-12T08:30:04.789Z"
   },
   {
    "duration": 4,
    "start_time": "2023-02-12T08:30:06.952Z"
   },
   {
    "duration": 23,
    "start_time": "2023-02-12T08:30:09.026Z"
   },
   {
    "duration": 10,
    "start_time": "2023-02-12T08:31:14.736Z"
   },
   {
    "duration": 27,
    "start_time": "2023-02-12T08:31:24.197Z"
   },
   {
    "duration": 4,
    "start_time": "2023-02-12T08:33:49.852Z"
   },
   {
    "duration": 14,
    "start_time": "2023-02-12T08:33:51.363Z"
   },
   {
    "duration": 61,
    "start_time": "2023-02-12T08:33:56.920Z"
   },
   {
    "duration": 4,
    "start_time": "2023-02-12T08:35:19.478Z"
   },
   {
    "duration": 25,
    "start_time": "2023-02-12T08:35:27.483Z"
   },
   {
    "duration": 4,
    "start_time": "2023-02-12T08:35:40.462Z"
   },
   {
    "duration": 11,
    "start_time": "2023-02-12T08:35:41.766Z"
   },
   {
    "duration": 59,
    "start_time": "2023-02-12T08:35:45.237Z"
   },
   {
    "duration": 3,
    "start_time": "2023-02-12T08:36:11.490Z"
   },
   {
    "duration": 14,
    "start_time": "2023-02-12T08:36:12.338Z"
   },
   {
    "duration": 47,
    "start_time": "2023-02-12T08:37:41.366Z"
   },
   {
    "duration": 54,
    "start_time": "2023-02-12T08:37:46.531Z"
   },
   {
    "duration": 8,
    "start_time": "2023-02-12T08:38:03.718Z"
   },
   {
    "duration": 57,
    "start_time": "2023-02-12T08:38:06.412Z"
   },
   {
    "duration": 9,
    "start_time": "2023-02-12T08:38:28.428Z"
   },
   {
    "duration": 51,
    "start_time": "2023-02-12T08:38:35.361Z"
   },
   {
    "duration": 4,
    "start_time": "2023-02-12T08:39:47.877Z"
   },
   {
    "duration": 4,
    "start_time": "2023-02-12T08:40:03.277Z"
   },
   {
    "duration": 12,
    "start_time": "2023-02-12T08:40:16.000Z"
   },
   {
    "duration": 49,
    "start_time": "2023-02-12T08:40:29.532Z"
   },
   {
    "duration": 54,
    "start_time": "2023-02-12T08:42:05.637Z"
   },
   {
    "duration": 77,
    "start_time": "2023-02-12T08:44:20.855Z"
   },
   {
    "duration": 3,
    "start_time": "2023-02-12T08:44:27.620Z"
   },
   {
    "duration": 8,
    "start_time": "2023-02-12T08:44:28.531Z"
   },
   {
    "duration": 51,
    "start_time": "2023-02-12T08:44:29.532Z"
   },
   {
    "duration": 6,
    "start_time": "2023-02-12T08:47:13.730Z"
   },
   {
    "duration": 47,
    "start_time": "2023-02-12T08:47:15.810Z"
   },
   {
    "duration": 5,
    "start_time": "2023-02-12T08:47:55.785Z"
   },
   {
    "duration": 45,
    "start_time": "2023-02-12T08:47:57.298Z"
   },
   {
    "duration": 21,
    "start_time": "2023-02-12T08:48:38.136Z"
   },
   {
    "duration": 47,
    "start_time": "2023-02-12T08:48:49.179Z"
   },
   {
    "duration": 5,
    "start_time": "2023-02-12T08:48:54.265Z"
   },
   {
    "duration": 47,
    "start_time": "2023-02-12T08:49:26.877Z"
   },
   {
    "duration": 4,
    "start_time": "2023-02-12T08:49:29.949Z"
   },
   {
    "duration": 46,
    "start_time": "2023-02-12T08:49:39.408Z"
   },
   {
    "duration": 3,
    "start_time": "2023-02-12T08:49:48.150Z"
   },
   {
    "duration": 66,
    "start_time": "2023-02-12T08:49:53.779Z"
   },
   {
    "duration": 46,
    "start_time": "2023-02-12T08:50:40.307Z"
   },
   {
    "duration": 7,
    "start_time": "2023-02-12T08:50:42.577Z"
   },
   {
    "duration": 6192,
    "start_time": "2023-02-12T08:51:06.606Z"
   },
   {
    "duration": 693,
    "start_time": "2023-02-12T08:51:14.043Z"
   },
   {
    "duration": 5,
    "start_time": "2023-02-12T08:51:19.784Z"
   },
   {
    "duration": 45,
    "start_time": "2023-02-12T08:51:22.663Z"
   },
   {
    "duration": 4,
    "start_time": "2023-02-12T08:53:00.470Z"
   },
   {
    "duration": 4,
    "start_time": "2023-02-12T08:53:01.150Z"
   },
   {
    "duration": 19,
    "start_time": "2023-02-12T08:53:03.151Z"
   },
   {
    "duration": 21,
    "start_time": "2023-02-12T08:53:04.847Z"
   },
   {
    "duration": 3,
    "start_time": "2023-02-12T08:53:09.964Z"
   },
   {
    "duration": 4,
    "start_time": "2023-02-12T08:53:11.347Z"
   },
   {
    "duration": 5,
    "start_time": "2023-02-12T08:53:12.090Z"
   },
   {
    "duration": 61,
    "start_time": "2023-02-12T08:53:13.762Z"
   },
   {
    "duration": 10600,
    "start_time": "2023-02-12T08:53:27.590Z"
   },
   {
    "duration": 9,
    "start_time": "2023-02-12T08:54:21.464Z"
   },
   {
    "duration": 51,
    "start_time": "2023-02-12T08:54:22.449Z"
   },
   {
    "duration": 23,
    "start_time": "2023-02-12T08:54:48.900Z"
   },
   {
    "duration": 8,
    "start_time": "2023-02-12T08:55:14.448Z"
   },
   {
    "duration": 54,
    "start_time": "2023-02-12T08:55:16.922Z"
   },
   {
    "duration": 9,
    "start_time": "2023-02-12T08:56:12.211Z"
   },
   {
    "duration": 53,
    "start_time": "2023-02-12T08:56:50.261Z"
   },
   {
    "duration": 32,
    "start_time": "2023-02-12T08:56:56.073Z"
   },
   {
    "duration": 6,
    "start_time": "2023-02-12T08:59:25.741Z"
   },
   {
    "duration": 15,
    "start_time": "2023-02-12T08:59:28.780Z"
   },
   {
    "duration": 54,
    "start_time": "2023-02-12T08:59:36.721Z"
   },
   {
    "duration": 4,
    "start_time": "2023-02-12T09:01:19.463Z"
   },
   {
    "duration": 5,
    "start_time": "2023-02-12T09:01:23.542Z"
   },
   {
    "duration": 22,
    "start_time": "2023-02-12T09:04:26.020Z"
   },
   {
    "duration": 3,
    "start_time": "2023-02-12T09:04:33.938Z"
   },
   {
    "duration": 49,
    "start_time": "2023-02-12T09:04:45.310Z"
   },
   {
    "duration": 84,
    "start_time": "2023-02-12T09:09:12.396Z"
   },
   {
    "duration": 46,
    "start_time": "2023-02-12T09:09:23.678Z"
   },
   {
    "duration": 58,
    "start_time": "2023-02-12T09:09:30.476Z"
   },
   {
    "duration": 4,
    "start_time": "2023-02-12T09:10:40.527Z"
   },
   {
    "duration": 60,
    "start_time": "2023-02-12T09:10:42.743Z"
   },
   {
    "duration": 83,
    "start_time": "2023-02-12T09:11:19.664Z"
   },
   {
    "duration": 4,
    "start_time": "2023-02-12T09:11:32.099Z"
   },
   {
    "duration": 15634,
    "start_time": "2023-02-12T09:11:32.620Z"
   },
   {
    "duration": 3,
    "start_time": "2023-02-12T09:12:42.086Z"
   },
   {
    "duration": 232,
    "start_time": "2023-02-12T09:12:51.285Z"
   },
   {
    "duration": 38,
    "start_time": "2023-02-12T09:13:18.058Z"
   },
   {
    "duration": 5,
    "start_time": "2023-02-12T09:13:30.916Z"
   },
   {
    "duration": 96,
    "start_time": "2023-02-12T09:13:32.098Z"
   },
   {
    "duration": 6889,
    "start_time": "2023-02-12T09:13:34.115Z"
   },
   {
    "duration": 4,
    "start_time": "2023-02-12T09:13:52.156Z"
   },
   {
    "duration": 227,
    "start_time": "2023-02-12T09:13:53.828Z"
   },
   {
    "duration": 4,
    "start_time": "2023-02-12T09:14:31.259Z"
   },
   {
    "duration": 212,
    "start_time": "2023-02-12T09:14:32.251Z"
   },
   {
    "duration": 27,
    "start_time": "2023-02-12T09:14:56.059Z"
   },
   {
    "duration": 4,
    "start_time": "2023-02-12T09:15:20.464Z"
   },
   {
    "duration": 5,
    "start_time": "2023-02-12T09:15:21.503Z"
   },
   {
    "duration": 4,
    "start_time": "2023-02-12T09:15:46.812Z"
   },
   {
    "duration": 11,
    "start_time": "2023-02-12T09:15:48.246Z"
   },
   {
    "duration": 11901,
    "start_time": "2023-02-12T09:15:51.764Z"
   },
   {
    "duration": 4,
    "start_time": "2023-02-12T09:19:06.552Z"
   },
   {
    "duration": 197,
    "start_time": "2023-02-12T09:19:07.503Z"
   },
   {
    "duration": 3,
    "start_time": "2023-02-12T09:19:25.191Z"
   },
   {
    "duration": 198,
    "start_time": "2023-02-12T09:19:26.310Z"
   },
   {
    "duration": 3,
    "start_time": "2023-02-12T09:20:36.377Z"
   },
   {
    "duration": 196,
    "start_time": "2023-02-12T09:20:37.290Z"
   },
   {
    "duration": 19,
    "start_time": "2023-02-12T09:22:16.370Z"
   },
   {
    "duration": 25,
    "start_time": "2023-02-12T09:22:25.133Z"
   },
   {
    "duration": 118,
    "start_time": "2023-02-12T09:22:30.555Z"
   },
   {
    "duration": 5,
    "start_time": "2023-02-12T09:22:38.416Z"
   },
   {
    "duration": 28502,
    "start_time": "2023-02-12T09:22:39.570Z"
   },
   {
    "duration": 3,
    "start_time": "2023-02-12T09:25:25.423Z"
   },
   {
    "duration": 4,
    "start_time": "2023-02-12T09:25:27.769Z"
   },
   {
    "duration": 2159,
    "start_time": "2023-02-12T09:30:21.797Z"
   },
   {
    "duration": 10769,
    "start_time": "2023-02-12T09:30:23.958Z"
   },
   {
    "duration": 4328,
    "start_time": "2023-02-12T09:30:34.729Z"
   },
   {
    "duration": 768,
    "start_time": "2023-02-12T09:30:39.059Z"
   },
   {
    "duration": 22,
    "start_time": "2023-02-12T09:30:39.829Z"
   },
   {
    "duration": 35,
    "start_time": "2023-02-12T09:30:39.853Z"
   },
   {
    "duration": 245,
    "start_time": "2023-02-12T09:30:42.687Z"
   },
   {
    "duration": 25,
    "start_time": "2023-02-12T09:30:43.334Z"
   },
   {
    "duration": 3,
    "start_time": "2023-02-12T09:30:46.479Z"
   },
   {
    "duration": 3981,
    "start_time": "2023-02-12T09:30:48.597Z"
   },
   {
    "duration": 481,
    "start_time": "2023-02-12T09:31:27.101Z"
   },
   {
    "duration": 4,
    "start_time": "2023-02-12T09:31:29.021Z"
   },
   {
    "duration": 4,
    "start_time": "2023-02-12T09:31:32.531Z"
   },
   {
    "duration": 1032886,
    "start_time": "2023-02-12T09:31:33.443Z"
   },
   {
    "duration": 6,
    "start_time": "2023-02-12T09:48:46.331Z"
   },
   {
    "duration": 6,
    "start_time": "2023-02-12T09:50:36.987Z"
   },
   {
    "duration": 204,
    "start_time": "2023-02-12T09:50:38.483Z"
   },
   {
    "duration": 62,
    "start_time": "2023-02-12T09:50:42.185Z"
   },
   {
    "duration": 2,
    "start_time": "2023-02-12T09:50:45.727Z"
   },
   {
    "duration": 2,
    "start_time": "2023-02-12T09:50:46.656Z"
   },
   {
    "duration": 3,
    "start_time": "2023-02-12T09:50:47.103Z"
   },
   {
    "duration": 3,
    "start_time": "2023-02-12T09:50:48.422Z"
   },
   {
    "duration": 2,
    "start_time": "2023-02-12T09:50:48.949Z"
   },
   {
    "duration": 3,
    "start_time": "2023-02-12T09:50:50.229Z"
   },
   {
    "duration": 338,
    "start_time": "2023-02-12T09:50:53.278Z"
   },
   {
    "duration": 2,
    "start_time": "2023-02-12T09:51:04.849Z"
   },
   {
    "duration": 4,
    "start_time": "2023-02-12T09:51:07.713Z"
   },
   {
    "duration": 3,
    "start_time": "2023-02-12T09:51:31.972Z"
   },
   {
    "duration": 3,
    "start_time": "2023-02-12T09:51:36.819Z"
   },
   {
    "duration": 3,
    "start_time": "2023-02-12T09:51:37.426Z"
   },
   {
    "duration": 4,
    "start_time": "2023-02-12T09:51:38.362Z"
   },
   {
    "duration": 474771,
    "start_time": "2023-02-12T09:51:45.368Z"
   },
   {
    "duration": 4,
    "start_time": "2023-02-12T10:03:18.918Z"
   },
   {
    "duration": 4,
    "start_time": "2023-02-12T10:03:45.832Z"
   },
   {
    "duration": 3,
    "start_time": "2023-02-12T10:03:53.692Z"
   },
   {
    "duration": 3,
    "start_time": "2023-02-12T10:04:02.361Z"
   },
   {
    "duration": 278309,
    "start_time": "2023-02-12T10:04:04.680Z"
   },
   {
    "duration": 8,
    "start_time": "2023-02-12T10:09:06.651Z"
   },
   {
    "duration": 4,
    "start_time": "2023-02-12T10:09:14.453Z"
   },
   {
    "duration": 3,
    "start_time": "2023-02-12T10:20:07.304Z"
   },
   {
    "duration": 3732,
    "start_time": "2023-02-12T10:20:07.958Z"
   },
   {
    "duration": 8,
    "start_time": "2023-02-12T10:26:13.055Z"
   },
   {
    "duration": 2,
    "start_time": "2023-02-12T10:26:14.630Z"
   },
   {
    "duration": 9,
    "start_time": "2023-02-12T10:26:18.754Z"
   },
   {
    "duration": 3,
    "start_time": "2023-02-12T10:26:28.725Z"
   },
   {
    "duration": 5,
    "start_time": "2023-02-12T10:26:29.037Z"
   },
   {
    "duration": 57,
    "start_time": "2023-02-12T10:26:30.222Z"
   },
   {
    "duration": 7,
    "start_time": "2023-02-12T10:28:22.056Z"
   },
   {
    "duration": 2155,
    "start_time": "2023-02-12T10:29:27.590Z"
   },
   {
    "duration": 15894,
    "start_time": "2023-02-12T10:29:29.747Z"
   },
   {
    "duration": 4665,
    "start_time": "2023-02-12T10:29:45.643Z"
   },
   {
    "duration": 2430,
    "start_time": "2023-02-12T10:29:50.311Z"
   },
   {
    "duration": 15,
    "start_time": "2023-02-12T10:29:52.743Z"
   },
   {
    "duration": 47,
    "start_time": "2023-02-12T10:29:52.761Z"
   },
   {
    "duration": 268,
    "start_time": "2023-02-12T10:29:52.810Z"
   },
   {
    "duration": 22,
    "start_time": "2023-02-12T10:29:53.080Z"
   },
   {
    "duration": 3,
    "start_time": "2023-02-12T10:29:53.104Z"
   },
   {
    "duration": 4165,
    "start_time": "2023-02-12T10:29:53.110Z"
   },
   {
    "duration": 658,
    "start_time": "2023-02-12T10:29:57.277Z"
   },
   {
    "duration": 4,
    "start_time": "2023-02-12T10:29:57.937Z"
   },
   {
    "duration": 8,
    "start_time": "2023-02-12T10:29:57.943Z"
   },
   {
    "duration": 1965,
    "start_time": "2023-02-12T10:44:51.978Z"
   },
   {
    "duration": 10202,
    "start_time": "2023-02-12T10:44:53.945Z"
   },
   {
    "duration": 4086,
    "start_time": "2023-02-12T10:45:04.149Z"
   },
   {
    "duration": 831,
    "start_time": "2023-02-12T10:45:08.238Z"
   },
   {
    "duration": 19,
    "start_time": "2023-02-12T10:45:09.071Z"
   },
   {
    "duration": 46,
    "start_time": "2023-02-12T10:45:09.091Z"
   },
   {
    "duration": 263,
    "start_time": "2023-02-12T10:45:09.140Z"
   },
   {
    "duration": 31,
    "start_time": "2023-02-12T10:45:09.405Z"
   },
   {
    "duration": 2104,
    "start_time": "2023-02-12T10:46:15.549Z"
   },
   {
    "duration": 10230,
    "start_time": "2023-02-12T10:46:17.655Z"
   },
   {
    "duration": 5,
    "start_time": "2023-02-12T10:46:27.888Z"
   },
   {
    "duration": 807,
    "start_time": "2023-02-12T10:46:29.639Z"
   },
   {
    "duration": 13,
    "start_time": "2023-02-12T10:46:30.449Z"
   },
   {
    "duration": 36,
    "start_time": "2023-02-12T10:46:31.302Z"
   },
   {
    "duration": 251,
    "start_time": "2023-02-12T10:46:32.427Z"
   },
   {
    "duration": 21,
    "start_time": "2023-02-12T10:46:32.926Z"
   },
   {
    "duration": 3,
    "start_time": "2023-02-12T10:46:35.588Z"
   },
   {
    "duration": 4055,
    "start_time": "2023-02-12T10:46:36.520Z"
   },
   {
    "duration": 480,
    "start_time": "2023-02-12T10:46:40.577Z"
   },
   {
    "duration": 3,
    "start_time": "2023-02-12T10:46:41.059Z"
   },
   {
    "duration": 15,
    "start_time": "2023-02-12T10:46:41.064Z"
   },
   {
    "duration": 1038915,
    "start_time": "2023-02-12T10:46:41.080Z"
   },
   {
    "duration": 6,
    "start_time": "2023-02-12T11:03:59.997Z"
   },
   {
    "duration": 27,
    "start_time": "2023-02-12T11:04:00.004Z"
   },
   {
    "duration": 188,
    "start_time": "2023-02-12T11:04:00.033Z"
   },
   {
    "duration": 64,
    "start_time": "2023-02-12T11:04:00.223Z"
   },
   {
    "duration": 6327,
    "start_time": "2023-02-12T11:04:00.290Z"
   },
   {
    "duration": 697,
    "start_time": "2023-02-12T11:04:06.619Z"
   },
   {
    "duration": 3,
    "start_time": "2023-02-12T11:04:07.319Z"
   },
   {
    "duration": 40,
    "start_time": "2023-02-12T11:04:07.324Z"
   },
   {
    "duration": 29,
    "start_time": "2023-02-12T11:04:07.366Z"
   },
   {
    "duration": 378,
    "start_time": "2023-02-12T11:04:07.396Z"
   },
   {
    "duration": 21,
    "start_time": "2023-02-12T11:04:58.751Z"
   },
   {
    "duration": 3,
    "start_time": "2023-02-12T11:05:05.562Z"
   },
   {
    "duration": 2,
    "start_time": "2023-02-12T11:05:07.234Z"
   },
   {
    "duration": 5,
    "start_time": "2023-02-12T11:05:12.455Z"
   },
   {
    "duration": 4,
    "start_time": "2023-02-12T11:05:12.639Z"
   },
   {
    "duration": 3,
    "start_time": "2023-02-12T11:05:13.535Z"
   },
   {
    "duration": 471095,
    "start_time": "2023-02-12T11:05:17.456Z"
   },
   {
    "duration": 85,
    "start_time": "2023-02-12T11:13:08.554Z"
   },
   {
    "duration": 3,
    "start_time": "2023-02-12T11:15:03.253Z"
   },
   {
    "duration": 3,
    "start_time": "2023-02-12T11:15:08.737Z"
   },
   {
    "duration": 67,
    "start_time": "2023-02-12T11:15:14.639Z"
   },
   {
    "duration": 287542,
    "start_time": "2023-02-12T11:15:39.631Z"
   },
   {
    "duration": 3,
    "start_time": "2023-02-12T11:20:27.175Z"
   },
   {
    "duration": 4,
    "start_time": "2023-02-12T11:20:40.093Z"
   },
   {
    "duration": 4,
    "start_time": "2023-02-12T11:22:17.504Z"
   },
   {
    "duration": 78,
    "start_time": "2023-02-12T11:24:17.840Z"
   },
   {
    "duration": 3,
    "start_time": "2023-02-12T11:24:19.884Z"
   },
   {
    "duration": 22,
    "start_time": "2023-02-12T11:24:22.773Z"
   },
   {
    "duration": 96,
    "start_time": "2023-02-12T11:24:38.230Z"
   },
   {
    "duration": 3,
    "start_time": "2023-02-12T11:24:38.901Z"
   },
   {
    "duration": 3747,
    "start_time": "2023-02-12T11:24:39.533Z"
   },
   {
    "duration": 2137,
    "start_time": "2023-02-12T11:27:27.860Z"
   },
   {
    "duration": 14007,
    "start_time": "2023-02-12T11:27:29.999Z"
   },
   {
    "duration": 50,
    "start_time": "2023-02-12T11:31:47.584Z"
   },
   {
    "duration": 2043,
    "start_time": "2023-02-12T11:32:22.923Z"
   },
   {
    "duration": 9915,
    "start_time": "2023-02-12T11:32:24.969Z"
   },
   {
    "duration": 4762,
    "start_time": "2023-02-12T11:32:34.886Z"
   },
   {
    "duration": 2447,
    "start_time": "2023-02-12T11:32:39.651Z"
   },
   {
    "duration": 19,
    "start_time": "2023-02-12T11:32:42.100Z"
   },
   {
    "duration": 35,
    "start_time": "2023-02-12T11:32:42.121Z"
   },
   {
    "duration": 267,
    "start_time": "2023-02-12T11:32:42.158Z"
   },
   {
    "duration": 33,
    "start_time": "2023-02-12T11:32:42.427Z"
   },
   {
    "duration": 3,
    "start_time": "2023-02-12T11:32:42.463Z"
   },
   {
    "duration": 4148,
    "start_time": "2023-02-12T11:32:42.469Z"
   },
   {
    "duration": 633,
    "start_time": "2023-02-12T11:32:46.619Z"
   },
   {
    "duration": 4,
    "start_time": "2023-02-12T11:32:47.254Z"
   },
   {
    "duration": 6,
    "start_time": "2023-02-12T11:32:47.260Z"
   },
   {
    "duration": 2080,
    "start_time": "2023-02-12T11:33:16.795Z"
   },
   {
    "duration": 9707,
    "start_time": "2023-02-12T11:33:18.878Z"
   },
   {
    "duration": 4204,
    "start_time": "2023-02-12T11:33:28.587Z"
   },
   {
    "duration": 762,
    "start_time": "2023-02-12T11:33:32.793Z"
   },
   {
    "duration": 19,
    "start_time": "2023-02-12T11:33:33.557Z"
   },
   {
    "duration": 38,
    "start_time": "2023-02-12T11:33:33.578Z"
   },
   {
    "duration": 242,
    "start_time": "2023-02-12T11:33:33.637Z"
   },
   {
    "duration": 23,
    "start_time": "2023-02-12T11:33:33.881Z"
   },
   {
    "duration": 4,
    "start_time": "2023-02-12T11:33:33.905Z"
   },
   {
    "duration": 3952,
    "start_time": "2023-02-12T11:33:33.912Z"
   },
   {
    "duration": 472,
    "start_time": "2023-02-12T11:33:37.866Z"
   },
   {
    "duration": 3,
    "start_time": "2023-02-12T11:33:38.340Z"
   },
   {
    "duration": 6,
    "start_time": "2023-02-12T11:33:38.345Z"
   },
   {
    "duration": 1008625,
    "start_time": "2023-02-12T11:33:38.353Z"
   },
   {
    "duration": 5,
    "start_time": "2023-02-12T11:50:26.980Z"
   },
   {
    "duration": 10,
    "start_time": "2023-02-12T11:50:26.987Z"
   },
   {
    "duration": 7019,
    "start_time": "2023-02-12T11:50:26.999Z"
   },
   {
    "duration": 72,
    "start_time": "2023-02-12T11:50:34.020Z"
   },
   {
    "duration": 6132,
    "start_time": "2023-02-12T11:50:34.094Z"
   },
   {
    "duration": 546,
    "start_time": "2023-02-12T11:50:40.228Z"
   },
   {
    "duration": 208,
    "start_time": "2023-02-12T11:50:40.776Z"
   },
   {
    "duration": 5,
    "start_time": "2023-02-12T11:50:40.986Z"
   },
   {
    "duration": 16,
    "start_time": "2023-02-12T11:50:40.993Z"
   },
   {
    "duration": 11,
    "start_time": "2023-02-12T11:50:41.012Z"
   },
   {
    "duration": 7,
    "start_time": "2023-02-12T11:50:41.069Z"
   },
   {
    "duration": 12,
    "start_time": "2023-02-12T11:50:41.078Z"
   },
   {
    "duration": 31,
    "start_time": "2023-02-12T11:50:41.093Z"
   },
   {
    "duration": 8,
    "start_time": "2023-02-12T11:50:41.126Z"
   },
   {
    "duration": 5,
    "start_time": "2023-02-12T11:50:41.136Z"
   },
   {
    "duration": 472703,
    "start_time": "2023-02-12T11:50:41.143Z"
   },
   {
    "duration": 89,
    "start_time": "2023-02-12T11:58:33.848Z"
   },
   {
    "duration": 4,
    "start_time": "2023-02-12T11:58:33.939Z"
   },
   {
    "duration": 283906,
    "start_time": "2023-02-12T11:58:33.945Z"
   },
   {
    "duration": 4,
    "start_time": "2023-02-12T12:03:17.853Z"
   },
   {
    "duration": 291746,
    "start_time": "2023-02-12T12:03:17.859Z"
   },
   {
    "duration": 3,
    "start_time": "2023-02-12T12:09:58.560Z"
   },
   {
    "duration": 2,
    "start_time": "2023-02-12T12:10:01.574Z"
   },
   {
    "duration": 2948774,
    "start_time": "2023-02-12T12:10:07.387Z"
   },
   {
    "duration": 5,
    "start_time": "2023-02-12T13:00:40.519Z"
   },
   {
    "duration": 7,
    "start_time": "2023-02-12T13:00:43.290Z"
   },
   {
    "duration": 13,
    "start_time": "2023-02-12T13:00:52.056Z"
   },
   {
    "duration": 2341,
    "start_time": "2023-02-12T16:31:56.561Z"
   },
   {
    "duration": 12000,
    "start_time": "2023-02-12T16:31:58.906Z"
   },
   {
    "duration": 11,
    "start_time": "2023-02-12T16:32:10.909Z"
   },
   {
    "duration": 851,
    "start_time": "2023-02-12T16:32:10.923Z"
   },
   {
    "duration": 12,
    "start_time": "2023-02-12T16:32:11.777Z"
   },
   {
    "duration": 48,
    "start_time": "2023-02-12T16:32:11.791Z"
   },
   {
    "duration": 243,
    "start_time": "2023-02-12T16:32:11.842Z"
   },
   {
    "duration": 20,
    "start_time": "2023-02-12T16:32:12.087Z"
   },
   {
    "duration": 5,
    "start_time": "2023-02-12T16:32:12.109Z"
   },
   {
    "duration": 4206,
    "start_time": "2023-02-12T16:32:12.116Z"
   },
   {
    "duration": 755,
    "start_time": "2023-02-12T16:32:16.323Z"
   },
   {
    "duration": 4,
    "start_time": "2023-02-12T16:32:17.080Z"
   },
   {
    "duration": 14,
    "start_time": "2023-02-12T16:32:17.085Z"
   },
   {
    "duration": 2132,
    "start_time": "2023-02-12T16:42:09.477Z"
   },
   {
    "duration": 11767,
    "start_time": "2023-02-12T16:42:11.612Z"
   },
   {
    "duration": 4628,
    "start_time": "2023-02-12T16:42:23.381Z"
   },
   {
    "duration": 870,
    "start_time": "2023-02-12T16:42:28.012Z"
   },
   {
    "duration": 24,
    "start_time": "2023-02-12T16:42:28.884Z"
   },
   {
    "duration": 50,
    "start_time": "2023-02-12T16:42:28.909Z"
   },
   {
    "duration": 265,
    "start_time": "2023-02-12T16:42:28.961Z"
   },
   {
    "duration": 31,
    "start_time": "2023-02-12T16:42:29.227Z"
   },
   {
    "duration": 4,
    "start_time": "2023-02-12T16:42:29.260Z"
   },
   {
    "duration": 4425,
    "start_time": "2023-02-12T16:42:29.268Z"
   },
   {
    "duration": 657,
    "start_time": "2023-02-12T16:42:33.696Z"
   },
   {
    "duration": 4,
    "start_time": "2023-02-12T16:42:34.355Z"
   },
   {
    "duration": 17,
    "start_time": "2023-02-12T16:42:34.361Z"
   },
   {
    "duration": 1009243,
    "start_time": "2023-02-12T16:42:34.380Z"
   },
   {
    "duration": 6,
    "start_time": "2023-02-12T16:59:23.625Z"
   },
   {
    "duration": 18,
    "start_time": "2023-02-12T16:59:23.637Z"
   },
   {
    "duration": 258,
    "start_time": "2023-02-12T16:59:23.657Z"
   },
   {
    "duration": 73,
    "start_time": "2023-02-12T16:59:23.917Z"
   },
   {
    "duration": 6017,
    "start_time": "2023-02-12T16:59:23.992Z"
   },
   {
    "duration": 476,
    "start_time": "2023-02-12T16:59:30.010Z"
   },
   {
    "duration": 176,
    "start_time": "2023-02-12T16:59:30.487Z"
   },
   {
    "duration": 4,
    "start_time": "2023-02-12T16:59:30.665Z"
   },
   {
    "duration": 26,
    "start_time": "2023-02-12T16:59:30.671Z"
   },
   {
    "duration": 23,
    "start_time": "2023-02-12T16:59:30.699Z"
   },
   {
    "duration": 24,
    "start_time": "2023-02-12T16:59:30.724Z"
   },
   {
    "duration": 45,
    "start_time": "2023-02-12T16:59:30.751Z"
   },
   {
    "duration": 28,
    "start_time": "2023-02-12T16:59:30.798Z"
   },
   {
    "duration": 28,
    "start_time": "2023-02-12T16:59:30.831Z"
   },
   {
    "duration": 25,
    "start_time": "2023-02-12T16:59:30.861Z"
   },
   {
    "duration": 455553,
    "start_time": "2023-02-12T16:59:30.888Z"
   },
   {
    "duration": 4,
    "start_time": "2023-02-12T17:07:06.442Z"
   },
   {
    "duration": 2,
    "start_time": "2023-02-12T17:14:33.308Z"
   },
   {
    "duration": 275979,
    "start_time": "2023-02-12T17:14:39.713Z"
   },
   {
    "duration": 3,
    "start_time": "2023-02-12T17:19:15.694Z"
   },
   {
    "duration": 3,
    "start_time": "2023-02-12T17:22:31.062Z"
   },
   {
    "duration": 3,
    "start_time": "2023-02-12T17:22:31.509Z"
   },
   {
    "duration": 2880063,
    "start_time": "2023-02-12T17:22:37.484Z"
   },
   {
    "duration": 5,
    "start_time": "2023-02-12T18:10:56.005Z"
   },
   {
    "duration": 7,
    "start_time": "2023-02-12T18:10:56.988Z"
   },
   {
    "duration": 5,
    "start_time": "2023-02-12T18:13:08.471Z"
   },
   {
    "duration": 5,
    "start_time": "2023-02-12T18:13:15.557Z"
   },
   {
    "duration": 9,
    "start_time": "2023-02-12T18:13:24.169Z"
   }
  ],
  "kernelspec": {
   "display_name": "Python 3 (ipykernel)",
   "language": "python",
   "name": "python3"
  },
  "language_info": {
   "codemirror_mode": {
    "name": "ipython",
    "version": 3
   },
   "file_extension": ".py",
   "mimetype": "text/x-python",
   "name": "python",
   "nbconvert_exporter": "python",
   "pygments_lexer": "ipython3",
   "version": "3.9.13"
  },
  "toc": {
   "base_numbering": 1,
   "nav_menu": {},
   "number_sections": true,
   "sideBar": true,
   "skip_h1_title": true,
   "title_cell": "Содержание",
   "title_sidebar": "Contents",
   "toc_cell": true,
   "toc_position": {
    "height": "calc(100% - 180px)",
    "left": "10px",
    "top": "150px",
    "width": "302.391px"
   },
   "toc_section_display": true,
   "toc_window_display": false
  }
 },
 "nbformat": 4,
 "nbformat_minor": 2
}
