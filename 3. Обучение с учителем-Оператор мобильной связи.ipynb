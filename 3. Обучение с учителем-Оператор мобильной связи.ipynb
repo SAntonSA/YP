{
 "cells": [
  {
   "cell_type": "markdown",
   "metadata": {
    "toc": true
   },
   "source": [
    "<h1>Содержание<span class=\"tocSkip\"></span></h1>\n",
    "<div class=\"toc\"><ul class=\"toc-item\"><li><span><a href=\"#Подготовка-данных\" data-toc-modified-id=\"Подготовка-данных-1\"><span class=\"toc-item-num\">1&nbsp;&nbsp;</span>Подготовка данных</a></span></li><li><span><a href=\"#Исследование-задачи\" data-toc-modified-id=\"Исследование-задачи-2\"><span class=\"toc-item-num\">2&nbsp;&nbsp;</span>Исследование задачи</a></span></li><li><span><a href=\"#Борьба-с-дисбалансом\" data-toc-modified-id=\"Борьба-с-дисбалансом-3\"><span class=\"toc-item-num\">3&nbsp;&nbsp;</span>Борьба с дисбалансом</a></span></li><li><span><a href=\"#Тестирование-модели\" data-toc-modified-id=\"Тестирование-модели-4\"><span class=\"toc-item-num\">4&nbsp;&nbsp;</span>Тестирование модели</a></span></li></ul></div>"
   ]
  },
  {
   "cell_type": "markdown",
   "metadata": {},
   "source": [
    "# Отток клиентов"
   ]
  },
  {
   "cell_type": "markdown",
   "metadata": {},
   "source": [
    "Из «Бета-Банка» стали уходить клиенты. Каждый месяц. Немного, но заметно. Банковские маркетологи посчитали: сохранять текущих клиентов дешевле, чем привлекать новых.\n",
    "\n",
    "Нужно спрогнозировать, уйдёт клиент из банка в ближайшее время или нет. Вам предоставлены исторические данные о поведении клиентов и расторжении договоров с банком. \n",
    "\n",
    "Постройте модель с предельно большим значением *F1*-меры. Чтобы сдать проект успешно, нужно довести метрику до 0.59. Проверьте *F1*-меру на тестовой выборке самостоятельно.\n",
    "\n",
    "Дополнительно измеряйте *AUC-ROC*, сравнивайте её значение с *F1*-мерой.\n",
    "\n",
    "Источник данных: [https://www.kaggle.com/barelydedicated/bank-customer-churn-modeling](https://www.kaggle.com/barelydedicated/bank-customer-churn-modeling)\n",
    "\n",
    "\n"
   ]
  },
  {
   "cell_type": "markdown",
   "metadata": {},
   "source": [
    "\n",
    "Описание данных:  \n",
    " * RowNumber — индекс строки в данных\n",
    " * CustomerId — уникальный идентификатор клиента\n",
    " * Surname — фамилия\n",
    " * CreditScore — кредитный рейтинг\n",
    " * Geography — страна проживания\n",
    " * Gender — пол\n",
    " * Age — возраст\n",
    " * Tenure — сколько лет человек является клиентом банка\n",
    " * Balance — баланс на счёте\n",
    " * NumOfProducts — количество продуктов банка, используемых клиентом\n",
    " * HasCrCard — наличие кредитной карты\n",
    " * IsActiveMember — активность клиента\n",
    " *EstimatedSalary — предполагаемая зарплата\n",
    "\n",
    "Целевой признак\n",
    " * Exited — факт ухода клиента\n",
    "    \n",
    "    \n",
    " План:\n",
    " * Загрузим и подготовим данные. \n",
    " * Исследуем баланс классов, обучим модель без учёта дисбаланса.\n",
    " * Улучшим качество модели, учитывая дисбаланс классов. Обучим разные модели и найдём лучшую.\n",
    " * Проведём финальное тестирование.\n"
   ]
  },
  {
   "cell_type": "code",
   "execution_count": 3,
   "metadata": {},
   "outputs": [],
   "source": [
    "import pandas as pd\n",
    "import matplotlib.pyplot as plt\n",
    "from sklearn.model_selection import train_test_split \n",
    "from sklearn.tree import DecisionTreeClassifier\n",
    "from sklearn.metrics import accuracy_score\n",
    "from sklearn.ensemble import RandomForestClassifier\n",
    "from sklearn.linear_model import LogisticRegression \n",
    "from sklearn.metrics import f1_score\n",
    "from sklearn.metrics import roc_auc_score \n",
    "from sklearn.metrics import roc_curve\n",
    "from sklearn.utils import shuffle\n",
    "from sklearn.dummy import DummyClassifier\n",
    "from random import randint\n",
    "from sklearn.preprocessing import StandardScaler \n"
   ]
  },
  {
   "cell_type": "markdown",
   "metadata": {},
   "source": [
    "## Подготовка данных"
   ]
  },
  {
   "cell_type": "code",
   "execution_count": 4,
   "metadata": {},
   "outputs": [],
   "source": [
    "try:\n",
    "    df = pd.read_csv(\"datasets/Churn.csv\")\n",
    "except:\n",
    "    df = pd.read_csv(\"/datasets/Churn.csv\")"
   ]
  },
  {
   "cell_type": "code",
   "execution_count": 5,
   "metadata": {},
   "outputs": [
    {
     "name": "stdout",
     "output_type": "stream",
     "text": [
      "<class 'pandas.core.frame.DataFrame'>\n",
      "RangeIndex: 10000 entries, 0 to 9999\n",
      "Data columns (total 14 columns):\n",
      " #   Column           Non-Null Count  Dtype  \n",
      "---  ------           --------------  -----  \n",
      " 0   RowNumber        10000 non-null  int64  \n",
      " 1   CustomerId       10000 non-null  int64  \n",
      " 2   Surname          10000 non-null  object \n",
      " 3   CreditScore      10000 non-null  int64  \n",
      " 4   Geography        10000 non-null  object \n",
      " 5   Gender           10000 non-null  object \n",
      " 6   Age              10000 non-null  int64  \n",
      " 7   Tenure           9091 non-null   float64\n",
      " 8   Balance          10000 non-null  float64\n",
      " 9   NumOfProducts    10000 non-null  int64  \n",
      " 10  HasCrCard        10000 non-null  int64  \n",
      " 11  IsActiveMember   10000 non-null  int64  \n",
      " 12  EstimatedSalary  10000 non-null  float64\n",
      " 13  Exited           10000 non-null  int64  \n",
      "dtypes: float64(3), int64(8), object(3)\n",
      "memory usage: 1.1+ MB\n"
     ]
    }
   ],
   "source": [
    "df.info()"
   ]
  },
  {
   "cell_type": "code",
   "execution_count": 6,
   "metadata": {},
   "outputs": [
    {
     "data": {
      "text/html": [
       "<div>\n",
       "<style scoped>\n",
       "    .dataframe tbody tr th:only-of-type {\n",
       "        vertical-align: middle;\n",
       "    }\n",
       "\n",
       "    .dataframe tbody tr th {\n",
       "        vertical-align: top;\n",
       "    }\n",
       "\n",
       "    .dataframe thead th {\n",
       "        text-align: right;\n",
       "    }\n",
       "</style>\n",
       "<table border=\"1\" class=\"dataframe\">\n",
       "  <thead>\n",
       "    <tr style=\"text-align: right;\">\n",
       "      <th></th>\n",
       "      <th>RowNumber</th>\n",
       "      <th>CustomerId</th>\n",
       "      <th>Surname</th>\n",
       "      <th>CreditScore</th>\n",
       "      <th>Geography</th>\n",
       "      <th>Gender</th>\n",
       "      <th>Age</th>\n",
       "      <th>Tenure</th>\n",
       "      <th>Balance</th>\n",
       "      <th>NumOfProducts</th>\n",
       "      <th>HasCrCard</th>\n",
       "      <th>IsActiveMember</th>\n",
       "      <th>EstimatedSalary</th>\n",
       "      <th>Exited</th>\n",
       "    </tr>\n",
       "  </thead>\n",
       "  <tbody>\n",
       "    <tr>\n",
       "      <th>30</th>\n",
       "      <td>31</td>\n",
       "      <td>15589475</td>\n",
       "      <td>Azikiwe</td>\n",
       "      <td>591</td>\n",
       "      <td>Spain</td>\n",
       "      <td>Female</td>\n",
       "      <td>39</td>\n",
       "      <td>NaN</td>\n",
       "      <td>0.00</td>\n",
       "      <td>3</td>\n",
       "      <td>1</td>\n",
       "      <td>0</td>\n",
       "      <td>140469.38</td>\n",
       "      <td>1</td>\n",
       "    </tr>\n",
       "    <tr>\n",
       "      <th>48</th>\n",
       "      <td>49</td>\n",
       "      <td>15766205</td>\n",
       "      <td>Yin</td>\n",
       "      <td>550</td>\n",
       "      <td>Germany</td>\n",
       "      <td>Male</td>\n",
       "      <td>38</td>\n",
       "      <td>NaN</td>\n",
       "      <td>103391.38</td>\n",
       "      <td>1</td>\n",
       "      <td>0</td>\n",
       "      <td>1</td>\n",
       "      <td>90878.13</td>\n",
       "      <td>0</td>\n",
       "    </tr>\n",
       "    <tr>\n",
       "      <th>51</th>\n",
       "      <td>52</td>\n",
       "      <td>15768193</td>\n",
       "      <td>Trevisani</td>\n",
       "      <td>585</td>\n",
       "      <td>Germany</td>\n",
       "      <td>Male</td>\n",
       "      <td>36</td>\n",
       "      <td>NaN</td>\n",
       "      <td>146050.97</td>\n",
       "      <td>2</td>\n",
       "      <td>0</td>\n",
       "      <td>0</td>\n",
       "      <td>86424.57</td>\n",
       "      <td>0</td>\n",
       "    </tr>\n",
       "    <tr>\n",
       "      <th>53</th>\n",
       "      <td>54</td>\n",
       "      <td>15702298</td>\n",
       "      <td>Parkhill</td>\n",
       "      <td>655</td>\n",
       "      <td>Germany</td>\n",
       "      <td>Male</td>\n",
       "      <td>41</td>\n",
       "      <td>NaN</td>\n",
       "      <td>125561.97</td>\n",
       "      <td>1</td>\n",
       "      <td>0</td>\n",
       "      <td>0</td>\n",
       "      <td>164040.94</td>\n",
       "      <td>1</td>\n",
       "    </tr>\n",
       "    <tr>\n",
       "      <th>60</th>\n",
       "      <td>61</td>\n",
       "      <td>15651280</td>\n",
       "      <td>Hunter</td>\n",
       "      <td>742</td>\n",
       "      <td>Germany</td>\n",
       "      <td>Male</td>\n",
       "      <td>35</td>\n",
       "      <td>NaN</td>\n",
       "      <td>136857.00</td>\n",
       "      <td>1</td>\n",
       "      <td>0</td>\n",
       "      <td>0</td>\n",
       "      <td>84509.57</td>\n",
       "      <td>0</td>\n",
       "    </tr>\n",
       "    <tr>\n",
       "      <th>...</th>\n",
       "      <td>...</td>\n",
       "      <td>...</td>\n",
       "      <td>...</td>\n",
       "      <td>...</td>\n",
       "      <td>...</td>\n",
       "      <td>...</td>\n",
       "      <td>...</td>\n",
       "      <td>...</td>\n",
       "      <td>...</td>\n",
       "      <td>...</td>\n",
       "      <td>...</td>\n",
       "      <td>...</td>\n",
       "      <td>...</td>\n",
       "      <td>...</td>\n",
       "    </tr>\n",
       "    <tr>\n",
       "      <th>9944</th>\n",
       "      <td>9945</td>\n",
       "      <td>15703923</td>\n",
       "      <td>Cameron</td>\n",
       "      <td>744</td>\n",
       "      <td>Germany</td>\n",
       "      <td>Male</td>\n",
       "      <td>41</td>\n",
       "      <td>NaN</td>\n",
       "      <td>190409.34</td>\n",
       "      <td>2</td>\n",
       "      <td>1</td>\n",
       "      <td>1</td>\n",
       "      <td>138361.48</td>\n",
       "      <td>0</td>\n",
       "    </tr>\n",
       "    <tr>\n",
       "      <th>9956</th>\n",
       "      <td>9957</td>\n",
       "      <td>15707861</td>\n",
       "      <td>Nucci</td>\n",
       "      <td>520</td>\n",
       "      <td>France</td>\n",
       "      <td>Female</td>\n",
       "      <td>46</td>\n",
       "      <td>NaN</td>\n",
       "      <td>85216.61</td>\n",
       "      <td>1</td>\n",
       "      <td>1</td>\n",
       "      <td>0</td>\n",
       "      <td>117369.52</td>\n",
       "      <td>1</td>\n",
       "    </tr>\n",
       "    <tr>\n",
       "      <th>9964</th>\n",
       "      <td>9965</td>\n",
       "      <td>15642785</td>\n",
       "      <td>Douglas</td>\n",
       "      <td>479</td>\n",
       "      <td>France</td>\n",
       "      <td>Male</td>\n",
       "      <td>34</td>\n",
       "      <td>NaN</td>\n",
       "      <td>117593.48</td>\n",
       "      <td>2</td>\n",
       "      <td>0</td>\n",
       "      <td>0</td>\n",
       "      <td>113308.29</td>\n",
       "      <td>0</td>\n",
       "    </tr>\n",
       "    <tr>\n",
       "      <th>9985</th>\n",
       "      <td>9986</td>\n",
       "      <td>15586914</td>\n",
       "      <td>Nepean</td>\n",
       "      <td>659</td>\n",
       "      <td>France</td>\n",
       "      <td>Male</td>\n",
       "      <td>36</td>\n",
       "      <td>NaN</td>\n",
       "      <td>123841.49</td>\n",
       "      <td>2</td>\n",
       "      <td>1</td>\n",
       "      <td>0</td>\n",
       "      <td>96833.00</td>\n",
       "      <td>0</td>\n",
       "    </tr>\n",
       "    <tr>\n",
       "      <th>9999</th>\n",
       "      <td>10000</td>\n",
       "      <td>15628319</td>\n",
       "      <td>Walker</td>\n",
       "      <td>792</td>\n",
       "      <td>France</td>\n",
       "      <td>Female</td>\n",
       "      <td>28</td>\n",
       "      <td>NaN</td>\n",
       "      <td>130142.79</td>\n",
       "      <td>1</td>\n",
       "      <td>1</td>\n",
       "      <td>0</td>\n",
       "      <td>38190.78</td>\n",
       "      <td>0</td>\n",
       "    </tr>\n",
       "  </tbody>\n",
       "</table>\n",
       "<p>909 rows × 14 columns</p>\n",
       "</div>"
      ],
      "text/plain": [
       "      RowNumber  CustomerId    Surname  CreditScore Geography  Gender  Age  \\\n",
       "30           31    15589475    Azikiwe          591     Spain  Female   39   \n",
       "48           49    15766205        Yin          550   Germany    Male   38   \n",
       "51           52    15768193  Trevisani          585   Germany    Male   36   \n",
       "53           54    15702298   Parkhill          655   Germany    Male   41   \n",
       "60           61    15651280     Hunter          742   Germany    Male   35   \n",
       "...         ...         ...        ...          ...       ...     ...  ...   \n",
       "9944       9945    15703923    Cameron          744   Germany    Male   41   \n",
       "9956       9957    15707861      Nucci          520    France  Female   46   \n",
       "9964       9965    15642785    Douglas          479    France    Male   34   \n",
       "9985       9986    15586914     Nepean          659    France    Male   36   \n",
       "9999      10000    15628319     Walker          792    France  Female   28   \n",
       "\n",
       "      Tenure    Balance  NumOfProducts  HasCrCard  IsActiveMember  \\\n",
       "30       NaN       0.00              3          1               0   \n",
       "48       NaN  103391.38              1          0               1   \n",
       "51       NaN  146050.97              2          0               0   \n",
       "53       NaN  125561.97              1          0               0   \n",
       "60       NaN  136857.00              1          0               0   \n",
       "...      ...        ...            ...        ...             ...   \n",
       "9944     NaN  190409.34              2          1               1   \n",
       "9956     NaN   85216.61              1          1               0   \n",
       "9964     NaN  117593.48              2          0               0   \n",
       "9985     NaN  123841.49              2          1               0   \n",
       "9999     NaN  130142.79              1          1               0   \n",
       "\n",
       "      EstimatedSalary  Exited  \n",
       "30          140469.38       1  \n",
       "48           90878.13       0  \n",
       "51           86424.57       0  \n",
       "53          164040.94       1  \n",
       "60           84509.57       0  \n",
       "...               ...     ...  \n",
       "9944        138361.48       0  \n",
       "9956        117369.52       1  \n",
       "9964        113308.29       0  \n",
       "9985         96833.00       0  \n",
       "9999         38190.78       0  \n",
       "\n",
       "[909 rows x 14 columns]"
      ]
     },
     "execution_count": 6,
     "metadata": {},
     "output_type": "execute_result"
    }
   ],
   "source": [
    "df[df['Tenure'].isna()]"
   ]
  },
  {
   "cell_type": "markdown",
   "metadata": {},
   "source": [
    "Посмотрел на пропуски. Природа мне их не ясна. Я предположил бы по CustomerId восстановить. По логике id клиента, последовательно выдают, соотвественно взять у предыдущего по id  клиента , срок сколько он с банком и поставить в пропуск последующего. По сути получатся, когда клиента завели в систему, между соседнеми id  разница в дате будет минимальна.  Где -то  на просторах инернета видел,такой метод=). \n",
    "Но у нас так не получится, посмотрел=( у нас такой зависимости нету. Хотя почему не понимаю. Ну вот так, что имееем то имеем.\n",
    "\n",
    "Попробовать нулем заполнить, тоже сомнительно. У нас есть нулевые. Ну вообщем дальше посмотрим, пока держим в голове. Можно же  и нулем попробовать и медианной.Попробуем с медианной, если не пройдём по условиям F1-меры < 0,59. Другие варианты попробуем"
   ]
  },
  {
   "cell_type": "code",
   "execution_count": 7,
   "metadata": {},
   "outputs": [],
   "source": [
    "df['Tenure'] = df['Tenure'].fillna(randint(1, 10))"
   ]
  },
  {
   "cell_type": "code",
   "execution_count": 8,
   "metadata": {},
   "outputs": [
    {
     "data": {
      "text/html": [
       "<div>\n",
       "<style scoped>\n",
       "    .dataframe tbody tr th:only-of-type {\n",
       "        vertical-align: middle;\n",
       "    }\n",
       "\n",
       "    .dataframe tbody tr th {\n",
       "        vertical-align: top;\n",
       "    }\n",
       "\n",
       "    .dataframe thead th {\n",
       "        text-align: right;\n",
       "    }\n",
       "</style>\n",
       "<table border=\"1\" class=\"dataframe\">\n",
       "  <thead>\n",
       "    <tr style=\"text-align: right;\">\n",
       "      <th></th>\n",
       "      <th>RowNumber</th>\n",
       "      <th>CustomerId</th>\n",
       "      <th>Surname</th>\n",
       "      <th>CreditScore</th>\n",
       "      <th>Geography</th>\n",
       "      <th>Gender</th>\n",
       "      <th>Age</th>\n",
       "      <th>Tenure</th>\n",
       "      <th>Balance</th>\n",
       "      <th>NumOfProducts</th>\n",
       "      <th>HasCrCard</th>\n",
       "      <th>IsActiveMember</th>\n",
       "      <th>EstimatedSalary</th>\n",
       "      <th>Exited</th>\n",
       "    </tr>\n",
       "  </thead>\n",
       "  <tbody>\n",
       "    <tr>\n",
       "      <th>29</th>\n",
       "      <td>30</td>\n",
       "      <td>15656300</td>\n",
       "      <td>Lucciano</td>\n",
       "      <td>411</td>\n",
       "      <td>France</td>\n",
       "      <td>Male</td>\n",
       "      <td>29</td>\n",
       "      <td>0.0</td>\n",
       "      <td>59697.17</td>\n",
       "      <td>2</td>\n",
       "      <td>1</td>\n",
       "      <td>1</td>\n",
       "      <td>53483.21</td>\n",
       "      <td>0</td>\n",
       "    </tr>\n",
       "    <tr>\n",
       "      <th>35</th>\n",
       "      <td>36</td>\n",
       "      <td>15794171</td>\n",
       "      <td>Lombardo</td>\n",
       "      <td>475</td>\n",
       "      <td>France</td>\n",
       "      <td>Female</td>\n",
       "      <td>45</td>\n",
       "      <td>0.0</td>\n",
       "      <td>134264.04</td>\n",
       "      <td>1</td>\n",
       "      <td>1</td>\n",
       "      <td>0</td>\n",
       "      <td>27822.99</td>\n",
       "      <td>1</td>\n",
       "    </tr>\n",
       "    <tr>\n",
       "      <th>57</th>\n",
       "      <td>58</td>\n",
       "      <td>15647091</td>\n",
       "      <td>Endrizzi</td>\n",
       "      <td>725</td>\n",
       "      <td>Germany</td>\n",
       "      <td>Male</td>\n",
       "      <td>19</td>\n",
       "      <td>0.0</td>\n",
       "      <td>75888.20</td>\n",
       "      <td>1</td>\n",
       "      <td>0</td>\n",
       "      <td>0</td>\n",
       "      <td>45613.75</td>\n",
       "      <td>0</td>\n",
       "    </tr>\n",
       "    <tr>\n",
       "      <th>72</th>\n",
       "      <td>73</td>\n",
       "      <td>15812518</td>\n",
       "      <td>Palermo</td>\n",
       "      <td>657</td>\n",
       "      <td>Spain</td>\n",
       "      <td>Female</td>\n",
       "      <td>37</td>\n",
       "      <td>0.0</td>\n",
       "      <td>163607.18</td>\n",
       "      <td>1</td>\n",
       "      <td>0</td>\n",
       "      <td>1</td>\n",
       "      <td>44203.55</td>\n",
       "      <td>0</td>\n",
       "    </tr>\n",
       "    <tr>\n",
       "      <th>127</th>\n",
       "      <td>128</td>\n",
       "      <td>15782688</td>\n",
       "      <td>Piccio</td>\n",
       "      <td>625</td>\n",
       "      <td>Germany</td>\n",
       "      <td>Male</td>\n",
       "      <td>56</td>\n",
       "      <td>0.0</td>\n",
       "      <td>148507.24</td>\n",
       "      <td>1</td>\n",
       "      <td>1</td>\n",
       "      <td>0</td>\n",
       "      <td>46824.08</td>\n",
       "      <td>1</td>\n",
       "    </tr>\n",
       "    <tr>\n",
       "      <th>...</th>\n",
       "      <td>...</td>\n",
       "      <td>...</td>\n",
       "      <td>...</td>\n",
       "      <td>...</td>\n",
       "      <td>...</td>\n",
       "      <td>...</td>\n",
       "      <td>...</td>\n",
       "      <td>...</td>\n",
       "      <td>...</td>\n",
       "      <td>...</td>\n",
       "      <td>...</td>\n",
       "      <td>...</td>\n",
       "      <td>...</td>\n",
       "      <td>...</td>\n",
       "    </tr>\n",
       "    <tr>\n",
       "      <th>9793</th>\n",
       "      <td>9794</td>\n",
       "      <td>15772363</td>\n",
       "      <td>Hilton</td>\n",
       "      <td>772</td>\n",
       "      <td>Germany</td>\n",
       "      <td>Female</td>\n",
       "      <td>42</td>\n",
       "      <td>0.0</td>\n",
       "      <td>101979.16</td>\n",
       "      <td>1</td>\n",
       "      <td>1</td>\n",
       "      <td>0</td>\n",
       "      <td>90928.48</td>\n",
       "      <td>0</td>\n",
       "    </tr>\n",
       "    <tr>\n",
       "      <th>9799</th>\n",
       "      <td>9800</td>\n",
       "      <td>15722731</td>\n",
       "      <td>Manna</td>\n",
       "      <td>653</td>\n",
       "      <td>France</td>\n",
       "      <td>Male</td>\n",
       "      <td>46</td>\n",
       "      <td>0.0</td>\n",
       "      <td>119556.10</td>\n",
       "      <td>1</td>\n",
       "      <td>1</td>\n",
       "      <td>0</td>\n",
       "      <td>78250.13</td>\n",
       "      <td>1</td>\n",
       "    </tr>\n",
       "    <tr>\n",
       "      <th>9843</th>\n",
       "      <td>9844</td>\n",
       "      <td>15778304</td>\n",
       "      <td>Fan</td>\n",
       "      <td>646</td>\n",
       "      <td>Germany</td>\n",
       "      <td>Male</td>\n",
       "      <td>24</td>\n",
       "      <td>0.0</td>\n",
       "      <td>92398.08</td>\n",
       "      <td>1</td>\n",
       "      <td>1</td>\n",
       "      <td>1</td>\n",
       "      <td>18897.29</td>\n",
       "      <td>0</td>\n",
       "    </tr>\n",
       "    <tr>\n",
       "      <th>9868</th>\n",
       "      <td>9869</td>\n",
       "      <td>15587640</td>\n",
       "      <td>Rowntree</td>\n",
       "      <td>718</td>\n",
       "      <td>France</td>\n",
       "      <td>Female</td>\n",
       "      <td>43</td>\n",
       "      <td>0.0</td>\n",
       "      <td>93143.39</td>\n",
       "      <td>1</td>\n",
       "      <td>1</td>\n",
       "      <td>0</td>\n",
       "      <td>167554.86</td>\n",
       "      <td>0</td>\n",
       "    </tr>\n",
       "    <tr>\n",
       "      <th>9919</th>\n",
       "      <td>9920</td>\n",
       "      <td>15798084</td>\n",
       "      <td>Murray</td>\n",
       "      <td>688</td>\n",
       "      <td>France</td>\n",
       "      <td>Male</td>\n",
       "      <td>26</td>\n",
       "      <td>0.0</td>\n",
       "      <td>0.00</td>\n",
       "      <td>2</td>\n",
       "      <td>1</td>\n",
       "      <td>0</td>\n",
       "      <td>105784.85</td>\n",
       "      <td>0</td>\n",
       "    </tr>\n",
       "  </tbody>\n",
       "</table>\n",
       "<p>382 rows × 14 columns</p>\n",
       "</div>"
      ],
      "text/plain": [
       "      RowNumber  CustomerId   Surname  CreditScore Geography  Gender  Age  \\\n",
       "29           30    15656300  Lucciano          411    France    Male   29   \n",
       "35           36    15794171  Lombardo          475    France  Female   45   \n",
       "57           58    15647091  Endrizzi          725   Germany    Male   19   \n",
       "72           73    15812518   Palermo          657     Spain  Female   37   \n",
       "127         128    15782688    Piccio          625   Germany    Male   56   \n",
       "...         ...         ...       ...          ...       ...     ...  ...   \n",
       "9793       9794    15772363    Hilton          772   Germany  Female   42   \n",
       "9799       9800    15722731     Manna          653    France    Male   46   \n",
       "9843       9844    15778304       Fan          646   Germany    Male   24   \n",
       "9868       9869    15587640  Rowntree          718    France  Female   43   \n",
       "9919       9920    15798084    Murray          688    France    Male   26   \n",
       "\n",
       "      Tenure    Balance  NumOfProducts  HasCrCard  IsActiveMember  \\\n",
       "29       0.0   59697.17              2          1               1   \n",
       "35       0.0  134264.04              1          1               0   \n",
       "57       0.0   75888.20              1          0               0   \n",
       "72       0.0  163607.18              1          0               1   \n",
       "127      0.0  148507.24              1          1               0   \n",
       "...      ...        ...            ...        ...             ...   \n",
       "9793     0.0  101979.16              1          1               0   \n",
       "9799     0.0  119556.10              1          1               0   \n",
       "9843     0.0   92398.08              1          1               1   \n",
       "9868     0.0   93143.39              1          1               0   \n",
       "9919     0.0       0.00              2          1               0   \n",
       "\n",
       "      EstimatedSalary  Exited  \n",
       "29           53483.21       0  \n",
       "35           27822.99       1  \n",
       "57           45613.75       0  \n",
       "72           44203.55       0  \n",
       "127          46824.08       1  \n",
       "...               ...     ...  \n",
       "9793         90928.48       0  \n",
       "9799         78250.13       1  \n",
       "9843         18897.29       0  \n",
       "9868        167554.86       0  \n",
       "9919        105784.85       0  \n",
       "\n",
       "[382 rows x 14 columns]"
      ]
     },
     "execution_count": 8,
     "metadata": {},
     "output_type": "execute_result"
    }
   ],
   "source": [
    "df[df['Tenure'] == 0]"
   ]
  },
  {
   "cell_type": "code",
   "execution_count": 9,
   "metadata": {},
   "outputs": [
    {
     "name": "stdout",
     "output_type": "stream",
     "text": [
      "(7963, 14)\n",
      "(2037, 14)\n"
     ]
    }
   ],
   "source": [
    "print(df[df['Exited'] == 0].shape)\n",
    "print(df[df['Exited'] == 1].shape)"
   ]
  },
  {
   "cell_type": "markdown",
   "metadata": {},
   "source": [
    "Проверил на сбалансированность."
   ]
  },
  {
   "cell_type": "code",
   "execution_count": 10,
   "metadata": {},
   "outputs": [
    {
     "data": {
      "text/plain": [
       "0"
      ]
     },
     "execution_count": 10,
     "metadata": {},
     "output_type": "execute_result"
    }
   ],
   "source": [
    "df.duplicated().sum()"
   ]
  },
  {
   "cell_type": "markdown",
   "metadata": {},
   "source": [
    "Дубликатов нету"
   ]
  },
  {
   "cell_type": "markdown",
   "metadata": {},
   "source": [
    "По сути фамилия, номер и ид должны быть уникальны. Смысла для нас не имеют эти поля=). Если только Ивановы никогда не уходят из Бета Банка. Пока уберём."
   ]
  },
  {
   "cell_type": "code",
   "execution_count": 11,
   "metadata": {},
   "outputs": [],
   "source": [
    "df = df.drop([\"RowNumber\", \"CustomerId\", \"Surname\"], axis=1)"
   ]
  },
  {
   "cell_type": "code",
   "execution_count": 12,
   "metadata": {},
   "outputs": [
    {
     "data": {
      "text/html": [
       "<div>\n",
       "<style scoped>\n",
       "    .dataframe tbody tr th:only-of-type {\n",
       "        vertical-align: middle;\n",
       "    }\n",
       "\n",
       "    .dataframe tbody tr th {\n",
       "        vertical-align: top;\n",
       "    }\n",
       "\n",
       "    .dataframe thead th {\n",
       "        text-align: right;\n",
       "    }\n",
       "</style>\n",
       "<table border=\"1\" class=\"dataframe\">\n",
       "  <thead>\n",
       "    <tr style=\"text-align: right;\">\n",
       "      <th></th>\n",
       "      <th>CreditScore</th>\n",
       "      <th>Geography</th>\n",
       "      <th>Gender</th>\n",
       "      <th>Age</th>\n",
       "      <th>Tenure</th>\n",
       "      <th>Balance</th>\n",
       "      <th>NumOfProducts</th>\n",
       "      <th>HasCrCard</th>\n",
       "      <th>IsActiveMember</th>\n",
       "      <th>EstimatedSalary</th>\n",
       "      <th>Exited</th>\n",
       "    </tr>\n",
       "  </thead>\n",
       "  <tbody>\n",
       "    <tr>\n",
       "      <th>0</th>\n",
       "      <td>619</td>\n",
       "      <td>France</td>\n",
       "      <td>Female</td>\n",
       "      <td>42</td>\n",
       "      <td>2.0</td>\n",
       "      <td>0.00</td>\n",
       "      <td>1</td>\n",
       "      <td>1</td>\n",
       "      <td>1</td>\n",
       "      <td>101348.88</td>\n",
       "      <td>1</td>\n",
       "    </tr>\n",
       "    <tr>\n",
       "      <th>1</th>\n",
       "      <td>608</td>\n",
       "      <td>Spain</td>\n",
       "      <td>Female</td>\n",
       "      <td>41</td>\n",
       "      <td>1.0</td>\n",
       "      <td>83807.86</td>\n",
       "      <td>1</td>\n",
       "      <td>0</td>\n",
       "      <td>1</td>\n",
       "      <td>112542.58</td>\n",
       "      <td>0</td>\n",
       "    </tr>\n",
       "    <tr>\n",
       "      <th>2</th>\n",
       "      <td>502</td>\n",
       "      <td>France</td>\n",
       "      <td>Female</td>\n",
       "      <td>42</td>\n",
       "      <td>8.0</td>\n",
       "      <td>159660.80</td>\n",
       "      <td>3</td>\n",
       "      <td>1</td>\n",
       "      <td>0</td>\n",
       "      <td>113931.57</td>\n",
       "      <td>1</td>\n",
       "    </tr>\n",
       "    <tr>\n",
       "      <th>3</th>\n",
       "      <td>699</td>\n",
       "      <td>France</td>\n",
       "      <td>Female</td>\n",
       "      <td>39</td>\n",
       "      <td>1.0</td>\n",
       "      <td>0.00</td>\n",
       "      <td>2</td>\n",
       "      <td>0</td>\n",
       "      <td>0</td>\n",
       "      <td>93826.63</td>\n",
       "      <td>0</td>\n",
       "    </tr>\n",
       "    <tr>\n",
       "      <th>4</th>\n",
       "      <td>850</td>\n",
       "      <td>Spain</td>\n",
       "      <td>Female</td>\n",
       "      <td>43</td>\n",
       "      <td>2.0</td>\n",
       "      <td>125510.82</td>\n",
       "      <td>1</td>\n",
       "      <td>1</td>\n",
       "      <td>1</td>\n",
       "      <td>79084.10</td>\n",
       "      <td>0</td>\n",
       "    </tr>\n",
       "    <tr>\n",
       "      <th>...</th>\n",
       "      <td>...</td>\n",
       "      <td>...</td>\n",
       "      <td>...</td>\n",
       "      <td>...</td>\n",
       "      <td>...</td>\n",
       "      <td>...</td>\n",
       "      <td>...</td>\n",
       "      <td>...</td>\n",
       "      <td>...</td>\n",
       "      <td>...</td>\n",
       "      <td>...</td>\n",
       "    </tr>\n",
       "    <tr>\n",
       "      <th>9995</th>\n",
       "      <td>771</td>\n",
       "      <td>France</td>\n",
       "      <td>Male</td>\n",
       "      <td>39</td>\n",
       "      <td>5.0</td>\n",
       "      <td>0.00</td>\n",
       "      <td>2</td>\n",
       "      <td>1</td>\n",
       "      <td>0</td>\n",
       "      <td>96270.64</td>\n",
       "      <td>0</td>\n",
       "    </tr>\n",
       "    <tr>\n",
       "      <th>9996</th>\n",
       "      <td>516</td>\n",
       "      <td>France</td>\n",
       "      <td>Male</td>\n",
       "      <td>35</td>\n",
       "      <td>10.0</td>\n",
       "      <td>57369.61</td>\n",
       "      <td>1</td>\n",
       "      <td>1</td>\n",
       "      <td>1</td>\n",
       "      <td>101699.77</td>\n",
       "      <td>0</td>\n",
       "    </tr>\n",
       "    <tr>\n",
       "      <th>9997</th>\n",
       "      <td>709</td>\n",
       "      <td>France</td>\n",
       "      <td>Female</td>\n",
       "      <td>36</td>\n",
       "      <td>7.0</td>\n",
       "      <td>0.00</td>\n",
       "      <td>1</td>\n",
       "      <td>0</td>\n",
       "      <td>1</td>\n",
       "      <td>42085.58</td>\n",
       "      <td>1</td>\n",
       "    </tr>\n",
       "    <tr>\n",
       "      <th>9998</th>\n",
       "      <td>772</td>\n",
       "      <td>Germany</td>\n",
       "      <td>Male</td>\n",
       "      <td>42</td>\n",
       "      <td>3.0</td>\n",
       "      <td>75075.31</td>\n",
       "      <td>2</td>\n",
       "      <td>1</td>\n",
       "      <td>0</td>\n",
       "      <td>92888.52</td>\n",
       "      <td>1</td>\n",
       "    </tr>\n",
       "    <tr>\n",
       "      <th>9999</th>\n",
       "      <td>792</td>\n",
       "      <td>France</td>\n",
       "      <td>Female</td>\n",
       "      <td>28</td>\n",
       "      <td>2.0</td>\n",
       "      <td>130142.79</td>\n",
       "      <td>1</td>\n",
       "      <td>1</td>\n",
       "      <td>0</td>\n",
       "      <td>38190.78</td>\n",
       "      <td>0</td>\n",
       "    </tr>\n",
       "  </tbody>\n",
       "</table>\n",
       "<p>10000 rows × 11 columns</p>\n",
       "</div>"
      ],
      "text/plain": [
       "      CreditScore Geography  Gender  Age  Tenure    Balance  NumOfProducts  \\\n",
       "0             619    France  Female   42     2.0       0.00              1   \n",
       "1             608     Spain  Female   41     1.0   83807.86              1   \n",
       "2             502    France  Female   42     8.0  159660.80              3   \n",
       "3             699    France  Female   39     1.0       0.00              2   \n",
       "4             850     Spain  Female   43     2.0  125510.82              1   \n",
       "...           ...       ...     ...  ...     ...        ...            ...   \n",
       "9995          771    France    Male   39     5.0       0.00              2   \n",
       "9996          516    France    Male   35    10.0   57369.61              1   \n",
       "9997          709    France  Female   36     7.0       0.00              1   \n",
       "9998          772   Germany    Male   42     3.0   75075.31              2   \n",
       "9999          792    France  Female   28     2.0  130142.79              1   \n",
       "\n",
       "      HasCrCard  IsActiveMember  EstimatedSalary  Exited  \n",
       "0             1               1        101348.88       1  \n",
       "1             0               1        112542.58       0  \n",
       "2             1               0        113931.57       1  \n",
       "3             0               0         93826.63       0  \n",
       "4             1               1         79084.10       0  \n",
       "...         ...             ...              ...     ...  \n",
       "9995          1               0         96270.64       0  \n",
       "9996          1               1        101699.77       0  \n",
       "9997          0               1         42085.58       1  \n",
       "9998          1               0         92888.52       1  \n",
       "9999          1               0         38190.78       0  \n",
       "\n",
       "[10000 rows x 11 columns]"
      ]
     },
     "execution_count": 12,
     "metadata": {},
     "output_type": "execute_result"
    }
   ],
   "source": [
    "df"
   ]
  },
  {
   "cell_type": "code",
   "execution_count": 13,
   "metadata": {},
   "outputs": [],
   "source": [
    "df = pd.get_dummies(df, drop_first=True)"
   ]
  },
  {
   "cell_type": "markdown",
   "metadata": {},
   "source": [
    "## Исследование задачи"
   ]
  },
  {
   "cell_type": "markdown",
   "metadata": {},
   "source": [
    "Нужно разбить на выборки. На обучающую, валидационную и тестовую."
   ]
  },
  {
   "cell_type": "code",
   "execution_count": 14,
   "metadata": {},
   "outputs": [
    {
     "name": "stdout",
     "output_type": "stream",
     "text": [
      "(996,)\n",
      "(254,)\n"
     ]
    }
   ],
   "source": [
    "features = df.drop(['Exited'], axis=1)\n",
    "target = df['Exited']\n",
    "\n",
    "features_train, features_test, target_train, target_test = train_test_split(\n",
    "    features, target, test_size=0.25, random_state=12345, stratify=target)\n",
    "\n",
    "features_test, features_valid, target_test, target_valid = train_test_split(\n",
    "    features_test, target_test, test_size=0.5, random_state=12345, stratify=target_test)\n",
    "\n",
    "print(target_valid[target_valid != 1].shape)\n",
    "print(target_valid[target_valid != 0].shape)"
   ]
  },
  {
   "cell_type": "code",
   "execution_count": 15,
   "metadata": {},
   "outputs": [
    {
     "data": {
      "text/plain": [
       "3349    1\n",
       "7094    0\n",
       "9204    0\n",
       "6620    0\n",
       "4737    0\n",
       "       ..\n",
       "2360    0\n",
       "4499    0\n",
       "1030    0\n",
       "700     0\n",
       "9947    1\n",
       "Name: Exited, Length: 7500, dtype: int64"
      ]
     },
     "execution_count": 15,
     "metadata": {},
     "output_type": "execute_result"
    }
   ],
   "source": [
    "target_train"
   ]
  },
  {
   "cell_type": "code",
   "execution_count": 16,
   "metadata": {},
   "outputs": [],
   "source": [
    "numeric = ['CreditScore', 'Age', 'Tenure', 'Balance',\n",
    "           'NumOfProducts', 'HasCrCard', 'IsActiveMember', 'EstimatedSalary']\n",
    "pd.options.mode.chained_assignment = None\n",
    "scaler = StandardScaler()\n",
    "scaler.fit(features_train[numeric])\n",
    "features_train[numeric] = scaler.transform(features_train[numeric])\n",
    "features_valid[numeric] = scaler.transform(features_valid[numeric])\n",
    "# scaler.fit(features_train[numeric])\n",
    "#features_valid[numeric] = scaler.transform(features_valid[numeric])\n",
    "features_test[numeric] = scaler.transform(features_test[numeric])"
   ]
  },
  {
   "cell_type": "markdown",
   "metadata": {},
   "source": [
    "Существующий дисбаланс никуда не денется, но в каждом датасете он будет одинаковым."
   ]
  },
  {
   "cell_type": "markdown",
   "metadata": {},
   "source": [
    "Рещающее дерево"
   ]
  },
  {
   "cell_type": "code",
   "execution_count": 17,
   "metadata": {},
   "outputs": [
    {
     "name": "stdout",
     "output_type": "stream",
     "text": [
      "f1_score: 0.5797101449275361\n"
     ]
    }
   ],
   "source": [
    "best_model_DT = None\n",
    "best_result = 0\n",
    "for depth in range(1, 10):\n",
    "    model = DecisionTreeClassifier(random_state=12345, max_depth=depth)\n",
    "    model.fit(features_train, target_train)\n",
    "    valid_predictions = model.predict(features_valid)\n",
    "    result = f1_score(target_valid, valid_predictions)\n",
    "    if result > best_result:\n",
    "        best_model_DT = model\n",
    "        best_result = result\n",
    "\n",
    "print(\"f1_score:\", best_result)"
   ]
  },
  {
   "cell_type": "code",
   "execution_count": 18,
   "metadata": {},
   "outputs": [
    {
     "data": {
      "image/png": "[encoded data removed]",
      "text/plain": [
       "<Figure size 640x480 with 1 Axes>"
      ]
     },
     "metadata": {},
     "output_type": "display_data"
    },
    {
     "name": "stdout",
     "output_type": "stream",
     "text": [
      "0.8027325838788224\n"
     ]
    }
   ],
   "source": [
    "probabilities_valid = model.predict_proba(features_valid)\n",
    "probabilities_one_valid = probabilities_valid[:, 1]\n",
    "\n",
    "fpr, tpr, thresholds = roc_curve(target_valid, probabilities_one_valid)\n",
    "\n",
    "plt.figure()\n",
    "plt.plot(fpr, tpr)\n",
    "plt.xlim([0.0, 1.0])\n",
    "plt.ylim([0.0, 1.0])\n",
    "plt.xlabel('False Positive Rate')\n",
    "plt.ylabel('True Positive Rate')\n",
    "plt.title('ROC-кривая')\n",
    "plt.show()\n",
    "\n",
    "probabilities_valid = model.predict_proba(features_valid)\n",
    "probabilities_one_valid = probabilities_valid[:, 1]\n",
    "auc_roc = roc_auc_score(target_valid,  probabilities_one_valid)\n",
    "print(auc_roc)"
   ]
  },
  {
   "cell_type": "markdown",
   "metadata": {},
   "source": [
    "Cлучайный лес"
   ]
  },
  {
   "cell_type": "code",
   "execution_count": null,
   "metadata": {},
   "outputs": [],
   "source": [
    "best_model_rf = None\n",
    "best_result = 0\n",
    "for est in range(1, 30):\n",
    "    for depth in range(1, 20):\n",
    "        model = RandomForestClassifier(\n",
    "            random_state=12345, n_estimators=est, max_depth=depth, class_weight='balanced')\n",
    "        model.fit(features_train, target_train)\n",
    "        valid_predictions = model.predict(features_valid)\n",
    "        result = f1_score(target_valid, valid_predictions)\n",
    "        if result > best_result:\n",
    "            best_model_rf = model\n",
    "            best_result = result\n",
    "\n",
    "\n",
    "print(best_model_rf)\n",
    "print(\"f1_score:\", best_result)"
   ]
  },
  {
   "cell_type": "code",
   "execution_count": null,
   "metadata": {},
   "outputs": [],
   "source": [
    "probabilities_valid = model.predict_proba(features_valid)\n",
    "probabilities_one_valid = probabilities_valid[:, 1]\n",
    "\n",
    "fpr, tpr, thresholds = roc_curve(target_valid, probabilities_one_valid)\n",
    "\n",
    "plt.figure()\n",
    "plt.plot(fpr, tpr)\n",
    "plt.xlim([0.0, 1.0])\n",
    "plt.ylim([0.0, 1.0])\n",
    "plt.xlabel('False Positive Rate')\n",
    "plt.ylabel('True Positive Rate')\n",
    "plt.title('ROC-кривая')\n",
    "plt.show()\n",
    "\n",
    "probabilities_valid = model.predict_proba(features_valid)\n",
    "probabilities_one_valid = probabilities_valid[:, 1]\n",
    "auc_roc = roc_auc_score(target_valid,  probabilities_one_valid)\n",
    "print(auc_roc)"
   ]
  },
  {
   "cell_type": "markdown",
   "metadata": {},
   "source": [
    "Логическая регрессия"
   ]
  },
  {
   "cell_type": "code",
   "execution_count": null,
   "metadata": {},
   "outputs": [],
   "source": [
    "model = LogisticRegression(random_state=12345, solver='lbfgs', max_iter=1000)\n",
    "model.fit(features_train, target_train)\n",
    "predictions_valid = model.predict(features_valid)\n",
    "result = f1_score(target_valid, predictions_valid)\n",
    "\n",
    "print(\"f1_score:\", result)"
   ]
  },
  {
   "cell_type": "code",
   "execution_count": null,
   "metadata": {},
   "outputs": [],
   "source": [
    "probabilities_valid = model.predict_proba(features_valid)\n",
    "probabilities_one_valid = probabilities_valid[:, 1]\n",
    "\n",
    "fpr, tpr, thresholds = roc_curve(target_valid, probabilities_one_valid)\n",
    "\n",
    "plt.figure()\n",
    "plt.plot(fpr, tpr)\n",
    "plt.xlim([0.0, 1.0])\n",
    "plt.ylim([0.0, 1.0])\n",
    "plt.xlabel('False Positive Rate')\n",
    "plt.ylabel('True Positive Rate')\n",
    "plt.title('ROC-кривая')\n",
    "plt.show()\n",
    "\n",
    "probabilities_valid = model.predict_proba(features_valid)\n",
    "probabilities_one_valid = probabilities_valid[:, 1]\n",
    "auc_roc = roc_auc_score(target_valid,  probabilities_one_valid)\n",
    "print(auc_roc)"
   ]
  },
  {
   "cell_type": "markdown",
   "metadata": {},
   "source": [
    "Лучшая модель  на не сбаласированных данных \n",
    "RandomForestClassifier(max_depth=18, n_estimators=25, random_state=12345)\n",
    "f1_score: 0.6004618937644342\n",
    "auc_roc:  0.7964060968282579\n"
   ]
  },
  {
   "cell_type": "markdown",
   "metadata": {},
   "source": [
    "## Борьба с дисбалансом"
   ]
  },
  {
   "cell_type": "markdown",
   "metadata": {},
   "source": [
    "Увеличение выборки"
   ]
  },
  {
   "cell_type": "code",
   "execution_count": null,
   "metadata": {},
   "outputs": [],
   "source": [
    "def upsample(features, target, repeat):\n",
    "    features_zeros = features[target == 0]\n",
    "    features_ones = features[target == 1]\n",
    "    target_zeros = target[target == 0]\n",
    "    target_ones = target[target == 1]\n",
    "\n",
    "    features_upsampled = pd.concat([features_zeros] + [features_ones] * repeat)\n",
    "    target_upsampled = pd.concat([target_zeros] + [target_ones] * repeat)\n",
    "\n",
    "    features_upsampled, target_upsampled = shuffle(\n",
    "        features_upsampled, target_upsampled, random_state=12345)\n",
    "\n",
    "    return features_upsampled, target_upsampled\n",
    "\n",
    "\n",
    "features_upsampled, target_upsampled = upsample(\n",
    "    features_train, target_train, 4)\n",
    "\n",
    "model = RandomForestClassifier(\n",
    "    max_depth=9, n_estimators=16, random_state=12345)\n",
    "model.fit(features_upsampled, target_upsampled)\n",
    "predicted_valid = model.predict(features_valid)"
   ]
  },
  {
   "cell_type": "code",
   "execution_count": null,
   "metadata": {},
   "outputs": [],
   "source": [
    "best_model_rf = None\n",
    "best_result = 0\n",
    "for est in range(1, 30):\n",
    "    for depth in range(1, 20):\n",
    "        model = RandomForestClassifier(\n",
    "            random_state=12345, n_estimators=est, max_depth=depth, class_weight='balanced')\n",
    "        model.fit(features_upsampled, target_upsampled)\n",
    "        valid_predictions = model.predict(features_valid)\n",
    "        result = f1_score(target_valid, valid_predictions)\n",
    "        if result > best_result:\n",
    "            best_model_rf = model\n",
    "            best_result = result\n",
    "\n",
    "\n",
    "print(best_model_rf)\n",
    "print(\"f1_score:\", best_result)"
   ]
  },
  {
   "cell_type": "markdown",
   "metadata": {},
   "source": [
    "Уменьшение выборки"
   ]
  },
  {
   "cell_type": "code",
   "execution_count": null,
   "metadata": {},
   "outputs": [],
   "source": [
    "def downsample(features, target, fraction):\n",
    "    features_zeros = features[target == 0]\n",
    "    features_ones = features[target == 1]\n",
    "    target_zeros = target[target == 0]\n",
    "    target_ones = target[target == 1]\n",
    "\n",
    "    features_downsampled = pd.concat(\n",
    "        [features_zeros.sample(frac=fraction, random_state=12345)] + [features_ones])\n",
    "    target_downsampled = pd.concat(\n",
    "        [target_zeros.sample(frac=fraction, random_state=12345)] + [target_ones])\n",
    "\n",
    "    features_downsampled, target_downsampled = shuffle(\n",
    "        features_downsampled, target_downsampled, random_state=12345)\n",
    "\n",
    "    return features_downsampled, target_downsampled\n",
    "\n",
    "\n",
    "features_downsampled, target_downsampled = downsample(\n",
    "    features_train, target_train, 0.5)\n",
    "\n",
    "model = RandomForestClassifier(\n",
    "    max_depth=9, n_estimators=25, random_state=12345)\n",
    "model.fit(features_downsampled, target_downsampled)\n",
    "predicted_valid = model.predict(features_valid)\n",
    "print(\"F1:\", f1_score(target_valid, predicted_valid))"
   ]
  },
  {
   "cell_type": "markdown",
   "metadata": {},
   "source": [
    "Взвешивание классов"
   ]
  },
  {
   "cell_type": "code",
   "execution_count": null,
   "metadata": {},
   "outputs": [],
   "source": [
    "model = RandomForestClassifier(\n",
    "    max_depth=9, n_estimators=21, random_state=12345, class_weight='balanced')\n",
    "model.fit(features_train, target_train)\n",
    "predicted_valid = model.predict(features_valid)\n",
    "print(\"F1:\", f1_score(target_valid, predicted_valid))"
   ]
  },
  {
   "cell_type": "markdown",
   "metadata": {},
   "source": [
    "Итого: лучшая модель  Cлучайный лес.\n",
    "на результат особо не повлияла борьба с дисбалансом. чутка повышает f1_score upsample увелечение выборки Х10. Тут если честно я не очень понял, почему при class_weight='balanced' на валидационной, снижалась метрика, \n",
    "ниже на тестовой выборке наоборот.\n",
    "Читал статью \n",
    "https://alexanderdyakonov.wordpress.com/2021/05/27/imbalance/\n",
    "из неё вывод сделал, что class_weight='balanced' желательно выполнять."
   ]
  },
  {
   "cell_type": "markdown",
   "metadata": {},
   "source": [
    "## Тестирование модели"
   ]
  },
  {
   "cell_type": "code",
   "execution_count": null,
   "metadata": {},
   "outputs": [],
   "source": [
    "model = RandomForestClassifier(\n",
    "    max_depth=10, n_estimators=26, random_state=12345, class_weight='balanced')\n",
    "model.fit(features_upsampled, target_upsampled)\n",
    "predicted_valid = model.predict(features_test)\n",
    "print(\"F1:\", f1_score(target_test, predicted_valid))"
   ]
  },
  {
   "cell_type": "code",
   "execution_count": null,
   "metadata": {},
   "outputs": [],
   "source": [
    "dummy = DummyClassifier(strategy='most_frequent').fit(\n",
    "    features_upsampled, target_upsampled)\n",
    "dummy_pred = dummy.predict(features_test)\n",
    "\n",
    "\n",
    "print(\"F1:\", f1_score(target_test, dummy_pred))"
   ]
  },
  {
   "cell_type": "code",
   "execution_count": null,
   "metadata": {},
   "outputs": [],
   "source": [
    "probabilities_valid = model.predict_proba(features_valid)\n",
    "probabilities_one_valid = probabilities_valid[:, 1]\n",
    "\n",
    "fpr, tpr, thresholds = roc_curve(target_valid, probabilities_one_valid)\n",
    "\n",
    "plt.figure()\n",
    "plt.plot(fpr, tpr)\n",
    "plt.xlim([0.0, 1.0])\n",
    "plt.ylim([0.0, 1.0])\n",
    "plt.xlabel('False Positive Rate')\n",
    "plt.ylabel('True Positive Rate')\n",
    "plt.title('ROC-кривая')\n",
    "plt.show()\n",
    "\n",
    "probabilities_valid = model.predict_proba(features_test)\n",
    "probabilities_one_valid = probabilities_test[:, 1]\n",
    "auc_roc = roc_auc_score(target_test,  probabilities_one_valid)\n",
    "print(auc_roc)"
   ]
  },
  {
   "cell_type": "markdown",
   "metadata": {},
   "source": [
    "В результате работы были проанализированы модели для задачи. Выявлены лучшие параметры для модели, которая сможет проанализировать поведение клиентов и предсказать расторжение догора с банком\n",
    "лучшая модель это RandomForestClassifier(max_depth=11, n_estimators=29)"
   ]
  }
 ],
 "metadata": {
  "ExecuteTimeLog": [
   {
    "duration": 391,
    "start_time": "2022-11-16T06:21:59.348Z"
   },
   {
    "duration": 181,
    "start_time": "2022-11-16T06:22:00.716Z"
   },
   {
    "duration": 41,
    "start_time": "2022-11-16T06:22:03.652Z"
   },
   {
    "duration": 29,
    "start_time": "2022-11-16T06:22:34.807Z"
   },
   {
    "duration": 69,
    "start_time": "2022-11-16T06:24:12.990Z"
   },
   {
    "duration": 47,
    "start_time": "2022-11-16T06:24:15.911Z"
   },
   {
    "duration": 18,
    "start_time": "2022-11-16T06:24:17.111Z"
   },
   {
    "duration": 18,
    "start_time": "2022-11-16T06:24:21.117Z"
   },
   {
    "duration": 951,
    "start_time": "2022-11-16T06:25:15.031Z"
   },
   {
    "duration": 7,
    "start_time": "2022-11-16T06:25:25.546Z"
   },
   {
    "duration": 13,
    "start_time": "2022-11-16T06:25:40.764Z"
   },
   {
    "duration": 4,
    "start_time": "2022-11-16T06:36:03.110Z"
   },
   {
    "duration": 70,
    "start_time": "2022-11-16T06:36:16.184Z"
   },
   {
    "duration": 5,
    "start_time": "2022-11-16T06:36:23.179Z"
   },
   {
    "duration": 40,
    "start_time": "2022-11-16T06:36:29.529Z"
   },
   {
    "duration": 12,
    "start_time": "2022-11-16T06:36:29.768Z"
   },
   {
    "duration": 7,
    "start_time": "2022-11-16T06:36:30.609Z"
   },
   {
    "duration": 22,
    "start_time": "2022-11-16T06:36:54.984Z"
   },
   {
    "duration": 3,
    "start_time": "2022-11-16T06:37:13.032Z"
   },
   {
    "duration": 41,
    "start_time": "2022-11-16T06:37:13.968Z"
   },
   {
    "duration": 12,
    "start_time": "2022-11-16T06:37:14.799Z"
   },
   {
    "duration": 32,
    "start_time": "2022-11-16T06:37:16.399Z"
   },
   {
    "duration": 10,
    "start_time": "2022-11-16T06:38:00.207Z"
   },
   {
    "duration": 8,
    "start_time": "2022-11-16T06:38:04.876Z"
   },
   {
    "duration": 26,
    "start_time": "2022-11-16T06:38:19.165Z"
   },
   {
    "duration": 12,
    "start_time": "2022-11-16T06:39:55.086Z"
   },
   {
    "duration": 75,
    "start_time": "2022-11-16T06:40:16.254Z"
   },
   {
    "duration": 125,
    "start_time": "2022-11-16T06:40:21.534Z"
   },
   {
    "duration": 8,
    "start_time": "2022-11-16T06:40:26.228Z"
   },
   {
    "duration": 9,
    "start_time": "2022-11-16T06:43:11.361Z"
   },
   {
    "duration": 4,
    "start_time": "2022-11-16T06:43:49.827Z"
   },
   {
    "duration": 694,
    "start_time": "2022-11-16T06:43:54.746Z"
   },
   {
    "duration": 8,
    "start_time": "2022-11-16T06:46:57.328Z"
   },
   {
    "duration": 9,
    "start_time": "2022-11-16T06:47:17.535Z"
   },
   {
    "duration": 21,
    "start_time": "2022-11-16T07:00:54.826Z"
   },
   {
    "duration": 19,
    "start_time": "2022-11-16T07:03:30.156Z"
   },
   {
    "duration": 22,
    "start_time": "2022-11-16T07:05:16.801Z"
   },
   {
    "duration": 22,
    "start_time": "2022-11-16T07:05:33.699Z"
   },
   {
    "duration": 20,
    "start_time": "2022-11-16T07:07:21.673Z"
   },
   {
    "duration": 20,
    "start_time": "2022-11-16T07:07:54.899Z"
   },
   {
    "duration": 20,
    "start_time": "2022-11-16T07:07:56.836Z"
   },
   {
    "duration": 22,
    "start_time": "2022-11-16T07:16:44.565Z"
   },
   {
    "duration": 21,
    "start_time": "2022-11-16T07:16:57.581Z"
   },
   {
    "duration": 23,
    "start_time": "2022-11-16T07:16:59.396Z"
   },
   {
    "duration": 7,
    "start_time": "2022-11-16T07:19:27.793Z"
   },
   {
    "duration": 3,
    "start_time": "2022-11-16T07:29:14.133Z"
   },
   {
    "duration": 15,
    "start_time": "2022-11-16T07:29:18.730Z"
   },
   {
    "duration": 5,
    "start_time": "2022-11-16T07:36:20.540Z"
   },
   {
    "duration": 4,
    "start_time": "2022-11-16T07:36:22.951Z"
   },
   {
    "duration": 4,
    "start_time": "2022-11-16T07:36:24.647Z"
   },
   {
    "duration": 6,
    "start_time": "2022-11-16T07:36:30.407Z"
   },
   {
    "duration": 12,
    "start_time": "2022-11-16T07:36:43.578Z"
   },
   {
    "duration": 13,
    "start_time": "2022-11-16T07:37:00.146Z"
   },
   {
    "duration": 5,
    "start_time": "2022-11-16T07:45:22.236Z"
   },
   {
    "duration": 12,
    "start_time": "2022-11-16T07:48:19.509Z"
   },
   {
    "duration": 5,
    "start_time": "2022-11-16T07:48:37.310Z"
   },
   {
    "duration": 12,
    "start_time": "2022-11-16T07:48:39.925Z"
   },
   {
    "duration": 11,
    "start_time": "2022-11-16T07:49:08.588Z"
   },
   {
    "duration": 10,
    "start_time": "2022-11-16T07:49:27.251Z"
   },
   {
    "duration": 18,
    "start_time": "2022-11-16T07:49:41.323Z"
   },
   {
    "duration": 11,
    "start_time": "2022-11-16T07:50:04.484Z"
   },
   {
    "duration": 6,
    "start_time": "2022-11-16T07:50:26.827Z"
   },
   {
    "duration": 14,
    "start_time": "2022-11-16T07:50:45.244Z"
   },
   {
    "duration": 1236,
    "start_time": "2022-11-16T07:51:25.108Z"
   },
   {
    "duration": 48,
    "start_time": "2022-11-16T07:51:26.347Z"
   },
   {
    "duration": 17,
    "start_time": "2022-11-16T07:51:26.397Z"
   },
   {
    "duration": 37,
    "start_time": "2022-11-16T07:51:26.417Z"
   },
   {
    "duration": 22,
    "start_time": "2022-11-16T07:51:26.489Z"
   },
   {
    "duration": 22,
    "start_time": "2022-11-16T07:51:26.689Z"
   },
   {
    "duration": 6,
    "start_time": "2022-11-16T07:51:26.889Z"
   },
   {
    "duration": 11,
    "start_time": "2022-11-16T07:51:27.290Z"
   },
   {
    "duration": 5,
    "start_time": "2022-11-16T07:51:27.937Z"
   },
   {
    "duration": 20,
    "start_time": "2022-11-16T07:51:28.145Z"
   },
   {
    "duration": 11,
    "start_time": "2022-11-16T07:51:29.978Z"
   },
   {
    "duration": 21,
    "start_time": "2022-11-16T07:52:14.791Z"
   },
   {
    "duration": 67,
    "start_time": "2022-11-16T08:04:18.752Z"
   },
   {
    "duration": 11,
    "start_time": "2022-11-16T08:06:21.743Z"
   },
   {
    "duration": 9,
    "start_time": "2022-11-16T08:06:32.370Z"
   },
   {
    "duration": 18,
    "start_time": "2022-11-16T08:06:37.175Z"
   },
   {
    "duration": 3,
    "start_time": "2022-11-16T08:07:34.618Z"
   },
   {
    "duration": 41,
    "start_time": "2022-11-16T08:07:35.001Z"
   },
   {
    "duration": 12,
    "start_time": "2022-11-16T08:07:35.194Z"
   },
   {
    "duration": 22,
    "start_time": "2022-11-16T08:07:35.393Z"
   },
   {
    "duration": 14,
    "start_time": "2022-11-16T08:07:35.793Z"
   },
   {
    "duration": 22,
    "start_time": "2022-11-16T08:07:36.113Z"
   },
   {
    "duration": 8,
    "start_time": "2022-11-16T08:07:36.384Z"
   },
   {
    "duration": 11,
    "start_time": "2022-11-16T08:07:38.657Z"
   },
   {
    "duration": 4,
    "start_time": "2022-11-16T08:07:39.680Z"
   },
   {
    "duration": 20,
    "start_time": "2022-11-16T08:07:40.360Z"
   },
   {
    "duration": 10,
    "start_time": "2022-11-16T08:07:43.573Z"
   },
   {
    "duration": 19,
    "start_time": "2022-11-16T08:07:44.397Z"
   },
   {
    "duration": 8,
    "start_time": "2022-11-16T08:08:00.981Z"
   },
   {
    "duration": 18,
    "start_time": "2022-11-16T08:08:01.189Z"
   },
   {
    "duration": 14,
    "start_time": "2022-11-16T08:08:17.753Z"
   },
   {
    "duration": 304,
    "start_time": "2022-11-16T08:08:19.273Z"
   },
   {
    "duration": 19,
    "start_time": "2022-11-16T08:33:59.338Z"
   },
   {
    "duration": 3,
    "start_time": "2022-11-16T08:34:05.207Z"
   },
   {
    "duration": 41,
    "start_time": "2022-11-16T08:34:05.568Z"
   },
   {
    "duration": 14,
    "start_time": "2022-11-16T08:34:05.757Z"
   },
   {
    "duration": 22,
    "start_time": "2022-11-16T08:34:05.935Z"
   },
   {
    "duration": 18,
    "start_time": "2022-11-16T08:34:06.327Z"
   },
   {
    "duration": 34,
    "start_time": "2022-11-16T08:34:06.553Z"
   },
   {
    "duration": 7,
    "start_time": "2022-11-16T08:34:06.758Z"
   },
   {
    "duration": 12,
    "start_time": "2022-11-16T08:34:07.152Z"
   },
   {
    "duration": 4,
    "start_time": "2022-11-16T08:34:07.773Z"
   },
   {
    "duration": 18,
    "start_time": "2022-11-16T08:34:08.004Z"
   },
   {
    "duration": 9,
    "start_time": "2022-11-16T08:34:08.247Z"
   },
   {
    "duration": 18,
    "start_time": "2022-11-16T08:34:08.454Z"
   },
   {
    "duration": 15,
    "start_time": "2022-11-16T08:34:09.154Z"
   },
   {
    "duration": 18,
    "start_time": "2022-11-16T08:34:09.597Z"
   },
   {
    "duration": 287,
    "start_time": "2022-11-16T08:34:24.138Z"
   },
   {
    "duration": 166,
    "start_time": "2022-11-16T08:36:44.216Z"
   },
   {
    "duration": 2144,
    "start_time": "2022-11-16T09:02:27.833Z"
   },
   {
    "duration": 22,
    "start_time": "2022-11-16T09:03:13.477Z"
   },
   {
    "duration": 2267,
    "start_time": "2022-11-16T09:04:34.493Z"
   },
   {
    "duration": 2263,
    "start_time": "2022-11-16T09:04:46.672Z"
   },
   {
    "duration": 2249,
    "start_time": "2022-11-16T09:05:24.810Z"
   },
   {
    "duration": 23545,
    "start_time": "2022-11-16T09:05:47.816Z"
   },
   {
    "duration": 0,
    "start_time": "2022-11-16T09:10:25.269Z"
   },
   {
    "duration": 354877,
    "start_time": "2022-11-16T09:10:30.017Z"
   },
   {
    "duration": 92965,
    "start_time": "2022-11-16T09:16:46.642Z"
   },
   {
    "duration": 144423,
    "start_time": "2022-11-16T09:24:46.424Z"
   },
   {
    "duration": 704,
    "start_time": "2022-11-16T09:32:27.317Z"
   },
   {
    "duration": 572275,
    "start_time": "2022-11-16T09:32:54.123Z"
   },
   {
    "duration": 438,
    "start_time": "2022-11-16T10:17:08.089Z"
   },
   {
    "duration": 16,
    "start_time": "2022-11-16T10:21:13.405Z"
   },
   {
    "duration": 3,
    "start_time": "2022-11-16T10:21:20.795Z"
   },
   {
    "duration": 4,
    "start_time": "2022-11-16T10:21:48.470Z"
   },
   {
    "duration": 359,
    "start_time": "2022-11-16T10:21:55.664Z"
   },
   {
    "duration": 381,
    "start_time": "2022-11-16T10:24:01.089Z"
   },
   {
    "duration": 9,
    "start_time": "2022-11-16T10:24:13.957Z"
   },
   {
    "duration": 276,
    "start_time": "2022-11-16T10:24:34.228Z"
   },
   {
    "duration": 289,
    "start_time": "2022-11-16T10:26:57.332Z"
   },
   {
    "duration": 572489,
    "start_time": "2022-11-16T10:27:19.114Z"
   },
   {
    "duration": 188,
    "start_time": "2022-11-16T10:36:51.605Z"
   },
   {
    "duration": 166,
    "start_time": "2022-11-16T10:53:49.312Z"
   },
   {
    "duration": 116,
    "start_time": "2022-11-16T10:53:51.824Z"
   },
   {
    "duration": 131,
    "start_time": "2022-11-16T11:32:25.222Z"
   },
   {
    "duration": 21,
    "start_time": "2022-11-16T12:20:32.906Z"
   },
   {
    "duration": 4,
    "start_time": "2022-11-16T12:20:52.378Z"
   },
   {
    "duration": 94,
    "start_time": "2022-11-16T12:20:58.936Z"
   },
   {
    "duration": 51,
    "start_time": "2022-11-16T12:21:54.234Z"
   },
   {
    "duration": 90,
    "start_time": "2022-11-16T12:22:00.128Z"
   },
   {
    "duration": 311,
    "start_time": "2022-11-16T12:23:35.363Z"
   },
   {
    "duration": 421,
    "start_time": "2022-11-16T12:23:44.304Z"
   },
   {
    "duration": 519,
    "start_time": "2022-11-16T12:23:54.219Z"
   },
   {
    "duration": 220,
    "start_time": "2022-11-16T12:23:59.385Z"
   },
   {
    "duration": 431,
    "start_time": "2022-11-16T12:24:04.527Z"
   },
   {
    "duration": 222,
    "start_time": "2022-11-16T12:24:40.005Z"
   },
   {
    "duration": 319,
    "start_time": "2022-11-16T12:24:44.270Z"
   },
   {
    "duration": 377,
    "start_time": "2022-11-16T12:24:49.933Z"
   },
   {
    "duration": 426,
    "start_time": "2022-11-16T12:24:54.949Z"
   },
   {
    "duration": 414,
    "start_time": "2022-11-16T12:24:59.545Z"
   },
   {
    "duration": 447,
    "start_time": "2022-11-16T12:25:30.831Z"
   },
   {
    "duration": 25,
    "start_time": "2022-11-16T12:30:06.568Z"
   },
   {
    "duration": 103,
    "start_time": "2022-11-16T12:30:19.051Z"
   },
   {
    "duration": 158,
    "start_time": "2022-11-16T12:31:36.186Z"
   },
   {
    "duration": 126,
    "start_time": "2022-11-16T12:31:45.215Z"
   },
   {
    "duration": 109,
    "start_time": "2022-11-16T12:31:48.751Z"
   },
   {
    "duration": 169,
    "start_time": "2022-11-16T12:31:54.013Z"
   },
   {
    "duration": 188,
    "start_time": "2022-11-16T12:32:01.352Z"
   },
   {
    "duration": 192,
    "start_time": "2022-11-16T12:32:07.438Z"
   },
   {
    "duration": 94,
    "start_time": "2022-11-16T12:32:14.356Z"
   },
   {
    "duration": 99,
    "start_time": "2022-11-16T12:32:18.044Z"
   },
   {
    "duration": 120,
    "start_time": "2022-11-16T12:32:23.816Z"
   },
   {
    "duration": 421,
    "start_time": "2022-11-16T12:35:27.219Z"
   },
   {
    "duration": 3,
    "start_time": "2022-11-16T12:36:15.796Z"
   },
   {
    "duration": 3,
    "start_time": "2022-11-16T12:36:24.089Z"
   },
   {
    "duration": 58,
    "start_time": "2022-11-16T12:48:36.877Z"
   },
   {
    "duration": 208,
    "start_time": "2022-11-16T12:48:54.774Z"
   },
   {
    "duration": 458,
    "start_time": "2022-11-16T12:49:06.410Z"
   },
   {
    "duration": 214,
    "start_time": "2022-11-16T12:49:08.119Z"
   },
   {
    "duration": 112,
    "start_time": "2022-11-16T12:49:37.149Z"
   },
   {
    "duration": 209,
    "start_time": "2022-11-16T12:49:46.912Z"
   },
   {
    "duration": 111,
    "start_time": "2022-11-16T12:49:51.734Z"
   },
   {
    "duration": 213,
    "start_time": "2022-11-16T12:49:54.117Z"
   },
   {
    "duration": 413,
    "start_time": "2022-11-16T12:49:56.924Z"
   },
   {
    "duration": 218,
    "start_time": "2022-11-16T12:49:58.027Z"
   },
   {
    "duration": 214,
    "start_time": "2022-11-16T12:52:09.867Z"
   },
   {
    "duration": 4,
    "start_time": "2022-11-16T12:52:12.366Z"
   },
   {
    "duration": 212,
    "start_time": "2022-11-16T12:52:21.715Z"
   },
   {
    "duration": 585300,
    "start_time": "2022-11-16T12:52:38.572Z"
   },
   {
    "duration": 3,
    "start_time": "2022-11-16T14:35:22.350Z"
   },
   {
    "duration": 38,
    "start_time": "2022-11-16T14:35:22.803Z"
   },
   {
    "duration": 14,
    "start_time": "2022-11-16T14:35:23.027Z"
   },
   {
    "duration": 20,
    "start_time": "2022-11-16T14:35:23.244Z"
   },
   {
    "duration": 13,
    "start_time": "2022-11-16T14:35:23.683Z"
   },
   {
    "duration": 21,
    "start_time": "2022-11-16T14:35:23.900Z"
   },
   {
    "duration": 6,
    "start_time": "2022-11-16T14:35:24.107Z"
   },
   {
    "duration": 11,
    "start_time": "2022-11-16T14:35:24.547Z"
   },
   {
    "duration": 5,
    "start_time": "2022-11-16T14:35:25.172Z"
   },
   {
    "duration": 17,
    "start_time": "2022-11-16T14:35:25.396Z"
   },
   {
    "duration": 10,
    "start_time": "2022-11-16T14:35:25.771Z"
   },
   {
    "duration": 19,
    "start_time": "2022-11-16T14:35:26.076Z"
   },
   {
    "duration": 14,
    "start_time": "2022-11-16T14:35:27.124Z"
   },
   {
    "duration": 165,
    "start_time": "2022-11-16T14:35:28.147Z"
   },
   {
    "duration": 122,
    "start_time": "2022-11-16T14:35:29.953Z"
   },
   {
    "duration": 53139,
    "start_time": "2022-11-16T14:35:45.181Z"
   },
   {
    "duration": 138,
    "start_time": "2022-11-16T14:37:51.113Z"
   },
   {
    "duration": 339,
    "start_time": "2022-11-16T14:37:58.281Z"
   },
   {
    "duration": 9,
    "start_time": "2022-11-16T14:40:24.990Z"
   },
   {
    "duration": 9,
    "start_time": "2022-11-16T14:40:33.378Z"
   },
   {
    "duration": 10,
    "start_time": "2022-11-16T14:41:01.377Z"
   },
   {
    "duration": 9,
    "start_time": "2022-11-16T14:41:11.652Z"
   },
   {
    "duration": 448,
    "start_time": "2022-11-16T14:41:20.621Z"
   },
   {
    "duration": 11,
    "start_time": "2022-11-16T14:41:29.907Z"
   },
   {
    "duration": 9,
    "start_time": "2022-11-16T14:41:38.454Z"
   },
   {
    "duration": 12,
    "start_time": "2022-11-16T14:41:45.931Z"
   },
   {
    "duration": 320,
    "start_time": "2022-11-16T14:42:15.225Z"
   },
   {
    "duration": 9,
    "start_time": "2022-11-16T14:42:17.407Z"
   },
   {
    "duration": 505,
    "start_time": "2022-11-16T14:42:24.382Z"
   },
   {
    "duration": 450,
    "start_time": "2022-11-16T14:42:30.291Z"
   },
   {
    "duration": 405,
    "start_time": "2022-11-16T14:42:35.778Z"
   },
   {
    "duration": 432,
    "start_time": "2022-11-16T14:42:40.584Z"
   },
   {
    "duration": 2543,
    "start_time": "2022-11-16T14:43:15.241Z"
   },
   {
    "duration": 1265,
    "start_time": "2022-11-16T14:43:26.101Z"
   },
   {
    "duration": 1207,
    "start_time": "2022-11-16T14:43:32.425Z"
   },
   {
    "duration": 707,
    "start_time": "2022-11-16T14:43:39.031Z"
   },
   {
    "duration": 621,
    "start_time": "2022-11-16T14:43:45.604Z"
   },
   {
    "duration": 507,
    "start_time": "2022-11-16T14:43:54.616Z"
   },
   {
    "duration": 325,
    "start_time": "2022-11-16T14:44:00.846Z"
   },
   {
    "duration": 306,
    "start_time": "2022-11-16T14:44:05.908Z"
   },
   {
    "duration": 277,
    "start_time": "2022-11-16T14:44:13.298Z"
   },
   {
    "duration": 251,
    "start_time": "2022-11-16T14:44:19.454Z"
   },
   {
    "duration": 216,
    "start_time": "2022-11-16T14:44:23.784Z"
   },
   {
    "duration": 481,
    "start_time": "2022-11-16T14:44:31.202Z"
   },
   {
    "duration": 450,
    "start_time": "2022-11-16T14:44:36.551Z"
   },
   {
    "duration": 496,
    "start_time": "2022-11-16T14:44:41.142Z"
   },
   {
    "duration": 444,
    "start_time": "2022-11-16T14:44:46.412Z"
   },
   {
    "duration": 16,
    "start_time": "2022-11-16T14:45:40.577Z"
   },
   {
    "duration": 11,
    "start_time": "2022-11-16T14:45:44.812Z"
   },
   {
    "duration": 407,
    "start_time": "2022-11-16T14:46:15.336Z"
   },
   {
    "duration": 431,
    "start_time": "2022-11-16T14:46:34.993Z"
   },
   {
    "duration": 419,
    "start_time": "2022-11-16T14:47:01.907Z"
   },
   {
    "duration": 206,
    "start_time": "2022-11-16T14:47:31.427Z"
   },
   {
    "duration": 97,
    "start_time": "2022-11-16T14:47:51.051Z"
   },
   {
    "duration": 140,
    "start_time": "2022-11-16T14:47:55.209Z"
   },
   {
    "duration": 194,
    "start_time": "2022-11-16T14:48:00.103Z"
   },
   {
    "duration": 204,
    "start_time": "2022-11-16T14:48:04.534Z"
   },
   {
    "duration": 154,
    "start_time": "2022-11-16T14:48:15.050Z"
   },
   {
    "duration": 140,
    "start_time": "2022-11-16T14:48:19.808Z"
   },
   {
    "duration": 126,
    "start_time": "2022-11-16T14:48:24.797Z"
   },
   {
    "duration": 153,
    "start_time": "2022-11-16T14:48:30.698Z"
   },
   {
    "duration": 162,
    "start_time": "2022-11-16T14:48:35.775Z"
   },
   {
    "duration": 214,
    "start_time": "2022-11-16T14:49:03.864Z"
   },
   {
    "duration": 148,
    "start_time": "2022-11-16T14:49:24.926Z"
   },
   {
    "duration": 140,
    "start_time": "2022-11-16T14:52:17.380Z"
   },
   {
    "duration": 222,
    "start_time": "2022-11-16T14:53:16.811Z"
   },
   {
    "duration": 402,
    "start_time": "2022-11-16T14:53:41.398Z"
   },
   {
    "duration": 209,
    "start_time": "2022-11-16T14:53:45.812Z"
   },
   {
    "duration": 153,
    "start_time": "2022-11-16T14:53:46.741Z"
   },
   {
    "duration": 142,
    "start_time": "2022-11-16T14:54:02.281Z"
   },
   {
    "duration": 22,
    "start_time": "2022-11-16T14:54:37.243Z"
   },
   {
    "duration": 4,
    "start_time": "2022-11-16T14:54:39.599Z"
   },
   {
    "duration": 10,
    "start_time": "2022-11-16T14:54:55.881Z"
   },
   {
    "duration": 205,
    "start_time": "2022-11-16T14:55:06.781Z"
   },
   {
    "duration": 210,
    "start_time": "2022-11-16T15:04:20.425Z"
   },
   {
    "duration": 208,
    "start_time": "2022-11-16T15:04:28.949Z"
   },
   {
    "duration": 415,
    "start_time": "2022-11-16T15:05:18.152Z"
   },
   {
    "duration": 465,
    "start_time": "2022-11-16T15:05:23.372Z"
   },
   {
    "duration": 403,
    "start_time": "2022-11-16T15:05:25.494Z"
   },
   {
    "duration": 425,
    "start_time": "2022-11-16T15:05:32.079Z"
   },
   {
    "duration": 407,
    "start_time": "2022-11-16T15:05:52.540Z"
   },
   {
    "duration": 470,
    "start_time": "2022-11-16T15:06:16.279Z"
   },
   {
    "duration": 423,
    "start_time": "2022-11-16T15:06:23.120Z"
   },
   {
    "duration": 416,
    "start_time": "2022-11-16T15:06:28.378Z"
   },
   {
    "duration": 457,
    "start_time": "2022-11-16T15:06:36.723Z"
   },
   {
    "duration": 404,
    "start_time": "2022-11-16T15:07:14.540Z"
   },
   {
    "duration": 413,
    "start_time": "2022-11-16T15:07:27.101Z"
   },
   {
    "duration": 204,
    "start_time": "2022-11-16T15:07:56.627Z"
   },
   {
    "duration": 405,
    "start_time": "2022-11-16T15:08:06.781Z"
   },
   {
    "duration": 404,
    "start_time": "2022-11-16T15:09:54.943Z"
   },
   {
    "duration": 410,
    "start_time": "2022-11-16T15:10:17.755Z"
   },
   {
    "duration": 406,
    "start_time": "2022-11-16T15:10:31.093Z"
   },
   {
    "duration": 401,
    "start_time": "2022-11-16T15:10:37.541Z"
   },
   {
    "duration": 212,
    "start_time": "2022-11-16T15:11:04.520Z"
   },
   {
    "duration": 217,
    "start_time": "2022-11-16T15:11:10.454Z"
   },
   {
    "duration": 11,
    "start_time": "2022-11-16T15:12:25.736Z"
   },
   {
    "duration": 52,
    "start_time": "2022-11-16T15:12:35.883Z"
   },
   {
    "duration": 158,
    "start_time": "2022-11-16T15:14:22.620Z"
   },
   {
    "duration": 2,
    "start_time": "2022-11-16T15:15:09.481Z"
   },
   {
    "duration": 48,
    "start_time": "2022-11-16T15:15:55.924Z"
   },
   {
    "duration": 47,
    "start_time": "2022-11-16T15:16:03.058Z"
   },
   {
    "duration": 204,
    "start_time": "2022-11-16T15:16:11.046Z"
   },
   {
    "duration": 218,
    "start_time": "2022-11-16T15:16:24.832Z"
   },
   {
    "duration": 210,
    "start_time": "2022-11-16T15:16:32.910Z"
   },
   {
    "duration": 211,
    "start_time": "2022-11-16T15:16:40.449Z"
   },
   {
    "duration": 4,
    "start_time": "2022-11-16T15:19:24.383Z"
   },
   {
    "duration": 4,
    "start_time": "2022-11-16T15:19:48.500Z"
   },
   {
    "duration": 413,
    "start_time": "2022-11-16T15:22:20.683Z"
   },
   {
    "duration": 412,
    "start_time": "2022-11-16T15:22:32.983Z"
   },
   {
    "duration": 419,
    "start_time": "2022-11-16T15:23:05.826Z"
   },
   {
    "duration": 205,
    "start_time": "2022-11-16T15:23:09.631Z"
   },
   {
    "duration": 405,
    "start_time": "2022-11-16T15:23:16.028Z"
   },
   {
    "duration": 435,
    "start_time": "2022-11-16T15:24:36.182Z"
   },
   {
    "duration": 195,
    "start_time": "2022-11-16T15:24:39.252Z"
   },
   {
    "duration": 195,
    "start_time": "2022-11-16T15:24:50.310Z"
   },
   {
    "duration": 6,
    "start_time": "2022-11-16T15:25:35.280Z"
   },
   {
    "duration": 5,
    "start_time": "2022-11-16T15:26:06.105Z"
   },
   {
    "duration": 16,
    "start_time": "2022-11-16T15:26:24.172Z"
   },
   {
    "duration": 6,
    "start_time": "2022-11-16T15:27:11.640Z"
   },
   {
    "duration": 6,
    "start_time": "2022-11-16T15:33:38.181Z"
   },
   {
    "duration": 40,
    "start_time": "2022-11-16T15:33:38.692Z"
   },
   {
    "duration": 11,
    "start_time": "2022-11-16T15:33:38.953Z"
   },
   {
    "duration": 20,
    "start_time": "2022-11-16T15:33:39.215Z"
   },
   {
    "duration": 13,
    "start_time": "2022-11-16T15:33:39.997Z"
   },
   {
    "duration": 21,
    "start_time": "2022-11-16T15:33:40.333Z"
   },
   {
    "duration": 6,
    "start_time": "2022-11-16T15:33:41.003Z"
   },
   {
    "duration": 12,
    "start_time": "2022-11-16T15:33:42.380Z"
   },
   {
    "duration": 6,
    "start_time": "2022-11-16T15:33:51.240Z"
   },
   {
    "duration": 18,
    "start_time": "2022-11-16T15:34:17.175Z"
   },
   {
    "duration": 16,
    "start_time": "2022-11-16T15:34:17.820Z"
   },
   {
    "duration": 18,
    "start_time": "2022-11-16T15:34:18.492Z"
   },
   {
    "duration": 12,
    "start_time": "2022-11-16T15:34:18.716Z"
   },
   {
    "duration": 22,
    "start_time": "2022-11-16T15:34:19.172Z"
   },
   {
    "duration": 4,
    "start_time": "2022-11-16T15:34:29.673Z"
   },
   {
    "duration": 40,
    "start_time": "2022-11-16T15:34:30.143Z"
   },
   {
    "duration": 12,
    "start_time": "2022-11-16T15:34:30.407Z"
   },
   {
    "duration": 19,
    "start_time": "2022-11-16T15:34:30.668Z"
   },
   {
    "duration": 13,
    "start_time": "2022-11-16T15:34:31.335Z"
   },
   {
    "duration": 19,
    "start_time": "2022-11-16T15:34:31.681Z"
   },
   {
    "duration": 6,
    "start_time": "2022-11-16T15:34:32.231Z"
   },
   {
    "duration": 12,
    "start_time": "2022-11-16T15:34:33.599Z"
   },
   {
    "duration": 4,
    "start_time": "2022-11-16T15:34:35.171Z"
   },
   {
    "duration": 11,
    "start_time": "2022-11-16T15:34:35.656Z"
   },
   {
    "duration": 26,
    "start_time": "2022-11-16T15:34:36.272Z"
   },
   {
    "duration": 24,
    "start_time": "2022-11-16T15:34:38.676Z"
   },
   {
    "duration": 9,
    "start_time": "2022-11-16T15:35:32.647Z"
   },
   {
    "duration": 12,
    "start_time": "2022-11-16T15:35:33.856Z"
   },
   {
    "duration": 17,
    "start_time": "2022-11-16T15:35:41.876Z"
   },
   {
    "duration": 7,
    "start_time": "2022-11-16T15:35:42.532Z"
   },
   {
    "duration": 17,
    "start_time": "2022-11-16T15:35:43.116Z"
   },
   {
    "duration": 15,
    "start_time": "2022-11-16T15:35:44.786Z"
   },
   {
    "duration": 8,
    "start_time": "2022-11-16T15:36:08.568Z"
   },
   {
    "duration": 20,
    "start_time": "2022-11-16T15:36:09.068Z"
   },
   {
    "duration": 15,
    "start_time": "2022-11-16T15:36:13.328Z"
   },
   {
    "duration": 10,
    "start_time": "2022-11-16T15:36:46.371Z"
   },
   {
    "duration": 17,
    "start_time": "2022-11-16T15:36:46.842Z"
   },
   {
    "duration": 5,
    "start_time": "2022-11-16T15:36:56.358Z"
   },
   {
    "duration": 37,
    "start_time": "2022-11-16T15:36:56.944Z"
   },
   {
    "duration": 12,
    "start_time": "2022-11-16T15:36:57.247Z"
   },
   {
    "duration": 19,
    "start_time": "2022-11-16T15:36:57.702Z"
   },
   {
    "duration": 13,
    "start_time": "2022-11-16T15:36:58.672Z"
   },
   {
    "duration": 20,
    "start_time": "2022-11-16T15:36:59.221Z"
   },
   {
    "duration": 6,
    "start_time": "2022-11-16T15:36:59.767Z"
   },
   {
    "duration": 12,
    "start_time": "2022-11-16T15:37:01.309Z"
   },
   {
    "duration": 4,
    "start_time": "2022-11-16T15:37:04.953Z"
   },
   {
    "duration": 18,
    "start_time": "2022-11-16T15:37:06.306Z"
   },
   {
    "duration": 9,
    "start_time": "2022-11-16T15:37:09.017Z"
   },
   {
    "duration": 17,
    "start_time": "2022-11-16T15:37:09.753Z"
   },
   {
    "duration": 15,
    "start_time": "2022-11-16T15:37:13.954Z"
   },
   {
    "duration": 184,
    "start_time": "2022-11-16T15:37:16.261Z"
   },
   {
    "duration": 119,
    "start_time": "2022-11-16T15:37:17.526Z"
   },
   {
    "duration": 4,
    "start_time": "2022-11-16T15:37:39.467Z"
   },
   {
    "duration": 37,
    "start_time": "2022-11-16T15:37:39.917Z"
   },
   {
    "duration": 12,
    "start_time": "2022-11-16T15:37:40.140Z"
   },
   {
    "duration": 21,
    "start_time": "2022-11-16T15:37:40.373Z"
   },
   {
    "duration": 14,
    "start_time": "2022-11-16T15:37:40.864Z"
   },
   {
    "duration": 19,
    "start_time": "2022-11-16T15:37:41.100Z"
   },
   {
    "duration": 7,
    "start_time": "2022-11-16T15:37:41.323Z"
   },
   {
    "duration": 13,
    "start_time": "2022-11-16T15:37:42.178Z"
   },
   {
    "duration": 4,
    "start_time": "2022-11-16T15:37:43.635Z"
   },
   {
    "duration": 20,
    "start_time": "2022-11-16T15:37:44.493Z"
   },
   {
    "duration": 10,
    "start_time": "2022-11-16T15:37:45.203Z"
   },
   {
    "duration": 18,
    "start_time": "2022-11-16T15:37:45.932Z"
   },
   {
    "duration": 16,
    "start_time": "2022-11-16T15:37:48.075Z"
   },
   {
    "duration": 160,
    "start_time": "2022-11-16T15:37:50.266Z"
   },
   {
    "duration": 113,
    "start_time": "2022-11-16T15:37:54.278Z"
   },
   {
    "duration": 52861,
    "start_time": "2022-11-16T15:37:56.742Z"
   },
   {
    "duration": 141,
    "start_time": "2022-11-16T15:38:49.605Z"
   },
   {
    "duration": 672,
    "start_time": "2022-11-16T15:38:49.748Z"
   },
   {
    "duration": 404,
    "start_time": "2022-11-16T15:38:50.424Z"
   },
   {
    "duration": 320,
    "start_time": "2022-11-16T15:39:11.097Z"
   },
   {
    "duration": 504,
    "start_time": "2022-11-16T15:39:12.720Z"
   },
   {
    "duration": 296,
    "start_time": "2022-11-16T15:39:13.432Z"
   },
   {
    "duration": 4,
    "start_time": "2022-11-16T15:39:17.639Z"
   },
   {
    "duration": 631,
    "start_time": "2022-11-16T15:39:18.285Z"
   },
   {
    "duration": 279,
    "start_time": "2022-11-16T15:39:19.347Z"
   },
   {
    "duration": 49,
    "start_time": "2022-11-16T15:39:32.504Z"
   },
   {
    "duration": 431,
    "start_time": "2022-11-16T15:40:03.916Z"
   },
   {
    "duration": 4,
    "start_time": "2022-11-16T15:40:04.689Z"
   },
   {
    "duration": 151,
    "start_time": "2022-11-16T15:40:17.038Z"
   },
   {
    "duration": 205,
    "start_time": "2022-11-16T15:40:19.414Z"
   },
   {
    "duration": 1128,
    "start_time": "2022-11-16T15:41:22.767Z"
   },
   {
    "duration": 214,
    "start_time": "2022-11-16T15:41:35.838Z"
   },
   {
    "duration": 965,
    "start_time": "2022-11-16T15:41:46.339Z"
   },
   {
    "duration": 7,
    "start_time": "2022-11-16T15:41:47.537Z"
   },
   {
    "duration": 8,
    "start_time": "2022-11-16T15:41:58.086Z"
   },
   {
    "duration": 967,
    "start_time": "2022-11-16T15:42:30.565Z"
   },
   {
    "duration": 6,
    "start_time": "2022-11-16T15:42:31.703Z"
   },
   {
    "duration": 10,
    "start_time": "2022-11-16T15:42:58.590Z"
   },
   {
    "duration": 1118,
    "start_time": "2022-11-16T15:43:06.252Z"
   },
   {
    "duration": 7,
    "start_time": "2022-11-16T15:43:09.145Z"
   },
   {
    "duration": 6,
    "start_time": "2022-11-16T15:43:47.289Z"
   },
   {
    "duration": 8,
    "start_time": "2022-11-16T15:43:52.087Z"
   },
   {
    "duration": 6,
    "start_time": "2022-11-16T15:45:11.248Z"
   },
   {
    "duration": 5,
    "start_time": "2022-11-16T15:46:33.545Z"
   },
   {
    "duration": 6,
    "start_time": "2022-11-16T15:46:45.316Z"
   },
   {
    "duration": 7,
    "start_time": "2022-11-16T15:46:53.329Z"
   },
   {
    "duration": 1048,
    "start_time": "2022-11-16T15:46:58.548Z"
   },
   {
    "duration": 53427,
    "start_time": "2022-11-16T15:47:59.621Z"
   },
   {
    "duration": 141,
    "start_time": "2022-11-16T15:49:32.329Z"
   },
   {
    "duration": 588,
    "start_time": "2022-11-16T15:49:33.232Z"
   },
   {
    "duration": 281,
    "start_time": "2022-11-16T15:49:36.135Z"
   },
   {
    "duration": 491,
    "start_time": "2022-11-16T15:49:50.571Z"
   },
   {
    "duration": 424,
    "start_time": "2022-11-16T15:49:57.736Z"
   },
   {
    "duration": 4,
    "start_time": "2022-11-16T15:49:59.670Z"
   },
   {
    "duration": 152,
    "start_time": "2022-11-16T15:50:02.797Z"
   },
   {
    "duration": 207,
    "start_time": "2022-11-16T15:50:06.938Z"
   },
   {
    "duration": 400,
    "start_time": "2022-11-16T15:50:18.070Z"
   },
   {
    "duration": 220,
    "start_time": "2022-11-16T15:50:48.794Z"
   },
   {
    "duration": 224,
    "start_time": "2022-11-16T15:51:00.229Z"
   },
   {
    "duration": 212,
    "start_time": "2022-11-16T15:51:06.274Z"
   },
   {
    "duration": 391,
    "start_time": "2022-11-16T15:51:19.276Z"
   },
   {
    "duration": 3,
    "start_time": "2022-11-16T15:51:32.736Z"
   },
   {
    "duration": 38,
    "start_time": "2022-11-16T15:51:33.183Z"
   },
   {
    "duration": 12,
    "start_time": "2022-11-16T15:51:33.423Z"
   },
   {
    "duration": 20,
    "start_time": "2022-11-16T15:51:33.648Z"
   },
   {
    "duration": 13,
    "start_time": "2022-11-16T15:51:34.111Z"
   },
   {
    "duration": 21,
    "start_time": "2022-11-16T15:51:34.327Z"
   },
   {
    "duration": 7,
    "start_time": "2022-11-16T15:51:34.577Z"
   },
   {
    "duration": 11,
    "start_time": "2022-11-16T15:51:35.048Z"
   },
   {
    "duration": 5,
    "start_time": "2022-11-16T15:51:35.719Z"
   },
   {
    "duration": 17,
    "start_time": "2022-11-16T15:51:35.952Z"
   },
   {
    "duration": 10,
    "start_time": "2022-11-16T15:51:36.167Z"
   },
   {
    "duration": 21,
    "start_time": "2022-11-16T15:51:36.368Z"
   },
   {
    "duration": 16,
    "start_time": "2022-11-16T15:51:37.086Z"
   },
   {
    "duration": 163,
    "start_time": "2022-11-16T15:51:37.758Z"
   },
   {
    "duration": 116,
    "start_time": "2022-11-16T15:51:37.990Z"
   },
   {
    "duration": 52644,
    "start_time": "2022-11-16T15:51:38.467Z"
   },
   {
    "duration": 149,
    "start_time": "2022-11-16T15:52:31.113Z"
   },
   {
    "duration": 558,
    "start_time": "2022-11-16T15:52:31.263Z"
   },
   {
    "duration": 408,
    "start_time": "2022-11-16T15:52:31.824Z"
   },
   {
    "duration": 614,
    "start_time": "2022-11-16T15:52:32.235Z"
   },
   {
    "duration": 4,
    "start_time": "2022-11-16T15:52:32.851Z"
   },
   {
    "duration": 166,
    "start_time": "2022-11-16T15:52:32.856Z"
   },
   {
    "duration": 214,
    "start_time": "2022-11-16T15:52:33.023Z"
   },
   {
    "duration": 397,
    "start_time": "2022-11-16T15:52:33.239Z"
   },
   {
    "duration": 5,
    "start_time": "2022-11-16T15:53:00.309Z"
   },
   {
    "duration": 5,
    "start_time": "2022-11-16T15:53:12.880Z"
   },
   {
    "duration": 6,
    "start_time": "2022-11-16T15:53:26.236Z"
   },
   {
    "duration": 6,
    "start_time": "2022-11-16T15:53:40.999Z"
   },
   {
    "duration": 9,
    "start_time": "2022-11-16T15:54:09.983Z"
   },
   {
    "duration": 211,
    "start_time": "2022-11-16T15:54:17.606Z"
   },
   {
    "duration": 424,
    "start_time": "2022-11-16T15:54:54.895Z"
   },
   {
    "duration": 409,
    "start_time": "2022-11-16T15:55:05.681Z"
   },
   {
    "duration": 51,
    "start_time": "2022-11-16T15:55:41.286Z"
   },
   {
    "duration": 216,
    "start_time": "2022-11-16T15:55:50.025Z"
   },
   {
    "duration": 223,
    "start_time": "2022-11-16T15:55:57.726Z"
   },
   {
    "duration": 409,
    "start_time": "2022-11-16T15:56:45.323Z"
   },
   {
    "duration": 448,
    "start_time": "2022-11-16T15:56:56.380Z"
   },
   {
    "duration": 419,
    "start_time": "2022-11-16T15:57:22.175Z"
   },
   {
    "duration": 4,
    "start_time": "2022-11-16T16:00:23.493Z"
   },
   {
    "duration": 426,
    "start_time": "2022-11-16T16:00:46.899Z"
   },
   {
    "duration": 405,
    "start_time": "2022-11-16T16:00:55.281Z"
   },
   {
    "duration": 410,
    "start_time": "2022-11-16T16:02:15.880Z"
   },
   {
    "duration": 398,
    "start_time": "2022-11-16T16:02:40.829Z"
   },
   {
    "duration": 416,
    "start_time": "2022-11-16T16:02:50.374Z"
   },
   {
    "duration": 425,
    "start_time": "2022-11-16T16:04:23.517Z"
   },
   {
    "duration": 401,
    "start_time": "2022-11-16T16:04:30.807Z"
   },
   {
    "duration": 417,
    "start_time": "2022-11-16T16:04:50.033Z"
   },
   {
    "duration": 417,
    "start_time": "2022-11-16T16:05:17.952Z"
   },
   {
    "duration": 415,
    "start_time": "2022-11-16T16:05:23.485Z"
   },
   {
    "duration": 413,
    "start_time": "2022-11-16T16:09:59.999Z"
   },
   {
    "duration": 441,
    "start_time": "2022-11-16T16:12:06.148Z"
   },
   {
    "duration": 6,
    "start_time": "2022-11-16T16:12:08.284Z"
   },
   {
    "duration": 4,
    "start_time": "2022-11-16T16:12:56.120Z"
   },
   {
    "duration": 38,
    "start_time": "2022-11-16T16:12:56.679Z"
   },
   {
    "duration": 12,
    "start_time": "2022-11-16T16:12:57.281Z"
   },
   {
    "duration": 21,
    "start_time": "2022-11-16T16:12:57.776Z"
   },
   {
    "duration": 13,
    "start_time": "2022-11-16T16:12:58.728Z"
   },
   {
    "duration": 20,
    "start_time": "2022-11-16T16:12:59.240Z"
   },
   {
    "duration": 7,
    "start_time": "2022-11-16T16:12:59.976Z"
   },
   {
    "duration": 11,
    "start_time": "2022-11-16T16:13:00.978Z"
   },
   {
    "duration": 6,
    "start_time": "2022-11-16T16:13:02.275Z"
   },
   {
    "duration": 17,
    "start_time": "2022-11-16T16:13:02.719Z"
   },
   {
    "duration": 10,
    "start_time": "2022-11-16T16:13:03.181Z"
   },
   {
    "duration": 14,
    "start_time": "2022-11-16T16:13:04.654Z"
   },
   {
    "duration": 173,
    "start_time": "2022-11-16T16:13:05.989Z"
   },
   {
    "duration": 111,
    "start_time": "2022-11-16T16:13:06.685Z"
   },
   {
    "duration": 53224,
    "start_time": "2022-11-16T16:13:07.533Z"
   },
   {
    "duration": 156,
    "start_time": "2022-11-16T16:14:00.759Z"
   },
   {
    "duration": 703,
    "start_time": "2022-11-16T16:14:00.917Z"
   },
   {
    "duration": 417,
    "start_time": "2022-11-16T16:14:01.623Z"
   },
   {
    "duration": 406,
    "start_time": "2022-11-16T16:18:11.285Z"
   },
   {
    "duration": 6,
    "start_time": "2022-11-16T16:18:11.747Z"
   },
   {
    "duration": 44,
    "start_time": "2022-11-16T17:58:51.216Z"
   },
   {
    "duration": 47,
    "start_time": "2022-11-16T18:05:33.942Z"
   },
   {
    "duration": 4,
    "start_time": "2022-11-16T18:09:26.281Z"
   },
   {
    "duration": 4,
    "start_time": "2022-11-16T18:09:40.336Z"
   },
   {
    "duration": 39,
    "start_time": "2022-11-16T18:09:41.823Z"
   },
   {
    "duration": 12,
    "start_time": "2022-11-16T18:09:42.367Z"
   },
   {
    "duration": 19,
    "start_time": "2022-11-16T18:09:43.758Z"
   },
   {
    "duration": 53,
    "start_time": "2022-11-16T18:09:51.787Z"
   },
   {
    "duration": 9,
    "start_time": "2022-11-16T18:10:03.471Z"
   },
   {
    "duration": 10,
    "start_time": "2022-11-16T18:10:20.408Z"
   },
   {
    "duration": 10,
    "start_time": "2022-11-16T18:24:35.563Z"
   },
   {
    "duration": 5,
    "start_time": "2022-11-16T18:24:56.547Z"
   },
   {
    "duration": 9,
    "start_time": "2022-11-16T18:25:00.249Z"
   },
   {
    "duration": 10,
    "start_time": "2022-11-16T18:25:37.099Z"
   },
   {
    "duration": 10,
    "start_time": "2022-11-16T18:27:45.271Z"
   },
   {
    "duration": 11,
    "start_time": "2022-11-16T18:28:00.273Z"
   },
   {
    "duration": 11,
    "start_time": "2022-11-16T18:29:00.737Z"
   },
   {
    "duration": 5,
    "start_time": "2022-11-16T18:29:38.181Z"
   },
   {
    "duration": 3,
    "start_time": "2022-11-16T18:29:40.328Z"
   },
   {
    "duration": 8,
    "start_time": "2022-11-16T18:29:47.271Z"
   },
   {
    "duration": 9,
    "start_time": "2022-11-16T18:29:55.123Z"
   },
   {
    "duration": 8,
    "start_time": "2022-11-16T18:30:01.609Z"
   },
   {
    "duration": 4,
    "start_time": "2022-11-16T18:30:25.896Z"
   },
   {
    "duration": 8,
    "start_time": "2022-11-16T18:30:26.659Z"
   },
   {
    "duration": 4,
    "start_time": "2022-11-16T18:30:51.725Z"
   },
   {
    "duration": 10,
    "start_time": "2022-11-16T18:31:15.891Z"
   },
   {
    "duration": 10,
    "start_time": "2022-11-16T18:31:21.097Z"
   },
   {
    "duration": 9,
    "start_time": "2022-11-16T18:31:42.370Z"
   },
   {
    "duration": 6,
    "start_time": "2022-11-16T18:31:57.090Z"
   },
   {
    "duration": 6,
    "start_time": "2022-11-16T18:32:07.864Z"
   },
   {
    "duration": 4,
    "start_time": "2022-11-16T18:32:31.198Z"
   },
   {
    "duration": 4,
    "start_time": "2022-11-16T18:32:38.395Z"
   },
   {
    "duration": 21,
    "start_time": "2022-11-16T18:32:40.850Z"
   },
   {
    "duration": 12,
    "start_time": "2022-11-16T18:32:46.574Z"
   },
   {
    "duration": 4,
    "start_time": "2022-11-16T18:32:54.660Z"
   },
   {
    "duration": 4,
    "start_time": "2022-11-16T18:32:55.203Z"
   },
   {
    "duration": 39,
    "start_time": "2022-11-16T18:33:00.721Z"
   },
   {
    "duration": 12,
    "start_time": "2022-11-16T18:33:00.956Z"
   },
   {
    "duration": 18,
    "start_time": "2022-11-16T18:33:01.602Z"
   },
   {
    "duration": 4,
    "start_time": "2022-11-16T18:33:13.444Z"
   },
   {
    "duration": 12,
    "start_time": "2022-11-16T18:33:19.938Z"
   },
   {
    "duration": 8,
    "start_time": "2022-11-16T18:33:20.619Z"
   },
   {
    "duration": 22,
    "start_time": "2022-11-16T18:34:38.067Z"
   },
   {
    "duration": 7,
    "start_time": "2022-11-16T18:34:38.682Z"
   },
   {
    "duration": 10,
    "start_time": "2022-11-16T18:34:45.648Z"
   },
   {
    "duration": 4,
    "start_time": "2022-11-16T18:34:54.285Z"
   },
   {
    "duration": 17,
    "start_time": "2022-11-16T18:34:55.588Z"
   },
   {
    "duration": 9,
    "start_time": "2022-11-16T18:35:04.696Z"
   },
   {
    "duration": 16,
    "start_time": "2022-11-16T18:35:07.096Z"
   },
   {
    "duration": 163,
    "start_time": "2022-11-16T18:35:11.278Z"
   },
   {
    "duration": 122,
    "start_time": "2022-11-16T18:35:18.603Z"
   },
   {
    "duration": 53317,
    "start_time": "2022-11-16T18:35:26.887Z"
   },
   {
    "duration": 4,
    "start_time": "2022-11-16T18:37:19.618Z"
   },
   {
    "duration": 40,
    "start_time": "2022-11-16T18:37:20.466Z"
   },
   {
    "duration": 12,
    "start_time": "2022-11-16T18:37:23.512Z"
   },
   {
    "duration": 5,
    "start_time": "2022-11-16T18:37:45.185Z"
   },
   {
    "duration": 20,
    "start_time": "2022-11-16T18:37:47.384Z"
   },
   {
    "duration": 7,
    "start_time": "2022-11-16T18:37:47.918Z"
   },
   {
    "duration": 17,
    "start_time": "2022-11-16T18:37:48.990Z"
   },
   {
    "duration": 6,
    "start_time": "2022-11-16T18:37:49.718Z"
   },
   {
    "duration": 30,
    "start_time": "2022-11-16T18:37:50.638Z"
   },
   {
    "duration": 15,
    "start_time": "2022-11-16T18:37:51.126Z"
   },
   {
    "duration": 15,
    "start_time": "2022-11-16T18:37:53.078Z"
   },
   {
    "duration": 166,
    "start_time": "2022-11-16T18:37:56.843Z"
   },
   {
    "duration": 120,
    "start_time": "2022-11-16T18:37:57.835Z"
   },
   {
    "duration": 53755,
    "start_time": "2022-11-16T18:38:03.473Z"
   },
   {
    "duration": 4,
    "start_time": "2022-11-16T18:40:00.875Z"
   },
   {
    "duration": 37,
    "start_time": "2022-11-16T18:40:01.907Z"
   },
   {
    "duration": 13,
    "start_time": "2022-11-16T18:40:02.432Z"
   },
   {
    "duration": 19,
    "start_time": "2022-11-16T18:40:03.136Z"
   },
   {
    "duration": 4,
    "start_time": "2022-11-16T18:40:05.640Z"
   },
   {
    "duration": 19,
    "start_time": "2022-11-16T18:40:27.976Z"
   },
   {
    "duration": 7,
    "start_time": "2022-11-16T18:40:28.944Z"
   },
   {
    "duration": 11,
    "start_time": "2022-11-16T18:40:30.199Z"
   },
   {
    "duration": 4,
    "start_time": "2022-11-16T18:40:31.374Z"
   },
   {
    "duration": 19,
    "start_time": "2022-11-16T18:40:32.911Z"
   },
   {
    "duration": 10,
    "start_time": "2022-11-16T18:40:33.444Z"
   },
   {
    "duration": 14,
    "start_time": "2022-11-16T18:40:35.964Z"
   },
   {
    "duration": 165,
    "start_time": "2022-11-16T18:40:38.268Z"
   },
   {
    "duration": 118,
    "start_time": "2022-11-16T18:40:38.980Z"
   },
   {
    "duration": 53084,
    "start_time": "2022-11-16T18:40:40.643Z"
   },
   {
    "duration": 301,
    "start_time": "2022-11-16T18:45:07.232Z"
   },
   {
    "duration": 251,
    "start_time": "2022-11-16T18:45:14.982Z"
   },
   {
    "duration": 294,
    "start_time": "2022-11-16T18:45:22.633Z"
   },
   {
    "duration": 315,
    "start_time": "2022-11-16T18:45:27.657Z"
   },
   {
    "duration": 297,
    "start_time": "2022-11-16T18:46:01.515Z"
   },
   {
    "duration": 325,
    "start_time": "2022-11-16T18:46:05.048Z"
   },
   {
    "duration": 334,
    "start_time": "2022-11-16T18:46:08.711Z"
   },
   {
    "duration": 305,
    "start_time": "2022-11-16T18:46:13.165Z"
   },
   {
    "duration": 331,
    "start_time": "2022-11-16T18:46:26.545Z"
   },
   {
    "duration": 53042,
    "start_time": "2022-11-16T18:48:03.494Z"
   },
   {
    "duration": 52,
    "start_time": "2022-11-16T18:55:35.215Z"
   },
   {
    "duration": 54,
    "start_time": "2022-11-17T04:16:27.640Z"
   },
   {
    "duration": 1738,
    "start_time": "2022-11-17T04:16:35.729Z"
   },
   {
    "duration": 81,
    "start_time": "2022-11-17T04:16:37.469Z"
   },
   {
    "duration": 17,
    "start_time": "2022-11-17T04:16:37.552Z"
   },
   {
    "duration": 45,
    "start_time": "2022-11-17T04:16:37.572Z"
   },
   {
    "duration": 6,
    "start_time": "2022-11-17T04:16:37.619Z"
   },
   {
    "duration": 24,
    "start_time": "2022-11-17T04:16:37.984Z"
   },
   {
    "duration": 8,
    "start_time": "2022-11-17T04:16:39.143Z"
   },
   {
    "duration": 13,
    "start_time": "2022-11-17T04:16:42.438Z"
   },
   {
    "duration": 5,
    "start_time": "2022-11-17T04:16:43.693Z"
   },
   {
    "duration": 20,
    "start_time": "2022-11-17T04:16:45.014Z"
   },
   {
    "duration": 11,
    "start_time": "2022-11-17T04:16:53.456Z"
   },
   {
    "duration": 18,
    "start_time": "2022-11-17T04:16:58.584Z"
   },
   {
    "duration": 85,
    "start_time": "2022-11-17T04:18:58.664Z"
   },
   {
    "duration": 4,
    "start_time": "2022-11-17T04:19:20.487Z"
   },
   {
    "duration": 39,
    "start_time": "2022-11-17T04:19:21.134Z"
   },
   {
    "duration": 14,
    "start_time": "2022-11-17T04:19:21.333Z"
   },
   {
    "duration": 24,
    "start_time": "2022-11-17T04:19:21.534Z"
   },
   {
    "duration": 5,
    "start_time": "2022-11-17T04:19:21.933Z"
   },
   {
    "duration": 24,
    "start_time": "2022-11-17T04:19:22.599Z"
   },
   {
    "duration": 9,
    "start_time": "2022-11-17T04:19:22.813Z"
   },
   {
    "duration": 16,
    "start_time": "2022-11-17T04:19:23.485Z"
   },
   {
    "duration": 5,
    "start_time": "2022-11-17T04:19:24.173Z"
   },
   {
    "duration": 20,
    "start_time": "2022-11-17T04:19:24.693Z"
   },
   {
    "duration": 12,
    "start_time": "2022-11-17T04:19:24.877Z"
   },
   {
    "duration": 18,
    "start_time": "2022-11-17T04:19:26.779Z"
   },
   {
    "duration": 12,
    "start_time": "2022-11-17T04:19:27.642Z"
   },
   {
    "duration": 50,
    "start_time": "2022-11-17T04:20:15.522Z"
   },
   {
    "duration": 45,
    "start_time": "2022-11-17T04:22:00.407Z"
   },
   {
    "duration": 182,
    "start_time": "2022-11-17T04:22:04.335Z"
   },
   {
    "duration": 164,
    "start_time": "2022-11-17T04:22:17.628Z"
   },
   {
    "duration": 58991,
    "start_time": "2022-11-17T04:22:20.039Z"
   },
   {
    "duration": 45,
    "start_time": "2022-11-17T04:25:38.017Z"
   },
   {
    "duration": 5,
    "start_time": "2022-11-17T04:26:14.690Z"
   },
   {
    "duration": 39,
    "start_time": "2022-11-17T04:26:15.129Z"
   },
   {
    "duration": 18,
    "start_time": "2022-11-17T04:26:15.369Z"
   },
   {
    "duration": 31,
    "start_time": "2022-11-17T04:26:15.666Z"
   },
   {
    "duration": 5,
    "start_time": "2022-11-17T04:26:16.385Z"
   },
   {
    "duration": 32,
    "start_time": "2022-11-17T04:26:18.479Z"
   },
   {
    "duration": 9,
    "start_time": "2022-11-17T04:26:20.095Z"
   },
   {
    "duration": 15,
    "start_time": "2022-11-17T04:26:23.343Z"
   },
   {
    "duration": 5,
    "start_time": "2022-11-17T04:26:24.725Z"
   },
   {
    "duration": 20,
    "start_time": "2022-11-17T04:26:25.981Z"
   },
   {
    "duration": 11,
    "start_time": "2022-11-17T04:26:26.692Z"
   },
   {
    "duration": 22,
    "start_time": "2022-11-17T04:26:29.540Z"
   },
   {
    "duration": 54,
    "start_time": "2022-11-17T04:26:47.093Z"
   },
   {
    "duration": 51,
    "start_time": "2022-11-17T04:30:27.070Z"
   },
   {
    "duration": 4,
    "start_time": "2022-11-17T04:30:45.902Z"
   },
   {
    "duration": 38,
    "start_time": "2022-11-17T04:30:46.413Z"
   },
   {
    "duration": 13,
    "start_time": "2022-11-17T04:30:46.693Z"
   },
   {
    "duration": 23,
    "start_time": "2022-11-17T04:30:46.981Z"
   },
   {
    "duration": 4,
    "start_time": "2022-11-17T04:30:48.100Z"
   },
   {
    "duration": 23,
    "start_time": "2022-11-17T04:30:50.068Z"
   },
   {
    "duration": 7,
    "start_time": "2022-11-17T04:30:50.891Z"
   },
   {
    "duration": 13,
    "start_time": "2022-11-17T04:30:52.899Z"
   },
   {
    "duration": 4,
    "start_time": "2022-11-17T04:30:54.609Z"
   },
   {
    "duration": 20,
    "start_time": "2022-11-17T04:30:56.249Z"
   },
   {
    "duration": 10,
    "start_time": "2022-11-17T04:30:56.905Z"
   },
   {
    "duration": 16,
    "start_time": "2022-11-17T04:31:01.279Z"
   },
   {
    "duration": 170,
    "start_time": "2022-11-17T04:31:07.988Z"
   },
   {
    "duration": 202,
    "start_time": "2022-11-17T04:31:15.866Z"
   },
   {
    "duration": 58211,
    "start_time": "2022-11-17T04:31:27.245Z"
   },
   {
    "duration": 23,
    "start_time": "2022-11-17T04:33:06.023Z"
   },
   {
    "duration": 23,
    "start_time": "2022-11-17T04:33:08.448Z"
   },
   {
    "duration": 10,
    "start_time": "2022-11-17T04:33:24.118Z"
   },
   {
    "duration": 34,
    "start_time": "2022-11-17T04:33:42.039Z"
   },
   {
    "duration": 179,
    "start_time": "2022-11-17T04:33:46.541Z"
   },
   {
    "duration": 126,
    "start_time": "2022-11-17T04:33:51.892Z"
   },
   {
    "duration": 59318,
    "start_time": "2022-11-17T04:33:57.906Z"
   },
   {
    "duration": 58735,
    "start_time": "2022-11-17T04:36:08.877Z"
   },
   {
    "duration": 13,
    "start_time": "2022-11-17T04:37:38.978Z"
   },
   {
    "duration": 5,
    "start_time": "2022-11-17T04:38:35.033Z"
   },
   {
    "duration": 43,
    "start_time": "2022-11-17T04:38:35.441Z"
   },
   {
    "duration": 17,
    "start_time": "2022-11-17T04:38:35.657Z"
   },
   {
    "duration": 26,
    "start_time": "2022-11-17T04:38:35.865Z"
   },
   {
    "duration": 5,
    "start_time": "2022-11-17T04:38:36.289Z"
   },
   {
    "duration": 25,
    "start_time": "2022-11-17T04:38:36.945Z"
   },
   {
    "duration": 8,
    "start_time": "2022-11-17T04:38:37.160Z"
   },
   {
    "duration": 13,
    "start_time": "2022-11-17T04:38:37.833Z"
   },
   {
    "duration": 4,
    "start_time": "2022-11-17T04:38:38.521Z"
   },
   {
    "duration": 24,
    "start_time": "2022-11-17T04:38:39.177Z"
   },
   {
    "duration": 12,
    "start_time": "2022-11-17T04:38:40.169Z"
   },
   {
    "duration": 21,
    "start_time": "2022-11-17T04:38:43.544Z"
   },
   {
    "duration": 11,
    "start_time": "2022-11-17T04:38:45.350Z"
   },
   {
    "duration": 182,
    "start_time": "2022-11-17T04:38:52.421Z"
   },
   {
    "duration": 125,
    "start_time": "2022-11-17T04:38:52.779Z"
   },
   {
    "duration": 58214,
    "start_time": "2022-11-17T04:38:56.666Z"
   },
   {
    "duration": 16,
    "start_time": "2022-11-17T04:41:53.140Z"
   },
   {
    "duration": 26,
    "start_time": "2022-11-17T04:42:02.721Z"
   },
   {
    "duration": 17,
    "start_time": "2022-11-17T04:42:19.666Z"
   },
   {
    "duration": 23,
    "start_time": "2022-11-17T04:42:28.477Z"
   },
   {
    "duration": 186,
    "start_time": "2022-11-17T04:42:35.034Z"
   },
   {
    "duration": 120,
    "start_time": "2022-11-17T04:42:36.226Z"
   },
   {
    "duration": 57336,
    "start_time": "2022-11-17T04:42:37.914Z"
   },
   {
    "duration": 162,
    "start_time": "2022-11-17T04:43:35.253Z"
   },
   {
    "duration": 234,
    "start_time": "2022-11-17T04:43:35.417Z"
   },
   {
    "duration": 306,
    "start_time": "2022-11-17T04:43:35.654Z"
   },
   {
    "duration": 191,
    "start_time": "2022-11-17T04:43:35.962Z"
   },
   {
    "duration": 48,
    "start_time": "2022-11-17T04:44:01.568Z"
   },
   {
    "duration": 182,
    "start_time": "2022-11-17T04:44:20.521Z"
   },
   {
    "duration": 128,
    "start_time": "2022-11-17T04:44:20.754Z"
   },
   {
    "duration": 56975,
    "start_time": "2022-11-17T04:44:21.865Z"
   },
   {
    "duration": 144,
    "start_time": "2022-11-17T04:45:18.842Z"
   },
   {
    "duration": 171,
    "start_time": "2022-11-17T04:45:18.988Z"
   },
   {
    "duration": 491,
    "start_time": "2022-11-17T04:45:19.162Z"
   },
   {
    "duration": 13,
    "start_time": "2022-11-17T04:46:29.823Z"
   },
   {
    "duration": 16,
    "start_time": "2022-11-17T04:46:55.348Z"
   },
   {
    "duration": 35,
    "start_time": "2022-11-17T04:46:56.164Z"
   },
   {
    "duration": 20,
    "start_time": "2022-11-17T04:47:06.127Z"
   },
   {
    "duration": 10,
    "start_time": "2022-11-17T04:47:14.340Z"
   },
   {
    "duration": 36,
    "start_time": "2022-11-17T04:47:33.493Z"
   },
   {
    "duration": 13,
    "start_time": "2022-11-17T04:47:37.026Z"
   },
   {
    "duration": 18,
    "start_time": "2022-11-17T04:47:50.694Z"
   },
   {
    "duration": 46,
    "start_time": "2022-11-17T04:47:51.189Z"
   },
   {
    "duration": 13,
    "start_time": "2022-11-17T04:47:51.837Z"
   },
   {
    "duration": 16,
    "start_time": "2022-11-17T04:48:08.599Z"
   },
   {
    "duration": 41,
    "start_time": "2022-11-17T04:48:10.598Z"
   },
   {
    "duration": 29,
    "start_time": "2022-11-17T04:48:16.916Z"
   },
   {
    "duration": 35,
    "start_time": "2022-11-17T04:48:29.088Z"
   },
   {
    "duration": 12,
    "start_time": "2022-11-17T04:48:30.231Z"
   },
   {
    "duration": 31,
    "start_time": "2022-11-17T04:48:41.827Z"
   },
   {
    "duration": 37,
    "start_time": "2022-11-17T04:48:42.435Z"
   },
   {
    "duration": 10,
    "start_time": "2022-11-17T04:48:57.203Z"
   },
   {
    "duration": 16,
    "start_time": "2022-11-17T04:49:33.532Z"
   },
   {
    "duration": 31,
    "start_time": "2022-11-17T04:50:06.584Z"
   },
   {
    "duration": 24,
    "start_time": "2022-11-17T04:50:12.502Z"
   },
   {
    "duration": 9,
    "start_time": "2022-11-17T04:50:14.294Z"
   },
   {
    "duration": 20,
    "start_time": "2022-11-17T04:50:27.542Z"
   },
   {
    "duration": 32,
    "start_time": "2022-11-17T04:50:28.134Z"
   },
   {
    "duration": 13,
    "start_time": "2022-11-17T04:50:29.470Z"
   },
   {
    "duration": 31,
    "start_time": "2022-11-17T04:50:42.593Z"
   },
   {
    "duration": 9,
    "start_time": "2022-11-17T04:50:43.265Z"
   },
   {
    "duration": 195,
    "start_time": "2022-11-17T04:50:49.039Z"
   },
   {
    "duration": 141,
    "start_time": "2022-11-17T04:50:49.800Z"
   },
   {
    "duration": 57291,
    "start_time": "2022-11-17T04:50:51.031Z"
   },
   {
    "duration": 158,
    "start_time": "2022-11-17T04:51:48.324Z"
   },
   {
    "duration": 268,
    "start_time": "2022-11-17T04:51:48.484Z"
   },
   {
    "duration": 406,
    "start_time": "2022-11-17T04:51:48.755Z"
   },
   {
    "duration": 56711,
    "start_time": "2022-11-17T04:55:05.240Z"
   },
   {
    "duration": 147,
    "start_time": "2022-11-17T04:58:38.029Z"
   },
   {
    "duration": 281,
    "start_time": "2022-11-17T04:58:57.028Z"
   },
   {
    "duration": 269,
    "start_time": "2022-11-17T04:59:08.992Z"
   },
   {
    "duration": 246,
    "start_time": "2022-11-17T04:59:27.600Z"
   },
   {
    "duration": 282,
    "start_time": "2022-11-17T04:59:32.471Z"
   },
   {
    "duration": 233,
    "start_time": "2022-11-17T04:59:39.069Z"
   },
   {
    "duration": 254,
    "start_time": "2022-11-17T04:59:44.443Z"
   },
   {
    "duration": 29,
    "start_time": "2022-11-17T05:00:22.300Z"
   },
   {
    "duration": 10,
    "start_time": "2022-11-17T05:00:22.603Z"
   },
   {
    "duration": 171,
    "start_time": "2022-11-17T05:00:23.969Z"
   },
   {
    "duration": 125,
    "start_time": "2022-11-17T05:00:24.305Z"
   },
   {
    "duration": 58854,
    "start_time": "2022-11-17T05:00:25.248Z"
   },
   {
    "duration": 178,
    "start_time": "2022-11-17T05:01:24.104Z"
   },
   {
    "duration": 485,
    "start_time": "2022-11-17T05:01:24.284Z"
   },
   {
    "duration": 437,
    "start_time": "2022-11-17T05:01:24.772Z"
   },
   {
    "duration": 55231,
    "start_time": "2022-11-17T05:02:45.937Z"
   },
   {
    "duration": 147,
    "start_time": "2022-11-17T05:03:41.170Z"
   },
   {
    "duration": 238,
    "start_time": "2022-11-17T05:03:41.319Z"
   },
   {
    "duration": 414,
    "start_time": "2022-11-17T05:03:41.560Z"
   },
   {
    "duration": 416,
    "start_time": "2022-11-17T05:03:41.977Z"
   },
   {
    "duration": 155,
    "start_time": "2022-11-17T05:05:21.812Z"
   },
   {
    "duration": 123,
    "start_time": "2022-11-17T05:05:28.257Z"
   },
   {
    "duration": 149,
    "start_time": "2022-11-17T05:05:32.488Z"
   },
   {
    "duration": 148,
    "start_time": "2022-11-17T05:05:36.204Z"
   },
   {
    "duration": 171,
    "start_time": "2022-11-17T05:05:39.869Z"
   },
   {
    "duration": 162,
    "start_time": "2022-11-17T05:05:43.858Z"
   },
   {
    "duration": 275,
    "start_time": "2022-11-17T05:07:47.345Z"
   },
   {
    "duration": 180,
    "start_time": "2022-11-17T05:22:08.354Z"
   },
   {
    "duration": 178,
    "start_time": "2022-11-17T05:22:33.536Z"
   },
   {
    "duration": 79670,
    "start_time": "2022-11-17T05:23:40.941Z"
   },
   {
    "duration": 65,
    "start_time": "2022-11-17T05:26:55.348Z"
   },
   {
    "duration": 79596,
    "start_time": "2022-11-17T05:27:05.905Z"
   },
   {
    "duration": 301,
    "start_time": "2022-11-17T05:28:46.315Z"
   },
   {
    "duration": 297,
    "start_time": "2022-11-17T05:29:07.514Z"
   },
   {
    "duration": 323,
    "start_time": "2022-11-17T05:30:10.432Z"
   },
   {
    "duration": 302,
    "start_time": "2022-11-17T05:31:04.204Z"
   },
   {
    "duration": 327,
    "start_time": "2022-11-17T05:31:08.025Z"
   },
   {
    "duration": 344,
    "start_time": "2022-11-17T05:31:19.573Z"
   },
   {
    "duration": 310,
    "start_time": "2022-11-17T05:31:26.562Z"
   },
   {
    "duration": 19,
    "start_time": "2022-11-17T05:31:54.528Z"
   },
   {
    "duration": 21,
    "start_time": "2022-11-17T05:32:23.643Z"
   },
   {
    "duration": 24,
    "start_time": "2022-11-17T05:32:28.122Z"
   },
   {
    "duration": 15,
    "start_time": "2022-11-17T05:32:36.047Z"
   },
   {
    "duration": 18,
    "start_time": "2022-11-17T05:32:59.974Z"
   },
   {
    "duration": 21,
    "start_time": "2022-11-17T05:33:04.916Z"
   },
   {
    "duration": 21,
    "start_time": "2022-11-17T05:33:08.296Z"
   },
   {
    "duration": 21,
    "start_time": "2022-11-17T05:33:34.351Z"
   },
   {
    "duration": 26,
    "start_time": "2022-11-17T05:33:35.830Z"
   },
   {
    "duration": 296,
    "start_time": "2022-11-17T05:33:40.668Z"
   },
   {
    "duration": 17,
    "start_time": "2022-11-17T05:33:47.466Z"
   },
   {
    "duration": 15,
    "start_time": "2022-11-17T05:34:06.995Z"
   },
   {
    "duration": 21,
    "start_time": "2022-11-17T05:34:16.918Z"
   },
   {
    "duration": 32,
    "start_time": "2022-11-17T05:34:18.070Z"
   },
   {
    "duration": 32,
    "start_time": "2022-11-17T05:34:30.577Z"
   },
   {
    "duration": 10,
    "start_time": "2022-11-17T05:34:51.089Z"
   },
   {
    "duration": 16,
    "start_time": "2022-11-17T05:35:17.686Z"
   },
   {
    "duration": 314,
    "start_time": "2022-11-17T05:35:21.685Z"
   },
   {
    "duration": 6,
    "start_time": "2022-11-17T05:36:40.882Z"
   },
   {
    "duration": 151,
    "start_time": "2022-11-17T05:37:04.891Z"
   },
   {
    "duration": 73,
    "start_time": "2022-11-17T05:44:39.471Z"
   },
   {
    "duration": 185,
    "start_time": "2022-11-17T05:44:48.228Z"
   },
   {
    "duration": 184,
    "start_time": "2022-11-17T05:44:51.106Z"
   },
   {
    "duration": 286,
    "start_time": "2022-11-17T05:45:07.634Z"
   },
   {
    "duration": 4,
    "start_time": "2022-11-17T05:46:15.320Z"
   },
   {
    "duration": 41,
    "start_time": "2022-11-17T05:46:16.143Z"
   },
   {
    "duration": 13,
    "start_time": "2022-11-17T05:46:20.869Z"
   },
   {
    "duration": 25,
    "start_time": "2022-11-17T05:46:21.508Z"
   },
   {
    "duration": 5,
    "start_time": "2022-11-17T05:46:22.764Z"
   },
   {
    "duration": 5,
    "start_time": "2022-11-17T05:46:53.704Z"
   },
   {
    "duration": 36,
    "start_time": "2022-11-17T05:46:54.264Z"
   },
   {
    "duration": 14,
    "start_time": "2022-11-17T05:46:54.552Z"
   },
   {
    "duration": 21,
    "start_time": "2022-11-17T05:46:55.272Z"
   },
   {
    "duration": 5,
    "start_time": "2022-11-17T05:46:56.368Z"
   },
   {
    "duration": 25,
    "start_time": "2022-11-17T05:46:57.718Z"
   },
   {
    "duration": 7,
    "start_time": "2022-11-17T05:46:58.116Z"
   },
   {
    "duration": 14,
    "start_time": "2022-11-17T05:46:59.085Z"
   },
   {
    "duration": 4,
    "start_time": "2022-11-17T05:46:59.917Z"
   },
   {
    "duration": 20,
    "start_time": "2022-11-17T05:47:00.557Z"
   },
   {
    "duration": 12,
    "start_time": "2022-11-17T05:47:01.005Z"
   },
   {
    "duration": 24,
    "start_time": "2022-11-17T05:47:02.126Z"
   },
   {
    "duration": 36,
    "start_time": "2022-11-17T05:47:02.357Z"
   },
   {
    "duration": 186,
    "start_time": "2022-11-17T05:47:04.867Z"
   },
   {
    "duration": 135,
    "start_time": "2022-11-17T05:47:05.235Z"
   },
   {
    "duration": 58484,
    "start_time": "2022-11-17T05:47:08.971Z"
   },
   {
    "duration": 156,
    "start_time": "2022-11-17T05:49:15.057Z"
   },
   {
    "duration": 175,
    "start_time": "2022-11-17T05:49:16.880Z"
   },
   {
    "duration": 323,
    "start_time": "2022-11-17T05:49:17.528Z"
   },
   {
    "duration": 255,
    "start_time": "2022-11-17T05:50:12.219Z"
   },
   {
    "duration": 174,
    "start_time": "2022-11-17T05:50:38.665Z"
   },
   {
    "duration": 138,
    "start_time": "2022-11-17T05:50:44.263Z"
   },
   {
    "duration": 168,
    "start_time": "2022-11-17T05:51:15.872Z"
   },
   {
    "duration": 86,
    "start_time": "2022-11-17T05:51:22.901Z"
   },
   {
    "duration": 79,
    "start_time": "2022-11-17T05:51:27.070Z"
   },
   {
    "duration": 201,
    "start_time": "2022-11-17T05:51:30.402Z"
   },
   {
    "duration": 79075,
    "start_time": "2022-11-17T05:51:53.042Z"
   },
   {
    "duration": 180,
    "start_time": "2022-11-17T05:54:15.096Z"
   },
   {
    "duration": 177,
    "start_time": "2022-11-17T05:54:23.166Z"
   },
   {
    "duration": 175,
    "start_time": "2022-11-17T05:54:27.142Z"
   },
   {
    "duration": 171,
    "start_time": "2022-11-17T05:54:37.273Z"
   },
   {
    "duration": 98,
    "start_time": "2022-11-17T05:55:57.465Z"
   },
   {
    "duration": 171,
    "start_time": "2022-11-17T05:56:25.932Z"
   },
   {
    "duration": 183,
    "start_time": "2022-11-17T05:56:36.273Z"
   },
   {
    "duration": 212,
    "start_time": "2022-11-17T05:56:54.097Z"
   },
   {
    "duration": 42552,
    "start_time": "2022-11-17T05:57:44.630Z"
   },
   {
    "duration": 80804,
    "start_time": "2022-11-17T05:58:52.955Z"
   },
   {
    "duration": 194,
    "start_time": "2022-11-17T06:00:13.761Z"
   },
   {
    "duration": 163,
    "start_time": "2022-11-17T06:01:35.627Z"
   },
   {
    "duration": 160,
    "start_time": "2022-11-17T06:01:45.702Z"
   },
   {
    "duration": 145,
    "start_time": "2022-11-17T06:01:51.883Z"
   },
   {
    "duration": 154,
    "start_time": "2022-11-17T06:01:56.665Z"
   },
   {
    "duration": 168,
    "start_time": "2022-11-17T06:02:01.910Z"
   },
   {
    "duration": 152,
    "start_time": "2022-11-17T06:02:06.679Z"
   },
   {
    "duration": 76682,
    "start_time": "2022-11-17T06:02:43.505Z"
   },
   {
    "duration": 125,
    "start_time": "2022-11-17T06:04:40.521Z"
   },
   {
    "duration": 149,
    "start_time": "2022-11-17T06:04:48.852Z"
   },
   {
    "duration": 96,
    "start_time": "2022-11-17T06:04:53.793Z"
   },
   {
    "duration": 99,
    "start_time": "2022-11-17T06:04:58.745Z"
   },
   {
    "duration": 96,
    "start_time": "2022-11-17T06:05:08.757Z"
   },
   {
    "duration": 178,
    "start_time": "2022-11-17T06:05:31.563Z"
   },
   {
    "duration": 262,
    "start_time": "2022-11-17T06:05:40.081Z"
   },
   {
    "duration": 159,
    "start_time": "2022-11-17T06:05:46.214Z"
   },
   {
    "duration": 165,
    "start_time": "2022-11-17T06:06:18.426Z"
   },
   {
    "duration": 81066,
    "start_time": "2022-11-17T06:06:27.757Z"
   },
   {
    "duration": 173,
    "start_time": "2022-11-17T06:07:51.744Z"
   },
   {
    "duration": 161,
    "start_time": "2022-11-17T06:07:57.314Z"
   },
   {
    "duration": 155,
    "start_time": "2022-11-17T06:08:01.817Z"
   },
   {
    "duration": 74941,
    "start_time": "2022-11-17T06:09:44.167Z"
   },
   {
    "duration": 80284,
    "start_time": "2022-11-17T06:12:01.321Z"
   },
   {
    "duration": 8855,
    "start_time": "2022-11-17T06:15:02.433Z"
   },
   {
    "duration": 42249,
    "start_time": "2022-11-17T06:15:21.625Z"
   },
   {
    "duration": 271,
    "start_time": "2022-11-17T06:16:30.165Z"
   },
   {
    "duration": 7,
    "start_time": "2022-11-17T06:16:38.427Z"
   },
   {
    "duration": 153,
    "start_time": "2022-11-17T06:16:39.322Z"
   },
   {
    "duration": 276,
    "start_time": "2022-11-17T06:17:02.760Z"
   },
   {
    "duration": 4,
    "start_time": "2022-11-17T06:17:32.580Z"
   },
   {
    "duration": 35,
    "start_time": "2022-11-17T06:17:33.549Z"
   },
   {
    "duration": 17,
    "start_time": "2022-11-17T06:17:34.165Z"
   },
   {
    "duration": 29,
    "start_time": "2022-11-17T06:17:34.716Z"
   },
   {
    "duration": 4,
    "start_time": "2022-11-17T06:17:35.969Z"
   },
   {
    "duration": 30,
    "start_time": "2022-11-17T06:17:38.138Z"
   },
   {
    "duration": 8,
    "start_time": "2022-11-17T06:17:38.769Z"
   },
   {
    "duration": 13,
    "start_time": "2022-11-17T06:17:40.354Z"
   },
   {
    "duration": 5,
    "start_time": "2022-11-17T06:17:42.605Z"
   },
   {
    "duration": 19,
    "start_time": "2022-11-17T06:17:43.672Z"
   },
   {
    "duration": 10,
    "start_time": "2022-11-17T06:17:44.215Z"
   },
   {
    "duration": 22,
    "start_time": "2022-11-17T06:17:46.119Z"
   },
   {
    "duration": 14,
    "start_time": "2022-11-17T06:17:53.595Z"
   },
   {
    "duration": 41,
    "start_time": "2022-11-17T06:17:54.154Z"
   },
   {
    "duration": 185,
    "start_time": "2022-11-17T06:18:01.312Z"
   },
   {
    "duration": 128,
    "start_time": "2022-11-17T06:18:03.056Z"
   },
   {
    "duration": 58767,
    "start_time": "2022-11-17T06:18:05.024Z"
   },
   {
    "duration": 160,
    "start_time": "2022-11-17T06:19:03.793Z"
   },
   {
    "duration": 399,
    "start_time": "2022-11-17T06:19:03.954Z"
   },
   {
    "duration": 400,
    "start_time": "2022-11-17T06:19:04.356Z"
   },
   {
    "duration": 79598,
    "start_time": "2022-11-17T06:23:14.250Z"
   },
   {
    "duration": 167,
    "start_time": "2022-11-17T06:25:09.878Z"
   },
   {
    "duration": 156,
    "start_time": "2022-11-17T06:25:14.644Z"
   },
   {
    "duration": 200,
    "start_time": "2022-11-17T06:26:08.470Z"
   },
   {
    "duration": 309,
    "start_time": "2022-11-17T06:26:19.441Z"
   },
   {
    "duration": 6,
    "start_time": "2022-11-17T06:26:22.721Z"
   },
   {
    "duration": 152,
    "start_time": "2022-11-17T06:26:24.111Z"
   },
   {
    "duration": 50,
    "start_time": "2022-11-17T10:53:30.071Z"
   },
   {
    "duration": 1503,
    "start_time": "2022-11-17T10:53:37.820Z"
   },
   {
    "duration": 164,
    "start_time": "2022-11-17T10:53:39.324Z"
   },
   {
    "duration": 13,
    "start_time": "2022-11-17T10:53:39.489Z"
   },
   {
    "duration": 31,
    "start_time": "2022-11-17T10:53:39.504Z"
   },
   {
    "duration": 3,
    "start_time": "2022-11-17T10:58:15.671Z"
   },
   {
    "duration": 21,
    "start_time": "2022-11-17T10:58:17.221Z"
   },
   {
    "duration": 6,
    "start_time": "2022-11-17T10:58:17.405Z"
   },
   {
    "duration": 12,
    "start_time": "2022-11-17T10:58:17.949Z"
   },
   {
    "duration": 4,
    "start_time": "2022-11-17T10:58:18.540Z"
   },
   {
    "duration": 17,
    "start_time": "2022-11-17T10:58:18.925Z"
   },
   {
    "duration": 11,
    "start_time": "2022-11-17T10:58:19.116Z"
   },
   {
    "duration": 14,
    "start_time": "2022-11-17T10:58:19.900Z"
   },
   {
    "duration": 32,
    "start_time": "2022-11-17T10:58:20.092Z"
   },
   {
    "duration": 165,
    "start_time": "2022-11-17T10:58:20.884Z"
   },
   {
    "duration": 120,
    "start_time": "2022-11-17T10:58:21.083Z"
   },
   {
    "duration": 52449,
    "start_time": "2022-11-17T10:58:21.476Z"
   },
   {
    "duration": 147,
    "start_time": "2022-11-17T10:59:13.927Z"
   },
   {
    "duration": 239,
    "start_time": "2022-11-17T10:59:14.076Z"
   },
   {
    "duration": 304,
    "start_time": "2022-11-17T10:59:14.318Z"
   },
   {
    "duration": 330,
    "start_time": "2022-11-17T10:59:14.624Z"
   },
   {
    "duration": 73867,
    "start_time": "2022-11-17T10:59:14.956Z"
   },
   {
    "duration": 126,
    "start_time": "2022-11-17T11:00:28.824Z"
   },
   {
    "duration": 157,
    "start_time": "2022-11-17T11:00:28.952Z"
   },
   {
    "duration": 247,
    "start_time": "2022-11-17T11:00:29.111Z"
   },
   {
    "duration": 6,
    "start_time": "2022-11-17T11:00:29.360Z"
   },
   {
    "duration": 210,
    "start_time": "2022-11-17T11:00:29.368Z"
   },
   {
    "duration": 1497,
    "start_time": "2022-11-30T15:19:26.306Z"
   },
   {
    "duration": 96,
    "start_time": "2022-11-30T15:19:27.805Z"
   },
   {
    "duration": 13,
    "start_time": "2022-11-30T15:19:27.903Z"
   },
   {
    "duration": 25,
    "start_time": "2022-11-30T15:19:27.918Z"
   },
   {
    "duration": 4,
    "start_time": "2022-11-30T15:19:28.923Z"
   },
   {
    "duration": 24,
    "start_time": "2022-11-30T15:19:30.916Z"
   },
   {
    "duration": 7,
    "start_time": "2022-11-30T15:19:31.571Z"
   },
   {
    "duration": 13,
    "start_time": "2022-11-30T15:19:32.715Z"
   },
   {
    "duration": 4,
    "start_time": "2022-11-30T15:19:33.955Z"
   },
   {
    "duration": 22,
    "start_time": "2022-11-30T15:19:34.921Z"
   },
   {
    "duration": 10,
    "start_time": "2022-11-30T15:19:35.464Z"
   },
   {
    "duration": 15,
    "start_time": "2022-11-30T15:19:37.521Z"
   },
   {
    "duration": 31,
    "start_time": "2022-11-30T15:19:38.137Z"
   },
   {
    "duration": 33,
    "start_time": "2022-11-30T15:19:43.623Z"
   },
   {
    "duration": 15,
    "start_time": "2022-11-30T15:19:54.195Z"
   },
   {
    "duration": 112,
    "start_time": "2022-11-30T15:20:02.177Z"
   },
   {
    "duration": 6,
    "start_time": "2022-11-30T15:20:13.874Z"
   },
   {
    "duration": 15,
    "start_time": "2022-11-30T15:20:30.076Z"
   },
   {
    "duration": 15,
    "start_time": "2022-11-30T15:20:34.187Z"
   },
   {
    "duration": 6,
    "start_time": "2022-11-30T15:20:34.916Z"
   }
  ],
  "kernelspec": {
   "display_name": "Python 3 (ipykernel)",
   "language": "python",
   "name": "python3"
  },
  "language_info": {
   "codemirror_mode": {
    "name": "ipython",
    "version": 3
   },
   "file_extension": ".py",
   "mimetype": "text/x-python",
   "name": "python",
   "nbconvert_exporter": "python",
   "pygments_lexer": "ipython3",
   "version": "3.9.13"
  },
  "toc": {
   "base_numbering": 1,
   "nav_menu": {},
   "number_sections": true,
   "sideBar": true,
   "skip_h1_title": true,
   "title_cell": "Содержание",
   "title_sidebar": "Contents",
   "toc_cell": true,
   "toc_position": {},
   "toc_section_display": true,
   "toc_window_display": true
  }
 },
 "nbformat": 4,
 "nbformat_minor": 2
}
