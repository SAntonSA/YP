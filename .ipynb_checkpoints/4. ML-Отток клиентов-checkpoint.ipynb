{
 "cells": [
  {
   "cell_type": "markdown",
   "metadata": {},
   "source": [
    "# Рекомендация тарифов"
   ]
  },
  {
   "cell_type": "markdown",
   "metadata": {},
   "source": [
    "В вашем распоряжении данные о поведении клиентов, которые уже перешли на эти тарифы (из проекта курса «Статистический анализ данных»). Нужно построить модель для задачи классификации, которая выберет подходящий тариф. Предобработка данных не понадобится — вы её уже сделали.\n",
    "\n",
    "Постройте модель с максимально большим значением *accuracy*. Чтобы сдать проект успешно, нужно довести долю правильных ответов по крайней мере до 0.75. Проверьте *accuracy* на тестовой выборке самостоятельно."
   ]
  },
  {
   "cell_type": "markdown",
   "metadata": {},
   "source": [
    "## Откройте и изучите файл"
   ]
  },
  {
   "cell_type": "markdown",
   "metadata": {},
   "source": [
    "импортируем библиотеки"
   ]
  },
  {
   "cell_type": "code",
   "execution_count": 53,
   "metadata": {},
   "outputs": [],
   "source": [
    "import pandas as pd\n",
    "from sklearn.model_selection import train_test_split \n",
    "from sklearn.tree import DecisionTreeClassifier\n",
    "from sklearn.metrics import accuracy_score\n",
    "from sklearn.ensemble import RandomForestClassifier\n",
    "from sklearn.linear_model import LogisticRegression \n",
    "import matplotlib.pyplot as plt"
   ]
  },
  {
   "cell_type": "code",
   "execution_count": 54,
   "metadata": {},
   "outputs": [],
   "source": [
    "try:\n",
    "    df = pd.read_csv('datasets/users_behavior.csv')\n",
    "except:\n",
    "    df = pd.read_csv('/datasets/users_behavior.csv')\n",
    "data.head(100)"
   ]
  },
  {
   "cell_type": "markdown",
   "metadata": {},
   "source": [
    "изучим файл"
   ]
  },
  {
   "cell_type": "code",
   "execution_count": 55,
   "metadata": {},
   "outputs": [
    {
     "data": {
      "text/html": [
       "<div>\n",
       "<style scoped>\n",
       "    .dataframe tbody tr th:only-of-type {\n",
       "        vertical-align: middle;\n",
       "    }\n",
       "\n",
       "    .dataframe tbody tr th {\n",
       "        vertical-align: top;\n",
       "    }\n",
       "\n",
       "    .dataframe thead th {\n",
       "        text-align: right;\n",
       "    }\n",
       "</style>\n",
       "<table border=\"1\" class=\"dataframe\">\n",
       "  <thead>\n",
       "    <tr style=\"text-align: right;\">\n",
       "      <th></th>\n",
       "      <th>calls</th>\n",
       "      <th>minutes</th>\n",
       "      <th>messages</th>\n",
       "      <th>mb_used</th>\n",
       "      <th>is_ultra</th>\n",
       "    </tr>\n",
       "  </thead>\n",
       "  <tbody>\n",
       "    <tr>\n",
       "      <th>0</th>\n",
       "      <td>40.0</td>\n",
       "      <td>311.90</td>\n",
       "      <td>83.0</td>\n",
       "      <td>19915.42</td>\n",
       "      <td>0</td>\n",
       "    </tr>\n",
       "    <tr>\n",
       "      <th>1</th>\n",
       "      <td>85.0</td>\n",
       "      <td>516.75</td>\n",
       "      <td>56.0</td>\n",
       "      <td>22696.96</td>\n",
       "      <td>0</td>\n",
       "    </tr>\n",
       "    <tr>\n",
       "      <th>2</th>\n",
       "      <td>77.0</td>\n",
       "      <td>467.66</td>\n",
       "      <td>86.0</td>\n",
       "      <td>21060.45</td>\n",
       "      <td>0</td>\n",
       "    </tr>\n",
       "    <tr>\n",
       "      <th>3</th>\n",
       "      <td>106.0</td>\n",
       "      <td>745.53</td>\n",
       "      <td>81.0</td>\n",
       "      <td>8437.39</td>\n",
       "      <td>1</td>\n",
       "    </tr>\n",
       "    <tr>\n",
       "      <th>4</th>\n",
       "      <td>66.0</td>\n",
       "      <td>418.74</td>\n",
       "      <td>1.0</td>\n",
       "      <td>14502.75</td>\n",
       "      <td>0</td>\n",
       "    </tr>\n",
       "    <tr>\n",
       "      <th>5</th>\n",
       "      <td>58.0</td>\n",
       "      <td>344.56</td>\n",
       "      <td>21.0</td>\n",
       "      <td>15823.37</td>\n",
       "      <td>0</td>\n",
       "    </tr>\n",
       "    <tr>\n",
       "      <th>6</th>\n",
       "      <td>57.0</td>\n",
       "      <td>431.64</td>\n",
       "      <td>20.0</td>\n",
       "      <td>3738.90</td>\n",
       "      <td>1</td>\n",
       "    </tr>\n",
       "    <tr>\n",
       "      <th>7</th>\n",
       "      <td>15.0</td>\n",
       "      <td>132.40</td>\n",
       "      <td>6.0</td>\n",
       "      <td>21911.60</td>\n",
       "      <td>0</td>\n",
       "    </tr>\n",
       "    <tr>\n",
       "      <th>8</th>\n",
       "      <td>7.0</td>\n",
       "      <td>43.39</td>\n",
       "      <td>3.0</td>\n",
       "      <td>2538.67</td>\n",
       "      <td>1</td>\n",
       "    </tr>\n",
       "    <tr>\n",
       "      <th>9</th>\n",
       "      <td>90.0</td>\n",
       "      <td>665.41</td>\n",
       "      <td>38.0</td>\n",
       "      <td>17358.61</td>\n",
       "      <td>0</td>\n",
       "    </tr>\n",
       "  </tbody>\n",
       "</table>\n",
       "</div>"
      ],
      "text/plain": [
       "   calls  minutes  messages   mb_used  is_ultra\n",
       "0   40.0   311.90      83.0  19915.42         0\n",
       "1   85.0   516.75      56.0  22696.96         0\n",
       "2   77.0   467.66      86.0  21060.45         0\n",
       "3  106.0   745.53      81.0   8437.39         1\n",
       "4   66.0   418.74       1.0  14502.75         0\n",
       "5   58.0   344.56      21.0  15823.37         0\n",
       "6   57.0   431.64      20.0   3738.90         1\n",
       "7   15.0   132.40       6.0  21911.60         0\n",
       "8    7.0    43.39       3.0   2538.67         1\n",
       "9   90.0   665.41      38.0  17358.61         0"
      ]
     },
     "execution_count": 55,
     "metadata": {},
     "output_type": "execute_result"
    }
   ],
   "source": [
    "df.head(10)"
   ]
  },
  {
   "cell_type": "code",
   "execution_count": 56,
   "metadata": {},
   "outputs": [
    {
     "name": "stdout",
     "output_type": "stream",
     "text": [
      "<class 'pandas.core.frame.DataFrame'>\n",
      "RangeIndex: 3214 entries, 0 to 3213\n",
      "Data columns (total 5 columns):\n",
      " #   Column    Non-Null Count  Dtype  \n",
      "---  ------    --------------  -----  \n",
      " 0   calls     3214 non-null   float64\n",
      " 1   minutes   3214 non-null   float64\n",
      " 2   messages  3214 non-null   float64\n",
      " 3   mb_used   3214 non-null   float64\n",
      " 4   is_ultra  3214 non-null   int64  \n",
      "dtypes: float64(4), int64(1)\n",
      "memory usage: 125.7 KB\n"
     ]
    }
   ],
   "source": [
    "df.info()"
   ]
  },
  {
   "cell_type": "code",
   "execution_count": 57,
   "metadata": {},
   "outputs": [
    {
     "name": "stdout",
     "output_type": "stream",
     "text": [
      "(2229, 5)\n",
      "(985, 5)\n"
     ]
    }
   ],
   "source": [
    "print(df[df['is_ultra'] == 0].shape)\n",
    "print(df[df['is_ultra'] == 1].shape)"
   ]
  },
  {
   "cell_type": "markdown",
   "metadata": {},
   "source": [
    "## Разбейте данные на выборки"
   ]
  },
  {
   "cell_type": "markdown",
   "metadata": {},
   "source": [
    "Нужно разбить на выборки.\n",
    "На обучающую, валидационную и тестовую."
   ]
  },
  {
   "cell_type": "code",
   "execution_count": 58,
   "metadata": {},
   "outputs": [
    {
     "name": "stdout",
     "output_type": "stream",
     "text": [
      "(279,)\n",
      "(123,)\n"
     ]
    }
   ],
   "source": [
    "features = df.drop(['is_ultra'], axis=1)\n",
    "target = df['is_ultra']\n",
    "\n",
    "features_train, features_test, target_train, target_test = train_test_split(\n",
    "    features, target, test_size=0.25, random_state=12345, stratify=target)\n",
    "\n",
    "features_test, features_valid, target_test, target_valid = train_test_split(\n",
    "    features_test, target_test, test_size=0.5, random_state=12345, stratify=target_test)\n",
    "\n",
    "print(target_valid[target_valid != 1].shape)\n",
    "print(target_valid[target_valid != 0].shape)"
   ]
  },
  {
   "cell_type": "markdown",
   "metadata": {},
   "source": [
    "## Исследуйте модели"
   ]
  },
  {
   "cell_type": "markdown",
   "metadata": {},
   "source": [
    "Рещающее дерево"
   ]
  },
  {
   "cell_type": "code",
   "execution_count": 59,
   "metadata": {},
   "outputs": [
    {
     "name": "stdout",
     "output_type": "stream",
     "text": [
      "Accuracy лучшей модели: 0.8109452736318408\n"
     ]
    },
    {
     "data": {
      "image/png": "[encoded data removed]",
      "text/plain": [
       "<Figure size 432x288 with 1 Axes>"
      ]
     },
     "metadata": {
      "needs_background": "light"
     },
     "output_type": "display_data"
    }
   ],
   "source": [
    "best_model_DT = None\n",
    "best_result = 0\n",
    "plot = []\n",
    "plot_depth = []\n",
    "for depth in range(1, 10):\n",
    "    model = DecisionTreeClassifier(random_state=12345, max_depth=depth)\n",
    "    model.fit(features_train, target_train)\n",
    "    valid_predictions = model.predict(features_valid)\n",
    "    result = accuracy_score(target_valid, valid_predictions)\n",
    "    if result > best_result:\n",
    "        best_model_DT = model\n",
    "        best_result = result\n",
    "        plot.append(result)\n",
    "        plot_depth.append(depth)\n",
    "#print(best_result, \"Глубина дерева:\", best_depth)\n",
    "print(\"Accuracy лучшей модели:\", best_result)\n",
    "plt.plot(plot_depth, plot)\n",
    "plt.xlabel('depth')\n",
    "plt.ylabel('Accuracy')\n",
    "plt.show()"
   ]
  },
  {
   "cell_type": "markdown",
   "metadata": {},
   "source": [
    "Видно при увеличение depth растёт качество, но только до 5, ибо дальше раз к нам не попало, значит падает=)"
   ]
  },
  {
   "cell_type": "code",
   "execution_count": 60,
   "metadata": {},
   "outputs": [
    {
     "name": "stdout",
     "output_type": "stream",
     "text": [
      "Accuracy лучшей модели: 0.8109452736318408\n"
     ]
    },
    {
     "data": {
      "image/png": "[encoded data removed]",
      "text/plain": [
       "<Figure size 432x288 with 1 Axes>"
      ]
     },
     "metadata": {
      "needs_background": "light"
     },
     "output_type": "display_data"
    }
   ],
   "source": [
    "best_model_DT = None\n",
    "best_result = 0\n",
    "plot = []\n",
    "plot_depth = []\n",
    "plot_train = []\n",
    "\n",
    "for depth in range(1, 20):\n",
    "    model = DecisionTreeClassifier(random_state=12345, max_depth=depth)\n",
    "    model.fit(features_train, target_train)\n",
    "    valid_predictions = model.predict(features_valid)\n",
    "    train_predictions = model.predict(features_train)\n",
    "\n",
    "    result = accuracy_score(target_valid, valid_predictions)\n",
    "    result_train = accuracy_score(target_train, train_predictions)\n",
    "\n",
    "    plot_depth.append(depth)\n",
    "    plot.append(result)\n",
    "    plot_train.append(result_train)\n",
    "\n",
    "    if result > best_result:\n",
    "        best_model_DT = model\n",
    "        best_result = result\n",
    "\n",
    "print(\"Accuracy лучшей модели:\", best_result)\n",
    "plt.plot(plot_depth, plot)\n",
    "plt.plot(plot_depth, plot_train)\n",
    "plt.xlabel('depth')\n",
    "plt.ylabel('Accuracy')\n",
    "plt.show()"
   ]
  },
  {
   "cell_type": "markdown",
   "metadata": {},
   "source": [
    "Cлучайный лес"
   ]
  },
  {
   "cell_type": "code",
   "execution_count": 96,
   "metadata": {},
   "outputs": [
    {
     "name": "stdout",
     "output_type": "stream",
     "text": [
      "0.7611940298507462\n",
      "1\n",
      "1\n",
      "0.8009950248756219\n",
      "2\n",
      "1\n",
      "0.8084577114427861\n",
      "3\n",
      "1\n",
      "0.8059701492537313\n",
      "4\n",
      "1\n",
      "0.8009950248756219\n",
      "5\n",
      "1\n",
      "0.8034825870646766\n",
      "6\n",
      "1\n",
      "0.8084577114427861\n",
      "7\n",
      "1\n",
      "0.8059701492537313\n",
      "8\n",
      "1\n",
      "0.763681592039801\n",
      "9\n",
      "1\n",
      "0.763681592039801\n",
      "1\n",
      "2\n",
      "0.7985074626865671\n",
      "2\n",
      "2\n",
      "0.8084577114427861\n",
      "3\n",
      "2\n",
      "0.8134328358208955\n",
      "4\n",
      "2\n",
      "0.8159203980099502\n",
      "5\n",
      "2\n",
      "0.8059701492537313\n",
      "6\n",
      "2\n",
      "0.8034825870646766\n",
      "7\n",
      "2\n",
      "0.8084577114427861\n",
      "8\n",
      "2\n",
      "0.7711442786069652\n",
      "9\n",
      "2\n",
      "0.7611940298507462\n",
      "1\n",
      "3\n",
      "0.8009950248756219\n",
      "2\n",
      "3\n",
      "0.8084577114427861\n",
      "3\n",
      "3\n",
      "0.8109452736318408\n",
      "4\n",
      "3\n",
      "0.8208955223880597\n",
      "5\n",
      "3\n",
      "0.8084577114427861\n",
      "6\n",
      "3\n",
      "0.8134328358208955\n",
      "7\n",
      "3\n",
      "0.8034825870646766\n",
      "8\n",
      "3\n",
      "0.8134328358208955\n",
      "9\n",
      "3\n",
      "0.763681592039801\n",
      "1\n",
      "4\n",
      "0.7985074626865671\n",
      "2\n",
      "4\n",
      "0.8084577114427861\n",
      "3\n",
      "4\n",
      "0.818407960199005\n",
      "4\n",
      "4\n",
      "0.8208955223880597\n",
      "5\n",
      "4\n",
      "0.8134328358208955\n",
      "6\n",
      "4\n",
      "0.8159203980099502\n",
      "7\n",
      "4\n",
      "0.8084577114427861\n",
      "8\n",
      "4\n",
      "0.8084577114427861\n",
      "9\n",
      "4\n",
      "0.7562189054726368\n",
      "1\n",
      "5\n",
      "0.7786069651741293\n",
      "2\n",
      "5\n",
      "0.8059701492537313\n",
      "3\n",
      "5\n",
      "0.8208955223880597\n",
      "4\n",
      "5\n",
      "0.8134328358208955\n",
      "5\n",
      "5\n",
      "0.8134328358208955\n",
      "6\n",
      "5\n",
      "0.8159203980099502\n",
      "7\n",
      "5\n",
      "0.8109452736318408\n",
      "8\n",
      "5\n",
      "0.8109452736318408\n",
      "9\n",
      "5\n",
      "0.7562189054726368\n",
      "1\n",
      "6\n",
      "0.7985074626865671\n",
      "2\n",
      "6\n",
      "0.8059701492537313\n",
      "3\n",
      "6\n",
      "0.8208955223880597\n",
      "4\n",
      "6\n",
      "0.818407960199005\n",
      "5\n",
      "6\n",
      "0.8109452736318408\n",
      "6\n",
      "6\n",
      "0.818407960199005\n",
      "7\n",
      "6\n",
      "0.8084577114427861\n",
      "8\n",
      "6\n",
      "0.8134328358208955\n",
      "9\n",
      "6\n",
      "0.7562189054726368\n",
      "1\n",
      "7\n",
      "0.7761194029850746\n",
      "2\n",
      "7\n",
      "0.8084577114427861\n",
      "3\n",
      "7\n",
      "0.8159203980099502\n",
      "4\n",
      "7\n",
      "0.818407960199005\n",
      "5\n",
      "7\n",
      "0.8159203980099502\n",
      "6\n",
      "7\n",
      "0.8159203980099502\n",
      "7\n",
      "7\n",
      "0.8134328358208955\n",
      "8\n",
      "7\n",
      "0.8308457711442786\n",
      "9\n",
      "7\n",
      "0.7587064676616916\n",
      "1\n",
      "8\n",
      "0.7960199004975125\n",
      "2\n",
      "8\n",
      "0.8034825870646766\n",
      "3\n",
      "8\n",
      "0.8109452736318408\n",
      "4\n",
      "8\n",
      "0.8159203980099502\n",
      "5\n",
      "8\n",
      "0.8084577114427861\n",
      "6\n",
      "8\n",
      "0.8208955223880597\n",
      "7\n",
      "8\n",
      "0.818407960199005\n",
      "8\n",
      "8\n",
      "0.8233830845771144\n",
      "9\n",
      "8\n",
      "0.7562189054726368\n",
      "1\n",
      "9\n",
      "0.7761194029850746\n",
      "2\n",
      "9\n",
      "0.8009950248756219\n",
      "3\n",
      "9\n",
      "0.8134328358208955\n",
      "4\n",
      "9\n",
      "0.8159203980099502\n",
      "5\n",
      "9\n",
      "0.8134328358208955\n",
      "6\n",
      "9\n",
      "0.8134328358208955\n",
      "7\n",
      "9\n",
      "0.818407960199005\n",
      "8\n",
      "9\n",
      "0.8159203980099502\n",
      "9\n",
      "9\n",
      "0.8308457711442786 Глубина дерева: 9 Количество деревьев 7\n",
      "Accuracy наилучшей модели на валидационной выборке: 0.8308457711442786\n"
     ]
    }
   ],
   "source": [
    "best_model_rf = None\n",
    "best_result = 0\n",
    "for est in range(1, 10):\n",
    "    for depth in range(1, 10):\n",
    "        model = RandomForestClassifier(\n",
    "            random_state=12345, n_estimators=est, max_depth=depth)\n",
    "        model.fit(features_train, target_train)\n",
    "        valid_predictions = model.predict(features_valid)\n",
    "        result = accuracy_score(target_valid, valid_predictions)\n",
    "        if result > best_result:\n",
    "            best_model_rf = model\n",
    "            best_result = result\n",
    "\n",
    "print(\"Accuracy наилучшей модели на валидационной выборке:\", best_result)"
   ]
  },
  {
   "cell_type": "code",
   "execution_count": 106,
   "metadata": {},
   "outputs": [
    {
     "data": {
      "text/plain": [
       "{'max_depth': 10,\n",
       " 'min_samples_leaf': 3,\n",
       " 'min_samples_split': 6,\n",
       " 'n_estimators': 8}"
      ]
     },
     "execution_count": 106,
     "metadata": {},
     "output_type": "execute_result"
    }
   ],
   "source": [
    "from sklearn.model_selection import GridSearchCV\n",
    "clf = RandomForestClassifier()\n",
    "parametrs = {'n_estimators': range(1, 11, 1),\n",
    "             'max_depth': range(1, 11, 1),\n",
    "             'min_samples_leaf': range(1, 8),\n",
    "             'min_samples_split': range(2, 10, 2)\n",
    "             }\n",
    "\n",
    "grid = GridSearchCV(clf, parametrs, cv=5)\n",
    "grid.fit(features_train, target_train)\n",
    "grid.best_params_"
   ]
  },
  {
   "cell_type": "code",
   "execution_count": 111,
   "metadata": {},
   "outputs": [
    {
     "data": {
      "text/plain": [
       "0.8159203980099502"
      ]
     },
     "execution_count": 111,
     "metadata": {},
     "output_type": "execute_result"
    }
   ],
   "source": [
    "model = RandomForestClassifier(\n",
    "    random_state=12345, n_estimators=8, max_depth=10, min_samples_split=6, min_samples_leaf=2)\n",
    "model.fit(features_train, target_train)\n",
    "valid_predictions = model.predict(features_valid)\n",
    "result = accuracy_score(target_valid, valid_predictions)\n",
    "result"
   ]
  },
  {
   "cell_type": "code",
   "execution_count": 65,
   "metadata": {},
   "outputs": [
    {
     "data": {
      "text/plain": [
       "RandomForestClassifier(max_depth=9, n_estimators=7, random_state=12345)"
      ]
     },
     "execution_count": 65,
     "metadata": {},
     "output_type": "execute_result"
    }
   ],
   "source": [
    "best_model_rf"
   ]
  },
  {
   "cell_type": "markdown",
   "metadata": {},
   "source": [
    "Логистическая регрессия"
   ]
  },
  {
   "cell_type": "code",
   "execution_count": 66,
   "metadata": {},
   "outputs": [
    {
     "name": "stdout",
     "output_type": "stream",
     "text": [
      "Accuracy : 0.7388059701492538\n"
     ]
    }
   ],
   "source": [
    "model = LogisticRegression(random_state=12345, solver='lbfgs', max_iter=1000)\n",
    "model.fit(features_train, target_train)\n",
    "predictions_valid = model.predict(features_valid)\n",
    "result = accuracy_score(target_valid, predictions_valid)\n",
    "\n",
    "print(\"Accuracy :\", result)"
   ]
  },
  {
   "cell_type": "markdown",
   "metadata": {},
   "source": [
    "Рещающее дерево-0.7985074626865671\n",
    "Cлучайный лес - 0.8109452736318408 \n",
    "Логическая регрессия - 0.7039800995024875\n",
    "\n",
    "По даным результатм можно сделать выводы: что случайный лес, самый точный из данной подборки. Модели регресии не собо актуальны для нашей задачи.\n",
    "Итого берём случайный лес    "
   ]
  },
  {
   "cell_type": "markdown",
   "metadata": {},
   "source": [
    "## Проверьте модель на тестовой выборке"
   ]
  },
  {
   "cell_type": "markdown",
   "metadata": {},
   "source": [
    "Проверим на тестовой выборке, выбранную нами модель."
   ]
  },
  {
   "cell_type": "code",
   "execution_count": 76,
   "metadata": {},
   "outputs": [
    {
     "name": "stdout",
     "output_type": "stream",
     "text": [
      "0.7960199004975125\n"
     ]
    }
   ],
   "source": [
    "best_model_rf = RandomForestClassifier(\n",
    "    max_depth=9, n_estimators=10,  random_state=12345)\n",
    "best_model_rf.fit(features_train, target_train)\n",
    "predictions_test = best_model_rf.predict(features_test)\n",
    "accuracy_test = accuracy_score(predictions_test, target_test)\n",
    "print(accuracy_test)"
   ]
  },
  {
   "cell_type": "markdown",
   "metadata": {},
   "source": [
    "## (бонус) Проверьте модели на адекватность"
   ]
  },
  {
   "cell_type": "code",
   "execution_count": 11,
   "metadata": {},
   "outputs": [
    {
     "name": "stdout",
     "output_type": "stream",
     "text": [
      "Test score:  0.6940298507462687\n"
     ]
    }
   ],
   "source": [
    "from sklearn.dummy import DummyClassifier\n",
    "model.fit(features_train, target_train)\n",
    "dummy = DummyClassifier(strategy='most_frequent').fit(\n",
    "    features_train, target_train)\n",
    "dummy_pred = dummy.predict(features_valid)\n",
    "\n",
    "print('Test score: ', accuracy_score(target_valid, dummy_pred))"
   ]
  },
  {
   "cell_type": "markdown",
   "metadata": {},
   "source": []
  },
  {
   "cell_type": "markdown",
   "metadata": {},
   "source": [
    "В результате работы были проанализированы модели для задачи по рекомендации тарифов. и Выявлены лучшие параметры для модели, которая сможет проанализировать поведение клиентов и предложить пользователям новый тариф: «Смарт» или «Ультра».\n",
    "лучшая модель это randomforestclassifier."
   ]
  }
 ],
 "metadata": {
  "ExecuteTimeLog": [
   {
    "duration": 50,
    "start_time": "2022-11-02T05:51:29.572Z"
   },
   {
    "duration": 50,
    "start_time": "2022-11-02T05:51:45.329Z"
   },
   {
    "duration": 394,
    "start_time": "2022-11-02T05:51:51.135Z"
   },
   {
    "duration": 160,
    "start_time": "2022-11-02T05:51:51.896Z"
   },
   {
    "duration": 3,
    "start_time": "2022-11-02T05:52:38.297Z"
   },
   {
    "duration": 29,
    "start_time": "2022-11-02T05:54:09.115Z"
   },
   {
    "duration": 29,
    "start_time": "2022-11-02T05:55:09.591Z"
   },
   {
    "duration": 17,
    "start_time": "2022-11-02T05:55:16.989Z"
   },
   {
    "duration": 11,
    "start_time": "2022-11-02T05:56:44.871Z"
   },
   {
    "duration": 10,
    "start_time": "2022-11-02T05:56:50.639Z"
   },
   {
    "duration": 3,
    "start_time": "2022-11-02T06:07:10.113Z"
   },
   {
    "duration": 3,
    "start_time": "2022-11-02T06:07:19.337Z"
   },
   {
    "duration": 9,
    "start_time": "2022-11-02T06:16:11.273Z"
   },
   {
    "duration": 7,
    "start_time": "2022-11-02T06:16:20.204Z"
   },
   {
    "duration": 751,
    "start_time": "2022-11-02T06:16:45.986Z"
   },
   {
    "duration": 30,
    "start_time": "2022-11-02T06:16:46.739Z"
   },
   {
    "duration": 12,
    "start_time": "2022-11-02T06:16:47.034Z"
   },
   {
    "duration": 10,
    "start_time": "2022-11-02T06:16:47.538Z"
   },
   {
    "duration": 5,
    "start_time": "2022-11-02T06:16:51.488Z"
   },
   {
    "duration": 5,
    "start_time": "2022-11-02T06:16:53.247Z"
   },
   {
    "duration": 6,
    "start_time": "2022-11-02T06:16:58.093Z"
   },
   {
    "duration": 6,
    "start_time": "2022-11-02T06:16:59.854Z"
   },
   {
    "duration": 12,
    "start_time": "2022-11-02T06:17:51.824Z"
   },
   {
    "duration": 12,
    "start_time": "2022-11-02T06:17:59.541Z"
   },
   {
    "duration": 12,
    "start_time": "2022-11-02T06:18:08.707Z"
   },
   {
    "duration": 3,
    "start_time": "2022-11-02T06:24:21.303Z"
   },
   {
    "duration": 49,
    "start_time": "2022-11-02T06:24:47.309Z"
   },
   {
    "duration": 39,
    "start_time": "2022-11-02T06:29:12.984Z"
   },
   {
    "duration": 30,
    "start_time": "2022-11-02T06:29:13.176Z"
   },
   {
    "duration": 11,
    "start_time": "2022-11-02T06:29:13.576Z"
   },
   {
    "duration": 9,
    "start_time": "2022-11-02T06:29:13.776Z"
   },
   {
    "duration": 4,
    "start_time": "2022-11-02T06:29:14.636Z"
   },
   {
    "duration": 5,
    "start_time": "2022-11-02T06:29:15.058Z"
   },
   {
    "duration": 4,
    "start_time": "2022-11-02T06:29:16.072Z"
   },
   {
    "duration": 4,
    "start_time": "2022-11-02T06:30:39.267Z"
   },
   {
    "duration": 6,
    "start_time": "2022-11-02T06:36:20.978Z"
   },
   {
    "duration": 57,
    "start_time": "2022-11-02T06:38:19.039Z"
   },
   {
    "duration": 6,
    "start_time": "2022-11-02T06:38:36.177Z"
   },
   {
    "duration": 33,
    "start_time": "2022-11-02T06:38:37.265Z"
   },
   {
    "duration": 63,
    "start_time": "2022-11-02T06:40:21.816Z"
   },
   {
    "duration": 61,
    "start_time": "2022-11-02T06:40:51.063Z"
   },
   {
    "duration": 14,
    "start_time": "2022-11-02T06:47:43.191Z"
   },
   {
    "duration": 3,
    "start_time": "2022-11-02T06:47:49.605Z"
   },
   {
    "duration": 32,
    "start_time": "2022-11-02T06:47:50.772Z"
   },
   {
    "duration": 10,
    "start_time": "2022-11-02T06:47:51.163Z"
   },
   {
    "duration": 11,
    "start_time": "2022-11-02T06:47:51.338Z"
   },
   {
    "duration": 6,
    "start_time": "2022-11-02T06:47:51.931Z"
   },
   {
    "duration": 48,
    "start_time": "2022-11-02T06:47:52.138Z"
   },
   {
    "duration": 4,
    "start_time": "2022-11-02T06:47:52.340Z"
   },
   {
    "duration": 6,
    "start_time": "2022-11-02T06:47:53.443Z"
   },
   {
    "duration": 16,
    "start_time": "2022-11-02T06:47:54.515Z"
   },
   {
    "duration": 14,
    "start_time": "2022-11-02T06:48:27.622Z"
   },
   {
    "duration": 16,
    "start_time": "2022-11-02T06:49:16.777Z"
   },
   {
    "duration": 14,
    "start_time": "2022-11-02T06:50:56.019Z"
   },
   {
    "duration": 13,
    "start_time": "2022-11-02T06:51:11.478Z"
   },
   {
    "duration": 16,
    "start_time": "2022-11-02T06:51:22.112Z"
   },
   {
    "duration": 15,
    "start_time": "2022-11-02T06:52:46.583Z"
   },
   {
    "duration": 15,
    "start_time": "2022-11-02T06:55:24.351Z"
   },
   {
    "duration": 17,
    "start_time": "2022-11-02T06:55:31.644Z"
   },
   {
    "duration": 4,
    "start_time": "2022-11-02T06:56:18.155Z"
   },
   {
    "duration": 16,
    "start_time": "2022-11-02T06:57:18.707Z"
   },
   {
    "duration": 17,
    "start_time": "2022-11-02T06:57:35.995Z"
   },
   {
    "duration": 3,
    "start_time": "2022-11-02T06:57:47.470Z"
   },
   {
    "duration": 29,
    "start_time": "2022-11-02T06:57:47.678Z"
   },
   {
    "duration": 10,
    "start_time": "2022-11-02T06:57:48.085Z"
   },
   {
    "duration": 10,
    "start_time": "2022-11-02T06:57:48.286Z"
   },
   {
    "duration": 6,
    "start_time": "2022-11-02T06:57:48.894Z"
   },
   {
    "duration": 54,
    "start_time": "2022-11-02T06:57:49.086Z"
   },
   {
    "duration": 5,
    "start_time": "2022-11-02T06:57:49.294Z"
   },
   {
    "duration": 4,
    "start_time": "2022-11-02T06:57:49.990Z"
   },
   {
    "duration": 19,
    "start_time": "2022-11-02T06:57:51.244Z"
   },
   {
    "duration": 15,
    "start_time": "2022-11-02T06:58:30.990Z"
   },
   {
    "duration": 58,
    "start_time": "2022-11-02T06:58:43.305Z"
   },
   {
    "duration": 18,
    "start_time": "2022-11-02T07:00:16.468Z"
   },
   {
    "duration": 91,
    "start_time": "2022-11-02T07:04:25.057Z"
   },
   {
    "duration": 56,
    "start_time": "2022-11-02T07:04:43.968Z"
   },
   {
    "duration": 61,
    "start_time": "2022-11-02T07:05:04.745Z"
   },
   {
    "duration": 3,
    "start_time": "2022-11-02T07:08:43.681Z"
   },
   {
    "duration": 4,
    "start_time": "2022-11-02T07:08:48.634Z"
   },
   {
    "duration": 4,
    "start_time": "2022-11-02T07:08:49.014Z"
   },
   {
    "duration": 4,
    "start_time": "2022-11-02T07:09:08.830Z"
   },
   {
    "duration": 3,
    "start_time": "2022-11-02T07:09:31.861Z"
   },
   {
    "duration": 31,
    "start_time": "2022-11-02T07:09:32.060Z"
   },
   {
    "duration": 11,
    "start_time": "2022-11-02T07:09:32.460Z"
   },
   {
    "duration": 9,
    "start_time": "2022-11-02T07:09:32.653Z"
   },
   {
    "duration": 6,
    "start_time": "2022-11-02T07:09:33.277Z"
   },
   {
    "duration": 4,
    "start_time": "2022-11-02T07:09:33.685Z"
   },
   {
    "duration": 4,
    "start_time": "2022-11-02T07:09:33.908Z"
   },
   {
    "duration": 4,
    "start_time": "2022-11-02T07:09:48.445Z"
   },
   {
    "duration": 59,
    "start_time": "2022-11-02T07:09:49.017Z"
   },
   {
    "duration": 3,
    "start_time": "2022-11-02T07:11:08.192Z"
   },
   {
    "duration": 29,
    "start_time": "2022-11-02T07:11:08.793Z"
   },
   {
    "duration": 3,
    "start_time": "2022-11-02T07:11:15.500Z"
   },
   {
    "duration": 42,
    "start_time": "2022-11-02T07:11:15.707Z"
   },
   {
    "duration": 10,
    "start_time": "2022-11-02T07:11:16.092Z"
   },
   {
    "duration": 10,
    "start_time": "2022-11-02T07:11:16.299Z"
   },
   {
    "duration": 6,
    "start_time": "2022-11-02T07:11:16.933Z"
   },
   {
    "duration": 4,
    "start_time": "2022-11-02T07:11:17.363Z"
   },
   {
    "duration": 4,
    "start_time": "2022-11-02T07:11:18.042Z"
   },
   {
    "duration": 61,
    "start_time": "2022-11-02T07:11:19.240Z"
   },
   {
    "duration": 23,
    "start_time": "2022-11-02T07:11:44.477Z"
   },
   {
    "duration": 5,
    "start_time": "2022-11-02T07:13:53.120Z"
   },
   {
    "duration": 3,
    "start_time": "2022-11-02T07:14:33.102Z"
   },
   {
    "duration": 18,
    "start_time": "2022-11-02T07:14:34.853Z"
   },
   {
    "duration": 19,
    "start_time": "2022-11-02T07:15:32.935Z"
   },
   {
    "duration": 20,
    "start_time": "2022-11-02T08:45:05.658Z"
   },
   {
    "duration": 18,
    "start_time": "2022-11-02T08:45:18.821Z"
   },
   {
    "duration": 4,
    "start_time": "2022-11-02T08:45:48.273Z"
   },
   {
    "duration": 17,
    "start_time": "2022-11-02T08:45:52.638Z"
   },
   {
    "duration": 16,
    "start_time": "2022-11-02T08:49:27.505Z"
   },
   {
    "duration": 16,
    "start_time": "2022-11-02T08:49:31.838Z"
   },
   {
    "duration": 13,
    "start_time": "2022-11-02T08:49:41.931Z"
   },
   {
    "duration": 18,
    "start_time": "2022-11-02T08:52:21.835Z"
   },
   {
    "duration": 16,
    "start_time": "2022-11-02T08:52:36.228Z"
   },
   {
    "duration": 15,
    "start_time": "2022-11-02T08:54:35.273Z"
   },
   {
    "duration": 7,
    "start_time": "2022-11-02T08:54:41.492Z"
   },
   {
    "duration": 9,
    "start_time": "2022-11-02T08:54:48.641Z"
   },
   {
    "duration": 23,
    "start_time": "2022-11-02T08:55:29.257Z"
   },
   {
    "duration": 16,
    "start_time": "2022-11-02T08:55:55.046Z"
   },
   {
    "duration": 15,
    "start_time": "2022-11-02T08:56:37.118Z"
   },
   {
    "duration": 11,
    "start_time": "2022-11-02T08:56:40.365Z"
   },
   {
    "duration": 18,
    "start_time": "2022-11-02T08:56:51.696Z"
   },
   {
    "duration": 13,
    "start_time": "2022-11-02T08:57:44.731Z"
   },
   {
    "duration": 10,
    "start_time": "2022-11-02T09:01:02.412Z"
   },
   {
    "duration": 16,
    "start_time": "2022-11-02T09:01:26.491Z"
   },
   {
    "duration": 14,
    "start_time": "2022-11-02T09:01:49.132Z"
   },
   {
    "duration": 3,
    "start_time": "2022-11-02T09:02:17.102Z"
   },
   {
    "duration": 30,
    "start_time": "2022-11-02T09:02:17.294Z"
   },
   {
    "duration": 10,
    "start_time": "2022-11-02T09:02:17.702Z"
   },
   {
    "duration": 12,
    "start_time": "2022-11-02T09:02:17.910Z"
   },
   {
    "duration": 5,
    "start_time": "2022-11-02T09:02:18.558Z"
   },
   {
    "duration": 4,
    "start_time": "2022-11-02T09:02:18.973Z"
   },
   {
    "duration": 5,
    "start_time": "2022-11-02T09:02:19.668Z"
   },
   {
    "duration": 14,
    "start_time": "2022-11-02T09:02:20.165Z"
   },
   {
    "duration": 14,
    "start_time": "2022-11-02T09:02:41.405Z"
   },
   {
    "duration": 12,
    "start_time": "2022-11-02T09:03:07.469Z"
   },
   {
    "duration": 5,
    "start_time": "2022-11-02T09:03:17.728Z"
   },
   {
    "duration": 9,
    "start_time": "2022-11-02T09:03:31.025Z"
   },
   {
    "duration": 10,
    "start_time": "2022-11-02T09:03:35.022Z"
   },
   {
    "duration": 11,
    "start_time": "2022-11-02T09:03:44.116Z"
   },
   {
    "duration": 6,
    "start_time": "2022-11-02T09:04:23.092Z"
   },
   {
    "duration": 7,
    "start_time": "2022-11-02T09:04:40.741Z"
   },
   {
    "duration": 24,
    "start_time": "2022-11-02T09:17:49.491Z"
   },
   {
    "duration": 26,
    "start_time": "2022-11-02T09:17:59.318Z"
   },
   {
    "duration": 21,
    "start_time": "2022-11-02T09:19:17.209Z"
   },
   {
    "duration": 19,
    "start_time": "2022-11-02T09:20:38.991Z"
   },
   {
    "duration": 25,
    "start_time": "2022-11-02T09:25:09.771Z"
   },
   {
    "duration": 19,
    "start_time": "2022-11-02T09:25:44.262Z"
   },
   {
    "duration": 25,
    "start_time": "2022-11-02T09:25:50.548Z"
   },
   {
    "duration": 14,
    "start_time": "2022-11-02T09:26:41.606Z"
   },
   {
    "duration": 12,
    "start_time": "2022-11-02T09:26:53.921Z"
   },
   {
    "duration": 11,
    "start_time": "2022-11-02T09:27:01.215Z"
   },
   {
    "duration": 12,
    "start_time": "2022-11-02T09:27:07.366Z"
   },
   {
    "duration": 23,
    "start_time": "2022-11-02T09:28:05.799Z"
   },
   {
    "duration": 20,
    "start_time": "2022-11-02T09:28:13.338Z"
   },
   {
    "duration": 4,
    "start_time": "2022-11-02T09:28:26.244Z"
   },
   {
    "duration": 28,
    "start_time": "2022-11-02T09:28:26.436Z"
   },
   {
    "duration": 10,
    "start_time": "2022-11-02T09:28:26.829Z"
   },
   {
    "duration": 10,
    "start_time": "2022-11-02T09:28:27.028Z"
   },
   {
    "duration": 5,
    "start_time": "2022-11-02T09:28:27.765Z"
   },
   {
    "duration": 4,
    "start_time": "2022-11-02T09:28:28.261Z"
   },
   {
    "duration": 5,
    "start_time": "2022-11-02T09:28:30.924Z"
   },
   {
    "duration": 19,
    "start_time": "2022-11-02T09:28:31.610Z"
   },
   {
    "duration": 19,
    "start_time": "2022-11-02T09:29:03.538Z"
   },
   {
    "duration": 11,
    "start_time": "2022-11-02T09:29:05.742Z"
   },
   {
    "duration": 4,
    "start_time": "2022-11-02T09:29:54.507Z"
   },
   {
    "duration": 27,
    "start_time": "2022-11-02T09:29:54.710Z"
   },
   {
    "duration": 10,
    "start_time": "2022-11-02T09:29:55.135Z"
   },
   {
    "duration": 11,
    "start_time": "2022-11-02T09:29:55.350Z"
   },
   {
    "duration": 6,
    "start_time": "2022-11-02T09:29:56.031Z"
   },
   {
    "duration": 4,
    "start_time": "2022-11-02T09:29:56.478Z"
   },
   {
    "duration": 4,
    "start_time": "2022-11-02T09:29:57.151Z"
   },
   {
    "duration": 19,
    "start_time": "2022-11-02T09:29:57.637Z"
   },
   {
    "duration": 12,
    "start_time": "2022-11-02T09:29:57.868Z"
   },
   {
    "duration": 11,
    "start_time": "2022-11-02T09:30:23.899Z"
   },
   {
    "duration": 7,
    "start_time": "2022-11-02T09:36:39.557Z"
   },
   {
    "duration": 3,
    "start_time": "2022-11-02T09:37:14.806Z"
   },
   {
    "duration": 30,
    "start_time": "2022-11-02T09:37:15.006Z"
   },
   {
    "duration": 10,
    "start_time": "2022-11-02T09:37:15.406Z"
   },
   {
    "duration": 10,
    "start_time": "2022-11-02T09:37:15.614Z"
   },
   {
    "duration": 8,
    "start_time": "2022-11-02T09:37:16.487Z"
   },
   {
    "duration": 23,
    "start_time": "2022-11-02T09:37:20.012Z"
   },
   {
    "duration": 11,
    "start_time": "2022-11-02T09:37:23.493Z"
   },
   {
    "duration": 28,
    "start_time": "2022-11-02T09:37:40.772Z"
   },
   {
    "duration": 26,
    "start_time": "2022-11-02T09:37:59.766Z"
   },
   {
    "duration": 25,
    "start_time": "2022-11-02T09:38:08.244Z"
   },
   {
    "duration": 23,
    "start_time": "2022-11-02T09:39:33.232Z"
   },
   {
    "duration": 22,
    "start_time": "2022-11-02T09:40:09.186Z"
   },
   {
    "duration": 20,
    "start_time": "2022-11-02T09:42:05.470Z"
   },
   {
    "duration": 22,
    "start_time": "2022-11-02T09:42:11.609Z"
   },
   {
    "duration": 61,
    "start_time": "2022-11-02T09:48:58.878Z"
   },
   {
    "duration": 92,
    "start_time": "2022-11-02T09:49:11.498Z"
   },
   {
    "duration": 66,
    "start_time": "2022-11-02T09:50:13.242Z"
   },
   {
    "duration": 71,
    "start_time": "2022-11-02T09:51:02.854Z"
   },
   {
    "duration": 54,
    "start_time": "2022-11-02T09:51:24.541Z"
   },
   {
    "duration": 12,
    "start_time": "2022-11-02T09:51:48.587Z"
   },
   {
    "duration": 29,
    "start_time": "2022-11-02T09:52:20.313Z"
   },
   {
    "duration": 52,
    "start_time": "2022-11-02T09:52:54.027Z"
   },
   {
    "duration": 15,
    "start_time": "2022-11-02T09:53:04.110Z"
   },
   {
    "duration": 22,
    "start_time": "2022-11-02T09:53:10.131Z"
   },
   {
    "duration": 28,
    "start_time": "2022-11-02T09:53:46.644Z"
   },
   {
    "duration": 29,
    "start_time": "2022-11-02T09:53:55.170Z"
   },
   {
    "duration": 30,
    "start_time": "2022-11-02T09:55:03.048Z"
   },
   {
    "duration": 13,
    "start_time": "2022-11-02T09:55:14.234Z"
   },
   {
    "duration": 34,
    "start_time": "2022-11-02T09:55:53.482Z"
   },
   {
    "duration": 36,
    "start_time": "2022-11-02T09:56:00.079Z"
   },
   {
    "duration": 71,
    "start_time": "2022-11-02T09:56:09.012Z"
   },
   {
    "duration": 77,
    "start_time": "2022-11-02T09:56:25.205Z"
   },
   {
    "duration": 67,
    "start_time": "2022-11-02T09:57:34.034Z"
   },
   {
    "duration": 68,
    "start_time": "2022-11-02T09:58:16.098Z"
   },
   {
    "duration": 70,
    "start_time": "2022-11-02T09:58:36.906Z"
   },
   {
    "duration": 69,
    "start_time": "2022-11-02T09:58:52.514Z"
   },
   {
    "duration": 71,
    "start_time": "2022-11-02T09:59:18.592Z"
   },
   {
    "duration": 72,
    "start_time": "2022-11-02T10:00:07.669Z"
   },
   {
    "duration": 85,
    "start_time": "2022-11-02T10:00:26.142Z"
   },
   {
    "duration": 67,
    "start_time": "2022-11-02T10:00:32.211Z"
   },
   {
    "duration": 68,
    "start_time": "2022-11-02T10:03:02.743Z"
   },
   {
    "duration": 75,
    "start_time": "2022-11-02T10:03:19.913Z"
   },
   {
    "duration": 82,
    "start_time": "2022-11-02T10:03:24.510Z"
   },
   {
    "duration": 68,
    "start_time": "2022-11-02T10:03:42.448Z"
   },
   {
    "duration": 69,
    "start_time": "2022-11-02T10:04:28.972Z"
   },
   {
    "duration": 69,
    "start_time": "2022-11-02T10:11:37.035Z"
   },
   {
    "duration": 9,
    "start_time": "2022-11-02T10:15:09.582Z"
   },
   {
    "duration": 11,
    "start_time": "2022-11-02T10:15:28.574Z"
   },
   {
    "duration": 351,
    "start_time": "2022-11-02T10:15:32.908Z"
   },
   {
    "duration": 321,
    "start_time": "2022-11-02T10:16:51.711Z"
   },
   {
    "duration": 69,
    "start_time": "2022-11-02T10:19:44.880Z"
   },
   {
    "duration": 343,
    "start_time": "2022-11-02T10:19:53.525Z"
   },
   {
    "duration": 89,
    "start_time": "2022-11-02T10:20:13.350Z"
   },
   {
    "duration": 239,
    "start_time": "2022-11-02T10:20:26.461Z"
   },
   {
    "duration": 1630,
    "start_time": "2022-11-02T10:21:58.204Z"
   },
   {
    "duration": 1688,
    "start_time": "2022-11-02T10:24:08.736Z"
   },
   {
    "duration": 2949,
    "start_time": "2022-11-02T10:24:21.474Z"
   },
   {
    "duration": 30878,
    "start_time": "2022-11-02T10:24:30.143Z"
   },
   {
    "duration": 5422,
    "start_time": "2022-11-02T10:25:04.512Z"
   },
   {
    "duration": 2418,
    "start_time": "2022-11-02T10:25:17.331Z"
   },
   {
    "duration": 1364,
    "start_time": "2022-11-02T10:25:25.432Z"
   },
   {
    "duration": 139,
    "start_time": "2022-11-02T10:25:35.740Z"
   },
   {
    "duration": 629,
    "start_time": "2022-11-02T10:25:43.433Z"
   },
   {
    "duration": 1403,
    "start_time": "2022-11-02T10:25:54.301Z"
   },
   {
    "duration": 73,
    "start_time": "2022-11-02T10:26:05.036Z"
   },
   {
    "duration": 12,
    "start_time": "2022-11-02T10:27:40.731Z"
   },
   {
    "duration": 4,
    "start_time": "2022-11-02T10:28:02.371Z"
   },
   {
    "duration": 5348,
    "start_time": "2022-11-02T10:28:09.632Z"
   },
   {
    "duration": 5294,
    "start_time": "2022-11-02T10:34:20.732Z"
   },
   {
    "duration": 5315,
    "start_time": "2022-11-02T10:34:37.837Z"
   },
   {
    "duration": 5248,
    "start_time": "2022-11-02T10:34:51.631Z"
   },
   {
    "duration": 5319,
    "start_time": "2022-11-02T10:37:22.179Z"
   },
   {
    "duration": 3,
    "start_time": "2022-11-02T10:37:49.729Z"
   },
   {
    "duration": 10,
    "start_time": "2022-11-02T10:39:06.163Z"
   },
   {
    "duration": 8,
    "start_time": "2022-11-02T10:41:13.152Z"
   },
   {
    "duration": 10,
    "start_time": "2022-11-02T10:43:46.817Z"
   },
   {
    "duration": 5341,
    "start_time": "2022-11-02T10:45:55.279Z"
   },
   {
    "duration": 8,
    "start_time": "2022-11-02T10:46:00.622Z"
   },
   {
    "duration": 1390,
    "start_time": "2022-11-02T10:48:15.328Z"
   },
   {
    "duration": 5334,
    "start_time": "2022-11-02T10:48:18.687Z"
   },
   {
    "duration": 1365,
    "start_time": "2022-11-02T10:54:53.081Z"
   },
   {
    "duration": 7,
    "start_time": "2022-11-02T10:59:43.541Z"
   },
   {
    "duration": 7,
    "start_time": "2022-11-02T10:59:56.760Z"
   },
   {
    "duration": 8,
    "start_time": "2022-11-02T11:00:45.853Z"
   },
   {
    "duration": 15,
    "start_time": "2022-11-02T11:01:39.136Z"
   },
   {
    "duration": 9,
    "start_time": "2022-11-02T11:01:52.254Z"
   },
   {
    "duration": 16,
    "start_time": "2022-11-02T11:02:34.393Z"
   },
   {
    "duration": 10,
    "start_time": "2022-11-02T11:02:41.606Z"
   },
   {
    "duration": 1397,
    "start_time": "2022-11-02T11:09:13.236Z"
   },
   {
    "duration": 69,
    "start_time": "2022-11-02T11:09:22.639Z"
   },
   {
    "duration": 70,
    "start_time": "2022-11-02T11:09:58.731Z"
   },
   {
    "duration": 69,
    "start_time": "2022-11-02T11:10:13.996Z"
   },
   {
    "duration": 5786,
    "start_time": "2022-11-02T11:10:38.466Z"
   },
   {
    "duration": 15988,
    "start_time": "2022-11-02T11:10:50.957Z"
   },
   {
    "duration": 17442,
    "start_time": "2022-11-02T11:11:40.034Z"
   },
   {
    "duration": 17099,
    "start_time": "2022-11-02T11:17:06.023Z"
   },
   {
    "duration": 1396,
    "start_time": "2022-11-02T11:18:08.845Z"
   },
   {
    "duration": 13,
    "start_time": "2022-11-02T11:19:43.136Z"
   },
   {
    "duration": 1403,
    "start_time": "2022-11-02T11:21:28.471Z"
   },
   {
    "duration": 1396,
    "start_time": "2022-11-02T11:22:11.661Z"
   },
   {
    "duration": 25,
    "start_time": "2022-11-02T11:23:55.204Z"
   },
   {
    "duration": 9,
    "start_time": "2022-11-02T11:24:06.719Z"
   },
   {
    "duration": 20,
    "start_time": "2022-11-02T11:24:11.308Z"
   },
   {
    "duration": 43,
    "start_time": "2022-11-02T11:24:22.675Z"
   },
   {
    "duration": 13652,
    "start_time": "2022-11-02T11:24:38.028Z"
   },
   {
    "duration": 1397,
    "start_time": "2022-11-02T11:25:02.753Z"
   },
   {
    "duration": 9,
    "start_time": "2022-11-02T11:25:16.260Z"
   },
   {
    "duration": 71,
    "start_time": "2022-11-02T11:26:11.438Z"
   },
   {
    "duration": 5326,
    "start_time": "2022-11-02T11:26:25.601Z"
   },
   {
    "duration": 10,
    "start_time": "2022-11-02T11:26:46.407Z"
   },
   {
    "duration": 1415,
    "start_time": "2022-11-02T11:59:33.711Z"
   },
   {
    "duration": 105,
    "start_time": "2022-11-02T11:59:35.128Z"
   },
   {
    "duration": 16,
    "start_time": "2022-11-02T11:59:35.234Z"
   },
   {
    "duration": 11,
    "start_time": "2022-11-02T11:59:35.251Z"
   },
   {
    "duration": 33,
    "start_time": "2022-11-02T11:59:35.263Z"
   },
   {
    "duration": 77,
    "start_time": "2022-11-02T11:59:35.298Z"
   },
   {
    "duration": 1208,
    "start_time": "2022-11-02T11:59:35.376Z"
   },
   {
    "duration": 179,
    "start_time": "2022-11-02T11:59:36.586Z"
   },
   {
    "duration": 0,
    "start_time": "2022-11-02T11:59:36.766Z"
   },
   {
    "duration": 0,
    "start_time": "2022-11-02T11:59:36.767Z"
   },
   {
    "duration": 8,
    "start_time": "2022-11-02T11:59:56.435Z"
   },
   {
    "duration": 8,
    "start_time": "2022-11-02T12:00:02.725Z"
   },
   {
    "duration": 1427,
    "start_time": "2022-11-02T12:00:11.288Z"
   },
   {
    "duration": 27,
    "start_time": "2022-11-02T12:00:12.717Z"
   },
   {
    "duration": 15,
    "start_time": "2022-11-02T12:00:12.745Z"
   },
   {
    "duration": 12,
    "start_time": "2022-11-02T12:00:12.762Z"
   },
   {
    "duration": 7,
    "start_time": "2022-11-02T12:00:12.775Z"
   },
   {
    "duration": 60,
    "start_time": "2022-11-02T12:00:12.783Z"
   },
   {
    "duration": 1186,
    "start_time": "2022-11-02T12:00:12.844Z"
   },
   {
    "duration": 94,
    "start_time": "2022-11-02T12:00:14.032Z"
   },
   {
    "duration": 0,
    "start_time": "2022-11-02T12:00:14.127Z"
   },
   {
    "duration": 0,
    "start_time": "2022-11-02T12:00:14.128Z"
   },
   {
    "duration": 0,
    "start_time": "2022-11-02T12:00:14.129Z"
   },
   {
    "duration": 8,
    "start_time": "2022-11-02T12:00:41.947Z"
   },
   {
    "duration": 1161,
    "start_time": "2022-11-02T12:00:45.214Z"
   },
   {
    "duration": 8,
    "start_time": "2022-11-02T12:00:49.774Z"
   },
   {
    "duration": 1240,
    "start_time": "2022-11-02T12:01:22.184Z"
   },
   {
    "duration": 1194,
    "start_time": "2022-11-02T12:01:33.160Z"
   },
   {
    "duration": 1126,
    "start_time": "2022-11-02T12:01:50.685Z"
   },
   {
    "duration": 7,
    "start_time": "2022-11-02T12:01:57.878Z"
   },
   {
    "duration": 1169,
    "start_time": "2022-11-02T12:02:16.649Z"
   },
   {
    "duration": 1169,
    "start_time": "2022-11-02T12:02:29.424Z"
   },
   {
    "duration": 8,
    "start_time": "2022-11-02T12:02:47.756Z"
   },
   {
    "duration": 8,
    "start_time": "2022-11-02T12:02:53.081Z"
   },
   {
    "duration": 1228,
    "start_time": "2022-11-02T12:03:13.150Z"
   },
   {
    "duration": 3,
    "start_time": "2022-11-02T12:03:15.390Z"
   },
   {
    "duration": 1158,
    "start_time": "2022-11-02T12:03:59.863Z"
   },
   {
    "duration": 1534,
    "start_time": "2022-11-02T12:04:14.341Z"
   },
   {
    "duration": 27,
    "start_time": "2022-11-02T12:04:15.877Z"
   },
   {
    "duration": 17,
    "start_time": "2022-11-02T12:04:15.906Z"
   },
   {
    "duration": 19,
    "start_time": "2022-11-02T12:04:15.925Z"
   },
   {
    "duration": 16,
    "start_time": "2022-11-02T12:04:15.946Z"
   },
   {
    "duration": 65,
    "start_time": "2022-11-02T12:04:15.964Z"
   },
   {
    "duration": 1210,
    "start_time": "2022-11-02T12:04:16.031Z"
   },
   {
    "duration": 183,
    "start_time": "2022-11-02T12:04:17.242Z"
   },
   {
    "duration": 0,
    "start_time": "2022-11-02T12:04:17.427Z"
   },
   {
    "duration": 0,
    "start_time": "2022-11-02T12:04:17.428Z"
   },
   {
    "duration": 168,
    "start_time": "2022-11-02T12:04:29.080Z"
   },
   {
    "duration": 137,
    "start_time": "2022-11-02T12:05:25.865Z"
   },
   {
    "duration": 71,
    "start_time": "2022-11-02T12:05:33.672Z"
   },
   {
    "duration": 1185,
    "start_time": "2022-11-02T12:06:05.206Z"
   },
   {
    "duration": 1520,
    "start_time": "2022-11-02T12:06:19.948Z"
   },
   {
    "duration": 27,
    "start_time": "2022-11-02T12:06:21.470Z"
   },
   {
    "duration": 16,
    "start_time": "2022-11-02T12:06:21.499Z"
   },
   {
    "duration": 10,
    "start_time": "2022-11-02T12:06:21.517Z"
   },
   {
    "duration": 9,
    "start_time": "2022-11-02T12:06:21.528Z"
   },
   {
    "duration": 72,
    "start_time": "2022-11-02T12:06:21.538Z"
   },
   {
    "duration": 1175,
    "start_time": "2022-11-02T12:06:21.612Z"
   },
   {
    "duration": 225,
    "start_time": "2022-11-02T12:06:22.789Z"
   },
   {
    "duration": 0,
    "start_time": "2022-11-02T12:06:23.015Z"
   },
   {
    "duration": 0,
    "start_time": "2022-11-02T12:06:23.016Z"
   },
   {
    "duration": 427,
    "start_time": "2022-11-02T12:07:11.979Z"
   },
   {
    "duration": 345,
    "start_time": "2022-11-02T12:07:15.765Z"
   },
   {
    "duration": 26,
    "start_time": "2022-11-02T12:08:28.630Z"
   },
   {
    "duration": 93,
    "start_time": "2022-11-02T12:08:31.624Z"
   },
   {
    "duration": 8,
    "start_time": "2022-11-02T12:10:17.281Z"
   },
   {
    "duration": 76,
    "start_time": "2022-11-02T12:10:19.482Z"
   },
   {
    "duration": 56,
    "start_time": "2022-11-02T12:10:53.328Z"
   },
   {
    "duration": 56,
    "start_time": "2022-11-02T12:10:56.702Z"
   },
   {
    "duration": 1195,
    "start_time": "2022-11-02T12:11:28.630Z"
   },
   {
    "duration": 1133,
    "start_time": "2022-11-02T12:11:51.528Z"
   },
   {
    "duration": 2071,
    "start_time": "2022-11-02T12:12:21.629Z"
   },
   {
    "duration": 27,
    "start_time": "2022-11-02T12:12:23.702Z"
   },
   {
    "duration": 16,
    "start_time": "2022-11-02T12:12:23.731Z"
   },
   {
    "duration": 16,
    "start_time": "2022-11-02T12:12:23.748Z"
   },
   {
    "duration": 12,
    "start_time": "2022-11-02T12:12:23.767Z"
   },
   {
    "duration": 69,
    "start_time": "2022-11-02T12:12:23.780Z"
   },
   {
    "duration": 1230,
    "start_time": "2022-11-02T12:12:23.851Z"
   },
   {
    "duration": 634,
    "start_time": "2022-11-02T12:12:25.082Z"
   },
   {
    "duration": 0,
    "start_time": "2022-11-02T12:12:25.718Z"
   },
   {
    "duration": 0,
    "start_time": "2022-11-02T12:12:25.719Z"
   },
   {
    "duration": 105,
    "start_time": "2022-11-02T12:12:32.691Z"
   },
   {
    "duration": 68,
    "start_time": "2022-11-02T12:12:36.019Z"
   },
   {
    "duration": 1097,
    "start_time": "2022-11-02T13:24:40.376Z"
   },
   {
    "duration": 85,
    "start_time": "2022-11-02T13:24:41.475Z"
   },
   {
    "duration": 28,
    "start_time": "2022-11-02T13:24:41.562Z"
   },
   {
    "duration": 25,
    "start_time": "2022-11-02T13:24:41.591Z"
   },
   {
    "duration": 8,
    "start_time": "2022-11-02T13:24:42.198Z"
   },
   {
    "duration": 64,
    "start_time": "2022-11-02T13:24:43.038Z"
   },
   {
    "duration": 1241,
    "start_time": "2022-11-02T13:24:43.822Z"
   },
   {
    "duration": 233,
    "start_time": "2022-11-02T13:24:45.065Z"
   },
   {
    "duration": 1267,
    "start_time": "2022-11-02T13:24:56.705Z"
   },
   {
    "duration": 122,
    "start_time": "2022-11-02T13:25:03.831Z"
   },
   {
    "duration": 26,
    "start_time": "2022-11-02T13:25:10.421Z"
   },
   {
    "duration": 1223,
    "start_time": "2022-11-02T13:25:43.528Z"
   },
   {
    "duration": 40,
    "start_time": "2022-11-02T13:25:46.973Z"
   },
   {
    "duration": 67,
    "start_time": "2022-11-02T13:26:01.121Z"
   },
   {
    "duration": 1297,
    "start_time": "2022-11-02T13:26:08.628Z"
   },
   {
    "duration": 30,
    "start_time": "2022-11-02T13:26:10.715Z"
   },
   {
    "duration": 35,
    "start_time": "2022-11-02T13:27:08.279Z"
   },
   {
    "duration": 3,
    "start_time": "2022-11-02T13:27:14.436Z"
   },
   {
    "duration": 27,
    "start_time": "2022-11-02T13:27:15.098Z"
   },
   {
    "duration": 17,
    "start_time": "2022-11-02T13:27:16.473Z"
   },
   {
    "duration": 10,
    "start_time": "2022-11-02T13:27:16.913Z"
   },
   {
    "duration": 6,
    "start_time": "2022-11-02T13:27:19.200Z"
   },
   {
    "duration": 66,
    "start_time": "2022-11-02T13:27:21.024Z"
   },
   {
    "duration": 29,
    "start_time": "2022-11-02T13:28:33.916Z"
   },
   {
    "duration": 4521,
    "start_time": "2022-11-02T13:29:51.892Z"
   },
   {
    "duration": 30,
    "start_time": "2022-11-02T13:31:06.590Z"
   },
   {
    "duration": 1207,
    "start_time": "2022-11-02T13:31:52.077Z"
   },
   {
    "duration": 36,
    "start_time": "2022-11-02T13:31:53.860Z"
   },
   {
    "duration": 26,
    "start_time": "2022-11-02T13:35:46.703Z"
   },
   {
    "duration": 27,
    "start_time": "2022-11-02T13:36:05.527Z"
   },
   {
    "duration": 1183,
    "start_time": "2022-11-02T13:36:18.322Z"
   },
   {
    "duration": 27,
    "start_time": "2022-11-02T13:36:20.177Z"
   },
   {
    "duration": 29,
    "start_time": "2022-11-02T13:36:33.365Z"
   },
   {
    "duration": 85,
    "start_time": "2022-11-02T13:39:59.882Z"
   },
   {
    "duration": 8,
    "start_time": "2022-11-02T13:44:15.253Z"
   },
   {
    "duration": 104,
    "start_time": "2022-11-02T13:50:03.967Z"
   },
   {
    "duration": 3,
    "start_time": "2022-11-02T13:50:14.003Z"
   },
   {
    "duration": 29,
    "start_time": "2022-11-02T13:50:15.362Z"
   },
   {
    "duration": 11,
    "start_time": "2022-11-02T13:50:15.770Z"
   },
   {
    "duration": 10,
    "start_time": "2022-11-02T13:50:15.954Z"
   },
   {
    "duration": 7,
    "start_time": "2022-11-02T13:50:16.763Z"
   },
   {
    "duration": 74,
    "start_time": "2022-11-02T13:50:17.626Z"
   },
   {
    "duration": 1236,
    "start_time": "2022-11-02T13:50:18.259Z"
   },
   {
    "duration": 4474,
    "start_time": "2022-11-02T13:50:19.497Z"
   },
   {
    "duration": 314,
    "start_time": "2022-11-02T13:50:23.973Z"
   },
   {
    "duration": 4556,
    "start_time": "2022-11-02T13:52:04.656Z"
   },
   {
    "duration": 32,
    "start_time": "2022-11-02T13:52:11.710Z"
   },
   {
    "duration": 40,
    "start_time": "2022-11-02T13:53:40.965Z"
   },
   {
    "duration": 32,
    "start_time": "2022-11-02T13:54:50.152Z"
   },
   {
    "duration": 69,
    "start_time": "2022-11-02T14:02:09.613Z"
   },
   {
    "duration": 8,
    "start_time": "2022-11-02T14:03:06.136Z"
   },
   {
    "duration": 59,
    "start_time": "2022-11-02T14:05:57.116Z"
   },
   {
    "duration": 3,
    "start_time": "2022-11-02T14:08:09.024Z"
   },
   {
    "duration": 28,
    "start_time": "2022-11-02T14:08:09.655Z"
   },
   {
    "duration": 10,
    "start_time": "2022-11-02T14:08:10.095Z"
   },
   {
    "duration": 11,
    "start_time": "2022-11-02T14:08:10.294Z"
   },
   {
    "duration": 7,
    "start_time": "2022-11-02T14:08:11.318Z"
   },
   {
    "duration": 69,
    "start_time": "2022-11-02T14:08:12.647Z"
   },
   {
    "duration": 1182,
    "start_time": "2022-11-02T14:08:14.332Z"
   },
   {
    "duration": 106,
    "start_time": "2022-11-02T14:08:17.580Z"
   },
   {
    "duration": 8,
    "start_time": "2022-11-02T14:08:22.195Z"
   },
   {
    "duration": 1231,
    "start_time": "2022-11-02T14:09:02.068Z"
   },
   {
    "duration": 26,
    "start_time": "2022-11-02T14:09:04.065Z"
   },
   {
    "duration": 10,
    "start_time": "2022-11-02T14:09:07.705Z"
   },
   {
    "duration": 8,
    "start_time": "2022-11-02T14:09:32.288Z"
   },
   {
    "duration": 1190,
    "start_time": "2022-11-02T14:09:48.753Z"
   },
   {
    "duration": 95,
    "start_time": "2022-11-02T14:09:53.990Z"
   },
   {
    "duration": 9,
    "start_time": "2022-11-02T14:09:56.486Z"
   },
   {
    "duration": 1254,
    "start_time": "2022-11-02T14:10:40.733Z"
   },
   {
    "duration": 153,
    "start_time": "2022-11-02T14:10:42.427Z"
   },
   {
    "duration": 8,
    "start_time": "2022-11-02T14:10:46.626Z"
   },
   {
    "duration": 58,
    "start_time": "2022-11-02T14:11:15.702Z"
   },
   {
    "duration": 1171,
    "start_time": "2022-11-02T14:11:19.789Z"
   },
   {
    "duration": 41,
    "start_time": "2022-11-02T14:11:22.843Z"
   },
   {
    "duration": 7,
    "start_time": "2022-11-02T14:11:26.074Z"
   },
   {
    "duration": 1206,
    "start_time": "2022-11-02T14:12:16.215Z"
   },
   {
    "duration": 1351,
    "start_time": "2022-11-02T14:12:42.621Z"
   },
   {
    "duration": 9,
    "start_time": "2022-11-02T14:14:49.610Z"
   },
   {
    "duration": 1219,
    "start_time": "2022-11-02T14:15:10.291Z"
   },
   {
    "duration": 1239,
    "start_time": "2022-11-02T14:15:12.432Z"
   },
   {
    "duration": 8,
    "start_time": "2022-11-02T14:15:15.423Z"
   },
   {
    "duration": 8,
    "start_time": "2022-11-02T14:15:29.907Z"
   },
   {
    "duration": 1245,
    "start_time": "2022-11-02T14:15:46.540Z"
   },
   {
    "duration": 1249,
    "start_time": "2022-11-02T14:16:00.440Z"
   },
   {
    "duration": 8,
    "start_time": "2022-11-02T14:16:12.154Z"
   },
   {
    "duration": 1326,
    "start_time": "2022-11-02T14:16:41.903Z"
   },
   {
    "duration": 8,
    "start_time": "2022-11-02T14:16:43.550Z"
   },
   {
    "duration": 3,
    "start_time": "2022-11-02T14:18:52.939Z"
   },
   {
    "duration": 27,
    "start_time": "2022-11-02T14:18:53.745Z"
   },
   {
    "duration": 10,
    "start_time": "2022-11-02T14:18:54.008Z"
   },
   {
    "duration": 10,
    "start_time": "2022-11-02T14:18:54.201Z"
   },
   {
    "duration": 7,
    "start_time": "2022-11-02T14:18:55.056Z"
   },
   {
    "duration": 57,
    "start_time": "2022-11-02T14:18:55.912Z"
   },
   {
    "duration": 1247,
    "start_time": "2022-11-02T14:18:56.568Z"
   },
   {
    "duration": 9,
    "start_time": "2022-11-02T14:18:57.817Z"
   },
   {
    "duration": 68,
    "start_time": "2022-11-02T14:18:58.216Z"
   },
   {
    "duration": 7,
    "start_time": "2022-11-02T14:19:01.135Z"
   },
   {
    "duration": 1180,
    "start_time": "2022-11-02T14:24:46.011Z"
   },
   {
    "duration": 8,
    "start_time": "2022-11-02T14:24:49.068Z"
   },
   {
    "duration": 214,
    "start_time": "2022-11-02T14:24:53.672Z"
   },
   {
    "duration": 1206,
    "start_time": "2022-11-02T14:25:50.458Z"
   },
   {
    "duration": 11,
    "start_time": "2022-11-02T14:25:51.666Z"
   },
   {
    "duration": 3,
    "start_time": "2022-11-02T14:26:10.552Z"
   },
   {
    "duration": 3,
    "start_time": "2022-11-02T14:26:21.062Z"
   },
   {
    "duration": 8,
    "start_time": "2022-11-02T14:26:40.660Z"
   },
   {
    "duration": 1206,
    "start_time": "2022-11-02T14:26:49.330Z"
   },
   {
    "duration": 8,
    "start_time": "2022-11-02T14:26:50.538Z"
   },
   {
    "duration": 1188,
    "start_time": "2022-11-02T14:26:59.596Z"
   },
   {
    "duration": 2,
    "start_time": "2022-11-02T14:27:03.860Z"
   },
   {
    "duration": 1218,
    "start_time": "2022-11-02T14:27:51.273Z"
   },
   {
    "duration": 1312,
    "start_time": "2022-11-02T14:28:06.977Z"
   },
   {
    "duration": 1270,
    "start_time": "2022-11-02T14:28:47.075Z"
   },
   {
    "duration": 1272,
    "start_time": "2022-11-02T14:29:34.343Z"
   },
   {
    "duration": 1200,
    "start_time": "2022-11-02T14:29:52.432Z"
   },
   {
    "duration": 8,
    "start_time": "2022-11-02T14:30:07.162Z"
   },
   {
    "duration": 1156,
    "start_time": "2022-11-02T14:30:24.325Z"
   },
   {
    "duration": 7,
    "start_time": "2022-11-02T14:30:28.305Z"
   },
   {
    "duration": 8,
    "start_time": "2022-11-02T14:30:35.774Z"
   },
   {
    "duration": 1217,
    "start_time": "2022-11-02T14:31:12.280Z"
   },
   {
    "duration": 7,
    "start_time": "2022-11-02T14:31:13.499Z"
   },
   {
    "duration": 1231,
    "start_time": "2022-11-02T14:31:29.505Z"
   },
   {
    "duration": 3,
    "start_time": "2022-11-02T14:31:30.738Z"
   },
   {
    "duration": 6,
    "start_time": "2022-11-02T14:31:59.494Z"
   },
   {
    "duration": 62,
    "start_time": "2022-11-02T14:32:00.340Z"
   },
   {
    "duration": 1202,
    "start_time": "2022-11-02T14:32:01.083Z"
   },
   {
    "duration": 3,
    "start_time": "2022-11-02T14:32:02.287Z"
   },
   {
    "duration": 33,
    "start_time": "2022-11-02T14:32:04.051Z"
   },
   {
    "duration": 7,
    "start_time": "2022-11-02T14:32:09.353Z"
   },
   {
    "duration": 4,
    "start_time": "2022-11-02T14:32:15.071Z"
   },
   {
    "duration": 108,
    "start_time": "2022-11-02T14:32:27.657Z"
   },
   {
    "duration": 4,
    "start_time": "2022-11-02T14:32:41.572Z"
   },
   {
    "duration": 68,
    "start_time": "2022-11-02T14:33:21.780Z"
   },
   {
    "duration": 6,
    "start_time": "2022-11-02T14:33:27.561Z"
   },
   {
    "duration": 6,
    "start_time": "2022-11-02T14:33:33.566Z"
   },
   {
    "duration": 7,
    "start_time": "2022-11-02T14:33:36.686Z"
   },
   {
    "duration": 62,
    "start_time": "2022-11-02T14:38:53.181Z"
   },
   {
    "duration": 10,
    "start_time": "2022-11-02T14:53:21.542Z"
   },
   {
    "duration": 8,
    "start_time": "2022-11-02T14:53:47.564Z"
   },
   {
    "duration": 338,
    "start_time": "2022-11-02T14:54:14.959Z"
   },
   {
    "duration": 221,
    "start_time": "2022-11-02T14:54:22.348Z"
   },
   {
    "duration": 18,
    "start_time": "2022-11-02T14:55:00.933Z"
   },
   {
    "duration": 155,
    "start_time": "2022-11-02T14:55:17.462Z"
   },
   {
    "duration": 28507,
    "start_time": "2022-11-02T14:56:21.252Z"
   },
   {
    "duration": 6,
    "start_time": "2022-11-02T14:58:19.788Z"
   },
   {
    "duration": 19,
    "start_time": "2022-11-02T15:00:34.963Z"
   },
   {
    "duration": 9,
    "start_time": "2022-11-02T15:00:43.759Z"
   },
   {
    "duration": 13,
    "start_time": "2022-11-02T15:00:52.797Z"
   },
   {
    "duration": 3,
    "start_time": "2022-11-02T15:01:17.347Z"
   },
   {
    "duration": 4,
    "start_time": "2022-11-02T15:01:23.160Z"
   },
   {
    "duration": 65,
    "start_time": "2022-11-02T15:02:23.207Z"
   },
   {
    "duration": 12,
    "start_time": "2022-11-02T15:04:19.000Z"
   },
   {
    "duration": 10,
    "start_time": "2022-11-02T15:04:36.472Z"
   },
   {
    "duration": 201,
    "start_time": "2022-11-02T15:04:56.521Z"
   },
   {
    "duration": 18,
    "start_time": "2022-11-02T15:05:07.004Z"
   },
   {
    "duration": 10,
    "start_time": "2022-11-02T15:07:38.824Z"
   },
   {
    "duration": 206,
    "start_time": "2022-11-02T15:07:42.302Z"
   },
   {
    "duration": 188,
    "start_time": "2022-11-02T15:30:30.030Z"
   },
   {
    "duration": 178,
    "start_time": "2022-11-02T15:30:37.939Z"
   },
   {
    "duration": 5,
    "start_time": "2022-11-02T15:33:58.480Z"
   },
   {
    "duration": 12,
    "start_time": "2022-11-02T15:34:25.580Z"
   },
   {
    "duration": 9,
    "start_time": "2022-11-02T15:34:37.536Z"
   },
   {
    "duration": 8,
    "start_time": "2022-11-02T15:43:02.804Z"
   },
   {
    "duration": 16,
    "start_time": "2022-11-02T15:43:13.295Z"
   },
   {
    "duration": 8,
    "start_time": "2022-11-02T15:44:15.560Z"
   },
   {
    "duration": 82,
    "start_time": "2022-11-02T15:44:39.574Z"
   },
   {
    "duration": 10,
    "start_time": "2022-11-02T15:44:47.763Z"
   },
   {
    "duration": 57,
    "start_time": "2022-11-02T15:44:50.969Z"
   },
   {
    "duration": 22,
    "start_time": "2022-11-02T15:47:58.376Z"
   },
   {
    "duration": 3,
    "start_time": "2022-11-02T15:55:10.726Z"
   },
   {
    "duration": 18,
    "start_time": "2022-11-02T15:55:22.106Z"
   },
   {
    "duration": 3,
    "start_time": "2022-11-02T15:55:37.627Z"
   },
   {
    "duration": 1063,
    "start_time": "2022-11-02T15:56:36.316Z"
   },
   {
    "duration": 65,
    "start_time": "2022-11-02T15:59:06.648Z"
   },
   {
    "duration": 3,
    "start_time": "2022-11-02T15:59:14.757Z"
   },
   {
    "duration": 1203,
    "start_time": "2022-11-02T15:59:20.402Z"
   },
   {
    "duration": 9,
    "start_time": "2022-11-02T15:59:42.809Z"
   },
   {
    "duration": 4,
    "start_time": "2022-11-02T15:59:48.958Z"
   },
   {
    "duration": 5,
    "start_time": "2022-11-02T16:00:01.807Z"
   },
   {
    "duration": 4,
    "start_time": "2022-11-02T16:00:05.849Z"
   },
   {
    "duration": 9,
    "start_time": "2022-11-02T16:00:41.067Z"
   },
   {
    "duration": 10,
    "start_time": "2022-11-02T16:00:50.254Z"
   },
   {
    "duration": 929,
    "start_time": "2022-11-02T16:01:25.434Z"
   },
   {
    "duration": 10,
    "start_time": "2022-11-02T16:01:35.917Z"
   },
   {
    "duration": 97,
    "start_time": "2022-11-02T16:02:21.083Z"
   },
   {
    "duration": 10,
    "start_time": "2022-11-02T16:02:30.470Z"
   },
   {
    "duration": 902,
    "start_time": "2022-11-02T16:04:21.567Z"
   },
   {
    "duration": 76,
    "start_time": "2022-11-02T16:04:39.128Z"
   },
   {
    "duration": 10,
    "start_time": "2022-11-02T16:04:44.205Z"
   },
   {
    "duration": 11,
    "start_time": "2022-11-02T16:05:03.669Z"
   },
   {
    "duration": 11,
    "start_time": "2022-11-02T16:05:30.291Z"
   },
   {
    "duration": 10,
    "start_time": "2022-11-02T16:08:00.132Z"
   },
   {
    "duration": 10,
    "start_time": "2022-11-02T16:08:12.431Z"
   },
   {
    "duration": 10,
    "start_time": "2022-11-02T16:08:30.375Z"
   },
   {
    "duration": 16,
    "start_time": "2022-11-02T16:09:07.280Z"
   },
   {
    "duration": 11,
    "start_time": "2022-11-02T16:09:55.837Z"
   },
   {
    "duration": 6,
    "start_time": "2022-11-02T16:17:51.770Z"
   },
   {
    "duration": 85,
    "start_time": "2022-11-02T16:18:32.345Z"
   },
   {
    "duration": 58,
    "start_time": "2022-11-02T18:21:40.983Z"
   },
   {
    "duration": 60,
    "start_time": "2022-11-02T18:29:34.653Z"
   },
   {
    "duration": 17,
    "start_time": "2022-11-02T18:30:12.905Z"
   },
   {
    "duration": 6,
    "start_time": "2022-11-02T18:30:52.792Z"
   },
   {
    "duration": 151,
    "start_time": "2022-11-02T18:31:22.261Z"
   },
   {
    "duration": 2,
    "start_time": "2022-11-02T18:31:37.478Z"
   },
   {
    "duration": 2,
    "start_time": "2022-11-02T18:31:40.062Z"
   },
   {
    "duration": 6,
    "start_time": "2022-11-02T18:31:46.685Z"
   },
   {
    "duration": 6,
    "start_time": "2022-11-02T18:33:57.734Z"
   },
   {
    "duration": 9,
    "start_time": "2022-11-02T18:34:34.361Z"
   },
   {
    "duration": 138,
    "start_time": "2022-11-02T18:34:40.768Z"
   },
   {
    "duration": 5,
    "start_time": "2022-11-02T18:36:02.421Z"
   },
   {
    "duration": 130,
    "start_time": "2022-11-02T18:37:39.576Z"
   },
   {
    "duration": 4,
    "start_time": "2022-11-02T18:38:01.263Z"
   },
   {
    "duration": 1050,
    "start_time": "2022-11-03T05:18:54.420Z"
   },
   {
    "duration": 66,
    "start_time": "2022-11-03T05:18:55.630Z"
   },
   {
    "duration": 17,
    "start_time": "2022-11-03T05:18:56.285Z"
   },
   {
    "duration": 10,
    "start_time": "2022-11-03T05:18:56.598Z"
   },
   {
    "duration": 6,
    "start_time": "2022-11-03T05:18:57.333Z"
   },
   {
    "duration": 9,
    "start_time": "2022-11-03T05:18:58.198Z"
   },
   {
    "duration": 56,
    "start_time": "2022-11-03T05:18:59.595Z"
   },
   {
    "duration": 5,
    "start_time": "2022-11-03T05:18:59.915Z"
   },
   {
    "duration": 3,
    "start_time": "2022-11-03T05:20:00.222Z"
   },
   {
    "duration": 86,
    "start_time": "2022-11-03T05:20:25.098Z"
   },
   {
    "duration": 468,
    "start_time": "2022-11-03T05:21:33.815Z"
   },
   {
    "duration": 104,
    "start_time": "2022-11-03T05:21:49.986Z"
   },
   {
    "duration": 3,
    "start_time": "2022-11-03T05:22:28.800Z"
   },
   {
    "duration": 30,
    "start_time": "2022-11-03T05:22:29.344Z"
   },
   {
    "duration": 10,
    "start_time": "2022-11-03T05:22:29.712Z"
   },
   {
    "duration": 11,
    "start_time": "2022-11-03T05:22:29.897Z"
   },
   {
    "duration": 5,
    "start_time": "2022-11-03T05:22:30.296Z"
   },
   {
    "duration": 13,
    "start_time": "2022-11-03T05:22:31.015Z"
   },
   {
    "duration": 149,
    "start_time": "2022-11-03T05:22:32.583Z"
   },
   {
    "duration": 154,
    "start_time": "2022-11-03T05:22:42.011Z"
   },
   {
    "duration": 184,
    "start_time": "2022-11-03T05:22:57.758Z"
   },
   {
    "duration": 61,
    "start_time": "2022-11-03T05:23:11.676Z"
   },
   {
    "duration": 574,
    "start_time": "2022-11-03T05:23:34.791Z"
   },
   {
    "duration": 112,
    "start_time": "2022-11-03T05:24:37.221Z"
   },
   {
    "duration": 89,
    "start_time": "2022-11-03T05:24:43.378Z"
   },
   {
    "duration": 568,
    "start_time": "2022-11-03T05:25:15.046Z"
   },
   {
    "duration": 665,
    "start_time": "2022-11-03T05:25:26.930Z"
   },
   {
    "duration": 620,
    "start_time": "2022-11-03T05:25:39.757Z"
   },
   {
    "duration": 57,
    "start_time": "2022-11-03T05:27:44.499Z"
   },
   {
    "duration": 229,
    "start_time": "2022-11-03T05:28:05.986Z"
   },
   {
    "duration": 57,
    "start_time": "2022-11-03T05:28:34.799Z"
   },
   {
    "duration": 23,
    "start_time": "2022-11-03T05:28:50.944Z"
   },
   {
    "duration": 161,
    "start_time": "2022-11-03T05:28:58.646Z"
   },
   {
    "duration": 15,
    "start_time": "2022-11-03T05:31:58.022Z"
   },
   {
    "duration": 180,
    "start_time": "2022-11-03T05:32:11.432Z"
   },
   {
    "duration": 103,
    "start_time": "2022-11-03T05:32:20.589Z"
   },
   {
    "duration": 105,
    "start_time": "2022-11-03T05:32:28.995Z"
   },
   {
    "duration": 14,
    "start_time": "2022-11-03T05:33:25.643Z"
   },
   {
    "duration": 14,
    "start_time": "2022-11-03T05:33:48.003Z"
   },
   {
    "duration": 284,
    "start_time": "2022-11-03T05:35:01.942Z"
   },
   {
    "duration": 16,
    "start_time": "2022-11-03T05:35:14.520Z"
   },
   {
    "duration": 103,
    "start_time": "2022-11-03T05:35:31.337Z"
   },
   {
    "duration": 167,
    "start_time": "2022-11-03T05:38:57.415Z"
   },
   {
    "duration": 187,
    "start_time": "2022-11-03T05:39:15.799Z"
   },
   {
    "duration": 134,
    "start_time": "2022-11-03T05:39:21.684Z"
   },
   {
    "duration": 212,
    "start_time": "2022-11-03T05:39:43.861Z"
   },
   {
    "duration": 208,
    "start_time": "2022-11-03T05:40:09.937Z"
   },
   {
    "duration": 213,
    "start_time": "2022-11-03T05:40:45.357Z"
   },
   {
    "duration": 667,
    "start_time": "2022-11-03T05:41:31.265Z"
   },
   {
    "duration": 59,
    "start_time": "2022-11-03T05:41:55.391Z"
   },
   {
    "duration": 77,
    "start_time": "2022-11-03T05:42:41.543Z"
   },
   {
    "duration": 77,
    "start_time": "2022-11-03T05:42:58.878Z"
   },
   {
    "duration": 173,
    "start_time": "2022-11-03T05:43:30.314Z"
   },
   {
    "duration": 60,
    "start_time": "2022-11-03T05:43:54.185Z"
   },
   {
    "duration": 60,
    "start_time": "2022-11-03T05:44:12.537Z"
   },
   {
    "duration": 157,
    "start_time": "2022-11-03T05:44:24.581Z"
   },
   {
    "duration": 151,
    "start_time": "2022-11-03T05:44:41.158Z"
   },
   {
    "duration": 169,
    "start_time": "2022-11-03T05:46:23.734Z"
   },
   {
    "duration": 154,
    "start_time": "2022-11-03T05:46:47.828Z"
   },
   {
    "duration": 190,
    "start_time": "2022-11-03T05:46:58.248Z"
   },
   {
    "duration": 156,
    "start_time": "2022-11-03T05:47:11.034Z"
   },
   {
    "duration": 143,
    "start_time": "2022-11-03T05:47:15.125Z"
   },
   {
    "duration": 163,
    "start_time": "2022-11-03T05:47:54.321Z"
   },
   {
    "duration": 78,
    "start_time": "2022-11-03T05:49:39.208Z"
   },
   {
    "duration": 185,
    "start_time": "2022-11-03T05:49:50.251Z"
   },
   {
    "duration": 180,
    "start_time": "2022-11-03T05:50:12.177Z"
   },
   {
    "duration": 202,
    "start_time": "2022-11-03T05:50:46.189Z"
   },
   {
    "duration": 165,
    "start_time": "2022-11-03T05:51:06.397Z"
   },
   {
    "duration": 191,
    "start_time": "2022-11-03T05:51:19.382Z"
   },
   {
    "duration": 221,
    "start_time": "2022-11-03T05:52:39.231Z"
   },
   {
    "duration": 198,
    "start_time": "2022-11-03T05:52:58.080Z"
   },
   {
    "duration": 172,
    "start_time": "2022-11-03T05:54:24.833Z"
   },
   {
    "duration": 165,
    "start_time": "2022-11-03T05:55:03.901Z"
   },
   {
    "duration": 177,
    "start_time": "2022-11-03T05:55:44.661Z"
   },
   {
    "duration": 206,
    "start_time": "2022-11-03T05:56:17.049Z"
   },
   {
    "duration": 204,
    "start_time": "2022-11-03T05:57:56.761Z"
   },
   {
    "duration": 212,
    "start_time": "2022-11-03T05:58:13.609Z"
   },
   {
    "duration": 187,
    "start_time": "2022-11-03T05:58:29.067Z"
   },
   {
    "duration": 172,
    "start_time": "2022-11-03T06:16:51.047Z"
   },
   {
    "duration": 12,
    "start_time": "2022-11-03T06:24:05.503Z"
   },
   {
    "duration": 11,
    "start_time": "2022-11-03T06:24:34.980Z"
   },
   {
    "duration": 920,
    "start_time": "2022-11-03T06:25:57.012Z"
   },
   {
    "duration": 855,
    "start_time": "2022-11-03T06:26:14.388Z"
   },
   {
    "duration": 5,
    "start_time": "2022-11-03T06:26:24.098Z"
   },
   {
    "duration": 11,
    "start_time": "2022-11-03T06:26:40.874Z"
   },
   {
    "duration": 3104,
    "start_time": "2022-11-03T06:26:51.102Z"
   },
   {
    "duration": 16,
    "start_time": "2022-11-03T06:27:43.602Z"
   },
   {
    "duration": 15,
    "start_time": "2022-11-03T06:27:55.949Z"
   },
   {
    "duration": 113,
    "start_time": "2022-11-03T06:28:19.059Z"
   },
   {
    "duration": 11,
    "start_time": "2022-11-03T06:29:10.639Z"
   },
   {
    "duration": 131,
    "start_time": "2022-11-03T06:29:17.221Z"
   },
   {
    "duration": 10,
    "start_time": "2022-11-03T06:29:32.686Z"
   },
   {
    "duration": 125,
    "start_time": "2022-11-03T06:29:49.334Z"
   },
   {
    "duration": 2706,
    "start_time": "2022-11-03T06:31:49.945Z"
   },
   {
    "duration": 2777,
    "start_time": "2022-11-03T06:36:56.434Z"
   },
   {
    "duration": 2826,
    "start_time": "2022-11-03T06:37:04.067Z"
   },
   {
    "duration": 181,
    "start_time": "2022-11-03T06:38:22.043Z"
   },
   {
    "duration": 174,
    "start_time": "2022-11-03T06:41:46.475Z"
   },
   {
    "duration": 26,
    "start_time": "2022-11-03T07:16:50.534Z"
   },
   {
    "duration": 18,
    "start_time": "2022-11-03T07:19:33.941Z"
   },
   {
    "duration": 16,
    "start_time": "2022-11-03T07:19:49.942Z"
   },
   {
    "duration": 17,
    "start_time": "2022-11-03T07:20:02.537Z"
   },
   {
    "duration": 22,
    "start_time": "2022-11-03T07:21:24.912Z"
   },
   {
    "duration": 13,
    "start_time": "2022-11-03T07:21:40.937Z"
   },
   {
    "duration": 14,
    "start_time": "2022-11-03T07:23:37.051Z"
   },
   {
    "duration": 14,
    "start_time": "2022-11-03T07:23:48.718Z"
   },
   {
    "duration": 13,
    "start_time": "2022-11-03T07:24:00.068Z"
   },
   {
    "duration": 3,
    "start_time": "2022-11-03T07:28:34.901Z"
   },
   {
    "duration": 31,
    "start_time": "2022-11-03T07:28:35.523Z"
   },
   {
    "duration": 13,
    "start_time": "2022-11-03T07:28:35.994Z"
   },
   {
    "duration": 15,
    "start_time": "2022-11-03T07:28:36.235Z"
   },
   {
    "duration": 6,
    "start_time": "2022-11-03T07:28:36.643Z"
   },
   {
    "duration": 13,
    "start_time": "2022-11-03T07:28:37.387Z"
   },
   {
    "duration": 205,
    "start_time": "2022-11-03T07:28:38.699Z"
   },
   {
    "duration": 1335,
    "start_time": "2022-11-03T07:28:39.676Z"
   },
   {
    "duration": 319,
    "start_time": "2022-11-03T07:28:41.013Z"
   },
   {
    "duration": 7,
    "start_time": "2022-11-03T07:28:42.936Z"
   },
   {
    "duration": 34,
    "start_time": "2022-11-03T07:28:44.312Z"
   },
   {
    "duration": 171,
    "start_time": "2022-11-03T07:29:00.103Z"
   },
   {
    "duration": 698,
    "start_time": "2022-11-03T07:33:36.925Z"
   },
   {
    "duration": 1224,
    "start_time": "2022-11-03T07:47:31.089Z"
   },
   {
    "duration": 1302,
    "start_time": "2022-11-03T07:47:56.976Z"
   },
   {
    "duration": 1220,
    "start_time": "2022-11-03T07:48:50.722Z"
   },
   {
    "duration": 4,
    "start_time": "2022-11-03T07:49:42.539Z"
   },
   {
    "duration": 29,
    "start_time": "2022-11-03T07:49:43.171Z"
   },
   {
    "duration": 9,
    "start_time": "2022-11-03T07:49:43.628Z"
   },
   {
    "duration": 10,
    "start_time": "2022-11-03T07:49:43.835Z"
   },
   {
    "duration": 6,
    "start_time": "2022-11-03T07:49:44.267Z"
   },
   {
    "duration": 9,
    "start_time": "2022-11-03T07:49:44.955Z"
   },
   {
    "duration": 216,
    "start_time": "2022-11-03T07:49:46.052Z"
   },
   {
    "duration": 1205,
    "start_time": "2022-11-03T07:49:47.203Z"
   },
   {
    "duration": 213,
    "start_time": "2022-11-03T07:49:48.410Z"
   },
   {
    "duration": 7,
    "start_time": "2022-11-03T07:49:50.193Z"
   },
   {
    "duration": 245,
    "start_time": "2022-11-03T07:49:51.781Z"
   },
   {
    "duration": 44,
    "start_time": "2022-11-03T08:54:04.946Z"
   },
   {
    "duration": 1694,
    "start_time": "2022-11-03T08:54:42.596Z"
   },
   {
    "duration": 30,
    "start_time": "2022-11-03T08:54:44.292Z"
   },
   {
    "duration": 14,
    "start_time": "2022-11-03T08:54:44.323Z"
   },
   {
    "duration": 19,
    "start_time": "2022-11-03T08:54:44.339Z"
   },
   {
    "duration": 23,
    "start_time": "2022-11-03T08:54:44.360Z"
   },
   {
    "duration": 39,
    "start_time": "2022-11-03T08:54:44.384Z"
   },
   {
    "duration": 192,
    "start_time": "2022-11-03T08:54:44.425Z"
   },
   {
    "duration": 1233,
    "start_time": "2022-11-03T08:54:44.621Z"
   },
   {
    "duration": 468,
    "start_time": "2022-11-03T08:54:45.855Z"
   },
   {
    "duration": 97,
    "start_time": "2022-11-03T08:54:46.326Z"
   },
   {
    "duration": 498,
    "start_time": "2022-11-03T08:54:46.424Z"
   },
   {
    "duration": 113,
    "start_time": "2022-11-03T08:58:15.512Z"
   },
   {
    "duration": 172,
    "start_time": "2022-11-03T08:58:46.635Z"
   },
   {
    "duration": 168,
    "start_time": "2022-11-03T08:59:09.448Z"
   },
   {
    "duration": 4,
    "start_time": "2022-11-03T08:59:33.345Z"
   },
   {
    "duration": 4,
    "start_time": "2022-11-03T08:59:39.537Z"
   },
   {
    "duration": 168,
    "start_time": "2022-11-03T09:00:35.878Z"
   },
   {
    "duration": 296,
    "start_time": "2022-11-03T09:01:08.899Z"
   },
   {
    "duration": 183,
    "start_time": "2022-11-03T09:01:13.462Z"
   },
   {
    "duration": 352,
    "start_time": "2022-11-03T09:01:21.134Z"
   },
   {
    "duration": 64,
    "start_time": "2022-11-05T16:18:42.038Z"
   },
   {
    "duration": 1601,
    "start_time": "2022-11-05T16:18:50.461Z"
   },
   {
    "duration": 124,
    "start_time": "2022-11-05T16:18:52.065Z"
   },
   {
    "duration": 17,
    "start_time": "2022-11-05T16:18:52.191Z"
   },
   {
    "duration": 13,
    "start_time": "2022-11-05T16:18:52.211Z"
   },
   {
    "duration": 8,
    "start_time": "2022-11-05T16:18:52.293Z"
   },
   {
    "duration": 12,
    "start_time": "2022-11-05T16:18:53.134Z"
   },
   {
    "duration": 219,
    "start_time": "2022-11-05T16:18:54.404Z"
   },
   {
    "duration": 349,
    "start_time": "2022-11-05T16:18:55.515Z"
   },
   {
    "duration": 1336,
    "start_time": "2022-11-05T16:18:57.332Z"
   },
   {
    "duration": 2,
    "start_time": "2022-11-05T16:19:02.249Z"
   },
   {
    "duration": 335133,
    "start_time": "2022-11-05T16:20:54.230Z"
   },
   {
    "duration": 326668,
    "start_time": "2022-11-05T16:39:33.872Z"
   },
   {
    "duration": 12,
    "start_time": "2022-11-05T16:45:00.542Z"
   },
   {
    "duration": 4,
    "start_time": "2022-11-05T17:20:22.001Z"
   },
   {
    "duration": 4,
    "start_time": "2022-11-05T17:21:21.626Z"
   },
   {
    "duration": 72,
    "start_time": "2022-11-05T17:21:42.865Z"
   },
   {
    "duration": 3,
    "start_time": "2022-11-05T17:21:52.542Z"
   },
   {
    "duration": 331,
    "start_time": "2022-11-05T17:21:54.924Z"
   },
   {
    "duration": 13,
    "start_time": "2022-11-05T17:22:06.423Z"
   },
   {
    "duration": 4,
    "start_time": "2022-11-05T17:23:34.700Z"
   },
   {
    "duration": 13,
    "start_time": "2022-11-05T17:23:40.922Z"
   },
   {
    "duration": 1362,
    "start_time": "2022-11-05T17:26:05.439Z"
   },
   {
    "duration": 3,
    "start_time": "2022-11-05T17:26:07.783Z"
   },
   {
    "duration": 3,
    "start_time": "2022-11-05T17:26:08.631Z"
   },
   {
    "duration": 2,
    "start_time": "2022-11-05T17:26:09.064Z"
   },
   {
    "duration": 244,
    "start_time": "2022-11-05T17:26:10.719Z"
   },
   {
    "duration": 308,
    "start_time": "2022-11-05T17:26:12.652Z"
   },
   {
    "duration": 8,
    "start_time": "2022-11-05T17:26:34.997Z"
   },
   {
    "duration": 4,
    "start_time": "2022-11-05T17:26:42.440Z"
   },
   {
    "duration": 32,
    "start_time": "2022-11-05T17:26:43.288Z"
   },
   {
    "duration": 12,
    "start_time": "2022-11-05T17:26:43.729Z"
   },
   {
    "duration": 12,
    "start_time": "2022-11-05T17:26:43.929Z"
   },
   {
    "duration": 6,
    "start_time": "2022-11-05T17:26:44.344Z"
   },
   {
    "duration": 11,
    "start_time": "2022-11-05T17:26:45.225Z"
   },
   {
    "duration": 218,
    "start_time": "2022-11-05T17:26:46.545Z"
   },
   {
    "duration": 318,
    "start_time": "2022-11-05T17:26:47.649Z"
   },
   {
    "duration": 1388,
    "start_time": "2022-11-05T17:26:48.094Z"
   },
   {
    "duration": 3,
    "start_time": "2022-11-05T17:26:49.485Z"
   },
   {
    "duration": 5,
    "start_time": "2022-11-05T17:26:49.490Z"
   },
   {
    "duration": 5,
    "start_time": "2022-11-05T17:26:49.497Z"
   },
   {
    "duration": 384,
    "start_time": "2022-11-05T17:26:50.078Z"
   },
   {
    "duration": 8,
    "start_time": "2022-11-05T17:26:52.198Z"
   },
   {
    "duration": 8,
    "start_time": "2022-11-05T17:29:09.551Z"
   },
   {
    "duration": 3,
    "start_time": "2022-11-05T17:29:22.857Z"
   },
   {
    "duration": 3,
    "start_time": "2022-11-05T17:29:25.491Z"
   },
   {
    "duration": 4,
    "start_time": "2022-11-05T17:29:30.319Z"
   },
   {
    "duration": 14,
    "start_time": "2022-11-05T17:30:05.904Z"
   },
   {
    "duration": 14,
    "start_time": "2022-11-05T17:30:28.545Z"
   },
   {
    "duration": 43,
    "start_time": "2022-11-05T17:31:06.713Z"
   },
   {
    "duration": 3,
    "start_time": "2022-11-05T17:31:32.030Z"
   },
   {
    "duration": 45,
    "start_time": "2022-11-05T17:31:32.893Z"
   },
   {
    "duration": 12,
    "start_time": "2022-11-05T17:31:33.334Z"
   },
   {
    "duration": 12,
    "start_time": "2022-11-05T17:31:33.550Z"
   },
   {
    "duration": 6,
    "start_time": "2022-11-05T17:31:33.998Z"
   },
   {
    "duration": 12,
    "start_time": "2022-11-05T17:31:34.934Z"
   },
   {
    "duration": 207,
    "start_time": "2022-11-05T17:31:36.540Z"
   },
   {
    "duration": 335,
    "start_time": "2022-11-05T17:31:37.643Z"
   },
   {
    "duration": 1383,
    "start_time": "2022-11-05T17:31:38.660Z"
   },
   {
    "duration": 9,
    "start_time": "2022-11-05T17:31:40.045Z"
   },
   {
    "duration": 3,
    "start_time": "2022-11-05T17:31:40.056Z"
   },
   {
    "duration": 3,
    "start_time": "2022-11-05T17:31:46.664Z"
   },
   {
    "duration": 6,
    "start_time": "2022-11-05T17:31:47.216Z"
   },
   {
    "duration": 191,
    "start_time": "2022-11-05T17:32:00.372Z"
   },
   {
    "duration": 8,
    "start_time": "2022-11-05T17:32:05.257Z"
   },
   {
    "duration": 35,
    "start_time": "2022-11-05T17:32:55.358Z"
   },
   {
    "duration": 45,
    "start_time": "2022-11-05T17:33:02.203Z"
   },
   {
    "duration": 44,
    "start_time": "2022-11-05T17:33:04.809Z"
   },
   {
    "duration": 54,
    "start_time": "2022-11-05T17:33:11.687Z"
   },
   {
    "duration": 42,
    "start_time": "2022-11-05T17:35:06.480Z"
   },
   {
    "duration": 44,
    "start_time": "2022-11-05T17:35:12.262Z"
   },
   {
    "duration": 59,
    "start_time": "2022-11-05T17:35:14.878Z"
   },
   {
    "duration": 45,
    "start_time": "2022-11-05T17:35:54.457Z"
   },
   {
    "duration": 47,
    "start_time": "2022-11-05T17:36:17.005Z"
   },
   {
    "duration": 2,
    "start_time": "2022-11-05T17:41:09.585Z"
   },
   {
    "duration": 43,
    "start_time": "2022-11-05T17:41:47.714Z"
   },
   {
    "duration": 1341,
    "start_time": "2022-11-05T17:42:09.888Z"
   },
   {
    "duration": 1381,
    "start_time": "2022-11-05T17:42:19.493Z"
   },
   {
    "duration": 43,
    "start_time": "2022-11-05T17:42:29.369Z"
   },
   {
    "duration": 41,
    "start_time": "2022-11-05T17:42:34.502Z"
   },
   {
    "duration": 1328,
    "start_time": "2022-11-05T17:42:39.750Z"
   },
   {
    "duration": 48,
    "start_time": "2022-11-05T17:43:15.415Z"
   },
   {
    "duration": 45,
    "start_time": "2022-11-05T17:43:18.765Z"
   },
   {
    "duration": 45,
    "start_time": "2022-11-05T17:46:10.240Z"
   },
   {
    "duration": 44,
    "start_time": "2022-11-05T17:46:18.158Z"
   },
   {
    "duration": 42,
    "start_time": "2022-11-05T17:46:56.248Z"
   },
   {
    "duration": 44,
    "start_time": "2022-11-05T17:47:12.216Z"
   },
   {
    "duration": 42,
    "start_time": "2022-11-05T17:47:22.013Z"
   },
   {
    "duration": 1496,
    "start_time": "2022-11-05T17:48:00.659Z"
   },
   {
    "duration": 1430,
    "start_time": "2022-11-05T17:48:18.136Z"
   },
   {
    "duration": 1416,
    "start_time": "2022-11-05T17:48:56.918Z"
   },
   {
    "duration": 35,
    "start_time": "2022-11-05T17:50:55.847Z"
   },
   {
    "duration": 1572,
    "start_time": "2022-11-05T17:52:19.750Z"
   },
   {
    "duration": 1504,
    "start_time": "2022-11-05T17:52:27.803Z"
   },
   {
    "duration": 48,
    "start_time": "2022-11-05T17:53:22.388Z"
   },
   {
    "duration": 41,
    "start_time": "2022-11-05T17:53:50.688Z"
   },
   {
    "duration": 46,
    "start_time": "2022-11-05T17:54:05.956Z"
   },
   {
    "duration": 45,
    "start_time": "2022-11-05T17:54:17.726Z"
   },
   {
    "duration": 73,
    "start_time": "2022-11-05T17:54:38.431Z"
   },
   {
    "duration": 35364,
    "start_time": "2022-11-05T17:55:43.212Z"
   },
   {
    "duration": 6503,
    "start_time": "2022-11-05T18:18:13.891Z"
   },
   {
    "duration": 182660,
    "start_time": "2022-11-05T19:05:39.030Z"
   },
   {
    "duration": 36,
    "start_time": "2022-11-05T19:26:42.462Z"
   },
   {
    "duration": 264106,
    "start_time": "2022-11-05T19:26:55.225Z"
   },
   {
    "duration": 52,
    "start_time": "2022-11-05T19:32:05.213Z"
   },
   {
    "duration": 254,
    "start_time": "2022-11-05T19:32:41.422Z"
   },
   {
    "duration": 42,
    "start_time": "2022-11-05T19:33:20.576Z"
   },
   {
    "duration": 40,
    "start_time": "2022-11-05T19:33:29.459Z"
   },
   {
    "duration": 46,
    "start_time": "2022-11-05T19:33:42.693Z"
   }
  ],
  "kernelspec": {
   "display_name": "Python 3 (ipykernel)",
   "language": "python",
   "name": "python3"
  },
  "language_info": {
   "codemirror_mode": {
    "name": "ipython",
    "version": 3
   },
   "file_extension": ".py",
   "mimetype": "text/x-python",
   "name": "python",
   "nbconvert_exporter": "python",
   "pygments_lexer": "ipython3",
   "version": "3.9.13"
  },
  "toc": {
   "base_numbering": 1,
   "nav_menu": {},
   "number_sections": true,
   "sideBar": true,
   "skip_h1_title": true,
   "title_cell": "Table of Contents",
   "title_sidebar": "Contents",
   "toc_cell": false,
   "toc_position": {},
   "toc_section_display": true,
   "toc_window_display": false
  }
 },
 "nbformat": 4,
 "nbformat_minor": 2
}
