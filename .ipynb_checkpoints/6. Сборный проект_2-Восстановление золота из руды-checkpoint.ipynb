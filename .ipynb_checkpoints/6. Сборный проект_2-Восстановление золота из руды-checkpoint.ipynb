{
 "cells": [
  {
   "cell_type": "markdown",
   "metadata": {
    "toc": true
   },
   "source": [
    "<h1>Содержание<span class=\"tocSkip\"></span></h1>\n",
    "<div class=\"toc\"><ul class=\"toc-item\"><li><span><a href=\"#Подготовка-данных\" data-toc-modified-id=\"Подготовка-данных-1\"><span class=\"toc-item-num\">1&nbsp;&nbsp;</span>Подготовка данных</a></span></li><li><span><a href=\"#Анализ-данных\" data-toc-modified-id=\"Анализ-данных-2\"><span class=\"toc-item-num\">2&nbsp;&nbsp;</span>Анализ данных</a></span></li><li><span><a href=\"#Модель\" data-toc-modified-id=\"Модель-3\"><span class=\"toc-item-num\">3&nbsp;&nbsp;</span>Модель</a></span></li><li><span><a href=\"#Чек-лист-готовности-проекта\" data-toc-modified-id=\"Чек-лист-готовности-проекта-4\"><span class=\"toc-item-num\">4&nbsp;&nbsp;</span>Чек-лист готовности проекта</a></span></li></ul></div>"
   ]
  },
  {
   "cell_type": "markdown",
   "metadata": {},
   "source": [
    "# Восстановление золота из руды"
   ]
  },
  {
   "cell_type": "markdown",
   "metadata": {},
   "source": [
    "Подготовьте прототип модели машинного обучения для «Цифры». Компания разрабатывает решения для эффективной работы промышленных предприятий.\n",
    "\n",
    "Модель должна предсказать коэффициент восстановления золота из золотосодержащей руды. Используйте данные с параметрами добычи и очистки. \n",
    "\n",
    "Модель поможет оптимизировать производство, чтобы не запускать предприятие с убыточными характеристиками.\n",
    "\n",
    "Вам нужно:\n",
    "\n",
    "1. Подготовить данные;\n",
    "2. Провести исследовательский анализ данных;\n",
    "3. Построить и обучить модель.\n",
    "\n",
    "Чтобы выполнить проект, обращайтесь к библиотекам *pandas*, *matplotlib* и *sklearn.* Вам поможет их документация."
   ]
  },
  {
   "cell_type": "code",
   "execution_count": 1,
   "metadata": {},
   "outputs": [],
   "source": [
    "import pandas as pd\n",
    "import numpy as np\n",
    "import matplotlib as mb\n",
    "import matplotlib.pyplot as plt\n",
    "from scipy import stats as st\n",
    "from scipy.stats import mannwhitneyu\n",
    "import seaborn as sns\n",
    "\n",
    "from sklearn.metrics import mean_absolute_error\n",
    "#from sklearn.model_selection import cross_val_predict\n",
    "from sklearn.model_selection import cross_val_score\n",
    "from sklearn.metrics import make_scorer\n",
    "\n",
    "from sklearn.tree import DecisionTreeRegressor\n",
    "from sklearn.linear_model import LinearRegression\n",
    "from sklearn.ensemble import RandomForestRegressor\n",
    "\n",
    "from sklearn.model_selection import GridSearchCV\n",
    "from sklearn.dummy import DummyRegressor"
   ]
  },
  {
   "cell_type": "markdown",
   "metadata": {},
   "source": [
    "## Подготовка данных"
   ]
  },
  {
   "cell_type": "markdown",
   "metadata": {},
   "source": [
    " # 1.1 Откроем файлы и посмотрим на них"
   ]
  },
  {
   "cell_type": "code",
   "execution_count": 2,
   "metadata": {},
   "outputs": [],
   "source": [
    "data_train = pd.read_csv('/datasets/gold_recovery_train_new.csv')\n",
    "data_test = pd.read_csv('/datasets/gold_recovery_test_new.csv')\n",
    "full_data = pd.read_csv('/datasets/gold_recovery_full_new.csv')"
   ]
  },
  {
   "cell_type": "code",
   "execution_count": 3,
   "metadata": {},
   "outputs": [
    {
     "name": "stdout",
     "output_type": "stream",
     "text": [
      "<class 'pandas.core.frame.DataFrame'>\n",
      "RangeIndex: 5290 entries, 0 to 5289\n",
      "Data columns (total 53 columns):\n",
      " #   Column                                      Non-Null Count  Dtype  \n",
      "---  ------                                      --------------  -----  \n",
      " 0   date                                        5290 non-null   object \n",
      " 1   primary_cleaner.input.sulfate               5286 non-null   float64\n",
      " 2   primary_cleaner.input.depressant            5285 non-null   float64\n",
      " 3   primary_cleaner.input.feed_size             5290 non-null   float64\n",
      " 4   primary_cleaner.input.xanthate              5286 non-null   float64\n",
      " 5   primary_cleaner.state.floatbank8_a_air      5290 non-null   float64\n",
      " 6   primary_cleaner.state.floatbank8_a_level    5290 non-null   float64\n",
      " 7   primary_cleaner.state.floatbank8_b_air      5290 non-null   float64\n",
      " 8   primary_cleaner.state.floatbank8_b_level    5290 non-null   float64\n",
      " 9   primary_cleaner.state.floatbank8_c_air      5290 non-null   float64\n",
      " 10  primary_cleaner.state.floatbank8_c_level    5290 non-null   float64\n",
      " 11  primary_cleaner.state.floatbank8_d_air      5290 non-null   float64\n",
      " 12  primary_cleaner.state.floatbank8_d_level    5290 non-null   float64\n",
      " 13  rougher.input.feed_ag                       5290 non-null   float64\n",
      " 14  rougher.input.feed_pb                       5290 non-null   float64\n",
      " 15  rougher.input.feed_rate                     5287 non-null   float64\n",
      " 16  rougher.input.feed_size                     5289 non-null   float64\n",
      " 17  rougher.input.feed_sol                      5269 non-null   float64\n",
      " 18  rougher.input.feed_au                       5290 non-null   float64\n",
      " 19  rougher.input.floatbank10_sulfate           5285 non-null   float64\n",
      " 20  rougher.input.floatbank10_xanthate          5290 non-null   float64\n",
      " 21  rougher.input.floatbank11_sulfate           5282 non-null   float64\n",
      " 22  rougher.input.floatbank11_xanthate          5265 non-null   float64\n",
      " 23  rougher.state.floatbank10_a_air             5290 non-null   float64\n",
      " 24  rougher.state.floatbank10_a_level           5290 non-null   float64\n",
      " 25  rougher.state.floatbank10_b_air             5290 non-null   float64\n",
      " 26  rougher.state.floatbank10_b_level           5290 non-null   float64\n",
      " 27  rougher.state.floatbank10_c_air             5290 non-null   float64\n",
      " 28  rougher.state.floatbank10_c_level           5290 non-null   float64\n",
      " 29  rougher.state.floatbank10_d_air             5290 non-null   float64\n",
      " 30  rougher.state.floatbank10_d_level           5290 non-null   float64\n",
      " 31  rougher.state.floatbank10_e_air             5290 non-null   float64\n",
      " 32  rougher.state.floatbank10_e_level           5290 non-null   float64\n",
      " 33  rougher.state.floatbank10_f_air             5290 non-null   float64\n",
      " 34  rougher.state.floatbank10_f_level           5290 non-null   float64\n",
      " 35  secondary_cleaner.state.floatbank2_a_air    5287 non-null   float64\n",
      " 36  secondary_cleaner.state.floatbank2_a_level  5290 non-null   float64\n",
      " 37  secondary_cleaner.state.floatbank2_b_air    5288 non-null   float64\n",
      " 38  secondary_cleaner.state.floatbank2_b_level  5290 non-null   float64\n",
      " 39  secondary_cleaner.state.floatbank3_a_air    5281 non-null   float64\n",
      " 40  secondary_cleaner.state.floatbank3_a_level  5290 non-null   float64\n",
      " 41  secondary_cleaner.state.floatbank3_b_air    5290 non-null   float64\n",
      " 42  secondary_cleaner.state.floatbank3_b_level  5290 non-null   float64\n",
      " 43  secondary_cleaner.state.floatbank4_a_air    5290 non-null   float64\n",
      " 44  secondary_cleaner.state.floatbank4_a_level  5290 non-null   float64\n",
      " 45  secondary_cleaner.state.floatbank4_b_air    5290 non-null   float64\n",
      " 46  secondary_cleaner.state.floatbank4_b_level  5290 non-null   float64\n",
      " 47  secondary_cleaner.state.floatbank5_a_air    5290 non-null   float64\n",
      " 48  secondary_cleaner.state.floatbank5_a_level  5290 non-null   float64\n",
      " 49  secondary_cleaner.state.floatbank5_b_air    5290 non-null   float64\n",
      " 50  secondary_cleaner.state.floatbank5_b_level  5290 non-null   float64\n",
      " 51  secondary_cleaner.state.floatbank6_a_air    5290 non-null   float64\n",
      " 52  secondary_cleaner.state.floatbank6_a_level  5290 non-null   float64\n",
      "dtypes: float64(52), object(1)\n",
      "memory usage: 2.1+ MB\n"
     ]
    }
   ],
   "source": [
    "data_test.info()"
   ]
  },
  {
   "cell_type": "code",
   "execution_count": 4,
   "metadata": {},
   "outputs": [
    {
     "name": "stdout",
     "output_type": "stream",
     "text": [
      "<class 'pandas.core.frame.DataFrame'>\n",
      "RangeIndex: 14149 entries, 0 to 14148\n",
      "Data columns (total 87 columns):\n",
      " #   Column                                              Non-Null Count  Dtype  \n",
      "---  ------                                              --------------  -----  \n",
      " 0   date                                                14149 non-null  object \n",
      " 1   final.output.concentrate_ag                         14148 non-null  float64\n",
      " 2   final.output.concentrate_pb                         14148 non-null  float64\n",
      " 3   final.output.concentrate_sol                        13938 non-null  float64\n",
      " 4   final.output.concentrate_au                         14149 non-null  float64\n",
      " 5   final.output.recovery                               14149 non-null  float64\n",
      " 6   final.output.tail_ag                                14149 non-null  float64\n",
      " 7   final.output.tail_pb                                14049 non-null  float64\n",
      " 8   final.output.tail_sol                               14144 non-null  float64\n",
      " 9   final.output.tail_au                                14149 non-null  float64\n",
      " 10  primary_cleaner.input.sulfate                       14129 non-null  float64\n",
      " 11  primary_cleaner.input.depressant                    14117 non-null  float64\n",
      " 12  primary_cleaner.input.feed_size                     14149 non-null  float64\n",
      " 13  primary_cleaner.input.xanthate                      14049 non-null  float64\n",
      " 14  primary_cleaner.output.concentrate_ag               14149 non-null  float64\n",
      " 15  primary_cleaner.output.concentrate_pb               14063 non-null  float64\n",
      " 16  primary_cleaner.output.concentrate_sol              13863 non-null  float64\n",
      " 17  primary_cleaner.output.concentrate_au               14149 non-null  float64\n",
      " 18  primary_cleaner.output.tail_ag                      14148 non-null  float64\n",
      " 19  primary_cleaner.output.tail_pb                      14134 non-null  float64\n",
      " 20  primary_cleaner.output.tail_sol                     14103 non-null  float64\n",
      " 21  primary_cleaner.output.tail_au                      14149 non-null  float64\n",
      " 22  primary_cleaner.state.floatbank8_a_air              14145 non-null  float64\n",
      " 23  primary_cleaner.state.floatbank8_a_level            14148 non-null  float64\n",
      " 24  primary_cleaner.state.floatbank8_b_air              14145 non-null  float64\n",
      " 25  primary_cleaner.state.floatbank8_b_level            14148 non-null  float64\n",
      " 26  primary_cleaner.state.floatbank8_c_air              14147 non-null  float64\n",
      " 27  primary_cleaner.state.floatbank8_c_level            14148 non-null  float64\n",
      " 28  primary_cleaner.state.floatbank8_d_air              14146 non-null  float64\n",
      " 29  primary_cleaner.state.floatbank8_d_level            14148 non-null  float64\n",
      " 30  rougher.calculation.sulfate_to_au_concentrate       14148 non-null  float64\n",
      " 31  rougher.calculation.floatbank10_sulfate_to_au_feed  14148 non-null  float64\n",
      " 32  rougher.calculation.floatbank11_sulfate_to_au_feed  14148 non-null  float64\n",
      " 33  rougher.calculation.au_pb_ratio                     14149 non-null  float64\n",
      " 34  rougher.input.feed_ag                               14149 non-null  float64\n",
      " 35  rougher.input.feed_pb                               14049 non-null  float64\n",
      " 36  rougher.input.feed_rate                             14141 non-null  float64\n",
      " 37  rougher.input.feed_size                             14005 non-null  float64\n",
      " 38  rougher.input.feed_sol                              14071 non-null  float64\n",
      " 39  rougher.input.feed_au                               14149 non-null  float64\n",
      " 40  rougher.input.floatbank10_sulfate                   14120 non-null  float64\n",
      " 41  rougher.input.floatbank10_xanthate                  14141 non-null  float64\n",
      " 42  rougher.input.floatbank11_sulfate                   14113 non-null  float64\n",
      " 43  rougher.input.floatbank11_xanthate                  13721 non-null  float64\n",
      " 44  rougher.output.concentrate_ag                       14149 non-null  float64\n",
      " 45  rougher.output.concentrate_pb                       14149 non-null  float64\n",
      " 46  rougher.output.concentrate_sol                      14127 non-null  float64\n",
      " 47  rougher.output.concentrate_au                       14149 non-null  float64\n",
      " 48  rougher.output.recovery                             14149 non-null  float64\n",
      " 49  rougher.output.tail_ag                              14148 non-null  float64\n",
      " 50  rougher.output.tail_pb                              14149 non-null  float64\n",
      " 51  rougher.output.tail_sol                             14149 non-null  float64\n",
      " 52  rougher.output.tail_au                              14149 non-null  float64\n",
      " 53  rougher.state.floatbank10_a_air                     14148 non-null  float64\n",
      " 54  rougher.state.floatbank10_a_level                   14148 non-null  float64\n",
      " 55  rougher.state.floatbank10_b_air                     14148 non-null  float64\n",
      " 56  rougher.state.floatbank10_b_level                   14148 non-null  float64\n",
      " 57  rougher.state.floatbank10_c_air                     14148 non-null  float64\n",
      " 58  rougher.state.floatbank10_c_level                   14148 non-null  float64\n",
      " 59  rougher.state.floatbank10_d_air                     14149 non-null  float64\n",
      " 60  rougher.state.floatbank10_d_level                   14149 non-null  float64\n",
      " 61  rougher.state.floatbank10_e_air                     13713 non-null  float64\n",
      " 62  rougher.state.floatbank10_e_level                   14149 non-null  float64\n",
      " 63  rougher.state.floatbank10_f_air                     14149 non-null  float64\n",
      " 64  rougher.state.floatbank10_f_level                   14149 non-null  float64\n",
      " 65  secondary_cleaner.output.tail_ag                    14147 non-null  float64\n",
      " 66  secondary_cleaner.output.tail_pb                    14139 non-null  float64\n",
      " 67  secondary_cleaner.output.tail_sol                   12544 non-null  float64\n",
      " 68  secondary_cleaner.output.tail_au                    14149 non-null  float64\n",
      " 69  secondary_cleaner.state.floatbank2_a_air            13932 non-null  float64\n",
      " 70  secondary_cleaner.state.floatbank2_a_level          14148 non-null  float64\n",
      " 71  secondary_cleaner.state.floatbank2_b_air            14128 non-null  float64\n",
      " 72  secondary_cleaner.state.floatbank2_b_level          14148 non-null  float64\n",
      " 73  secondary_cleaner.state.floatbank3_a_air            14145 non-null  float64\n",
      " 74  secondary_cleaner.state.floatbank3_a_level          14148 non-null  float64\n",
      " 75  secondary_cleaner.state.floatbank3_b_air            14148 non-null  float64\n",
      " 76  secondary_cleaner.state.floatbank3_b_level          14148 non-null  float64\n",
      " 77  secondary_cleaner.state.floatbank4_a_air            14143 non-null  float64\n",
      " 78  secondary_cleaner.state.floatbank4_a_level          14148 non-null  float64\n",
      " 79  secondary_cleaner.state.floatbank4_b_air            14148 non-null  float64\n",
      " 80  secondary_cleaner.state.floatbank4_b_level          14148 non-null  float64\n",
      " 81  secondary_cleaner.state.floatbank5_a_air            14148 non-null  float64\n",
      " 82  secondary_cleaner.state.floatbank5_a_level          14148 non-null  float64\n",
      " 83  secondary_cleaner.state.floatbank5_b_air            14148 non-null  float64\n",
      " 84  secondary_cleaner.state.floatbank5_b_level          14148 non-null  float64\n",
      " 85  secondary_cleaner.state.floatbank6_a_air            14147 non-null  float64\n",
      " 86  secondary_cleaner.state.floatbank6_a_level          14148 non-null  float64\n",
      "dtypes: float64(86), object(1)\n",
      "memory usage: 9.4+ MB\n"
     ]
    }
   ],
   "source": [
    "data_train.info()"
   ]
  },
  {
   "cell_type": "markdown",
   "metadata": {},
   "source": [
    "# 1.2 Проверим, что посчитано верно"
   ]
  },
  {
   "cell_type": "code",
   "execution_count": 5,
   "metadata": {},
   "outputs": [],
   "source": [
    "# доля золота в сырье/концентрате до флотации/очистки;c\n",
    "C = data_train['rougher.output.concentrate_au']\n",
    "# доля золота в отвальных хвостах после флотации/очистки.f\n",
    "F = data_train['rougher.input.feed_au']\n",
    "# доля золота в концентрате после флотации/очистки;t\n",
    "T = data_train['rougher.output.tail_au']"
   ]
  },
  {
   "cell_type": "code",
   "execution_count": 6,
   "metadata": {},
   "outputs": [
    {
     "data": {
      "text/plain": [
       "82.70450164550293"
      ]
     },
     "execution_count": 6,
     "metadata": {},
     "output_type": "execute_result"
    }
   ],
   "source": [
    "recovery = ((C*(F-T))/(F*(C-T)))*100\n",
    "recovery.mean()"
   ]
  },
  {
   "cell_type": "code",
   "execution_count": 7,
   "metadata": {},
   "outputs": [
    {
     "data": {
      "text/plain": [
       "82.70450164550293"
      ]
     },
     "execution_count": 7,
     "metadata": {},
     "output_type": "execute_result"
    }
   ],
   "source": [
    "data_train['rougher.output.recovery'].mean()"
   ]
  },
  {
   "cell_type": "markdown",
   "metadata": {},
   "source": [
    "Сравнили с данными  для признака rougher.output.recovery, они одинаковы"
   ]
  },
  {
   "cell_type": "code",
   "execution_count": 8,
   "metadata": {},
   "outputs": [
    {
     "data": {
      "text/plain": [
       "9.73512347450521e-15"
      ]
     },
     "execution_count": 8,
     "metadata": {},
     "output_type": "execute_result"
    }
   ],
   "source": [
    "mae = mean_absolute_error(recovery, data_train['rougher.output.recovery'])\n",
    "mae"
   ]
  },
  {
   "cell_type": "markdown",
   "metadata": {},
   "source": [
    "Вероятность ошибки мала, ну точно всё верно."
   ]
  },
  {
   "cell_type": "code",
   "execution_count": 9,
   "metadata": {},
   "outputs": [],
   "source": [
    "delet_ = full_data.drop(columns=data_test.columns)"
   ]
  },
  {
   "cell_type": "code",
   "execution_count": 10,
   "metadata": {},
   "outputs": [
    {
     "name": "stdout",
     "output_type": "stream",
     "text": [
      "<class 'pandas.core.frame.DataFrame'>\n",
      "RangeIndex: 19439 entries, 0 to 19438\n",
      "Data columns (total 34 columns):\n",
      " #   Column                                              Non-Null Count  Dtype  \n",
      "---  ------                                              --------------  -----  \n",
      " 0   final.output.concentrate_ag                         19438 non-null  float64\n",
      " 1   final.output.concentrate_pb                         19438 non-null  float64\n",
      " 2   final.output.concentrate_sol                        19228 non-null  float64\n",
      " 3   final.output.concentrate_au                         19439 non-null  float64\n",
      " 4   final.output.recovery                               19439 non-null  float64\n",
      " 5   final.output.tail_ag                                19438 non-null  float64\n",
      " 6   final.output.tail_pb                                19338 non-null  float64\n",
      " 7   final.output.tail_sol                               19433 non-null  float64\n",
      " 8   final.output.tail_au                                19439 non-null  float64\n",
      " 9   primary_cleaner.output.concentrate_ag               19439 non-null  float64\n",
      " 10  primary_cleaner.output.concentrate_pb               19323 non-null  float64\n",
      " 11  primary_cleaner.output.concentrate_sol              19069 non-null  float64\n",
      " 12  primary_cleaner.output.concentrate_au               19439 non-null  float64\n",
      " 13  primary_cleaner.output.tail_ag                      19435 non-null  float64\n",
      " 14  primary_cleaner.output.tail_pb                      19418 non-null  float64\n",
      " 15  primary_cleaner.output.tail_sol                     19377 non-null  float64\n",
      " 16  primary_cleaner.output.tail_au                      19439 non-null  float64\n",
      " 17  rougher.calculation.sulfate_to_au_concentrate       19437 non-null  float64\n",
      " 18  rougher.calculation.floatbank10_sulfate_to_au_feed  19437 non-null  float64\n",
      " 19  rougher.calculation.floatbank11_sulfate_to_au_feed  19437 non-null  float64\n",
      " 20  rougher.calculation.au_pb_ratio                     19439 non-null  float64\n",
      " 21  rougher.output.concentrate_ag                       19439 non-null  float64\n",
      " 22  rougher.output.concentrate_pb                       19439 non-null  float64\n",
      " 23  rougher.output.concentrate_sol                      19416 non-null  float64\n",
      " 24  rougher.output.concentrate_au                       19439 non-null  float64\n",
      " 25  rougher.output.recovery                             19439 non-null  float64\n",
      " 26  rougher.output.tail_ag                              19438 non-null  float64\n",
      " 27  rougher.output.tail_pb                              19439 non-null  float64\n",
      " 28  rougher.output.tail_sol                             19439 non-null  float64\n",
      " 29  rougher.output.tail_au                              19439 non-null  float64\n",
      " 30  secondary_cleaner.output.tail_ag                    19437 non-null  float64\n",
      " 31  secondary_cleaner.output.tail_pb                    19427 non-null  float64\n",
      " 32  secondary_cleaner.output.tail_sol                   17691 non-null  float64\n",
      " 33  secondary_cleaner.output.tail_au                    19439 non-null  float64\n",
      "dtypes: float64(34)\n",
      "memory usage: 5.0 MB\n"
     ]
    }
   ],
   "source": [
    "delet_.info()"
   ]
  },
  {
   "cell_type": "markdown",
   "metadata": {},
   "source": [
    "Данные признаки отсуствуют в тесте. input нету, выходит. На входе следующего шага мы имеем выход предыдущего. и актуальность дублировать теряется. Больше не знаю."
   ]
  },
  {
   "cell_type": "code",
   "execution_count": 11,
   "metadata": {},
   "outputs": [
    {
     "data": {
      "text/plain": [
       "0"
      ]
     },
     "execution_count": 11,
     "metadata": {},
     "output_type": "execute_result"
    }
   ],
   "source": [
    "data_train.duplicated().sum()"
   ]
  },
  {
   "cell_type": "code",
   "execution_count": 12,
   "metadata": {},
   "outputs": [
    {
     "data": {
      "text/plain": [
       "0"
      ]
     },
     "execution_count": 12,
     "metadata": {},
     "output_type": "execute_result"
    }
   ],
   "source": [
    "data_test.duplicated().sum()"
   ]
  },
  {
   "cell_type": "markdown",
   "metadata": {},
   "source": [
    "Дублей нету, посмотрим пропуски"
   ]
  },
  {
   "cell_type": "code",
   "execution_count": 13,
   "metadata": {},
   "outputs": [
    {
     "data": {
      "text/plain": [
       "date                                            0\n",
       "final.output.concentrate_ag                     1\n",
       "final.output.concentrate_pb                     1\n",
       "final.output.concentrate_sol                  211\n",
       "final.output.concentrate_au                     0\n",
       "                                             ... \n",
       "secondary_cleaner.state.floatbank5_a_level      1\n",
       "secondary_cleaner.state.floatbank5_b_air        1\n",
       "secondary_cleaner.state.floatbank5_b_level      1\n",
       "secondary_cleaner.state.floatbank6_a_air        2\n",
       "secondary_cleaner.state.floatbank6_a_level      1\n",
       "Length: 87, dtype: int64"
      ]
     },
     "execution_count": 13,
     "metadata": {},
     "output_type": "execute_result"
    }
   ],
   "source": [
    "data_train.isna().sum()"
   ]
  },
  {
   "cell_type": "code",
   "execution_count": 14,
   "metadata": {},
   "outputs": [
    {
     "data": {
      "text/plain": [
       "date                                           0\n",
       "primary_cleaner.input.sulfate                  4\n",
       "primary_cleaner.input.depressant               5\n",
       "primary_cleaner.input.feed_size                0\n",
       "primary_cleaner.input.xanthate                 4\n",
       "primary_cleaner.state.floatbank8_a_air         0\n",
       "primary_cleaner.state.floatbank8_a_level       0\n",
       "primary_cleaner.state.floatbank8_b_air         0\n",
       "primary_cleaner.state.floatbank8_b_level       0\n",
       "primary_cleaner.state.floatbank8_c_air         0\n",
       "primary_cleaner.state.floatbank8_c_level       0\n",
       "primary_cleaner.state.floatbank8_d_air         0\n",
       "primary_cleaner.state.floatbank8_d_level       0\n",
       "rougher.input.feed_ag                          0\n",
       "rougher.input.feed_pb                          0\n",
       "rougher.input.feed_rate                        3\n",
       "rougher.input.feed_size                        1\n",
       "rougher.input.feed_sol                        21\n",
       "rougher.input.feed_au                          0\n",
       "rougher.input.floatbank10_sulfate              5\n",
       "rougher.input.floatbank10_xanthate             0\n",
       "rougher.input.floatbank11_sulfate              8\n",
       "rougher.input.floatbank11_xanthate            25\n",
       "rougher.state.floatbank10_a_air                0\n",
       "rougher.state.floatbank10_a_level              0\n",
       "rougher.state.floatbank10_b_air                0\n",
       "rougher.state.floatbank10_b_level              0\n",
       "rougher.state.floatbank10_c_air                0\n",
       "rougher.state.floatbank10_c_level              0\n",
       "rougher.state.floatbank10_d_air                0\n",
       "rougher.state.floatbank10_d_level              0\n",
       "rougher.state.floatbank10_e_air                0\n",
       "rougher.state.floatbank10_e_level              0\n",
       "rougher.state.floatbank10_f_air                0\n",
       "rougher.state.floatbank10_f_level              0\n",
       "secondary_cleaner.state.floatbank2_a_air       3\n",
       "secondary_cleaner.state.floatbank2_a_level     0\n",
       "secondary_cleaner.state.floatbank2_b_air       2\n",
       "secondary_cleaner.state.floatbank2_b_level     0\n",
       "secondary_cleaner.state.floatbank3_a_air       9\n",
       "secondary_cleaner.state.floatbank3_a_level     0\n",
       "secondary_cleaner.state.floatbank3_b_air       0\n",
       "secondary_cleaner.state.floatbank3_b_level     0\n",
       "secondary_cleaner.state.floatbank4_a_air       0\n",
       "secondary_cleaner.state.floatbank4_a_level     0\n",
       "secondary_cleaner.state.floatbank4_b_air       0\n",
       "secondary_cleaner.state.floatbank4_b_level     0\n",
       "secondary_cleaner.state.floatbank5_a_air       0\n",
       "secondary_cleaner.state.floatbank5_a_level     0\n",
       "secondary_cleaner.state.floatbank5_b_air       0\n",
       "secondary_cleaner.state.floatbank5_b_level     0\n",
       "secondary_cleaner.state.floatbank6_a_air       0\n",
       "secondary_cleaner.state.floatbank6_a_level     0\n",
       "dtype: int64"
      ]
     },
     "execution_count": 14,
     "metadata": {},
     "output_type": "execute_result"
    }
   ],
   "source": [
    "data_test.isna().sum()"
   ]
  },
  {
   "cell_type": "code",
   "execution_count": 15,
   "metadata": {},
   "outputs": [
    {
     "data": {
      "text/plain": [
       "date                                            0\n",
       "final.output.concentrate_ag                     1\n",
       "final.output.concentrate_pb                     1\n",
       "final.output.concentrate_sol                  211\n",
       "final.output.concentrate_au                     0\n",
       "                                             ... \n",
       "secondary_cleaner.state.floatbank5_a_level      1\n",
       "secondary_cleaner.state.floatbank5_b_air        1\n",
       "secondary_cleaner.state.floatbank5_b_level      1\n",
       "secondary_cleaner.state.floatbank6_a_air        2\n",
       "secondary_cleaner.state.floatbank6_a_level      1\n",
       "Length: 87, dtype: int64"
      ]
     },
     "execution_count": 15,
     "metadata": {},
     "output_type": "execute_result"
    }
   ],
   "source": [
    "full_data.isna().sum()"
   ]
  },
  {
   "cell_type": "markdown",
   "metadata": {},
   "source": [
    "# 1.4 удалим пропуски"
   ]
  },
  {
   "cell_type": "code",
   "execution_count": 16,
   "metadata": {},
   "outputs": [],
   "source": [
    "pd.set_option(\"display.max_rows\", 90)\n",
    "pd.set_option(\"display.max_columns\", 90)"
   ]
  },
  {
   "cell_type": "code",
   "execution_count": 17,
   "metadata": {},
   "outputs": [],
   "source": [
    "a = data_train.loc[data_train['final.output.concentrate_sol']\n",
    "                   == data_train['final.output.concentrate_sol'].isna()]"
   ]
  },
  {
   "cell_type": "code",
   "execution_count": 18,
   "metadata": {},
   "outputs": [],
   "source": [
    "data_test.ffill(axis=0, inplace=True)\n",
    "data_train.ffill(axis=0, inplace=True)\n",
    "full_data.ffill(axis=0, inplace=True)"
   ]
  },
  {
   "cell_type": "code",
   "execution_count": 19,
   "metadata": {},
   "outputs": [
    {
     "data": {
      "text/plain": [
       "date                                          0\n",
       "primary_cleaner.input.sulfate                 0\n",
       "primary_cleaner.input.depressant              0\n",
       "primary_cleaner.input.feed_size               0\n",
       "primary_cleaner.input.xanthate                0\n",
       "primary_cleaner.state.floatbank8_a_air        0\n",
       "primary_cleaner.state.floatbank8_a_level      0\n",
       "primary_cleaner.state.floatbank8_b_air        0\n",
       "primary_cleaner.state.floatbank8_b_level      0\n",
       "primary_cleaner.state.floatbank8_c_air        0\n",
       "primary_cleaner.state.floatbank8_c_level      0\n",
       "primary_cleaner.state.floatbank8_d_air        0\n",
       "primary_cleaner.state.floatbank8_d_level      0\n",
       "rougher.input.feed_ag                         0\n",
       "rougher.input.feed_pb                         0\n",
       "rougher.input.feed_rate                       0\n",
       "rougher.input.feed_size                       0\n",
       "rougher.input.feed_sol                        0\n",
       "rougher.input.feed_au                         0\n",
       "rougher.input.floatbank10_sulfate             0\n",
       "rougher.input.floatbank10_xanthate            0\n",
       "rougher.input.floatbank11_sulfate             0\n",
       "rougher.input.floatbank11_xanthate            0\n",
       "rougher.state.floatbank10_a_air               0\n",
       "rougher.state.floatbank10_a_level             0\n",
       "rougher.state.floatbank10_b_air               0\n",
       "rougher.state.floatbank10_b_level             0\n",
       "rougher.state.floatbank10_c_air               0\n",
       "rougher.state.floatbank10_c_level             0\n",
       "rougher.state.floatbank10_d_air               0\n",
       "rougher.state.floatbank10_d_level             0\n",
       "rougher.state.floatbank10_e_air               0\n",
       "rougher.state.floatbank10_e_level             0\n",
       "rougher.state.floatbank10_f_air               0\n",
       "rougher.state.floatbank10_f_level             0\n",
       "secondary_cleaner.state.floatbank2_a_air      0\n",
       "secondary_cleaner.state.floatbank2_a_level    0\n",
       "secondary_cleaner.state.floatbank2_b_air      0\n",
       "secondary_cleaner.state.floatbank2_b_level    0\n",
       "secondary_cleaner.state.floatbank3_a_air      0\n",
       "secondary_cleaner.state.floatbank3_a_level    0\n",
       "secondary_cleaner.state.floatbank3_b_air      0\n",
       "secondary_cleaner.state.floatbank3_b_level    0\n",
       "secondary_cleaner.state.floatbank4_a_air      0\n",
       "secondary_cleaner.state.floatbank4_a_level    0\n",
       "secondary_cleaner.state.floatbank4_b_air      0\n",
       "secondary_cleaner.state.floatbank4_b_level    0\n",
       "secondary_cleaner.state.floatbank5_a_air      0\n",
       "secondary_cleaner.state.floatbank5_a_level    0\n",
       "secondary_cleaner.state.floatbank5_b_air      0\n",
       "secondary_cleaner.state.floatbank5_b_level    0\n",
       "secondary_cleaner.state.floatbank6_a_air      0\n",
       "secondary_cleaner.state.floatbank6_a_level    0\n",
       "dtype: int64"
      ]
     },
     "execution_count": 19,
     "metadata": {},
     "output_type": "execute_result"
    }
   ],
   "source": [
    "data_test.isna().sum()"
   ]
  },
  {
   "cell_type": "code",
   "execution_count": 20,
   "metadata": {},
   "outputs": [
    {
     "data": {
      "text/plain": [
       "date                                                  0\n",
       "final.output.concentrate_ag                           0\n",
       "final.output.concentrate_pb                           0\n",
       "final.output.concentrate_sol                          0\n",
       "final.output.concentrate_au                           0\n",
       "final.output.recovery                                 0\n",
       "final.output.tail_ag                                  0\n",
       "final.output.tail_pb                                  0\n",
       "final.output.tail_sol                                 0\n",
       "final.output.tail_au                                  0\n",
       "primary_cleaner.input.sulfate                         0\n",
       "primary_cleaner.input.depressant                      0\n",
       "primary_cleaner.input.feed_size                       0\n",
       "primary_cleaner.input.xanthate                        0\n",
       "primary_cleaner.output.concentrate_ag                 0\n",
       "primary_cleaner.output.concentrate_pb                 0\n",
       "primary_cleaner.output.concentrate_sol                0\n",
       "primary_cleaner.output.concentrate_au                 0\n",
       "primary_cleaner.output.tail_ag                        0\n",
       "primary_cleaner.output.tail_pb                        0\n",
       "primary_cleaner.output.tail_sol                       0\n",
       "primary_cleaner.output.tail_au                        0\n",
       "primary_cleaner.state.floatbank8_a_air                0\n",
       "primary_cleaner.state.floatbank8_a_level              0\n",
       "primary_cleaner.state.floatbank8_b_air                0\n",
       "primary_cleaner.state.floatbank8_b_level              0\n",
       "primary_cleaner.state.floatbank8_c_air                0\n",
       "primary_cleaner.state.floatbank8_c_level              0\n",
       "primary_cleaner.state.floatbank8_d_air                0\n",
       "primary_cleaner.state.floatbank8_d_level              0\n",
       "rougher.calculation.sulfate_to_au_concentrate         0\n",
       "rougher.calculation.floatbank10_sulfate_to_au_feed    0\n",
       "rougher.calculation.floatbank11_sulfate_to_au_feed    0\n",
       "rougher.calculation.au_pb_ratio                       0\n",
       "rougher.input.feed_ag                                 0\n",
       "rougher.input.feed_pb                                 0\n",
       "rougher.input.feed_rate                               0\n",
       "rougher.input.feed_size                               0\n",
       "rougher.input.feed_sol                                0\n",
       "rougher.input.feed_au                                 0\n",
       "rougher.input.floatbank10_sulfate                     0\n",
       "rougher.input.floatbank10_xanthate                    0\n",
       "rougher.input.floatbank11_sulfate                     0\n",
       "rougher.input.floatbank11_xanthate                    0\n",
       "rougher.output.concentrate_ag                         0\n",
       "rougher.output.concentrate_pb                         0\n",
       "rougher.output.concentrate_sol                        0\n",
       "rougher.output.concentrate_au                         0\n",
       "rougher.output.recovery                               0\n",
       "rougher.output.tail_ag                                0\n",
       "rougher.output.tail_pb                                0\n",
       "rougher.output.tail_sol                               0\n",
       "rougher.output.tail_au                                0\n",
       "rougher.state.floatbank10_a_air                       0\n",
       "rougher.state.floatbank10_a_level                     0\n",
       "rougher.state.floatbank10_b_air                       0\n",
       "rougher.state.floatbank10_b_level                     0\n",
       "rougher.state.floatbank10_c_air                       0\n",
       "rougher.state.floatbank10_c_level                     0\n",
       "rougher.state.floatbank10_d_air                       0\n",
       "rougher.state.floatbank10_d_level                     0\n",
       "rougher.state.floatbank10_e_air                       0\n",
       "rougher.state.floatbank10_e_level                     0\n",
       "rougher.state.floatbank10_f_air                       0\n",
       "rougher.state.floatbank10_f_level                     0\n",
       "secondary_cleaner.output.tail_ag                      0\n",
       "secondary_cleaner.output.tail_pb                      0\n",
       "secondary_cleaner.output.tail_sol                     0\n",
       "secondary_cleaner.output.tail_au                      0\n",
       "secondary_cleaner.state.floatbank2_a_air              0\n",
       "secondary_cleaner.state.floatbank2_a_level            0\n",
       "secondary_cleaner.state.floatbank2_b_air              0\n",
       "secondary_cleaner.state.floatbank2_b_level            0\n",
       "secondary_cleaner.state.floatbank3_a_air              0\n",
       "secondary_cleaner.state.floatbank3_a_level            0\n",
       "secondary_cleaner.state.floatbank3_b_air              0\n",
       "secondary_cleaner.state.floatbank3_b_level            0\n",
       "secondary_cleaner.state.floatbank4_a_air              0\n",
       "secondary_cleaner.state.floatbank4_a_level            0\n",
       "secondary_cleaner.state.floatbank4_b_air              0\n",
       "secondary_cleaner.state.floatbank4_b_level            0\n",
       "secondary_cleaner.state.floatbank5_a_air              0\n",
       "secondary_cleaner.state.floatbank5_a_level            0\n",
       "secondary_cleaner.state.floatbank5_b_air              0\n",
       "secondary_cleaner.state.floatbank5_b_level            0\n",
       "secondary_cleaner.state.floatbank6_a_air              0\n",
       "secondary_cleaner.state.floatbank6_a_level            0\n",
       "dtype: int64"
      ]
     },
     "execution_count": 20,
     "metadata": {},
     "output_type": "execute_result"
    }
   ],
   "source": [
    "data_train.isna().sum()"
   ]
  },
  {
   "cell_type": "code",
   "execution_count": 21,
   "metadata": {},
   "outputs": [
    {
     "name": "stdout",
     "output_type": "stream",
     "text": [
      "<class 'pandas.core.frame.DataFrame'>\n",
      "RangeIndex: 14149 entries, 0 to 14148\n",
      "Data columns (total 87 columns):\n",
      " #   Column                                              Non-Null Count  Dtype  \n",
      "---  ------                                              --------------  -----  \n",
      " 0   date                                                14149 non-null  object \n",
      " 1   final.output.concentrate_ag                         14149 non-null  float64\n",
      " 2   final.output.concentrate_pb                         14149 non-null  float64\n",
      " 3   final.output.concentrate_sol                        14149 non-null  float64\n",
      " 4   final.output.concentrate_au                         14149 non-null  float64\n",
      " 5   final.output.recovery                               14149 non-null  float64\n",
      " 6   final.output.tail_ag                                14149 non-null  float64\n",
      " 7   final.output.tail_pb                                14149 non-null  float64\n",
      " 8   final.output.tail_sol                               14149 non-null  float64\n",
      " 9   final.output.tail_au                                14149 non-null  float64\n",
      " 10  primary_cleaner.input.sulfate                       14149 non-null  float64\n",
      " 11  primary_cleaner.input.depressant                    14149 non-null  float64\n",
      " 12  primary_cleaner.input.feed_size                     14149 non-null  float64\n",
      " 13  primary_cleaner.input.xanthate                      14149 non-null  float64\n",
      " 14  primary_cleaner.output.concentrate_ag               14149 non-null  float64\n",
      " 15  primary_cleaner.output.concentrate_pb               14149 non-null  float64\n",
      " 16  primary_cleaner.output.concentrate_sol              14149 non-null  float64\n",
      " 17  primary_cleaner.output.concentrate_au               14149 non-null  float64\n",
      " 18  primary_cleaner.output.tail_ag                      14149 non-null  float64\n",
      " 19  primary_cleaner.output.tail_pb                      14149 non-null  float64\n",
      " 20  primary_cleaner.output.tail_sol                     14149 non-null  float64\n",
      " 21  primary_cleaner.output.tail_au                      14149 non-null  float64\n",
      " 22  primary_cleaner.state.floatbank8_a_air              14149 non-null  float64\n",
      " 23  primary_cleaner.state.floatbank8_a_level            14149 non-null  float64\n",
      " 24  primary_cleaner.state.floatbank8_b_air              14149 non-null  float64\n",
      " 25  primary_cleaner.state.floatbank8_b_level            14149 non-null  float64\n",
      " 26  primary_cleaner.state.floatbank8_c_air              14149 non-null  float64\n",
      " 27  primary_cleaner.state.floatbank8_c_level            14149 non-null  float64\n",
      " 28  primary_cleaner.state.floatbank8_d_air              14149 non-null  float64\n",
      " 29  primary_cleaner.state.floatbank8_d_level            14149 non-null  float64\n",
      " 30  rougher.calculation.sulfate_to_au_concentrate       14149 non-null  float64\n",
      " 31  rougher.calculation.floatbank10_sulfate_to_au_feed  14149 non-null  float64\n",
      " 32  rougher.calculation.floatbank11_sulfate_to_au_feed  14149 non-null  float64\n",
      " 33  rougher.calculation.au_pb_ratio                     14149 non-null  float64\n",
      " 34  rougher.input.feed_ag                               14149 non-null  float64\n",
      " 35  rougher.input.feed_pb                               14149 non-null  float64\n",
      " 36  rougher.input.feed_rate                             14149 non-null  float64\n",
      " 37  rougher.input.feed_size                             14149 non-null  float64\n",
      " 38  rougher.input.feed_sol                              14149 non-null  float64\n",
      " 39  rougher.input.feed_au                               14149 non-null  float64\n",
      " 40  rougher.input.floatbank10_sulfate                   14149 non-null  float64\n",
      " 41  rougher.input.floatbank10_xanthate                  14149 non-null  float64\n",
      " 42  rougher.input.floatbank11_sulfate                   14149 non-null  float64\n",
      " 43  rougher.input.floatbank11_xanthate                  14149 non-null  float64\n",
      " 44  rougher.output.concentrate_ag                       14149 non-null  float64\n",
      " 45  rougher.output.concentrate_pb                       14149 non-null  float64\n",
      " 46  rougher.output.concentrate_sol                      14149 non-null  float64\n",
      " 47  rougher.output.concentrate_au                       14149 non-null  float64\n",
      " 48  rougher.output.recovery                             14149 non-null  float64\n",
      " 49  rougher.output.tail_ag                              14149 non-null  float64\n",
      " 50  rougher.output.tail_pb                              14149 non-null  float64\n",
      " 51  rougher.output.tail_sol                             14149 non-null  float64\n",
      " 52  rougher.output.tail_au                              14149 non-null  float64\n",
      " 53  rougher.state.floatbank10_a_air                     14149 non-null  float64\n",
      " 54  rougher.state.floatbank10_a_level                   14149 non-null  float64\n",
      " 55  rougher.state.floatbank10_b_air                     14149 non-null  float64\n",
      " 56  rougher.state.floatbank10_b_level                   14149 non-null  float64\n",
      " 57  rougher.state.floatbank10_c_air                     14149 non-null  float64\n",
      " 58  rougher.state.floatbank10_c_level                   14149 non-null  float64\n",
      " 59  rougher.state.floatbank10_d_air                     14149 non-null  float64\n",
      " 60  rougher.state.floatbank10_d_level                   14149 non-null  float64\n",
      " 61  rougher.state.floatbank10_e_air                     14149 non-null  float64\n",
      " 62  rougher.state.floatbank10_e_level                   14149 non-null  float64\n",
      " 63  rougher.state.floatbank10_f_air                     14149 non-null  float64\n",
      " 64  rougher.state.floatbank10_f_level                   14149 non-null  float64\n",
      " 65  secondary_cleaner.output.tail_ag                    14149 non-null  float64\n",
      " 66  secondary_cleaner.output.tail_pb                    14149 non-null  float64\n",
      " 67  secondary_cleaner.output.tail_sol                   14149 non-null  float64\n",
      " 68  secondary_cleaner.output.tail_au                    14149 non-null  float64\n",
      " 69  secondary_cleaner.state.floatbank2_a_air            14149 non-null  float64\n",
      " 70  secondary_cleaner.state.floatbank2_a_level          14149 non-null  float64\n",
      " 71  secondary_cleaner.state.floatbank2_b_air            14149 non-null  float64\n",
      " 72  secondary_cleaner.state.floatbank2_b_level          14149 non-null  float64\n",
      " 73  secondary_cleaner.state.floatbank3_a_air            14149 non-null  float64\n",
      " 74  secondary_cleaner.state.floatbank3_a_level          14149 non-null  float64\n",
      " 75  secondary_cleaner.state.floatbank3_b_air            14149 non-null  float64\n",
      " 76  secondary_cleaner.state.floatbank3_b_level          14149 non-null  float64\n",
      " 77  secondary_cleaner.state.floatbank4_a_air            14149 non-null  float64\n",
      " 78  secondary_cleaner.state.floatbank4_a_level          14149 non-null  float64\n",
      " 79  secondary_cleaner.state.floatbank4_b_air            14149 non-null  float64\n",
      " 80  secondary_cleaner.state.floatbank4_b_level          14149 non-null  float64\n",
      " 81  secondary_cleaner.state.floatbank5_a_air            14149 non-null  float64\n",
      " 82  secondary_cleaner.state.floatbank5_a_level          14149 non-null  float64\n",
      " 83  secondary_cleaner.state.floatbank5_b_air            14149 non-null  float64\n",
      " 84  secondary_cleaner.state.floatbank5_b_level          14149 non-null  float64\n",
      " 85  secondary_cleaner.state.floatbank6_a_air            14149 non-null  float64\n",
      " 86  secondary_cleaner.state.floatbank6_a_level          14149 non-null  float64\n",
      "dtypes: float64(86), object(1)\n",
      "memory usage: 9.4+ MB\n"
     ]
    }
   ],
   "source": [
    "data_train.info()"
   ]
  },
  {
   "cell_type": "markdown",
   "metadata": {},
   "source": [
    "## Анализ данных"
   ]
  },
  {
   "cell_type": "markdown",
   "metadata": {},
   "source": [
    "# 2.1 Посмотрим, как меняется концентрация металлов (Au, Ag, Pb) на различных этапах очистки"
   ]
  },
  {
   "cell_type": "code",
   "execution_count": 22,
   "metadata": {},
   "outputs": [],
   "source": [
    "AU = data_train[['rougher.input.feed_au', 'rougher.output.concentrate_au',\n",
    "                 'primary_cleaner.output.concentrate_au', 'final.output.concentrate_au', ]]\n",
    "AG = data_train[['rougher.input.feed_ag', 'rougher.output.concentrate_ag',\n",
    "                 'primary_cleaner.output.concentrate_ag', 'final.output.concentrate_ag', ]]\n",
    "PB = data_train[['rougher.input.feed_pb', 'rougher.output.concentrate_pb',\n",
    "                 'primary_cleaner.output.concentrate_pb', 'final.output.concentrate_pb', ]]"
   ]
  },
  {
   "cell_type": "code",
   "execution_count": 23,
   "metadata": {},
   "outputs": [
    {
     "data": {
      "text/plain": [
       "Text(0, 0.5, 'концентрация')"
      ]
     },
     "execution_count": 23,
     "metadata": {},
     "output_type": "execute_result"
    },
    {
     "data": {
      "image/png": "[encoded data removed]",
      "text/plain": [
       "<Figure size 1080x432 with 1 Axes>"
      ]
     },
     "metadata": {
      "needs_background": "light"
     },
     "output_type": "display_data"
    }
   ],
   "source": [
    "plt.figure(figsize=(15, 6))\n",
    "plt.plot(AU.mean())\n",
    "plt.xlabel('стадия', fontsize=20)\n",
    "plt.ylabel('концентрация', fontsize=20)"
   ]
  },
  {
   "cell_type": "code",
   "execution_count": 24,
   "metadata": {},
   "outputs": [
    {
     "data": {
      "text/plain": [
       "Text(0, 0.5, 'концентрация')"
      ]
     },
     "execution_count": 24,
     "metadata": {},
     "output_type": "execute_result"
    },
    {
     "data": {
      "image/png": "[encoded data removed]",
      "text/plain": [
       "<Figure size 1080x432 with 1 Axes>"
      ]
     },
     "metadata": {
      "needs_background": "light"
     },
     "output_type": "display_data"
    }
   ],
   "source": [
    "plt.figure(figsize=(15, 6))\n",
    "plt.plot(AG.mean())\n",
    "plt.xlabel('стадия', fontsize=20)\n",
    "plt.ylabel('концентрация', fontsize=20)"
   ]
  },
  {
   "cell_type": "code",
   "execution_count": 25,
   "metadata": {},
   "outputs": [
    {
     "data": {
      "text/plain": [
       "Text(0, 0.5, 'концентрация')"
      ]
     },
     "execution_count": 25,
     "metadata": {},
     "output_type": "execute_result"
    },
    {
     "data": {
      "image/png": "[encoded data removed]",
      "text/plain": [
       "<Figure size 1080x432 with 1 Axes>"
      ]
     },
     "metadata": {
      "needs_background": "light"
     },
     "output_type": "display_data"
    }
   ],
   "source": [
    "plt.figure(figsize=(15, 6))\n",
    "plt.plot(PB.mean())\n",
    "plt.xlabel('стадия', fontsize=20)\n",
    "plt.ylabel('концентрация', fontsize=20)"
   ]
  },
  {
   "cell_type": "markdown",
   "metadata": {},
   "source": [
    "Концентрация AU(золото) постоянно растёт, от стадии к стадии.\n",
    "Концентрция AG (серебро) постоянно падает, о тстадии к стадии.\n",
    "Ну и самый не однозначный PB(свинец) перед второй стадии растёт, после уже медленней рост.\n"
   ]
  },
  {
   "cell_type": "code",
   "execution_count": 26,
   "metadata": {},
   "outputs": [
    {
     "data": {
      "image/png": "[encoded data removed]",
      "text/plain": [
       "<Figure size 593.125x360 with 1 Axes>"
      ]
     },
     "metadata": {
      "needs_background": "light"
     },
     "output_type": "display_data"
    }
   ],
   "source": [
    "sns.displot(AU, kind='kde', multiple='stack')\n",
    "plt.title('Золото')\n",
    "plt.ylabel('Концентрация')\n",
    "plt.xlabel('Стадия')\n",
    "plt.show()"
   ]
  },
  {
   "cell_type": "code",
   "execution_count": 27,
   "metadata": {},
   "outputs": [
    {
     "data": {
      "image/png": "[encoded data removed]",
      "text/plain": [
       "<Figure size 593.125x360 with 1 Axes>"
      ]
     },
     "metadata": {
      "needs_background": "light"
     },
     "output_type": "display_data"
    }
   ],
   "source": [
    "sns.displot(AG, kind='kde', multiple='stack')\n",
    "plt.title('Серебро')\n",
    "plt.ylabel('Концентрация')\n",
    "plt.xlabel('Стадия')\n",
    "plt.show()"
   ]
  },
  {
   "cell_type": "code",
   "execution_count": 28,
   "metadata": {},
   "outputs": [
    {
     "data": {
      "image/png": "[encoded data removed]",
      "text/plain": [
       "<Figure size 593.125x360 with 1 Axes>"
      ]
     },
     "metadata": {
      "needs_background": "light"
     },
     "output_type": "display_data"
    }
   ],
   "source": [
    "sns.displot(PB, kind='kde', multiple='stack')\n",
    "plt.title('Свинец')\n",
    "plt.ylabel('Концентрация')\n",
    "plt.xlabel('Стадия')\n",
    "plt.show()"
   ]
  },
  {
   "cell_type": "markdown",
   "metadata": {},
   "source": [
    "Графики имеют нормальное распределение.После флотации и первичной обработки концентрация возросла. также много 0 значений-выбросы"
   ]
  },
  {
   "cell_type": "markdown",
   "metadata": {},
   "source": [
    "# 2.2. Сравним  размер элементов  на обучающей и тестовой выборках"
   ]
  },
  {
   "cell_type": "code",
   "execution_count": 29,
   "metadata": {},
   "outputs": [
    {
     "data": {
      "text/plain": [
       "count    14149.000000\n",
       "mean         7.322310\n",
       "std          0.614062\n",
       "min          1.080000\n",
       "25%          6.960000\n",
       "50%          7.290000\n",
       "75%          7.700000\n",
       "max         10.470000\n",
       "Name: primary_cleaner.input.feed_size, dtype: float64"
      ]
     },
     "execution_count": 29,
     "metadata": {},
     "output_type": "execute_result"
    }
   ],
   "source": [
    "data_train['primary_cleaner.input.feed_size'].describe()"
   ]
  },
  {
   "cell_type": "code",
   "execution_count": 30,
   "metadata": {},
   "outputs": [
    {
     "data": {
      "text/plain": [
       "7.266339191270906"
      ]
     },
     "execution_count": 30,
     "metadata": {},
     "output_type": "execute_result"
    }
   ],
   "source": [
    "data_test['primary_cleaner.input.feed_size'].mean()"
   ]
  },
  {
   "cell_type": "code",
   "execution_count": 31,
   "metadata": {},
   "outputs": [
    {
     "data": {
      "image/png": "[encoded data removed]",
      "text/plain": [
       "<Figure size 432x288 with 1 Axes>"
      ]
     },
     "metadata": {
      "needs_background": "light"
     },
     "output_type": "display_data"
    }
   ],
   "source": [
    "sns.kdeplot(data=data_train['rougher.input.feed_size'],\n",
    "            shade=True, label='data_train')\n",
    "sns.kdeplot(data=data_test['rougher.input.feed_size'],\n",
    "            shade=True, label='data_test')\n",
    "plt.legend(['train', 'test'])\n",
    "plt.title('размеру гранул перед флотацией')\n",
    "plt.xlabel('размер')\n",
    "plt.ylabel('кол-во')\n",
    "plt.show()"
   ]
  },
  {
   "cell_type": "code",
   "execution_count": 32,
   "metadata": {},
   "outputs": [
    {
     "data": {
      "image/png": "[encoded data removed]",
      "text/plain": [
       "<Figure size 432x288 with 1 Axes>"
      ]
     },
     "metadata": {
      "needs_background": "light"
     },
     "output_type": "display_data"
    }
   ],
   "source": [
    "data_train['primary_cleaner.input.feed_size'].plot(\n",
    "    kind='hist', bins=50, alpha=0.5)\n",
    "data_test['primary_cleaner.input.feed_size'].plot(\n",
    "    kind='hist', bins=50, alpha=0.5)\n",
    "plt.legend(['train', 'test'])\n",
    "plt.title('размеру гранул перед первичной отчисткой')\n",
    "plt.xlabel('размер')\n",
    "plt.ylabel('кол-во')\n",
    "plt.show()"
   ]
  },
  {
   "cell_type": "markdown",
   "metadata": {},
   "source": [
    "размер почти совпадает.\n"
   ]
  },
  {
   "cell_type": "code",
   "execution_count": 34,
   "metadata": {
    "scrolled": true
   },
   "outputs": [
    {
     "name": "stdout",
     "output_type": "stream",
     "text": [
      "Cреднее до: 7.322309906901314\n",
      "Cреднее после: 7.266339191270906\n",
      "  p-value=0.0000000137\n"
     ]
    }
   ],
   "source": [
    "sample_before = data_train['primary_cleaner.input.feed_size']\n",
    "sample_after = data_test['primary_cleaner.input.feed_size']\n",
    "\n",
    "print(\"Cреднее до:\", sample_before.mean())\n",
    "print(\"Cреднее после:\", sample_after.mean())\n",
    "results = st.ttest_ind(sample_before, sample_after, equal_var=False)\n",
    "pvalue = results.pvalue\n",
    "print(f\"  p-value={pvalue:.10f}\")"
   ]
  },
  {
   "cell_type": "code",
   "execution_count": 35,
   "metadata": {},
   "outputs": [
    {
     "name": "stdout",
     "output_type": "stream",
     "text": [
      "Cреднее до: 60.23985599255732\n",
      "Cреднее после: 55.952754028895136\n"
     ]
    }
   ],
   "source": [
    "sample_before = data_train['rougher.input.feed_size']\n",
    "sample_after = data_test['rougher.input.feed_size']\n",
    "\n",
    "print(\"Cреднее до:\", sample_before.mean())\n",
    "print(\"Cреднее после:\", sample_after.mean())"
   ]
  },
  {
   "cell_type": "markdown",
   "metadata": {},
   "source": [
    "Также перед флотацией отличний в размере кординальных нету"
   ]
  },
  {
   "cell_type": "markdown",
   "metadata": {},
   "source": [
    "# 2.3 Соберём всё в едино для определения суммарной концентрации всех веществ на разных стадиях: в сырье, в черновом и финальном концентратах."
   ]
  },
  {
   "cell_type": "code",
   "execution_count": 36,
   "metadata": {},
   "outputs": [],
   "source": [
    "df = pd.DataFrame()\n",
    "df['rougher.input.feed_au'] = data_train['rougher.input.feed_au'] + \\\n",
    "    data_train['rougher.input.feed_au']+data_train['rougher.input.feed_au']\n",
    "df['train_rougher'] = data_train['rougher.output.concentrate_au'] + \\\n",
    "    data_train['rougher.output.concentrate_ag'] + \\\n",
    "    data_train['rougher.output.concentrate_pb']\n",
    "df['train_primary_cleaner'] = data_train['primary_cleaner.output.concentrate_au'] + \\\n",
    "    data_train['primary_cleaner.output.concentrate_ag'] + \\\n",
    "    data_train['primary_cleaner.output.concentrate_pb']\n",
    "df['train_final'] = data_train['final.output.concentrate_au'] + \\\n",
    "    data_train['final.output.concentrate_ag'] + \\\n",
    "    data_train['final.output.concentrate_pb']"
   ]
  },
  {
   "cell_type": "code",
   "execution_count": 37,
   "metadata": {},
   "outputs": [
    {
     "data": {
      "image/png": "[encoded data removed]",
      "text/plain": [
       "<Figure size 432x288 with 1 Axes>"
      ]
     },
     "metadata": {
      "needs_background": "light"
     },
     "output_type": "display_data"
    }
   ],
   "source": [
    "df['rougher.input.feed_au'].plot(kind='hist', bins=40, alpha=0.5)\n",
    "df['train_rougher'].plot(kind='hist', bins=40, alpha=0.5)\n",
    "df['train_primary_cleaner'].plot(kind='hist', bins=40, alpha=0.5)\n",
    "df['train_final'].plot(kind='hist', bins=40, alpha=0.5)\n",
    "plt.legend(['rougher.input.feed_au', 'train_rougher',\n",
    "           'train_primary_cleaner', 'train_final'])\n",
    "plt.title('суммарной концентрация всех веществ на разных стадиях')\n",
    "plt.xlabel('стадия')\n",
    "plt.ylabel('кол-во')\n",
    "plt.show()"
   ]
  },
  {
   "cell_type": "markdown",
   "metadata": {},
   "source": [
    "ну оно и логично, что в финале мы имеем больше всего конценрата. Только 0 глянуть надо"
   ]
  },
  {
   "cell_type": "code",
   "execution_count": 38,
   "metadata": {},
   "outputs": [
    {
     "data": {
      "text/html": [
       "<div>\n",
       "<style scoped>\n",
       "    .dataframe tbody tr th:only-of-type {\n",
       "        vertical-align: middle;\n",
       "    }\n",
       "\n",
       "    .dataframe tbody tr th {\n",
       "        vertical-align: top;\n",
       "    }\n",
       "\n",
       "    .dataframe thead th {\n",
       "        text-align: right;\n",
       "    }\n",
       "</style>\n",
       "<table border=\"1\" class=\"dataframe\">\n",
       "  <thead>\n",
       "    <tr style=\"text-align: right;\">\n",
       "      <th></th>\n",
       "      <th>rougher.input.feed_au</th>\n",
       "      <th>train_rougher</th>\n",
       "      <th>train_primary_cleaner</th>\n",
       "      <th>train_final</th>\n",
       "    </tr>\n",
       "  </thead>\n",
       "  <tbody>\n",
       "    <tr>\n",
       "      <th>644</th>\n",
       "      <td>16.796913</td>\n",
       "      <td>34.882253</td>\n",
       "      <td>41.756149</td>\n",
       "      <td>0.00</td>\n",
       "    </tr>\n",
       "    <tr>\n",
       "      <th>1193</th>\n",
       "      <td>23.358441</td>\n",
       "      <td>36.888184</td>\n",
       "      <td>50.499851</td>\n",
       "      <td>0.00</td>\n",
       "    </tr>\n",
       "    <tr>\n",
       "      <th>1194</th>\n",
       "      <td>22.497744</td>\n",
       "      <td>36.014549</td>\n",
       "      <td>50.216727</td>\n",
       "      <td>0.00</td>\n",
       "    </tr>\n",
       "    <tr>\n",
       "      <th>1195</th>\n",
       "      <td>21.096834</td>\n",
       "      <td>35.753279</td>\n",
       "      <td>49.862795</td>\n",
       "      <td>0.00</td>\n",
       "    </tr>\n",
       "    <tr>\n",
       "      <th>1196</th>\n",
       "      <td>21.064906</td>\n",
       "      <td>35.445163</td>\n",
       "      <td>49.444768</td>\n",
       "      <td>0.00</td>\n",
       "    </tr>\n",
       "    <tr>\n",
       "      <th>1682</th>\n",
       "      <td>19.253442</td>\n",
       "      <td>0.000000</td>\n",
       "      <td>0.000000</td>\n",
       "      <td>0.00</td>\n",
       "    </tr>\n",
       "    <tr>\n",
       "      <th>2019</th>\n",
       "      <td>27.444930</td>\n",
       "      <td>45.310438</td>\n",
       "      <td>52.704171</td>\n",
       "      <td>0.00</td>\n",
       "    </tr>\n",
       "    <tr>\n",
       "      <th>2020</th>\n",
       "      <td>26.216165</td>\n",
       "      <td>44.572646</td>\n",
       "      <td>50.470093</td>\n",
       "      <td>0.00</td>\n",
       "    </tr>\n",
       "    <tr>\n",
       "      <th>2236</th>\n",
       "      <td>22.172308</td>\n",
       "      <td>42.221540</td>\n",
       "      <td>48.257532</td>\n",
       "      <td>0.00</td>\n",
       "    </tr>\n",
       "    <tr>\n",
       "      <th>3394</th>\n",
       "      <td>18.584429</td>\n",
       "      <td>38.416998</td>\n",
       "      <td>56.813439</td>\n",
       "      <td>0.00</td>\n",
       "    </tr>\n",
       "    <tr>\n",
       "      <th>3395</th>\n",
       "      <td>21.868846</td>\n",
       "      <td>43.056298</td>\n",
       "      <td>54.217409</td>\n",
       "      <td>0.00</td>\n",
       "    </tr>\n",
       "    <tr>\n",
       "      <th>3396</th>\n",
       "      <td>23.640079</td>\n",
       "      <td>46.591605</td>\n",
       "      <td>56.554491</td>\n",
       "      <td>0.00</td>\n",
       "    </tr>\n",
       "    <tr>\n",
       "      <th>3397</th>\n",
       "      <td>23.595561</td>\n",
       "      <td>43.652158</td>\n",
       "      <td>56.084685</td>\n",
       "      <td>0.00</td>\n",
       "    </tr>\n",
       "    <tr>\n",
       "      <th>3400</th>\n",
       "      <td>22.912727</td>\n",
       "      <td>40.433560</td>\n",
       "      <td>33.613335</td>\n",
       "      <td>0.00</td>\n",
       "    </tr>\n",
       "    <tr>\n",
       "      <th>4215</th>\n",
       "      <td>33.356007</td>\n",
       "      <td>49.813797</td>\n",
       "      <td>11.842722</td>\n",
       "      <td>0.00</td>\n",
       "    </tr>\n",
       "    <tr>\n",
       "      <th>4314</th>\n",
       "      <td>29.159157</td>\n",
       "      <td>40.890726</td>\n",
       "      <td>53.183309</td>\n",
       "      <td>0.00</td>\n",
       "    </tr>\n",
       "    <tr>\n",
       "      <th>4564</th>\n",
       "      <td>25.733964</td>\n",
       "      <td>22.464094</td>\n",
       "      <td>51.168714</td>\n",
       "      <td>0.00</td>\n",
       "    </tr>\n",
       "    <tr>\n",
       "      <th>4652</th>\n",
       "      <td>21.448517</td>\n",
       "      <td>16.457028</td>\n",
       "      <td>50.305647</td>\n",
       "      <td>0.00</td>\n",
       "    </tr>\n",
       "    <tr>\n",
       "      <th>4653</th>\n",
       "      <td>20.985234</td>\n",
       "      <td>23.656547</td>\n",
       "      <td>43.151691</td>\n",
       "      <td>0.00</td>\n",
       "    </tr>\n",
       "    <tr>\n",
       "      <th>4722</th>\n",
       "      <td>20.675828</td>\n",
       "      <td>44.685761</td>\n",
       "      <td>52.431351</td>\n",
       "      <td>0.00</td>\n",
       "    </tr>\n",
       "    <tr>\n",
       "      <th>4723</th>\n",
       "      <td>20.781000</td>\n",
       "      <td>44.064144</td>\n",
       "      <td>50.152993</td>\n",
       "      <td>0.00</td>\n",
       "    </tr>\n",
       "    <tr>\n",
       "      <th>4724</th>\n",
       "      <td>19.949945</td>\n",
       "      <td>45.068785</td>\n",
       "      <td>50.411556</td>\n",
       "      <td>0.00</td>\n",
       "    </tr>\n",
       "    <tr>\n",
       "      <th>4965</th>\n",
       "      <td>23.954290</td>\n",
       "      <td>44.630172</td>\n",
       "      <td>5.822414</td>\n",
       "      <td>0.00</td>\n",
       "    </tr>\n",
       "    <tr>\n",
       "      <th>4966</th>\n",
       "      <td>25.558161</td>\n",
       "      <td>44.001294</td>\n",
       "      <td>50.501472</td>\n",
       "      <td>0.00</td>\n",
       "    </tr>\n",
       "    <tr>\n",
       "      <th>4967</th>\n",
       "      <td>20.959280</td>\n",
       "      <td>41.871007</td>\n",
       "      <td>50.625088</td>\n",
       "      <td>0.00</td>\n",
       "    </tr>\n",
       "    <tr>\n",
       "      <th>4968</th>\n",
       "      <td>25.112565</td>\n",
       "      <td>42.998112</td>\n",
       "      <td>46.673780</td>\n",
       "      <td>0.00</td>\n",
       "    </tr>\n",
       "    <tr>\n",
       "      <th>4969</th>\n",
       "      <td>23.001660</td>\n",
       "      <td>42.255160</td>\n",
       "      <td>45.755513</td>\n",
       "      <td>0.00</td>\n",
       "    </tr>\n",
       "    <tr>\n",
       "      <th>5139</th>\n",
       "      <td>28.923547</td>\n",
       "      <td>45.856603</td>\n",
       "      <td>52.747711</td>\n",
       "      <td>0.00</td>\n",
       "    </tr>\n",
       "    <tr>\n",
       "      <th>5140</th>\n",
       "      <td>28.989182</td>\n",
       "      <td>45.998196</td>\n",
       "      <td>52.742011</td>\n",
       "      <td>0.00</td>\n",
       "    </tr>\n",
       "    <tr>\n",
       "      <th>5784</th>\n",
       "      <td>34.308399</td>\n",
       "      <td>44.511551</td>\n",
       "      <td>49.853633</td>\n",
       "      <td>0.00</td>\n",
       "    </tr>\n",
       "    <tr>\n",
       "      <th>5871</th>\n",
       "      <td>29.533183</td>\n",
       "      <td>49.490463</td>\n",
       "      <td>52.785299</td>\n",
       "      <td>0.00</td>\n",
       "    </tr>\n",
       "    <tr>\n",
       "      <th>5872</th>\n",
       "      <td>30.692692</td>\n",
       "      <td>49.951447</td>\n",
       "      <td>47.510811</td>\n",
       "      <td>0.00</td>\n",
       "    </tr>\n",
       "    <tr>\n",
       "      <th>6016</th>\n",
       "      <td>27.225102</td>\n",
       "      <td>41.651269</td>\n",
       "      <td>51.774738</td>\n",
       "      <td>0.00</td>\n",
       "    </tr>\n",
       "    <tr>\n",
       "      <th>6017</th>\n",
       "      <td>28.189523</td>\n",
       "      <td>42.087231</td>\n",
       "      <td>51.689630</td>\n",
       "      <td>0.00</td>\n",
       "    </tr>\n",
       "    <tr>\n",
       "      <th>6018</th>\n",
       "      <td>29.265311</td>\n",
       "      <td>42.507214</td>\n",
       "      <td>51.466219</td>\n",
       "      <td>0.00</td>\n",
       "    </tr>\n",
       "    <tr>\n",
       "      <th>6019</th>\n",
       "      <td>28.900909</td>\n",
       "      <td>42.656113</td>\n",
       "      <td>51.601863</td>\n",
       "      <td>0.00</td>\n",
       "    </tr>\n",
       "    <tr>\n",
       "      <th>6254</th>\n",
       "      <td>22.182253</td>\n",
       "      <td>40.920272</td>\n",
       "      <td>49.574341</td>\n",
       "      <td>0.00</td>\n",
       "    </tr>\n",
       "    <tr>\n",
       "      <th>6430</th>\n",
       "      <td>29.775078</td>\n",
       "      <td>43.927956</td>\n",
       "      <td>49.649719</td>\n",
       "      <td>0.00</td>\n",
       "    </tr>\n",
       "    <tr>\n",
       "      <th>7050</th>\n",
       "      <td>21.176382</td>\n",
       "      <td>39.151135</td>\n",
       "      <td>46.981964</td>\n",
       "      <td>0.00</td>\n",
       "    </tr>\n",
       "    <tr>\n",
       "      <th>7051</th>\n",
       "      <td>21.401995</td>\n",
       "      <td>38.586235</td>\n",
       "      <td>46.511450</td>\n",
       "      <td>0.00</td>\n",
       "    </tr>\n",
       "    <tr>\n",
       "      <th>7052</th>\n",
       "      <td>21.456200</td>\n",
       "      <td>38.872592</td>\n",
       "      <td>46.418612</td>\n",
       "      <td>0.00</td>\n",
       "    </tr>\n",
       "    <tr>\n",
       "      <th>7053</th>\n",
       "      <td>20.787403</td>\n",
       "      <td>39.951633</td>\n",
       "      <td>47.197724</td>\n",
       "      <td>0.00</td>\n",
       "    </tr>\n",
       "    <tr>\n",
       "      <th>7054</th>\n",
       "      <td>20.811104</td>\n",
       "      <td>40.073637</td>\n",
       "      <td>34.114760</td>\n",
       "      <td>0.00</td>\n",
       "    </tr>\n",
       "    <tr>\n",
       "      <th>7406</th>\n",
       "      <td>24.433102</td>\n",
       "      <td>44.573662</td>\n",
       "      <td>49.625389</td>\n",
       "      <td>0.00</td>\n",
       "    </tr>\n",
       "    <tr>\n",
       "      <th>7518</th>\n",
       "      <td>24.062774</td>\n",
       "      <td>36.507353</td>\n",
       "      <td>44.831152</td>\n",
       "      <td>0.00</td>\n",
       "    </tr>\n",
       "    <tr>\n",
       "      <th>7519</th>\n",
       "      <td>21.645920</td>\n",
       "      <td>36.471984</td>\n",
       "      <td>47.102887</td>\n",
       "      <td>0.00</td>\n",
       "    </tr>\n",
       "    <tr>\n",
       "      <th>7556</th>\n",
       "      <td>29.470603</td>\n",
       "      <td>42.763261</td>\n",
       "      <td>49.668546</td>\n",
       "      <td>0.00</td>\n",
       "    </tr>\n",
       "    <tr>\n",
       "      <th>8665</th>\n",
       "      <td>16.504389</td>\n",
       "      <td>42.213156</td>\n",
       "      <td>45.028466</td>\n",
       "      <td>0.00</td>\n",
       "    </tr>\n",
       "    <tr>\n",
       "      <th>8884</th>\n",
       "      <td>18.328443</td>\n",
       "      <td>24.078363</td>\n",
       "      <td>49.942455</td>\n",
       "      <td>0.00</td>\n",
       "    </tr>\n",
       "    <tr>\n",
       "      <th>8898</th>\n",
       "      <td>18.897816</td>\n",
       "      <td>41.564017</td>\n",
       "      <td>53.730764</td>\n",
       "      <td>0.00</td>\n",
       "    </tr>\n",
       "    <tr>\n",
       "      <th>8899</th>\n",
       "      <td>19.332665</td>\n",
       "      <td>23.768995</td>\n",
       "      <td>51.186529</td>\n",
       "      <td>0.00</td>\n",
       "    </tr>\n",
       "    <tr>\n",
       "      <th>8900</th>\n",
       "      <td>18.475444</td>\n",
       "      <td>14.695600</td>\n",
       "      <td>52.399230</td>\n",
       "      <td>0.00</td>\n",
       "    </tr>\n",
       "    <tr>\n",
       "      <th>8919</th>\n",
       "      <td>18.436373</td>\n",
       "      <td>41.893334</td>\n",
       "      <td>54.437174</td>\n",
       "      <td>0.00</td>\n",
       "    </tr>\n",
       "    <tr>\n",
       "      <th>8920</th>\n",
       "      <td>18.072445</td>\n",
       "      <td>42.425654</td>\n",
       "      <td>55.190884</td>\n",
       "      <td>0.00</td>\n",
       "    </tr>\n",
       "    <tr>\n",
       "      <th>9320</th>\n",
       "      <td>17.223950</td>\n",
       "      <td>38.352428</td>\n",
       "      <td>0.000000</td>\n",
       "      <td>0.00</td>\n",
       "    </tr>\n",
       "    <tr>\n",
       "      <th>9893</th>\n",
       "      <td>22.036392</td>\n",
       "      <td>41.632238</td>\n",
       "      <td>3.360363</td>\n",
       "      <td>0.00</td>\n",
       "    </tr>\n",
       "    <tr>\n",
       "      <th>9894</th>\n",
       "      <td>23.063414</td>\n",
       "      <td>43.860927</td>\n",
       "      <td>48.703714</td>\n",
       "      <td>0.00</td>\n",
       "    </tr>\n",
       "    <tr>\n",
       "      <th>10020</th>\n",
       "      <td>18.028096</td>\n",
       "      <td>28.172746</td>\n",
       "      <td>12.316876</td>\n",
       "      <td>0.00</td>\n",
       "    </tr>\n",
       "    <tr>\n",
       "      <th>12277</th>\n",
       "      <td>5.211096</td>\n",
       "      <td>7.002254</td>\n",
       "      <td>34.480210</td>\n",
       "      <td>0.03</td>\n",
       "    </tr>\n",
       "  </tbody>\n",
       "</table>\n",
       "</div>"
      ],
      "text/plain": [
       "       rougher.input.feed_au  train_rougher  train_primary_cleaner  \\\n",
       "644                16.796913      34.882253              41.756149   \n",
       "1193               23.358441      36.888184              50.499851   \n",
       "1194               22.497744      36.014549              50.216727   \n",
       "1195               21.096834      35.753279              49.862795   \n",
       "1196               21.064906      35.445163              49.444768   \n",
       "1682               19.253442       0.000000               0.000000   \n",
       "2019               27.444930      45.310438              52.704171   \n",
       "2020               26.216165      44.572646              50.470093   \n",
       "2236               22.172308      42.221540              48.257532   \n",
       "3394               18.584429      38.416998              56.813439   \n",
       "3395               21.868846      43.056298              54.217409   \n",
       "3396               23.640079      46.591605              56.554491   \n",
       "3397               23.595561      43.652158              56.084685   \n",
       "3400               22.912727      40.433560              33.613335   \n",
       "4215               33.356007      49.813797              11.842722   \n",
       "4314               29.159157      40.890726              53.183309   \n",
       "4564               25.733964      22.464094              51.168714   \n",
       "4652               21.448517      16.457028              50.305647   \n",
       "4653               20.985234      23.656547              43.151691   \n",
       "4722               20.675828      44.685761              52.431351   \n",
       "4723               20.781000      44.064144              50.152993   \n",
       "4724               19.949945      45.068785              50.411556   \n",
       "4965               23.954290      44.630172               5.822414   \n",
       "4966               25.558161      44.001294              50.501472   \n",
       "4967               20.959280      41.871007              50.625088   \n",
       "4968               25.112565      42.998112              46.673780   \n",
       "4969               23.001660      42.255160              45.755513   \n",
       "5139               28.923547      45.856603              52.747711   \n",
       "5140               28.989182      45.998196              52.742011   \n",
       "5784               34.308399      44.511551              49.853633   \n",
       "5871               29.533183      49.490463              52.785299   \n",
       "5872               30.692692      49.951447              47.510811   \n",
       "6016               27.225102      41.651269              51.774738   \n",
       "6017               28.189523      42.087231              51.689630   \n",
       "6018               29.265311      42.507214              51.466219   \n",
       "6019               28.900909      42.656113              51.601863   \n",
       "6254               22.182253      40.920272              49.574341   \n",
       "6430               29.775078      43.927956              49.649719   \n",
       "7050               21.176382      39.151135              46.981964   \n",
       "7051               21.401995      38.586235              46.511450   \n",
       "7052               21.456200      38.872592              46.418612   \n",
       "7053               20.787403      39.951633              47.197724   \n",
       "7054               20.811104      40.073637              34.114760   \n",
       "7406               24.433102      44.573662              49.625389   \n",
       "7518               24.062774      36.507353              44.831152   \n",
       "7519               21.645920      36.471984              47.102887   \n",
       "7556               29.470603      42.763261              49.668546   \n",
       "8665               16.504389      42.213156              45.028466   \n",
       "8884               18.328443      24.078363              49.942455   \n",
       "8898               18.897816      41.564017              53.730764   \n",
       "8899               19.332665      23.768995              51.186529   \n",
       "8900               18.475444      14.695600              52.399230   \n",
       "8919               18.436373      41.893334              54.437174   \n",
       "8920               18.072445      42.425654              55.190884   \n",
       "9320               17.223950      38.352428               0.000000   \n",
       "9893               22.036392      41.632238               3.360363   \n",
       "9894               23.063414      43.860927              48.703714   \n",
       "10020              18.028096      28.172746              12.316876   \n",
       "12277               5.211096       7.002254              34.480210   \n",
       "\n",
       "       train_final  \n",
       "644           0.00  \n",
       "1193          0.00  \n",
       "1194          0.00  \n",
       "1195          0.00  \n",
       "1196          0.00  \n",
       "1682          0.00  \n",
       "2019          0.00  \n",
       "2020          0.00  \n",
       "2236          0.00  \n",
       "3394          0.00  \n",
       "3395          0.00  \n",
       "3396          0.00  \n",
       "3397          0.00  \n",
       "3400          0.00  \n",
       "4215          0.00  \n",
       "4314          0.00  \n",
       "4564          0.00  \n",
       "4652          0.00  \n",
       "4653          0.00  \n",
       "4722          0.00  \n",
       "4723          0.00  \n",
       "4724          0.00  \n",
       "4965          0.00  \n",
       "4966          0.00  \n",
       "4967          0.00  \n",
       "4968          0.00  \n",
       "4969          0.00  \n",
       "5139          0.00  \n",
       "5140          0.00  \n",
       "5784          0.00  \n",
       "5871          0.00  \n",
       "5872          0.00  \n",
       "6016          0.00  \n",
       "6017          0.00  \n",
       "6018          0.00  \n",
       "6019          0.00  \n",
       "6254          0.00  \n",
       "6430          0.00  \n",
       "7050          0.00  \n",
       "7051          0.00  \n",
       "7052          0.00  \n",
       "7053          0.00  \n",
       "7054          0.00  \n",
       "7406          0.00  \n",
       "7518          0.00  \n",
       "7519          0.00  \n",
       "7556          0.00  \n",
       "8665          0.00  \n",
       "8884          0.00  \n",
       "8898          0.00  \n",
       "8899          0.00  \n",
       "8900          0.00  \n",
       "8919          0.00  \n",
       "8920          0.00  \n",
       "9320          0.00  \n",
       "9893          0.00  \n",
       "9894          0.00  \n",
       "10020         0.00  \n",
       "12277         0.03  "
      ]
     },
     "execution_count": 38,
     "metadata": {},
     "output_type": "execute_result"
    }
   ],
   "source": [
    "df[df['train_final']<0.5]"
   ]
  },
  {
   "cell_type": "markdown",
   "metadata": {},
   "source": [
    "Не понимаю, как так может быть. Почитал флотация обогощение, не чего себе обогощение золотом , без золота совсем.\n",
    "Ладно в методологию вникать не буду. Но погуглю потом как это всё проходит=).\n",
    "Удалим."
   ]
  },
  {
   "cell_type": "code",
   "execution_count": 39,
   "metadata": {},
   "outputs": [],
   "source": [
    "data_train = data_train[data_train['rougher.input.feed_au'] > 0.5]\n",
    "data_test = data_test[data_test['rougher.input.feed_au'] > 0.5]"
   ]
  },
  {
   "cell_type": "markdown",
   "metadata": {},
   "source": [
    "## Модель"
   ]
  },
  {
   "cell_type": "markdown",
   "metadata": {},
   "source": [
    "# 3.1 обработка данных для модели"
   ]
  },
  {
   "cell_type": "markdown",
   "metadata": {},
   "source": [
    "В тестовый дополняем целевые признаки так как нам сказали ,что можно опираться на дату... ну, а так я думаю там и ИД мог быть или ещё что-то.\n"
   ]
  },
  {
   "cell_type": "code",
   "execution_count": 40,
   "metadata": {},
   "outputs": [],
   "source": [
    "full_target = full_data[[\n",
    "    'date', 'rougher.output.recovery', 'final.output.recovery']]\n",
    "data_test = data_test.merge(full_target, on='date')"
   ]
  },
  {
   "cell_type": "code",
   "execution_count": 41,
   "metadata": {},
   "outputs": [],
   "source": [
    "data_train = data_train.drop(\n",
    "    set(data_train.columns)-set(data_test.columns), axis=1)"
   ]
  },
  {
   "cell_type": "code",
   "execution_count": 42,
   "metadata": {},
   "outputs": [],
   "source": [
    "features_train = data_train.drop(\n",
    "    ['final.output.recovery', 'rougher.output.recovery'], axis=1)\n",
    "target_train = data_train[['rougher.output.recovery', 'final.output.recovery']]"
   ]
  },
  {
   "cell_type": "code",
   "execution_count": 43,
   "metadata": {},
   "outputs": [],
   "source": [
    "features_test = data_test.drop(\n",
    "    ['final.output.recovery', 'rougher.output.recovery'], axis=1)\n",
    "target_test = data_test[['rougher.output.recovery', 'final.output.recovery']]"
   ]
  },
  {
   "cell_type": "markdown",
   "metadata": {},
   "source": [
    "дальше нам даты не нужны"
   ]
  },
  {
   "cell_type": "code",
   "execution_count": 44,
   "metadata": {},
   "outputs": [],
   "source": [
    "features_test = features_test.drop(['date'], axis=1)\n",
    "features_train = features_train.drop(['date'], axis=1)"
   ]
  },
  {
   "cell_type": "markdown",
   "metadata": {},
   "source": [
    "# 3.2 Напишем функцию для вычисления итоговой smape"
   ]
  },
  {
   "cell_type": "code",
   "execution_count": 45,
   "metadata": {},
   "outputs": [],
   "source": [
    "def smape(a, f):\n",
    "    smape_ = 100/len(a) * np.sum(2 * np.abs(f - a) / (np.abs(a) + np.abs(f)))\n",
    "    return 0.25*smape_['rougher.output.recovery']+0.75*smape_['final.output.recovery']"
   ]
  },
  {
   "cell_type": "markdown",
   "metadata": {},
   "source": [
    "# 3.2 Обучим модели"
   ]
  },
  {
   "cell_type": "markdown",
   "metadata": {},
   "source": [
    "Дерево решений"
   ]
  },
  {
   "cell_type": "code",
   "execution_count": 47,
   "metadata": {},
   "outputs": [
    {
     "name": "stdout",
     "output_type": "stream",
     "text": [
      "sMAPE: -10.929317737080435\n"
     ]
    }
   ],
   "source": [
    "model = DecisionTreeRegressor(random_state=12345)\n",
    "parametrs = {'max_depth': range(1, 5, 1),\n",
    "             'min_samples_leaf': range(1, 8),\n",
    "             'min_samples_split': range(2, 10, 2)}\n",
    "train_pred = GridSearchCV(\n",
    "    model, parametrs, scoring=make_scorer(smape, greater_is_better=False))\n",
    "\n",
    "train_pred.fit(features_train, target_train)\n",
    "print('sMAPE:', train_pred.best_score_)"
   ]
  },
  {
   "cell_type": "markdown",
   "metadata": {},
   "source": [
    "Далее линейная регресия"
   ]
  },
  {
   "cell_type": "code",
   "execution_count": 49,
   "metadata": {},
   "outputs": [
    {
     "name": "stdout",
     "output_type": "stream",
     "text": [
      "sMAPE: -12.358039534562902\n"
     ]
    }
   ],
   "source": [
    "model = LinearRegression()\n",
    "train_pred = cross_val_score(model, features_train, target_train,\n",
    "                             scoring=make_scorer(smape, greater_is_better=False))\n",
    "print('sMAPE:', train_pred.mean())"
   ]
  },
  {
   "cell_type": "code",
   "execution_count": 50,
   "metadata": {},
   "outputs": [
    {
     "data": {
      "text/plain": [
       "-10.422292713296883"
      ]
     },
     "execution_count": 50,
     "metadata": {},
     "output_type": "execute_result"
    }
   ],
   "source": [
    "model = RandomForestRegressor(random_state=12345)\n",
    "parametrs = {'n_estimators': range(1, 32, 10),\n",
    "             'max_depth': range(1, 6, 2),\n",
    "             'min_samples_leaf': range(1, 6),\n",
    "             'min_samples_split': range(2, 10, 2)}\n",
    "train_pred = GridSearchCV(\n",
    "    model, parametrs, scoring=make_scorer(smape, greater_is_better=False))\n",
    "\n",
    "train_pred.fit(features_train, target_train)\n",
    "train_pred.best_score_"
   ]
  },
  {
   "cell_type": "code",
   "execution_count": 51,
   "metadata": {},
   "outputs": [
    {
     "data": {
      "text/plain": [
       "{'max_depth': 5,\n",
       " 'min_samples_leaf': 3,\n",
       " 'min_samples_split': 8,\n",
       " 'n_estimators': 21}"
      ]
     },
     "execution_count": 51,
     "metadata": {},
     "output_type": "execute_result"
    }
   ],
   "source": [
    "train_pred.best_params_"
   ]
  },
  {
   "cell_type": "code",
   "execution_count": 52,
   "metadata": {
    "scrolled": true
   },
   "outputs": [
    {
     "name": "stdout",
     "output_type": "stream",
     "text": [
      "Итоговое sMAPE на тестовой выборке: 9.110758255496492\n"
     ]
    }
   ],
   "source": [
    "model_top = RandomForestRegressor(\n",
    "    random_state=12345, max_depth=5, min_samples_leaf=3, min_samples_split=8, n_estimators=21)\n",
    "model_top.fit(features_train, target_train)\n",
    "test_predictions = model_top.predict(features_test)\n",
    "print('Итоговое sMAPE на тестовой выборке:',\n",
    "      smape(target_test, test_predictions).mean())"
   ]
  },
  {
   "cell_type": "code",
   "execution_count": 53,
   "metadata": {},
   "outputs": [
    {
     "name": "stdout",
     "output_type": "stream",
     "text": [
      "Итоговое sMAPE на тестовой выборке: 9.110758255496492\n"
     ]
    }
   ],
   "source": [
    "test_predictions = train_pred.predict(features_test)\n",
    "print('Итоговое sMAPE на тестовой выборке:',\n",
    "      smape(target_test, test_predictions).mean())"
   ]
  },
  {
   "cell_type": "markdown",
   "metadata": {},
   "source": [
    " Итого: лучшая модель RandomForestRegressor(random_state=12345,max_depth= 5,min_samples_leaf=3,min_samples_split = 8, n_estimators = 21)"
   ]
  },
  {
   "cell_type": "markdown",
   "metadata": {},
   "source": [
    "Проверим на адекватность"
   ]
  },
  {
   "cell_type": "code",
   "execution_count": 54,
   "metadata": {},
   "outputs": [
    {
     "name": "stdout",
     "output_type": "stream",
     "text": [
      "Итоговое sMAPE на тестовой выборке: 10.296418245853513\n"
     ]
    }
   ],
   "source": [
    "model_top = DummyRegressor(strategy='mean')\n",
    "model_top.fit(features_train, target_train)\n",
    "test_predictions = model_top.predict(features_test)\n",
    "print('Итоговое sMAPE на тестовой выборке:',\n",
    "      smape(target_test, test_predictions).mean())"
   ]
  },
  {
   "cell_type": "markdown",
   "metadata": {},
   "source": [
    "Результат хуже чем наш, значит наша модель подходит"
   ]
  },
  {
   "cell_type": "markdown",
   "metadata": {},
   "source": [
    " Итого: лучшая модель RandomForestRegressor(random_state=12345,max_depth= 5,min_samples_leaf=3,min_samples_split = 8, n_estimators = 21) с резуьтатом на тестовой выборке \n",
    "на тестовой выборке sMAPE: 9.110758255496492"
   ]
  },
  {
   "cell_type": "markdown",
   "metadata": {},
   "source": [
    "Требуется разработать модель.Она должна предсказать коэффициент восстановления золота из золотосодержащей руды.\n",
    "сделано следующее:\n",
    "\n",
    "Подготовлена функция расчета smape.\n",
    "Подготовлены обучающие и целевые признаки.\n",
    "Найдена модель с  наилучшим проказателем  smape с помощью кросс-валидации.\n",
    "Итого: ожидаемо лучшая модель RandomForestRegressor(random_state=12345,max_depth= 5,min_samples_leaf=1,min_samples_split = 8, n_estimators = 21) с резуьтатом на тестовой выборке  9.110758255496492"
   ]
  },
  {
   "cell_type": "code",
   "execution_count": null,
   "metadata": {},
   "outputs": [],
   "source": []
  }
 ],
 "metadata": {
  "ExecuteTimeLog": [
   {
    "duration": 1039,
    "start_time": "2022-12-12T07:38:38.157Z"
   },
   {
    "duration": 54,
    "start_time": "2022-12-12T07:40:04.852Z"
   },
   {
    "duration": 408,
    "start_time": "2022-12-12T07:40:09.586Z"
   },
   {
    "duration": 249,
    "start_time": "2022-12-12T07:40:13.140Z"
   },
   {
    "duration": 39,
    "start_time": "2022-12-12T07:40:19.103Z"
   },
   {
    "duration": 2378,
    "start_time": "2022-12-12T07:41:37.880Z"
   },
   {
    "duration": 26,
    "start_time": "2022-12-12T07:41:46.293Z"
   },
   {
    "duration": 29,
    "start_time": "2022-12-12T07:41:51.563Z"
   },
   {
    "duration": 27,
    "start_time": "2022-12-12T07:42:03.726Z"
   },
   {
    "duration": 23,
    "start_time": "2022-12-12T07:42:45.615Z"
   },
   {
    "duration": 18,
    "start_time": "2022-12-12T07:43:25.557Z"
   },
   {
    "duration": 40,
    "start_time": "2022-12-12T08:14:51.786Z"
   },
   {
    "duration": 27,
    "start_time": "2022-12-12T08:15:33.817Z"
   },
   {
    "duration": 6,
    "start_time": "2022-12-12T10:23:54.084Z"
   },
   {
    "duration": 7,
    "start_time": "2022-12-12T10:24:00.741Z"
   },
   {
    "duration": 7,
    "start_time": "2022-12-12T10:24:46.915Z"
   },
   {
    "duration": 8,
    "start_time": "2022-12-12T10:24:47.568Z"
   },
   {
    "duration": 6,
    "start_time": "2022-12-12T10:25:55.995Z"
   },
   {
    "duration": 6,
    "start_time": "2022-12-12T10:25:56.587Z"
   },
   {
    "duration": 6,
    "start_time": "2022-12-12T10:27:05.914Z"
   },
   {
    "duration": 5,
    "start_time": "2022-12-12T10:33:30.890Z"
   },
   {
    "duration": 798,
    "start_time": "2022-12-12T10:34:35.212Z"
   },
   {
    "duration": 5,
    "start_time": "2022-12-12T10:35:28.039Z"
   },
   {
    "duration": 789,
    "start_time": "2022-12-12T10:35:30.540Z"
   },
   {
    "duration": 3,
    "start_time": "2022-12-12T10:35:39.877Z"
   },
   {
    "duration": 38,
    "start_time": "2022-12-12T10:35:42.112Z"
   },
   {
    "duration": 13,
    "start_time": "2022-12-12T10:36:04.305Z"
   },
   {
    "duration": 7,
    "start_time": "2022-12-12T10:38:43.992Z"
   },
   {
    "duration": 6,
    "start_time": "2022-12-12T10:39:06.153Z"
   },
   {
    "duration": 5,
    "start_time": "2022-12-12T10:39:08.815Z"
   },
   {
    "duration": 5,
    "start_time": "2022-12-12T10:39:09.358Z"
   },
   {
    "duration": 7,
    "start_time": "2022-12-12T10:39:15.318Z"
   },
   {
    "duration": 12,
    "start_time": "2022-12-12T10:40:18.844Z"
   },
   {
    "duration": 11,
    "start_time": "2022-12-12T10:40:24.511Z"
   },
   {
    "duration": 10,
    "start_time": "2022-12-12T10:40:33.450Z"
   },
   {
    "duration": 5,
    "start_time": "2022-12-12T10:40:40.364Z"
   },
   {
    "duration": 746,
    "start_time": "2022-12-12T10:43:17.843Z"
   },
   {
    "duration": 6,
    "start_time": "2022-12-12T10:43:25.039Z"
   },
   {
    "duration": 9,
    "start_time": "2022-12-12T10:43:26.039Z"
   },
   {
    "duration": 5,
    "start_time": "2022-12-12T11:04:58.371Z"
   },
   {
    "duration": 6,
    "start_time": "2022-12-12T11:04:59.090Z"
   },
   {
    "duration": 6,
    "start_time": "2022-12-12T11:05:30.207Z"
   },
   {
    "duration": 6,
    "start_time": "2022-12-12T11:05:31.038Z"
   },
   {
    "duration": 6,
    "start_time": "2022-12-12T11:07:32.014Z"
   },
   {
    "duration": 5,
    "start_time": "2022-12-12T11:07:33.013Z"
   },
   {
    "duration": 4,
    "start_time": "2022-12-12T11:09:27.406Z"
   },
   {
    "duration": 5,
    "start_time": "2022-12-12T11:09:28.720Z"
   },
   {
    "duration": 4,
    "start_time": "2022-12-12T11:09:48.824Z"
   },
   {
    "duration": 5,
    "start_time": "2022-12-12T11:09:49.210Z"
   },
   {
    "duration": 5,
    "start_time": "2022-12-12T11:10:24.130Z"
   },
   {
    "duration": 5,
    "start_time": "2022-12-12T11:10:25.625Z"
   },
   {
    "duration": 9,
    "start_time": "2022-12-12T11:10:28.617Z"
   },
   {
    "duration": 4,
    "start_time": "2022-12-12T11:10:34.902Z"
   },
   {
    "duration": 4,
    "start_time": "2022-12-12T11:11:03.239Z"
   },
   {
    "duration": 5,
    "start_time": "2022-12-12T11:11:03.915Z"
   },
   {
    "duration": 5,
    "start_time": "2022-12-12T11:11:09.672Z"
   },
   {
    "duration": 5,
    "start_time": "2022-12-12T11:11:17.901Z"
   },
   {
    "duration": 42,
    "start_time": "2022-12-12T11:11:34.989Z"
   },
   {
    "duration": 5,
    "start_time": "2022-12-12T11:11:39.275Z"
   },
   {
    "duration": 4,
    "start_time": "2022-12-12T11:11:44.769Z"
   },
   {
    "duration": 10,
    "start_time": "2022-12-12T12:02:43.713Z"
   },
   {
    "duration": 9,
    "start_time": "2022-12-12T12:03:44.404Z"
   },
   {
    "duration": 11,
    "start_time": "2022-12-12T12:03:50.583Z"
   },
   {
    "duration": 11,
    "start_time": "2022-12-12T12:03:51.513Z"
   },
   {
    "duration": 9,
    "start_time": "2022-12-12T12:03:52.325Z"
   },
   {
    "duration": 11,
    "start_time": "2022-12-12T12:04:04.794Z"
   },
   {
    "duration": 9,
    "start_time": "2022-12-12T12:04:14.039Z"
   },
   {
    "duration": 11,
    "start_time": "2022-12-12T12:04:55.048Z"
   },
   {
    "duration": 2,
    "start_time": "2022-12-12T12:05:05.162Z"
   },
   {
    "duration": 736,
    "start_time": "2022-12-12T12:05:05.593Z"
   },
   {
    "duration": 20,
    "start_time": "2022-12-12T12:05:06.331Z"
   },
   {
    "duration": 56,
    "start_time": "2022-12-12T12:05:06.353Z"
   },
   {
    "duration": 12,
    "start_time": "2022-12-12T12:05:06.413Z"
   },
   {
    "duration": 8,
    "start_time": "2022-12-12T12:05:10.615Z"
   },
   {
    "duration": 15,
    "start_time": "2022-12-12T12:05:11.199Z"
   },
   {
    "duration": 8,
    "start_time": "2022-12-12T12:05:12.570Z"
   },
   {
    "duration": 3,
    "start_time": "2022-12-12T12:06:19.197Z"
   },
   {
    "duration": 3,
    "start_time": "2022-12-12T12:06:25.171Z"
   },
   {
    "duration": 7,
    "start_time": "2022-12-12T12:06:59.381Z"
   },
   {
    "duration": 5,
    "start_time": "2022-12-12T12:07:13.946Z"
   },
   {
    "duration": 5,
    "start_time": "2022-12-12T12:07:19.112Z"
   },
   {
    "duration": 5,
    "start_time": "2022-12-12T13:22:17.826Z"
   },
   {
    "duration": 5,
    "start_time": "2022-12-12T13:22:18.714Z"
   },
   {
    "duration": 3,
    "start_time": "2022-12-12T13:22:23.141Z"
   },
   {
    "duration": 4,
    "start_time": "2022-12-12T13:22:23.717Z"
   },
   {
    "duration": 4,
    "start_time": "2022-12-12T13:22:24.381Z"
   },
   {
    "duration": 2,
    "start_time": "2022-12-12T13:23:08.756Z"
   },
   {
    "duration": 5,
    "start_time": "2022-12-12T13:23:09.267Z"
   },
   {
    "duration": 4,
    "start_time": "2022-12-12T13:23:09.834Z"
   },
   {
    "duration": 3,
    "start_time": "2022-12-12T13:23:15.457Z"
   },
   {
    "duration": 4,
    "start_time": "2022-12-12T13:23:15.730Z"
   },
   {
    "duration": 5,
    "start_time": "2022-12-12T13:23:15.974Z"
   },
   {
    "duration": 39,
    "start_time": "2022-12-12T13:24:09.595Z"
   },
   {
    "duration": 5,
    "start_time": "2022-12-12T13:24:19.726Z"
   },
   {
    "duration": 5,
    "start_time": "2022-12-12T13:24:21.065Z"
   },
   {
    "duration": 4,
    "start_time": "2022-12-12T13:24:44.740Z"
   },
   {
    "duration": 5,
    "start_time": "2022-12-12T13:24:51.929Z"
   },
   {
    "duration": 7,
    "start_time": "2022-12-12T13:24:53.290Z"
   },
   {
    "duration": 4,
    "start_time": "2022-12-12T13:24:57.215Z"
   },
   {
    "duration": 10,
    "start_time": "2022-12-12T13:25:10.516Z"
   },
   {
    "duration": 3,
    "start_time": "2022-12-12T13:25:25.372Z"
   },
   {
    "duration": 10,
    "start_time": "2022-12-12T13:25:39.481Z"
   },
   {
    "duration": 7,
    "start_time": "2022-12-12T13:25:54.305Z"
   },
   {
    "duration": 6,
    "start_time": "2022-12-12T13:26:12.938Z"
   },
   {
    "duration": 7,
    "start_time": "2022-12-12T13:26:49.283Z"
   },
   {
    "duration": 3,
    "start_time": "2022-12-12T13:27:09.450Z"
   },
   {
    "duration": 6,
    "start_time": "2022-12-12T13:27:10.017Z"
   },
   {
    "duration": 5,
    "start_time": "2022-12-12T13:27:12.689Z"
   },
   {
    "duration": 4,
    "start_time": "2022-12-12T13:27:20.983Z"
   },
   {
    "duration": 8,
    "start_time": "2022-12-12T13:27:27.798Z"
   },
   {
    "duration": 4,
    "start_time": "2022-12-12T13:29:58.943Z"
   },
   {
    "duration": 7,
    "start_time": "2022-12-12T13:30:00.359Z"
   },
   {
    "duration": 8,
    "start_time": "2022-12-12T13:33:45.724Z"
   },
   {
    "duration": 5,
    "start_time": "2022-12-12T13:33:52.250Z"
   },
   {
    "duration": 12,
    "start_time": "2022-12-12T13:33:57.849Z"
   },
   {
    "duration": 12,
    "start_time": "2022-12-12T13:34:00.818Z"
   },
   {
    "duration": 7,
    "start_time": "2022-12-12T13:34:12.739Z"
   },
   {
    "duration": 4,
    "start_time": "2022-12-12T13:38:45.653Z"
   },
   {
    "duration": 4,
    "start_time": "2022-12-12T13:38:52.138Z"
   },
   {
    "duration": 4,
    "start_time": "2022-12-12T13:38:55.697Z"
   },
   {
    "duration": 5,
    "start_time": "2022-12-12T15:38:18.852Z"
   },
   {
    "duration": 8,
    "start_time": "2022-12-12T15:45:44.417Z"
   },
   {
    "duration": 15,
    "start_time": "2022-12-12T15:46:06.713Z"
   },
   {
    "duration": 6,
    "start_time": "2022-12-12T15:54:03.896Z"
   },
   {
    "duration": 16,
    "start_time": "2022-12-12T15:58:02.585Z"
   },
   {
    "duration": 15,
    "start_time": "2022-12-12T15:58:15.284Z"
   },
   {
    "duration": 14,
    "start_time": "2022-12-12T15:58:38.754Z"
   },
   {
    "duration": 14,
    "start_time": "2022-12-12T15:58:46.280Z"
   },
   {
    "duration": 15,
    "start_time": "2022-12-12T16:00:20.123Z"
   },
   {
    "duration": 15,
    "start_time": "2022-12-12T16:00:25.914Z"
   },
   {
    "duration": 3,
    "start_time": "2022-12-12T16:00:50.007Z"
   },
   {
    "duration": 647,
    "start_time": "2022-12-12T16:00:50.443Z"
   },
   {
    "duration": 20,
    "start_time": "2022-12-12T16:00:51.092Z"
   },
   {
    "duration": 28,
    "start_time": "2022-12-12T16:00:51.114Z"
   },
   {
    "duration": 3,
    "start_time": "2022-12-12T16:00:51.271Z"
   },
   {
    "duration": 8,
    "start_time": "2022-12-12T16:00:51.494Z"
   },
   {
    "duration": 4,
    "start_time": "2022-12-12T16:00:52.159Z"
   },
   {
    "duration": 5,
    "start_time": "2022-12-12T16:00:52.398Z"
   },
   {
    "duration": 411,
    "start_time": "2022-12-12T16:00:53.327Z"
   },
   {
    "duration": 383,
    "start_time": "2022-12-12T16:07:09.614Z"
   },
   {
    "duration": 11,
    "start_time": "2022-12-12T16:19:19.181Z"
   },
   {
    "duration": 5,
    "start_time": "2022-12-12T16:19:43.259Z"
   },
   {
    "duration": 7,
    "start_time": "2022-12-12T16:19:47.004Z"
   },
   {
    "duration": 730,
    "start_time": "2022-12-12T16:20:36.791Z"
   },
   {
    "duration": 19,
    "start_time": "2022-12-12T16:20:43.916Z"
   },
   {
    "duration": 9,
    "start_time": "2022-12-12T16:21:01.284Z"
   },
   {
    "duration": 13,
    "start_time": "2022-12-12T16:21:12.768Z"
   },
   {
    "duration": 5,
    "start_time": "2022-12-12T16:21:42.594Z"
   },
   {
    "duration": 26,
    "start_time": "2022-12-12T16:21:47.067Z"
   },
   {
    "duration": 36,
    "start_time": "2022-12-12T16:21:57.233Z"
   },
   {
    "duration": 30,
    "start_time": "2022-12-12T16:22:06.199Z"
   },
   {
    "duration": 12,
    "start_time": "2022-12-12T16:23:40.350Z"
   },
   {
    "duration": 5,
    "start_time": "2022-12-12T16:24:47.578Z"
   },
   {
    "duration": 12,
    "start_time": "2022-12-12T16:24:49.443Z"
   },
   {
    "duration": 33,
    "start_time": "2022-12-12T16:24:55.169Z"
   },
   {
    "duration": 3,
    "start_time": "2022-12-12T16:25:01.398Z"
   },
   {
    "duration": 721,
    "start_time": "2022-12-12T16:25:01.846Z"
   },
   {
    "duration": 13,
    "start_time": "2022-12-12T16:25:02.570Z"
   },
   {
    "duration": 17,
    "start_time": "2022-12-12T16:25:02.596Z"
   },
   {
    "duration": 30,
    "start_time": "2022-12-12T16:25:02.615Z"
   },
   {
    "duration": 3,
    "start_time": "2022-12-12T16:25:03.021Z"
   },
   {
    "duration": 6,
    "start_time": "2022-12-12T16:25:03.317Z"
   },
   {
    "duration": 5,
    "start_time": "2022-12-12T16:25:04.349Z"
   },
   {
    "duration": 5,
    "start_time": "2022-12-12T16:25:04.829Z"
   },
   {
    "duration": 6,
    "start_time": "2022-12-12T16:25:05.875Z"
   },
   {
    "duration": 12,
    "start_time": "2022-12-12T16:25:06.458Z"
   },
   {
    "duration": 29,
    "start_time": "2022-12-12T16:25:07.028Z"
   },
   {
    "duration": 31,
    "start_time": "2022-12-12T16:36:25.270Z"
   },
   {
    "duration": 19,
    "start_time": "2022-12-12T16:36:38.265Z"
   },
   {
    "duration": 10,
    "start_time": "2022-12-12T16:48:50.069Z"
   },
   {
    "duration": 116,
    "start_time": "2022-12-12T16:54:24.417Z"
   },
   {
    "duration": 22,
    "start_time": "2022-12-12T16:54:35.339Z"
   },
   {
    "duration": 47,
    "start_time": "2022-12-13T05:14:55.622Z"
   },
   {
    "duration": 1134,
    "start_time": "2022-12-13T05:14:59.551Z"
   },
   {
    "duration": 2612,
    "start_time": "2022-12-13T05:15:00.687Z"
   },
   {
    "duration": 15,
    "start_time": "2022-12-13T05:15:03.301Z"
   },
   {
    "duration": 31,
    "start_time": "2022-12-13T05:15:03.318Z"
   },
   {
    "duration": 35,
    "start_time": "2022-12-13T05:15:03.552Z"
   },
   {
    "duration": 3,
    "start_time": "2022-12-13T05:15:03.926Z"
   },
   {
    "duration": 10,
    "start_time": "2022-12-13T05:15:07.285Z"
   },
   {
    "duration": 5,
    "start_time": "2022-12-13T05:15:09.108Z"
   },
   {
    "duration": 5,
    "start_time": "2022-12-13T05:15:09.700Z"
   },
   {
    "duration": 5,
    "start_time": "2022-12-13T05:15:21.218Z"
   },
   {
    "duration": 5,
    "start_time": "2022-12-13T05:16:00.127Z"
   },
   {
    "duration": 7,
    "start_time": "2022-12-13T05:16:10.605Z"
   },
   {
    "duration": 13,
    "start_time": "2022-12-13T05:16:11.164Z"
   },
   {
    "duration": 128,
    "start_time": "2022-12-13T05:16:19.760Z"
   },
   {
    "duration": 22,
    "start_time": "2022-12-13T05:16:22.263Z"
   },
   {
    "duration": 59,
    "start_time": "2022-12-13T05:18:45.494Z"
   },
   {
    "duration": 3,
    "start_time": "2022-12-13T05:18:51.450Z"
   },
   {
    "duration": 7,
    "start_time": "2022-12-13T05:18:51.849Z"
   },
   {
    "duration": 21,
    "start_time": "2022-12-13T05:21:34.620Z"
   },
   {
    "duration": 4,
    "start_time": "2022-12-13T05:22:27.635Z"
   },
   {
    "duration": 9,
    "start_time": "2022-12-13T05:22:32.641Z"
   },
   {
    "duration": 10,
    "start_time": "2022-12-13T05:22:42.937Z"
   },
   {
    "duration": 9,
    "start_time": "2022-12-13T05:22:43.929Z"
   },
   {
    "duration": 8,
    "start_time": "2022-12-13T05:22:51.217Z"
   },
   {
    "duration": 7,
    "start_time": "2022-12-13T05:23:19.944Z"
   },
   {
    "duration": 10,
    "start_time": "2022-12-13T05:23:30.628Z"
   },
   {
    "duration": 22,
    "start_time": "2022-12-13T05:32:27.349Z"
   },
   {
    "duration": 28,
    "start_time": "2022-12-13T05:32:51.675Z"
   },
   {
    "duration": 25,
    "start_time": "2022-12-13T05:33:12.731Z"
   },
   {
    "duration": 7,
    "start_time": "2022-12-13T05:36:00.457Z"
   },
   {
    "duration": 25,
    "start_time": "2022-12-13T05:36:27.652Z"
   },
   {
    "duration": 53,
    "start_time": "2022-12-13T05:36:39.176Z"
   },
   {
    "duration": 7,
    "start_time": "2022-12-13T05:37:08.632Z"
   },
   {
    "duration": 236,
    "start_time": "2022-12-13T05:38:22.605Z"
   },
   {
    "duration": 9,
    "start_time": "2022-12-13T05:38:51.933Z"
   },
   {
    "duration": 30,
    "start_time": "2022-12-13T05:39:33.443Z"
   },
   {
    "duration": 11,
    "start_time": "2022-12-13T05:40:16.036Z"
   },
   {
    "duration": 28,
    "start_time": "2022-12-13T05:47:15.147Z"
   },
   {
    "duration": 12,
    "start_time": "2022-12-13T05:49:13.862Z"
   },
   {
    "duration": 31,
    "start_time": "2022-12-13T05:49:29.084Z"
   },
   {
    "duration": 29,
    "start_time": "2022-12-13T05:49:47.740Z"
   },
   {
    "duration": 7,
    "start_time": "2022-12-13T05:49:51.131Z"
   },
   {
    "duration": 6,
    "start_time": "2022-12-13T05:50:36.770Z"
   },
   {
    "duration": 8,
    "start_time": "2022-12-13T05:50:39.119Z"
   },
   {
    "duration": 6,
    "start_time": "2022-12-13T05:51:03.950Z"
   },
   {
    "duration": 6,
    "start_time": "2022-12-13T05:54:23.487Z"
   },
   {
    "duration": 49,
    "start_time": "2022-12-13T05:54:50.091Z"
   },
   {
    "duration": 118,
    "start_time": "2022-12-13T05:55:03.102Z"
   },
   {
    "duration": 10,
    "start_time": "2022-12-13T05:55:10.180Z"
   },
   {
    "duration": 8,
    "start_time": "2022-12-13T05:55:48.461Z"
   },
   {
    "duration": 40,
    "start_time": "2022-12-13T05:57:20.168Z"
   },
   {
    "duration": 10,
    "start_time": "2022-12-13T05:59:56.495Z"
   },
   {
    "duration": 29,
    "start_time": "2022-12-13T06:04:16.163Z"
   },
   {
    "duration": 16,
    "start_time": "2022-12-13T06:04:29.164Z"
   },
   {
    "duration": 715,
    "start_time": "2022-12-13T06:11:34.556Z"
   },
   {
    "duration": 4,
    "start_time": "2022-12-13T06:12:14.514Z"
   },
   {
    "duration": 4,
    "start_time": "2022-12-13T06:12:16.963Z"
   },
   {
    "duration": 10,
    "start_time": "2022-12-13T06:12:19.808Z"
   },
   {
    "duration": 14,
    "start_time": "2022-12-13T06:12:33.394Z"
   },
   {
    "duration": 12,
    "start_time": "2022-12-13T06:13:36.979Z"
   },
   {
    "duration": 12,
    "start_time": "2022-12-13T06:13:49.782Z"
   },
   {
    "duration": 3,
    "start_time": "2022-12-13T06:15:29.764Z"
   },
   {
    "duration": 5,
    "start_time": "2022-12-13T06:17:26.334Z"
   },
   {
    "duration": 12,
    "start_time": "2022-12-13T06:17:31.030Z"
   },
   {
    "duration": 10,
    "start_time": "2022-12-13T07:02:02.263Z"
   },
   {
    "duration": 13,
    "start_time": "2022-12-13T07:03:22.478Z"
   },
   {
    "duration": 710,
    "start_time": "2022-12-13T07:03:33.270Z"
   },
   {
    "duration": 21,
    "start_time": "2022-12-13T07:04:46.473Z"
   },
   {
    "duration": 12,
    "start_time": "2022-12-13T07:04:54.539Z"
   },
   {
    "duration": 10,
    "start_time": "2022-12-13T07:07:18.028Z"
   },
   {
    "duration": 10,
    "start_time": "2022-12-13T07:07:51.159Z"
   },
   {
    "duration": 3,
    "start_time": "2022-12-13T07:10:06.616Z"
   },
   {
    "duration": 11,
    "start_time": "2022-12-13T07:10:21.465Z"
   },
   {
    "duration": 125,
    "start_time": "2022-12-13T07:10:23.338Z"
   },
   {
    "duration": 112,
    "start_time": "2022-12-13T07:11:35.677Z"
   },
   {
    "duration": 133,
    "start_time": "2022-12-13T07:11:59.626Z"
   },
   {
    "duration": 200,
    "start_time": "2022-12-13T07:12:07.207Z"
   },
   {
    "duration": 111,
    "start_time": "2022-12-13T07:12:21.403Z"
   },
   {
    "duration": 196,
    "start_time": "2022-12-13T07:13:17.730Z"
   },
   {
    "duration": 4,
    "start_time": "2022-12-13T07:15:49.071Z"
   },
   {
    "duration": 144,
    "start_time": "2022-12-13T07:17:08.352Z"
   },
   {
    "duration": 15,
    "start_time": "2022-12-13T07:19:52.286Z"
   },
   {
    "duration": 11,
    "start_time": "2022-12-13T07:20:07.124Z"
   },
   {
    "duration": 6,
    "start_time": "2022-12-13T07:21:11.246Z"
   },
   {
    "duration": 11,
    "start_time": "2022-12-13T07:21:11.669Z"
   },
   {
    "duration": 150,
    "start_time": "2022-12-13T07:21:12.878Z"
   },
   {
    "duration": 6,
    "start_time": "2022-12-13T07:22:01.283Z"
   },
   {
    "duration": 11,
    "start_time": "2022-12-13T07:22:01.890Z"
   },
   {
    "duration": 63,
    "start_time": "2022-12-13T07:25:01.810Z"
   },
   {
    "duration": 50,
    "start_time": "2022-12-13T07:25:40.187Z"
   },
   {
    "duration": 12,
    "start_time": "2022-12-13T07:25:47.665Z"
   },
   {
    "duration": 146,
    "start_time": "2022-12-13T07:25:54.916Z"
   },
   {
    "duration": 149,
    "start_time": "2022-12-13T07:26:06.215Z"
   },
   {
    "duration": 153,
    "start_time": "2022-12-13T07:27:35.358Z"
   },
   {
    "duration": 12,
    "start_time": "2022-12-13T07:28:58.923Z"
   },
   {
    "duration": 11,
    "start_time": "2022-12-13T07:29:04.488Z"
   },
   {
    "duration": 139,
    "start_time": "2022-12-13T07:33:31.479Z"
   },
   {
    "duration": 145,
    "start_time": "2022-12-13T07:35:06.383Z"
   },
   {
    "duration": 144,
    "start_time": "2022-12-13T07:35:17.757Z"
   },
   {
    "duration": 48,
    "start_time": "2022-12-13T07:35:58.547Z"
   },
   {
    "duration": 154,
    "start_time": "2022-12-13T07:36:09.311Z"
   },
   {
    "duration": 155,
    "start_time": "2022-12-13T07:37:04.773Z"
   },
   {
    "duration": 227,
    "start_time": "2022-12-13T07:37:32.304Z"
   },
   {
    "duration": 195,
    "start_time": "2022-12-13T07:39:51.335Z"
   },
   {
    "duration": 187,
    "start_time": "2022-12-13T07:40:06.202Z"
   },
   {
    "duration": 199,
    "start_time": "2022-12-13T07:40:20.538Z"
   },
   {
    "duration": 210,
    "start_time": "2022-12-13T07:40:48.001Z"
   },
   {
    "duration": 73,
    "start_time": "2022-12-13T07:41:09.335Z"
   },
   {
    "duration": 214,
    "start_time": "2022-12-13T07:42:51.768Z"
   },
   {
    "duration": 226,
    "start_time": "2022-12-13T07:43:05.768Z"
   },
   {
    "duration": 219,
    "start_time": "2022-12-13T07:43:28.657Z"
   },
   {
    "duration": 212,
    "start_time": "2022-12-13T07:47:06.500Z"
   },
   {
    "duration": 103,
    "start_time": "2022-12-13T07:47:54.381Z"
   },
   {
    "duration": 136,
    "start_time": "2022-12-13T07:48:26.161Z"
   },
   {
    "duration": 257,
    "start_time": "2022-12-13T07:49:43.523Z"
   },
   {
    "duration": 107,
    "start_time": "2022-12-13T07:52:03.892Z"
   },
   {
    "duration": 62,
    "start_time": "2022-12-13T07:52:55.193Z"
   },
   {
    "duration": 99,
    "start_time": "2022-12-13T07:53:08.800Z"
   },
   {
    "duration": 95,
    "start_time": "2022-12-13T07:53:18.349Z"
   },
   {
    "duration": 116,
    "start_time": "2022-12-13T07:54:27.577Z"
   },
   {
    "duration": 134,
    "start_time": "2022-12-13T07:55:05.953Z"
   },
   {
    "duration": 102,
    "start_time": "2022-12-13T07:57:41.139Z"
   },
   {
    "duration": 121,
    "start_time": "2022-12-13T07:58:50.705Z"
   },
   {
    "duration": 311,
    "start_time": "2022-12-13T07:58:59.427Z"
   },
   {
    "duration": 142,
    "start_time": "2022-12-13T07:59:09.488Z"
   },
   {
    "duration": 171,
    "start_time": "2022-12-13T07:59:15.311Z"
   },
   {
    "duration": 134,
    "start_time": "2022-12-13T07:59:24.409Z"
   },
   {
    "duration": 141,
    "start_time": "2022-12-13T08:00:30.463Z"
   },
   {
    "duration": 139,
    "start_time": "2022-12-13T08:01:23.704Z"
   },
   {
    "duration": 137,
    "start_time": "2022-12-13T08:01:39.812Z"
   },
   {
    "duration": 140,
    "start_time": "2022-12-13T08:02:54.439Z"
   },
   {
    "duration": 115,
    "start_time": "2022-12-13T08:03:23.762Z"
   },
   {
    "duration": 141,
    "start_time": "2022-12-13T08:03:39.773Z"
   },
   {
    "duration": 126,
    "start_time": "2022-12-13T08:04:09.858Z"
   },
   {
    "duration": 140,
    "start_time": "2022-12-13T08:04:28.209Z"
   },
   {
    "duration": 150,
    "start_time": "2022-12-13T08:04:30.855Z"
   },
   {
    "duration": 173,
    "start_time": "2022-12-13T08:04:58.039Z"
   },
   {
    "duration": 3,
    "start_time": "2022-12-13T08:05:22.749Z"
   },
   {
    "duration": 142,
    "start_time": "2022-12-13T08:05:23.339Z"
   },
   {
    "duration": 147,
    "start_time": "2022-12-13T08:05:24.145Z"
   },
   {
    "duration": 150,
    "start_time": "2022-12-13T08:05:24.865Z"
   },
   {
    "duration": 132,
    "start_time": "2022-12-13T08:10:01.310Z"
   },
   {
    "duration": 8,
    "start_time": "2022-12-13T09:58:35.024Z"
   },
   {
    "duration": 9,
    "start_time": "2022-12-13T09:58:39.827Z"
   },
   {
    "duration": 8,
    "start_time": "2022-12-13T09:58:52.776Z"
   },
   {
    "duration": 9,
    "start_time": "2022-12-13T10:05:45.801Z"
   },
   {
    "duration": 207,
    "start_time": "2022-12-13T10:06:55.577Z"
   },
   {
    "duration": 262,
    "start_time": "2022-12-13T10:07:31.138Z"
   },
   {
    "duration": 7,
    "start_time": "2022-12-13T10:09:19.078Z"
   },
   {
    "duration": 6,
    "start_time": "2022-12-13T10:10:08.378Z"
   },
   {
    "duration": 276,
    "start_time": "2022-12-13T10:10:08.970Z"
   },
   {
    "duration": 274,
    "start_time": "2022-12-13T10:11:15.408Z"
   },
   {
    "duration": 495,
    "start_time": "2022-12-13T10:12:56.683Z"
   },
   {
    "duration": 8,
    "start_time": "2022-12-13T10:14:50.105Z"
   },
   {
    "duration": 10,
    "start_time": "2022-12-13T10:15:01.820Z"
   },
   {
    "duration": 15,
    "start_time": "2022-12-13T10:18:27.069Z"
   },
   {
    "duration": 14,
    "start_time": "2022-12-13T10:18:41.966Z"
   },
   {
    "duration": 6,
    "start_time": "2022-12-13T10:19:18.487Z"
   },
   {
    "duration": 4,
    "start_time": "2022-12-13T10:19:57.934Z"
   },
   {
    "duration": 13,
    "start_time": "2022-12-13T10:20:08.746Z"
   },
   {
    "duration": 7,
    "start_time": "2022-12-13T10:20:35.352Z"
   },
   {
    "duration": 7,
    "start_time": "2022-12-13T10:22:14.841Z"
   },
   {
    "duration": 6,
    "start_time": "2022-12-13T10:26:53.794Z"
   },
   {
    "duration": 10,
    "start_time": "2022-12-13T10:26:59.135Z"
   },
   {
    "duration": 8,
    "start_time": "2022-12-13T10:27:13.481Z"
   },
   {
    "duration": 8,
    "start_time": "2022-12-13T10:32:13.491Z"
   },
   {
    "duration": 478,
    "start_time": "2022-12-13T10:38:19.720Z"
   },
   {
    "duration": 205,
    "start_time": "2022-12-13T10:38:32.235Z"
   },
   {
    "duration": 324,
    "start_time": "2022-12-13T10:38:40.728Z"
   },
   {
    "duration": 884,
    "start_time": "2022-12-13T10:39:12.362Z"
   },
   {
    "duration": 683,
    "start_time": "2022-12-13T10:39:25.837Z"
   },
   {
    "duration": 331,
    "start_time": "2022-12-13T10:39:36.937Z"
   },
   {
    "duration": 7,
    "start_time": "2022-12-13T10:48:47.367Z"
   },
   {
    "duration": 7,
    "start_time": "2022-12-13T10:48:52.100Z"
   },
   {
    "duration": 8,
    "start_time": "2022-12-13T10:49:02.673Z"
   },
   {
    "duration": 7,
    "start_time": "2022-12-13T10:49:18.730Z"
   },
   {
    "duration": 217,
    "start_time": "2022-12-13T10:56:50.222Z"
   },
   {
    "duration": 321,
    "start_time": "2022-12-13T11:00:58.180Z"
   },
   {
    "duration": 16,
    "start_time": "2022-12-13T11:18:09.201Z"
   },
   {
    "duration": 16,
    "start_time": "2022-12-13T11:18:43.706Z"
   },
   {
    "duration": 17,
    "start_time": "2022-12-13T11:18:56.893Z"
   },
   {
    "duration": 22,
    "start_time": "2022-12-13T11:19:28.023Z"
   },
   {
    "duration": 19,
    "start_time": "2022-12-13T11:21:22.762Z"
   },
   {
    "duration": 18,
    "start_time": "2022-12-13T11:21:31.598Z"
   },
   {
    "duration": 17,
    "start_time": "2022-12-13T11:21:40.475Z"
   },
   {
    "duration": 22,
    "start_time": "2022-12-13T11:21:45.761Z"
   },
   {
    "duration": 229,
    "start_time": "2022-12-13T11:22:06.558Z"
   },
   {
    "duration": 55,
    "start_time": "2022-12-13T11:22:13.575Z"
   },
   {
    "duration": 7,
    "start_time": "2022-12-13T11:22:24.494Z"
   },
   {
    "duration": 52,
    "start_time": "2022-12-13T11:22:41.619Z"
   },
   {
    "duration": 57,
    "start_time": "2022-12-13T11:23:05.634Z"
   },
   {
    "duration": 67,
    "start_time": "2022-12-13T11:24:55.398Z"
   },
   {
    "duration": 7,
    "start_time": "2022-12-13T11:25:12.309Z"
   },
   {
    "duration": 7,
    "start_time": "2022-12-13T11:25:23.620Z"
   },
   {
    "duration": 6,
    "start_time": "2022-12-13T14:37:41.622Z"
   },
   {
    "duration": 13,
    "start_time": "2022-12-13T14:38:53.150Z"
   },
   {
    "duration": 989,
    "start_time": "2022-12-13T14:39:32.646Z"
   },
   {
    "duration": 4,
    "start_time": "2022-12-13T14:39:46.305Z"
   },
   {
    "duration": 41,
    "start_time": "2022-12-13T14:41:06.985Z"
   },
   {
    "duration": 6,
    "start_time": "2022-12-13T14:41:19.627Z"
   },
   {
    "duration": 5,
    "start_time": "2022-12-13T14:41:23.094Z"
   },
   {
    "duration": 4,
    "start_time": "2022-12-13T14:41:32.806Z"
   },
   {
    "duration": 11,
    "start_time": "2022-12-13T14:43:39.347Z"
   },
   {
    "duration": 12,
    "start_time": "2022-12-13T14:44:20.595Z"
   },
   {
    "duration": 11,
    "start_time": "2022-12-13T14:44:33.149Z"
   },
   {
    "duration": 190,
    "start_time": "2022-12-13T14:45:34.548Z"
   },
   {
    "duration": 975,
    "start_time": "2022-12-13T14:45:50.272Z"
   },
   {
    "duration": 11,
    "start_time": "2022-12-13T14:46:53.358Z"
   },
   {
    "duration": 10,
    "start_time": "2022-12-13T14:47:38.387Z"
   },
   {
    "duration": 9,
    "start_time": "2022-12-13T14:48:43.026Z"
   },
   {
    "duration": 9,
    "start_time": "2022-12-13T14:48:44.169Z"
   },
   {
    "duration": 9,
    "start_time": "2022-12-13T14:48:54.637Z"
   },
   {
    "duration": 9,
    "start_time": "2022-12-13T14:48:58.748Z"
   },
   {
    "duration": 874,
    "start_time": "2022-12-13T14:54:01.347Z"
   },
   {
    "duration": 243,
    "start_time": "2022-12-13T14:54:52.710Z"
   },
   {
    "duration": 326,
    "start_time": "2022-12-13T14:55:18.261Z"
   },
   {
    "duration": 637,
    "start_time": "2022-12-13T14:57:10.308Z"
   },
   {
    "duration": 235,
    "start_time": "2022-12-13T14:57:33.842Z"
   },
   {
    "duration": 292,
    "start_time": "2022-12-13T14:57:47.207Z"
   },
   {
    "duration": 357,
    "start_time": "2022-12-13T14:57:58.451Z"
   },
   {
    "duration": 365,
    "start_time": "2022-12-13T14:59:17.422Z"
   },
   {
    "duration": 13,
    "start_time": "2022-12-13T15:00:44.329Z"
   },
   {
    "duration": 623,
    "start_time": "2022-12-13T15:00:56.062Z"
   },
   {
    "duration": 11,
    "start_time": "2022-12-13T15:01:08.599Z"
   },
   {
    "duration": 12,
    "start_time": "2022-12-13T15:02:25.640Z"
   },
   {
    "duration": 12,
    "start_time": "2022-12-13T15:03:27.201Z"
   },
   {
    "duration": 7,
    "start_time": "2022-12-13T15:07:40.348Z"
   },
   {
    "duration": 9,
    "start_time": "2022-12-13T15:07:47.225Z"
   },
   {
    "duration": 12,
    "start_time": "2022-12-13T15:07:59.700Z"
   },
   {
    "duration": 12,
    "start_time": "2022-12-13T15:08:09.696Z"
   },
   {
    "duration": 15,
    "start_time": "2022-12-13T15:09:12.466Z"
   },
   {
    "duration": 7,
    "start_time": "2022-12-13T15:09:33.437Z"
   },
   {
    "duration": 5,
    "start_time": "2022-12-13T15:10:01.810Z"
   },
   {
    "duration": 779,
    "start_time": "2022-12-13T15:10:02.307Z"
   },
   {
    "duration": 15,
    "start_time": "2022-12-13T15:10:03.088Z"
   },
   {
    "duration": 34,
    "start_time": "2022-12-13T15:10:03.105Z"
   },
   {
    "duration": 4,
    "start_time": "2022-12-13T15:10:03.241Z"
   },
   {
    "duration": 7,
    "start_time": "2022-12-13T15:10:03.833Z"
   },
   {
    "duration": 5,
    "start_time": "2022-12-13T15:10:04.497Z"
   },
   {
    "duration": 6,
    "start_time": "2022-12-13T15:10:05.751Z"
   },
   {
    "duration": 6,
    "start_time": "2022-12-13T15:10:06.697Z"
   },
   {
    "duration": 12,
    "start_time": "2022-12-13T15:10:07.257Z"
   },
   {
    "duration": 115,
    "start_time": "2022-12-13T15:10:08.393Z"
   },
   {
    "duration": 21,
    "start_time": "2022-12-13T15:10:09.032Z"
   },
   {
    "duration": 9,
    "start_time": "2022-12-13T15:10:12.857Z"
   },
   {
    "duration": 7,
    "start_time": "2022-12-13T15:10:14.534Z"
   },
   {
    "duration": 13,
    "start_time": "2022-12-13T15:10:16.644Z"
   },
   {
    "duration": 10,
    "start_time": "2022-12-13T15:10:18.932Z"
   },
   {
    "duration": 12,
    "start_time": "2022-12-13T15:10:24.217Z"
   },
   {
    "duration": 9,
    "start_time": "2022-12-13T15:10:36.846Z"
   },
   {
    "duration": 10,
    "start_time": "2022-12-13T15:10:39.820Z"
   },
   {
    "duration": 16,
    "start_time": "2022-12-13T15:11:36.428Z"
   },
   {
    "duration": 9,
    "start_time": "2022-12-13T15:11:42.089Z"
   },
   {
    "duration": 17,
    "start_time": "2022-12-13T15:11:53.789Z"
   },
   {
    "duration": 5,
    "start_time": "2022-12-13T15:11:55.293Z"
   },
   {
    "duration": 10,
    "start_time": "2022-12-13T15:11:55.828Z"
   },
   {
    "duration": 3,
    "start_time": "2022-12-13T15:11:56.861Z"
   },
   {
    "duration": 139,
    "start_time": "2022-12-13T15:11:57.365Z"
   },
   {
    "duration": 145,
    "start_time": "2022-12-13T15:11:57.845Z"
   },
   {
    "duration": 143,
    "start_time": "2022-12-13T15:11:58.837Z"
   },
   {
    "duration": 10,
    "start_time": "2022-12-13T15:12:02.647Z"
   },
   {
    "duration": 6,
    "start_time": "2022-12-13T15:12:07.735Z"
   },
   {
    "duration": 324,
    "start_time": "2022-12-13T15:12:08.256Z"
   },
   {
    "duration": 16,
    "start_time": "2022-12-13T15:12:10.031Z"
   },
   {
    "duration": 6,
    "start_time": "2022-12-13T15:12:10.760Z"
   },
   {
    "duration": 9,
    "start_time": "2022-12-13T15:12:14.405Z"
   },
   {
    "duration": 368,
    "start_time": "2022-12-13T15:12:15.053Z"
   },
   {
    "duration": 15,
    "start_time": "2022-12-13T15:12:19.162Z"
   },
   {
    "duration": 7,
    "start_time": "2022-12-13T15:12:22.930Z"
   },
   {
    "duration": 1654,
    "start_time": "2022-12-14T05:34:23.462Z"
   },
   {
    "duration": 3465,
    "start_time": "2022-12-14T05:34:25.118Z"
   },
   {
    "duration": 21,
    "start_time": "2022-12-14T05:34:28.585Z"
   },
   {
    "duration": 29,
    "start_time": "2022-12-14T05:34:28.610Z"
   },
   {
    "duration": 28,
    "start_time": "2022-12-14T05:34:28.641Z"
   },
   {
    "duration": 19,
    "start_time": "2022-12-14T05:34:28.671Z"
   },
   {
    "duration": 5,
    "start_time": "2022-12-14T05:34:28.692Z"
   },
   {
    "duration": 10,
    "start_time": "2022-12-14T05:34:28.698Z"
   },
   {
    "duration": 8,
    "start_time": "2022-12-14T05:34:28.710Z"
   },
   {
    "duration": 44,
    "start_time": "2022-12-14T05:34:28.727Z"
   },
   {
    "duration": 136,
    "start_time": "2022-12-14T05:34:28.773Z"
   },
   {
    "duration": 41,
    "start_time": "2022-12-14T05:34:28.910Z"
   },
   {
    "duration": 12,
    "start_time": "2022-12-14T05:34:28.953Z"
   },
   {
    "duration": 7,
    "start_time": "2022-12-14T05:34:28.966Z"
   },
   {
    "duration": 10,
    "start_time": "2022-12-14T05:34:28.975Z"
   },
   {
    "duration": 44,
    "start_time": "2022-12-14T05:34:28.986Z"
   },
   {
    "duration": 11,
    "start_time": "2022-12-14T05:34:29.032Z"
   },
   {
    "duration": 35,
    "start_time": "2022-12-14T05:34:29.045Z"
   },
   {
    "duration": 15,
    "start_time": "2022-12-14T05:34:29.081Z"
   },
   {
    "duration": 6,
    "start_time": "2022-12-14T05:34:29.276Z"
   },
   {
    "duration": 14,
    "start_time": "2022-12-14T05:34:29.500Z"
   },
   {
    "duration": 3,
    "start_time": "2022-12-14T05:34:29.747Z"
   },
   {
    "duration": 196,
    "start_time": "2022-12-14T05:34:29.978Z"
   },
   {
    "duration": 218,
    "start_time": "2022-12-14T05:34:30.240Z"
   },
   {
    "duration": 200,
    "start_time": "2022-12-14T05:34:30.465Z"
   },
   {
    "duration": 11,
    "start_time": "2022-12-14T05:34:30.944Z"
   },
   {
    "duration": 5,
    "start_time": "2022-12-14T05:34:31.177Z"
   },
   {
    "duration": 396,
    "start_time": "2022-12-14T05:34:31.447Z"
   },
   {
    "duration": 21,
    "start_time": "2022-12-14T05:34:32.089Z"
   },
   {
    "duration": 7,
    "start_time": "2022-12-14T05:34:32.357Z"
   },
   {
    "duration": 9,
    "start_time": "2022-12-14T05:34:33.057Z"
   },
   {
    "duration": 518,
    "start_time": "2022-12-14T05:34:33.297Z"
   },
   {
    "duration": 15,
    "start_time": "2022-12-14T05:34:33.817Z"
   },
   {
    "duration": 9,
    "start_time": "2022-12-14T05:34:34.051Z"
   },
   {
    "duration": 131,
    "start_time": "2022-12-14T05:34:36.048Z"
   },
   {
    "duration": 9,
    "start_time": "2022-12-14T05:34:36.478Z"
   },
   {
    "duration": 26,
    "start_time": "2022-12-14T05:35:17.705Z"
   },
   {
    "duration": 28,
    "start_time": "2022-12-14T05:35:39.646Z"
   },
   {
    "duration": 14,
    "start_time": "2022-12-14T05:36:10.147Z"
   },
   {
    "duration": 12,
    "start_time": "2022-12-14T05:36:45.397Z"
   },
   {
    "duration": 22,
    "start_time": "2022-12-14T05:37:12.092Z"
   },
   {
    "duration": 15,
    "start_time": "2022-12-14T05:37:37.188Z"
   },
   {
    "duration": 673,
    "start_time": "2022-12-14T05:37:57.545Z"
   },
   {
    "duration": 33,
    "start_time": "2022-12-14T05:38:08.342Z"
   },
   {
    "duration": 21,
    "start_time": "2022-12-14T05:38:16.362Z"
   },
   {
    "duration": 17,
    "start_time": "2022-12-14T05:41:35.010Z"
   },
   {
    "duration": 10,
    "start_time": "2022-12-14T05:41:38.522Z"
   },
   {
    "duration": 34,
    "start_time": "2022-12-14T06:03:42.167Z"
   },
   {
    "duration": 35,
    "start_time": "2022-12-14T06:03:49.540Z"
   },
   {
    "duration": 11,
    "start_time": "2022-12-14T06:03:53.348Z"
   },
   {
    "duration": 15,
    "start_time": "2022-12-14T06:04:12.386Z"
   },
   {
    "duration": 3,
    "start_time": "2022-12-14T06:05:32.746Z"
   },
   {
    "duration": 718,
    "start_time": "2022-12-14T06:05:33.138Z"
   },
   {
    "duration": 12,
    "start_time": "2022-12-14T06:05:33.858Z"
   },
   {
    "duration": 26,
    "start_time": "2022-12-14T06:05:33.871Z"
   },
   {
    "duration": 23,
    "start_time": "2022-12-14T06:05:33.898Z"
   },
   {
    "duration": 6,
    "start_time": "2022-12-14T06:05:34.018Z"
   },
   {
    "duration": 5,
    "start_time": "2022-12-14T06:05:34.265Z"
   },
   {
    "duration": 5,
    "start_time": "2022-12-14T06:05:34.722Z"
   },
   {
    "duration": 7,
    "start_time": "2022-12-14T06:05:35.153Z"
   },
   {
    "duration": 11,
    "start_time": "2022-12-14T06:05:35.401Z"
   },
   {
    "duration": 111,
    "start_time": "2022-12-14T06:05:35.849Z"
   },
   {
    "duration": 21,
    "start_time": "2022-12-14T06:05:36.065Z"
   },
   {
    "duration": 9,
    "start_time": "2022-12-14T06:05:36.514Z"
   },
   {
    "duration": 8,
    "start_time": "2022-12-14T06:05:36.722Z"
   },
   {
    "duration": 11,
    "start_time": "2022-12-14T06:05:36.946Z"
   },
   {
    "duration": 15,
    "start_time": "2022-12-14T06:05:37.378Z"
   },
   {
    "duration": 8,
    "start_time": "2022-12-14T06:05:37.601Z"
   },
   {
    "duration": 10,
    "start_time": "2022-12-14T06:05:37.825Z"
   },
   {
    "duration": 16,
    "start_time": "2022-12-14T06:05:38.055Z"
   },
   {
    "duration": 5,
    "start_time": "2022-12-14T06:05:39.024Z"
   },
   {
    "duration": 11,
    "start_time": "2022-12-14T06:05:39.359Z"
   },
   {
    "duration": 2,
    "start_time": "2022-12-14T06:05:39.663Z"
   },
   {
    "duration": 125,
    "start_time": "2022-12-14T06:05:40.008Z"
   },
   {
    "duration": 131,
    "start_time": "2022-12-14T06:05:40.335Z"
   },
   {
    "duration": 126,
    "start_time": "2022-12-14T06:05:40.631Z"
   },
   {
    "duration": 10,
    "start_time": "2022-12-14T06:05:41.287Z"
   },
   {
    "duration": 5,
    "start_time": "2022-12-14T06:05:41.687Z"
   },
   {
    "duration": 315,
    "start_time": "2022-12-14T06:05:42.087Z"
   },
   {
    "duration": 14,
    "start_time": "2022-12-14T06:05:42.711Z"
   },
   {
    "duration": 6,
    "start_time": "2022-12-14T06:05:43.039Z"
   },
   {
    "duration": 8,
    "start_time": "2022-12-14T06:05:43.928Z"
   },
   {
    "duration": 359,
    "start_time": "2022-12-14T06:05:44.181Z"
   },
   {
    "duration": 12,
    "start_time": "2022-12-14T06:05:45.117Z"
   },
   {
    "duration": 6,
    "start_time": "2022-12-14T06:05:45.485Z"
   },
   {
    "duration": 709,
    "start_time": "2022-12-14T06:05:47.981Z"
   },
   {
    "duration": 16,
    "start_time": "2022-12-14T06:05:48.820Z"
   },
   {
    "duration": 11,
    "start_time": "2022-12-14T06:06:15.705Z"
   },
   {
    "duration": 774,
    "start_time": "2022-12-14T06:06:17.209Z"
   },
   {
    "duration": 16,
    "start_time": "2022-12-14T06:06:40.800Z"
   },
   {
    "duration": 7,
    "start_time": "2022-12-14T06:06:51.526Z"
   },
   {
    "duration": 14,
    "start_time": "2022-12-14T06:07:03.455Z"
   },
   {
    "duration": 4,
    "start_time": "2022-12-14T06:07:26.262Z"
   },
   {
    "duration": 633,
    "start_time": "2022-12-14T06:07:26.629Z"
   },
   {
    "duration": 17,
    "start_time": "2022-12-14T06:07:27.264Z"
   },
   {
    "duration": 22,
    "start_time": "2022-12-14T06:07:27.282Z"
   },
   {
    "duration": 15,
    "start_time": "2022-12-14T06:07:27.306Z"
   },
   {
    "duration": 6,
    "start_time": "2022-12-14T06:07:27.421Z"
   },
   {
    "duration": 4,
    "start_time": "2022-12-14T06:07:27.622Z"
   },
   {
    "duration": 6,
    "start_time": "2022-12-14T06:07:28.037Z"
   },
   {
    "duration": 6,
    "start_time": "2022-12-14T06:07:28.437Z"
   },
   {
    "duration": 14,
    "start_time": "2022-12-14T06:07:28.676Z"
   },
   {
    "duration": 108,
    "start_time": "2022-12-14T06:07:29.731Z"
   },
   {
    "duration": 20,
    "start_time": "2022-12-14T06:07:30.179Z"
   },
   {
    "duration": 8,
    "start_time": "2022-12-14T06:07:30.635Z"
   },
   {
    "duration": 7,
    "start_time": "2022-12-14T06:07:30.835Z"
   },
   {
    "duration": 13,
    "start_time": "2022-12-14T06:07:31.043Z"
   },
   {
    "duration": 18,
    "start_time": "2022-12-14T06:07:31.460Z"
   },
   {
    "duration": 8,
    "start_time": "2022-12-14T06:07:31.675Z"
   },
   {
    "duration": 11,
    "start_time": "2022-12-14T06:07:31.891Z"
   },
   {
    "duration": 21,
    "start_time": "2022-12-14T06:07:32.107Z"
   },
   {
    "duration": 7,
    "start_time": "2022-12-14T06:07:32.812Z"
   },
   {
    "duration": 10,
    "start_time": "2022-12-14T06:07:33.275Z"
   },
   {
    "duration": 3,
    "start_time": "2022-12-14T06:07:33.499Z"
   },
   {
    "duration": 125,
    "start_time": "2022-12-14T06:07:33.715Z"
   },
   {
    "duration": 134,
    "start_time": "2022-12-14T06:07:33.995Z"
   },
   {
    "duration": 216,
    "start_time": "2022-12-14T06:07:34.354Z"
   },
   {
    "duration": 8,
    "start_time": "2022-12-14T06:07:34.969Z"
   },
   {
    "duration": 5,
    "start_time": "2022-12-14T06:07:35.376Z"
   },
   {
    "duration": 284,
    "start_time": "2022-12-14T06:07:35.896Z"
   },
   {
    "duration": 20,
    "start_time": "2022-12-14T06:07:37.177Z"
   },
   {
    "duration": 7,
    "start_time": "2022-12-14T06:07:37.785Z"
   },
   {
    "duration": 11,
    "start_time": "2022-12-14T06:07:39.497Z"
   },
   {
    "duration": 334,
    "start_time": "2022-12-14T06:07:39.913Z"
   },
   {
    "duration": 11,
    "start_time": "2022-12-14T06:07:40.934Z"
   },
   {
    "duration": 5,
    "start_time": "2022-12-14T06:07:41.415Z"
   },
   {
    "duration": 7,
    "start_time": "2022-12-14T06:07:45.486Z"
   },
   {
    "duration": 21,
    "start_time": "2022-12-14T06:07:46.590Z"
   },
   {
    "duration": 6,
    "start_time": "2022-12-14T06:07:47.372Z"
   },
   {
    "duration": 12,
    "start_time": "2022-12-14T06:07:50.516Z"
   },
   {
    "duration": 9,
    "start_time": "2022-12-14T06:22:48.238Z"
   },
   {
    "duration": 44,
    "start_time": "2022-12-14T06:24:04.295Z"
   },
   {
    "duration": 15,
    "start_time": "2022-12-14T06:24:14.860Z"
   },
   {
    "duration": 1113,
    "start_time": "2022-12-14T06:24:38.018Z"
   },
   {
    "duration": 10,
    "start_time": "2022-12-14T06:51:00.180Z"
   },
   {
    "duration": 3,
    "start_time": "2022-12-14T06:51:32.487Z"
   },
   {
    "duration": 1023,
    "start_time": "2022-12-14T06:51:41.772Z"
   },
   {
    "duration": 4,
    "start_time": "2022-12-14T06:56:54.823Z"
   },
   {
    "duration": 15,
    "start_time": "2022-12-14T06:59:58.960Z"
   },
   {
    "duration": 36,
    "start_time": "2022-12-14T07:00:14.609Z"
   },
   {
    "duration": 8,
    "start_time": "2022-12-14T07:00:20.700Z"
   },
   {
    "duration": 34,
    "start_time": "2022-12-14T07:00:24.981Z"
   },
   {
    "duration": 12,
    "start_time": "2022-12-14T07:01:25.588Z"
   },
   {
    "duration": 12,
    "start_time": "2022-12-14T07:01:45.153Z"
   },
   {
    "duration": 38,
    "start_time": "2022-12-14T07:01:47.498Z"
   },
   {
    "duration": 12,
    "start_time": "2022-12-14T07:02:00.957Z"
   },
   {
    "duration": 6,
    "start_time": "2022-12-14T07:02:06.506Z"
   },
   {
    "duration": 24,
    "start_time": "2022-12-14T07:02:12.488Z"
   },
   {
    "duration": 5140,
    "start_time": "2022-12-14T07:02:18.741Z"
   },
   {
    "duration": 6,
    "start_time": "2022-12-14T07:02:43.180Z"
   },
   {
    "duration": 5166,
    "start_time": "2022-12-14T07:06:27.483Z"
   },
   {
    "duration": 4,
    "start_time": "2022-12-14T07:06:53.167Z"
   },
   {
    "duration": 10,
    "start_time": "2022-12-14T07:07:13.015Z"
   },
   {
    "duration": 5070,
    "start_time": "2022-12-14T07:07:39.429Z"
   },
   {
    "duration": 9,
    "start_time": "2022-12-14T07:11:42.244Z"
   },
   {
    "duration": 5124,
    "start_time": "2022-12-14T07:11:46.491Z"
   },
   {
    "duration": 5073,
    "start_time": "2022-12-14T07:13:09.370Z"
   },
   {
    "duration": 5106,
    "start_time": "2022-12-14T07:13:40.765Z"
   },
   {
    "duration": 21232,
    "start_time": "2022-12-14T07:13:55.032Z"
   },
   {
    "duration": 12,
    "start_time": "2022-12-14T15:47:01.452Z"
   },
   {
    "duration": 10,
    "start_time": "2022-12-14T15:47:13.641Z"
   },
   {
    "duration": 13,
    "start_time": "2022-12-14T15:47:40.783Z"
   },
   {
    "duration": 41,
    "start_time": "2022-12-14T15:56:35.521Z"
   },
   {
    "duration": 3,
    "start_time": "2022-12-14T15:58:01.368Z"
   },
   {
    "duration": 4,
    "start_time": "2022-12-14T15:58:38.832Z"
   },
   {
    "duration": 557,
    "start_time": "2022-12-14T15:58:40.688Z"
   },
   {
    "duration": 50,
    "start_time": "2022-12-14T15:59:34.058Z"
   },
   {
    "duration": 559,
    "start_time": "2022-12-14T15:59:52.204Z"
   },
   {
    "duration": 5043,
    "start_time": "2022-12-14T16:00:19.001Z"
   },
   {
    "duration": 5201,
    "start_time": "2022-12-14T17:17:21.355Z"
   },
   {
    "duration": 5234,
    "start_time": "2022-12-14T17:19:40.176Z"
   },
   {
    "duration": 602,
    "start_time": "2022-12-14T17:19:55.045Z"
   },
   {
    "duration": 7,
    "start_time": "2022-12-14T17:20:28.096Z"
   },
   {
    "duration": 584,
    "start_time": "2022-12-14T17:20:31.383Z"
   },
   {
    "duration": 560,
    "start_time": "2022-12-14T17:21:09.427Z"
   },
   {
    "duration": 9,
    "start_time": "2022-12-14T17:21:17.174Z"
   },
   {
    "duration": 3,
    "start_time": "2022-12-14T17:23:26.690Z"
   },
   {
    "duration": 12,
    "start_time": "2022-12-14T17:23:30.687Z"
   },
   {
    "duration": 3,
    "start_time": "2022-12-14T17:30:20.550Z"
   },
   {
    "duration": 14,
    "start_time": "2022-12-14T17:30:24.411Z"
   },
   {
    "duration": 3,
    "start_time": "2022-12-14T17:30:53.823Z"
   },
   {
    "duration": 7,
    "start_time": "2022-12-14T17:30:57.006Z"
   },
   {
    "duration": 5078,
    "start_time": "2022-12-14T17:31:24.587Z"
   },
   {
    "duration": 5096,
    "start_time": "2022-12-14T17:33:52.056Z"
   },
   {
    "duration": 21226,
    "start_time": "2022-12-14T17:34:11.936Z"
   },
   {
    "duration": 18044,
    "start_time": "2022-12-14T17:34:49.994Z"
   },
   {
    "duration": 1967,
    "start_time": "2022-12-14T17:35:17.182Z"
   },
   {
    "duration": 2390,
    "start_time": "2022-12-14T17:35:37.222Z"
   },
   {
    "duration": 4,
    "start_time": "2022-12-14T17:36:23.891Z"
   },
   {
    "duration": 8,
    "start_time": "2022-12-14T17:36:27.642Z"
   },
   {
    "duration": 45,
    "start_time": "2022-12-14T17:38:14.208Z"
   },
   {
    "duration": 45,
    "start_time": "2022-12-14T17:38:22.724Z"
   },
   {
    "duration": 4,
    "start_time": "2022-12-14T17:39:59.980Z"
   },
   {
    "duration": 2438,
    "start_time": "2022-12-14T17:40:04.164Z"
   },
   {
    "duration": 76414,
    "start_time": "2022-12-14T17:40:14.113Z"
   },
   {
    "duration": 51,
    "start_time": "2022-12-14T17:43:49.946Z"
   },
   {
    "duration": 3,
    "start_time": "2022-12-14T17:48:32.736Z"
   },
   {
    "duration": 559,
    "start_time": "2022-12-14T17:48:37.294Z"
   },
   {
    "duration": 3,
    "start_time": "2022-12-14T17:49:39.518Z"
   },
   {
    "duration": 554,
    "start_time": "2022-12-14T17:49:41.589Z"
   },
   {
    "duration": 3,
    "start_time": "2022-12-14T17:49:53.801Z"
   },
   {
    "duration": 0,
    "start_time": "2022-12-14T17:50:41.828Z"
   },
   {
    "duration": 0,
    "start_time": "2022-12-14T17:50:41.829Z"
   },
   {
    "duration": 7588,
    "start_time": "2022-12-14T17:50:45.005Z"
   },
   {
    "duration": 3,
    "start_time": "2022-12-14T17:51:02.557Z"
   },
   {
    "duration": 2382,
    "start_time": "2022-12-14T17:51:07.427Z"
   },
   {
    "duration": 6,
    "start_time": "2022-12-14T17:51:23.692Z"
   },
   {
    "duration": 46,
    "start_time": "2022-12-14T17:58:53.753Z"
   },
   {
    "duration": 4,
    "start_time": "2022-12-14T17:59:04.116Z"
   },
   {
    "duration": 3,
    "start_time": "2022-12-14T17:59:48.571Z"
   },
   {
    "duration": 2409,
    "start_time": "2022-12-14T17:59:50.258Z"
   },
   {
    "duration": 3,
    "start_time": "2022-12-14T18:00:27.804Z"
   },
   {
    "duration": 2410,
    "start_time": "2022-12-14T18:00:28.691Z"
   },
   {
    "duration": 3,
    "start_time": "2022-12-14T18:00:54.274Z"
   },
   {
    "duration": 2425,
    "start_time": "2022-12-14T18:00:55.144Z"
   },
   {
    "duration": 3,
    "start_time": "2022-12-14T18:01:10.859Z"
   },
   {
    "duration": 2411,
    "start_time": "2022-12-14T18:01:11.650Z"
   },
   {
    "duration": 76714,
    "start_time": "2022-12-14T18:01:26.067Z"
   },
   {
    "duration": 9,
    "start_time": "2022-12-14T18:09:31.730Z"
   },
   {
    "duration": 8,
    "start_time": "2022-12-14T18:09:37.721Z"
   },
   {
    "duration": 8,
    "start_time": "2022-12-14T18:09:41.326Z"
   },
   {
    "duration": 51,
    "start_time": "2022-12-14T18:14:21.759Z"
   },
   {
    "duration": 15,
    "start_time": "2022-12-14T18:15:19.844Z"
   },
   {
    "duration": 4,
    "start_time": "2022-12-14T18:15:26.861Z"
   },
   {
    "duration": 5,
    "start_time": "2022-12-14T18:15:29.161Z"
   },
   {
    "duration": 26,
    "start_time": "2022-12-14T18:15:34.576Z"
   },
   {
    "duration": 9,
    "start_time": "2022-12-14T18:15:41.901Z"
   },
   {
    "duration": 5,
    "start_time": "2022-12-14T18:16:33.643Z"
   },
   {
    "duration": 32,
    "start_time": "2022-12-14T18:16:34.898Z"
   },
   {
    "duration": 6,
    "start_time": "2022-12-14T18:17:55.958Z"
   },
   {
    "duration": 12,
    "start_time": "2022-12-14T18:18:06.285Z"
   },
   {
    "duration": 7,
    "start_time": "2022-12-14T18:18:44.836Z"
   },
   {
    "duration": 29,
    "start_time": "2022-12-14T18:18:45.764Z"
   },
   {
    "duration": 6,
    "start_time": "2022-12-14T18:19:02.200Z"
   },
   {
    "duration": 7,
    "start_time": "2022-12-14T18:19:03.749Z"
   },
   {
    "duration": 13,
    "start_time": "2022-12-14T18:19:04.893Z"
   },
   {
    "duration": 12,
    "start_time": "2022-12-14T18:19:05.676Z"
   },
   {
    "duration": 13,
    "start_time": "2022-12-14T18:19:46.565Z"
   },
   {
    "duration": 28,
    "start_time": "2022-12-14T18:19:52.019Z"
   },
   {
    "duration": 16,
    "start_time": "2022-12-14T18:20:39.649Z"
   },
   {
    "duration": 6,
    "start_time": "2022-12-14T18:20:47.971Z"
   },
   {
    "duration": 685,
    "start_time": "2022-12-14T18:20:48.395Z"
   },
   {
    "duration": 14,
    "start_time": "2022-12-14T18:20:49.083Z"
   },
   {
    "duration": 31,
    "start_time": "2022-12-14T18:20:49.099Z"
   },
   {
    "duration": 4,
    "start_time": "2022-12-14T18:20:49.132Z"
   },
   {
    "duration": 10,
    "start_time": "2022-12-14T18:20:49.234Z"
   },
   {
    "duration": 4,
    "start_time": "2022-12-14T18:20:49.474Z"
   },
   {
    "duration": 6,
    "start_time": "2022-12-14T18:20:49.948Z"
   },
   {
    "duration": 5,
    "start_time": "2022-12-14T18:20:50.363Z"
   },
   {
    "duration": 12,
    "start_time": "2022-12-14T18:20:50.595Z"
   },
   {
    "duration": 111,
    "start_time": "2022-12-14T18:20:51.034Z"
   },
   {
    "duration": 21,
    "start_time": "2022-12-14T18:20:51.266Z"
   },
   {
    "duration": 9,
    "start_time": "2022-12-14T18:20:51.692Z"
   },
   {
    "duration": 7,
    "start_time": "2022-12-14T18:20:51.923Z"
   },
   {
    "duration": 9,
    "start_time": "2022-12-14T18:20:52.146Z"
   },
   {
    "duration": 13,
    "start_time": "2022-12-14T18:20:52.619Z"
   },
   {
    "duration": 8,
    "start_time": "2022-12-14T18:20:52.859Z"
   },
   {
    "duration": 11,
    "start_time": "2022-12-14T18:20:53.091Z"
   },
   {
    "duration": 22,
    "start_time": "2022-12-14T18:20:53.302Z"
   },
   {
    "duration": 6,
    "start_time": "2022-12-14T18:20:54.208Z"
   },
   {
    "duration": 11,
    "start_time": "2022-12-14T18:20:54.601Z"
   },
   {
    "duration": 3,
    "start_time": "2022-12-14T18:20:55.016Z"
   },
   {
    "duration": 179,
    "start_time": "2022-12-14T18:20:55.521Z"
   },
   {
    "duration": 140,
    "start_time": "2022-12-14T18:20:55.872Z"
   },
   {
    "duration": 115,
    "start_time": "2022-12-14T18:20:56.176Z"
   },
   {
    "duration": 8,
    "start_time": "2022-12-14T18:20:57.576Z"
   },
   {
    "duration": 4,
    "start_time": "2022-12-14T18:20:58.312Z"
   },
   {
    "duration": 313,
    "start_time": "2022-12-14T18:20:58.912Z"
   },
   {
    "duration": 18,
    "start_time": "2022-12-14T18:21:00.598Z"
   },
   {
    "duration": 7,
    "start_time": "2022-12-14T18:21:01.158Z"
   },
   {
    "duration": 8,
    "start_time": "2022-12-14T18:21:02.486Z"
   },
   {
    "duration": 364,
    "start_time": "2022-12-14T18:21:02.790Z"
   },
   {
    "duration": 15,
    "start_time": "2022-12-14T18:21:03.846Z"
   },
   {
    "duration": 6,
    "start_time": "2022-12-14T18:21:06.428Z"
   },
   {
    "duration": 16,
    "start_time": "2022-12-14T18:21:08.132Z"
   },
   {
    "duration": 4,
    "start_time": "2022-12-14T18:21:29.164Z"
   },
   {
    "duration": 636,
    "start_time": "2022-12-14T18:21:29.588Z"
   },
   {
    "duration": 15,
    "start_time": "2022-12-14T18:21:30.226Z"
   },
   {
    "duration": 28,
    "start_time": "2022-12-14T18:21:30.243Z"
   },
   {
    "duration": 3,
    "start_time": "2022-12-14T18:21:30.273Z"
   },
   {
    "duration": 8,
    "start_time": "2022-12-14T18:21:30.475Z"
   },
   {
    "duration": 4,
    "start_time": "2022-12-14T18:21:30.692Z"
   },
   {
    "duration": 5,
    "start_time": "2022-12-14T18:21:31.138Z"
   },
   {
    "duration": 6,
    "start_time": "2022-12-14T18:21:31.538Z"
   },
   {
    "duration": 12,
    "start_time": "2022-12-14T18:21:31.745Z"
   },
   {
    "duration": 114,
    "start_time": "2022-12-14T18:21:32.186Z"
   },
   {
    "duration": 21,
    "start_time": "2022-12-14T18:21:32.409Z"
   },
   {
    "duration": 11,
    "start_time": "2022-12-14T18:21:32.865Z"
   },
   {
    "duration": 9,
    "start_time": "2022-12-14T18:21:33.089Z"
   },
   {
    "duration": 12,
    "start_time": "2022-12-14T18:21:33.305Z"
   },
   {
    "duration": 18,
    "start_time": "2022-12-14T18:21:33.746Z"
   },
   {
    "duration": 9,
    "start_time": "2022-12-14T18:21:33.969Z"
   },
   {
    "duration": 10,
    "start_time": "2022-12-14T18:21:34.201Z"
   },
   {
    "duration": 16,
    "start_time": "2022-12-14T18:21:34.425Z"
   },
   {
    "duration": 6,
    "start_time": "2022-12-14T18:21:35.097Z"
   },
   {
    "duration": 14,
    "start_time": "2022-12-14T18:21:35.323Z"
   },
   {
    "duration": 2,
    "start_time": "2022-12-14T18:21:35.554Z"
   },
   {
    "duration": 123,
    "start_time": "2022-12-14T18:21:35.761Z"
   },
   {
    "duration": 134,
    "start_time": "2022-12-14T18:21:36.042Z"
   },
   {
    "duration": 119,
    "start_time": "2022-12-14T18:21:36.264Z"
   },
   {
    "duration": 8,
    "start_time": "2022-12-14T18:21:36.881Z"
   },
   {
    "duration": 5,
    "start_time": "2022-12-14T18:21:37.198Z"
   },
   {
    "duration": 299,
    "start_time": "2022-12-14T18:21:37.567Z"
   },
   {
    "duration": 14,
    "start_time": "2022-12-14T18:21:38.159Z"
   },
   {
    "duration": 6,
    "start_time": "2022-12-14T18:21:38.383Z"
   },
   {
    "duration": 9,
    "start_time": "2022-12-14T18:21:39.031Z"
   },
   {
    "duration": 336,
    "start_time": "2022-12-14T18:21:39.287Z"
   },
   {
    "duration": 14,
    "start_time": "2022-12-14T18:21:39.767Z"
   },
   {
    "duration": 3,
    "start_time": "2022-12-14T18:21:42.486Z"
   },
   {
    "duration": 10,
    "start_time": "2022-12-14T18:21:43.869Z"
   },
   {
    "duration": 6,
    "start_time": "2022-12-14T18:22:08.539Z"
   },
   {
    "duration": 28,
    "start_time": "2022-12-14T18:22:09.444Z"
   },
   {
    "duration": 674,
    "start_time": "2022-12-14T18:22:38.610Z"
   },
   {
    "duration": 6,
    "start_time": "2022-12-14T18:23:23.846Z"
   },
   {
    "duration": 12,
    "start_time": "2022-12-14T18:23:27.399Z"
   },
   {
    "duration": 19,
    "start_time": "2022-12-14T18:24:33.707Z"
   },
   {
    "duration": 14,
    "start_time": "2022-12-14T18:24:41.176Z"
   },
   {
    "duration": 13,
    "start_time": "2022-12-14T18:24:59.169Z"
   },
   {
    "duration": 17,
    "start_time": "2022-12-14T18:25:09.172Z"
   },
   {
    "duration": 13,
    "start_time": "2022-12-14T18:25:17.778Z"
   },
   {
    "duration": 684,
    "start_time": "2022-12-14T18:25:35.611Z"
   },
   {
    "duration": 649,
    "start_time": "2022-12-14T18:25:46.046Z"
   },
   {
    "duration": 3,
    "start_time": "2022-12-14T18:27:11.132Z"
   },
   {
    "duration": 725,
    "start_time": "2022-12-14T18:27:14.626Z"
   },
   {
    "duration": 5,
    "start_time": "2022-12-14T18:27:37.505Z"
   },
   {
    "duration": 16,
    "start_time": "2022-12-14T18:28:15.064Z"
   },
   {
    "duration": 4,
    "start_time": "2022-12-14T18:28:21.808Z"
   },
   {
    "duration": 672,
    "start_time": "2022-12-14T18:28:22.192Z"
   },
   {
    "duration": 163,
    "start_time": "2022-12-14T18:28:22.866Z"
   },
   {
    "duration": 14,
    "start_time": "2022-12-14T18:28:23.031Z"
   },
   {
    "duration": 3,
    "start_time": "2022-12-14T18:28:23.047Z"
   },
   {
    "duration": 9,
    "start_time": "2022-12-14T18:28:23.051Z"
   },
   {
    "duration": 4,
    "start_time": "2022-12-14T18:28:23.245Z"
   },
   {
    "duration": 5,
    "start_time": "2022-12-14T18:28:23.693Z"
   },
   {
    "duration": 5,
    "start_time": "2022-12-14T18:28:24.126Z"
   },
   {
    "duration": 11,
    "start_time": "2022-12-14T18:28:24.341Z"
   },
   {
    "duration": 111,
    "start_time": "2022-12-14T18:28:24.789Z"
   },
   {
    "duration": 20,
    "start_time": "2022-12-14T18:28:25.021Z"
   },
   {
    "duration": 9,
    "start_time": "2022-12-14T18:28:25.477Z"
   },
   {
    "duration": 8,
    "start_time": "2022-12-14T18:28:25.717Z"
   },
   {
    "duration": 12,
    "start_time": "2022-12-14T18:28:25.925Z"
   },
   {
    "duration": 13,
    "start_time": "2022-12-14T18:28:26.398Z"
   },
   {
    "duration": 6,
    "start_time": "2022-12-14T18:28:26.637Z"
   },
   {
    "duration": 8,
    "start_time": "2022-12-14T18:28:26.861Z"
   },
   {
    "duration": 16,
    "start_time": "2022-12-14T18:28:27.109Z"
   },
   {
    "duration": 5,
    "start_time": "2022-12-14T18:28:28.333Z"
   },
   {
    "duration": 10,
    "start_time": "2022-12-14T18:28:28.620Z"
   },
   {
    "duration": 3,
    "start_time": "2022-12-14T18:28:28.932Z"
   },
   {
    "duration": 119,
    "start_time": "2022-12-14T18:28:29.339Z"
   },
   {
    "duration": 133,
    "start_time": "2022-12-14T18:28:29.635Z"
   },
   {
    "duration": 125,
    "start_time": "2022-12-14T18:28:29.898Z"
   },
   {
    "duration": 9,
    "start_time": "2022-12-14T18:28:30.635Z"
   },
   {
    "duration": 5,
    "start_time": "2022-12-14T18:28:30.962Z"
   },
   {
    "duration": 289,
    "start_time": "2022-12-14T18:28:31.235Z"
   },
   {
    "duration": 17,
    "start_time": "2022-12-14T18:28:32.323Z"
   },
   {
    "duration": 7,
    "start_time": "2022-12-14T18:28:32.602Z"
   },
   {
    "duration": 10,
    "start_time": "2022-12-14T18:28:33.618Z"
   },
   {
    "duration": 326,
    "start_time": "2022-12-14T18:28:33.867Z"
   },
   {
    "duration": 14,
    "start_time": "2022-12-14T18:28:34.516Z"
   },
   {
    "duration": 8,
    "start_time": "2022-12-14T18:28:39.945Z"
   },
   {
    "duration": 14,
    "start_time": "2022-12-14T18:28:43.775Z"
   },
   {
    "duration": 5,
    "start_time": "2022-12-14T18:28:45.605Z"
   },
   {
    "duration": 25,
    "start_time": "2022-12-14T18:28:47.964Z"
   },
   {
    "duration": 6,
    "start_time": "2022-12-14T18:28:51.052Z"
   },
   {
    "duration": 7,
    "start_time": "2022-12-14T18:28:54.929Z"
   },
   {
    "duration": 76113,
    "start_time": "2022-12-14T18:28:57.953Z"
   },
   {
    "duration": 171782,
    "start_time": "2022-12-14T18:33:26.077Z"
   },
   {
    "duration": 4752,
    "start_time": "2022-12-14T18:36:20.973Z"
   },
   {
    "duration": 21175,
    "start_time": "2022-12-14T18:37:04.336Z"
   },
   {
    "duration": 13,
    "start_time": "2022-12-14T18:37:28.375Z"
   },
   {
    "duration": 5,
    "start_time": "2022-12-14T18:37:46.583Z"
   },
   {
    "duration": 21192,
    "start_time": "2022-12-14T18:37:47.029Z"
   },
   {
    "duration": 9,
    "start_time": "2022-12-14T18:41:25.870Z"
   },
   {
    "duration": 4,
    "start_time": "2022-12-14T18:41:50.998Z"
   },
   {
    "duration": 9,
    "start_time": "2022-12-14T18:42:02.744Z"
   },
   {
    "duration": 1804,
    "start_time": "2022-12-14T18:44:32.621Z"
   },
   {
    "duration": 142262,
    "start_time": "2022-12-14T18:45:55.290Z"
   },
   {
    "duration": 119584,
    "start_time": "2022-12-14T18:48:37.859Z"
   },
   {
    "duration": 97962,
    "start_time": "2022-12-14T18:51:43.002Z"
   },
   {
    "duration": 72452,
    "start_time": "2022-12-14T18:53:35.637Z"
   },
   {
    "duration": 24199,
    "start_time": "2022-12-14T18:58:02.760Z"
   },
   {
    "duration": 1471,
    "start_time": "2022-12-15T05:17:39.598Z"
   },
   {
    "duration": 2520,
    "start_time": "2022-12-15T05:17:41.072Z"
   },
   {
    "duration": 14,
    "start_time": "2022-12-15T05:17:43.593Z"
   },
   {
    "duration": 14,
    "start_time": "2022-12-15T05:17:43.609Z"
   },
   {
    "duration": 2,
    "start_time": "2022-12-15T05:17:43.625Z"
   },
   {
    "duration": 12,
    "start_time": "2022-12-15T05:17:43.628Z"
   },
   {
    "duration": 4,
    "start_time": "2022-12-15T05:17:43.641Z"
   },
   {
    "duration": 7,
    "start_time": "2022-12-15T05:17:43.646Z"
   },
   {
    "duration": 5,
    "start_time": "2022-12-15T05:17:44.393Z"
   },
   {
    "duration": 11,
    "start_time": "2022-12-15T05:17:44.881Z"
   },
   {
    "duration": 126,
    "start_time": "2022-12-15T05:17:48.049Z"
   },
   {
    "duration": 26,
    "start_time": "2022-12-15T05:17:48.575Z"
   },
   {
    "duration": 12,
    "start_time": "2022-12-15T05:17:49.704Z"
   },
   {
    "duration": 7,
    "start_time": "2022-12-15T05:17:50.359Z"
   },
   {
    "duration": 10,
    "start_time": "2022-12-15T05:17:50.967Z"
   },
   {
    "duration": 18,
    "start_time": "2022-12-15T05:17:52.852Z"
   },
   {
    "duration": 6,
    "start_time": "2022-12-15T05:17:54.460Z"
   },
   {
    "duration": 8,
    "start_time": "2022-12-15T05:17:55.012Z"
   },
   {
    "duration": 16,
    "start_time": "2022-12-15T05:17:56.044Z"
   },
   {
    "duration": 5,
    "start_time": "2022-12-15T05:18:01.995Z"
   },
   {
    "duration": 11,
    "start_time": "2022-12-15T05:18:02.500Z"
   },
   {
    "duration": 2,
    "start_time": "2022-12-15T05:18:02.906Z"
   },
   {
    "duration": 130,
    "start_time": "2022-12-15T05:18:03.657Z"
   },
   {
    "duration": 125,
    "start_time": "2022-12-15T05:18:04.137Z"
   },
   {
    "duration": 112,
    "start_time": "2022-12-15T05:18:04.984Z"
   },
   {
    "duration": 10,
    "start_time": "2022-12-15T05:18:15.814Z"
   },
   {
    "duration": 5,
    "start_time": "2022-12-15T05:19:09.750Z"
   },
   {
    "duration": 346,
    "start_time": "2022-12-15T05:19:10.583Z"
   },
   {
    "duration": 15,
    "start_time": "2022-12-15T05:19:18.050Z"
   },
   {
    "duration": 8,
    "start_time": "2022-12-15T05:19:19.074Z"
   },
   {
    "duration": 9,
    "start_time": "2022-12-15T05:19:29.079Z"
   },
   {
    "duration": 320,
    "start_time": "2022-12-15T05:19:29.758Z"
   },
   {
    "duration": 14,
    "start_time": "2022-12-15T05:19:38.132Z"
   },
   {
    "duration": 4,
    "start_time": "2022-12-15T05:32:40.851Z"
   },
   {
    "duration": 634,
    "start_time": "2022-12-15T05:32:41.217Z"
   },
   {
    "duration": 11,
    "start_time": "2022-12-15T05:32:41.853Z"
   },
   {
    "duration": 16,
    "start_time": "2022-12-15T05:32:41.865Z"
   },
   {
    "duration": 3,
    "start_time": "2022-12-15T05:32:41.882Z"
   },
   {
    "duration": 6,
    "start_time": "2022-12-15T05:32:42.008Z"
   },
   {
    "duration": 4,
    "start_time": "2022-12-15T05:32:42.216Z"
   },
   {
    "duration": 4,
    "start_time": "2022-12-15T05:32:42.600Z"
   },
   {
    "duration": 7,
    "start_time": "2022-12-15T05:32:43.032Z"
   },
   {
    "duration": 11,
    "start_time": "2022-12-15T05:32:43.240Z"
   },
   {
    "duration": 110,
    "start_time": "2022-12-15T05:32:43.648Z"
   },
   {
    "duration": 19,
    "start_time": "2022-12-15T05:32:43.864Z"
   },
   {
    "duration": 8,
    "start_time": "2022-12-15T05:32:44.264Z"
   },
   {
    "duration": 7,
    "start_time": "2022-12-15T05:32:44.456Z"
   },
   {
    "duration": 9,
    "start_time": "2022-12-15T05:32:44.665Z"
   },
   {
    "duration": 12,
    "start_time": "2022-12-15T05:32:45.088Z"
   },
   {
    "duration": 8,
    "start_time": "2022-12-15T05:32:45.304Z"
   },
   {
    "duration": 8,
    "start_time": "2022-12-15T05:32:45.536Z"
   },
   {
    "duration": 15,
    "start_time": "2022-12-15T05:32:45.744Z"
   },
   {
    "duration": 5,
    "start_time": "2022-12-15T05:32:46.465Z"
   },
   {
    "duration": 11,
    "start_time": "2022-12-15T05:32:46.695Z"
   },
   {
    "duration": 2,
    "start_time": "2022-12-15T05:32:46.912Z"
   },
   {
    "duration": 126,
    "start_time": "2022-12-15T05:32:47.177Z"
   },
   {
    "duration": 125,
    "start_time": "2022-12-15T05:32:47.430Z"
   },
   {
    "duration": 126,
    "start_time": "2022-12-15T05:32:47.654Z"
   },
   {
    "duration": 9,
    "start_time": "2022-12-15T05:32:48.117Z"
   },
   {
    "duration": 5,
    "start_time": "2022-12-15T05:32:48.382Z"
   },
   {
    "duration": 299,
    "start_time": "2022-12-15T05:32:49.022Z"
   },
   {
    "duration": 15,
    "start_time": "2022-12-15T05:32:49.477Z"
   },
   {
    "duration": 5,
    "start_time": "2022-12-15T05:32:49.694Z"
   },
   {
    "duration": 8,
    "start_time": "2022-12-15T05:32:50.366Z"
   },
   {
    "duration": 343,
    "start_time": "2022-12-15T05:32:50.597Z"
   },
   {
    "duration": 14,
    "start_time": "2022-12-15T05:32:51.062Z"
   },
   {
    "duration": 27,
    "start_time": "2022-12-15T05:32:51.605Z"
   },
   {
    "duration": 8,
    "start_time": "2022-12-15T05:32:52.014Z"
   },
   {
    "duration": 10,
    "start_time": "2022-12-15T05:32:58.719Z"
   },
   {
    "duration": 30,
    "start_time": "2022-12-15T05:33:00.994Z"
   },
   {
    "duration": 7,
    "start_time": "2022-12-15T05:34:39.353Z"
   },
   {
    "duration": 27,
    "start_time": "2022-12-15T05:34:40.330Z"
   },
   {
    "duration": 11,
    "start_time": "2022-12-15T05:35:38.987Z"
   },
   {
    "duration": 13,
    "start_time": "2022-12-15T05:38:22.479Z"
   },
   {
    "duration": 4,
    "start_time": "2022-12-15T05:38:33.645Z"
   },
   {
    "duration": 632,
    "start_time": "2022-12-15T05:38:34.069Z"
   },
   {
    "duration": 18,
    "start_time": "2022-12-15T05:38:34.703Z"
   },
   {
    "duration": 27,
    "start_time": "2022-12-15T05:38:34.722Z"
   },
   {
    "duration": 6,
    "start_time": "2022-12-15T05:38:34.751Z"
   },
   {
    "duration": 6,
    "start_time": "2022-12-15T05:38:34.884Z"
   },
   {
    "duration": 4,
    "start_time": "2022-12-15T05:38:35.092Z"
   },
   {
    "duration": 5,
    "start_time": "2022-12-15T05:38:35.508Z"
   },
   {
    "duration": 5,
    "start_time": "2022-12-15T05:38:35.873Z"
   },
   {
    "duration": 10,
    "start_time": "2022-12-15T05:38:36.068Z"
   },
   {
    "duration": 116,
    "start_time": "2022-12-15T05:38:36.492Z"
   },
   {
    "duration": 21,
    "start_time": "2022-12-15T05:38:36.700Z"
   },
   {
    "duration": 9,
    "start_time": "2022-12-15T05:38:37.130Z"
   },
   {
    "duration": 7,
    "start_time": "2022-12-15T05:38:37.345Z"
   },
   {
    "duration": 10,
    "start_time": "2022-12-15T05:38:37.562Z"
   },
   {
    "duration": 14,
    "start_time": "2022-12-15T05:38:37.986Z"
   },
   {
    "duration": 7,
    "start_time": "2022-12-15T05:38:38.201Z"
   },
   {
    "duration": 10,
    "start_time": "2022-12-15T05:38:38.410Z"
   },
   {
    "duration": 16,
    "start_time": "2022-12-15T05:38:38.618Z"
   },
   {
    "duration": 5,
    "start_time": "2022-12-15T05:38:39.250Z"
   },
   {
    "duration": 10,
    "start_time": "2022-12-15T05:38:39.457Z"
   },
   {
    "duration": 2,
    "start_time": "2022-12-15T05:38:39.665Z"
   },
   {
    "duration": 126,
    "start_time": "2022-12-15T05:38:39.874Z"
   },
   {
    "duration": 210,
    "start_time": "2022-12-15T05:38:40.091Z"
   },
   {
    "duration": 148,
    "start_time": "2022-12-15T05:38:40.303Z"
   },
   {
    "duration": 9,
    "start_time": "2022-12-15T05:38:40.737Z"
   },
   {
    "duration": 4,
    "start_time": "2022-12-15T05:38:40.962Z"
   },
   {
    "duration": 275,
    "start_time": "2022-12-15T05:38:41.205Z"
   },
   {
    "duration": 15,
    "start_time": "2022-12-15T05:38:41.593Z"
   },
   {
    "duration": 6,
    "start_time": "2022-12-15T05:38:41.817Z"
   },
   {
    "duration": 9,
    "start_time": "2022-12-15T05:38:42.465Z"
   },
   {
    "duration": 334,
    "start_time": "2022-12-15T05:38:42.693Z"
   },
   {
    "duration": 18,
    "start_time": "2022-12-15T05:38:43.129Z"
   },
   {
    "duration": 8,
    "start_time": "2022-12-15T05:38:43.559Z"
   },
   {
    "duration": 8,
    "start_time": "2022-12-15T05:38:51.589Z"
   },
   {
    "duration": 4,
    "start_time": "2022-12-15T05:39:04.136Z"
   },
   {
    "duration": 111,
    "start_time": "2022-12-15T05:39:12.342Z"
   },
   {
    "duration": 12,
    "start_time": "2022-12-15T05:39:12.813Z"
   },
   {
    "duration": 4,
    "start_time": "2022-12-15T05:39:23.640Z"
   },
   {
    "duration": 680,
    "start_time": "2022-12-15T05:39:25.056Z"
   },
   {
    "duration": 13,
    "start_time": "2022-12-15T05:39:25.739Z"
   },
   {
    "duration": 18,
    "start_time": "2022-12-15T05:39:25.753Z"
   },
   {
    "duration": 3,
    "start_time": "2022-12-15T05:39:25.857Z"
   },
   {
    "duration": 8,
    "start_time": "2022-12-15T05:39:26.081Z"
   },
   {
    "duration": 4,
    "start_time": "2022-12-15T05:39:26.351Z"
   },
   {
    "duration": 5,
    "start_time": "2022-12-15T05:39:26.783Z"
   },
   {
    "duration": 5,
    "start_time": "2022-12-15T05:39:27.238Z"
   },
   {
    "duration": 10,
    "start_time": "2022-12-15T05:39:27.446Z"
   },
   {
    "duration": 109,
    "start_time": "2022-12-15T05:39:27.879Z"
   },
   {
    "duration": 19,
    "start_time": "2022-12-15T05:39:28.086Z"
   },
   {
    "duration": 9,
    "start_time": "2022-12-15T05:39:28.510Z"
   },
   {
    "duration": 6,
    "start_time": "2022-12-15T05:39:28.718Z"
   },
   {
    "duration": 9,
    "start_time": "2022-12-15T05:39:28.934Z"
   },
   {
    "duration": 12,
    "start_time": "2022-12-15T05:39:29.358Z"
   },
   {
    "duration": 6,
    "start_time": "2022-12-15T05:39:29.574Z"
   },
   {
    "duration": 8,
    "start_time": "2022-12-15T05:39:29.833Z"
   },
   {
    "duration": 15,
    "start_time": "2022-12-15T05:39:30.053Z"
   },
   {
    "duration": 6,
    "start_time": "2022-12-15T05:39:30.950Z"
   },
   {
    "duration": 11,
    "start_time": "2022-12-15T05:39:31.534Z"
   },
   {
    "duration": 2,
    "start_time": "2022-12-15T05:39:32.094Z"
   },
   {
    "duration": 126,
    "start_time": "2022-12-15T05:39:32.357Z"
   },
   {
    "duration": 128,
    "start_time": "2022-12-15T05:39:32.572Z"
   },
   {
    "duration": 130,
    "start_time": "2022-12-15T05:39:32.819Z"
   },
   {
    "duration": 8,
    "start_time": "2022-12-15T05:39:33.548Z"
   },
   {
    "duration": 4,
    "start_time": "2022-12-15T05:39:33.988Z"
   },
   {
    "duration": 288,
    "start_time": "2022-12-15T05:39:34.500Z"
   },
   {
    "duration": 14,
    "start_time": "2022-12-15T05:39:36.014Z"
   },
   {
    "duration": 6,
    "start_time": "2022-12-15T05:39:37.108Z"
   },
   {
    "duration": 8,
    "start_time": "2022-12-15T05:39:40.001Z"
   },
   {
    "duration": 456,
    "start_time": "2022-12-15T05:39:41.961Z"
   },
   {
    "duration": 13,
    "start_time": "2022-12-15T05:39:43.090Z"
   },
   {
    "duration": 8,
    "start_time": "2022-12-15T05:39:44.345Z"
   },
   {
    "duration": 9,
    "start_time": "2022-12-15T05:39:49.702Z"
   },
   {
    "duration": 12,
    "start_time": "2022-12-15T05:39:50.678Z"
   },
   {
    "duration": 5,
    "start_time": "2022-12-15T05:39:52.525Z"
   },
   {
    "duration": 12,
    "start_time": "2022-12-15T05:40:50.686Z"
   },
   {
    "duration": 17,
    "start_time": "2022-12-15T05:40:58.580Z"
   },
   {
    "duration": 9,
    "start_time": "2022-12-15T05:41:01.698Z"
   },
   {
    "duration": 4,
    "start_time": "2022-12-15T05:41:21.490Z"
   },
   {
    "duration": 618,
    "start_time": "2022-12-15T05:41:21.882Z"
   },
   {
    "duration": 12,
    "start_time": "2022-12-15T05:41:22.501Z"
   },
   {
    "duration": 14,
    "start_time": "2022-12-15T05:41:22.521Z"
   },
   {
    "duration": 3,
    "start_time": "2022-12-15T05:41:22.537Z"
   },
   {
    "duration": 6,
    "start_time": "2022-12-15T05:41:22.650Z"
   },
   {
    "duration": 6,
    "start_time": "2022-12-15T05:41:22.849Z"
   },
   {
    "duration": 6,
    "start_time": "2022-12-15T05:41:23.263Z"
   },
   {
    "duration": 5,
    "start_time": "2022-12-15T05:41:23.671Z"
   },
   {
    "duration": 11,
    "start_time": "2022-12-15T05:41:23.864Z"
   },
   {
    "duration": 109,
    "start_time": "2022-12-15T05:41:24.288Z"
   },
   {
    "duration": 20,
    "start_time": "2022-12-15T05:41:24.503Z"
   },
   {
    "duration": 9,
    "start_time": "2022-12-15T05:41:24.943Z"
   },
   {
    "duration": 8,
    "start_time": "2022-12-15T05:41:25.168Z"
   },
   {
    "duration": 10,
    "start_time": "2022-12-15T05:41:25.703Z"
   },
   {
    "duration": 13,
    "start_time": "2022-12-15T05:41:26.519Z"
   },
   {
    "duration": 7,
    "start_time": "2022-12-15T05:41:26.863Z"
   },
   {
    "duration": 10,
    "start_time": "2022-12-15T05:41:27.239Z"
   },
   {
    "duration": 16,
    "start_time": "2022-12-15T05:41:27.583Z"
   },
   {
    "duration": 6,
    "start_time": "2022-12-15T05:41:29.253Z"
   },
   {
    "duration": 10,
    "start_time": "2022-12-15T05:41:29.477Z"
   },
   {
    "duration": 2,
    "start_time": "2022-12-15T05:41:29.965Z"
   },
   {
    "duration": 128,
    "start_time": "2022-12-15T05:41:30.429Z"
   },
   {
    "duration": 128,
    "start_time": "2022-12-15T05:41:30.749Z"
   },
   {
    "duration": 115,
    "start_time": "2022-12-15T05:41:31.085Z"
   },
   {
    "duration": 8,
    "start_time": "2022-12-15T05:41:32.485Z"
   },
   {
    "duration": 7,
    "start_time": "2022-12-15T05:41:33.013Z"
   },
   {
    "duration": 280,
    "start_time": "2022-12-15T05:41:33.797Z"
   },
   {
    "duration": 14,
    "start_time": "2022-12-15T05:41:35.077Z"
   },
   {
    "duration": 6,
    "start_time": "2022-12-15T05:41:35.981Z"
   },
   {
    "duration": 8,
    "start_time": "2022-12-15T05:41:37.939Z"
   },
   {
    "duration": 317,
    "start_time": "2022-12-15T05:41:38.563Z"
   },
   {
    "duration": 14,
    "start_time": "2022-12-15T05:41:40.170Z"
   },
   {
    "duration": 8,
    "start_time": "2022-12-15T05:41:41.664Z"
   },
   {
    "duration": 9,
    "start_time": "2022-12-15T05:41:43.000Z"
   },
   {
    "duration": 13,
    "start_time": "2022-12-15T05:41:46.560Z"
   },
   {
    "duration": 4,
    "start_time": "2022-12-15T05:41:48.390Z"
   },
   {
    "duration": 6,
    "start_time": "2022-12-15T05:41:54.022Z"
   },
   {
    "duration": 7,
    "start_time": "2022-12-15T05:42:01.449Z"
   },
   {
    "duration": 3,
    "start_time": "2022-12-15T05:42:03.185Z"
   },
   {
    "duration": 20966,
    "start_time": "2022-12-15T05:42:04.177Z"
   },
   {
    "duration": 9,
    "start_time": "2022-12-15T05:54:23.001Z"
   },
   {
    "duration": 52800,
    "start_time": "2022-12-15T05:54:49.254Z"
   },
   {
    "duration": 23,
    "start_time": "2022-12-15T05:55:51.800Z"
   },
   {
    "duration": 51524,
    "start_time": "2022-12-15T06:11:17.349Z"
   },
   {
    "duration": 2419,
    "start_time": "2022-12-15T06:12:46.502Z"
   },
   {
    "duration": 3,
    "start_time": "2022-12-15T06:15:03.261Z"
   },
   {
    "duration": 6785,
    "start_time": "2022-12-15T06:18:30.760Z"
   },
   {
    "duration": 81152,
    "start_time": "2022-12-15T06:24:59.084Z"
   },
   {
    "duration": 123,
    "start_time": "2022-12-15T06:27:20.708Z"
   },
   {
    "duration": 55,
    "start_time": "2022-12-15T06:27:53.093Z"
   },
   {
    "duration": 12,
    "start_time": "2022-12-15T06:28:27.903Z"
   },
   {
    "duration": 7988,
    "start_time": "2022-12-15T06:28:45.690Z"
   },
   {
    "duration": 8460,
    "start_time": "2022-12-15T06:29:29.232Z"
   },
   {
    "duration": 8037,
    "start_time": "2022-12-15T06:31:01.390Z"
   },
   {
    "duration": 22,
    "start_time": "2022-12-15T06:31:15.629Z"
   },
   {
    "duration": 16,
    "start_time": "2022-12-15T06:31:21.379Z"
   },
   {
    "duration": 12,
    "start_time": "2022-12-15T06:31:32.965Z"
   },
   {
    "duration": 18,
    "start_time": "2022-12-15T06:33:16.531Z"
   },
   {
    "duration": 4,
    "start_time": "2022-12-15T09:01:22.120Z"
   },
   {
    "duration": 5,
    "start_time": "2022-12-15T09:02:42.829Z"
   },
   {
    "duration": 25,
    "start_time": "2022-12-15T09:02:44.983Z"
   },
   {
    "duration": 4,
    "start_time": "2022-12-15T09:02:57.211Z"
   },
   {
    "duration": 634,
    "start_time": "2022-12-15T09:02:57.602Z"
   },
   {
    "duration": 12,
    "start_time": "2022-12-15T09:02:58.238Z"
   },
   {
    "duration": 14,
    "start_time": "2022-12-15T09:02:58.252Z"
   },
   {
    "duration": 3,
    "start_time": "2022-12-15T09:02:58.268Z"
   },
   {
    "duration": 6,
    "start_time": "2022-12-15T09:02:58.426Z"
   },
   {
    "duration": 4,
    "start_time": "2022-12-15T09:02:58.618Z"
   },
   {
    "duration": 4,
    "start_time": "2022-12-15T09:02:59.050Z"
   },
   {
    "duration": 5,
    "start_time": "2022-12-15T09:02:59.450Z"
   },
   {
    "duration": 11,
    "start_time": "2022-12-15T09:02:59.664Z"
   },
   {
    "duration": 116,
    "start_time": "2022-12-15T09:03:00.081Z"
   },
   {
    "duration": 23,
    "start_time": "2022-12-15T09:03:00.304Z"
   },
   {
    "duration": 9,
    "start_time": "2022-12-15T09:03:00.728Z"
   },
   {
    "duration": 6,
    "start_time": "2022-12-15T09:03:00.976Z"
   },
   {
    "duration": 10,
    "start_time": "2022-12-15T09:03:01.144Z"
   },
   {
    "duration": 13,
    "start_time": "2022-12-15T09:03:01.575Z"
   },
   {
    "duration": 7,
    "start_time": "2022-12-15T09:03:01.775Z"
   },
   {
    "duration": 9,
    "start_time": "2022-12-15T09:03:01.991Z"
   },
   {
    "duration": 16,
    "start_time": "2022-12-15T09:03:02.200Z"
   },
   {
    "duration": 5,
    "start_time": "2022-12-15T09:03:03.144Z"
   },
   {
    "duration": 9,
    "start_time": "2022-12-15T09:03:03.432Z"
   },
   {
    "duration": 3,
    "start_time": "2022-12-15T09:03:03.703Z"
   },
   {
    "duration": 128,
    "start_time": "2022-12-15T09:03:04.008Z"
   },
   {
    "duration": 247,
    "start_time": "2022-12-15T09:03:04.263Z"
   },
   {
    "duration": 138,
    "start_time": "2022-12-15T09:03:04.511Z"
   },
   {
    "duration": 13,
    "start_time": "2022-12-15T09:03:05.242Z"
   },
   {
    "duration": 4,
    "start_time": "2022-12-15T09:03:05.647Z"
   },
   {
    "duration": 309,
    "start_time": "2022-12-15T09:03:05.885Z"
   },
   {
    "duration": 15,
    "start_time": "2022-12-15T09:03:06.317Z"
   },
   {
    "duration": 6,
    "start_time": "2022-12-15T09:03:06.525Z"
   },
   {
    "duration": 9,
    "start_time": "2022-12-15T09:03:07.237Z"
   },
   {
    "duration": 315,
    "start_time": "2022-12-15T09:03:07.494Z"
   },
   {
    "duration": 15,
    "start_time": "2022-12-15T09:03:08.693Z"
   },
   {
    "duration": 8,
    "start_time": "2022-12-15T09:03:11.197Z"
   },
   {
    "duration": 9,
    "start_time": "2022-12-15T09:03:12.571Z"
   },
   {
    "duration": 15,
    "start_time": "2022-12-15T09:03:13.762Z"
   },
   {
    "duration": 5,
    "start_time": "2022-12-15T09:03:21.904Z"
   },
   {
    "duration": 6,
    "start_time": "2022-12-15T09:03:26.086Z"
   },
   {
    "duration": 6,
    "start_time": "2022-12-15T09:03:27.094Z"
   },
   {
    "duration": 8,
    "start_time": "2022-12-15T09:03:28.559Z"
   },
   {
    "duration": 3,
    "start_time": "2022-12-15T09:03:29.398Z"
   },
   {
    "duration": 8079,
    "start_time": "2022-12-15T09:03:50.213Z"
   },
   {
    "duration": 14,
    "start_time": "2022-12-15T09:04:09.525Z"
   },
   {
    "duration": 12,
    "start_time": "2022-12-15T09:04:14.099Z"
   },
   {
    "duration": 14,
    "start_time": "2022-12-15T09:04:51.875Z"
   },
   {
    "duration": 29,
    "start_time": "2022-12-15T09:04:56.698Z"
   },
   {
    "duration": 33,
    "start_time": "2022-12-15T09:05:56.551Z"
   },
   {
    "duration": 5,
    "start_time": "2022-12-15T09:06:13.828Z"
   },
   {
    "duration": 631,
    "start_time": "2022-12-15T09:06:14.236Z"
   },
   {
    "duration": 17,
    "start_time": "2022-12-15T09:06:14.869Z"
   },
   {
    "duration": 34,
    "start_time": "2022-12-15T09:06:14.888Z"
   },
   {
    "duration": 4,
    "start_time": "2022-12-15T09:06:14.924Z"
   },
   {
    "duration": 8,
    "start_time": "2022-12-15T09:06:15.051Z"
   },
   {
    "duration": 6,
    "start_time": "2022-12-15T09:06:15.243Z"
   },
   {
    "duration": 6,
    "start_time": "2022-12-15T09:06:15.670Z"
   },
   {
    "duration": 6,
    "start_time": "2022-12-15T09:06:16.108Z"
   },
   {
    "duration": 17,
    "start_time": "2022-12-15T09:06:16.297Z"
   },
   {
    "duration": 126,
    "start_time": "2022-12-15T09:06:16.746Z"
   },
   {
    "duration": 27,
    "start_time": "2022-12-15T09:06:16.969Z"
   },
   {
    "duration": 10,
    "start_time": "2022-12-15T09:06:17.402Z"
   },
   {
    "duration": 8,
    "start_time": "2022-12-15T09:06:17.617Z"
   },
   {
    "duration": 12,
    "start_time": "2022-12-15T09:06:17.833Z"
   },
   {
    "duration": 13,
    "start_time": "2022-12-15T09:06:18.321Z"
   },
   {
    "duration": 8,
    "start_time": "2022-12-15T09:06:18.561Z"
   },
   {
    "duration": 12,
    "start_time": "2022-12-15T09:06:18.770Z"
   },
   {
    "duration": 19,
    "start_time": "2022-12-15T09:06:19.025Z"
   },
   {
    "duration": 8,
    "start_time": "2022-12-15T09:06:20.153Z"
   },
   {
    "duration": 14,
    "start_time": "2022-12-15T09:06:20.361Z"
   },
   {
    "duration": 3,
    "start_time": "2022-12-15T09:06:20.561Z"
   },
   {
    "duration": 168,
    "start_time": "2022-12-15T09:06:20.783Z"
   },
   {
    "duration": 170,
    "start_time": "2022-12-15T09:06:21.001Z"
   },
   {
    "duration": 172,
    "start_time": "2022-12-15T09:06:21.234Z"
   },
   {
    "duration": 10,
    "start_time": "2022-12-15T09:06:21.689Z"
   },
   {
    "duration": 6,
    "start_time": "2022-12-15T09:06:21.984Z"
   },
   {
    "duration": 339,
    "start_time": "2022-12-15T09:06:22.249Z"
   },
   {
    "duration": 22,
    "start_time": "2022-12-15T09:06:22.927Z"
   },
   {
    "duration": 7,
    "start_time": "2022-12-15T09:06:23.375Z"
   },
   {
    "duration": 11,
    "start_time": "2022-12-15T09:06:24.599Z"
   },
   {
    "duration": 645,
    "start_time": "2022-12-15T09:06:24.960Z"
   },
   {
    "duration": 20,
    "start_time": "2022-12-15T09:06:25.695Z"
   },
   {
    "duration": 9,
    "start_time": "2022-12-15T09:06:26.758Z"
   },
   {
    "duration": 17,
    "start_time": "2022-12-15T09:06:28.486Z"
   },
   {
    "duration": 8,
    "start_time": "2022-12-15T09:06:28.996Z"
   },
   {
    "duration": 6,
    "start_time": "2022-12-15T09:06:32.148Z"
   },
   {
    "duration": 6,
    "start_time": "2022-12-15T09:06:36.579Z"
   },
   {
    "duration": 6,
    "start_time": "2022-12-15T09:06:38.498Z"
   },
   {
    "duration": 8,
    "start_time": "2022-12-15T09:06:39.794Z"
   },
   {
    "duration": 5,
    "start_time": "2022-12-15T09:06:40.802Z"
   },
   {
    "duration": 8393,
    "start_time": "2022-12-15T09:06:46.392Z"
   },
   {
    "duration": 15,
    "start_time": "2022-12-15T09:07:02.688Z"
   },
   {
    "duration": 18,
    "start_time": "2022-12-15T09:07:10.430Z"
   },
   {
    "duration": 12,
    "start_time": "2022-12-15T09:07:17.331Z"
   },
   {
    "duration": 4,
    "start_time": "2022-12-15T09:07:41.418Z"
   },
   {
    "duration": 608,
    "start_time": "2022-12-15T09:07:41.819Z"
   },
   {
    "duration": 13,
    "start_time": "2022-12-15T09:07:46.896Z"
   },
   {
    "duration": 15,
    "start_time": "2022-12-15T09:07:47.095Z"
   },
   {
    "duration": 3,
    "start_time": "2022-12-15T09:07:47.319Z"
   },
   {
    "duration": 5,
    "start_time": "2022-12-15T09:07:47.535Z"
   },
   {
    "duration": 4,
    "start_time": "2022-12-15T09:07:47.743Z"
   },
   {
    "duration": 6,
    "start_time": "2022-12-15T09:07:48.159Z"
   },
   {
    "duration": 5,
    "start_time": "2022-12-15T09:07:48.604Z"
   },
   {
    "duration": 11,
    "start_time": "2022-12-15T09:07:48.812Z"
   },
   {
    "duration": 107,
    "start_time": "2022-12-15T09:07:49.868Z"
   },
   {
    "duration": 20,
    "start_time": "2022-12-15T09:07:50.324Z"
   },
   {
    "duration": 10,
    "start_time": "2022-12-15T09:07:50.772Z"
   },
   {
    "duration": 7,
    "start_time": "2022-12-15T09:07:51.012Z"
   },
   {
    "duration": 11,
    "start_time": "2022-12-15T09:07:51.791Z"
   },
   {
    "duration": 15,
    "start_time": "2022-12-15T09:07:52.844Z"
   },
   {
    "duration": 7,
    "start_time": "2022-12-15T09:07:53.044Z"
   },
   {
    "duration": 9,
    "start_time": "2022-12-15T09:07:53.252Z"
   },
   {
    "duration": 15,
    "start_time": "2022-12-15T09:07:53.452Z"
   },
   {
    "duration": 5,
    "start_time": "2022-12-15T09:07:54.100Z"
   },
   {
    "duration": 10,
    "start_time": "2022-12-15T09:07:54.316Z"
   },
   {
    "duration": 2,
    "start_time": "2022-12-15T09:07:54.537Z"
   },
   {
    "duration": 120,
    "start_time": "2022-12-15T09:07:54.770Z"
   },
   {
    "duration": 145,
    "start_time": "2022-12-15T09:07:55.010Z"
   },
   {
    "duration": 120,
    "start_time": "2022-12-15T09:07:55.818Z"
   },
   {
    "duration": 9,
    "start_time": "2022-12-15T09:07:57.442Z"
   },
   {
    "duration": 5,
    "start_time": "2022-12-15T09:07:59.314Z"
   },
   {
    "duration": 297,
    "start_time": "2022-12-15T09:08:00.097Z"
   },
   {
    "duration": 15,
    "start_time": "2022-12-15T09:08:04.033Z"
   },
   {
    "duration": 6,
    "start_time": "2022-12-15T09:08:04.839Z"
   },
   {
    "duration": 8,
    "start_time": "2022-12-15T09:08:06.295Z"
   },
   {
    "duration": 326,
    "start_time": "2022-12-15T09:08:06.593Z"
   },
   {
    "duration": 14,
    "start_time": "2022-12-15T09:08:08.222Z"
   },
   {
    "duration": 8,
    "start_time": "2022-12-15T09:08:09.565Z"
   },
   {
    "duration": 18,
    "start_time": "2022-12-15T09:08:15.395Z"
   },
   {
    "duration": 16,
    "start_time": "2022-12-15T09:08:40.233Z"
   },
   {
    "duration": 6,
    "start_time": "2022-12-15T09:08:56.602Z"
   },
   {
    "duration": 14,
    "start_time": "2022-12-15T09:08:58.754Z"
   },
   {
    "duration": 5,
    "start_time": "2022-12-15T09:09:16.635Z"
   },
   {
    "duration": 688,
    "start_time": "2022-12-15T09:09:17.035Z"
   },
   {
    "duration": 13,
    "start_time": "2022-12-15T09:09:17.724Z"
   },
   {
    "duration": 16,
    "start_time": "2022-12-15T09:09:17.739Z"
   },
   {
    "duration": 3,
    "start_time": "2022-12-15T09:09:17.757Z"
   },
   {
    "duration": 7,
    "start_time": "2022-12-15T09:09:17.858Z"
   },
   {
    "duration": 4,
    "start_time": "2022-12-15T09:09:18.058Z"
   },
   {
    "duration": 5,
    "start_time": "2022-12-15T09:09:18.490Z"
   },
   {
    "duration": 5,
    "start_time": "2022-12-15T09:09:18.907Z"
   },
   {
    "duration": 12,
    "start_time": "2022-12-15T09:09:19.105Z"
   },
   {
    "duration": 127,
    "start_time": "2022-12-15T09:09:19.521Z"
   },
   {
    "duration": 24,
    "start_time": "2022-12-15T09:09:19.730Z"
   },
   {
    "duration": 8,
    "start_time": "2022-12-15T09:09:20.162Z"
   },
   {
    "duration": 7,
    "start_time": "2022-12-15T09:09:20.362Z"
   },
   {
    "duration": 11,
    "start_time": "2022-12-15T09:09:20.570Z"
   },
   {
    "duration": 18,
    "start_time": "2022-12-15T09:09:20.999Z"
   },
   {
    "duration": 8,
    "start_time": "2022-12-15T09:09:21.208Z"
   },
   {
    "duration": 11,
    "start_time": "2022-12-15T09:09:21.399Z"
   },
   {
    "duration": 17,
    "start_time": "2022-12-15T09:09:21.615Z"
   },
   {
    "duration": 7,
    "start_time": "2022-12-15T09:09:22.256Z"
   },
   {
    "duration": 11,
    "start_time": "2022-12-15T09:09:22.479Z"
   },
   {
    "duration": 2,
    "start_time": "2022-12-15T09:09:22.696Z"
   },
   {
    "duration": 121,
    "start_time": "2022-12-15T09:09:22.912Z"
   },
   {
    "duration": 133,
    "start_time": "2022-12-15T09:09:23.144Z"
   },
   {
    "duration": 124,
    "start_time": "2022-12-15T09:09:23.359Z"
   },
   {
    "duration": 9,
    "start_time": "2022-12-15T09:09:23.823Z"
   },
   {
    "duration": 5,
    "start_time": "2022-12-15T09:09:24.263Z"
   },
   {
    "duration": 301,
    "start_time": "2022-12-15T09:09:24.623Z"
   },
   {
    "duration": 15,
    "start_time": "2022-12-15T09:09:25.615Z"
   },
   {
    "duration": 6,
    "start_time": "2022-12-15T09:09:25.992Z"
   },
   {
    "duration": 10,
    "start_time": "2022-12-15T09:09:27.189Z"
   },
   {
    "duration": 516,
    "start_time": "2022-12-15T09:09:27.402Z"
   },
   {
    "duration": 15,
    "start_time": "2022-12-15T09:09:27.920Z"
   },
   {
    "duration": 8,
    "start_time": "2022-12-15T09:09:28.318Z"
   },
   {
    "duration": 16,
    "start_time": "2022-12-15T09:09:30.109Z"
   },
   {
    "duration": 7,
    "start_time": "2022-12-15T09:09:30.902Z"
   },
   {
    "duration": 16,
    "start_time": "2022-12-15T09:09:34.901Z"
   },
   {
    "duration": 5,
    "start_time": "2022-12-15T09:09:42.809Z"
   },
   {
    "duration": 13,
    "start_time": "2022-12-15T09:09:46.093Z"
   },
   {
    "duration": 15,
    "start_time": "2022-12-15T09:10:15.668Z"
   },
   {
    "duration": 12,
    "start_time": "2022-12-15T09:11:47.292Z"
   },
   {
    "duration": 16,
    "start_time": "2022-12-15T09:11:49.261Z"
   },
   {
    "duration": 5,
    "start_time": "2022-12-15T09:11:56.963Z"
   },
   {
    "duration": 609,
    "start_time": "2022-12-15T09:11:57.354Z"
   },
   {
    "duration": 11,
    "start_time": "2022-12-15T09:11:57.965Z"
   },
   {
    "duration": 40,
    "start_time": "2022-12-15T09:11:57.978Z"
   },
   {
    "duration": 3,
    "start_time": "2022-12-15T09:11:58.021Z"
   },
   {
    "duration": 6,
    "start_time": "2022-12-15T09:11:58.154Z"
   },
   {
    "duration": 5,
    "start_time": "2022-12-15T09:11:58.361Z"
   },
   {
    "duration": 5,
    "start_time": "2022-12-15T09:11:58.753Z"
   },
   {
    "duration": 5,
    "start_time": "2022-12-15T09:11:59.202Z"
   },
   {
    "duration": 11,
    "start_time": "2022-12-15T09:11:59.410Z"
   },
   {
    "duration": 110,
    "start_time": "2022-12-15T09:11:59.842Z"
   },
   {
    "duration": 27,
    "start_time": "2022-12-15T09:12:00.057Z"
   },
   {
    "duration": 8,
    "start_time": "2022-12-15T09:12:00.480Z"
   },
   {
    "duration": 7,
    "start_time": "2022-12-15T09:12:00.687Z"
   },
   {
    "duration": 9,
    "start_time": "2022-12-15T09:12:00.896Z"
   },
   {
    "duration": 13,
    "start_time": "2022-12-15T09:12:01.335Z"
   },
   {
    "duration": 8,
    "start_time": "2022-12-15T09:12:01.560Z"
   },
   {
    "duration": 9,
    "start_time": "2022-12-15T09:12:01.768Z"
   },
   {
    "duration": 16,
    "start_time": "2022-12-15T09:12:01.975Z"
   },
   {
    "duration": 5,
    "start_time": "2022-12-15T09:12:02.620Z"
   },
   {
    "duration": 11,
    "start_time": "2022-12-15T09:12:02.816Z"
   },
   {
    "duration": 2,
    "start_time": "2022-12-15T09:12:03.024Z"
   },
   {
    "duration": 139,
    "start_time": "2022-12-15T09:12:03.224Z"
   },
   {
    "duration": 138,
    "start_time": "2022-12-15T09:12:03.449Z"
   },
   {
    "duration": 121,
    "start_time": "2022-12-15T09:12:03.663Z"
   },
   {
    "duration": 7,
    "start_time": "2022-12-15T09:12:04.080Z"
   },
   {
    "duration": 5,
    "start_time": "2022-12-15T09:12:04.304Z"
   },
   {
    "duration": 301,
    "start_time": "2022-12-15T09:12:04.503Z"
   },
   {
    "duration": 15,
    "start_time": "2022-12-15T09:12:04.943Z"
   },
   {
    "duration": 6,
    "start_time": "2022-12-15T09:12:05.167Z"
   },
   {
    "duration": 8,
    "start_time": "2022-12-15T09:12:05.792Z"
   },
   {
    "duration": 322,
    "start_time": "2022-12-15T09:12:06.007Z"
   },
   {
    "duration": 14,
    "start_time": "2022-12-15T09:12:06.472Z"
   },
   {
    "duration": 8,
    "start_time": "2022-12-15T09:12:06.958Z"
   },
   {
    "duration": 14,
    "start_time": "2022-12-15T09:12:08.525Z"
   },
   {
    "duration": 5,
    "start_time": "2022-12-15T09:12:09.101Z"
   },
   {
    "duration": 11,
    "start_time": "2022-12-15T09:12:09.846Z"
   },
   {
    "duration": 12,
    "start_time": "2022-12-15T09:12:54.796Z"
   },
   {
    "duration": 13,
    "start_time": "2022-12-15T09:13:00.922Z"
   },
   {
    "duration": 16,
    "start_time": "2022-12-15T09:14:02.497Z"
   },
   {
    "duration": 13,
    "start_time": "2022-12-15T09:14:15.493Z"
   },
   {
    "duration": 27,
    "start_time": "2022-12-15T09:14:45.456Z"
   },
   {
    "duration": 14,
    "start_time": "2022-12-15T09:14:53.499Z"
   },
   {
    "duration": 21,
    "start_time": "2022-12-15T09:15:59.515Z"
   },
   {
    "duration": 14,
    "start_time": "2022-12-15T09:16:03.978Z"
   },
   {
    "duration": 10,
    "start_time": "2022-12-15T09:16:08.798Z"
   },
   {
    "duration": 17,
    "start_time": "2022-12-15T09:16:12.205Z"
   },
   {
    "duration": 17,
    "start_time": "2022-12-15T09:16:12.651Z"
   },
   {
    "duration": 16,
    "start_time": "2022-12-15T09:16:13.147Z"
   },
   {
    "duration": 6,
    "start_time": "2022-12-15T09:16:31.172Z"
   },
   {
    "duration": 744,
    "start_time": "2022-12-15T09:16:31.620Z"
   },
   {
    "duration": 11,
    "start_time": "2022-12-15T09:16:32.365Z"
   },
   {
    "duration": 14,
    "start_time": "2022-12-15T09:16:32.378Z"
   },
   {
    "duration": 2,
    "start_time": "2022-12-15T09:16:32.394Z"
   },
   {
    "duration": 6,
    "start_time": "2022-12-15T09:16:32.499Z"
   },
   {
    "duration": 5,
    "start_time": "2022-12-15T09:16:32.707Z"
   },
   {
    "duration": 5,
    "start_time": "2022-12-15T09:16:33.158Z"
   },
   {
    "duration": 7,
    "start_time": "2022-12-15T09:16:33.580Z"
   },
   {
    "duration": 12,
    "start_time": "2022-12-15T09:16:33.803Z"
   },
   {
    "duration": 113,
    "start_time": "2022-12-15T09:16:34.239Z"
   },
   {
    "duration": 21,
    "start_time": "2022-12-15T09:16:34.449Z"
   },
   {
    "duration": 9,
    "start_time": "2022-12-15T09:16:34.867Z"
   },
   {
    "duration": 7,
    "start_time": "2022-12-15T09:16:35.075Z"
   },
   {
    "duration": 13,
    "start_time": "2022-12-15T09:16:35.291Z"
   },
   {
    "duration": 13,
    "start_time": "2022-12-15T09:16:35.715Z"
   },
   {
    "duration": 7,
    "start_time": "2022-12-15T09:16:35.931Z"
   },
   {
    "duration": 9,
    "start_time": "2022-12-15T09:16:36.131Z"
   },
   {
    "duration": 16,
    "start_time": "2022-12-15T09:16:36.347Z"
   },
   {
    "duration": 5,
    "start_time": "2022-12-15T09:16:37.250Z"
   },
   {
    "duration": 10,
    "start_time": "2022-12-15T09:16:37.449Z"
   },
   {
    "duration": 2,
    "start_time": "2022-12-15T09:16:37.649Z"
   },
   {
    "duration": 135,
    "start_time": "2022-12-15T09:16:37.849Z"
   },
   {
    "duration": 136,
    "start_time": "2022-12-15T09:16:38.072Z"
   },
   {
    "duration": 120,
    "start_time": "2022-12-15T09:16:38.267Z"
   },
   {
    "duration": 8,
    "start_time": "2022-12-15T09:16:38.673Z"
   },
   {
    "duration": 4,
    "start_time": "2022-12-15T09:16:38.889Z"
   },
   {
    "duration": 284,
    "start_time": "2022-12-15T09:16:39.089Z"
   },
   {
    "duration": 15,
    "start_time": "2022-12-15T09:16:39.753Z"
   },
   {
    "duration": 7,
    "start_time": "2022-12-15T09:16:40.065Z"
   },
   {
    "duration": 8,
    "start_time": "2022-12-15T09:16:41.097Z"
   },
   {
    "duration": 370,
    "start_time": "2022-12-15T09:16:41.393Z"
   },
   {
    "duration": 16,
    "start_time": "2022-12-15T09:16:42.313Z"
   },
   {
    "duration": 11,
    "start_time": "2022-12-15T09:16:44.071Z"
   },
   {
    "duration": 27,
    "start_time": "2022-12-15T09:16:45.974Z"
   },
   {
    "duration": 185,
    "start_time": "2022-12-15T09:16:46.574Z"
   },
   {
    "duration": 13,
    "start_time": "2022-12-15T09:16:47.430Z"
   },
   {
    "duration": 13,
    "start_time": "2022-12-15T09:17:00.090Z"
   },
   {
    "duration": 4,
    "start_time": "2022-12-15T09:17:18.755Z"
   },
   {
    "duration": 666,
    "start_time": "2022-12-15T09:17:19.171Z"
   },
   {
    "duration": 14,
    "start_time": "2022-12-15T09:17:19.839Z"
   },
   {
    "duration": 29,
    "start_time": "2022-12-15T09:17:19.855Z"
   },
   {
    "duration": 13,
    "start_time": "2022-12-15T09:17:19.887Z"
   },
   {
    "duration": 7,
    "start_time": "2022-12-15T09:17:20.002Z"
   },
   {
    "duration": 5,
    "start_time": "2022-12-15T09:17:20.200Z"
   },
   {
    "duration": 5,
    "start_time": "2022-12-15T09:17:20.640Z"
   },
   {
    "duration": 6,
    "start_time": "2022-12-15T09:17:21.072Z"
   },
   {
    "duration": 12,
    "start_time": "2022-12-15T09:17:21.440Z"
   },
   {
    "duration": 109,
    "start_time": "2022-12-15T09:17:21.888Z"
   },
   {
    "duration": 19,
    "start_time": "2022-12-15T09:17:22.378Z"
   },
   {
    "duration": 9,
    "start_time": "2022-12-15T09:17:22.681Z"
   },
   {
    "duration": 7,
    "start_time": "2022-12-15T09:17:22.879Z"
   },
   {
    "duration": 13,
    "start_time": "2022-12-15T09:17:23.120Z"
   },
   {
    "duration": 19,
    "start_time": "2022-12-15T09:17:23.568Z"
   },
   {
    "duration": 9,
    "start_time": "2022-12-15T09:17:23.783Z"
   },
   {
    "duration": 9,
    "start_time": "2022-12-15T09:17:24.011Z"
   },
   {
    "duration": 16,
    "start_time": "2022-12-15T09:17:24.272Z"
   },
   {
    "duration": 6,
    "start_time": "2022-12-15T09:17:25.224Z"
   },
   {
    "duration": 12,
    "start_time": "2022-12-15T09:17:25.432Z"
   },
   {
    "duration": 2,
    "start_time": "2022-12-15T09:17:25.632Z"
   },
   {
    "duration": 121,
    "start_time": "2022-12-15T09:17:25.857Z"
   },
   {
    "duration": 129,
    "start_time": "2022-12-15T09:17:26.088Z"
   },
   {
    "duration": 122,
    "start_time": "2022-12-15T09:17:26.317Z"
   },
   {
    "duration": 8,
    "start_time": "2022-12-15T09:17:26.949Z"
   },
   {
    "duration": 5,
    "start_time": "2022-12-15T09:17:27.261Z"
   },
   {
    "duration": 292,
    "start_time": "2022-12-15T09:17:27.517Z"
   },
   {
    "duration": 14,
    "start_time": "2022-12-15T09:17:28.253Z"
   },
   {
    "duration": 6,
    "start_time": "2022-12-15T09:17:28.621Z"
   },
   {
    "duration": 8,
    "start_time": "2022-12-15T09:17:29.869Z"
   },
   {
    "duration": 339,
    "start_time": "2022-12-15T09:17:30.173Z"
   },
   {
    "duration": 14,
    "start_time": "2022-12-15T09:17:30.878Z"
   },
   {
    "duration": 9,
    "start_time": "2022-12-15T09:17:31.468Z"
   },
   {
    "duration": 23,
    "start_time": "2022-12-15T09:17:32.875Z"
   },
   {
    "duration": 13,
    "start_time": "2022-12-15T09:17:35.059Z"
   },
   {
    "duration": 16,
    "start_time": "2022-12-15T09:18:16.251Z"
   },
   {
    "duration": 12,
    "start_time": "2022-12-15T09:18:42.281Z"
   },
   {
    "duration": 22,
    "start_time": "2022-12-15T09:19:07.668Z"
   },
   {
    "duration": 10,
    "start_time": "2022-12-15T09:20:11.246Z"
   },
   {
    "duration": 10,
    "start_time": "2022-12-15T09:20:27.479Z"
   },
   {
    "duration": 6,
    "start_time": "2022-12-15T09:20:33.140Z"
   },
   {
    "duration": 12,
    "start_time": "2022-12-15T09:20:39.937Z"
   },
   {
    "duration": 14,
    "start_time": "2022-12-15T09:20:52.948Z"
   },
   {
    "duration": 14,
    "start_time": "2022-12-15T09:21:17.292Z"
   },
   {
    "duration": 7,
    "start_time": "2022-12-15T09:22:06.208Z"
   },
   {
    "duration": 12,
    "start_time": "2022-12-15T09:22:13.900Z"
   },
   {
    "duration": 9,
    "start_time": "2022-12-15T09:22:43.969Z"
   },
   {
    "duration": 13,
    "start_time": "2022-12-15T09:22:57.796Z"
   },
   {
    "duration": 13,
    "start_time": "2022-12-15T09:23:42.456Z"
   },
   {
    "duration": 7,
    "start_time": "2022-12-15T09:23:42.656Z"
   },
   {
    "duration": 13,
    "start_time": "2022-12-15T09:23:43.040Z"
   },
   {
    "duration": 4,
    "start_time": "2022-12-15T09:23:47.008Z"
   },
   {
    "duration": 679,
    "start_time": "2022-12-15T09:23:47.350Z"
   },
   {
    "duration": 12,
    "start_time": "2022-12-15T09:23:48.030Z"
   },
   {
    "duration": 15,
    "start_time": "2022-12-15T09:23:48.044Z"
   },
   {
    "duration": 3,
    "start_time": "2022-12-15T09:23:48.060Z"
   },
   {
    "duration": 6,
    "start_time": "2022-12-15T09:23:48.149Z"
   },
   {
    "duration": 5,
    "start_time": "2022-12-15T09:23:48.341Z"
   },
   {
    "duration": 4,
    "start_time": "2022-12-15T09:23:48.742Z"
   },
   {
    "duration": 4,
    "start_time": "2022-12-15T09:23:49.142Z"
   },
   {
    "duration": 10,
    "start_time": "2022-12-15T09:23:49.358Z"
   },
   {
    "duration": 111,
    "start_time": "2022-12-15T09:23:49.750Z"
   },
   {
    "duration": 21,
    "start_time": "2022-12-15T09:23:49.949Z"
   },
   {
    "duration": 9,
    "start_time": "2022-12-15T09:23:50.349Z"
   },
   {
    "duration": 7,
    "start_time": "2022-12-15T09:23:50.565Z"
   },
   {
    "duration": 10,
    "start_time": "2022-12-15T09:23:50.781Z"
   },
   {
    "duration": 14,
    "start_time": "2022-12-15T09:23:51.214Z"
   },
   {
    "duration": 6,
    "start_time": "2022-12-15T09:23:51.437Z"
   },
   {
    "duration": 10,
    "start_time": "2022-12-15T09:23:51.644Z"
   },
   {
    "duration": 15,
    "start_time": "2022-12-15T09:23:51.877Z"
   },
   {
    "duration": 5,
    "start_time": "2022-12-15T09:23:52.565Z"
   },
   {
    "duration": 11,
    "start_time": "2022-12-15T09:23:52.797Z"
   },
   {
    "duration": 2,
    "start_time": "2022-12-15T09:23:53.013Z"
   },
   {
    "duration": 141,
    "start_time": "2022-12-15T09:23:53.241Z"
   },
   {
    "duration": 133,
    "start_time": "2022-12-15T09:23:53.428Z"
   },
   {
    "duration": 121,
    "start_time": "2022-12-15T09:23:53.667Z"
   },
   {
    "duration": 8,
    "start_time": "2022-12-15T09:23:54.099Z"
   },
   {
    "duration": 5,
    "start_time": "2022-12-15T09:23:54.315Z"
   },
   {
    "duration": 279,
    "start_time": "2022-12-15T09:23:54.562Z"
   },
   {
    "duration": 14,
    "start_time": "2022-12-15T09:23:55.042Z"
   },
   {
    "duration": 6,
    "start_time": "2022-12-15T09:23:55.259Z"
   },
   {
    "duration": 8,
    "start_time": "2022-12-15T09:23:55.979Z"
   },
   {
    "duration": 332,
    "start_time": "2022-12-15T09:23:56.226Z"
   },
   {
    "duration": 13,
    "start_time": "2022-12-15T09:23:56.668Z"
   },
   {
    "duration": 7,
    "start_time": "2022-12-15T09:23:57.147Z"
   },
   {
    "duration": 23,
    "start_time": "2022-12-15T09:23:58.500Z"
   },
   {
    "duration": 13,
    "start_time": "2022-12-15T09:23:59.114Z"
   },
   {
    "duration": 12,
    "start_time": "2022-12-15T09:24:14.932Z"
   },
   {
    "duration": 12,
    "start_time": "2022-12-15T09:24:34.612Z"
   },
   {
    "duration": 4,
    "start_time": "2022-12-15T09:24:41.090Z"
   },
   {
    "duration": 4,
    "start_time": "2022-12-15T09:25:13.700Z"
   },
   {
    "duration": 5,
    "start_time": "2022-12-15T09:25:43.985Z"
   },
   {
    "duration": 707,
    "start_time": "2022-12-15T09:25:44.375Z"
   },
   {
    "duration": 12,
    "start_time": "2022-12-15T09:25:45.084Z"
   },
   {
    "duration": 33,
    "start_time": "2022-12-15T09:25:45.097Z"
   },
   {
    "duration": 8,
    "start_time": "2022-12-15T09:25:45.131Z"
   },
   {
    "duration": 6,
    "start_time": "2022-12-15T09:25:45.188Z"
   },
   {
    "duration": 7,
    "start_time": "2022-12-15T09:25:45.383Z"
   },
   {
    "duration": 5,
    "start_time": "2022-12-15T09:25:45.791Z"
   },
   {
    "duration": 5,
    "start_time": "2022-12-15T09:25:46.416Z"
   },
   {
    "duration": 11,
    "start_time": "2022-12-15T09:25:46.630Z"
   },
   {
    "duration": 115,
    "start_time": "2022-12-15T09:25:47.040Z"
   },
   {
    "duration": 21,
    "start_time": "2022-12-15T09:25:47.237Z"
   },
   {
    "duration": 9,
    "start_time": "2022-12-15T09:25:47.647Z"
   },
   {
    "duration": 7,
    "start_time": "2022-12-15T09:25:47.854Z"
   },
   {
    "duration": 11,
    "start_time": "2022-12-15T09:25:48.046Z"
   },
   {
    "duration": 15,
    "start_time": "2022-12-15T09:25:48.479Z"
   },
   {
    "duration": 7,
    "start_time": "2022-12-15T09:25:48.686Z"
   },
   {
    "duration": 9,
    "start_time": "2022-12-15T09:25:48.894Z"
   },
   {
    "duration": 16,
    "start_time": "2022-12-15T09:25:49.102Z"
   },
   {
    "duration": 6,
    "start_time": "2022-12-15T09:25:49.751Z"
   },
   {
    "duration": 9,
    "start_time": "2022-12-15T09:25:49.967Z"
   },
   {
    "duration": 3,
    "start_time": "2022-12-15T09:25:50.183Z"
   },
   {
    "duration": 127,
    "start_time": "2022-12-15T09:25:50.404Z"
   },
   {
    "duration": 130,
    "start_time": "2022-12-15T09:25:50.623Z"
   },
   {
    "duration": 124,
    "start_time": "2022-12-15T09:25:50.844Z"
   },
   {
    "duration": 8,
    "start_time": "2022-12-15T09:25:51.268Z"
   },
   {
    "duration": 5,
    "start_time": "2022-12-15T09:25:51.484Z"
   },
   {
    "duration": 472,
    "start_time": "2022-12-15T09:25:51.716Z"
   },
   {
    "duration": 16,
    "start_time": "2022-12-15T09:25:52.190Z"
   },
   {
    "duration": 6,
    "start_time": "2022-12-15T09:25:52.364Z"
   },
   {
    "duration": 8,
    "start_time": "2022-12-15T09:25:53.044Z"
   },
   {
    "duration": 334,
    "start_time": "2022-12-15T09:25:53.268Z"
   },
   {
    "duration": 14,
    "start_time": "2022-12-15T09:25:53.716Z"
   },
   {
    "duration": 8,
    "start_time": "2022-12-15T09:25:54.164Z"
   },
   {
    "duration": 13,
    "start_time": "2022-12-15T09:25:55.572Z"
   },
   {
    "duration": 4,
    "start_time": "2022-12-15T09:25:57.458Z"
   },
   {
    "duration": 4,
    "start_time": "2022-12-15T09:25:58.930Z"
   },
   {
    "duration": 5,
    "start_time": "2022-12-15T09:26:03.904Z"
   },
   {
    "duration": 13,
    "start_time": "2022-12-15T09:26:08.727Z"
   },
   {
    "duration": 12,
    "start_time": "2022-12-15T09:26:16.108Z"
   },
   {
    "duration": 14,
    "start_time": "2022-12-15T09:26:23.312Z"
   },
   {
    "duration": 15,
    "start_time": "2022-12-15T09:27:10.805Z"
   },
   {
    "duration": 10,
    "start_time": "2022-12-15T09:27:12.860Z"
   },
   {
    "duration": 14,
    "start_time": "2022-12-15T09:27:19.642Z"
   },
   {
    "duration": 14,
    "start_time": "2022-12-15T09:27:20.962Z"
   },
   {
    "duration": 13,
    "start_time": "2022-12-15T09:27:21.538Z"
   },
   {
    "duration": 13,
    "start_time": "2022-12-15T09:27:30.125Z"
   },
   {
    "duration": 6,
    "start_time": "2022-12-15T09:28:00.066Z"
   },
   {
    "duration": 6,
    "start_time": "2022-12-15T09:28:03.385Z"
   },
   {
    "duration": 3,
    "start_time": "2022-12-15T09:28:04.153Z"
   },
   {
    "duration": 4948,
    "start_time": "2022-12-15T09:28:09.127Z"
   },
   {
    "duration": 12,
    "start_time": "2022-12-15T09:28:17.732Z"
   },
   {
    "duration": 21,
    "start_time": "2022-12-15T09:30:00.546Z"
   },
   {
    "duration": 6,
    "start_time": "2022-12-15T09:30:07.743Z"
   },
   {
    "duration": 4,
    "start_time": "2022-12-15T09:30:10.845Z"
   },
   {
    "duration": 4,
    "start_time": "2022-12-15T09:30:17.403Z"
   },
   {
    "duration": 627,
    "start_time": "2022-12-15T09:30:23.904Z"
   },
   {
    "duration": 11,
    "start_time": "2022-12-15T09:30:24.533Z"
   },
   {
    "duration": 30,
    "start_time": "2022-12-15T09:30:24.545Z"
   },
   {
    "duration": 2,
    "start_time": "2022-12-15T09:30:24.578Z"
   },
   {
    "duration": 6,
    "start_time": "2022-12-15T09:30:24.704Z"
   },
   {
    "duration": 5,
    "start_time": "2022-12-15T09:30:24.888Z"
   },
   {
    "duration": 4,
    "start_time": "2022-12-15T09:30:25.258Z"
   },
   {
    "duration": 6,
    "start_time": "2022-12-15T09:30:25.664Z"
   },
   {
    "duration": 11,
    "start_time": "2022-12-15T09:30:25.852Z"
   },
   {
    "duration": 109,
    "start_time": "2022-12-15T09:30:26.272Z"
   },
   {
    "duration": 23,
    "start_time": "2022-12-15T09:30:26.479Z"
   },
   {
    "duration": 9,
    "start_time": "2022-12-15T09:30:26.880Z"
   },
   {
    "duration": 7,
    "start_time": "2022-12-15T09:30:27.077Z"
   },
   {
    "duration": 10,
    "start_time": "2022-12-15T09:30:27.285Z"
   },
   {
    "duration": 13,
    "start_time": "2022-12-15T09:30:27.710Z"
   },
   {
    "duration": 7,
    "start_time": "2022-12-15T09:30:27.926Z"
   },
   {
    "duration": 8,
    "start_time": "2022-12-15T09:30:28.166Z"
   },
   {
    "duration": 17,
    "start_time": "2022-12-15T09:30:28.389Z"
   },
   {
    "duration": 5,
    "start_time": "2022-12-15T09:30:29.094Z"
   },
   {
    "duration": 10,
    "start_time": "2022-12-15T09:30:29.414Z"
   },
   {
    "duration": 3,
    "start_time": "2022-12-15T09:30:29.637Z"
   },
   {
    "duration": 123,
    "start_time": "2022-12-15T09:30:29.854Z"
   },
   {
    "duration": 136,
    "start_time": "2022-12-15T09:30:30.093Z"
   },
   {
    "duration": 129,
    "start_time": "2022-12-15T09:30:30.325Z"
   },
   {
    "duration": 8,
    "start_time": "2022-12-15T09:30:30.766Z"
   },
   {
    "duration": 5,
    "start_time": "2022-12-15T09:30:30.989Z"
   },
   {
    "duration": 287,
    "start_time": "2022-12-15T09:30:31.228Z"
   },
   {
    "duration": 14,
    "start_time": "2022-12-15T09:30:31.701Z"
   },
   {
    "duration": 6,
    "start_time": "2022-12-15T09:30:31.933Z"
   },
   {
    "duration": 7,
    "start_time": "2022-12-15T09:30:32.654Z"
   },
   {
    "duration": 317,
    "start_time": "2022-12-15T09:30:32.877Z"
   },
   {
    "duration": 13,
    "start_time": "2022-12-15T09:30:33.316Z"
   },
   {
    "duration": 7,
    "start_time": "2022-12-15T09:30:33.771Z"
   },
   {
    "duration": 24,
    "start_time": "2022-12-15T09:30:35.803Z"
   },
   {
    "duration": 12,
    "start_time": "2022-12-15T09:30:36.931Z"
   },
   {
    "duration": 8,
    "start_time": "2022-12-15T09:30:53.013Z"
   },
   {
    "duration": 5,
    "start_time": "2022-12-15T09:31:08.303Z"
   },
   {
    "duration": 1624,
    "start_time": "2022-12-15T10:44:51.734Z"
   },
   {
    "duration": 2206,
    "start_time": "2022-12-15T10:44:53.360Z"
   },
   {
    "duration": 25,
    "start_time": "2022-12-15T10:44:55.568Z"
   },
   {
    "duration": 32,
    "start_time": "2022-12-15T10:44:55.596Z"
   },
   {
    "duration": 4,
    "start_time": "2022-12-15T10:44:55.639Z"
   },
   {
    "duration": 24,
    "start_time": "2022-12-15T10:44:55.645Z"
   },
   {
    "duration": 5,
    "start_time": "2022-12-15T10:44:55.671Z"
   },
   {
    "duration": 10,
    "start_time": "2022-12-15T10:44:55.678Z"
   },
   {
    "duration": 6,
    "start_time": "2022-12-15T10:44:58.919Z"
   },
   {
    "duration": 13,
    "start_time": "2022-12-15T10:44:59.142Z"
   },
   {
    "duration": 131,
    "start_time": "2022-12-15T10:44:59.574Z"
   },
   {
    "duration": 35,
    "start_time": "2022-12-15T10:44:59.807Z"
   },
   {
    "duration": 15,
    "start_time": "2022-12-15T10:45:58.752Z"
   },
   {
    "duration": 9,
    "start_time": "2022-12-15T10:46:01.086Z"
   },
   {
    "duration": 14,
    "start_time": "2022-12-15T10:46:01.838Z"
   },
   {
    "duration": 14,
    "start_time": "2022-12-15T10:46:10.593Z"
   },
   {
    "duration": 8,
    "start_time": "2022-12-15T10:46:10.792Z"
   },
   {
    "duration": 10,
    "start_time": "2022-12-15T10:46:10.984Z"
   },
   {
    "duration": 18,
    "start_time": "2022-12-15T10:46:11.193Z"
   },
   {
    "duration": 6,
    "start_time": "2022-12-15T10:46:12.705Z"
   },
   {
    "duration": 15,
    "start_time": "2022-12-15T10:46:12.896Z"
   },
   {
    "duration": 3,
    "start_time": "2022-12-15T10:46:13.096Z"
   },
   {
    "duration": 200,
    "start_time": "2022-12-15T10:46:13.289Z"
   },
   {
    "duration": 196,
    "start_time": "2022-12-15T10:46:13.491Z"
   },
   {
    "duration": 224,
    "start_time": "2022-12-15T10:46:13.690Z"
   },
   {
    "duration": 13,
    "start_time": "2022-12-15T10:46:14.066Z"
   },
   {
    "duration": 6,
    "start_time": "2022-12-15T10:46:14.255Z"
   },
   {
    "duration": 393,
    "start_time": "2022-12-15T10:46:14.472Z"
   },
   {
    "duration": 16,
    "start_time": "2022-12-15T10:46:14.870Z"
   },
   {
    "duration": 8,
    "start_time": "2022-12-15T10:46:15.085Z"
   },
   {
    "duration": 10,
    "start_time": "2022-12-15T10:46:16.062Z"
   },
   {
    "duration": 371,
    "start_time": "2022-12-15T10:46:16.726Z"
   },
   {
    "duration": 17,
    "start_time": "2022-12-15T10:46:21.845Z"
   },
   {
    "duration": 17,
    "start_time": "2022-12-15T10:46:25.101Z"
   },
   {
    "duration": 15,
    "start_time": "2022-12-15T10:46:26.540Z"
   },
   {
    "duration": 8,
    "start_time": "2022-12-15T10:47:20.398Z"
   },
   {
    "duration": 123,
    "start_time": "2022-12-15T10:47:21.725Z"
   },
   {
    "duration": 8,
    "start_time": "2022-12-15T10:47:33.033Z"
   },
   {
    "duration": 9,
    "start_time": "2022-12-15T10:47:35.214Z"
   },
   {
    "duration": 10,
    "start_time": "2022-12-15T10:47:36.902Z"
   },
   {
    "duration": 3,
    "start_time": "2022-12-15T10:47:38.759Z"
   },
   {
    "duration": 5578,
    "start_time": "2022-12-15T10:47:44.212Z"
   },
   {
    "duration": 5483,
    "start_time": "2022-12-15T10:47:55.679Z"
   },
   {
    "duration": 5,
    "start_time": "2022-12-15T10:48:26.299Z"
   },
   {
    "duration": 16,
    "start_time": "2022-12-15T10:48:27.195Z"
   },
   {
    "duration": 15297,
    "start_time": "2022-12-15T10:48:32.473Z"
   },
   {
    "duration": 1715,
    "start_time": "2022-12-15T10:49:02.532Z"
   },
   {
    "duration": 32878,
    "start_time": "2022-12-15T10:50:09.588Z"
   },
   {
    "duration": 103553,
    "start_time": "2022-12-15T10:52:31.194Z"
   },
   {
    "duration": 3794,
    "start_time": "2022-12-15T10:55:06.011Z"
   },
   {
    "duration": 5,
    "start_time": "2022-12-15T10:55:24.171Z"
   },
   {
    "duration": 708,
    "start_time": "2022-12-15T10:55:24.556Z"
   },
   {
    "duration": 13,
    "start_time": "2022-12-15T10:55:25.266Z"
   },
   {
    "duration": 24,
    "start_time": "2022-12-15T10:55:25.281Z"
   },
   {
    "duration": 4,
    "start_time": "2022-12-15T10:55:25.308Z"
   },
   {
    "duration": 42,
    "start_time": "2022-12-15T10:55:25.314Z"
   },
   {
    "duration": 5,
    "start_time": "2022-12-15T10:55:25.491Z"
   },
   {
    "duration": 6,
    "start_time": "2022-12-15T10:55:25.875Z"
   },
   {
    "duration": 7,
    "start_time": "2022-12-15T10:55:26.267Z"
   },
   {
    "duration": 12,
    "start_time": "2022-12-15T10:55:26.491Z"
   },
   {
    "duration": 130,
    "start_time": "2022-12-15T10:55:26.884Z"
   },
   {
    "duration": 23,
    "start_time": "2022-12-15T10:55:27.083Z"
   },
   {
    "duration": 10,
    "start_time": "2022-12-15T10:55:27.483Z"
   },
   {
    "duration": 8,
    "start_time": "2022-12-15T10:55:27.679Z"
   },
   {
    "duration": 11,
    "start_time": "2022-12-15T10:55:27.883Z"
   },
   {
    "duration": 15,
    "start_time": "2022-12-15T10:55:28.297Z"
   },
   {
    "duration": 8,
    "start_time": "2022-12-15T10:55:28.505Z"
   },
   {
    "duration": 14,
    "start_time": "2022-12-15T10:55:28.704Z"
   },
   {
    "duration": 26,
    "start_time": "2022-12-15T10:55:28.899Z"
   },
   {
    "duration": 8,
    "start_time": "2022-12-15T10:55:29.505Z"
   },
   {
    "duration": 11,
    "start_time": "2022-12-15T10:55:29.721Z"
   },
   {
    "duration": 3,
    "start_time": "2022-12-15T10:55:29.932Z"
   },
   {
    "duration": 151,
    "start_time": "2022-12-15T10:55:30.137Z"
   },
   {
    "duration": 155,
    "start_time": "2022-12-15T10:55:30.345Z"
   },
   {
    "duration": 147,
    "start_time": "2022-12-15T10:55:30.537Z"
   },
   {
    "duration": 9,
    "start_time": "2022-12-15T10:55:30.947Z"
   },
   {
    "duration": 5,
    "start_time": "2022-12-15T10:55:31.152Z"
   },
   {
    "duration": 332,
    "start_time": "2022-12-15T10:55:31.368Z"
   },
   {
    "duration": 16,
    "start_time": "2022-12-15T10:55:31.792Z"
   },
   {
    "duration": 8,
    "start_time": "2022-12-15T10:55:32.033Z"
   },
   {
    "duration": 9,
    "start_time": "2022-12-15T10:55:32.657Z"
   },
   {
    "duration": 373,
    "start_time": "2022-12-15T10:55:32.881Z"
   },
   {
    "duration": 16,
    "start_time": "2022-12-15T10:55:33.333Z"
   },
   {
    "duration": 10,
    "start_time": "2022-12-15T10:55:33.785Z"
   },
   {
    "duration": 16,
    "start_time": "2022-12-15T10:55:34.494Z"
   },
   {
    "duration": 7,
    "start_time": "2022-12-15T10:55:34.934Z"
   },
   {
    "duration": 7,
    "start_time": "2022-12-15T10:55:35.199Z"
   },
   {
    "duration": 7,
    "start_time": "2022-12-15T10:55:35.436Z"
   },
   {
    "duration": 8,
    "start_time": "2022-12-15T10:55:35.887Z"
   },
   {
    "duration": 4,
    "start_time": "2022-12-15T10:55:36.143Z"
   },
   {
    "duration": 14932,
    "start_time": "2022-12-15T10:55:37.967Z"
   },
   {
    "duration": 1591,
    "start_time": "2022-12-15T10:56:18.654Z"
   },
   {
    "duration": 104397,
    "start_time": "2022-12-15T10:56:23.515Z"
   },
   {
    "duration": 5692,
    "start_time": "2022-12-15T11:45:17.452Z"
   },
   {
    "duration": 5729,
    "start_time": "2022-12-15T11:46:09.066Z"
   },
   {
    "duration": 3914,
    "start_time": "2022-12-15T11:46:38.488Z"
   },
   {
    "duration": 5,
    "start_time": "2022-12-15T11:48:47.735Z"
   },
   {
    "duration": 944,
    "start_time": "2022-12-15T11:48:48.543Z"
   },
   {
    "duration": 17,
    "start_time": "2022-12-15T11:48:49.489Z"
   },
   {
    "duration": 36,
    "start_time": "2022-12-15T11:48:49.508Z"
   },
   {
    "duration": 4,
    "start_time": "2022-12-15T11:48:53.301Z"
   },
   {
    "duration": 6,
    "start_time": "2022-12-15T11:48:53.549Z"
   },
   {
    "duration": 5,
    "start_time": "2022-12-15T11:48:53.853Z"
   },
   {
    "duration": 6,
    "start_time": "2022-12-15T11:48:54.476Z"
   },
   {
    "duration": 6,
    "start_time": "2022-12-15T11:48:55.078Z"
   },
   {
    "duration": 16,
    "start_time": "2022-12-15T11:48:55.413Z"
   },
   {
    "duration": 180,
    "start_time": "2022-12-15T11:48:56.142Z"
   },
   {
    "duration": 36,
    "start_time": "2022-12-15T11:48:56.492Z"
   },
   {
    "duration": 11,
    "start_time": "2022-12-15T11:48:57.098Z"
   },
   {
    "duration": 9,
    "start_time": "2022-12-15T11:48:57.355Z"
   },
   {
    "duration": 12,
    "start_time": "2022-12-15T11:48:57.667Z"
   },
   {
    "duration": 15,
    "start_time": "2022-12-15T11:48:58.530Z"
   },
   {
    "duration": 13,
    "start_time": "2022-12-15T11:48:58.858Z"
   },
   {
    "duration": 9,
    "start_time": "2022-12-15T11:48:59.354Z"
   },
   {
    "duration": 18,
    "start_time": "2022-12-15T11:48:59.666Z"
   },
   {
    "duration": 6,
    "start_time": "2022-12-15T11:49:01.026Z"
   },
   {
    "duration": 11,
    "start_time": "2022-12-15T11:49:01.571Z"
   },
   {
    "duration": 150,
    "start_time": "2022-12-15T11:49:09.958Z"
   },
   {
    "duration": 146,
    "start_time": "2022-12-15T11:49:10.374Z"
   },
   {
    "duration": 142,
    "start_time": "2022-12-15T11:49:11.389Z"
   },
   {
    "duration": 9,
    "start_time": "2022-12-15T11:49:13.798Z"
   },
   {
    "duration": 6,
    "start_time": "2022-12-15T11:49:17.579Z"
   },
   {
    "duration": 326,
    "start_time": "2022-12-15T11:49:18.147Z"
   },
   {
    "duration": 17,
    "start_time": "2022-12-15T11:49:24.304Z"
   },
   {
    "duration": 6,
    "start_time": "2022-12-15T11:49:25.353Z"
   },
   {
    "duration": 8,
    "start_time": "2022-12-15T11:49:37.134Z"
   },
   {
    "duration": 362,
    "start_time": "2022-12-15T11:49:37.972Z"
   },
   {
    "duration": 16,
    "start_time": "2022-12-15T11:49:40.346Z"
   },
   {
    "duration": 8,
    "start_time": "2022-12-15T11:49:41.129Z"
   },
   {
    "duration": 14,
    "start_time": "2022-12-15T11:49:42.657Z"
   },
   {
    "duration": 6,
    "start_time": "2022-12-15T11:49:44.481Z"
   },
   {
    "duration": 6,
    "start_time": "2022-12-15T11:49:44.881Z"
   },
   {
    "duration": 6,
    "start_time": "2022-12-15T11:49:54.238Z"
   },
   {
    "duration": 7,
    "start_time": "2022-12-15T11:49:55.221Z"
   },
   {
    "duration": 3,
    "start_time": "2022-12-15T11:49:55.780Z"
   },
   {
    "duration": 14202,
    "start_time": "2022-12-15T11:49:57.564Z"
   },
   {
    "duration": 1271,
    "start_time": "2022-12-15T11:50:11.768Z"
   },
   {
    "duration": 102484,
    "start_time": "2022-12-15T11:50:30.244Z"
   },
   {
    "duration": 5439,
    "start_time": "2022-12-15T12:26:38.151Z"
   },
   {
    "duration": 12,
    "start_time": "2022-12-15T12:26:58.163Z"
   },
   {
    "duration": 4,
    "start_time": "2022-12-15T13:40:21.023Z"
   },
   {
    "duration": 14,
    "start_time": "2022-12-15T13:40:28.454Z"
   },
   {
    "duration": 21,
    "start_time": "2022-12-15T13:41:44.864Z"
   },
   {
    "duration": 5402,
    "start_time": "2022-12-15T13:42:02.729Z"
   },
   {
    "duration": 15,
    "start_time": "2022-12-15T13:42:16.776Z"
   },
   {
    "duration": 4,
    "start_time": "2022-12-15T13:42:22.383Z"
   },
   {
    "duration": 5,
    "start_time": "2022-12-15T13:42:36.090Z"
   },
   {
    "duration": 735,
    "start_time": "2022-12-15T13:42:36.450Z"
   },
   {
    "duration": 14,
    "start_time": "2022-12-15T13:42:37.187Z"
   },
   {
    "duration": 38,
    "start_time": "2022-12-15T13:42:37.203Z"
   },
   {
    "duration": 3,
    "start_time": "2022-12-15T13:42:37.244Z"
   },
   {
    "duration": 7,
    "start_time": "2022-12-15T13:42:37.271Z"
   },
   {
    "duration": 6,
    "start_time": "2022-12-15T13:42:37.457Z"
   },
   {
    "duration": 7,
    "start_time": "2022-12-15T13:42:37.865Z"
   },
   {
    "duration": 5,
    "start_time": "2022-12-15T13:42:38.297Z"
   },
   {
    "duration": 12,
    "start_time": "2022-12-15T13:42:38.489Z"
   },
   {
    "duration": 133,
    "start_time": "2022-12-15T13:42:38.945Z"
   },
   {
    "duration": 33,
    "start_time": "2022-12-15T13:42:39.123Z"
   },
   {
    "duration": 11,
    "start_time": "2022-12-15T13:42:39.538Z"
   },
   {
    "duration": 8,
    "start_time": "2022-12-15T13:42:39.737Z"
   },
   {
    "duration": 11,
    "start_time": "2022-12-15T13:42:39.945Z"
   },
   {
    "duration": 14,
    "start_time": "2022-12-15T13:42:40.359Z"
   },
   {
    "duration": 8,
    "start_time": "2022-12-15T13:42:40.566Z"
   },
   {
    "duration": 10,
    "start_time": "2022-12-15T13:42:40.783Z"
   },
   {
    "duration": 20,
    "start_time": "2022-12-15T13:42:40.991Z"
   },
   {
    "duration": 5,
    "start_time": "2022-12-15T13:42:41.647Z"
   },
   {
    "duration": 145,
    "start_time": "2022-12-15T13:42:41.855Z"
   },
   {
    "duration": 144,
    "start_time": "2022-12-15T13:42:42.055Z"
   },
   {
    "duration": 234,
    "start_time": "2022-12-15T13:42:42.264Z"
   },
   {
    "duration": 8,
    "start_time": "2022-12-15T13:42:42.671Z"
   },
   {
    "duration": 5,
    "start_time": "2022-12-15T13:42:42.883Z"
   },
   {
    "duration": 330,
    "start_time": "2022-12-15T13:42:43.103Z"
   },
   {
    "duration": 15,
    "start_time": "2022-12-15T13:42:43.519Z"
   },
   {
    "duration": 7,
    "start_time": "2022-12-15T13:42:43.750Z"
   },
   {
    "duration": 10,
    "start_time": "2022-12-15T13:42:44.406Z"
   },
   {
    "duration": 360,
    "start_time": "2022-12-15T13:42:44.622Z"
   },
   {
    "duration": 15,
    "start_time": "2022-12-15T13:42:45.063Z"
   },
   {
    "duration": 9,
    "start_time": "2022-12-15T13:42:45.518Z"
   },
   {
    "duration": 14,
    "start_time": "2022-12-15T13:42:46.222Z"
   },
   {
    "duration": 6,
    "start_time": "2022-12-15T13:42:46.911Z"
   },
   {
    "duration": 11,
    "start_time": "2022-12-15T13:42:46.919Z"
   },
   {
    "duration": 6,
    "start_time": "2022-12-15T13:42:47.100Z"
   },
   {
    "duration": 7,
    "start_time": "2022-12-15T13:42:47.540Z"
   },
   {
    "duration": 3,
    "start_time": "2022-12-15T13:42:47.757Z"
   },
   {
    "duration": 14446,
    "start_time": "2022-12-15T13:42:48.509Z"
   },
   {
    "duration": 1484,
    "start_time": "2022-12-15T13:43:02.957Z"
   },
   {
    "duration": 104882,
    "start_time": "2022-12-15T13:43:04.448Z"
   },
   {
    "duration": 3708,
    "start_time": "2022-12-15T13:44:49.336Z"
   },
   {
    "duration": 5384,
    "start_time": "2022-12-15T13:44:53.046Z"
   },
   {
    "duration": 24,
    "start_time": "2022-12-15T13:44:58.432Z"
   },
   {
    "duration": 8,
    "start_time": "2022-12-15T13:46:57.235Z"
   },
   {
    "duration": 9,
    "start_time": "2022-12-15T13:47:01.616Z"
   },
   {
    "duration": 9,
    "start_time": "2022-12-15T13:47:10.254Z"
   },
   {
    "duration": 14,
    "start_time": "2022-12-15T13:47:11.371Z"
   },
   {
    "duration": 17,
    "start_time": "2022-12-15T13:47:18.865Z"
   },
   {
    "duration": 3763,
    "start_time": "2022-12-15T13:47:22.145Z"
   },
   {
    "duration": 1492,
    "start_time": "2022-12-15T13:50:02.177Z"
   },
   {
    "duration": 3730,
    "start_time": "2022-12-15T13:50:09.492Z"
   },
   {
    "duration": 1512,
    "start_time": "2022-12-15T13:50:20.993Z"
   },
   {
    "duration": 5,
    "start_time": "2022-12-15T13:51:22.783Z"
   },
   {
    "duration": 743,
    "start_time": "2022-12-15T13:51:23.174Z"
   },
   {
    "duration": 22,
    "start_time": "2022-12-15T13:51:23.919Z"
   },
   {
    "duration": 19,
    "start_time": "2022-12-15T13:51:23.942Z"
   },
   {
    "duration": 3,
    "start_time": "2022-12-15T13:51:23.963Z"
   },
   {
    "duration": 18,
    "start_time": "2022-12-15T13:51:23.968Z"
   },
   {
    "duration": 6,
    "start_time": "2022-12-15T13:51:24.093Z"
   },
   {
    "duration": 6,
    "start_time": "2022-12-15T13:51:24.478Z"
   },
   {
    "duration": 5,
    "start_time": "2022-12-15T13:51:24.870Z"
   },
   {
    "duration": 11,
    "start_time": "2022-12-15T13:51:25.059Z"
   },
   {
    "duration": 125,
    "start_time": "2022-12-15T13:51:25.462Z"
   },
   {
    "duration": 29,
    "start_time": "2022-12-15T13:51:25.822Z"
   },
   {
    "duration": 12,
    "start_time": "2022-12-15T13:51:26.223Z"
   },
   {
    "duration": 9,
    "start_time": "2022-12-15T13:51:26.430Z"
   },
   {
    "duration": 14,
    "start_time": "2022-12-15T13:51:26.638Z"
   },
   {
    "duration": 21,
    "start_time": "2022-12-15T13:51:27.054Z"
   },
   {
    "duration": 9,
    "start_time": "2022-12-15T13:51:27.254Z"
   },
   {
    "duration": 12,
    "start_time": "2022-12-15T13:51:27.470Z"
   },
   {
    "duration": 23,
    "start_time": "2022-12-15T13:51:27.685Z"
   },
   {
    "duration": 7,
    "start_time": "2022-12-15T13:51:28.342Z"
   },
   {
    "duration": 140,
    "start_time": "2022-12-15T13:51:28.599Z"
   },
   {
    "duration": 215,
    "start_time": "2022-12-15T13:51:28.790Z"
   },
   {
    "duration": 180,
    "start_time": "2022-12-15T13:51:29.013Z"
   },
   {
    "duration": 9,
    "start_time": "2022-12-15T13:51:29.453Z"
   },
   {
    "duration": 5,
    "start_time": "2022-12-15T13:51:29.683Z"
   },
   {
    "duration": 327,
    "start_time": "2022-12-15T13:51:29.924Z"
   },
   {
    "duration": 15,
    "start_time": "2022-12-15T13:51:30.388Z"
   },
   {
    "duration": 6,
    "start_time": "2022-12-15T13:51:30.612Z"
   },
   {
    "duration": 9,
    "start_time": "2022-12-15T13:51:31.260Z"
   },
   {
    "duration": 500,
    "start_time": "2022-12-15T13:51:31.475Z"
   },
   {
    "duration": 18,
    "start_time": "2022-12-15T13:51:31.977Z"
   },
   {
    "duration": 9,
    "start_time": "2022-12-15T13:51:32.379Z"
   },
   {
    "duration": 15,
    "start_time": "2022-12-15T13:51:33.075Z"
   },
   {
    "duration": 6,
    "start_time": "2022-12-15T13:51:33.499Z"
   },
   {
    "duration": 7,
    "start_time": "2022-12-15T13:51:33.739Z"
   },
   {
    "duration": 7,
    "start_time": "2022-12-15T13:51:33.947Z"
   },
   {
    "duration": 7,
    "start_time": "2022-12-15T13:51:34.603Z"
   },
   {
    "duration": 3,
    "start_time": "2022-12-15T13:51:35.003Z"
   },
   {
    "duration": 20,
    "start_time": "2022-12-15T13:51:35.721Z"
   },
   {
    "duration": 14759,
    "start_time": "2022-12-15T13:51:48.837Z"
   },
   {
    "duration": 1304,
    "start_time": "2022-12-15T13:52:14.635Z"
   },
   {
    "duration": 106702,
    "start_time": "2022-12-15T13:52:25.310Z"
   },
   {
    "duration": 773,
    "start_time": "2022-12-15T13:54:12.014Z"
   },
   {
    "duration": 4,
    "start_time": "2022-12-15T13:55:30.752Z"
   },
   {
    "duration": 788,
    "start_time": "2022-12-15T13:55:31.148Z"
   },
   {
    "duration": 19,
    "start_time": "2022-12-15T13:55:31.939Z"
   },
   {
    "duration": 18,
    "start_time": "2022-12-15T13:55:33.109Z"
   },
   {
    "duration": 3,
    "start_time": "2022-12-15T13:55:33.308Z"
   },
   {
    "duration": 7,
    "start_time": "2022-12-15T13:55:33.532Z"
   },
   {
    "duration": 5,
    "start_time": "2022-12-15T13:55:33.743Z"
   },
   {
    "duration": 6,
    "start_time": "2022-12-15T13:55:34.133Z"
   },
   {
    "duration": 5,
    "start_time": "2022-12-15T13:55:34.676Z"
   },
   {
    "duration": 14,
    "start_time": "2022-12-15T13:55:34.964Z"
   },
   {
    "duration": 120,
    "start_time": "2022-12-15T13:55:35.386Z"
   },
   {
    "duration": 22,
    "start_time": "2022-12-15T13:55:35.595Z"
   },
   {
    "duration": 10,
    "start_time": "2022-12-15T13:55:35.993Z"
   },
   {
    "duration": 8,
    "start_time": "2022-12-15T13:55:36.185Z"
   },
   {
    "duration": 10,
    "start_time": "2022-12-15T13:55:36.378Z"
   },
   {
    "duration": 14,
    "start_time": "2022-12-15T13:55:36.786Z"
   },
   {
    "duration": 8,
    "start_time": "2022-12-15T13:55:37.018Z"
   },
   {
    "duration": 9,
    "start_time": "2022-12-15T13:55:37.201Z"
   },
   {
    "duration": 17,
    "start_time": "2022-12-15T13:55:37.417Z"
   },
   {
    "duration": 6,
    "start_time": "2022-12-15T13:55:38.049Z"
   },
   {
    "duration": 146,
    "start_time": "2022-12-15T13:55:38.266Z"
   },
   {
    "duration": 146,
    "start_time": "2022-12-15T13:55:38.458Z"
   },
   {
    "duration": 141,
    "start_time": "2022-12-15T13:55:38.668Z"
   },
   {
    "duration": 10,
    "start_time": "2022-12-15T13:55:39.082Z"
   },
   {
    "duration": 5,
    "start_time": "2022-12-15T13:55:39.289Z"
   },
   {
    "duration": 319,
    "start_time": "2022-12-15T13:55:39.489Z"
   },
   {
    "duration": 17,
    "start_time": "2022-12-15T13:55:40.457Z"
   },
   {
    "duration": 8,
    "start_time": "2022-12-15T13:55:41.015Z"
   },
   {
    "duration": 10,
    "start_time": "2022-12-15T13:55:43.024Z"
   },
   {
    "duration": 369,
    "start_time": "2022-12-15T13:55:43.550Z"
   },
   {
    "duration": 16,
    "start_time": "2022-12-15T13:55:44.631Z"
   },
   {
    "duration": 10,
    "start_time": "2022-12-15T13:55:45.760Z"
   },
   {
    "duration": 13,
    "start_time": "2022-12-15T13:55:46.887Z"
   },
   {
    "duration": 7,
    "start_time": "2022-12-15T13:55:48.340Z"
   },
   {
    "duration": 7,
    "start_time": "2022-12-15T13:55:48.556Z"
   },
   {
    "duration": 8,
    "start_time": "2022-12-15T13:55:49.148Z"
   },
   {
    "duration": 7,
    "start_time": "2022-12-15T13:55:51.348Z"
   },
   {
    "duration": 3,
    "start_time": "2022-12-15T13:55:51.692Z"
   },
   {
    "duration": 3,
    "start_time": "2022-12-15T13:55:52.659Z"
   },
   {
    "duration": 14571,
    "start_time": "2022-12-15T13:56:01.832Z"
   },
   {
    "duration": 1557,
    "start_time": "2022-12-15T13:56:23.792Z"
   },
   {
    "duration": 103888,
    "start_time": "2022-12-15T13:56:43.671Z"
   },
   {
    "duration": 745,
    "start_time": "2022-12-15T13:58:59.881Z"
   },
   {
    "duration": 9,
    "start_time": "2022-12-15T13:59:13.300Z"
   },
   {
    "duration": 4,
    "start_time": "2022-12-15T14:00:45.278Z"
   },
   {
    "duration": 766,
    "start_time": "2022-12-15T14:00:45.639Z"
   },
   {
    "duration": 4,
    "start_time": "2022-12-15T14:00:50.637Z"
   },
   {
    "duration": 722,
    "start_time": "2022-12-15T14:00:51.028Z"
   },
   {
    "duration": 16,
    "start_time": "2022-12-15T14:00:51.753Z"
   },
   {
    "duration": 33,
    "start_time": "2022-12-15T14:00:51.771Z"
   },
   {
    "duration": 4,
    "start_time": "2022-12-15T14:00:51.807Z"
   },
   {
    "duration": 21,
    "start_time": "2022-12-15T14:00:51.813Z"
   },
   {
    "duration": 6,
    "start_time": "2022-12-15T14:00:51.980Z"
   },
   {
    "duration": 5,
    "start_time": "2022-12-15T14:00:52.372Z"
   },
   {
    "duration": 6,
    "start_time": "2022-12-15T14:00:52.748Z"
   },
   {
    "duration": 14,
    "start_time": "2022-12-15T14:00:52.931Z"
   },
   {
    "duration": 130,
    "start_time": "2022-12-15T14:00:53.315Z"
   },
   {
    "duration": 21,
    "start_time": "2022-12-15T14:00:53.523Z"
   },
   {
    "duration": 10,
    "start_time": "2022-12-15T14:00:53.900Z"
   },
   {
    "duration": 9,
    "start_time": "2022-12-15T14:00:54.099Z"
   },
   {
    "duration": 10,
    "start_time": "2022-12-15T14:00:54.284Z"
   },
   {
    "duration": 15,
    "start_time": "2022-12-15T14:00:54.690Z"
   },
   {
    "duration": 8,
    "start_time": "2022-12-15T14:00:54.881Z"
   },
   {
    "duration": 10,
    "start_time": "2022-12-15T14:00:55.089Z"
   },
   {
    "duration": 18,
    "start_time": "2022-12-15T14:00:55.289Z"
   },
   {
    "duration": 6,
    "start_time": "2022-12-15T14:00:55.905Z"
   },
   {
    "duration": 168,
    "start_time": "2022-12-15T14:00:56.106Z"
   },
   {
    "duration": 170,
    "start_time": "2022-12-15T14:00:56.321Z"
   },
   {
    "duration": 156,
    "start_time": "2022-12-15T14:00:56.521Z"
   },
   {
    "duration": 12,
    "start_time": "2022-12-15T14:00:56.937Z"
   },
   {
    "duration": 6,
    "start_time": "2022-12-15T14:00:57.170Z"
   },
   {
    "duration": 522,
    "start_time": "2022-12-15T14:00:57.376Z"
   },
   {
    "duration": 17,
    "start_time": "2022-12-15T14:00:57.900Z"
   },
   {
    "duration": 7,
    "start_time": "2022-12-15T14:00:58.017Z"
   },
   {
    "duration": 11,
    "start_time": "2022-12-15T14:00:58.666Z"
   },
   {
    "duration": 496,
    "start_time": "2022-12-15T14:00:58.873Z"
   },
   {
    "duration": 17,
    "start_time": "2022-12-15T14:00:59.371Z"
   },
   {
    "duration": 10,
    "start_time": "2022-12-15T14:00:59.737Z"
   },
   {
    "duration": 18,
    "start_time": "2022-12-15T14:01:00.369Z"
   },
   {
    "duration": 8,
    "start_time": "2022-12-15T14:01:00.785Z"
   },
   {
    "duration": 8,
    "start_time": "2022-12-15T14:01:01.015Z"
   },
   {
    "duration": 7,
    "start_time": "2022-12-15T14:01:01.231Z"
   },
   {
    "duration": 8,
    "start_time": "2022-12-15T14:01:01.665Z"
   },
   {
    "duration": 4,
    "start_time": "2022-12-15T14:01:01.895Z"
   },
   {
    "duration": 3,
    "start_time": "2022-12-15T14:01:02.319Z"
   },
   {
    "duration": 15118,
    "start_time": "2022-12-15T14:01:02.527Z"
   },
   {
    "duration": 1992,
    "start_time": "2022-12-15T14:01:17.647Z"
   },
   {
    "duration": 11934,
    "start_time": "2022-12-15T14:01:19.640Z"
   },
   {
    "duration": 0,
    "start_time": "2022-12-15T14:01:31.576Z"
   },
   {
    "duration": 0,
    "start_time": "2022-12-15T14:01:31.577Z"
   },
   {
    "duration": 2501,
    "start_time": "2022-12-16T12:57:14.721Z"
   },
   {
    "duration": 2134,
    "start_time": "2022-12-16T12:57:17.224Z"
   },
   {
    "duration": 15,
    "start_time": "2022-12-16T12:57:19.360Z"
   },
   {
    "duration": 19,
    "start_time": "2022-12-16T12:57:19.377Z"
   },
   {
    "duration": 3,
    "start_time": "2022-12-16T12:57:19.397Z"
   },
   {
    "duration": 11,
    "start_time": "2022-12-16T12:57:19.401Z"
   },
   {
    "duration": 5,
    "start_time": "2022-12-16T12:57:19.413Z"
   },
   {
    "duration": 7,
    "start_time": "2022-12-16T12:57:19.419Z"
   },
   {
    "duration": 7,
    "start_time": "2022-12-16T12:57:19.428Z"
   },
   {
    "duration": 41,
    "start_time": "2022-12-16T12:57:19.437Z"
   },
   {
    "duration": 123,
    "start_time": "2022-12-16T12:57:19.706Z"
   },
   {
    "duration": 22,
    "start_time": "2022-12-16T12:57:20.041Z"
   },
   {
    "duration": 8,
    "start_time": "2022-12-16T12:57:21.197Z"
   },
   {
    "duration": 6,
    "start_time": "2022-12-16T12:57:21.430Z"
   },
   {
    "duration": 9,
    "start_time": "2022-12-16T12:57:21.839Z"
   },
   {
    "duration": 13,
    "start_time": "2022-12-16T12:57:22.318Z"
   },
   {
    "duration": 6,
    "start_time": "2022-12-16T12:57:22.520Z"
   },
   {
    "duration": 9,
    "start_time": "2022-12-16T12:57:22.871Z"
   },
   {
    "duration": 16,
    "start_time": "2022-12-16T12:57:23.120Z"
   },
   {
    "duration": 5,
    "start_time": "2022-12-16T12:57:24.620Z"
   },
   {
    "duration": 158,
    "start_time": "2022-12-16T12:57:24.866Z"
   },
   {
    "duration": 153,
    "start_time": "2022-12-16T12:57:25.100Z"
   },
   {
    "duration": 120,
    "start_time": "2022-12-16T12:57:25.341Z"
   },
   {
    "duration": 10,
    "start_time": "2022-12-16T12:57:27.044Z"
   },
   {
    "duration": 4,
    "start_time": "2022-12-16T12:57:27.334Z"
   },
   {
    "duration": 383,
    "start_time": "2022-12-16T12:57:28.208Z"
   },
   {
    "duration": 15,
    "start_time": "2022-12-16T12:57:30.941Z"
   },
   {
    "duration": 6,
    "start_time": "2022-12-16T12:57:31.314Z"
   },
   {
    "duration": 17,
    "start_time": "2022-12-16T12:57:57.183Z"
   },
   {
    "duration": 6,
    "start_time": "2022-12-16T13:00:19.497Z"
   },
   {
    "duration": 1595,
    "start_time": "2022-12-16T13:26:17.956Z"
   },
   {
    "duration": 684,
    "start_time": "2022-12-16T13:26:19.553Z"
   },
   {
    "duration": 14,
    "start_time": "2022-12-16T13:26:20.238Z"
   },
   {
    "duration": 33,
    "start_time": "2022-12-16T13:26:20.254Z"
   },
   {
    "duration": 6,
    "start_time": "2022-12-16T13:26:20.289Z"
   },
   {
    "duration": 29,
    "start_time": "2022-12-16T13:26:20.297Z"
   },
   {
    "duration": 4,
    "start_time": "2022-12-16T13:26:20.328Z"
   },
   {
    "duration": 7,
    "start_time": "2022-12-16T13:26:20.334Z"
   },
   {
    "duration": 8,
    "start_time": "2022-12-16T13:26:20.343Z"
   },
   {
    "duration": 18,
    "start_time": "2022-12-16T13:26:20.353Z"
   },
   {
    "duration": 138,
    "start_time": "2022-12-16T13:26:20.378Z"
   },
   {
    "duration": 32,
    "start_time": "2022-12-16T13:26:20.517Z"
   },
   {
    "duration": 28,
    "start_time": "2022-12-16T13:26:20.551Z"
   },
   {
    "duration": 8,
    "start_time": "2022-12-16T13:26:20.581Z"
   },
   {
    "duration": 11,
    "start_time": "2022-12-16T13:26:20.591Z"
   },
   {
    "duration": 19,
    "start_time": "2022-12-16T13:26:20.604Z"
   },
   {
    "duration": 9,
    "start_time": "2022-12-16T13:26:20.625Z"
   },
   {
    "duration": 49,
    "start_time": "2022-12-16T13:26:20.636Z"
   },
   {
    "duration": 24,
    "start_time": "2022-12-16T13:26:20.688Z"
   },
   {
    "duration": 7,
    "start_time": "2022-12-16T13:26:20.715Z"
   },
   {
    "duration": 198,
    "start_time": "2022-12-16T13:26:20.724Z"
   },
   {
    "duration": 191,
    "start_time": "2022-12-16T13:26:20.924Z"
   },
   {
    "duration": 142,
    "start_time": "2022-12-16T13:26:21.117Z"
   },
   {
    "duration": 19,
    "start_time": "2022-12-16T13:26:21.261Z"
   },
   {
    "duration": 11,
    "start_time": "2022-12-16T13:26:21.282Z"
   },
   {
    "duration": 304,
    "start_time": "2022-12-16T13:26:21.295Z"
   },
   {
    "duration": 14,
    "start_time": "2022-12-16T13:26:21.602Z"
   },
   {
    "duration": 19,
    "start_time": "2022-12-16T13:26:21.619Z"
   },
   {
    "duration": 17,
    "start_time": "2022-12-16T13:26:21.639Z"
   },
   {
    "duration": 444,
    "start_time": "2022-12-16T13:26:21.658Z"
   },
   {
    "duration": 22,
    "start_time": "2022-12-16T13:26:22.104Z"
   },
   {
    "duration": 13,
    "start_time": "2022-12-16T13:26:22.128Z"
   },
   {
    "duration": 35,
    "start_time": "2022-12-16T13:26:22.143Z"
   },
   {
    "duration": 13,
    "start_time": "2022-12-16T13:26:22.180Z"
   },
   {
    "duration": 26,
    "start_time": "2022-12-16T13:26:22.194Z"
   },
   {
    "duration": 34,
    "start_time": "2022-12-16T13:26:22.221Z"
   },
   {
    "duration": 20,
    "start_time": "2022-12-16T13:26:22.257Z"
   },
   {
    "duration": 30,
    "start_time": "2022-12-16T13:26:22.279Z"
   },
   {
    "duration": 14,
    "start_time": "2022-12-16T13:26:22.310Z"
   },
   {
    "duration": 134,
    "start_time": "2022-12-16T13:26:22.326Z"
   },
   {
    "duration": 0,
    "start_time": "2022-12-16T13:26:22.462Z"
   },
   {
    "duration": 0,
    "start_time": "2022-12-16T13:26:22.463Z"
   },
   {
    "duration": 0,
    "start_time": "2022-12-16T13:26:22.464Z"
   },
   {
    "duration": 0,
    "start_time": "2022-12-16T13:26:22.466Z"
   },
   {
    "duration": 1583,
    "start_time": "2022-12-16T13:30:19.048Z"
   },
   {
    "duration": 661,
    "start_time": "2022-12-16T13:30:20.633Z"
   },
   {
    "duration": 13,
    "start_time": "2022-12-16T13:30:21.296Z"
   },
   {
    "duration": 14,
    "start_time": "2022-12-16T13:30:21.311Z"
   },
   {
    "duration": 3,
    "start_time": "2022-12-16T13:30:21.326Z"
   },
   {
    "duration": 13,
    "start_time": "2022-12-16T13:30:21.330Z"
   },
   {
    "duration": 4,
    "start_time": "2022-12-16T13:30:21.345Z"
   },
   {
    "duration": 29,
    "start_time": "2022-12-16T13:30:21.350Z"
   },
   {
    "duration": 11,
    "start_time": "2022-12-16T13:30:21.380Z"
   },
   {
    "duration": 15,
    "start_time": "2022-12-16T13:30:21.393Z"
   },
   {
    "duration": 131,
    "start_time": "2022-12-16T13:30:21.410Z"
   },
   {
    "duration": 21,
    "start_time": "2022-12-16T13:30:21.542Z"
   },
   {
    "duration": 18,
    "start_time": "2022-12-16T13:30:21.564Z"
   },
   {
    "duration": 7,
    "start_time": "2022-12-16T13:30:21.584Z"
   },
   {
    "duration": 22,
    "start_time": "2022-12-16T13:30:21.593Z"
   },
   {
    "duration": 14,
    "start_time": "2022-12-16T13:30:21.617Z"
   },
   {
    "duration": 7,
    "start_time": "2022-12-16T13:30:21.632Z"
   },
   {
    "duration": 8,
    "start_time": "2022-12-16T13:30:21.641Z"
   },
   {
    "duration": 42,
    "start_time": "2022-12-16T13:30:21.651Z"
   },
   {
    "duration": 5,
    "start_time": "2022-12-16T13:30:21.695Z"
   },
   {
    "duration": 169,
    "start_time": "2022-12-16T13:30:21.702Z"
   },
   {
    "duration": 149,
    "start_time": "2022-12-16T13:30:21.878Z"
   },
   {
    "duration": 142,
    "start_time": "2022-12-16T13:30:22.029Z"
   },
   {
    "duration": 11,
    "start_time": "2022-12-16T13:30:22.178Z"
   },
   {
    "duration": 13,
    "start_time": "2022-12-16T13:30:22.191Z"
   },
   {
    "duration": 329,
    "start_time": "2022-12-16T13:30:22.206Z"
   },
   {
    "duration": 15,
    "start_time": "2022-12-16T13:30:22.536Z"
   },
   {
    "duration": 6,
    "start_time": "2022-12-16T13:30:22.554Z"
   },
   {
    "duration": 26,
    "start_time": "2022-12-16T13:30:22.561Z"
   },
   {
    "duration": 497,
    "start_time": "2022-12-16T13:30:22.590Z"
   },
   {
    "duration": 19,
    "start_time": "2022-12-16T13:30:23.090Z"
   },
   {
    "duration": 12,
    "start_time": "2022-12-16T13:30:23.111Z"
   },
   {
    "duration": 15,
    "start_time": "2022-12-16T13:30:23.125Z"
   },
   {
    "duration": 7,
    "start_time": "2022-12-16T13:30:23.142Z"
   },
   {
    "duration": 33,
    "start_time": "2022-12-16T13:30:23.150Z"
   },
   {
    "duration": 10,
    "start_time": "2022-12-16T13:30:23.185Z"
   },
   {
    "duration": 8,
    "start_time": "2022-12-16T13:30:23.197Z"
   },
   {
    "duration": 7,
    "start_time": "2022-12-16T13:30:23.207Z"
   },
   {
    "duration": 8,
    "start_time": "2022-12-16T13:30:23.216Z"
   },
   {
    "duration": 8,
    "start_time": "2022-12-16T13:30:23.226Z"
   },
   {
    "duration": 13387,
    "start_time": "2022-12-16T13:30:23.236Z"
   },
   {
    "duration": 1254,
    "start_time": "2022-12-16T13:30:36.624Z"
   },
   {
    "duration": 41085,
    "start_time": "2022-12-16T13:30:37.880Z"
   },
   {
    "duration": 699,
    "start_time": "2022-12-16T13:31:18.966Z"
   },
   {
    "duration": 14,
    "start_time": "2022-12-16T13:31:19.666Z"
   },
   {
    "duration": 1561,
    "start_time": "2022-12-17T07:19:00.912Z"
   },
   {
    "duration": 2135,
    "start_time": "2022-12-17T07:19:02.476Z"
   },
   {
    "duration": 14,
    "start_time": "2022-12-17T07:19:04.613Z"
   },
   {
    "duration": 23,
    "start_time": "2022-12-17T07:19:04.629Z"
   },
   {
    "duration": 23,
    "start_time": "2022-12-17T07:19:04.654Z"
   },
   {
    "duration": 25,
    "start_time": "2022-12-17T07:19:04.679Z"
   },
   {
    "duration": 20,
    "start_time": "2022-12-17T07:19:04.705Z"
   },
   {
    "duration": 20,
    "start_time": "2022-12-17T07:19:04.727Z"
   },
   {
    "duration": 35,
    "start_time": "2022-12-17T07:19:04.749Z"
   },
   {
    "duration": 26,
    "start_time": "2022-12-17T07:19:04.786Z"
   },
   {
    "duration": 113,
    "start_time": "2022-12-17T07:19:12.348Z"
   },
   {
    "duration": 21,
    "start_time": "2022-12-17T07:19:12.596Z"
   },
   {
    "duration": 9,
    "start_time": "2022-12-17T07:19:12.996Z"
   },
   {
    "duration": 7,
    "start_time": "2022-12-17T07:19:13.220Z"
   },
   {
    "duration": 9,
    "start_time": "2022-12-17T07:19:17.410Z"
   },
   {
    "duration": 11,
    "start_time": "2022-12-17T07:19:19.397Z"
   },
   {
    "duration": 2,
    "start_time": "2022-12-17T07:19:21.937Z"
   },
   {
    "duration": 2,
    "start_time": "2022-12-17T07:19:23.750Z"
   },
   {
    "duration": 26,
    "start_time": "2022-12-17T07:19:33.542Z"
   },
   {
    "duration": 73,
    "start_time": "2022-12-17T07:19:54.460Z"
   },
   {
    "duration": 69,
    "start_time": "2022-12-17T07:19:58.891Z"
   },
   {
    "duration": 10,
    "start_time": "2022-12-17T07:21:42.666Z"
   },
   {
    "duration": 11,
    "start_time": "2022-12-17T07:21:54.500Z"
   },
   {
    "duration": 16,
    "start_time": "2022-12-17T07:22:06.249Z"
   },
   {
    "duration": 10,
    "start_time": "2022-12-17T07:23:11.933Z"
   },
   {
    "duration": 179,
    "start_time": "2022-12-17T07:23:52.812Z"
   },
   {
    "duration": 1234,
    "start_time": "2022-12-17T07:24:00.683Z"
   },
   {
    "duration": 6,
    "start_time": "2022-12-17T07:24:28.705Z"
   },
   {
    "duration": 10,
    "start_time": "2022-12-17T07:25:56.713Z"
   },
   {
    "duration": 8,
    "start_time": "2022-12-17T07:26:09.464Z"
   },
   {
    "duration": 28,
    "start_time": "2022-12-17T07:26:18.805Z"
   },
   {
    "duration": 4,
    "start_time": "2022-12-17T07:27:07.075Z"
   },
   {
    "duration": 27,
    "start_time": "2022-12-17T07:27:09.369Z"
   },
   {
    "duration": 26,
    "start_time": "2022-12-17T07:27:29.601Z"
   },
   {
    "duration": 67,
    "start_time": "2022-12-17T07:27:44.924Z"
   },
   {
    "duration": 3,
    "start_time": "2022-12-17T07:29:04.636Z"
   },
   {
    "duration": 271,
    "start_time": "2022-12-17T07:29:07.118Z"
   },
   {
    "duration": 71,
    "start_time": "2022-12-17T07:30:13.784Z"
   },
   {
    "duration": 5,
    "start_time": "2022-12-17T07:30:52.651Z"
   },
   {
    "duration": 7,
    "start_time": "2022-12-17T07:30:54.803Z"
   },
   {
    "duration": 7,
    "start_time": "2022-12-17T07:31:58.650Z"
   },
   {
    "duration": 7,
    "start_time": "2022-12-17T07:32:01.652Z"
   },
   {
    "duration": 10,
    "start_time": "2022-12-17T07:33:14.079Z"
   },
   {
    "duration": 6,
    "start_time": "2022-12-17T07:33:17.567Z"
   },
   {
    "duration": 5,
    "start_time": "2022-12-17T07:34:08.897Z"
   },
   {
    "duration": 10,
    "start_time": "2022-12-17T07:34:19.054Z"
   },
   {
    "duration": 5,
    "start_time": "2022-12-17T07:40:06.307Z"
   },
   {
    "duration": 7,
    "start_time": "2022-12-17T07:40:07.180Z"
   },
   {
    "duration": 6,
    "start_time": "2022-12-17T07:40:16.158Z"
   },
   {
    "duration": 3,
    "start_time": "2022-12-17T07:40:27.295Z"
   },
   {
    "duration": 5,
    "start_time": "2022-12-17T07:40:27.843Z"
   },
   {
    "duration": 40,
    "start_time": "2022-12-17T07:40:28.450Z"
   },
   {
    "duration": 5,
    "start_time": "2022-12-17T07:42:33.921Z"
   },
   {
    "duration": 21,
    "start_time": "2022-12-17T07:42:35.065Z"
   },
   {
    "duration": 1416,
    "start_time": "2022-12-17T07:42:41.998Z"
   },
   {
    "duration": 9,
    "start_time": "2022-12-17T08:10:21.063Z"
   },
   {
    "duration": 10,
    "start_time": "2022-12-17T08:11:19.584Z"
   },
   {
    "duration": 3,
    "start_time": "2022-12-17T08:11:30.809Z"
   },
   {
    "duration": 5,
    "start_time": "2022-12-17T08:11:41.062Z"
   },
   {
    "duration": 4,
    "start_time": "2022-12-17T08:11:43.673Z"
   },
   {
    "duration": 6,
    "start_time": "2022-12-17T08:15:26.429Z"
   },
   {
    "duration": 6,
    "start_time": "2022-12-17T08:15:28.512Z"
   },
   {
    "duration": 35,
    "start_time": "2022-12-17T08:15:30.915Z"
   },
   {
    "duration": 7,
    "start_time": "2022-12-17T08:16:00.422Z"
   },
   {
    "duration": 327,
    "start_time": "2022-12-17T08:16:00.847Z"
   },
   {
    "duration": 14,
    "start_time": "2022-12-17T08:25:36.436Z"
   },
   {
    "duration": 19,
    "start_time": "2022-12-17T08:25:51.163Z"
   },
   {
    "duration": 9,
    "start_time": "2022-12-17T08:35:36.629Z"
   },
   {
    "duration": 1217,
    "start_time": "2022-12-17T08:35:41.449Z"
   },
   {
    "duration": 7,
    "start_time": "2022-12-17T08:38:19.930Z"
   },
   {
    "duration": 183,
    "start_time": "2022-12-17T08:38:20.250Z"
   },
   {
    "duration": 151,
    "start_time": "2022-12-17T08:38:25.664Z"
   },
   {
    "duration": 144,
    "start_time": "2022-12-17T08:38:25.920Z"
   },
   {
    "duration": 12,
    "start_time": "2022-12-17T08:50:31.655Z"
   },
   {
    "duration": 7,
    "start_time": "2022-12-17T08:50:38.499Z"
   },
   {
    "duration": 14,
    "start_time": "2022-12-17T08:50:43.040Z"
   },
   {
    "duration": 18,
    "start_time": "2022-12-17T08:50:49.356Z"
   },
   {
    "duration": 9,
    "start_time": "2022-12-17T08:52:33.056Z"
   },
   {
    "duration": 4,
    "start_time": "2022-12-17T08:53:37.148Z"
   },
   {
    "duration": 9,
    "start_time": "2022-12-17T08:53:48.880Z"
   },
   {
    "duration": 145,
    "start_time": "2022-12-17T08:54:51.488Z"
   },
   {
    "duration": 15,
    "start_time": "2022-12-17T08:55:00.612Z"
   },
   {
    "duration": 5,
    "start_time": "2022-12-17T08:55:10.121Z"
   },
   {
    "duration": 586,
    "start_time": "2022-12-17T08:55:18.277Z"
   },
   {
    "duration": 16,
    "start_time": "2022-12-17T08:55:50.043Z"
   },
   {
    "duration": 6,
    "start_time": "2022-12-17T08:55:56.055Z"
   },
   {
    "duration": 168,
    "start_time": "2022-12-17T08:55:58.412Z"
   },
   {
    "duration": 1931,
    "start_time": "2022-12-17T08:59:11.057Z"
   },
   {
    "duration": 128,
    "start_time": "2022-12-17T08:59:49.586Z"
   },
   {
    "duration": 126,
    "start_time": "2022-12-17T09:00:07.810Z"
   },
   {
    "duration": 11,
    "start_time": "2022-12-17T09:00:55.338Z"
   },
   {
    "duration": 13,
    "start_time": "2022-12-17T09:01:14.839Z"
   },
   {
    "duration": 120,
    "start_time": "2022-12-17T09:01:46.834Z"
   },
   {
    "duration": 137,
    "start_time": "2022-12-17T09:01:51.345Z"
   },
   {
    "duration": 126,
    "start_time": "2022-12-17T09:02:00.307Z"
   },
   {
    "duration": 143,
    "start_time": "2022-12-17T09:02:07.800Z"
   },
   {
    "duration": 7,
    "start_time": "2022-12-17T09:02:18.548Z"
   },
   {
    "duration": 260,
    "start_time": "2022-12-17T09:02:18.843Z"
   },
   {
    "duration": 198,
    "start_time": "2022-12-17T09:02:19.105Z"
   },
   {
    "duration": 148,
    "start_time": "2022-12-17T09:02:19.342Z"
   },
   {
    "duration": 13,
    "start_time": "2022-12-17T09:02:20.083Z"
   },
   {
    "duration": 348,
    "start_time": "2022-12-17T09:02:33.823Z"
   },
   {
    "duration": 411,
    "start_time": "2022-12-17T09:03:01.795Z"
   },
   {
    "duration": 350,
    "start_time": "2022-12-17T09:03:25.819Z"
   },
   {
    "duration": 328,
    "start_time": "2022-12-17T09:04:36.831Z"
   },
   {
    "duration": 432,
    "start_time": "2022-12-17T09:04:44.955Z"
   },
   {
    "duration": 532,
    "start_time": "2022-12-17T09:05:21.365Z"
   },
   {
    "duration": 126,
    "start_time": "2022-12-17T09:05:35.725Z"
   },
   {
    "duration": 690,
    "start_time": "2022-12-17T09:06:41.941Z"
   },
   {
    "duration": 342,
    "start_time": "2022-12-17T09:12:21.846Z"
   },
   {
    "duration": 1602,
    "start_time": "2022-12-17T09:13:34.160Z"
   },
   {
    "duration": 1562,
    "start_time": "2022-12-17T09:17:28.697Z"
   },
   {
    "duration": 1284,
    "start_time": "2022-12-17T09:17:56.516Z"
   },
   {
    "duration": 1550,
    "start_time": "2022-12-17T09:18:01.156Z"
   },
   {
    "duration": 13,
    "start_time": "2022-12-17T09:18:27.837Z"
   },
   {
    "duration": 1336,
    "start_time": "2022-12-17T09:18:46.675Z"
   },
   {
    "duration": 31,
    "start_time": "2022-12-17T09:21:54.986Z"
   },
   {
    "duration": 1183,
    "start_time": "2022-12-17T09:22:13.392Z"
   },
   {
    "duration": 1114,
    "start_time": "2022-12-17T09:27:13.840Z"
   },
   {
    "duration": 964,
    "start_time": "2022-12-17T09:27:16.885Z"
   },
   {
    "duration": 1209,
    "start_time": "2022-12-17T09:27:34.975Z"
   },
   {
    "duration": 1186,
    "start_time": "2022-12-17T09:27:45.371Z"
   },
   {
    "duration": 903,
    "start_time": "2022-12-17T09:28:40.348Z"
   },
   {
    "duration": 914,
    "start_time": "2022-12-17T09:28:55.343Z"
   },
   {
    "duration": 903,
    "start_time": "2022-12-17T09:28:59.060Z"
   },
   {
    "duration": 70,
    "start_time": "2022-12-17T09:30:46.803Z"
   },
   {
    "duration": 84,
    "start_time": "2022-12-17T09:30:58.220Z"
   },
   {
    "duration": 9,
    "start_time": "2022-12-17T09:31:27.587Z"
   },
   {
    "duration": 3,
    "start_time": "2022-12-17T09:31:47.891Z"
   },
   {
    "duration": 944,
    "start_time": "2022-12-17T09:31:49.296Z"
   },
   {
    "duration": 2933,
    "start_time": "2022-12-17T09:32:06.531Z"
   },
   {
    "duration": 905,
    "start_time": "2022-12-17T09:32:17.951Z"
   },
   {
    "duration": 9,
    "start_time": "2022-12-17T09:32:24.571Z"
   },
   {
    "duration": 1111,
    "start_time": "2022-12-17T09:32:29.337Z"
   },
   {
    "duration": 1124,
    "start_time": "2022-12-17T09:32:51.936Z"
   },
   {
    "duration": 3,
    "start_time": "2022-12-17T09:33:15.502Z"
   },
   {
    "duration": 1223,
    "start_time": "2022-12-17T09:33:16.045Z"
   },
   {
    "duration": 3,
    "start_time": "2022-12-17T09:33:38.606Z"
   },
   {
    "duration": 942,
    "start_time": "2022-12-17T09:33:42.604Z"
   },
   {
    "duration": 4,
    "start_time": "2022-12-17T09:34:05.947Z"
   },
   {
    "duration": 368,
    "start_time": "2022-12-17T09:34:07.306Z"
   },
   {
    "duration": 4,
    "start_time": "2022-12-17T09:34:22.685Z"
   },
   {
    "duration": 4,
    "start_time": "2022-12-17T09:36:31.848Z"
   },
   {
    "duration": 4,
    "start_time": "2022-12-17T09:39:38.845Z"
   },
   {
    "duration": 3,
    "start_time": "2022-12-17T09:40:11.225Z"
   },
   {
    "duration": 1244,
    "start_time": "2022-12-17T09:40:46.507Z"
   },
   {
    "duration": 4,
    "start_time": "2022-12-17T09:41:59.638Z"
   },
   {
    "duration": 527,
    "start_time": "2022-12-17T09:42:02.036Z"
   },
   {
    "duration": 6,
    "start_time": "2022-12-17T09:44:14.383Z"
   },
   {
    "duration": 4,
    "start_time": "2022-12-17T09:45:10.353Z"
   },
   {
    "duration": 424,
    "start_time": "2022-12-17T09:45:11.378Z"
   },
   {
    "duration": 4,
    "start_time": "2022-12-17T09:45:21.299Z"
   },
   {
    "duration": 979,
    "start_time": "2022-12-17T09:45:23.084Z"
   },
   {
    "duration": 3,
    "start_time": "2022-12-17T09:50:27.779Z"
   },
   {
    "duration": 16,
    "start_time": "2022-12-17T09:50:28.625Z"
   },
   {
    "duration": 4,
    "start_time": "2022-12-17T09:50:44.772Z"
   },
   {
    "duration": 14,
    "start_time": "2022-12-17T09:50:45.475Z"
   },
   {
    "duration": 3,
    "start_time": "2022-12-17T09:50:59.702Z"
   },
   {
    "duration": 1325,
    "start_time": "2022-12-17T09:51:00.405Z"
   },
   {
    "duration": 89,
    "start_time": "2022-12-17T09:54:59.005Z"
   },
   {
    "duration": 3,
    "start_time": "2022-12-17T09:55:03.693Z"
   },
   {
    "duration": 1078,
    "start_time": "2022-12-17T09:55:04.629Z"
   },
   {
    "duration": 4,
    "start_time": "2022-12-17T09:55:46.076Z"
   },
   {
    "duration": 19,
    "start_time": "2022-12-17T09:55:46.755Z"
   },
   {
    "duration": 4,
    "start_time": "2022-12-17T09:56:42.334Z"
   },
   {
    "duration": 382,
    "start_time": "2022-12-17T09:56:43.940Z"
   },
   {
    "duration": 4,
    "start_time": "2022-12-17T09:57:40.062Z"
   },
   {
    "duration": 334,
    "start_time": "2022-12-17T09:57:40.845Z"
   },
   {
    "duration": 4,
    "start_time": "2022-12-17T09:57:58.543Z"
   },
   {
    "duration": 409,
    "start_time": "2022-12-17T09:57:59.478Z"
   },
   {
    "duration": 4,
    "start_time": "2022-12-17T09:58:17.550Z"
   },
   {
    "duration": 347,
    "start_time": "2022-12-17T09:58:18.430Z"
   },
   {
    "duration": 4,
    "start_time": "2022-12-17T09:58:32.865Z"
   },
   {
    "duration": 480,
    "start_time": "2022-12-17T09:58:33.689Z"
   },
   {
    "duration": 3,
    "start_time": "2022-12-17T09:58:46.923Z"
   },
   {
    "duration": 1376,
    "start_time": "2022-12-17T09:58:47.499Z"
   },
   {
    "duration": 76,
    "start_time": "2022-12-17T09:59:43.364Z"
   },
   {
    "duration": 1394,
    "start_time": "2022-12-17T09:59:43.571Z"
   },
   {
    "duration": 3,
    "start_time": "2022-12-17T09:59:52.545Z"
   },
   {
    "duration": 897,
    "start_time": "2022-12-17T09:59:52.753Z"
   },
   {
    "duration": 4,
    "start_time": "2022-12-17T10:00:43.860Z"
   },
   {
    "duration": 1249,
    "start_time": "2022-12-17T10:00:45.206Z"
   },
   {
    "duration": 4,
    "start_time": "2022-12-17T10:01:51.704Z"
   },
   {
    "duration": 1220,
    "start_time": "2022-12-17T10:01:52.337Z"
   },
   {
    "duration": 4,
    "start_time": "2022-12-17T10:03:42.981Z"
   },
   {
    "duration": 1180,
    "start_time": "2022-12-17T10:03:45.068Z"
   },
   {
    "duration": 4,
    "start_time": "2022-12-17T10:03:56.863Z"
   },
   {
    "duration": 1029,
    "start_time": "2022-12-17T10:03:57.335Z"
   },
   {
    "duration": 3,
    "start_time": "2022-12-17T10:04:36.361Z"
   },
   {
    "duration": 963,
    "start_time": "2022-12-17T10:04:37.895Z"
   },
   {
    "duration": 5,
    "start_time": "2022-12-17T10:08:00.672Z"
   },
   {
    "duration": 30,
    "start_time": "2022-12-17T10:08:01.129Z"
   },
   {
    "duration": 4,
    "start_time": "2022-12-17T10:08:23.943Z"
   },
   {
    "duration": 1532,
    "start_time": "2022-12-17T10:08:25.049Z"
   },
   {
    "duration": 4,
    "start_time": "2022-12-17T10:09:21.943Z"
   },
   {
    "duration": 18,
    "start_time": "2022-12-17T10:09:22.550Z"
   },
   {
    "duration": 4,
    "start_time": "2022-12-17T10:09:37.209Z"
   },
   {
    "duration": 23,
    "start_time": "2022-12-17T10:09:37.904Z"
   },
   {
    "duration": 4,
    "start_time": "2022-12-17T10:09:54.838Z"
   },
   {
    "duration": 0,
    "start_time": "2022-12-17T10:13:43.126Z"
   },
   {
    "duration": 0,
    "start_time": "2022-12-17T10:13:43.128Z"
   },
   {
    "duration": 4,
    "start_time": "2022-12-17T10:14:08.581Z"
   },
   {
    "duration": 1358,
    "start_time": "2022-12-17T10:14:11.893Z"
   },
   {
    "duration": 5,
    "start_time": "2022-12-17T10:14:21.449Z"
   },
   {
    "duration": 1072,
    "start_time": "2022-12-17T10:14:21.967Z"
   },
   {
    "duration": 5,
    "start_time": "2022-12-17T10:15:57.507Z"
   },
   {
    "duration": 1650,
    "start_time": "2022-12-17T10:15:58.931Z"
   },
   {
    "duration": 5,
    "start_time": "2022-12-17T10:16:27.751Z"
   },
   {
    "duration": 1285,
    "start_time": "2022-12-17T10:16:31.141Z"
   },
   {
    "duration": 1204,
    "start_time": "2022-12-17T10:16:34.827Z"
   },
   {
    "duration": 5,
    "start_time": "2022-12-17T10:18:56.676Z"
   },
   {
    "duration": 468,
    "start_time": "2022-12-17T10:18:57.673Z"
   },
   {
    "duration": 5,
    "start_time": "2022-12-17T10:19:09.679Z"
   },
   {
    "duration": 247,
    "start_time": "2022-12-17T10:19:11.101Z"
   },
   {
    "duration": 7,
    "start_time": "2022-12-17T10:19:25.882Z"
   },
   {
    "duration": 524,
    "start_time": "2022-12-17T10:19:26.871Z"
   },
   {
    "duration": 4,
    "start_time": "2022-12-17T10:20:03.145Z"
   },
   {
    "duration": 505,
    "start_time": "2022-12-17T10:20:03.843Z"
   },
   {
    "duration": 5,
    "start_time": "2022-12-17T10:20:44.340Z"
   },
   {
    "duration": 1161,
    "start_time": "2022-12-17T10:20:44.550Z"
   },
   {
    "duration": 3,
    "start_time": "2022-12-17T10:22:12.045Z"
   },
   {
    "duration": 368,
    "start_time": "2022-12-17T10:22:12.701Z"
   },
   {
    "duration": 4,
    "start_time": "2022-12-17T10:22:59.034Z"
   },
   {
    "duration": 1020,
    "start_time": "2022-12-17T10:22:59.874Z"
   },
   {
    "duration": 4,
    "start_time": "2022-12-17T10:23:07.935Z"
   },
   {
    "duration": 1039,
    "start_time": "2022-12-17T10:23:08.799Z"
   },
   {
    "duration": 4,
    "start_time": "2022-12-17T10:23:42.953Z"
   },
   {
    "duration": 399,
    "start_time": "2022-12-17T10:23:43.576Z"
   },
   {
    "duration": 3,
    "start_time": "2022-12-17T10:24:10.279Z"
   },
   {
    "duration": 959,
    "start_time": "2022-12-17T10:24:11.189Z"
   },
   {
    "duration": 4,
    "start_time": "2022-12-17T10:24:35.502Z"
   },
   {
    "duration": 1434,
    "start_time": "2022-12-17T10:24:36.266Z"
   },
   {
    "duration": 4,
    "start_time": "2022-12-17T10:25:09.462Z"
   },
   {
    "duration": 3252,
    "start_time": "2022-12-17T10:25:10.454Z"
   },
   {
    "duration": 4,
    "start_time": "2022-12-17T10:25:24.999Z"
   },
   {
    "duration": 1399,
    "start_time": "2022-12-17T10:25:25.855Z"
   },
   {
    "duration": 3,
    "start_time": "2022-12-17T10:25:41.439Z"
   },
   {
    "duration": 975,
    "start_time": "2022-12-17T10:25:43.640Z"
   },
   {
    "duration": 3,
    "start_time": "2022-12-17T10:26:07.926Z"
   },
   {
    "duration": 1368,
    "start_time": "2022-12-17T10:26:08.599Z"
   },
   {
    "duration": 3,
    "start_time": "2022-12-17T10:27:42.335Z"
   },
   {
    "duration": 15,
    "start_time": "2022-12-17T10:27:42.976Z"
   },
   {
    "duration": 4,
    "start_time": "2022-12-17T10:28:07.659Z"
   },
   {
    "duration": 149,
    "start_time": "2022-12-17T10:28:08.360Z"
   },
   {
    "duration": 3,
    "start_time": "2022-12-17T10:29:22.658Z"
   },
   {
    "duration": 22,
    "start_time": "2022-12-17T10:29:23.378Z"
   },
   {
    "duration": 3,
    "start_time": "2022-12-17T10:29:37.527Z"
   },
   {
    "duration": 1158,
    "start_time": "2022-12-17T10:29:38.499Z"
   },
   {
    "duration": 4,
    "start_time": "2022-12-17T10:30:18.468Z"
   },
   {
    "duration": 895,
    "start_time": "2022-12-17T10:30:18.861Z"
   },
   {
    "duration": 4,
    "start_time": "2022-12-17T10:30:43.363Z"
   },
   {
    "duration": 949,
    "start_time": "2022-12-17T10:30:43.987Z"
   },
   {
    "duration": 5,
    "start_time": "2022-12-17T10:31:11.071Z"
   },
   {
    "duration": 1010,
    "start_time": "2022-12-17T10:31:11.766Z"
   },
   {
    "duration": 4,
    "start_time": "2022-12-17T10:31:29.231Z"
   },
   {
    "duration": 978,
    "start_time": "2022-12-17T10:31:29.771Z"
   },
   {
    "duration": 4,
    "start_time": "2022-12-17T10:34:04.349Z"
   },
   {
    "duration": 1402,
    "start_time": "2022-12-17T10:34:04.986Z"
   },
   {
    "duration": 4,
    "start_time": "2022-12-17T10:34:14.285Z"
   },
   {
    "duration": 1049,
    "start_time": "2022-12-17T10:34:14.702Z"
   },
   {
    "duration": 4,
    "start_time": "2022-12-17T10:34:26.288Z"
   },
   {
    "duration": 1440,
    "start_time": "2022-12-17T10:34:26.888Z"
   },
   {
    "duration": 4,
    "start_time": "2022-12-17T10:35:05.507Z"
   },
   {
    "duration": 29,
    "start_time": "2022-12-17T10:35:06.666Z"
   },
   {
    "duration": 7,
    "start_time": "2022-12-17T10:35:11.239Z"
   },
   {
    "duration": 30,
    "start_time": "2022-12-17T10:35:12.219Z"
   },
   {
    "duration": 4,
    "start_time": "2022-12-17T10:39:12.991Z"
   },
   {
    "duration": 19,
    "start_time": "2022-12-17T10:39:13.743Z"
   },
   {
    "duration": 3,
    "start_time": "2022-12-17T10:39:23.363Z"
   },
   {
    "duration": 376,
    "start_time": "2022-12-17T10:39:24.077Z"
   },
   {
    "duration": 3,
    "start_time": "2022-12-17T10:39:33.336Z"
   },
   {
    "duration": 1074,
    "start_time": "2022-12-17T10:39:34.278Z"
   },
   {
    "duration": 4,
    "start_time": "2022-12-17T10:40:05.621Z"
   },
   {
    "duration": 377,
    "start_time": "2022-12-17T10:40:06.185Z"
   },
   {
    "duration": 4,
    "start_time": "2022-12-17T10:40:31.376Z"
   },
   {
    "duration": 318,
    "start_time": "2022-12-17T10:40:31.947Z"
   },
   {
    "duration": 2,
    "start_time": "2022-12-17T10:42:59.348Z"
   },
   {
    "duration": 13,
    "start_time": "2022-12-17T10:42:59.795Z"
   },
   {
    "duration": 3,
    "start_time": "2022-12-17T10:43:12.520Z"
   },
   {
    "duration": 103,
    "start_time": "2022-12-17T10:43:13.054Z"
   },
   {
    "duration": 103,
    "start_time": "2022-12-17T10:49:58.553Z"
   },
   {
    "duration": 508,
    "start_time": "2022-12-17T10:50:12.703Z"
   },
   {
    "duration": 13,
    "start_time": "2022-12-17T10:51:04.644Z"
   },
   {
    "duration": 13,
    "start_time": "2022-12-17T10:51:39.277Z"
   },
   {
    "duration": 21,
    "start_time": "2022-12-17T10:53:32.887Z"
   },
   {
    "duration": 10,
    "start_time": "2022-12-17T10:53:56.636Z"
   },
   {
    "duration": 11,
    "start_time": "2022-12-17T10:54:02.203Z"
   },
   {
    "duration": 509,
    "start_time": "2022-12-17T10:54:05.954Z"
   },
   {
    "duration": 410,
    "start_time": "2022-12-17T10:56:53.527Z"
   },
   {
    "duration": 194,
    "start_time": "2022-12-17T10:57:00.395Z"
   },
   {
    "duration": 900,
    "start_time": "2022-12-17T10:57:05.211Z"
   },
   {
    "duration": 3,
    "start_time": "2022-12-17T11:00:24.658Z"
   },
   {
    "duration": 985,
    "start_time": "2022-12-17T11:00:25.265Z"
   },
   {
    "duration": 4,
    "start_time": "2022-12-17T11:00:46.050Z"
   },
   {
    "duration": 1231,
    "start_time": "2022-12-17T11:00:46.739Z"
   },
   {
    "duration": 3,
    "start_time": "2022-12-17T11:01:16.390Z"
   },
   {
    "duration": 1497,
    "start_time": "2022-12-17T11:01:18.372Z"
   },
   {
    "duration": 4,
    "start_time": "2022-12-17T11:01:32.031Z"
   },
   {
    "duration": 1591,
    "start_time": "2022-12-17T11:01:34.430Z"
   },
   {
    "duration": 4,
    "start_time": "2022-12-17T11:02:15.863Z"
   },
   {
    "duration": 3,
    "start_time": "2022-12-17T11:03:55.366Z"
   },
   {
    "duration": 1437,
    "start_time": "2022-12-17T11:03:55.926Z"
   },
   {
    "duration": 3,
    "start_time": "2022-12-17T11:04:17.893Z"
   },
   {
    "duration": 957,
    "start_time": "2022-12-17T11:04:21.092Z"
   },
   {
    "duration": 3,
    "start_time": "2022-12-17T11:05:47.946Z"
   },
   {
    "duration": 9,
    "start_time": "2022-12-17T11:05:48.530Z"
   },
   {
    "duration": 375,
    "start_time": "2022-12-17T11:06:03.571Z"
   },
   {
    "duration": 510,
    "start_time": "2022-12-17T11:09:11.091Z"
   },
   {
    "duration": 5,
    "start_time": "2022-12-17T11:09:32.104Z"
   },
   {
    "duration": 404,
    "start_time": "2022-12-17T11:09:32.311Z"
   },
   {
    "duration": 4,
    "start_time": "2022-12-17T11:09:49.595Z"
   },
   {
    "duration": 1298,
    "start_time": "2022-12-17T11:09:50.376Z"
   },
   {
    "duration": 1107,
    "start_time": "2022-12-17T11:11:47.866Z"
   },
   {
    "duration": 914,
    "start_time": "2022-12-17T11:12:01.277Z"
   },
   {
    "duration": 1106,
    "start_time": "2022-12-17T11:12:08.250Z"
   },
   {
    "duration": 603,
    "start_time": "2022-12-17T11:12:18.989Z"
   },
   {
    "duration": 1699,
    "start_time": "2022-12-17T11:12:25.587Z"
   },
   {
    "duration": 3,
    "start_time": "2022-12-17T11:16:50.074Z"
   },
   {
    "duration": 955,
    "start_time": "2022-12-17T11:16:54.791Z"
   },
   {
    "duration": 4,
    "start_time": "2022-12-17T11:17:23.749Z"
   },
   {
    "duration": 1084,
    "start_time": "2022-12-17T11:17:24.379Z"
   },
   {
    "duration": 5,
    "start_time": "2022-12-17T11:17:46.944Z"
   },
   {
    "duration": 1112,
    "start_time": "2022-12-17T11:17:47.635Z"
   },
   {
    "duration": 4,
    "start_time": "2022-12-17T11:18:08.337Z"
   },
   {
    "duration": 426,
    "start_time": "2022-12-17T11:18:11.946Z"
   },
   {
    "duration": 4,
    "start_time": "2022-12-17T11:18:30.074Z"
   },
   {
    "duration": 325,
    "start_time": "2022-12-17T11:18:31.743Z"
   },
   {
    "duration": 4,
    "start_time": "2022-12-17T11:18:42.110Z"
   },
   {
    "duration": 960,
    "start_time": "2022-12-17T11:18:42.389Z"
   },
   {
    "duration": 5,
    "start_time": "2022-12-17T11:18:54.211Z"
   },
   {
    "duration": 1407,
    "start_time": "2022-12-17T11:18:56.064Z"
   },
   {
    "duration": 294,
    "start_time": "2022-12-17T11:22:18.191Z"
   },
   {
    "duration": 256,
    "start_time": "2022-12-17T11:22:29.258Z"
   },
   {
    "duration": 244,
    "start_time": "2022-12-17T11:22:37.032Z"
   },
   {
    "duration": 260,
    "start_time": "2022-12-17T11:22:47.052Z"
   },
   {
    "duration": 274,
    "start_time": "2022-12-17T11:22:52.737Z"
   },
   {
    "duration": 288,
    "start_time": "2022-12-17T11:22:58.609Z"
   },
   {
    "duration": 345,
    "start_time": "2022-12-17T11:23:05.622Z"
   },
   {
    "duration": 610,
    "start_time": "2022-12-17T11:23:11.425Z"
   },
   {
    "duration": 334,
    "start_time": "2022-12-17T11:23:17.392Z"
   },
   {
    "duration": 381,
    "start_time": "2022-12-17T11:23:22.720Z"
   },
   {
    "duration": 343,
    "start_time": "2022-12-17T11:23:28.755Z"
   },
   {
    "duration": 318,
    "start_time": "2022-12-17T11:23:35.875Z"
   },
   {
    "duration": 5,
    "start_time": "2022-12-17T11:25:08.523Z"
   },
   {
    "duration": 474,
    "start_time": "2022-12-17T11:25:09.605Z"
   },
   {
    "duration": 4,
    "start_time": "2022-12-17T11:27:08.707Z"
   },
   {
    "duration": 1216,
    "start_time": "2022-12-17T11:27:09.098Z"
   },
   {
    "duration": 5,
    "start_time": "2022-12-17T11:27:48.204Z"
   },
   {
    "duration": 428,
    "start_time": "2022-12-17T11:27:48.915Z"
   },
   {
    "duration": 586,
    "start_time": "2022-12-17T11:31:47.349Z"
   },
   {
    "duration": 726,
    "start_time": "2022-12-17T11:32:45.513Z"
   },
   {
    "duration": 1002,
    "start_time": "2022-12-17T11:33:01.930Z"
   },
   {
    "duration": 383,
    "start_time": "2022-12-17T11:33:35.650Z"
   },
   {
    "duration": 321,
    "start_time": "2022-12-17T11:34:00.631Z"
   },
   {
    "duration": 262,
    "start_time": "2022-12-17T11:35:26.940Z"
   },
   {
    "duration": 292,
    "start_time": "2022-12-17T11:35:36.177Z"
   },
   {
    "duration": 298,
    "start_time": "2022-12-17T11:35:47.514Z"
   },
   {
    "duration": 325,
    "start_time": "2022-12-17T11:36:22.041Z"
   },
   {
    "duration": 323,
    "start_time": "2022-12-17T11:36:56.065Z"
   },
   {
    "duration": 307,
    "start_time": "2022-12-17T11:37:28.108Z"
   },
   {
    "duration": 317,
    "start_time": "2022-12-17T11:37:55.282Z"
   },
   {
    "duration": 305,
    "start_time": "2022-12-17T11:40:07.430Z"
   },
   {
    "duration": 382,
    "start_time": "2022-12-17T11:40:14.040Z"
   },
   {
    "duration": 317,
    "start_time": "2022-12-17T11:41:15.875Z"
   },
   {
    "duration": 895,
    "start_time": "2022-12-17T11:41:49.040Z"
   },
   {
    "duration": 1352,
    "start_time": "2022-12-17T11:42:03.433Z"
   },
   {
    "duration": 911,
    "start_time": "2022-12-17T11:42:19.434Z"
   },
   {
    "duration": 865,
    "start_time": "2022-12-17T11:42:51.675Z"
   },
   {
    "duration": 888,
    "start_time": "2022-12-17T11:42:52.542Z"
   },
   {
    "duration": 1406,
    "start_time": "2022-12-17T11:42:53.432Z"
   },
   {
    "duration": 5,
    "start_time": "2022-12-17T12:11:21.522Z"
   },
   {
    "duration": 5,
    "start_time": "2022-12-17T12:11:40.105Z"
   },
   {
    "duration": 10,
    "start_time": "2022-12-17T12:11:40.681Z"
   },
   {
    "duration": 1475,
    "start_time": "2022-12-17T12:14:26.448Z"
   },
   {
    "duration": 1610,
    "start_time": "2022-12-17T12:17:26.136Z"
   },
   {
    "duration": 1442,
    "start_time": "2022-12-17T12:17:55.179Z"
   },
   {
    "duration": 1400,
    "start_time": "2022-12-17T12:19:44.528Z"
   },
   {
    "duration": 1440,
    "start_time": "2022-12-17T12:19:54.173Z"
   },
   {
    "duration": 1762,
    "start_time": "2022-12-17T12:20:17.611Z"
   },
   {
    "duration": 87,
    "start_time": "2022-12-17T12:20:50.774Z"
   },
   {
    "duration": 1734,
    "start_time": "2022-12-17T12:22:08.431Z"
   },
   {
    "duration": 1778,
    "start_time": "2022-12-17T12:22:16.173Z"
   },
   {
    "duration": 1632,
    "start_time": "2022-12-17T12:22:32.198Z"
   },
   {
    "duration": 1458,
    "start_time": "2022-12-17T12:23:17.172Z"
   },
   {
    "duration": 1416,
    "start_time": "2022-12-17T12:23:33.909Z"
   },
   {
    "duration": 1546,
    "start_time": "2022-12-17T12:23:40.083Z"
   },
   {
    "duration": 1608,
    "start_time": "2022-12-17T12:23:42.898Z"
   },
   {
    "duration": 1535,
    "start_time": "2022-12-17T12:25:48.341Z"
   },
   {
    "duration": 1633,
    "start_time": "2022-12-17T12:26:03.059Z"
   },
   {
    "duration": 1448,
    "start_time": "2022-12-17T12:28:33.157Z"
   },
   {
    "duration": 366,
    "start_time": "2022-12-17T12:32:01.445Z"
   },
   {
    "duration": 304,
    "start_time": "2022-12-17T12:33:24.897Z"
   },
   {
    "duration": 321,
    "start_time": "2022-12-17T12:34:08.367Z"
   },
   {
    "duration": 358,
    "start_time": "2022-12-17T12:38:33.899Z"
   },
   {
    "duration": 86,
    "start_time": "2022-12-17T12:38:54.895Z"
   },
   {
    "duration": 75,
    "start_time": "2022-12-17T12:39:00.107Z"
   },
   {
    "duration": 77,
    "start_time": "2022-12-17T12:39:51.732Z"
   },
   {
    "duration": 174,
    "start_time": "2022-12-17T12:41:00.476Z"
   },
   {
    "duration": 184,
    "start_time": "2022-12-17T12:41:11.870Z"
   },
   {
    "duration": 265,
    "start_time": "2022-12-17T12:41:31.640Z"
   },
   {
    "duration": 435,
    "start_time": "2022-12-17T12:42:47.835Z"
   },
   {
    "duration": 334,
    "start_time": "2022-12-17T12:42:52.535Z"
   },
   {
    "duration": 388,
    "start_time": "2022-12-17T12:43:20.897Z"
   },
   {
    "duration": 824,
    "start_time": "2022-12-17T12:43:35.558Z"
   },
   {
    "duration": 300,
    "start_time": "2022-12-17T12:44:28.648Z"
   },
   {
    "duration": 412,
    "start_time": "2022-12-17T12:46:34.879Z"
   },
   {
    "duration": 329,
    "start_time": "2022-12-17T12:46:56.748Z"
   },
   {
    "duration": 466,
    "start_time": "2022-12-17T12:47:32.714Z"
   },
   {
    "duration": 427,
    "start_time": "2022-12-17T12:47:49.576Z"
   },
   {
    "duration": 370,
    "start_time": "2022-12-17T12:49:02.435Z"
   },
   {
    "duration": 406,
    "start_time": "2022-12-17T12:49:03.816Z"
   },
   {
    "duration": 14,
    "start_time": "2022-12-17T12:52:25.094Z"
   },
   {
    "duration": 18,
    "start_time": "2022-12-17T12:52:32.640Z"
   },
   {
    "duration": 5,
    "start_time": "2022-12-17T12:52:57.134Z"
   },
   {
    "duration": 835,
    "start_time": "2022-12-17T12:52:57.875Z"
   },
   {
    "duration": 22,
    "start_time": "2022-12-17T12:52:58.712Z"
   },
   {
    "duration": 19,
    "start_time": "2022-12-17T12:52:58.736Z"
   },
   {
    "duration": 4,
    "start_time": "2022-12-17T12:52:58.868Z"
   },
   {
    "duration": 8,
    "start_time": "2022-12-17T12:52:59.067Z"
   },
   {
    "duration": 6,
    "start_time": "2022-12-17T12:52:59.274Z"
   },
   {
    "duration": 6,
    "start_time": "2022-12-17T12:52:59.693Z"
   },
   {
    "duration": 6,
    "start_time": "2022-12-17T12:53:00.293Z"
   },
   {
    "duration": 15,
    "start_time": "2022-12-17T12:53:00.483Z"
   },
   {
    "duration": 133,
    "start_time": "2022-12-17T12:53:01.115Z"
   },
   {
    "duration": 27,
    "start_time": "2022-12-17T12:53:01.317Z"
   },
   {
    "duration": 14,
    "start_time": "2022-12-17T12:53:01.724Z"
   },
   {
    "duration": 9,
    "start_time": "2022-12-17T12:53:01.939Z"
   },
   {
    "duration": 17,
    "start_time": "2022-12-17T12:53:02.131Z"
   },
   {
    "duration": 4,
    "start_time": "2022-12-17T12:53:02.539Z"
   },
   {
    "duration": 5,
    "start_time": "2022-12-17T12:53:02.754Z"
   },
   {
    "duration": 15,
    "start_time": "2022-12-17T12:53:03.195Z"
   },
   {
    "duration": 9,
    "start_time": "2022-12-17T12:53:03.371Z"
   },
   {
    "duration": 14,
    "start_time": "2022-12-17T12:53:03.579Z"
   },
   {
    "duration": 27,
    "start_time": "2022-12-17T12:53:03.777Z"
   },
   {
    "duration": 8,
    "start_time": "2022-12-17T12:53:05.248Z"
   },
   {
    "duration": 167,
    "start_time": "2022-12-17T12:53:05.449Z"
   },
   {
    "duration": 170,
    "start_time": "2022-12-17T12:53:05.672Z"
   },
   {
    "duration": 228,
    "start_time": "2022-12-17T12:53:05.881Z"
   },
   {
    "duration": 1923,
    "start_time": "2022-12-17T12:53:07.593Z"
   },
   {
    "duration": 1517,
    "start_time": "2022-12-17T12:53:09.522Z"
   },
   {
    "duration": 1566,
    "start_time": "2022-12-17T12:53:11.040Z"
   },
   {
    "duration": 19,
    "start_time": "2022-12-17T12:53:12.609Z"
   },
   {
    "duration": 11,
    "start_time": "2022-12-17T12:53:12.630Z"
   },
   {
    "duration": 471,
    "start_time": "2022-12-17T12:53:12.642Z"
   },
   {
    "duration": 359,
    "start_time": "2022-12-17T12:53:13.115Z"
   },
   {
    "duration": 4,
    "start_time": "2022-12-17T12:53:13.476Z"
   },
   {
    "duration": 17,
    "start_time": "2022-12-17T12:53:13.483Z"
   },
   {
    "duration": 22,
    "start_time": "2022-12-17T12:53:26.739Z"
   },
   {
    "duration": 8,
    "start_time": "2022-12-17T12:53:27.093Z"
   },
   {
    "duration": 8,
    "start_time": "2022-12-17T12:53:47.713Z"
   },
   {
    "duration": 6,
    "start_time": "2022-12-17T12:54:03.315Z"
   },
   {
    "duration": 7,
    "start_time": "2022-12-17T12:54:31.432Z"
   },
   {
    "duration": 6,
    "start_time": "2022-12-17T12:54:53.639Z"
   },
   {
    "duration": 5,
    "start_time": "2022-12-17T12:54:59.734Z"
   },
   {
    "duration": 104,
    "start_time": "2022-12-17T12:57:56.477Z"
   },
   {
    "duration": 12,
    "start_time": "2022-12-17T12:58:03.875Z"
   },
   {
    "duration": 13,
    "start_time": "2022-12-17T13:01:08.599Z"
   },
   {
    "duration": 430,
    "start_time": "2022-12-17T13:01:26.875Z"
   },
   {
    "duration": 431,
    "start_time": "2022-12-17T13:01:52.602Z"
   },
   {
    "duration": 494,
    "start_time": "2022-12-17T13:03:35.728Z"
   },
   {
    "duration": 462,
    "start_time": "2022-12-17T13:03:59.829Z"
   },
   {
    "duration": 15,
    "start_time": "2022-12-17T13:09:06.124Z"
   },
   {
    "duration": 6,
    "start_time": "2022-12-17T13:09:06.516Z"
   },
   {
    "duration": 12,
    "start_time": "2022-12-17T13:09:07.146Z"
   },
   {
    "duration": 9,
    "start_time": "2022-12-17T13:09:09.138Z"
   },
   {
    "duration": 10,
    "start_time": "2022-12-17T13:09:10.184Z"
   },
   {
    "duration": 5,
    "start_time": "2022-12-17T13:09:10.609Z"
   },
   {
    "duration": 3,
    "start_time": "2022-12-17T13:09:15.328Z"
   },
   {
    "duration": 3,
    "start_time": "2022-12-17T13:09:15.761Z"
   },
   {
    "duration": 381,
    "start_time": "2022-12-17T13:09:21.382Z"
   },
   {
    "duration": 3,
    "start_time": "2022-12-17T13:09:50.013Z"
   },
   {
    "duration": 383,
    "start_time": "2022-12-17T13:09:50.323Z"
   },
   {
    "duration": 373,
    "start_time": "2022-12-17T13:09:57.016Z"
   },
   {
    "duration": 392,
    "start_time": "2022-12-17T13:11:45.668Z"
   },
   {
    "duration": 377,
    "start_time": "2022-12-17T13:12:09.273Z"
   },
   {
    "duration": 16,
    "start_time": "2022-12-17T13:12:58.056Z"
   },
   {
    "duration": 89,
    "start_time": "2022-12-17T13:13:49.075Z"
   },
   {
    "duration": 12,
    "start_time": "2022-12-17T13:14:57.528Z"
   },
   {
    "duration": 2,
    "start_time": "2022-12-17T13:17:39.199Z"
   },
   {
    "duration": 13,
    "start_time": "2022-12-17T13:17:39.822Z"
   },
   {
    "duration": 14,
    "start_time": "2022-12-17T13:20:04.333Z"
   },
   {
    "duration": 5,
    "start_time": "2022-12-17T13:21:14.289Z"
   },
   {
    "duration": 14,
    "start_time": "2022-12-17T13:21:20.503Z"
   },
   {
    "duration": 11,
    "start_time": "2022-12-17T13:21:27.501Z"
   },
   {
    "duration": 29,
    "start_time": "2022-12-17T13:21:57.352Z"
   },
   {
    "duration": 3,
    "start_time": "2022-12-17T13:23:49.801Z"
   },
   {
    "duration": 38,
    "start_time": "2022-12-17T13:23:52.835Z"
   },
   {
    "duration": 7,
    "start_time": "2022-12-17T13:23:59.029Z"
   },
   {
    "duration": 4,
    "start_time": "2022-12-17T13:24:03.389Z"
   },
   {
    "duration": 74,
    "start_time": "2022-12-17T13:24:29.364Z"
   },
   {
    "duration": 73,
    "start_time": "2022-12-17T13:25:23.885Z"
   },
   {
    "duration": 72,
    "start_time": "2022-12-17T13:25:48.733Z"
   },
   {
    "duration": 77,
    "start_time": "2022-12-17T13:25:59.063Z"
   },
   {
    "duration": 18,
    "start_time": "2022-12-17T13:26:07.179Z"
   },
   {
    "duration": 14,
    "start_time": "2022-12-17T13:26:23.151Z"
   },
   {
    "duration": 12,
    "start_time": "2022-12-17T13:26:59.159Z"
   },
   {
    "duration": 12,
    "start_time": "2022-12-17T13:29:33.234Z"
   },
   {
    "duration": 10,
    "start_time": "2022-12-17T13:30:03.919Z"
   },
   {
    "duration": 10,
    "start_time": "2022-12-17T13:30:06.675Z"
   },
   {
    "duration": 10,
    "start_time": "2022-12-17T13:30:15.222Z"
   },
   {
    "duration": 35,
    "start_time": "2022-12-17T13:31:41.567Z"
   },
   {
    "duration": 11,
    "start_time": "2022-12-17T13:32:17.336Z"
   },
   {
    "duration": 36,
    "start_time": "2022-12-17T13:33:05.782Z"
   },
   {
    "duration": 27,
    "start_time": "2022-12-17T13:33:42.232Z"
   },
   {
    "duration": 90,
    "start_time": "2022-12-17T13:34:26.637Z"
   },
   {
    "duration": 11,
    "start_time": "2022-12-17T13:34:32.050Z"
   },
   {
    "duration": 10,
    "start_time": "2022-12-17T13:34:42.749Z"
   },
   {
    "duration": 10,
    "start_time": "2022-12-17T13:34:49.532Z"
   },
   {
    "duration": 26,
    "start_time": "2022-12-17T13:36:27.164Z"
   },
   {
    "duration": 16,
    "start_time": "2022-12-17T13:36:46.990Z"
   },
   {
    "duration": 14,
    "start_time": "2022-12-17T13:38:25.103Z"
   },
   {
    "duration": 11,
    "start_time": "2022-12-17T13:38:50.756Z"
   },
   {
    "duration": 29,
    "start_time": "2022-12-17T13:39:09.205Z"
   },
   {
    "duration": 42,
    "start_time": "2022-12-17T13:44:34.292Z"
   },
   {
    "duration": 14,
    "start_time": "2022-12-17T13:44:37.065Z"
   },
   {
    "duration": 4,
    "start_time": "2022-12-17T13:45:18.898Z"
   },
   {
    "duration": 4,
    "start_time": "2022-12-17T13:45:34.312Z"
   },
   {
    "duration": 5,
    "start_time": "2022-12-17T13:45:48.693Z"
   },
   {
    "duration": 10,
    "start_time": "2022-12-17T13:46:28.190Z"
   },
   {
    "duration": 4,
    "start_time": "2022-12-17T13:47:04.687Z"
   },
   {
    "duration": 4,
    "start_time": "2022-12-17T13:47:05.695Z"
   },
   {
    "duration": 5,
    "start_time": "2022-12-17T13:47:07.026Z"
   },
   {
    "duration": 24,
    "start_time": "2022-12-17T13:47:17.170Z"
   },
   {
    "duration": 5,
    "start_time": "2022-12-17T13:51:42.385Z"
   },
   {
    "duration": 5,
    "start_time": "2022-12-17T13:51:44.234Z"
   },
   {
    "duration": 4,
    "start_time": "2022-12-17T13:56:36.403Z"
   },
   {
    "duration": 80004,
    "start_time": "2022-12-17T13:56:36.409Z"
   },
   {
    "duration": 6,
    "start_time": "2022-12-17T14:18:46.262Z"
   },
   {
    "duration": 5,
    "start_time": "2022-12-17T14:19:53.575Z"
   },
   {
    "duration": 10,
    "start_time": "2022-12-17T14:22:19.877Z"
   },
   {
    "duration": 4,
    "start_time": "2022-12-17T14:22:30.263Z"
   },
   {
    "duration": 5,
    "start_time": "2022-12-17T14:22:31.399Z"
   },
   {
    "duration": 11,
    "start_time": "2022-12-17T14:24:34.551Z"
   },
   {
    "duration": 5,
    "start_time": "2022-12-17T14:26:26.978Z"
   },
   {
    "duration": 1860,
    "start_time": "2022-12-17T14:26:37.669Z"
   },
   {
    "duration": 1821,
    "start_time": "2022-12-17T14:27:32.952Z"
   },
   {
    "duration": 1749,
    "start_time": "2022-12-17T14:28:52.736Z"
   },
   {
    "duration": 92,
    "start_time": "2022-12-17T14:33:25.444Z"
   },
   {
    "duration": 1360,
    "start_time": "2022-12-17T14:33:40.875Z"
   },
   {
    "duration": 1730,
    "start_time": "2022-12-17T14:33:49.129Z"
   },
   {
    "duration": 67,
    "start_time": "2022-12-17T14:34:08.346Z"
   },
   {
    "duration": 1929,
    "start_time": "2022-12-17T14:34:14.840Z"
   },
   {
    "duration": 1751,
    "start_time": "2022-12-17T14:40:34.817Z"
   },
   {
    "duration": 1723,
    "start_time": "2022-12-17T14:40:58.999Z"
   },
   {
    "duration": 1177,
    "start_time": "2022-12-17T14:41:27.049Z"
   },
   {
    "duration": 1103,
    "start_time": "2022-12-17T14:42:19.422Z"
   },
   {
    "duration": 1153,
    "start_time": "2022-12-17T14:43:33.480Z"
   },
   {
    "duration": 1907,
    "start_time": "2022-12-17T14:45:35.016Z"
   },
   {
    "duration": 1535,
    "start_time": "2022-12-17T14:46:12.896Z"
   },
   {
    "duration": 1465,
    "start_time": "2022-12-17T14:46:28.658Z"
   },
   {
    "duration": 1350,
    "start_time": "2022-12-17T14:46:42.379Z"
   },
   {
    "duration": 1417,
    "start_time": "2022-12-17T14:48:58.614Z"
   },
   {
    "duration": 1729,
    "start_time": "2022-12-17T14:50:18.918Z"
   },
   {
    "duration": 2322,
    "start_time": "2022-12-17T14:50:55.520Z"
   },
   {
    "duration": 1123,
    "start_time": "2022-12-17T14:51:43.501Z"
   },
   {
    "duration": 1531,
    "start_time": "2022-12-17T14:51:48.593Z"
   },
   {
    "duration": 27657,
    "start_time": "2022-12-17T14:54:57.352Z"
   },
   {
    "duration": 91510,
    "start_time": "2022-12-17T14:55:57.344Z"
   },
   {
    "duration": 1673,
    "start_time": "2022-12-17T14:57:28.857Z"
   },
   {
    "duration": 1402,
    "start_time": "2022-12-17T14:57:30.533Z"
   },
   {
    "duration": 1061610,
    "start_time": "2022-12-17T14:57:31.936Z"
   },
   {
    "duration": 0,
    "start_time": "2022-12-17T15:15:13.549Z"
   },
   {
    "duration": 0,
    "start_time": "2022-12-17T15:15:13.550Z"
   },
   {
    "duration": 0,
    "start_time": "2022-12-17T15:15:13.552Z"
   },
   {
    "duration": 280579,
    "start_time": "2022-12-17T15:15:51.868Z"
   },
   {
    "duration": 0,
    "start_time": "2022-12-17T15:20:32.450Z"
   },
   {
    "duration": 89366,
    "start_time": "2022-12-17T15:20:52.236Z"
   },
   {
    "duration": 205722,
    "start_time": "2022-12-17T15:22:52.859Z"
   },
   {
    "duration": 652166,
    "start_time": "2022-12-17T15:36:38.401Z"
   },
   {
    "duration": 76,
    "start_time": "2022-12-17T15:47:49.220Z"
   },
   {
    "duration": 4,
    "start_time": "2022-12-17T15:48:16.748Z"
   },
   {
    "duration": 4,
    "start_time": "2022-12-17T15:48:34.394Z"
   },
   {
    "duration": 2662324,
    "start_time": "2022-12-17T15:50:31.582Z"
   },
   {
    "duration": 5,
    "start_time": "2022-12-17T16:37:08.145Z"
   },
   {
    "duration": 4693,
    "start_time": "2022-12-17T16:39:22.363Z"
   },
   {
    "duration": 4,
    "start_time": "2022-12-17T16:43:13.932Z"
   },
   {
    "duration": 635,
    "start_time": "2022-12-17T16:43:14.944Z"
   },
   {
    "duration": 12,
    "start_time": "2022-12-17T16:43:15.581Z"
   },
   {
    "duration": 28,
    "start_time": "2022-12-17T16:43:15.594Z"
   },
   {
    "duration": 3,
    "start_time": "2022-12-17T16:43:16.157Z"
   },
   {
    "duration": 7,
    "start_time": "2022-12-17T16:43:16.356Z"
   },
   {
    "duration": 5,
    "start_time": "2022-12-17T16:43:16.556Z"
   },
   {
    "duration": 5,
    "start_time": "2022-12-17T16:43:16.964Z"
   },
   {
    "duration": 5,
    "start_time": "2022-12-17T16:43:17.557Z"
   },
   {
    "duration": 12,
    "start_time": "2022-12-17T16:43:17.756Z"
   },
   {
    "duration": 114,
    "start_time": "2022-12-17T16:43:18.373Z"
   },
   {
    "duration": 22,
    "start_time": "2022-12-17T16:43:18.572Z"
   },
   {
    "duration": 10,
    "start_time": "2022-12-17T16:43:18.980Z"
   },
   {
    "duration": 8,
    "start_time": "2022-12-17T16:43:19.188Z"
   },
   {
    "duration": 11,
    "start_time": "2022-12-17T16:43:19.396Z"
   },
   {
    "duration": 3,
    "start_time": "2022-12-17T16:43:20.020Z"
   },
   {
    "duration": 5,
    "start_time": "2022-12-17T16:43:20.228Z"
   },
   {
    "duration": 14,
    "start_time": "2022-12-17T16:43:20.428Z"
   },
   {
    "duration": 7,
    "start_time": "2022-12-17T16:43:20.636Z"
   },
   {
    "duration": 10,
    "start_time": "2022-12-17T16:43:20.834Z"
   },
   {
    "duration": 16,
    "start_time": "2022-12-17T16:43:21.034Z"
   },
   {
    "duration": 6,
    "start_time": "2022-12-17T16:43:22.515Z"
   },
   {
    "duration": 155,
    "start_time": "2022-12-17T16:43:22.722Z"
   },
   {
    "duration": 139,
    "start_time": "2022-12-17T16:43:22.930Z"
   },
   {
    "duration": 136,
    "start_time": "2022-12-17T16:43:23.139Z"
   },
   {
    "duration": 1413,
    "start_time": "2022-12-17T16:43:24.002Z"
   },
   {
    "duration": 1887,
    "start_time": "2022-12-17T16:43:25.422Z"
   },
   {
    "duration": 1417,
    "start_time": "2022-12-17T16:43:27.310Z"
   },
   {
    "duration": 8,
    "start_time": "2022-12-17T16:43:28.729Z"
   },
   {
    "duration": 10,
    "start_time": "2022-12-17T16:43:28.738Z"
   },
   {
    "duration": 441,
    "start_time": "2022-12-17T16:43:28.749Z"
   },
   {
    "duration": 320,
    "start_time": "2022-12-17T16:43:29.193Z"
   },
   {
    "duration": 7,
    "start_time": "2022-12-17T16:43:29.515Z"
   },
   {
    "duration": 7,
    "start_time": "2022-12-17T16:43:29.524Z"
   },
   {
    "duration": 6,
    "start_time": "2022-12-17T16:43:29.533Z"
   },
   {
    "duration": 10,
    "start_time": "2022-12-17T16:43:29.541Z"
   },
   {
    "duration": 488,
    "start_time": "2022-12-17T16:43:29.552Z"
   },
   {
    "duration": 20,
    "start_time": "2022-12-17T16:43:34.430Z"
   },
   {
    "duration": 9,
    "start_time": "2022-12-17T16:43:35.237Z"
   },
   {
    "duration": 14,
    "start_time": "2022-12-17T16:43:37.709Z"
   },
   {
    "duration": 6,
    "start_time": "2022-12-17T16:43:38.629Z"
   },
   {
    "duration": 8,
    "start_time": "2022-12-17T16:43:39.715Z"
   },
   {
    "duration": 7,
    "start_time": "2022-12-17T16:43:40.090Z"
   },
   {
    "duration": 7,
    "start_time": "2022-12-17T16:43:40.810Z"
   },
   {
    "duration": 3,
    "start_time": "2022-12-17T16:43:41.416Z"
   },
   {
    "duration": 3,
    "start_time": "2022-12-17T16:43:42.666Z"
   },
   {
    "duration": 67,
    "start_time": "2022-12-17T16:43:43.611Z"
   },
   {
    "duration": 89226,
    "start_time": "2022-12-17T16:44:23.380Z"
   },
   {
    "duration": 1415,
    "start_time": "2022-12-17T16:45:52.608Z"
   },
   {
    "duration": 1405,
    "start_time": "2022-12-17T16:45:54.025Z"
   },
   {
    "duration": 2607776,
    "start_time": "2022-12-17T16:45:55.432Z"
   },
   {
    "duration": 12,
    "start_time": "2022-12-17T17:29:23.210Z"
   },
   {
    "duration": 4687,
    "start_time": "2022-12-17T17:29:23.223Z"
   },
   {
    "duration": 13,
    "start_time": "2022-12-17T17:29:27.911Z"
   },
   {
    "duration": 81,
    "start_time": "2022-12-18T18:06:20.250Z"
   },
   {
    "duration": 73,
    "start_time": "2022-12-19T04:17:46.038Z"
   },
   {
    "duration": 1777,
    "start_time": "2022-12-19T04:17:56.617Z"
   },
   {
    "duration": 2442,
    "start_time": "2022-12-19T04:17:58.396Z"
   },
   {
    "duration": 25,
    "start_time": "2022-12-19T04:18:00.840Z"
   },
   {
    "duration": 43,
    "start_time": "2022-12-19T04:18:00.868Z"
   },
   {
    "duration": 7,
    "start_time": "2022-12-19T04:18:00.913Z"
   },
   {
    "duration": 23,
    "start_time": "2022-12-19T04:18:00.922Z"
   },
   {
    "duration": 30,
    "start_time": "2022-12-19T04:18:00.947Z"
   },
   {
    "duration": 12,
    "start_time": "2022-12-19T04:18:00.979Z"
   },
   {
    "duration": 8,
    "start_time": "2022-12-19T04:18:00.994Z"
   },
   {
    "duration": 13,
    "start_time": "2022-12-19T04:18:01.111Z"
   },
   {
    "duration": 148,
    "start_time": "2022-12-19T04:18:01.792Z"
   },
   {
    "duration": 31,
    "start_time": "2022-12-19T04:18:02.024Z"
   },
   {
    "duration": 19,
    "start_time": "2022-12-19T04:18:02.452Z"
   },
   {
    "duration": 9,
    "start_time": "2022-12-19T04:18:02.679Z"
   },
   {
    "duration": 11,
    "start_time": "2022-12-19T04:18:02.886Z"
   },
   {
    "duration": 3,
    "start_time": "2022-12-19T04:18:03.541Z"
   },
   {
    "duration": 6,
    "start_time": "2022-12-19T04:18:03.765Z"
   },
   {
    "duration": 18,
    "start_time": "2022-12-19T04:18:03.989Z"
   },
   {
    "duration": 10,
    "start_time": "2022-12-19T04:18:04.196Z"
   },
   {
    "duration": 9,
    "start_time": "2022-12-19T04:18:04.429Z"
   },
   {
    "duration": 17,
    "start_time": "2022-12-19T04:18:04.668Z"
   },
   {
    "duration": 13,
    "start_time": "2022-12-19T04:18:09.451Z"
   },
   {
    "duration": 208,
    "start_time": "2022-12-19T04:18:10.131Z"
   },
   {
    "duration": 179,
    "start_time": "2022-12-19T04:18:10.346Z"
   },
   {
    "duration": 251,
    "start_time": "2022-12-19T04:18:10.566Z"
   },
   {
    "duration": 1721,
    "start_time": "2022-12-19T04:18:20.104Z"
   },
   {
    "duration": 1563,
    "start_time": "2022-12-19T04:18:21.827Z"
   },
   {
    "duration": 1684,
    "start_time": "2022-12-19T04:18:23.392Z"
   },
   {
    "duration": 13,
    "start_time": "2022-12-19T04:18:30.691Z"
   },
   {
    "duration": 6,
    "start_time": "2022-12-19T04:18:30.979Z"
   },
   {
    "duration": 457,
    "start_time": "2022-12-19T04:18:31.299Z"
   },
   {
    "duration": 371,
    "start_time": "2022-12-19T04:18:31.758Z"
   },
   {
    "duration": 3,
    "start_time": "2022-12-19T04:18:34.468Z"
   },
   {
    "duration": 7,
    "start_time": "2022-12-19T04:18:37.009Z"
   },
   {
    "duration": 6,
    "start_time": "2022-12-19T04:18:37.312Z"
   },
   {
    "duration": 11,
    "start_time": "2022-12-19T04:19:30.005Z"
   },
   {
    "duration": 5,
    "start_time": "2022-12-19T04:36:31.498Z"
   },
   {
    "duration": 763,
    "start_time": "2022-12-19T04:36:33.794Z"
   },
   {
    "duration": 16,
    "start_time": "2022-12-19T04:36:34.564Z"
   },
   {
    "duration": 20,
    "start_time": "2022-12-19T04:36:34.582Z"
   },
   {
    "duration": 3,
    "start_time": "2022-12-19T04:36:35.225Z"
   },
   {
    "duration": 7,
    "start_time": "2022-12-19T04:36:35.425Z"
   },
   {
    "duration": 9,
    "start_time": "2022-12-19T04:36:35.659Z"
   },
   {
    "duration": 6,
    "start_time": "2022-12-19T04:36:36.097Z"
   },
   {
    "duration": 7,
    "start_time": "2022-12-19T04:36:36.777Z"
   },
   {
    "duration": 15,
    "start_time": "2022-12-19T04:36:37.011Z"
   },
   {
    "duration": 142,
    "start_time": "2022-12-19T04:36:37.688Z"
   },
   {
    "duration": 24,
    "start_time": "2022-12-19T04:36:43.519Z"
   },
   {
    "duration": 10,
    "start_time": "2022-12-19T04:36:43.951Z"
   },
   {
    "duration": 10,
    "start_time": "2022-12-19T04:36:44.142Z"
   },
   {
    "duration": 11,
    "start_time": "2022-12-19T04:36:44.350Z"
   },
   {
    "duration": 3,
    "start_time": "2022-12-19T04:36:44.974Z"
   },
   {
    "duration": 5,
    "start_time": "2022-12-19T04:36:45.174Z"
   },
   {
    "duration": 18,
    "start_time": "2022-12-19T04:36:45.406Z"
   },
   {
    "duration": 9,
    "start_time": "2022-12-19T04:36:45.614Z"
   },
   {
    "duration": 12,
    "start_time": "2022-12-19T04:36:45.836Z"
   },
   {
    "duration": 23,
    "start_time": "2022-12-19T04:36:46.052Z"
   },
   {
    "duration": 6,
    "start_time": "2022-12-19T04:37:06.325Z"
   },
   {
    "duration": 180,
    "start_time": "2022-12-19T04:37:06.541Z"
   },
   {
    "duration": 196,
    "start_time": "2022-12-19T04:37:06.749Z"
   },
   {
    "duration": 165,
    "start_time": "2022-12-19T04:37:06.972Z"
   },
   {
    "duration": 1745,
    "start_time": "2022-12-19T04:37:08.036Z"
   },
   {
    "duration": 1660,
    "start_time": "2022-12-19T04:37:09.784Z"
   },
   {
    "duration": 1490,
    "start_time": "2022-12-19T04:37:11.450Z"
   },
   {
    "duration": 22,
    "start_time": "2022-12-19T04:37:12.942Z"
   },
   {
    "duration": 12,
    "start_time": "2022-12-19T04:37:12.967Z"
   },
   {
    "duration": 487,
    "start_time": "2022-12-19T04:37:12.982Z"
   },
   {
    "duration": 528,
    "start_time": "2022-12-19T04:37:13.471Z"
   },
   {
    "duration": 3,
    "start_time": "2022-12-19T04:37:14.001Z"
   },
   {
    "duration": 17,
    "start_time": "2022-12-19T04:37:14.006Z"
   },
   {
    "duration": 21,
    "start_time": "2022-12-19T04:37:14.026Z"
   },
   {
    "duration": 21,
    "start_time": "2022-12-19T04:37:15.050Z"
   },
   {
    "duration": 592,
    "start_time": "2022-12-19T04:37:24.911Z"
   },
   {
    "duration": 29,
    "start_time": "2022-12-19T04:37:26.479Z"
   },
   {
    "duration": 21,
    "start_time": "2022-12-19T04:37:27.053Z"
   },
   {
    "duration": 19,
    "start_time": "2022-12-19T04:37:32.068Z"
   },
   {
    "duration": 9,
    "start_time": "2022-12-19T04:37:32.988Z"
   },
   {
    "duration": 7,
    "start_time": "2022-12-19T04:37:34.306Z"
   },
   {
    "duration": 8,
    "start_time": "2022-12-19T04:37:34.778Z"
   },
   {
    "duration": 13,
    "start_time": "2022-12-19T04:37:35.280Z"
   },
   {
    "duration": 3,
    "start_time": "2022-12-19T04:37:36.385Z"
   },
   {
    "duration": 3,
    "start_time": "2022-12-19T04:37:39.193Z"
   },
   {
    "duration": 96,
    "start_time": "2022-12-19T04:37:40.273Z"
   },
   {
    "duration": 7,
    "start_time": "2022-12-19T04:38:30.849Z"
   },
   {
    "duration": 826,
    "start_time": "2022-12-19T04:38:32.020Z"
   },
   {
    "duration": 21,
    "start_time": "2022-12-19T04:38:32.850Z"
   },
   {
    "duration": 20,
    "start_time": "2022-12-19T04:38:32.874Z"
   },
   {
    "duration": 4,
    "start_time": "2022-12-19T04:38:33.362Z"
   },
   {
    "duration": 8,
    "start_time": "2022-12-19T04:38:33.562Z"
   },
   {
    "duration": 6,
    "start_time": "2022-12-19T04:38:33.769Z"
   },
   {
    "duration": 8,
    "start_time": "2022-12-19T04:38:34.169Z"
   },
   {
    "duration": 13,
    "start_time": "2022-12-19T04:38:34.755Z"
   },
   {
    "duration": 16,
    "start_time": "2022-12-19T04:38:34.967Z"
   },
   {
    "duration": 132,
    "start_time": "2022-12-19T04:38:35.563Z"
   },
   {
    "duration": 23,
    "start_time": "2022-12-19T04:38:35.786Z"
   },
   {
    "duration": 10,
    "start_time": "2022-12-19T04:38:36.242Z"
   },
   {
    "duration": 12,
    "start_time": "2022-12-19T04:38:36.448Z"
   },
   {
    "duration": 11,
    "start_time": "2022-12-19T04:38:36.681Z"
   },
   {
    "duration": 3,
    "start_time": "2022-12-19T04:38:37.304Z"
   },
   {
    "duration": 6,
    "start_time": "2022-12-19T04:38:37.527Z"
   },
   {
    "duration": 14,
    "start_time": "2022-12-19T04:38:37.736Z"
   },
   {
    "duration": 7,
    "start_time": "2022-12-19T04:38:37.968Z"
   },
   {
    "duration": 11,
    "start_time": "2022-12-19T04:38:38.191Z"
   },
   {
    "duration": 19,
    "start_time": "2022-12-19T04:38:38.407Z"
   },
   {
    "duration": 8,
    "start_time": "2022-12-19T04:38:40.153Z"
   },
   {
    "duration": 177,
    "start_time": "2022-12-19T04:38:40.369Z"
   },
   {
    "duration": 182,
    "start_time": "2022-12-19T04:38:40.583Z"
   },
   {
    "duration": 180,
    "start_time": "2022-12-19T04:38:40.807Z"
   },
   {
    "duration": 1720,
    "start_time": "2022-12-19T04:38:41.896Z"
   },
   {
    "duration": 1569,
    "start_time": "2022-12-19T04:38:43.618Z"
   },
   {
    "duration": 1608,
    "start_time": "2022-12-19T04:38:45.191Z"
   },
   {
    "duration": 10,
    "start_time": "2022-12-19T04:38:46.802Z"
   },
   {
    "duration": 8,
    "start_time": "2022-12-19T04:38:46.814Z"
   },
   {
    "duration": 508,
    "start_time": "2022-12-19T04:38:46.824Z"
   },
   {
    "duration": 440,
    "start_time": "2022-12-19T04:38:47.333Z"
   },
   {
    "duration": 6,
    "start_time": "2022-12-19T04:38:47.776Z"
   },
   {
    "duration": 10,
    "start_time": "2022-12-19T04:38:47.784Z"
   },
   {
    "duration": 6,
    "start_time": "2022-12-19T04:38:47.797Z"
   },
   {
    "duration": 18,
    "start_time": "2022-12-19T04:38:47.805Z"
   },
   {
    "duration": 571,
    "start_time": "2022-12-19T04:38:47.825Z"
   },
   {
    "duration": 18,
    "start_time": "2022-12-19T04:38:48.399Z"
   },
   {
    "duration": 11,
    "start_time": "2022-12-19T04:38:48.643Z"
   },
   {
    "duration": 26,
    "start_time": "2022-12-19T04:38:50.467Z"
   },
   {
    "duration": 7,
    "start_time": "2022-12-19T04:38:50.947Z"
   },
   {
    "duration": 9,
    "start_time": "2022-12-19T04:38:51.434Z"
   },
   {
    "duration": 7,
    "start_time": "2022-12-19T04:38:51.698Z"
   },
   {
    "duration": 8,
    "start_time": "2022-12-19T04:38:52.202Z"
   },
   {
    "duration": 4,
    "start_time": "2022-12-19T04:38:53.274Z"
   },
   {
    "duration": 4,
    "start_time": "2022-12-19T04:38:55.232Z"
   },
   {
    "duration": 105873,
    "start_time": "2022-12-19T04:38:56.027Z"
   },
   {
    "duration": 10,
    "start_time": "2022-12-19T04:47:22.616Z"
   },
   {
    "duration": 3,
    "start_time": "2022-12-19T04:47:36.259Z"
   },
   {
    "duration": 1574,
    "start_time": "2022-12-19T04:47:37.000Z"
   },
   {
    "duration": 2499017,
    "start_time": "2022-12-19T04:48:52.220Z"
   },
   {
    "duration": 5,
    "start_time": "2022-12-19T05:32:11.068Z"
   },
   {
    "duration": 11,
    "start_time": "2022-12-19T05:34:28.564Z"
   },
   {
    "duration": 10,
    "start_time": "2022-12-19T05:41:27.885Z"
   },
   {
    "duration": 9,
    "start_time": "2022-12-19T05:41:36.185Z"
   },
   {
    "duration": 17,
    "start_time": "2022-12-19T05:47:51.341Z"
   },
   {
    "duration": 5511,
    "start_time": "2022-12-19T05:48:30.307Z"
   },
   {
    "duration": 81,
    "start_time": "2022-12-19T05:52:47.954Z"
   },
   {
    "duration": 4406,
    "start_time": "2022-12-19T05:53:38.369Z"
   },
   {
    "duration": 2534,
    "start_time": "2022-12-19T05:54:12.849Z"
   },
   {
    "duration": 35,
    "start_time": "2022-12-19T05:54:19.881Z"
   },
   {
    "duration": 777,
    "start_time": "2022-12-19T05:54:27.558Z"
   },
   {
    "duration": 5,
    "start_time": "2022-12-19T05:56:59.705Z"
   },
   {
    "duration": 3,
    "start_time": "2022-12-19T05:57:02.471Z"
   },
   {
    "duration": 1020,
    "start_time": "2022-12-19T05:57:06.572Z"
   },
   {
    "duration": 305,
    "start_time": "2022-12-19T05:58:26.565Z"
   },
   {
    "duration": 4,
    "start_time": "2022-12-19T06:00:57.089Z"
   },
   {
    "duration": 1007,
    "start_time": "2022-12-19T06:01:01.552Z"
   },
   {
    "duration": 5,
    "start_time": "2022-12-19T06:01:40.592Z"
   },
   {
    "duration": 5,
    "start_time": "2022-12-19T06:01:43.206Z"
   },
   {
    "duration": 4,
    "start_time": "2022-12-19T06:01:47.029Z"
   },
   {
    "duration": 785,
    "start_time": "2022-12-19T06:04:01.441Z"
   },
   {
    "duration": 792,
    "start_time": "2022-12-19T06:05:16.968Z"
   },
   {
    "duration": 729,
    "start_time": "2022-12-19T06:05:26.295Z"
   },
   {
    "duration": 820,
    "start_time": "2022-12-19T06:05:31.241Z"
   },
   {
    "duration": 467,
    "start_time": "2022-12-19T06:08:59.328Z"
   },
   {
    "duration": 444,
    "start_time": "2022-12-19T06:09:19.235Z"
   },
   {
    "duration": 1579,
    "start_time": "2022-12-19T06:09:41.311Z"
   },
   {
    "duration": 779,
    "start_time": "2022-12-19T06:09:46.266Z"
   },
   {
    "duration": 17,
    "start_time": "2022-12-19T06:09:47.047Z"
   },
   {
    "duration": 21,
    "start_time": "2022-12-19T06:09:47.066Z"
   },
   {
    "duration": 3,
    "start_time": "2022-12-19T06:09:47.735Z"
   },
   {
    "duration": 12,
    "start_time": "2022-12-19T06:09:47.972Z"
   },
   {
    "duration": 5,
    "start_time": "2022-12-19T06:09:48.268Z"
   },
   {
    "duration": 6,
    "start_time": "2022-12-19T06:09:48.795Z"
   },
   {
    "duration": 5,
    "start_time": "2022-12-19T06:09:49.492Z"
   },
   {
    "duration": 14,
    "start_time": "2022-12-19T06:09:49.716Z"
   },
   {
    "duration": 127,
    "start_time": "2022-12-19T06:09:50.419Z"
   },
   {
    "duration": 24,
    "start_time": "2022-12-19T06:09:50.651Z"
   },
   {
    "duration": 10,
    "start_time": "2022-12-19T06:09:51.100Z"
   },
   {
    "duration": 9,
    "start_time": "2022-12-19T06:09:51.355Z"
   },
   {
    "duration": 11,
    "start_time": "2022-12-19T06:09:51.595Z"
   },
   {
    "duration": 3,
    "start_time": "2022-12-19T06:09:52.348Z"
   },
   {
    "duration": 5,
    "start_time": "2022-12-19T06:09:52.571Z"
   },
   {
    "duration": 14,
    "start_time": "2022-12-19T06:09:52.804Z"
   },
   {
    "duration": 7,
    "start_time": "2022-12-19T06:09:53.020Z"
   },
   {
    "duration": 10,
    "start_time": "2022-12-19T06:09:53.243Z"
   },
   {
    "duration": 17,
    "start_time": "2022-12-19T06:09:53.484Z"
   },
   {
    "duration": 6,
    "start_time": "2022-12-19T06:09:55.330Z"
   },
   {
    "duration": 179,
    "start_time": "2022-12-19T06:09:55.569Z"
   },
   {
    "duration": 182,
    "start_time": "2022-12-19T06:09:55.753Z"
   },
   {
    "duration": 198,
    "start_time": "2022-12-19T06:09:56.001Z"
   },
   {
    "duration": 1765,
    "start_time": "2022-12-19T06:09:57.154Z"
   },
   {
    "duration": 1633,
    "start_time": "2022-12-19T06:09:58.921Z"
   },
   {
    "duration": 1588,
    "start_time": "2022-12-19T06:10:00.556Z"
   },
   {
    "duration": 12,
    "start_time": "2022-12-19T06:10:02.147Z"
   },
   {
    "duration": 24,
    "start_time": "2022-12-19T06:10:02.160Z"
   },
   {
    "duration": 469,
    "start_time": "2022-12-19T06:10:02.185Z"
   },
   {
    "duration": 357,
    "start_time": "2022-12-19T06:10:02.656Z"
   },
   {
    "duration": 3,
    "start_time": "2022-12-19T06:10:03.014Z"
   },
   {
    "duration": 10,
    "start_time": "2022-12-19T06:10:03.019Z"
   },
   {
    "duration": 21,
    "start_time": "2022-12-19T06:10:03.031Z"
   },
   {
    "duration": 14,
    "start_time": "2022-12-19T06:10:03.054Z"
   },
   {
    "duration": 515,
    "start_time": "2022-12-19T06:10:03.069Z"
   },
   {
    "duration": 23,
    "start_time": "2022-12-19T06:10:03.587Z"
   },
   {
    "duration": 14,
    "start_time": "2022-12-19T06:10:03.871Z"
   },
   {
    "duration": 19,
    "start_time": "2022-12-19T06:10:05.430Z"
   },
   {
    "duration": 8,
    "start_time": "2022-12-19T06:10:05.886Z"
   },
   {
    "duration": 9,
    "start_time": "2022-12-19T06:10:06.340Z"
   },
   {
    "duration": 9,
    "start_time": "2022-12-19T06:10:06.580Z"
   },
   {
    "duration": 11,
    "start_time": "2022-12-19T06:10:07.028Z"
   },
   {
    "duration": 4,
    "start_time": "2022-12-19T06:10:07.484Z"
   },
   {
    "duration": 3,
    "start_time": "2022-12-19T06:10:08.420Z"
   },
   {
    "duration": 99893,
    "start_time": "2022-12-19T06:10:08.892Z"
   },
   {
    "duration": 3,
    "start_time": "2022-12-19T06:11:48.788Z"
   },
   {
    "duration": 1859,
    "start_time": "2022-12-19T06:11:48.793Z"
   },
   {
    "duration": 2363034,
    "start_time": "2022-12-19T06:11:50.656Z"
   },
   {
    "duration": 5,
    "start_time": "2022-12-19T06:51:13.692Z"
   },
   {
    "duration": 5208,
    "start_time": "2022-12-19T06:51:13.708Z"
   },
   {
    "duration": 15,
    "start_time": "2022-12-19T06:51:18.917Z"
   },
   {
    "duration": 22,
    "start_time": "2022-12-19T06:51:18.933Z"
   },
   {
    "duration": 4,
    "start_time": "2022-12-19T06:51:18.958Z"
   },
   {
    "duration": 148,
    "start_time": "2022-12-19T06:55:57.085Z"
   },
   {
    "duration": 116,
    "start_time": "2022-12-19T06:56:28.976Z"
   },
   {
    "duration": 162,
    "start_time": "2022-12-19T06:56:58.213Z"
   },
   {
    "duration": 10,
    "start_time": "2022-12-19T07:04:13.183Z"
   },
   {
    "duration": 179,
    "start_time": "2022-12-19T07:09:00.450Z"
   },
   {
    "duration": 8,
    "start_time": "2022-12-19T07:09:29.944Z"
   },
   {
    "duration": 121,
    "start_time": "2022-12-19T07:10:09.088Z"
   },
   {
    "duration": 10,
    "start_time": "2022-12-19T07:10:19.995Z"
   },
   {
    "duration": 10,
    "start_time": "2022-12-19T07:10:43.227Z"
   },
   {
    "duration": 137,
    "start_time": "2022-12-19T07:11:06.714Z"
   },
   {
    "duration": 10,
    "start_time": "2022-12-19T07:12:50.881Z"
   },
   {
    "duration": 10,
    "start_time": "2022-12-19T07:13:07.825Z"
   },
   {
    "duration": 20,
    "start_time": "2022-12-19T07:13:13.494Z"
   },
   {
    "duration": 11,
    "start_time": "2022-12-19T07:14:19.083Z"
   },
   {
    "duration": 13,
    "start_time": "2022-12-19T07:14:51.655Z"
   },
   {
    "duration": 575,
    "start_time": "2022-12-19T07:16:38.690Z"
   },
   {
    "duration": 14,
    "start_time": "2022-12-19T07:19:19.806Z"
   },
   {
    "duration": 14,
    "start_time": "2022-12-19T07:19:24.595Z"
   },
   {
    "duration": 131,
    "start_time": "2022-12-19T07:19:29.400Z"
   },
   {
    "duration": 15,
    "start_time": "2022-12-19T07:19:39.773Z"
   },
   {
    "duration": 81,
    "start_time": "2022-12-19T07:23:37.518Z"
   },
   {
    "duration": 14,
    "start_time": "2022-12-19T07:24:08.824Z"
   },
   {
    "duration": 17,
    "start_time": "2022-12-19T07:25:31.799Z"
   },
   {
    "duration": 22,
    "start_time": "2022-12-19T07:25:45.790Z"
   },
   {
    "duration": 8,
    "start_time": "2022-12-19T07:25:51.240Z"
   },
   {
    "duration": 11,
    "start_time": "2022-12-19T07:26:18.308Z"
   },
   {
    "duration": 10,
    "start_time": "2022-12-19T07:26:22.356Z"
   },
   {
    "duration": 17,
    "start_time": "2022-12-19T07:26:33.128Z"
   },
   {
    "duration": 154,
    "start_time": "2022-12-19T07:28:42.188Z"
   },
   {
    "duration": 124,
    "start_time": "2022-12-19T07:29:17.885Z"
   },
   {
    "duration": 5,
    "start_time": "2022-12-19T07:32:02.371Z"
   },
   {
    "duration": 6,
    "start_time": "2022-12-19T07:32:13.824Z"
   },
   {
    "duration": 5,
    "start_time": "2022-12-19T07:32:15.893Z"
   },
   {
    "duration": 14,
    "start_time": "2022-12-19T07:33:02.190Z"
   },
   {
    "duration": 12,
    "start_time": "2022-12-19T07:33:11.705Z"
   },
   {
    "duration": 5,
    "start_time": "2022-12-19T07:33:20.149Z"
   },
   {
    "duration": 10,
    "start_time": "2022-12-19T07:33:31.920Z"
   },
   {
    "duration": 11,
    "start_time": "2022-12-19T07:33:46.499Z"
   },
   {
    "duration": 154,
    "start_time": "2022-12-19T07:40:43.343Z"
   },
   {
    "duration": 135,
    "start_time": "2022-12-19T07:40:55.423Z"
   },
   {
    "duration": 137,
    "start_time": "2022-12-19T07:41:10.040Z"
   },
   {
    "duration": 14,
    "start_time": "2022-12-19T07:50:44.134Z"
   },
   {
    "duration": 10,
    "start_time": "2022-12-19T07:51:23.566Z"
   },
   {
    "duration": 200,
    "start_time": "2022-12-19T07:52:43.183Z"
   },
   {
    "duration": 282,
    "start_time": "2022-12-19T07:53:14.896Z"
   },
   {
    "duration": 272,
    "start_time": "2022-12-19T07:53:29.450Z"
   },
   {
    "duration": 13,
    "start_time": "2022-12-19T07:54:32.667Z"
   },
   {
    "duration": 12,
    "start_time": "2022-12-19T07:54:54.920Z"
   },
   {
    "duration": 15,
    "start_time": "2022-12-19T07:55:40.978Z"
   },
   {
    "duration": 1713,
    "start_time": "2022-12-19T07:58:07.013Z"
   },
   {
    "duration": 861,
    "start_time": "2022-12-19T07:58:08.728Z"
   },
   {
    "duration": 25,
    "start_time": "2022-12-19T07:58:09.592Z"
   },
   {
    "duration": 53,
    "start_time": "2022-12-19T07:58:09.622Z"
   },
   {
    "duration": 4,
    "start_time": "2022-12-19T07:58:09.677Z"
   },
   {
    "duration": 39,
    "start_time": "2022-12-19T07:58:09.683Z"
   },
   {
    "duration": 21,
    "start_time": "2022-12-19T07:58:09.724Z"
   },
   {
    "duration": 17,
    "start_time": "2022-12-19T07:58:09.748Z"
   },
   {
    "duration": 16,
    "start_time": "2022-12-19T07:58:09.770Z"
   },
   {
    "duration": 18,
    "start_time": "2022-12-19T07:58:09.790Z"
   },
   {
    "duration": 164,
    "start_time": "2022-12-19T07:58:09.810Z"
   },
   {
    "duration": 30,
    "start_time": "2022-12-19T07:58:09.977Z"
   },
   {
    "duration": 12,
    "start_time": "2022-12-19T07:58:10.009Z"
   },
   {
    "duration": 38,
    "start_time": "2022-12-19T07:58:10.023Z"
   },
   {
    "duration": 40,
    "start_time": "2022-12-19T07:58:10.063Z"
   },
   {
    "duration": 3,
    "start_time": "2022-12-19T07:58:10.105Z"
   },
   {
    "duration": 12,
    "start_time": "2022-12-19T07:58:10.110Z"
   },
   {
    "duration": 23,
    "start_time": "2022-12-19T07:58:10.124Z"
   },
   {
    "duration": 37,
    "start_time": "2022-12-19T07:58:10.149Z"
   },
   {
    "duration": 52,
    "start_time": "2022-12-19T07:58:10.188Z"
   },
   {
    "duration": 51,
    "start_time": "2022-12-19T07:58:10.243Z"
   },
   {
    "duration": 7,
    "start_time": "2022-12-19T07:58:10.297Z"
   },
   {
    "duration": 212,
    "start_time": "2022-12-19T07:58:10.306Z"
   },
   {
    "duration": 203,
    "start_time": "2022-12-19T07:58:10.521Z"
   },
   {
    "duration": 201,
    "start_time": "2022-12-19T07:58:10.726Z"
   },
   {
    "duration": 1860,
    "start_time": "2022-12-19T07:58:10.929Z"
   },
   {
    "duration": 1611,
    "start_time": "2022-12-19T07:58:12.790Z"
   },
   {
    "duration": 1696,
    "start_time": "2022-12-19T07:58:14.405Z"
   },
   {
    "duration": 10,
    "start_time": "2022-12-19T07:58:16.102Z"
   },
   {
    "duration": 6,
    "start_time": "2022-12-19T07:58:16.114Z"
   },
   {
    "duration": 467,
    "start_time": "2022-12-19T07:58:16.121Z"
   },
   {
    "duration": 396,
    "start_time": "2022-12-19T07:58:16.590Z"
   },
   {
    "duration": 2,
    "start_time": "2022-12-19T07:58:16.988Z"
   },
   {
    "duration": 13,
    "start_time": "2022-12-19T07:58:16.992Z"
   },
   {
    "duration": 5,
    "start_time": "2022-12-19T07:58:17.007Z"
   },
   {
    "duration": 14,
    "start_time": "2022-12-19T07:58:17.014Z"
   },
   {
    "duration": 563,
    "start_time": "2022-12-19T07:58:17.030Z"
   },
   {
    "duration": 22,
    "start_time": "2022-12-19T07:58:17.594Z"
   },
   {
    "duration": 13,
    "start_time": "2022-12-19T07:58:17.618Z"
   },
   {
    "duration": 33,
    "start_time": "2022-12-19T07:58:17.650Z"
   },
   {
    "duration": 8,
    "start_time": "2022-12-19T07:58:17.686Z"
   },
   {
    "duration": 14,
    "start_time": "2022-12-19T07:58:17.696Z"
   },
   {
    "duration": 12,
    "start_time": "2022-12-19T07:58:17.712Z"
   },
   {
    "duration": 10,
    "start_time": "2022-12-19T07:58:17.726Z"
   },
   {
    "duration": 27,
    "start_time": "2022-12-19T07:58:17.737Z"
   },
   {
    "duration": 15,
    "start_time": "2022-12-19T07:58:17.771Z"
   },
   {
    "duration": 109722,
    "start_time": "2022-12-19T07:58:17.788Z"
   },
   {
    "duration": 3,
    "start_time": "2022-12-19T08:00:07.512Z"
   },
   {
    "duration": 2750,
    "start_time": "2022-12-19T08:00:07.517Z"
   },
   {
    "duration": 2483794,
    "start_time": "2022-12-19T08:00:10.273Z"
   },
   {
    "duration": 4,
    "start_time": "2022-12-19T08:41:34.069Z"
   },
   {
    "duration": 5488,
    "start_time": "2022-12-19T08:41:34.075Z"
   },
   {
    "duration": 20,
    "start_time": "2022-12-19T08:41:39.567Z"
   },
   {
    "duration": 20,
    "start_time": "2022-12-19T08:41:39.590Z"
   }
  ],
  "kernelspec": {
   "display_name": "Python 3 (ipykernel)",
   "language": "python",
   "name": "python3"
  },
  "language_info": {
   "codemirror_mode": {
    "name": "ipython",
    "version": 3
   },
   "file_extension": ".py",
   "mimetype": "text/x-python",
   "name": "python",
   "nbconvert_exporter": "python",
   "pygments_lexer": "ipython3",
   "version": "3.9.13"
  },
  "toc": {
   "base_numbering": 1,
   "nav_menu": {},
   "number_sections": true,
   "sideBar": true,
   "skip_h1_title": true,
   "title_cell": "Содержание",
   "title_sidebar": "Contents",
   "toc_cell": true,
   "toc_position": {},
   "toc_section_display": true,
   "toc_window_display": true
  }
 },
 "nbformat": 4,
 "nbformat_minor": 2
}
