{
 "cells": [
  {
   "cell_type": "markdown",
   "metadata": {},
   "source": [
    "\n"
   ]
  },
  {
   "cell_type": "markdown",
   "metadata": {},
   "source": [
    "# Выбор локации для скважины"
   ]
  },
  {
   "cell_type": "markdown",
   "metadata": {},
   "source": [
    "Допустим, вы работаете в добывающей компании «ГлавРосГосНефть». Нужно решить, где бурить новую скважину.\n",
    "\n",
    "Вам предоставлены пробы нефти в трёх регионах: в каждом 10 000 месторождений, где измерили качество нефти и объём её запасов. Постройте модель машинного обучения, которая поможет определить регион, где добыча принесёт наибольшую прибыль. Проанализируйте возможную прибыль и риски техникой *Bootstrap.*\n",
    "\n",
    "Шаги для выбора локации:\n",
    "\n",
    "- В избранном регионе ищут месторождения, для каждого определяют значения признаков;\n",
    "- Строят модель и оценивают объём запасов;\n",
    "- Выбирают месторождения с самым высокими оценками значений. Количество месторождений зависит от бюджета компании и стоимости разработки одной скважины;\n",
    "- Прибыль равна суммарной прибыли отобранных месторождений."
   ]
  },
  {
   "cell_type": "code",
   "execution_count": 216,
   "metadata": {},
   "outputs": [],
   "source": [
    "import pandas as pd\n",
    "import numpy as np\n",
    "from sklearn.model_selection import train_test_split\n",
    "from sklearn.metrics import mean_squared_error\n",
    "from sklearn.linear_model import LinearRegression\n",
    "from scipy import stats as st "
   ]
  },
  {
   "cell_type": "markdown",
   "metadata": {},
   "source": [
    "## Загрузка и подготовка данных"
   ]
  },
  {
   "cell_type": "code",
   "execution_count": 217,
   "metadata": {},
   "outputs": [],
   "source": [
    "geo_data_0 = pd.read_csv(\"/datasets/geo_data_0.csv\")\n",
    "geo_data_1 = pd.read_csv(\"/datasets/geo_data_1.csv\")\n",
    "geo_data_2 = pd.read_csv(\"/datasets/geo_data_2.csv\")"
   ]
  },
  {
   "cell_type": "markdown",
   "metadata": {},
   "source": [
    "Посмотрим на данные"
   ]
  },
  {
   "cell_type": "code",
   "execution_count": 218,
   "metadata": {},
   "outputs": [
    {
     "name": "stdout",
     "output_type": "stream",
     "text": [
      "<class 'pandas.core.frame.DataFrame'>\n",
      "RangeIndex: 100000 entries, 0 to 99999\n",
      "Data columns (total 5 columns):\n",
      " #   Column   Non-Null Count   Dtype  \n",
      "---  ------   --------------   -----  \n",
      " 0   id       100000 non-null  object \n",
      " 1   f0       100000 non-null  float64\n",
      " 2   f1       100000 non-null  float64\n",
      " 3   f2       100000 non-null  float64\n",
      " 4   product  100000 non-null  float64\n",
      "dtypes: float64(4), object(1)\n",
      "memory usage: 3.8+ MB\n",
      "None\n",
      "<class 'pandas.core.frame.DataFrame'>\n",
      "RangeIndex: 100000 entries, 0 to 99999\n",
      "Data columns (total 5 columns):\n",
      " #   Column   Non-Null Count   Dtype  \n",
      "---  ------   --------------   -----  \n",
      " 0   id       100000 non-null  object \n",
      " 1   f0       100000 non-null  float64\n",
      " 2   f1       100000 non-null  float64\n",
      " 3   f2       100000 non-null  float64\n",
      " 4   product  100000 non-null  float64\n",
      "dtypes: float64(4), object(1)\n",
      "memory usage: 3.8+ MB\n",
      "None\n",
      "<class 'pandas.core.frame.DataFrame'>\n",
      "RangeIndex: 100000 entries, 0 to 99999\n",
      "Data columns (total 5 columns):\n",
      " #   Column   Non-Null Count   Dtype  \n",
      "---  ------   --------------   -----  \n",
      " 0   id       100000 non-null  object \n",
      " 1   f0       100000 non-null  float64\n",
      " 2   f1       100000 non-null  float64\n",
      " 3   f2       100000 non-null  float64\n",
      " 4   product  100000 non-null  float64\n",
      "dtypes: float64(4), object(1)\n",
      "memory usage: 3.8+ MB\n",
      "None\n"
     ]
    }
   ],
   "source": [
    "print(geo_data_0.info())\n",
    "print(geo_data_1.info())\n",
    "print(geo_data_2.info())"
   ]
  },
  {
   "cell_type": "code",
   "execution_count": 219,
   "metadata": {},
   "outputs": [],
   "source": [
    "geo_data_0.drop('id', axis=1, inplace=True)\n",
    "geo_data_1.drop('id', axis=1, inplace=True)\n",
    "geo_data_2.drop('id', axis=1, inplace=True)"
   ]
  },
  {
   "cell_type": "markdown",
   "metadata": {},
   "source": [
    "id т.к.  уникальны нам не нужны"
   ]
  },
  {
   "cell_type": "markdown",
   "metadata": {},
   "source": [
    "Посмотрим на явные повторы"
   ]
  },
  {
   "cell_type": "code",
   "execution_count": 220,
   "metadata": {},
   "outputs": [
    {
     "name": "stdout",
     "output_type": "stream",
     "text": [
      "0\n",
      "0\n",
      "0\n"
     ]
    }
   ],
   "source": [
    "print(geo_data_0.duplicated().sum())\n",
    "print(geo_data_1.duplicated().sum())\n",
    "print(geo_data_2.duplicated().sum())"
   ]
  },
  {
   "cell_type": "markdown",
   "metadata": {},
   "source": [
    "## Обучение и проверка модели"
   ]
  },
  {
   "cell_type": "code",
   "execution_count": 221,
   "metadata": {},
   "outputs": [],
   "source": [
    "features_0 = geo_data_0.drop(['product'], axis=1)\n",
    "target_0 = geo_data_0['product']\n",
    "\n",
    "features_train_0, features_valid_0, target_train_0, target_valid_0 = train_test_split(\n",
    "    features_0, target_0, test_size=0.25, random_state=12345)\n",
    "\n",
    "\n",
    "features_1 = geo_data_1.drop(['product'], axis=1)\n",
    "target_1 = geo_data_1['product']\n",
    "\n",
    "features_train_1, features_valid_1, target_train_1, target_valid_1 = train_test_split(\n",
    "    features_1, target_1, test_size=0.25, random_state=12345)\n",
    "\n",
    "\n",
    "features_2 = geo_data_2.drop(['product'], axis=1)\n",
    "target_2 = geo_data_2['product']\n",
    "\n",
    "features_train_2, features_valid_2, target_train_2, target_valid_2 = train_test_split(\n",
    "    features_2, target_2, test_size=0.25, random_state=12345)"
   ]
  },
  {
   "cell_type": "code",
   "execution_count": 222,
   "metadata": {},
   "outputs": [
    {
     "name": "stdout",
     "output_type": "stream",
     "text": [
      "RMSE модели линейной регрессии на валидационной выборке: 37.5794217150813\n",
      "Средний кол-во ресурса: 92.59256778438035\n"
     ]
    }
   ],
   "source": [
    "model = LinearRegression()\n",
    "model.fit(features_train_0, target_train_0)\n",
    "predictions_valid_0 = model.predict(features_valid_0)\n",
    "result_0 = mean_squared_error(target_valid_0, predictions_valid_0) ** 0.5\n",
    "print(\"RMSE модели линейной регрессии на валидационной выборке:\", result_0)\n",
    "print('Средний кол-во ресурса:', predictions_valid_0.mean())"
   ]
  },
  {
   "cell_type": "code",
   "execution_count": 223,
   "metadata": {},
   "outputs": [
    {
     "name": "stdout",
     "output_type": "stream",
     "text": [
      "RMSE модели линейной регрессии на валидационной выборке: 0.893099286775617\n",
      "Средний кол-во ресурса: 68.728546895446\n"
     ]
    }
   ],
   "source": [
    "model = LinearRegression()\n",
    "model.fit(features_train_1, target_train_1)\n",
    "predictions_valid_1 = model.predict(features_valid_1)\n",
    "result_1 = mean_squared_error(target_valid_1, predictions_valid_1) ** 0.5\n",
    "print(\"RMSE модели линейной регрессии на валидационной выборке:\", result_1)\n",
    "print('Средний кол-во ресурса:', predictions_valid_1.mean())"
   ]
  },
  {
   "cell_type": "code",
   "execution_count": 224,
   "metadata": {},
   "outputs": [
    {
     "name": "stdout",
     "output_type": "stream",
     "text": [
      "RMSE модели линейной регрессии на валидационной выборке: 40.02970873393434\n",
      "Средний кол-во ресурса: 94.96504596800489\n"
     ]
    }
   ],
   "source": [
    "model = LinearRegression()\n",
    "model.fit(features_train_2, target_train_2)\n",
    "predictions_valid_2 = model.predict(features_valid_2)\n",
    "result_2 = mean_squared_error(target_valid_2, predictions_valid_2) ** 0.5\n",
    "print(\"RMSE модели линейной регрессии на валидационной выборке:\", result_2)\n",
    "print('Средний кол-во ресурса:', predictions_valid_2.mean())"
   ]
  },
  {
   "cell_type": "markdown",
   "metadata": {},
   "source": [
    "Лучший показатель RMSE у 2 региона.Но запасы малы по сравнению с остальными..."
   ]
  },
  {
   "cell_type": "code",
   "execution_count": 225,
   "metadata": {},
   "outputs": [],
   "source": [
    "def model_and_split(geo_data):\n",
    "    features = geo_data.drop(['product'], axis=1)\n",
    "    target = geo_data['product']\n",
    "\n",
    "    features_train, features_valid, target_train, target_valid = train_test_split(\n",
    "        features, target, test_size=0.25, random_state=12345)\n",
    "\n",
    "    model = LinearRegression()\n",
    "    model.fit(features_train, target_train)\n",
    "    predictions_valid = model.predict(features_valid)\n",
    "\n",
    "    rmse = mean_squared_error(target_valid, predictions_valid) ** 0.5\n",
    "    mean = predictions_valid.mean()\n",
    "    return target_valid, predictions_valid, rmse, mean"
   ]
  },
  {
   "cell_type": "code",
   "execution_count": 226,
   "metadata": {},
   "outputs": [
    {
     "name": "stdout",
     "output_type": "stream",
     "text": [
      "RMSE модели линейной регрессии на валидационной выборке #1: 37.5794217150813\n",
      "Средний кол-во ресурса: 92.59256778438035\n"
     ]
    }
   ],
   "source": [
    "target_valid_0, predictions_valid_0, rmse_0, mean_0 = model_and_split(\n",
    "    geo_data_0)\n",
    "print(\"RMSE модели линейной регрессии на валидационной выборке #1:\", rmse_0)\n",
    "print('Средний кол-во ресурса:', mean_0)"
   ]
  },
  {
   "cell_type": "code",
   "execution_count": 227,
   "metadata": {},
   "outputs": [
    {
     "name": "stdout",
     "output_type": "stream",
     "text": [
      "RMSE модели линейной регрессии на валидационной выборке #2: 0.893099286775617\n",
      "Средний кол-во ресурса: 68.728546895446\n"
     ]
    }
   ],
   "source": [
    "target_valid_1, predictions_valid_1, rmse_1, mean_1 = model_and_split(\n",
    "    geo_data_1)\n",
    "print(\"RMSE модели линейной регрессии на валидационной выборке #2:\", rmse_1)\n",
    "print('Средний кол-во ресурса:', mean_1)"
   ]
  },
  {
   "cell_type": "code",
   "execution_count": 228,
   "metadata": {},
   "outputs": [
    {
     "name": "stdout",
     "output_type": "stream",
     "text": [
      "RMSE модели линейной регрессии на валидационной выборке #3: 40.02970873393434\n",
      "Средний кол-во ресурса: 94.96504596800489\n"
     ]
    }
   ],
   "source": [
    "target_valid_2, predictions_valid_2, rmse_2, mean_2 = model_and_split(\n",
    "    geo_data_2)\n",
    "print(\"RMSE модели линейной регрессии на валидационной выборке #3:\", rmse_2)\n",
    "print('Средний кол-во ресурса:', mean_2)"
   ]
  },
  {
   "cell_type": "markdown",
   "metadata": {},
   "source": [
    "## Подготовка к расчёту прибыли"
   ]
  },
  {
   "cell_type": "markdown",
   "metadata": {},
   "source": [
    "При разведке региона исследуют 500 точек, из которых с помощью машинного обучения выбирают 200 лучших для разработки.\n",
    "Бюджет на разработку скважин в регионе — 10 млрд рублей.\n",
    "При нынешних ценах один баррель сырья приносит 450 рублей дохода. Доход с каждой единицы продукта составляет 450 тыс. рублей, поскольку объём указан в тысячах баррелей.\n",
    "После оценки рисков нужно оставить лишь те регионы, в которых вероятность убытков меньше 2.5%. Среди них выбирают регион с наибольшей средней прибылью."
   ]
  },
  {
   "cell_type": "code",
   "execution_count": 229,
   "metadata": {},
   "outputs": [],
   "source": [
    "BUDGET = 10000000000\n",
    "PRODUCT = 450000\n",
    "WELL = 200"
   ]
  },
  {
   "cell_type": "markdown",
   "metadata": {},
   "source": [
    "Далее посмотрим,  сколько нам надо ресурса с 1 скважины, что бы выйти в 0"
   ]
  },
  {
   "cell_type": "code",
   "execution_count": 230,
   "metadata": {},
   "outputs": [
    {
     "name": "stdout",
     "output_type": "stream",
     "text": [
      "111.11111111111111\n"
     ]
    }
   ],
   "source": [
    "PRICE = BUDGET/WELL  # на 1 скважину\n",
    "LOW = PRICE/PRODUCT\n",
    "print(LOW)"
   ]
  },
  {
   "cell_type": "markdown",
   "metadata": {},
   "source": [
    "Получается нам надо с 1 скважины не менее 111,1  барелей.\n",
    "Зрительно видно, что у нас явно по среднему запасу не один из регионов не проходит.\n",
    "По заданию надо укзать сколько"
   ]
  },
  {
   "cell_type": "code",
   "execution_count": 231,
   "metadata": {},
   "outputs": [
    {
     "name": "stdout",
     "output_type": "stream",
     "text": [
      "В 1 регионе не хватает: 18.518543326730764\n"
     ]
    }
   ],
   "source": [
    "print('В 1 регионе не хватает:', abs(predictions_valid_0.mean()-LOW))"
   ]
  },
  {
   "cell_type": "code",
   "execution_count": 232,
   "metadata": {},
   "outputs": [
    {
     "name": "stdout",
     "output_type": "stream",
     "text": [
      "В 2 регионе не хватает: 42.38256421566511\n"
     ]
    }
   ],
   "source": [
    "print('В 2 регионе не хватает:', abs(predictions_valid_1.mean()-LOW))"
   ]
  },
  {
   "cell_type": "code",
   "execution_count": 233,
   "metadata": {},
   "outputs": [
    {
     "name": "stdout",
     "output_type": "stream",
     "text": [
      "В 3 регионе не хватает: 16.146065143106227\n"
     ]
    }
   ],
   "source": [
    "print('В 3 регионе не хватает:', abs(predictions_valid_2.mean()-LOW))"
   ]
  },
  {
   "cell_type": "markdown",
   "metadata": {},
   "source": [
    "Результат не даёт понять о прибыли региона."
   ]
  },
  {
   "cell_type": "markdown",
   "metadata": {},
   "source": [
    "## Расчёт прибыли и рисков "
   ]
  },
  {
   "cell_type": "markdown",
   "metadata": {},
   "source": [
    "Функция для посчета дохода топ скважин."
   ]
  },
  {
   "cell_type": "code",
   "execution_count": 234,
   "metadata": {},
   "outputs": [],
   "source": [
    "def profit(target, probabilities, count):\n",
    "    probs_sorted = probabilities.sort_values(ascending=False)\n",
    "    selected = target[probs_sorted.index][:count]\n",
    "    itog = selected.sum()*PRODUCT\n",
    "    return itog-BUDGET"
   ]
  },
  {
   "cell_type": "code",
   "execution_count": 235,
   "metadata": {},
   "outputs": [],
   "source": [
    "def profit_2(target, probabilities):\n",
    "    target = pd.Series(target).reset_index(drop=True)\n",
    "    probabilities = pd.Series(probabilities)\n",
    "    state = np.random.RandomState(12345)\n",
    "    values = []\n",
    "    for i in range(1000):\n",
    "        target_subsample = target.sample(500, replace=True, random_state=state)\n",
    "        probs_subsample = probabilities[target_subsample.index]\n",
    "        values.append(profit(target_subsample, probs_subsample, 200))\n",
    "    val = pd.Series(values)\n",
    "    lower = val.quantile(0.025)\n",
    "    upper = val.quantile(0.975)\n",
    "    procent = st.percentileofscore(val, 0)\n",
    "    mean = val.mean()\n",
    "    print(\"Средняя выручка:\", mean)\n",
    "    print(\"Доверие от:\", lower)\n",
    "    print(\"Доверие до:\", upper)\n",
    "    print(\"Риск:\", procent, '%')"
   ]
  },
  {
   "cell_type": "code",
   "execution_count": 236,
   "metadata": {},
   "outputs": [
    {
     "name": "stdout",
     "output_type": "stream",
     "text": [
      "Регион №1\n",
      "Средняя выручка: 425938526.91059244\n",
      "Доверие от: -102090094.83793654\n",
      "Доверие до: 947976353.3583689\n",
      "Риск: 6.0 %\n"
     ]
    }
   ],
   "source": [
    "print('Регион №1')\n",
    "profit_2(target_valid_0, predictions_valid_0)"
   ]
  },
  {
   "cell_type": "code",
   "execution_count": 237,
   "metadata": {},
   "outputs": [
    {
     "name": "stdout",
     "output_type": "stream",
     "text": [
      "Регион №2\n",
      "Средняя выручка: 515222773.4432899\n",
      "Доверие от: 68873225.37050176\n",
      "Доверие до: 931547591.2570494\n",
      "Риск: 1.0 %\n"
     ]
    }
   ],
   "source": [
    "print('Регион №2')\n",
    "profit_2(target_valid_1, predictions_valid_1)"
   ]
  },
  {
   "cell_type": "code",
   "execution_count": 238,
   "metadata": {},
   "outputs": [
    {
     "name": "stdout",
     "output_type": "stream",
     "text": [
      "Регион №3\n",
      "Средняя выручка: 435008362.7827556\n",
      "Доверие от: -128880547.32978901\n",
      "Доверие до: 969706954.1802661\n",
      "Риск: 6.4 %\n"
     ]
    }
   ],
   "source": [
    "print('Регион №3')\n",
    "profit_2(target_valid_2, predictions_valid_2)"
   ]
  },
  {
   "cell_type": "markdown",
   "metadata": {},
   "source": [
    "Написали функции, для выручки, 95%-й доверительный интервал и %риска убытков. "
   ]
  },
  {
   "cell_type": "markdown",
   "metadata": {},
   "source": [
    "Выводы:\n",
    "Изначально запасы 2 региона (68.7)  меньше чем остальных регионов. А также меньше минимального запаса для доходности месторождения . В итоге после наших вычислений , топ регион стал  именно второй – риск убытков всего 1.0 %. \n",
    "2 регион рекомендуем для разработки на основании проведенного исследования. Находящийся в датасете (\"/datasets/geo_data_1.csv\")\n"
   ]
  }
 ],
 "metadata": {
  "ExecuteTimeLog": [
   {
    "duration": 368,
    "start_time": "2022-11-29T15:21:04.569Z"
   },
   {
    "duration": 767,
    "start_time": "2022-11-29T15:21:06.003Z"
   },
   {
    "duration": 392,
    "start_time": "2022-11-29T15:21:10.308Z"
   },
   {
    "duration": 19,
    "start_time": "2022-11-29T15:21:32.929Z"
   },
   {
    "duration": 11,
    "start_time": "2022-11-29T15:21:40.102Z"
   },
   {
    "duration": 12,
    "start_time": "2022-11-29T15:21:45.404Z"
   },
   {
    "duration": 16,
    "start_time": "2022-11-29T15:22:45.684Z"
   },
   {
    "duration": 34,
    "start_time": "2022-11-29T15:23:31.752Z"
   },
   {
    "duration": 31,
    "start_time": "2022-11-29T15:24:25.653Z"
   },
   {
    "duration": 42,
    "start_time": "2022-11-29T15:25:10.857Z"
   },
   {
    "duration": 109,
    "start_time": "2022-11-29T15:25:26.155Z"
   },
   {
    "duration": 371,
    "start_time": "2022-11-29T15:28:40.474Z"
   },
   {
    "duration": 37,
    "start_time": "2022-11-29T15:29:04.833Z"
   },
   {
    "duration": 117,
    "start_time": "2022-11-29T16:07:40.759Z"
   },
   {
    "duration": 65,
    "start_time": "2022-11-29T16:20:23.911Z"
   },
   {
    "duration": 5,
    "start_time": "2022-11-29T16:20:51.094Z"
   },
   {
    "duration": 19,
    "start_time": "2022-11-29T16:21:33.029Z"
   },
   {
    "duration": 13,
    "start_time": "2022-11-29T16:21:51.468Z"
   },
   {
    "duration": 17,
    "start_time": "2022-11-29T16:42:32.093Z"
   },
   {
    "duration": 640,
    "start_time": "2022-11-29T16:43:12.965Z"
   },
   {
    "duration": 375,
    "start_time": "2022-11-29T16:43:13.607Z"
   },
   {
    "duration": 35,
    "start_time": "2022-11-29T16:43:14.052Z"
   },
   {
    "duration": 108,
    "start_time": "2022-11-29T16:43:14.900Z"
   },
   {
    "duration": 62,
    "start_time": "2022-11-29T16:43:17.125Z"
   },
   {
    "duration": 2,
    "start_time": "2022-11-29T16:43:40.691Z"
   },
   {
    "duration": 372,
    "start_time": "2022-11-29T16:43:41.587Z"
   },
   {
    "duration": 41,
    "start_time": "2022-11-29T16:43:42.700Z"
   },
   {
    "duration": 114,
    "start_time": "2022-11-29T16:43:44.113Z"
   },
   {
    "duration": 64,
    "start_time": "2022-11-29T16:44:27.369Z"
   },
   {
    "duration": 9,
    "start_time": "2022-11-29T17:23:21.072Z"
   },
   {
    "duration": 11,
    "start_time": "2022-11-29T17:23:39.983Z"
   },
   {
    "duration": 9,
    "start_time": "2022-11-29T17:23:46.692Z"
   },
   {
    "duration": 3,
    "start_time": "2022-11-29T17:24:02.663Z"
   },
   {
    "duration": 374,
    "start_time": "2022-11-29T17:24:03.045Z"
   },
   {
    "duration": 36,
    "start_time": "2022-11-29T17:24:03.429Z"
   },
   {
    "duration": 116,
    "start_time": "2022-11-29T17:24:03.837Z"
   },
   {
    "duration": 58,
    "start_time": "2022-11-29T17:24:04.478Z"
   },
   {
    "duration": 6,
    "start_time": "2022-11-29T17:24:04.797Z"
   },
   {
    "duration": 33,
    "start_time": "2022-11-29T17:30:44.397Z"
   },
   {
    "duration": 9,
    "start_time": "2022-11-29T17:30:57.661Z"
   },
   {
    "duration": 2,
    "start_time": "2022-11-29T17:31:37.121Z"
   },
   {
    "duration": 369,
    "start_time": "2022-11-29T17:31:37.536Z"
   },
   {
    "duration": 35,
    "start_time": "2022-11-29T17:31:37.961Z"
   },
   {
    "duration": 16,
    "start_time": "2022-11-29T17:31:38.168Z"
   },
   {
    "duration": 72,
    "start_time": "2022-11-29T17:31:38.984Z"
   },
   {
    "duration": 34,
    "start_time": "2022-11-29T17:31:40.440Z"
   },
   {
    "duration": 6,
    "start_time": "2022-11-29T17:31:41.296Z"
   },
   {
    "duration": 7,
    "start_time": "2022-11-29T17:31:47.742Z"
   },
   {
    "duration": 3,
    "start_time": "2022-11-29T17:32:22.215Z"
   },
   {
    "duration": 353,
    "start_time": "2022-11-29T17:32:22.800Z"
   },
   {
    "duration": 35,
    "start_time": "2022-11-29T17:32:23.936Z"
   },
   {
    "duration": 2,
    "start_time": "2022-11-29T17:32:24.607Z"
   },
   {
    "duration": 119,
    "start_time": "2022-11-29T17:32:26.309Z"
   },
   {
    "duration": 48,
    "start_time": "2022-11-29T17:32:31.485Z"
   },
   {
    "duration": 6,
    "start_time": "2022-11-29T17:32:32.058Z"
   },
   {
    "duration": 9,
    "start_time": "2022-11-29T17:32:51.300Z"
   },
   {
    "duration": 70,
    "start_time": "2022-11-29T17:32:53.342Z"
   },
   {
    "duration": 35,
    "start_time": "2022-11-29T17:33:16.290Z"
   },
   {
    "duration": 6,
    "start_time": "2022-11-29T17:33:16.834Z"
   },
   {
    "duration": 9,
    "start_time": "2022-11-29T17:34:16.641Z"
   },
   {
    "duration": 5778,
    "start_time": "2022-11-29T17:35:19.473Z"
   },
   {
    "duration": 6,
    "start_time": "2022-11-29T17:35:52.261Z"
   },
   {
    "duration": 48,
    "start_time": "2022-11-30T06:05:53.108Z"
   },
   {
    "duration": 1111,
    "start_time": "2022-11-30T06:05:57.741Z"
   },
   {
    "duration": 785,
    "start_time": "2022-11-30T06:05:58.855Z"
   },
   {
    "duration": 36,
    "start_time": "2022-11-30T06:05:59.641Z"
   },
   {
    "duration": 15,
    "start_time": "2022-11-30T06:05:59.679Z"
   },
   {
    "duration": 82,
    "start_time": "2022-11-30T06:05:59.696Z"
   },
   {
    "duration": 34,
    "start_time": "2022-11-30T06:06:00.098Z"
   },
   {
    "duration": 28,
    "start_time": "2022-11-30T06:07:35.405Z"
   },
   {
    "duration": 21,
    "start_time": "2022-11-30T06:07:35.869Z"
   },
   {
    "duration": 6,
    "start_time": "2022-11-30T06:07:51.523Z"
   },
   {
    "duration": 16,
    "start_time": "2022-11-30T06:14:24.330Z"
   },
   {
    "duration": 15,
    "start_time": "2022-11-30T06:15:33.871Z"
   },
   {
    "duration": 6,
    "start_time": "2022-11-30T06:15:35.615Z"
   },
   {
    "duration": 17,
    "start_time": "2022-11-30T06:15:38.189Z"
   },
   {
    "duration": 3,
    "start_time": "2022-11-30T06:15:46.538Z"
   },
   {
    "duration": 387,
    "start_time": "2022-11-30T06:15:47.225Z"
   },
   {
    "duration": 34,
    "start_time": "2022-11-30T06:15:47.888Z"
   },
   {
    "duration": 14,
    "start_time": "2022-11-30T06:15:48.296Z"
   },
   {
    "duration": 74,
    "start_time": "2022-11-30T06:15:49.479Z"
   },
   {
    "duration": 27,
    "start_time": "2022-11-30T06:15:50.872Z"
   },
   {
    "duration": 13,
    "start_time": "2022-11-30T06:15:52.096Z"
   },
   {
    "duration": 6,
    "start_time": "2022-11-30T06:16:20.323Z"
   },
   {
    "duration": 3,
    "start_time": "2022-11-30T06:17:47.337Z"
   },
   {
    "duration": 371,
    "start_time": "2022-11-30T06:17:47.761Z"
   },
   {
    "duration": 35,
    "start_time": "2022-11-30T06:17:48.194Z"
   },
   {
    "duration": 14,
    "start_time": "2022-11-30T06:17:48.458Z"
   },
   {
    "duration": 69,
    "start_time": "2022-11-30T06:17:49.825Z"
   },
   {
    "duration": 29,
    "start_time": "2022-11-30T06:17:51.815Z"
   },
   {
    "duration": 24,
    "start_time": "2022-11-30T06:17:52.542Z"
   },
   {
    "duration": 15,
    "start_time": "2022-11-30T06:21:07.425Z"
   },
   {
    "duration": 14,
    "start_time": "2022-11-30T06:21:12.561Z"
   },
   {
    "duration": 14,
    "start_time": "2022-11-30T06:21:53.543Z"
   },
   {
    "duration": 15,
    "start_time": "2022-11-30T06:22:12.936Z"
   },
   {
    "duration": 15,
    "start_time": "2022-11-30T06:26:40.333Z"
   },
   {
    "duration": 15,
    "start_time": "2022-11-30T06:26:41.189Z"
   },
   {
    "duration": 14,
    "start_time": "2022-11-30T06:27:07.779Z"
   },
   {
    "duration": 14,
    "start_time": "2022-11-30T06:28:17.542Z"
   },
   {
    "duration": 15,
    "start_time": "2022-11-30T06:28:45.588Z"
   },
   {
    "duration": 3,
    "start_time": "2022-11-30T07:32:00.754Z"
   },
   {
    "duration": 3,
    "start_time": "2022-11-30T07:32:19.967Z"
   },
   {
    "duration": 4,
    "start_time": "2022-11-30T07:33:44.480Z"
   },
   {
    "duration": 3,
    "start_time": "2022-11-30T07:49:08.322Z"
   },
   {
    "duration": 3,
    "start_time": "2022-11-30T08:26:33.534Z"
   },
   {
    "duration": 4,
    "start_time": "2022-11-30T08:29:36.989Z"
   },
   {
    "duration": 4,
    "start_time": "2022-11-30T08:33:43.467Z"
   },
   {
    "duration": 3,
    "start_time": "2022-11-30T08:43:19.143Z"
   },
   {
    "duration": 3,
    "start_time": "2022-11-30T08:43:38.494Z"
   },
   {
    "duration": 63,
    "start_time": "2022-11-30T09:18:40.022Z"
   },
   {
    "duration": 9,
    "start_time": "2022-11-30T09:18:51.070Z"
   },
   {
    "duration": 17,
    "start_time": "2022-11-30T09:19:01.608Z"
   },
   {
    "duration": 3,
    "start_time": "2022-11-30T09:19:15.987Z"
   },
   {
    "duration": 391,
    "start_time": "2022-11-30T09:19:16.387Z"
   },
   {
    "duration": 37,
    "start_time": "2022-11-30T09:19:16.810Z"
   },
   {
    "duration": 16,
    "start_time": "2022-11-30T09:19:17.058Z"
   },
   {
    "duration": 69,
    "start_time": "2022-11-30T09:19:17.888Z"
   },
   {
    "duration": 30,
    "start_time": "2022-11-30T09:19:18.617Z"
   },
   {
    "duration": 19,
    "start_time": "2022-11-30T09:19:19.000Z"
   },
   {
    "duration": 27,
    "start_time": "2022-11-30T09:20:06.000Z"
   },
   {
    "duration": 3,
    "start_time": "2022-11-30T09:20:09.702Z"
   },
   {
    "duration": 398,
    "start_time": "2022-11-30T09:20:10.077Z"
   },
   {
    "duration": 39,
    "start_time": "2022-11-30T09:20:10.477Z"
   },
   {
    "duration": 15,
    "start_time": "2022-11-30T09:20:10.653Z"
   },
   {
    "duration": 74,
    "start_time": "2022-11-30T09:20:11.253Z"
   },
   {
    "duration": 31,
    "start_time": "2022-11-30T09:20:11.869Z"
   },
   {
    "duration": 16,
    "start_time": "2022-11-30T09:20:12.069Z"
   },
   {
    "duration": 16,
    "start_time": "2022-11-30T09:20:12.268Z"
   },
   {
    "duration": 15,
    "start_time": "2022-11-30T09:20:13.179Z"
   },
   {
    "duration": 3,
    "start_time": "2022-11-30T09:20:16.099Z"
   },
   {
    "duration": 3,
    "start_time": "2022-11-30T09:20:17.154Z"
   },
   {
    "duration": 5,
    "start_time": "2022-11-30T09:20:20.320Z"
   },
   {
    "duration": 4,
    "start_time": "2022-11-30T09:20:21.889Z"
   },
   {
    "duration": 4,
    "start_time": "2022-11-30T09:20:22.504Z"
   },
   {
    "duration": 90,
    "start_time": "2022-11-30T09:21:34.907Z"
   },
   {
    "duration": 3,
    "start_time": "2022-11-30T09:21:41.776Z"
   },
   {
    "duration": 61,
    "start_time": "2022-11-30T09:22:14.308Z"
   },
   {
    "duration": 3,
    "start_time": "2022-11-30T09:22:39.715Z"
   },
   {
    "duration": 3,
    "start_time": "2022-11-30T09:22:42.000Z"
   },
   {
    "duration": 4,
    "start_time": "2022-11-30T09:22:43.727Z"
   },
   {
    "duration": 3,
    "start_time": "2022-11-30T09:23:01.328Z"
   },
   {
    "duration": 4,
    "start_time": "2022-11-30T09:23:18.282Z"
   },
   {
    "duration": 4,
    "start_time": "2022-11-30T09:23:20.513Z"
   },
   {
    "duration": 4,
    "start_time": "2022-11-30T09:23:20.713Z"
   },
   {
    "duration": 3,
    "start_time": "2022-11-30T09:24:28.516Z"
   },
   {
    "duration": 3,
    "start_time": "2022-11-30T09:35:03.817Z"
   },
   {
    "duration": 3,
    "start_time": "2022-11-30T09:56:24.291Z"
   },
   {
    "duration": 392,
    "start_time": "2022-11-30T09:56:24.747Z"
   },
   {
    "duration": 45,
    "start_time": "2022-11-30T09:56:25.141Z"
   },
   {
    "duration": 15,
    "start_time": "2022-11-30T09:56:25.347Z"
   },
   {
    "duration": 78,
    "start_time": "2022-11-30T09:56:25.993Z"
   },
   {
    "duration": 29,
    "start_time": "2022-11-30T09:56:26.617Z"
   },
   {
    "duration": 19,
    "start_time": "2022-11-30T09:56:26.833Z"
   },
   {
    "duration": 14,
    "start_time": "2022-11-30T09:56:27.056Z"
   },
   {
    "duration": 15,
    "start_time": "2022-11-30T09:56:27.489Z"
   },
   {
    "duration": 2,
    "start_time": "2022-11-30T09:56:28.993Z"
   },
   {
    "duration": 3,
    "start_time": "2022-11-30T09:56:29.608Z"
   },
   {
    "duration": 3,
    "start_time": "2022-11-30T09:56:30.393Z"
   },
   {
    "duration": 4,
    "start_time": "2022-11-30T09:56:30.857Z"
   },
   {
    "duration": 3,
    "start_time": "2022-11-30T09:56:31.329Z"
   },
   {
    "duration": 52,
    "start_time": "2022-11-30T09:56:33.543Z"
   },
   {
    "duration": 137,
    "start_time": "2022-11-30T09:56:38.996Z"
   },
   {
    "duration": 65,
    "start_time": "2022-11-30T09:56:59.029Z"
   },
   {
    "duration": 77,
    "start_time": "2022-11-30T09:57:16.734Z"
   },
   {
    "duration": 3,
    "start_time": "2022-11-30T09:57:28.809Z"
   },
   {
    "duration": 15,
    "start_time": "2022-11-30T10:15:01.751Z"
   },
   {
    "duration": 14,
    "start_time": "2022-11-30T10:15:01.970Z"
   },
   {
    "duration": 17,
    "start_time": "2022-11-30T10:15:02.616Z"
   },
   {
    "duration": 11,
    "start_time": "2022-11-30T10:19:40.175Z"
   },
   {
    "duration": 3,
    "start_time": "2022-11-30T10:19:50.516Z"
   },
   {
    "duration": 13,
    "start_time": "2022-11-30T10:19:55.625Z"
   },
   {
    "duration": 6,
    "start_time": "2022-11-30T10:20:35.848Z"
   },
   {
    "duration": 4,
    "start_time": "2022-11-30T10:20:40.670Z"
   },
   {
    "duration": 12,
    "start_time": "2022-11-30T10:21:16.657Z"
   },
   {
    "duration": 13,
    "start_time": "2022-11-30T10:23:00.576Z"
   },
   {
    "duration": 3,
    "start_time": "2022-11-30T10:24:49.628Z"
   },
   {
    "duration": 23,
    "start_time": "2022-11-30T10:24:50.988Z"
   },
   {
    "duration": 24,
    "start_time": "2022-11-30T10:26:48.054Z"
   },
   {
    "duration": 33,
    "start_time": "2022-11-30T10:26:55.721Z"
   },
   {
    "duration": 13,
    "start_time": "2022-11-30T10:28:26.636Z"
   },
   {
    "duration": 9,
    "start_time": "2022-11-30T10:28:47.013Z"
   },
   {
    "duration": 11,
    "start_time": "2022-11-30T10:29:34.609Z"
   },
   {
    "duration": 10,
    "start_time": "2022-11-30T10:29:52.012Z"
   },
   {
    "duration": 6,
    "start_time": "2022-11-30T10:30:04.989Z"
   },
   {
    "duration": 8,
    "start_time": "2022-11-30T10:30:16.992Z"
   },
   {
    "duration": 18,
    "start_time": "2022-11-30T10:30:32.535Z"
   },
   {
    "duration": 18,
    "start_time": "2022-11-30T10:30:41.193Z"
   },
   {
    "duration": 19,
    "start_time": "2022-11-30T10:31:21.192Z"
   },
   {
    "duration": 20,
    "start_time": "2022-11-30T10:31:39.281Z"
   },
   {
    "duration": 4,
    "start_time": "2022-11-30T10:31:59.824Z"
   },
   {
    "duration": 389,
    "start_time": "2022-11-30T10:32:00.208Z"
   },
   {
    "duration": 37,
    "start_time": "2022-11-30T10:32:00.601Z"
   },
   {
    "duration": 14,
    "start_time": "2022-11-30T10:32:00.808Z"
   },
   {
    "duration": 67,
    "start_time": "2022-11-30T10:32:01.423Z"
   },
   {
    "duration": 31,
    "start_time": "2022-11-30T10:32:02.047Z"
   },
   {
    "duration": 21,
    "start_time": "2022-11-30T10:32:02.262Z"
   },
   {
    "duration": 14,
    "start_time": "2022-11-30T10:32:02.463Z"
   },
   {
    "duration": 15,
    "start_time": "2022-11-30T10:32:02.694Z"
   },
   {
    "duration": 3,
    "start_time": "2022-11-30T10:32:03.854Z"
   },
   {
    "duration": 4,
    "start_time": "2022-11-30T10:32:04.493Z"
   },
   {
    "duration": 4,
    "start_time": "2022-11-30T10:32:05.533Z"
   },
   {
    "duration": 4,
    "start_time": "2022-11-30T10:32:06.087Z"
   },
   {
    "duration": 4,
    "start_time": "2022-11-30T10:32:06.526Z"
   },
   {
    "duration": 8,
    "start_time": "2022-11-30T10:32:55.219Z"
   },
   {
    "duration": 30,
    "start_time": "2022-11-30T10:33:06.409Z"
   },
   {
    "duration": 23,
    "start_time": "2022-11-30T10:33:13.076Z"
   },
   {
    "duration": 44,
    "start_time": "2022-11-30T10:33:40.088Z"
   },
   {
    "duration": 19,
    "start_time": "2022-11-30T10:33:45.973Z"
   },
   {
    "duration": 6,
    "start_time": "2022-11-30T10:34:15.731Z"
   },
   {
    "duration": 10,
    "start_time": "2022-11-30T10:36:29.581Z"
   },
   {
    "duration": 7,
    "start_time": "2022-11-30T10:36:34.187Z"
   },
   {
    "duration": 7,
    "start_time": "2022-11-30T10:36:39.561Z"
   },
   {
    "duration": 9,
    "start_time": "2022-11-30T10:36:56.449Z"
   },
   {
    "duration": 21,
    "start_time": "2022-11-30T10:37:35.378Z"
   },
   {
    "duration": 12,
    "start_time": "2022-11-30T10:37:52.643Z"
   },
   {
    "duration": 3,
    "start_time": "2022-11-30T10:38:26.854Z"
   },
   {
    "duration": 399,
    "start_time": "2022-11-30T10:38:27.254Z"
   },
   {
    "duration": 36,
    "start_time": "2022-11-30T10:38:27.670Z"
   },
   {
    "duration": 14,
    "start_time": "2022-11-30T10:38:27.869Z"
   },
   {
    "duration": 71,
    "start_time": "2022-11-30T10:38:28.519Z"
   },
   {
    "duration": 28,
    "start_time": "2022-11-30T10:38:29.196Z"
   },
   {
    "duration": 20,
    "start_time": "2022-11-30T10:38:29.428Z"
   },
   {
    "duration": 15,
    "start_time": "2022-11-30T10:38:30.428Z"
   },
   {
    "duration": 17,
    "start_time": "2022-11-30T10:38:30.963Z"
   },
   {
    "duration": 3,
    "start_time": "2022-11-30T10:38:32.876Z"
   },
   {
    "duration": 3,
    "start_time": "2022-11-30T10:38:33.919Z"
   },
   {
    "duration": 4,
    "start_time": "2022-11-30T10:38:34.963Z"
   },
   {
    "duration": 4,
    "start_time": "2022-11-30T10:38:35.417Z"
   },
   {
    "duration": 3,
    "start_time": "2022-11-30T10:38:36.050Z"
   },
   {
    "duration": 9,
    "start_time": "2022-11-30T10:38:39.569Z"
   },
   {
    "duration": 9,
    "start_time": "2022-11-30T10:39:10.677Z"
   },
   {
    "duration": 9,
    "start_time": "2022-11-30T10:39:20.640Z"
   },
   {
    "duration": 14,
    "start_time": "2022-11-30T10:39:32.814Z"
   },
   {
    "duration": 20,
    "start_time": "2022-11-30T10:39:44.855Z"
   },
   {
    "duration": 18,
    "start_time": "2022-11-30T11:58:35.717Z"
   },
   {
    "duration": 15,
    "start_time": "2022-11-30T11:58:48.235Z"
   },
   {
    "duration": 9,
    "start_time": "2022-11-30T11:59:00.809Z"
   },
   {
    "duration": 17,
    "start_time": "2022-11-30T11:59:48.819Z"
   },
   {
    "duration": 18,
    "start_time": "2022-11-30T12:01:08.580Z"
   },
   {
    "duration": 10,
    "start_time": "2022-11-30T12:01:23.639Z"
   },
   {
    "duration": 8,
    "start_time": "2022-11-30T12:01:34.210Z"
   },
   {
    "duration": 7,
    "start_time": "2022-11-30T12:01:39.975Z"
   },
   {
    "duration": 431,
    "start_time": "2022-11-30T12:02:19.816Z"
   },
   {
    "duration": 770,
    "start_time": "2022-11-30T12:02:29.859Z"
   },
   {
    "duration": 17,
    "start_time": "2022-11-30T12:02:35.872Z"
   },
   {
    "duration": 17,
    "start_time": "2022-11-30T12:02:42.791Z"
   },
   {
    "duration": 16,
    "start_time": "2022-11-30T12:02:55.026Z"
   },
   {
    "duration": 3,
    "start_time": "2022-11-30T12:03:31.051Z"
   },
   {
    "duration": 369,
    "start_time": "2022-11-30T12:03:31.426Z"
   },
   {
    "duration": 38,
    "start_time": "2022-11-30T12:03:31.802Z"
   },
   {
    "duration": 14,
    "start_time": "2022-11-30T12:03:31.994Z"
   },
   {
    "duration": 72,
    "start_time": "2022-11-30T12:03:32.587Z"
   },
   {
    "duration": 28,
    "start_time": "2022-11-30T12:03:33.187Z"
   },
   {
    "duration": 16,
    "start_time": "2022-11-30T12:03:33.395Z"
   },
   {
    "duration": 21,
    "start_time": "2022-11-30T12:03:33.618Z"
   },
   {
    "duration": 16,
    "start_time": "2022-11-30T12:03:34.106Z"
   },
   {
    "duration": 3,
    "start_time": "2022-11-30T12:03:35.856Z"
   },
   {
    "duration": 3,
    "start_time": "2022-11-30T12:03:36.608Z"
   },
   {
    "duration": 4,
    "start_time": "2022-11-30T12:03:37.520Z"
   },
   {
    "duration": 4,
    "start_time": "2022-11-30T12:03:38.056Z"
   },
   {
    "duration": 4,
    "start_time": "2022-11-30T12:03:38.600Z"
   },
   {
    "duration": 9,
    "start_time": "2022-11-30T12:03:59.095Z"
   },
   {
    "duration": 3,
    "start_time": "2022-11-30T12:04:18.128Z"
   },
   {
    "duration": 6,
    "start_time": "2022-11-30T12:04:41.367Z"
   },
   {
    "duration": 4,
    "start_time": "2022-11-30T12:04:52.971Z"
   },
   {
    "duration": 5,
    "start_time": "2022-11-30T12:05:15.329Z"
   },
   {
    "duration": 8,
    "start_time": "2022-11-30T12:05:31.866Z"
   },
   {
    "duration": 15,
    "start_time": "2022-11-30T12:28:51.006Z"
   },
   {
    "duration": 8,
    "start_time": "2022-11-30T12:29:08.360Z"
   },
   {
    "duration": 442,
    "start_time": "2022-11-30T12:30:42.322Z"
   },
   {
    "duration": 401,
    "start_time": "2022-11-30T12:30:47.879Z"
   },
   {
    "duration": 906,
    "start_time": "2022-11-30T12:31:05.648Z"
   },
   {
    "duration": 8,
    "start_time": "2022-11-30T12:31:17.549Z"
   },
   {
    "duration": 1008,
    "start_time": "2022-11-30T12:31:24.688Z"
   },
   {
    "duration": 15,
    "start_time": "2022-11-30T12:31:31.693Z"
   },
   {
    "duration": 442,
    "start_time": "2022-11-30T12:31:43.184Z"
   },
   {
    "duration": 432,
    "start_time": "2022-11-30T12:31:48.542Z"
   },
   {
    "duration": 66,
    "start_time": "2022-11-30T12:31:55.412Z"
   },
   {
    "duration": 8,
    "start_time": "2022-11-30T12:32:01.777Z"
   },
   {
    "duration": 22,
    "start_time": "2022-11-30T12:35:07.351Z"
   },
   {
    "duration": 21,
    "start_time": "2022-11-30T12:35:32.902Z"
   },
   {
    "duration": 96,
    "start_time": "2022-11-30T12:35:56.148Z"
   },
   {
    "duration": 25,
    "start_time": "2022-11-30T12:36:03.153Z"
   },
   {
    "duration": 22,
    "start_time": "2022-11-30T12:36:34.246Z"
   },
   {
    "duration": 23,
    "start_time": "2022-11-30T12:36:48.617Z"
   },
   {
    "duration": 24,
    "start_time": "2022-11-30T12:37:21.787Z"
   },
   {
    "duration": 21,
    "start_time": "2022-11-30T12:45:01.251Z"
   },
   {
    "duration": 8,
    "start_time": "2022-11-30T12:45:17.278Z"
   },
   {
    "duration": 22,
    "start_time": "2022-11-30T12:45:25.464Z"
   },
   {
    "duration": 21,
    "start_time": "2022-11-30T12:45:59.612Z"
   },
   {
    "duration": 9,
    "start_time": "2022-11-30T12:47:52.703Z"
   },
   {
    "duration": 7,
    "start_time": "2022-11-30T12:48:19.564Z"
   },
   {
    "duration": 51,
    "start_time": "2022-11-30T12:48:22.364Z"
   },
   {
    "duration": 49,
    "start_time": "2022-11-30T12:48:24.857Z"
   },
   {
    "duration": 7,
    "start_time": "2022-11-30T12:48:31.535Z"
   },
   {
    "duration": 7,
    "start_time": "2022-11-30T12:48:36.301Z"
   },
   {
    "duration": 8,
    "start_time": "2022-11-30T12:48:49.879Z"
   },
   {
    "duration": 47,
    "start_time": "2022-11-30T12:48:50.863Z"
   },
   {
    "duration": 8,
    "start_time": "2022-11-30T12:48:52.727Z"
   },
   {
    "duration": 10,
    "start_time": "2022-11-30T12:48:54.661Z"
   },
   {
    "duration": 8,
    "start_time": "2022-11-30T12:48:57.357Z"
   },
   {
    "duration": 6,
    "start_time": "2022-11-30T12:49:06.216Z"
   },
   {
    "duration": 9,
    "start_time": "2022-11-30T12:49:06.840Z"
   },
   {
    "duration": 3,
    "start_time": "2022-11-30T12:49:22.123Z"
   },
   {
    "duration": 384,
    "start_time": "2022-11-30T12:49:22.571Z"
   },
   {
    "duration": 36,
    "start_time": "2022-11-30T12:49:23.035Z"
   },
   {
    "duration": 16,
    "start_time": "2022-11-30T12:49:23.259Z"
   },
   {
    "duration": 69,
    "start_time": "2022-11-30T12:49:23.947Z"
   },
   {
    "duration": 28,
    "start_time": "2022-11-30T12:49:24.594Z"
   },
   {
    "duration": 20,
    "start_time": "2022-11-30T12:49:24.809Z"
   },
   {
    "duration": 15,
    "start_time": "2022-11-30T12:49:25.209Z"
   },
   {
    "duration": 14,
    "start_time": "2022-11-30T12:49:25.456Z"
   },
   {
    "duration": 7,
    "start_time": "2022-11-30T12:51:29.864Z"
   },
   {
    "duration": 6,
    "start_time": "2022-11-30T12:51:34.030Z"
   },
   {
    "duration": 10,
    "start_time": "2022-11-30T12:52:16.669Z"
   },
   {
    "duration": 8,
    "start_time": "2022-11-30T12:52:39.813Z"
   },
   {
    "duration": 53,
    "start_time": "2022-11-30T12:52:44.083Z"
   },
   {
    "duration": 8,
    "start_time": "2022-11-30T12:52:46.738Z"
   },
   {
    "duration": 12,
    "start_time": "2022-11-30T12:53:54.957Z"
   },
   {
    "duration": 54,
    "start_time": "2022-11-30T12:54:17.342Z"
   },
   {
    "duration": 56,
    "start_time": "2022-11-30T12:54:19.660Z"
   },
   {
    "duration": 51,
    "start_time": "2022-11-30T12:54:22.499Z"
   },
   {
    "duration": 8,
    "start_time": "2022-11-30T12:54:30.561Z"
   },
   {
    "duration": 9,
    "start_time": "2022-11-30T12:54:32.471Z"
   },
   {
    "duration": 10,
    "start_time": "2022-11-30T12:54:35.806Z"
   },
   {
    "duration": 9,
    "start_time": "2022-11-30T12:54:38.396Z"
   },
   {
    "duration": 14,
    "start_time": "2022-11-30T12:55:11.191Z"
   },
   {
    "duration": 3,
    "start_time": "2022-11-30T12:55:15.054Z"
   },
   {
    "duration": 5,
    "start_time": "2022-11-30T12:55:28.168Z"
   },
   {
    "duration": 9,
    "start_time": "2022-11-30T12:55:30.426Z"
   },
   {
    "duration": 8,
    "start_time": "2022-11-30T12:55:57.428Z"
   },
   {
    "duration": 44,
    "start_time": "2022-11-30T12:55:59.836Z"
   },
   {
    "duration": 8,
    "start_time": "2022-11-30T12:56:02.436Z"
   },
   {
    "duration": 3,
    "start_time": "2022-11-30T13:00:49.354Z"
   },
   {
    "duration": 69,
    "start_time": "2022-11-30T13:01:08.066Z"
   },
   {
    "duration": 12,
    "start_time": "2022-11-30T13:01:20.733Z"
   },
   {
    "duration": 9,
    "start_time": "2022-11-30T13:01:25.514Z"
   },
   {
    "duration": 8,
    "start_time": "2022-11-30T13:01:34.248Z"
   },
   {
    "duration": 16,
    "start_time": "2022-11-30T13:01:54.057Z"
   },
   {
    "duration": 7,
    "start_time": "2022-11-30T13:02:03.903Z"
   },
   {
    "duration": 11,
    "start_time": "2022-11-30T13:02:28.010Z"
   },
   {
    "duration": 12,
    "start_time": "2022-11-30T13:02:43.723Z"
   },
   {
    "duration": 9,
    "start_time": "2022-11-30T13:03:00.692Z"
   },
   {
    "duration": 10,
    "start_time": "2022-11-30T13:03:05.612Z"
   },
   {
    "duration": 9,
    "start_time": "2022-11-30T13:03:39.213Z"
   },
   {
    "duration": 16,
    "start_time": "2022-11-30T13:03:55.736Z"
   },
   {
    "duration": 2,
    "start_time": "2022-11-30T13:04:12.841Z"
   },
   {
    "duration": 379,
    "start_time": "2022-11-30T13:04:13.231Z"
   },
   {
    "duration": 43,
    "start_time": "2022-11-30T13:04:13.624Z"
   },
   {
    "duration": 16,
    "start_time": "2022-11-30T13:04:13.831Z"
   },
   {
    "duration": 91,
    "start_time": "2022-11-30T13:04:14.462Z"
   },
   {
    "duration": 27,
    "start_time": "2022-11-30T13:04:15.078Z"
   },
   {
    "duration": 21,
    "start_time": "2022-11-30T13:04:15.302Z"
   },
   {
    "duration": 39,
    "start_time": "2022-11-30T13:04:15.517Z"
   },
   {
    "duration": 15,
    "start_time": "2022-11-30T13:04:16.086Z"
   },
   {
    "duration": 2,
    "start_time": "2022-11-30T13:04:17.710Z"
   },
   {
    "duration": 3,
    "start_time": "2022-11-30T13:04:18.597Z"
   },
   {
    "duration": 3,
    "start_time": "2022-11-30T13:04:20.579Z"
   },
   {
    "duration": 4,
    "start_time": "2022-11-30T13:04:21.227Z"
   },
   {
    "duration": 3,
    "start_time": "2022-11-30T13:04:21.747Z"
   },
   {
    "duration": 4,
    "start_time": "2022-11-30T13:04:25.803Z"
   },
   {
    "duration": 6,
    "start_time": "2022-11-30T13:04:28.993Z"
   },
   {
    "duration": 4,
    "start_time": "2022-11-30T13:05:13.202Z"
   },
   {
    "duration": 4,
    "start_time": "2022-11-30T13:06:20.053Z"
   },
   {
    "duration": 395,
    "start_time": "2022-11-30T13:06:20.461Z"
   },
   {
    "duration": 37,
    "start_time": "2022-11-30T13:06:20.859Z"
   },
   {
    "duration": 13,
    "start_time": "2022-11-30T13:06:21.029Z"
   },
   {
    "duration": 71,
    "start_time": "2022-11-30T13:06:21.876Z"
   },
   {
    "duration": 30,
    "start_time": "2022-11-30T13:06:22.885Z"
   },
   {
    "duration": 21,
    "start_time": "2022-11-30T13:06:23.173Z"
   },
   {
    "duration": 15,
    "start_time": "2022-11-30T13:06:23.467Z"
   },
   {
    "duration": 15,
    "start_time": "2022-11-30T13:06:23.803Z"
   },
   {
    "duration": 2,
    "start_time": "2022-11-30T13:06:24.899Z"
   },
   {
    "duration": 3,
    "start_time": "2022-11-30T13:06:25.363Z"
   },
   {
    "duration": 4,
    "start_time": "2022-11-30T13:06:26.003Z"
   },
   {
    "duration": 4,
    "start_time": "2022-11-30T13:06:26.338Z"
   },
   {
    "duration": 4,
    "start_time": "2022-11-30T13:06:26.826Z"
   },
   {
    "duration": 2,
    "start_time": "2022-11-30T13:06:28.618Z"
   },
   {
    "duration": 8,
    "start_time": "2022-11-30T13:06:30.096Z"
   },
   {
    "duration": 8,
    "start_time": "2022-11-30T13:06:33.928Z"
   },
   {
    "duration": 8,
    "start_time": "2022-11-30T13:06:36.878Z"
   },
   {
    "duration": 3,
    "start_time": "2022-11-30T13:06:40.221Z"
   },
   {
    "duration": 3,
    "start_time": "2022-11-30T13:06:46.467Z"
   },
   {
    "duration": 8,
    "start_time": "2022-11-30T13:17:46.652Z"
   },
   {
    "duration": 7,
    "start_time": "2022-11-30T13:17:51.353Z"
   },
   {
    "duration": 3,
    "start_time": "2022-11-30T13:20:43.436Z"
   },
   {
    "duration": 399,
    "start_time": "2022-11-30T13:20:43.812Z"
   },
   {
    "duration": 44,
    "start_time": "2022-11-30T13:20:44.214Z"
   },
   {
    "duration": 16,
    "start_time": "2022-11-30T13:20:44.379Z"
   },
   {
    "duration": 92,
    "start_time": "2022-11-30T13:20:44.989Z"
   },
   {
    "duration": 30,
    "start_time": "2022-11-30T13:20:45.644Z"
   },
   {
    "duration": 16,
    "start_time": "2022-11-30T13:20:45.851Z"
   },
   {
    "duration": 16,
    "start_time": "2022-11-30T13:20:46.067Z"
   },
   {
    "duration": 15,
    "start_time": "2022-11-30T13:20:46.308Z"
   },
   {
    "duration": 3,
    "start_time": "2022-11-30T13:20:47.515Z"
   },
   {
    "duration": 3,
    "start_time": "2022-11-30T13:20:48.083Z"
   },
   {
    "duration": 5,
    "start_time": "2022-11-30T13:20:48.985Z"
   },
   {
    "duration": 4,
    "start_time": "2022-11-30T13:20:49.521Z"
   },
   {
    "duration": 4,
    "start_time": "2022-11-30T13:20:50.177Z"
   },
   {
    "duration": 2,
    "start_time": "2022-11-30T13:20:51.137Z"
   },
   {
    "duration": 7,
    "start_time": "2022-11-30T13:20:51.370Z"
   },
   {
    "duration": 5,
    "start_time": "2022-11-30T13:21:32.744Z"
   },
   {
    "duration": 9,
    "start_time": "2022-11-30T13:24:22.262Z"
   },
   {
    "duration": 8,
    "start_time": "2022-11-30T13:24:36.239Z"
   },
   {
    "duration": 8,
    "start_time": "2022-11-30T13:24:48.954Z"
   },
   {
    "duration": 8,
    "start_time": "2022-11-30T13:26:44.316Z"
   },
   {
    "duration": 15,
    "start_time": "2022-11-30T13:28:09.076Z"
   },
   {
    "duration": 9,
    "start_time": "2022-11-30T13:29:20.247Z"
   },
   {
    "duration": 9,
    "start_time": "2022-11-30T13:29:55.520Z"
   },
   {
    "duration": 8,
    "start_time": "2022-11-30T13:30:24.894Z"
   },
   {
    "duration": 7,
    "start_time": "2022-11-30T13:31:53.730Z"
   },
   {
    "duration": 7,
    "start_time": "2022-11-30T13:32:04.208Z"
   },
   {
    "duration": 8,
    "start_time": "2022-11-30T13:33:01.367Z"
   },
   {
    "duration": 7,
    "start_time": "2022-11-30T13:33:07.412Z"
   },
   {
    "duration": 8,
    "start_time": "2022-11-30T13:33:36.080Z"
   },
   {
    "duration": 7,
    "start_time": "2022-11-30T13:33:45.517Z"
   },
   {
    "duration": 47,
    "start_time": "2022-11-30T13:33:47.229Z"
   },
   {
    "duration": 16,
    "start_time": "2022-11-30T13:34:07.588Z"
   },
   {
    "duration": 15,
    "start_time": "2022-11-30T13:35:38.487Z"
   },
   {
    "duration": 8,
    "start_time": "2022-11-30T13:35:46.972Z"
   },
   {
    "duration": 7,
    "start_time": "2022-11-30T13:36:03.173Z"
   },
   {
    "duration": 9,
    "start_time": "2022-11-30T13:36:16.184Z"
   },
   {
    "duration": 13,
    "start_time": "2022-11-30T13:36:31.515Z"
   },
   {
    "duration": 7,
    "start_time": "2022-11-30T13:36:47.597Z"
   },
   {
    "duration": 13,
    "start_time": "2022-11-30T13:37:01.527Z"
   },
   {
    "duration": 8,
    "start_time": "2022-11-30T13:37:24.654Z"
   },
   {
    "duration": 8,
    "start_time": "2022-11-30T13:37:44.158Z"
   },
   {
    "duration": 7,
    "start_time": "2022-11-30T13:38:01.548Z"
   },
   {
    "duration": 8,
    "start_time": "2022-11-30T13:38:16.682Z"
   },
   {
    "duration": 8,
    "start_time": "2022-11-30T13:38:50.155Z"
   },
   {
    "duration": 8,
    "start_time": "2022-11-30T13:40:01.672Z"
   },
   {
    "duration": 8,
    "start_time": "2022-11-30T13:53:02.215Z"
   },
   {
    "duration": 8,
    "start_time": "2022-11-30T13:53:06.943Z"
   },
   {
    "duration": 9,
    "start_time": "2022-11-30T13:54:18.915Z"
   },
   {
    "duration": 8,
    "start_time": "2022-11-30T13:54:36.610Z"
   },
   {
    "duration": 9,
    "start_time": "2022-11-30T13:55:06.462Z"
   },
   {
    "duration": 8,
    "start_time": "2022-11-30T13:55:49.909Z"
   },
   {
    "duration": 7,
    "start_time": "2022-11-30T13:55:59.714Z"
   },
   {
    "duration": 8,
    "start_time": "2022-11-30T13:56:33.827Z"
   },
   {
    "duration": 15,
    "start_time": "2022-11-30T13:57:03.671Z"
   },
   {
    "duration": 8,
    "start_time": "2022-11-30T13:57:17.283Z"
   },
   {
    "duration": 9,
    "start_time": "2022-11-30T13:57:35.259Z"
   },
   {
    "duration": 8,
    "start_time": "2022-11-30T13:57:40.553Z"
   },
   {
    "duration": 7,
    "start_time": "2022-11-30T13:57:57.049Z"
   },
   {
    "duration": 6,
    "start_time": "2022-11-30T14:29:36.245Z"
   },
   {
    "duration": 8,
    "start_time": "2022-11-30T14:30:29.637Z"
   },
   {
    "duration": 7,
    "start_time": "2022-11-30T14:30:34.101Z"
   },
   {
    "duration": 7,
    "start_time": "2022-11-30T14:30:39.292Z"
   },
   {
    "duration": 8,
    "start_time": "2022-11-30T14:30:47.070Z"
   },
   {
    "duration": 8,
    "start_time": "2022-11-30T14:30:53.292Z"
   },
   {
    "duration": 6,
    "start_time": "2022-11-30T14:39:01.899Z"
   },
   {
    "duration": 6,
    "start_time": "2022-11-30T14:39:05.488Z"
   },
   {
    "duration": 10,
    "start_time": "2022-11-30T14:39:13.733Z"
   },
   {
    "duration": 7,
    "start_time": "2022-11-30T14:39:30.718Z"
   },
   {
    "duration": 8,
    "start_time": "2022-11-30T14:39:36.196Z"
   },
   {
    "duration": 15,
    "start_time": "2022-11-30T14:39:55.836Z"
   },
   {
    "duration": 16,
    "start_time": "2022-11-30T14:40:05.623Z"
   },
   {
    "duration": 10,
    "start_time": "2022-11-30T14:48:20.268Z"
   },
   {
    "duration": 9,
    "start_time": "2022-11-30T14:48:35.413Z"
   },
   {
    "duration": 10,
    "start_time": "2022-11-30T14:50:53.527Z"
   },
   {
    "duration": 10,
    "start_time": "2022-11-30T14:51:53.631Z"
   },
   {
    "duration": 20,
    "start_time": "2022-11-30T14:52:00.684Z"
   },
   {
    "duration": 12,
    "start_time": "2022-11-30T14:52:45.564Z"
   },
   {
    "duration": 10,
    "start_time": "2022-11-30T14:53:02.253Z"
   },
   {
    "duration": 14,
    "start_time": "2022-11-30T14:53:35.040Z"
   },
   {
    "duration": 7,
    "start_time": "2022-11-30T14:53:53.105Z"
   },
   {
    "duration": 6,
    "start_time": "2022-11-30T14:55:28.842Z"
   },
   {
    "duration": 7,
    "start_time": "2022-11-30T14:55:55.799Z"
   },
   {
    "duration": 18,
    "start_time": "2022-11-30T14:56:17.574Z"
   },
   {
    "duration": 32,
    "start_time": "2022-11-30T14:56:33.129Z"
   },
   {
    "duration": 3,
    "start_time": "2022-11-30T14:56:51.041Z"
   },
   {
    "duration": 374,
    "start_time": "2022-11-30T14:56:51.425Z"
   },
   {
    "duration": 37,
    "start_time": "2022-11-30T14:56:51.820Z"
   },
   {
    "duration": 13,
    "start_time": "2022-11-30T14:56:52.031Z"
   },
   {
    "duration": 79,
    "start_time": "2022-11-30T14:56:52.678Z"
   },
   {
    "duration": 31,
    "start_time": "2022-11-30T14:56:53.319Z"
   },
   {
    "duration": 18,
    "start_time": "2022-11-30T14:56:53.543Z"
   },
   {
    "duration": 16,
    "start_time": "2022-11-30T14:56:53.775Z"
   },
   {
    "duration": 15,
    "start_time": "2022-11-30T14:56:54.239Z"
   },
   {
    "duration": 2,
    "start_time": "2022-11-30T14:56:55.175Z"
   },
   {
    "duration": 3,
    "start_time": "2022-11-30T14:56:55.854Z"
   },
   {
    "duration": 3,
    "start_time": "2022-11-30T14:56:56.279Z"
   },
   {
    "duration": 4,
    "start_time": "2022-11-30T14:56:56.542Z"
   },
   {
    "duration": 4,
    "start_time": "2022-11-30T14:56:56.846Z"
   },
   {
    "duration": 2,
    "start_time": "2022-11-30T14:56:57.926Z"
   },
   {
    "duration": 6,
    "start_time": "2022-11-30T14:56:58.260Z"
   },
   {
    "duration": 4,
    "start_time": "2022-11-30T14:56:58.764Z"
   },
   {
    "duration": 7,
    "start_time": "2022-11-30T14:57:03.868Z"
   },
   {
    "duration": 19,
    "start_time": "2022-11-30T14:57:40.390Z"
   },
   {
    "duration": 19,
    "start_time": "2022-11-30T14:57:51.425Z"
   },
   {
    "duration": 8,
    "start_time": "2022-11-30T14:58:03.957Z"
   },
   {
    "duration": 8,
    "start_time": "2022-11-30T14:58:29.827Z"
   },
   {
    "duration": 8,
    "start_time": "2022-11-30T14:58:50.001Z"
   },
   {
    "duration": 10,
    "start_time": "2022-11-30T15:00:41.093Z"
   },
   {
    "duration": 20,
    "start_time": "2022-11-30T15:01:20.954Z"
   },
   {
    "duration": 25,
    "start_time": "2022-11-30T15:01:35.463Z"
   },
   {
    "duration": 24,
    "start_time": "2022-11-30T15:02:02.061Z"
   },
   {
    "duration": 25,
    "start_time": "2022-11-30T15:02:12.425Z"
   },
   {
    "duration": 29,
    "start_time": "2022-11-30T15:04:25.389Z"
   },
   {
    "duration": 24,
    "start_time": "2022-11-30T15:04:56.065Z"
   },
   {
    "duration": 60,
    "start_time": "2022-11-30T15:04:57.086Z"
   },
   {
    "duration": 23,
    "start_time": "2022-11-30T15:05:25.844Z"
   },
   {
    "duration": 20,
    "start_time": "2022-11-30T15:05:35.672Z"
   },
   {
    "duration": 23,
    "start_time": "2022-11-30T15:05:41.989Z"
   },
   {
    "duration": 7,
    "start_time": "2022-11-30T15:05:48.619Z"
   },
   {
    "duration": 7,
    "start_time": "2022-11-30T15:05:56.184Z"
   },
   {
    "duration": 5,
    "start_time": "2022-11-30T15:07:53.329Z"
   },
   {
    "duration": 615,
    "start_time": "2022-11-30T15:07:59.031Z"
   },
   {
    "duration": 16,
    "start_time": "2022-11-30T15:08:04.845Z"
   },
   {
    "duration": 8,
    "start_time": "2022-11-30T15:08:26.348Z"
   },
   {
    "duration": 7,
    "start_time": "2022-11-30T15:08:36.217Z"
   },
   {
    "duration": 53,
    "start_time": "2022-11-30T15:08:44.595Z"
   },
   {
    "duration": 8,
    "start_time": "2022-11-30T15:12:12.920Z"
   },
   {
    "duration": 6,
    "start_time": "2022-11-30T15:12:29.277Z"
   },
   {
    "duration": 20,
    "start_time": "2022-11-30T15:14:03.237Z"
   },
   {
    "duration": 4,
    "start_time": "2022-11-30T15:14:09.586Z"
   },
   {
    "duration": 9,
    "start_time": "2022-11-30T15:14:26.341Z"
   },
   {
    "duration": 4,
    "start_time": "2022-11-30T15:15:56.017Z"
   },
   {
    "duration": 16,
    "start_time": "2022-11-30T15:16:29.022Z"
   },
   {
    "duration": 5,
    "start_time": "2022-11-30T15:16:31.217Z"
   },
   {
    "duration": 5,
    "start_time": "2022-11-30T15:16:35.393Z"
   },
   {
    "duration": 5,
    "start_time": "2022-11-30T15:17:19.257Z"
   },
   {
    "duration": 7,
    "start_time": "2022-11-30T15:20:56.299Z"
   },
   {
    "duration": 5,
    "start_time": "2022-11-30T15:21:09.699Z"
   },
   {
    "duration": 20,
    "start_time": "2022-11-30T15:22:38.634Z"
   },
   {
    "duration": 11,
    "start_time": "2022-11-30T15:23:18.649Z"
   },
   {
    "duration": 4,
    "start_time": "2022-11-30T15:29:54.778Z"
   },
   {
    "duration": 4,
    "start_time": "2022-11-30T15:30:02.247Z"
   },
   {
    "duration": 5,
    "start_time": "2022-11-30T15:30:21.000Z"
   },
   {
    "duration": 5,
    "start_time": "2022-11-30T15:30:27.622Z"
   },
   {
    "duration": 4,
    "start_time": "2022-11-30T15:30:35.011Z"
   },
   {
    "duration": 20,
    "start_time": "2022-11-30T15:31:32.924Z"
   },
   {
    "duration": 17,
    "start_time": "2022-11-30T15:32:02.545Z"
   },
   {
    "duration": 17,
    "start_time": "2022-11-30T15:32:21.153Z"
   },
   {
    "duration": 11,
    "start_time": "2022-11-30T15:32:27.199Z"
   },
   {
    "duration": 10,
    "start_time": "2022-11-30T15:32:39.617Z"
   },
   {
    "duration": 20,
    "start_time": "2022-11-30T15:34:37.154Z"
   },
   {
    "duration": 16,
    "start_time": "2022-11-30T15:35:00.043Z"
   },
   {
    "duration": 14,
    "start_time": "2022-11-30T15:36:08.343Z"
   },
   {
    "duration": 3,
    "start_time": "2022-11-30T15:37:08.679Z"
   },
   {
    "duration": 15,
    "start_time": "2022-11-30T15:37:13.652Z"
   },
   {
    "duration": 8,
    "start_time": "2022-11-30T15:37:26.328Z"
   },
   {
    "duration": 6,
    "start_time": "2022-11-30T15:37:59.481Z"
   },
   {
    "duration": 9,
    "start_time": "2022-11-30T15:38:25.225Z"
   },
   {
    "duration": 23,
    "start_time": "2022-11-30T15:38:44.425Z"
   },
   {
    "duration": 8,
    "start_time": "2022-11-30T15:40:43.458Z"
   },
   {
    "duration": 9,
    "start_time": "2022-11-30T15:41:06.239Z"
   },
   {
    "duration": 11,
    "start_time": "2022-11-30T15:42:55.860Z"
   },
   {
    "duration": 13,
    "start_time": "2022-11-30T15:43:04.569Z"
   },
   {
    "duration": 11,
    "start_time": "2022-11-30T15:43:12.383Z"
   },
   {
    "duration": 8,
    "start_time": "2022-11-30T15:56:15.102Z"
   },
   {
    "duration": 7,
    "start_time": "2022-11-30T15:56:33.206Z"
   },
   {
    "duration": 6,
    "start_time": "2022-11-30T15:56:45.561Z"
   },
   {
    "duration": 13,
    "start_time": "2022-11-30T15:58:06.658Z"
   },
   {
    "duration": 9,
    "start_time": "2022-11-30T15:58:19.013Z"
   },
   {
    "duration": 7,
    "start_time": "2022-11-30T16:00:00.715Z"
   },
   {
    "duration": 7,
    "start_time": "2022-11-30T16:00:25.625Z"
   },
   {
    "duration": 9,
    "start_time": "2022-11-30T16:01:43.809Z"
   },
   {
    "duration": 7,
    "start_time": "2022-11-30T16:01:58.692Z"
   },
   {
    "duration": 3,
    "start_time": "2022-11-30T16:17:58.959Z"
   },
   {
    "duration": 12,
    "start_time": "2022-11-30T16:18:02.307Z"
   },
   {
    "duration": 15,
    "start_time": "2022-11-30T16:18:19.652Z"
   },
   {
    "duration": 15,
    "start_time": "2022-11-30T16:23:51.113Z"
   },
   {
    "duration": 3,
    "start_time": "2022-11-30T16:26:43.435Z"
   },
   {
    "duration": 16,
    "start_time": "2022-11-30T16:26:47.118Z"
   },
   {
    "duration": 3,
    "start_time": "2022-11-30T16:33:56.071Z"
   },
   {
    "duration": 3,
    "start_time": "2022-11-30T16:33:57.309Z"
   },
   {
    "duration": 3,
    "start_time": "2022-11-30T16:33:59.021Z"
   },
   {
    "duration": 58,
    "start_time": "2022-11-30T16:34:08.867Z"
   },
   {
    "duration": 16,
    "start_time": "2022-11-30T16:34:12.473Z"
   },
   {
    "duration": 15,
    "start_time": "2022-11-30T16:35:19.787Z"
   },
   {
    "duration": 376,
    "start_time": "2022-11-30T16:35:52.105Z"
   },
   {
    "duration": 3,
    "start_time": "2022-11-30T16:36:36.017Z"
   },
   {
    "duration": 48,
    "start_time": "2022-11-30T16:36:36.760Z"
   },
   {
    "duration": 3,
    "start_time": "2022-11-30T16:36:37.487Z"
   },
   {
    "duration": 17,
    "start_time": "2022-11-30T16:36:38.109Z"
   },
   {
    "duration": 3,
    "start_time": "2022-11-30T16:37:18.135Z"
   },
   {
    "duration": 20,
    "start_time": "2022-11-30T16:37:21.999Z"
   },
   {
    "duration": 17,
    "start_time": "2022-11-30T16:37:32.376Z"
   },
   {
    "duration": 3,
    "start_time": "2022-11-30T16:37:52.633Z"
   },
   {
    "duration": 367,
    "start_time": "2022-11-30T16:37:53.024Z"
   },
   {
    "duration": 37,
    "start_time": "2022-11-30T16:37:53.432Z"
   },
   {
    "duration": 15,
    "start_time": "2022-11-30T16:37:53.639Z"
   },
   {
    "duration": 73,
    "start_time": "2022-11-30T16:37:54.248Z"
   },
   {
    "duration": 27,
    "start_time": "2022-11-30T16:37:54.880Z"
   },
   {
    "duration": 21,
    "start_time": "2022-11-30T16:37:55.088Z"
   },
   {
    "duration": 21,
    "start_time": "2022-11-30T16:37:55.317Z"
   },
   {
    "duration": 15,
    "start_time": "2022-11-30T16:37:55.527Z"
   },
   {
    "duration": 4,
    "start_time": "2022-11-30T16:37:55.752Z"
   },
   {
    "duration": 2,
    "start_time": "2022-11-30T16:37:56.440Z"
   },
   {
    "duration": 3,
    "start_time": "2022-11-30T16:37:56.973Z"
   },
   {
    "duration": 4,
    "start_time": "2022-11-30T16:37:57.445Z"
   },
   {
    "duration": 3,
    "start_time": "2022-11-30T16:37:57.950Z"
   },
   {
    "duration": 4,
    "start_time": "2022-11-30T16:37:58.559Z"
   },
   {
    "duration": 4,
    "start_time": "2022-11-30T16:37:59.814Z"
   },
   {
    "duration": 3,
    "start_time": "2022-11-30T16:38:00.037Z"
   },
   {
    "duration": 3,
    "start_time": "2022-11-30T16:38:00.262Z"
   },
   {
    "duration": 76,
    "start_time": "2022-11-30T16:38:00.805Z"
   },
   {
    "duration": 3,
    "start_time": "2022-11-30T16:38:03.988Z"
   },
   {
    "duration": 15,
    "start_time": "2022-11-30T16:38:06.707Z"
   },
   {
    "duration": 3,
    "start_time": "2022-11-30T16:38:47.058Z"
   },
   {
    "duration": 416,
    "start_time": "2022-11-30T16:38:47.459Z"
   },
   {
    "duration": 38,
    "start_time": "2022-11-30T16:38:47.877Z"
   },
   {
    "duration": 14,
    "start_time": "2022-11-30T16:38:48.074Z"
   },
   {
    "duration": 69,
    "start_time": "2022-11-30T16:38:48.714Z"
   },
   {
    "duration": 28,
    "start_time": "2022-11-30T16:38:49.370Z"
   },
   {
    "duration": 15,
    "start_time": "2022-11-30T16:38:49.586Z"
   },
   {
    "duration": 14,
    "start_time": "2022-11-30T16:38:49.818Z"
   },
   {
    "duration": 17,
    "start_time": "2022-11-30T16:38:50.042Z"
   },
   {
    "duration": 5,
    "start_time": "2022-11-30T16:38:50.265Z"
   },
   {
    "duration": 3,
    "start_time": "2022-11-30T16:38:50.931Z"
   },
   {
    "duration": 4,
    "start_time": "2022-11-30T16:38:51.377Z"
   },
   {
    "duration": 4,
    "start_time": "2022-11-30T16:38:51.842Z"
   },
   {
    "duration": 3,
    "start_time": "2022-11-30T16:38:52.096Z"
   },
   {
    "duration": 4,
    "start_time": "2022-11-30T16:38:52.343Z"
   },
   {
    "duration": 3,
    "start_time": "2022-11-30T16:38:53.135Z"
   },
   {
    "duration": 5,
    "start_time": "2022-11-30T16:38:54.096Z"
   },
   {
    "duration": 157,
    "start_time": "2022-11-30T16:38:54.744Z"
   },
   {
    "duration": 3,
    "start_time": "2022-11-30T16:38:57.719Z"
   },
   {
    "duration": 20,
    "start_time": "2022-11-30T16:38:58.278Z"
   },
   {
    "duration": 14,
    "start_time": "2022-11-30T16:39:47.611Z"
   },
   {
    "duration": 8,
    "start_time": "2022-11-30T16:40:23.846Z"
   },
   {
    "duration": 3,
    "start_time": "2022-11-30T16:40:48.059Z"
   },
   {
    "duration": 8,
    "start_time": "2022-11-30T16:40:50.881Z"
   },
   {
    "duration": 5,
    "start_time": "2022-11-30T16:43:27.644Z"
   },
   {
    "duration": 12,
    "start_time": "2022-11-30T16:43:30.177Z"
   },
   {
    "duration": 15,
    "start_time": "2022-11-30T16:43:43.789Z"
   },
   {
    "duration": 15,
    "start_time": "2022-11-30T16:44:14.729Z"
   },
   {
    "duration": 7,
    "start_time": "2022-11-30T16:46:45.764Z"
   },
   {
    "duration": 0,
    "start_time": "2022-11-30T16:47:52.014Z"
   },
   {
    "duration": 17,
    "start_time": "2022-11-30T16:48:01.502Z"
   },
   {
    "duration": 17,
    "start_time": "2022-11-30T16:48:12.426Z"
   },
   {
    "duration": 18,
    "start_time": "2022-11-30T16:48:49.606Z"
   },
   {
    "duration": 3,
    "start_time": "2022-11-30T16:54:12.275Z"
   },
   {
    "duration": 65,
    "start_time": "2022-11-30T16:54:13.241Z"
   },
   {
    "duration": 26,
    "start_time": "2022-11-30T16:54:14.609Z"
   },
   {
    "duration": 3,
    "start_time": "2022-11-30T16:54:36.673Z"
   },
   {
    "duration": 16,
    "start_time": "2022-11-30T16:54:38.695Z"
   },
   {
    "duration": 3,
    "start_time": "2022-11-30T16:55:31.571Z"
   },
   {
    "duration": 381,
    "start_time": "2022-11-30T16:55:31.971Z"
   },
   {
    "duration": 36,
    "start_time": "2022-11-30T16:55:32.379Z"
   },
   {
    "duration": 13,
    "start_time": "2022-11-30T16:55:32.569Z"
   },
   {
    "duration": 74,
    "start_time": "2022-11-30T16:55:33.224Z"
   },
   {
    "duration": 27,
    "start_time": "2022-11-30T16:55:33.889Z"
   },
   {
    "duration": 14,
    "start_time": "2022-11-30T16:55:34.105Z"
   },
   {
    "duration": 14,
    "start_time": "2022-11-30T16:55:34.344Z"
   },
   {
    "duration": 18,
    "start_time": "2022-11-30T16:55:34.600Z"
   },
   {
    "duration": 4,
    "start_time": "2022-11-30T16:55:34.880Z"
   },
   {
    "duration": 3,
    "start_time": "2022-11-30T16:55:35.856Z"
   },
   {
    "duration": 3,
    "start_time": "2022-11-30T16:55:36.352Z"
   },
   {
    "duration": 4,
    "start_time": "2022-11-30T16:55:37.024Z"
   },
   {
    "duration": 3,
    "start_time": "2022-11-30T16:55:37.337Z"
   },
   {
    "duration": 3,
    "start_time": "2022-11-30T16:55:37.736Z"
   },
   {
    "duration": 2,
    "start_time": "2022-11-30T16:55:38.966Z"
   },
   {
    "duration": 3,
    "start_time": "2022-11-30T16:55:39.878Z"
   },
   {
    "duration": 3,
    "start_time": "2022-11-30T16:55:40.518Z"
   },
   {
    "duration": 10,
    "start_time": "2022-11-30T16:55:42.190Z"
   },
   {
    "duration": 3,
    "start_time": "2022-11-30T16:58:21.487Z"
   },
   {
    "duration": 2,
    "start_time": "2022-11-30T16:58:22.415Z"
   },
   {
    "duration": 10,
    "start_time": "2022-11-30T16:58:22.791Z"
   },
   {
    "duration": 3,
    "start_time": "2022-11-30T16:58:33.346Z"
   },
   {
    "duration": 2,
    "start_time": "2022-11-30T16:58:34.059Z"
   },
   {
    "duration": 10,
    "start_time": "2022-11-30T16:58:34.489Z"
   },
   {
    "duration": 11,
    "start_time": "2022-11-30T16:58:46.749Z"
   },
   {
    "duration": 11,
    "start_time": "2022-11-30T16:58:56.936Z"
   },
   {
    "duration": 3,
    "start_time": "2022-11-30T17:01:05.738Z"
   },
   {
    "duration": 4,
    "start_time": "2022-11-30T17:01:07.908Z"
   },
   {
    "duration": 2,
    "start_time": "2022-11-30T17:01:08.341Z"
   },
   {
    "duration": 10,
    "start_time": "2022-11-30T17:01:08.813Z"
   },
   {
    "duration": 3,
    "start_time": "2022-11-30T17:02:29.029Z"
   },
   {
    "duration": 370,
    "start_time": "2022-11-30T17:02:29.492Z"
   },
   {
    "duration": 43,
    "start_time": "2022-11-30T17:02:29.906Z"
   },
   {
    "duration": 15,
    "start_time": "2022-11-30T17:02:30.122Z"
   },
   {
    "duration": 85,
    "start_time": "2022-11-30T17:02:30.770Z"
   },
   {
    "duration": 35,
    "start_time": "2022-11-30T17:02:31.418Z"
   },
   {
    "duration": 20,
    "start_time": "2022-11-30T17:02:31.634Z"
   },
   {
    "duration": 15,
    "start_time": "2022-11-30T17:02:31.865Z"
   },
   {
    "duration": 14,
    "start_time": "2022-11-30T17:02:32.138Z"
   },
   {
    "duration": 4,
    "start_time": "2022-11-30T17:02:32.362Z"
   },
   {
    "duration": 3,
    "start_time": "2022-11-30T17:02:33.322Z"
   },
   {
    "duration": 3,
    "start_time": "2022-11-30T17:02:33.947Z"
   },
   {
    "duration": 4,
    "start_time": "2022-11-30T17:02:34.506Z"
   },
   {
    "duration": 3,
    "start_time": "2022-11-30T17:02:34.930Z"
   },
   {
    "duration": 4,
    "start_time": "2022-11-30T17:02:35.282Z"
   },
   {
    "duration": 9,
    "start_time": "2022-11-30T17:02:36.447Z"
   },
   {
    "duration": 4,
    "start_time": "2022-11-30T17:02:37.823Z"
   },
   {
    "duration": 3,
    "start_time": "2022-11-30T17:02:39.695Z"
   },
   {
    "duration": 8,
    "start_time": "2022-11-30T17:02:57.632Z"
   },
   {
    "duration": 9,
    "start_time": "2022-11-30T17:06:01.930Z"
   },
   {
    "duration": 3,
    "start_time": "2022-11-30T17:06:13.826Z"
   },
   {
    "duration": 401,
    "start_time": "2022-11-30T17:06:14.218Z"
   },
   {
    "duration": 49,
    "start_time": "2022-11-30T17:06:14.621Z"
   },
   {
    "duration": 12,
    "start_time": "2022-11-30T17:06:14.810Z"
   },
   {
    "duration": 69,
    "start_time": "2022-11-30T17:06:15.433Z"
   },
   {
    "duration": 29,
    "start_time": "2022-11-30T17:06:16.042Z"
   },
   {
    "duration": 20,
    "start_time": "2022-11-30T17:06:16.250Z"
   },
   {
    "duration": 15,
    "start_time": "2022-11-30T17:06:16.476Z"
   },
   {
    "duration": 16,
    "start_time": "2022-11-30T17:06:16.698Z"
   },
   {
    "duration": 5,
    "start_time": "2022-11-30T17:06:16.913Z"
   },
   {
    "duration": 3,
    "start_time": "2022-11-30T17:06:17.615Z"
   },
   {
    "duration": 4,
    "start_time": "2022-11-30T17:06:18.367Z"
   },
   {
    "duration": 3,
    "start_time": "2022-11-30T17:06:18.960Z"
   },
   {
    "duration": 4,
    "start_time": "2022-11-30T17:06:19.255Z"
   },
   {
    "duration": 3,
    "start_time": "2022-11-30T17:06:19.648Z"
   },
   {
    "duration": 9,
    "start_time": "2022-11-30T17:06:21.399Z"
   },
   {
    "duration": 8,
    "start_time": "2022-11-30T17:06:39.648Z"
   },
   {
    "duration": 3,
    "start_time": "2022-11-30T17:06:48.876Z"
   },
   {
    "duration": 6,
    "start_time": "2022-11-30T17:07:03.950Z"
   },
   {
    "duration": 3,
    "start_time": "2022-11-30T17:09:52.107Z"
   },
   {
    "duration": 3,
    "start_time": "2022-11-30T17:09:52.674Z"
   },
   {
    "duration": 3,
    "start_time": "2022-11-30T17:09:53.234Z"
   },
   {
    "duration": 19,
    "start_time": "2022-11-30T17:09:53.691Z"
   },
   {
    "duration": 3,
    "start_time": "2022-11-30T17:10:59.616Z"
   },
   {
    "duration": 2,
    "start_time": "2022-11-30T17:11:00.264Z"
   },
   {
    "duration": 3,
    "start_time": "2022-11-30T17:11:00.704Z"
   },
   {
    "duration": 14,
    "start_time": "2022-11-30T17:11:01.327Z"
   },
   {
    "duration": 4,
    "start_time": "2022-11-30T17:11:44.886Z"
   },
   {
    "duration": 369,
    "start_time": "2022-11-30T17:11:45.294Z"
   },
   {
    "duration": 37,
    "start_time": "2022-11-30T17:11:45.709Z"
   },
   {
    "duration": 12,
    "start_time": "2022-11-30T17:11:45.918Z"
   },
   {
    "duration": 69,
    "start_time": "2022-11-30T17:11:46.566Z"
   },
   {
    "duration": 29,
    "start_time": "2022-11-30T17:11:47.206Z"
   },
   {
    "duration": 17,
    "start_time": "2022-11-30T17:11:47.421Z"
   },
   {
    "duration": 15,
    "start_time": "2022-11-30T17:11:47.637Z"
   },
   {
    "duration": 14,
    "start_time": "2022-11-30T17:11:47.856Z"
   },
   {
    "duration": 4,
    "start_time": "2022-11-30T17:11:48.061Z"
   },
   {
    "duration": 2,
    "start_time": "2022-11-30T17:11:48.739Z"
   },
   {
    "duration": 3,
    "start_time": "2022-11-30T17:11:49.243Z"
   },
   {
    "duration": 4,
    "start_time": "2022-11-30T17:11:49.707Z"
   },
   {
    "duration": 4,
    "start_time": "2022-11-30T17:11:50.043Z"
   },
   {
    "duration": 3,
    "start_time": "2022-11-30T17:11:50.452Z"
   },
   {
    "duration": 5,
    "start_time": "2022-11-30T17:11:53.907Z"
   },
   {
    "duration": 8,
    "start_time": "2022-11-30T17:11:58.561Z"
   },
   {
    "duration": 5,
    "start_time": "2022-11-30T17:12:17.674Z"
   },
   {
    "duration": 3,
    "start_time": "2022-11-30T17:12:21.136Z"
   },
   {
    "duration": 11,
    "start_time": "2022-11-30T17:12:21.976Z"
   },
   {
    "duration": 3,
    "start_time": "2022-11-30T17:12:32.843Z"
   },
   {
    "duration": 3,
    "start_time": "2022-11-30T17:12:33.770Z"
   },
   {
    "duration": 2,
    "start_time": "2022-11-30T17:12:34.258Z"
   },
   {
    "duration": 12,
    "start_time": "2022-11-30T17:12:35.122Z"
   },
   {
    "duration": 6,
    "start_time": "2022-11-30T17:15:34.556Z"
   },
   {
    "duration": 10,
    "start_time": "2022-11-30T17:15:44.207Z"
   },
   {
    "duration": 7,
    "start_time": "2022-11-30T17:15:53.868Z"
   },
   {
    "duration": 8,
    "start_time": "2022-11-30T17:15:59.097Z"
   },
   {
    "duration": 7,
    "start_time": "2022-11-30T17:16:09.261Z"
   },
   {
    "duration": 8,
    "start_time": "2022-11-30T17:16:15.651Z"
   },
   {
    "duration": 3,
    "start_time": "2022-11-30T17:16:34.147Z"
   },
   {
    "duration": 418,
    "start_time": "2022-11-30T17:16:34.523Z"
   },
   {
    "duration": 44,
    "start_time": "2022-11-30T17:16:34.943Z"
   },
   {
    "duration": 14,
    "start_time": "2022-11-30T17:16:35.131Z"
   },
   {
    "duration": 74,
    "start_time": "2022-11-30T17:16:35.754Z"
   },
   {
    "duration": 29,
    "start_time": "2022-11-30T17:16:36.403Z"
   },
   {
    "duration": 16,
    "start_time": "2022-11-30T17:16:36.626Z"
   },
   {
    "duration": 16,
    "start_time": "2022-11-30T17:16:36.850Z"
   },
   {
    "duration": 14,
    "start_time": "2022-11-30T17:16:37.081Z"
   },
   {
    "duration": 4,
    "start_time": "2022-11-30T17:16:37.304Z"
   },
   {
    "duration": 3,
    "start_time": "2022-11-30T17:16:37.976Z"
   },
   {
    "duration": 3,
    "start_time": "2022-11-30T17:16:38.457Z"
   },
   {
    "duration": 3,
    "start_time": "2022-11-30T17:16:38.929Z"
   },
   {
    "duration": 4,
    "start_time": "2022-11-30T17:16:39.152Z"
   },
   {
    "duration": 3,
    "start_time": "2022-11-30T17:16:39.400Z"
   },
   {
    "duration": 6,
    "start_time": "2022-11-30T17:16:40.992Z"
   },
   {
    "duration": 3,
    "start_time": "2022-11-30T17:16:48.982Z"
   },
   {
    "duration": 3,
    "start_time": "2022-11-30T17:16:49.755Z"
   },
   {
    "duration": 3,
    "start_time": "2022-11-30T17:16:50.339Z"
   },
   {
    "duration": 14,
    "start_time": "2022-11-30T17:16:51.219Z"
   },
   {
    "duration": 2,
    "start_time": "2022-11-30T17:17:30.429Z"
   },
   {
    "duration": 4,
    "start_time": "2022-11-30T17:17:30.668Z"
   },
   {
    "duration": 2,
    "start_time": "2022-11-30T17:17:30.989Z"
   },
   {
    "duration": 13,
    "start_time": "2022-11-30T17:17:31.205Z"
   },
   {
    "duration": 8,
    "start_time": "2022-11-30T17:17:53.818Z"
   },
   {
    "duration": 3,
    "start_time": "2022-11-30T17:18:12.836Z"
   },
   {
    "duration": 447,
    "start_time": "2022-11-30T17:18:13.267Z"
   },
   {
    "duration": 49,
    "start_time": "2022-11-30T17:18:13.716Z"
   },
   {
    "duration": 15,
    "start_time": "2022-11-30T17:18:13.867Z"
   },
   {
    "duration": 76,
    "start_time": "2022-11-30T17:18:14.507Z"
   },
   {
    "duration": 28,
    "start_time": "2022-11-30T17:18:15.177Z"
   },
   {
    "duration": 63,
    "start_time": "2022-11-30T17:18:15.393Z"
   },
   {
    "duration": 16,
    "start_time": "2022-11-30T17:18:15.601Z"
   },
   {
    "duration": 14,
    "start_time": "2022-11-30T17:18:15.841Z"
   },
   {
    "duration": 4,
    "start_time": "2022-11-30T17:18:16.065Z"
   },
   {
    "duration": 2,
    "start_time": "2022-11-30T17:18:16.769Z"
   },
   {
    "duration": 3,
    "start_time": "2022-11-30T17:18:17.249Z"
   },
   {
    "duration": 4,
    "start_time": "2022-11-30T17:18:17.865Z"
   },
   {
    "duration": 4,
    "start_time": "2022-11-30T17:18:18.217Z"
   },
   {
    "duration": 4,
    "start_time": "2022-11-30T17:18:18.545Z"
   },
   {
    "duration": 6,
    "start_time": "2022-11-30T17:18:21.574Z"
   },
   {
    "duration": 8,
    "start_time": "2022-11-30T17:18:38.537Z"
   },
   {
    "duration": 8,
    "start_time": "2022-11-30T17:18:44.951Z"
   },
   {
    "duration": 2,
    "start_time": "2022-11-30T17:18:45.560Z"
   },
   {
    "duration": 3,
    "start_time": "2022-11-30T17:18:46.333Z"
   },
   {
    "duration": 2,
    "start_time": "2022-11-30T17:18:46.805Z"
   },
   {
    "duration": 14,
    "start_time": "2022-11-30T17:18:47.589Z"
   },
   {
    "duration": 3,
    "start_time": "2022-11-30T17:22:59.776Z"
   },
   {
    "duration": 366,
    "start_time": "2022-11-30T17:23:00.193Z"
   },
   {
    "duration": 36,
    "start_time": "2022-11-30T17:23:00.633Z"
   },
   {
    "duration": 14,
    "start_time": "2022-11-30T17:23:00.849Z"
   },
   {
    "duration": 72,
    "start_time": "2022-11-30T17:23:01.528Z"
   },
   {
    "duration": 30,
    "start_time": "2022-11-30T17:23:02.298Z"
   },
   {
    "duration": 21,
    "start_time": "2022-11-30T17:23:02.545Z"
   },
   {
    "duration": 18,
    "start_time": "2022-11-30T17:23:02.777Z"
   },
   {
    "duration": 84,
    "start_time": "2022-11-30T17:23:03.073Z"
   },
   {
    "duration": 5,
    "start_time": "2022-11-30T17:23:03.336Z"
   },
   {
    "duration": 3,
    "start_time": "2022-11-30T17:23:04.293Z"
   },
   {
    "duration": 3,
    "start_time": "2022-11-30T17:23:05.102Z"
   },
   {
    "duration": 3,
    "start_time": "2022-11-30T17:23:05.974Z"
   },
   {
    "duration": 3,
    "start_time": "2022-11-30T17:23:06.470Z"
   },
   {
    "duration": 4,
    "start_time": "2022-11-30T17:23:07.073Z"
   },
   {
    "duration": 7,
    "start_time": "2022-11-30T17:23:10.196Z"
   },
   {
    "duration": 2,
    "start_time": "2022-11-30T17:23:15.697Z"
   },
   {
    "duration": 3,
    "start_time": "2022-11-30T17:23:16.282Z"
   },
   {
    "duration": 2,
    "start_time": "2022-11-30T17:23:16.914Z"
   },
   {
    "duration": 11,
    "start_time": "2022-11-30T17:23:17.769Z"
   },
   {
    "duration": 15,
    "start_time": "2022-11-30T17:23:28.597Z"
   },
   {
    "duration": 9,
    "start_time": "2022-11-30T17:23:41.672Z"
   },
   {
    "duration": 3,
    "start_time": "2022-11-30T17:25:51.684Z"
   },
   {
    "duration": 3,
    "start_time": "2022-11-30T17:25:54.798Z"
   },
   {
    "duration": 9,
    "start_time": "2022-11-30T17:26:02.641Z"
   },
   {
    "duration": 6,
    "start_time": "2022-11-30T17:26:19.546Z"
   },
   {
    "duration": 11,
    "start_time": "2022-11-30T17:26:41.849Z"
   },
   {
    "duration": 22,
    "start_time": "2022-11-30T17:26:47.342Z"
   },
   {
    "duration": 6,
    "start_time": "2022-11-30T17:27:56.781Z"
   },
   {
    "duration": 3,
    "start_time": "2022-11-30T17:28:01.805Z"
   },
   {
    "duration": 3,
    "start_time": "2022-11-30T17:28:20.186Z"
   },
   {
    "duration": 4,
    "start_time": "2022-11-30T17:28:24.808Z"
   },
   {
    "duration": 5364,
    "start_time": "2022-11-30T17:28:30.309Z"
   },
   {
    "duration": 14,
    "start_time": "2022-11-30T17:28:51.026Z"
   },
   {
    "duration": 3,
    "start_time": "2022-11-30T17:29:08.582Z"
   },
   {
    "duration": 13,
    "start_time": "2022-11-30T17:29:12.268Z"
   },
   {
    "duration": 3,
    "start_time": "2022-11-30T17:29:51.686Z"
   },
   {
    "duration": 4,
    "start_time": "2022-11-30T17:29:53.268Z"
   },
   {
    "duration": 5,
    "start_time": "2022-11-30T17:29:53.725Z"
   },
   {
    "duration": 18,
    "start_time": "2022-11-30T17:29:54.501Z"
   },
   {
    "duration": 3,
    "start_time": "2022-11-30T17:30:16.171Z"
   },
   {
    "duration": 3,
    "start_time": "2022-11-30T17:30:16.651Z"
   },
   {
    "duration": 3,
    "start_time": "2022-11-30T17:30:17.091Z"
   },
   {
    "duration": 13,
    "start_time": "2022-11-30T17:30:17.539Z"
   },
   {
    "duration": 3,
    "start_time": "2022-11-30T17:31:51.796Z"
   },
   {
    "duration": 3,
    "start_time": "2022-11-30T17:31:52.331Z"
   },
   {
    "duration": 4,
    "start_time": "2022-11-30T17:31:52.779Z"
   },
   {
    "duration": 20,
    "start_time": "2022-11-30T17:31:53.325Z"
   },
   {
    "duration": 5,
    "start_time": "2022-11-30T17:32:40.122Z"
   },
   {
    "duration": 3,
    "start_time": "2022-11-30T17:32:40.546Z"
   },
   {
    "duration": 4,
    "start_time": "2022-11-30T17:32:40.951Z"
   },
   {
    "duration": 18,
    "start_time": "2022-11-30T17:32:41.368Z"
   },
   {
    "duration": 3,
    "start_time": "2022-11-30T17:32:55.251Z"
   },
   {
    "duration": 4,
    "start_time": "2022-11-30T17:32:56.363Z"
   },
   {
    "duration": 4,
    "start_time": "2022-11-30T17:32:56.623Z"
   },
   {
    "duration": 13,
    "start_time": "2022-11-30T17:32:57.187Z"
   },
   {
    "duration": 4,
    "start_time": "2022-11-30T17:36:16.467Z"
   },
   {
    "duration": 3,
    "start_time": "2022-11-30T17:36:16.983Z"
   },
   {
    "duration": 3,
    "start_time": "2022-11-30T17:36:17.513Z"
   },
   {
    "duration": 14,
    "start_time": "2022-11-30T17:36:18.924Z"
   },
   {
    "duration": 3,
    "start_time": "2022-11-30T17:36:35.227Z"
   },
   {
    "duration": 4,
    "start_time": "2022-11-30T17:36:35.514Z"
   },
   {
    "duration": 4,
    "start_time": "2022-11-30T17:36:35.787Z"
   },
   {
    "duration": 18,
    "start_time": "2022-11-30T17:36:36.268Z"
   },
   {
    "duration": 4,
    "start_time": "2022-11-30T17:36:53.508Z"
   },
   {
    "duration": 4,
    "start_time": "2022-11-30T17:36:53.772Z"
   },
   {
    "duration": 3,
    "start_time": "2022-11-30T17:36:54.020Z"
   },
   {
    "duration": 27,
    "start_time": "2022-11-30T17:36:54.525Z"
   },
   {
    "duration": 934,
    "start_time": "2022-11-30T17:38:47.032Z"
   },
   {
    "duration": 1404,
    "start_time": "2022-11-30T17:39:15.588Z"
   },
   {
    "duration": 1404,
    "start_time": "2022-11-30T17:42:12.693Z"
   },
   {
    "duration": 5,
    "start_time": "2022-11-30T17:43:11.023Z"
   },
   {
    "duration": 6,
    "start_time": "2022-11-30T17:43:40.290Z"
   },
   {
    "duration": 1511,
    "start_time": "2022-11-30T17:43:44.239Z"
   },
   {
    "duration": 1440,
    "start_time": "2022-11-30T17:44:47.135Z"
   },
   {
    "duration": 4,
    "start_time": "2022-11-30T18:22:26.211Z"
   },
   {
    "duration": 4,
    "start_time": "2022-11-30T18:23:18.239Z"
   },
   {
    "duration": 4,
    "start_time": "2022-11-30T18:23:23.091Z"
   },
   {
    "duration": 1453,
    "start_time": "2022-11-30T18:24:29.666Z"
   },
   {
    "duration": 1388,
    "start_time": "2022-11-30T18:24:53.001Z"
   },
   {
    "duration": 4,
    "start_time": "2022-11-30T18:28:03.175Z"
   },
   {
    "duration": 4,
    "start_time": "2022-11-30T18:30:40.694Z"
   },
   {
    "duration": 4,
    "start_time": "2022-11-30T18:30:42.100Z"
   },
   {
    "duration": 1385,
    "start_time": "2022-11-30T18:30:42.932Z"
   },
   {
    "duration": 1349,
    "start_time": "2022-11-30T18:31:25.019Z"
   },
   {
    "duration": 1334,
    "start_time": "2022-11-30T18:32:01.388Z"
   },
   {
    "duration": 4,
    "start_time": "2022-11-30T18:32:29.659Z"
   },
   {
    "duration": 1363,
    "start_time": "2022-11-30T18:32:30.427Z"
   },
   {
    "duration": 20,
    "start_time": "2022-11-30T18:32:33.312Z"
   },
   {
    "duration": 3,
    "start_time": "2022-11-30T18:33:01.110Z"
   },
   {
    "duration": 376,
    "start_time": "2022-11-30T18:33:01.518Z"
   },
   {
    "duration": 35,
    "start_time": "2022-11-30T18:33:01.942Z"
   },
   {
    "duration": 14,
    "start_time": "2022-11-30T18:33:02.148Z"
   },
   {
    "duration": 83,
    "start_time": "2022-11-30T18:33:02.798Z"
   },
   {
    "duration": 29,
    "start_time": "2022-11-30T18:33:03.444Z"
   },
   {
    "duration": 15,
    "start_time": "2022-11-30T18:33:03.660Z"
   },
   {
    "duration": 14,
    "start_time": "2022-11-30T18:33:03.884Z"
   },
   {
    "duration": 16,
    "start_time": "2022-11-30T18:33:04.123Z"
   },
   {
    "duration": 4,
    "start_time": "2022-11-30T18:33:04.347Z"
   },
   {
    "duration": 3,
    "start_time": "2022-11-30T18:33:05.083Z"
   },
   {
    "duration": 4,
    "start_time": "2022-11-30T18:33:05.579Z"
   },
   {
    "duration": 3,
    "start_time": "2022-11-30T18:33:06.060Z"
   },
   {
    "duration": 4,
    "start_time": "2022-11-30T18:33:06.347Z"
   },
   {
    "duration": 3,
    "start_time": "2022-11-30T18:33:06.684Z"
   },
   {
    "duration": 6,
    "start_time": "2022-11-30T18:33:07.763Z"
   },
   {
    "duration": 3,
    "start_time": "2022-11-30T18:33:08.099Z"
   },
   {
    "duration": 3,
    "start_time": "2022-11-30T18:33:08.714Z"
   },
   {
    "duration": 20,
    "start_time": "2022-11-30T18:33:09.250Z"
   },
   {
    "duration": 20,
    "start_time": "2022-11-30T18:33:41.326Z"
   },
   {
    "duration": 19,
    "start_time": "2022-11-30T18:34:00.126Z"
   },
   {
    "duration": 3,
    "start_time": "2022-11-30T18:34:44.165Z"
   },
   {
    "duration": 413,
    "start_time": "2022-11-30T18:34:44.581Z"
   },
   {
    "duration": 38,
    "start_time": "2022-11-30T18:34:44.996Z"
   },
   {
    "duration": 17,
    "start_time": "2022-11-30T18:34:45.212Z"
   },
   {
    "duration": 75,
    "start_time": "2022-11-30T18:34:45.820Z"
   },
   {
    "duration": 31,
    "start_time": "2022-11-30T18:34:46.476Z"
   },
   {
    "duration": 72,
    "start_time": "2022-11-30T18:34:46.683Z"
   },
   {
    "duration": 15,
    "start_time": "2022-11-30T18:34:47.595Z"
   },
   {
    "duration": 14,
    "start_time": "2022-11-30T18:34:48.235Z"
   },
   {
    "duration": 5,
    "start_time": "2022-11-30T18:34:52.026Z"
   },
   {
    "duration": 3,
    "start_time": "2022-11-30T18:34:54.743Z"
   },
   {
    "duration": 4,
    "start_time": "2022-11-30T18:34:57.783Z"
   },
   {
    "duration": 4,
    "start_time": "2022-11-30T18:34:58.335Z"
   },
   {
    "duration": 4,
    "start_time": "2022-11-30T18:34:58.543Z"
   },
   {
    "duration": 4,
    "start_time": "2022-11-30T18:34:58.775Z"
   },
   {
    "duration": 6,
    "start_time": "2022-11-30T18:35:05.483Z"
   },
   {
    "duration": 18,
    "start_time": "2022-11-30T18:35:08.268Z"
   },
   {
    "duration": 2,
    "start_time": "2022-11-30T18:36:22.718Z"
   },
   {
    "duration": 38,
    "start_time": "2022-11-30T18:36:25.884Z"
   },
   {
    "duration": 32,
    "start_time": "2022-11-30T18:37:15.377Z"
   },
   {
    "duration": 3,
    "start_time": "2022-11-30T18:37:24.519Z"
   },
   {
    "duration": 368,
    "start_time": "2022-11-30T18:37:25.029Z"
   },
   {
    "duration": 35,
    "start_time": "2022-11-30T18:37:25.421Z"
   },
   {
    "duration": 16,
    "start_time": "2022-11-30T18:37:25.628Z"
   },
   {
    "duration": 70,
    "start_time": "2022-11-30T18:37:26.299Z"
   },
   {
    "duration": 32,
    "start_time": "2022-11-30T18:37:27.011Z"
   },
   {
    "duration": 15,
    "start_time": "2022-11-30T18:37:27.226Z"
   },
   {
    "duration": 14,
    "start_time": "2022-11-30T18:37:27.450Z"
   },
   {
    "duration": 17,
    "start_time": "2022-11-30T18:37:27.714Z"
   },
   {
    "duration": 5,
    "start_time": "2022-11-30T18:37:27.953Z"
   },
   {
    "duration": 2,
    "start_time": "2022-11-30T18:37:29.706Z"
   },
   {
    "duration": 3,
    "start_time": "2022-11-30T18:37:30.371Z"
   },
   {
    "duration": 3,
    "start_time": "2022-11-30T18:37:31.346Z"
   },
   {
    "duration": 4,
    "start_time": "2022-11-30T18:37:31.602Z"
   },
   {
    "duration": 4,
    "start_time": "2022-11-30T18:37:32.114Z"
   },
   {
    "duration": 3,
    "start_time": "2022-11-30T18:37:33.256Z"
   },
   {
    "duration": 45,
    "start_time": "2022-11-30T18:37:37.977Z"
   },
   {
    "duration": 38,
    "start_time": "2022-11-30T18:38:31.587Z"
   },
   {
    "duration": 39,
    "start_time": "2022-11-30T18:39:07.885Z"
   },
   {
    "duration": 49,
    "start_time": "2022-11-30T18:40:50.819Z"
   },
   {
    "duration": 8,
    "start_time": "2022-11-30T18:41:03.886Z"
   },
   {
    "duration": 13,
    "start_time": "2022-11-30T18:41:21.550Z"
   },
   {
    "duration": 1147,
    "start_time": "2022-11-30T18:41:31.635Z"
   },
   {
    "duration": 671,
    "start_time": "2022-11-30T18:41:32.784Z"
   },
   {
    "duration": 38,
    "start_time": "2022-11-30T18:41:33.457Z"
   },
   {
    "duration": 19,
    "start_time": "2022-11-30T18:41:33.497Z"
   },
   {
    "duration": 101,
    "start_time": "2022-11-30T18:41:33.518Z"
   },
   {
    "duration": 41,
    "start_time": "2022-11-30T18:41:33.777Z"
   },
   {
    "duration": 26,
    "start_time": "2022-11-30T18:41:33.993Z"
   },
   {
    "duration": 192,
    "start_time": "2022-11-30T18:41:34.209Z"
   },
   {
    "duration": 45,
    "start_time": "2022-11-30T18:41:34.416Z"
   },
   {
    "duration": 10,
    "start_time": "2022-11-30T18:41:34.617Z"
   },
   {
    "duration": 2,
    "start_time": "2022-11-30T18:41:35.264Z"
   },
   {
    "duration": 4,
    "start_time": "2022-11-30T18:41:35.713Z"
   },
   {
    "duration": 4,
    "start_time": "2022-11-30T18:41:36.136Z"
   },
   {
    "duration": 3,
    "start_time": "2022-11-30T18:41:36.385Z"
   },
   {
    "duration": 5,
    "start_time": "2022-11-30T18:41:36.721Z"
   },
   {
    "duration": 2,
    "start_time": "2022-11-30T18:41:37.624Z"
   },
   {
    "duration": 20,
    "start_time": "2022-11-30T18:41:38.281Z"
   },
   {
    "duration": 20,
    "start_time": "2022-11-30T18:42:21.711Z"
   },
   {
    "duration": 2,
    "start_time": "2022-11-30T18:42:36.258Z"
   },
   {
    "duration": 1694,
    "start_time": "2022-11-30T18:42:40.495Z"
   },
   {
    "duration": 47,
    "start_time": "2022-11-30T18:42:48.333Z"
   },
   {
    "duration": 47,
    "start_time": "2022-11-30T18:43:43.391Z"
   },
   {
    "duration": 54,
    "start_time": "2022-11-30T18:44:15.330Z"
   },
   {
    "duration": 1146,
    "start_time": "2022-11-30T18:44:36.319Z"
   },
   {
    "duration": 666,
    "start_time": "2022-11-30T18:44:37.467Z"
   },
   {
    "duration": 36,
    "start_time": "2022-11-30T18:44:38.135Z"
   },
   {
    "duration": 17,
    "start_time": "2022-11-30T18:44:38.174Z"
   },
   {
    "duration": 89,
    "start_time": "2022-11-30T18:44:38.194Z"
   },
   {
    "duration": 37,
    "start_time": "2022-11-30T18:44:38.728Z"
   },
   {
    "duration": 25,
    "start_time": "2022-11-30T18:44:38.946Z"
   },
   {
    "duration": 245,
    "start_time": "2022-11-30T18:44:39.159Z"
   },
   {
    "duration": 0,
    "start_time": "2022-11-30T18:44:39.405Z"
   },
   {
    "duration": 8,
    "start_time": "2022-11-30T18:44:39.647Z"
   },
   {
    "duration": 69,
    "start_time": "2022-11-30T18:44:49.587Z"
   },
   {
    "duration": 3,
    "start_time": "2022-11-30T18:44:57.152Z"
   },
   {
    "duration": 389,
    "start_time": "2022-11-30T18:44:57.984Z"
   },
   {
    "duration": 36,
    "start_time": "2022-11-30T18:44:59.134Z"
   },
   {
    "duration": 14,
    "start_time": "2022-11-30T18:44:59.704Z"
   },
   {
    "duration": 73,
    "start_time": "2022-11-30T18:45:01.358Z"
   },
   {
    "duration": 33,
    "start_time": "2022-11-30T18:45:02.934Z"
   },
   {
    "duration": 23,
    "start_time": "2022-11-30T18:45:03.614Z"
   },
   {
    "duration": 55,
    "start_time": "2022-11-30T18:45:39.799Z"
   },
   {
    "duration": 16,
    "start_time": "2022-11-30T18:45:42.727Z"
   },
   {
    "duration": 5,
    "start_time": "2022-11-30T18:45:47.757Z"
   },
   {
    "duration": 3,
    "start_time": "2022-11-30T18:45:49.228Z"
   },
   {
    "duration": 4,
    "start_time": "2022-11-30T18:45:50.274Z"
   },
   {
    "duration": 4,
    "start_time": "2022-11-30T18:45:50.994Z"
   },
   {
    "duration": 3,
    "start_time": "2022-11-30T18:45:51.258Z"
   },
   {
    "duration": 4,
    "start_time": "2022-11-30T18:45:51.578Z"
   },
   {
    "duration": 3,
    "start_time": "2022-11-30T18:45:52.522Z"
   },
   {
    "duration": 39,
    "start_time": "2022-11-30T18:45:53.794Z"
   },
   {
    "duration": 3,
    "start_time": "2022-11-30T18:46:14.185Z"
   },
   {
    "duration": 425,
    "start_time": "2022-11-30T18:46:14.624Z"
   },
   {
    "duration": 37,
    "start_time": "2022-11-30T18:46:15.080Z"
   },
   {
    "duration": 15,
    "start_time": "2022-11-30T18:46:15.312Z"
   },
   {
    "duration": 72,
    "start_time": "2022-11-30T18:46:16.002Z"
   },
   {
    "duration": 30,
    "start_time": "2022-11-30T18:46:16.848Z"
   },
   {
    "duration": 19,
    "start_time": "2022-11-30T18:46:17.137Z"
   },
   {
    "duration": 14,
    "start_time": "2022-11-30T18:46:17.440Z"
   },
   {
    "duration": 16,
    "start_time": "2022-11-30T18:46:17.696Z"
   },
   {
    "duration": 5,
    "start_time": "2022-11-30T18:46:17.944Z"
   },
   {
    "duration": 3,
    "start_time": "2022-11-30T18:46:18.992Z"
   },
   {
    "duration": 3,
    "start_time": "2022-11-30T18:46:19.568Z"
   },
   {
    "duration": 3,
    "start_time": "2022-11-30T18:46:20.025Z"
   },
   {
    "duration": 3,
    "start_time": "2022-11-30T18:46:20.246Z"
   },
   {
    "duration": 5,
    "start_time": "2022-11-30T18:46:20.422Z"
   },
   {
    "duration": 2,
    "start_time": "2022-11-30T18:46:21.230Z"
   },
   {
    "duration": 19,
    "start_time": "2022-11-30T18:46:22.415Z"
   },
   {
    "duration": 18,
    "start_time": "2022-11-30T18:46:39.936Z"
   },
   {
    "duration": 17,
    "start_time": "2022-11-30T18:47:33.076Z"
   },
   {
    "duration": 3,
    "start_time": "2022-11-30T18:48:17.944Z"
   },
   {
    "duration": 399,
    "start_time": "2022-11-30T18:48:19.593Z"
   },
   {
    "duration": 403,
    "start_time": "2022-11-30T18:48:48.060Z"
   },
   {
    "duration": 4,
    "start_time": "2022-11-30T18:48:58.346Z"
   },
   {
    "duration": 385,
    "start_time": "2022-11-30T18:49:00.711Z"
   },
   {
    "duration": 3,
    "start_time": "2022-11-30T18:49:31.530Z"
   },
   {
    "duration": 3,
    "start_time": "2022-11-30T18:49:32.027Z"
   },
   {
    "duration": 418,
    "start_time": "2022-11-30T18:49:32.923Z"
   },
   {
    "duration": 1647,
    "start_time": "2022-11-30T18:49:55.625Z"
   },
   {
    "duration": 38,
    "start_time": "2022-11-30T18:50:04.335Z"
   },
   {
    "duration": 3,
    "start_time": "2022-11-30T18:51:02.088Z"
   },
   {
    "duration": 13487,
    "start_time": "2022-11-30T18:51:02.615Z"
   },
   {
    "duration": 11453,
    "start_time": "2022-11-30T18:51:23.799Z"
   },
   {
    "duration": 3,
    "start_time": "2022-11-30T18:52:04.446Z"
   },
   {
    "duration": 36,
    "start_time": "2022-11-30T18:52:04.909Z"
   },
   {
    "duration": 4,
    "start_time": "2022-11-30T18:52:19.352Z"
   },
   {
    "duration": 36,
    "start_time": "2022-11-30T18:52:19.818Z"
   },
   {
    "duration": 42,
    "start_time": "2022-11-30T18:52:33.692Z"
   },
   {
    "duration": 3,
    "start_time": "2022-11-30T18:53:10.630Z"
   },
   {
    "duration": 36,
    "start_time": "2022-11-30T18:53:10.902Z"
   },
   {
    "duration": 3,
    "start_time": "2022-11-30T18:53:32.443Z"
   },
   {
    "duration": 8,
    "start_time": "2022-11-30T18:54:57.281Z"
   },
   {
    "duration": 44,
    "start_time": "2022-11-30T18:54:57.889Z"
   },
   {
    "duration": 1115,
    "start_time": "2022-11-30T18:55:12.076Z"
   },
   {
    "duration": 643,
    "start_time": "2022-11-30T18:55:13.443Z"
   },
   {
    "duration": 37,
    "start_time": "2022-11-30T18:55:14.088Z"
   },
   {
    "duration": 18,
    "start_time": "2022-11-30T18:55:14.203Z"
   },
   {
    "duration": 78,
    "start_time": "2022-11-30T18:55:14.802Z"
   },
   {
    "duration": 38,
    "start_time": "2022-11-30T18:55:15.449Z"
   },
   {
    "duration": 21,
    "start_time": "2022-11-30T18:55:15.658Z"
   },
   {
    "duration": 14,
    "start_time": "2022-11-30T18:55:15.882Z"
   },
   {
    "duration": 16,
    "start_time": "2022-11-30T18:55:16.114Z"
   },
   {
    "duration": 8,
    "start_time": "2022-11-30T18:55:16.338Z"
   },
   {
    "duration": 2,
    "start_time": "2022-11-30T18:55:18.018Z"
   },
   {
    "duration": 4,
    "start_time": "2022-11-30T18:55:18.985Z"
   },
   {
    "duration": 4,
    "start_time": "2022-11-30T18:55:19.953Z"
   },
   {
    "duration": 3,
    "start_time": "2022-11-30T18:55:20.409Z"
   },
   {
    "duration": 4,
    "start_time": "2022-11-30T18:55:20.775Z"
   },
   {
    "duration": 2,
    "start_time": "2022-11-30T18:55:22.375Z"
   },
   {
    "duration": 3,
    "start_time": "2022-11-30T18:55:22.823Z"
   },
   {
    "duration": 82,
    "start_time": "2022-11-30T18:55:23.671Z"
   },
   {
    "duration": 16,
    "start_time": "2022-11-30T18:56:03.679Z"
   },
   {
    "duration": 3,
    "start_time": "2022-11-30T18:56:13.387Z"
   },
   {
    "duration": 3,
    "start_time": "2022-11-30T18:56:22.439Z"
   },
   {
    "duration": 12,
    "start_time": "2022-11-30T18:56:24.279Z"
   },
   {
    "duration": 25180,
    "start_time": "2022-11-30T18:56:37.402Z"
   },
   {
    "duration": 3,
    "start_time": "2022-11-30T18:57:16.932Z"
   },
   {
    "duration": 39,
    "start_time": "2022-11-30T18:57:19.250Z"
   },
   {
    "duration": 37,
    "start_time": "2022-11-30T18:57:46.719Z"
   },
   {
    "duration": 4,
    "start_time": "2022-11-30T18:58:15.706Z"
   },
   {
    "duration": 36,
    "start_time": "2022-11-30T18:58:18.521Z"
   },
   {
    "duration": 4,
    "start_time": "2022-11-30T18:59:27.541Z"
   },
   {
    "duration": 39,
    "start_time": "2022-11-30T18:59:28.173Z"
   },
   {
    "duration": 3,
    "start_time": "2022-11-30T19:00:33.739Z"
   },
   {
    "duration": 36,
    "start_time": "2022-11-30T19:00:34.387Z"
   },
   {
    "duration": 9,
    "start_time": "2022-11-30T19:01:17.341Z"
   },
   {
    "duration": 4,
    "start_time": "2022-11-30T19:01:29.677Z"
   },
   {
    "duration": 16,
    "start_time": "2022-11-30T19:02:02.841Z"
   },
   {
    "duration": 16,
    "start_time": "2022-11-30T19:02:38.874Z"
   },
   {
    "duration": 16,
    "start_time": "2022-11-30T19:03:01.960Z"
   },
   {
    "duration": 4,
    "start_time": "2022-11-30T19:03:07.054Z"
   },
   {
    "duration": 5,
    "start_time": "2022-11-30T19:03:23.457Z"
   },
   {
    "duration": 8,
    "start_time": "2022-11-30T19:03:39.529Z"
   },
   {
    "duration": 3,
    "start_time": "2022-11-30T19:03:50.172Z"
   },
   {
    "duration": 369,
    "start_time": "2022-11-30T19:03:51.172Z"
   },
   {
    "duration": 34,
    "start_time": "2022-11-30T19:03:52.252Z"
   },
   {
    "duration": 14,
    "start_time": "2022-11-30T19:03:52.788Z"
   },
   {
    "duration": 69,
    "start_time": "2022-11-30T19:03:54.164Z"
   },
   {
    "duration": 27,
    "start_time": "2022-11-30T19:03:56.178Z"
   },
   {
    "duration": 18,
    "start_time": "2022-11-30T19:03:57.317Z"
   },
   {
    "duration": 16,
    "start_time": "2022-11-30T19:04:04.135Z"
   },
   {
    "duration": 17,
    "start_time": "2022-11-30T19:04:05.135Z"
   },
   {
    "duration": 4,
    "start_time": "2022-11-30T19:04:10.061Z"
   },
   {
    "duration": 3,
    "start_time": "2022-11-30T19:04:15.650Z"
   },
   {
    "duration": 4,
    "start_time": "2022-11-30T19:04:17.290Z"
   },
   {
    "duration": 4,
    "start_time": "2022-11-30T19:04:18.474Z"
   },
   {
    "duration": 5,
    "start_time": "2022-11-30T19:04:19.258Z"
   },
   {
    "duration": 4,
    "start_time": "2022-11-30T19:04:20.050Z"
   },
   {
    "duration": 3,
    "start_time": "2022-11-30T19:04:24.055Z"
   },
   {
    "duration": 6,
    "start_time": "2022-11-30T19:04:26.957Z"
   },
   {
    "duration": 3,
    "start_time": "2022-11-30T19:04:37.811Z"
   },
   {
    "duration": 19,
    "start_time": "2022-11-30T19:04:40.769Z"
   },
   {
    "duration": 5,
    "start_time": "2022-11-30T19:04:51.803Z"
   },
   {
    "duration": 4,
    "start_time": "2022-11-30T19:05:10.045Z"
   },
   {
    "duration": 20,
    "start_time": "2022-11-30T19:05:10.669Z"
   },
   {
    "duration": 4,
    "start_time": "2022-11-30T19:05:32.773Z"
   },
   {
    "duration": 5,
    "start_time": "2022-11-30T19:05:35.274Z"
   },
   {
    "duration": 9,
    "start_time": "2022-11-30T19:05:55.515Z"
   },
   {
    "duration": 3,
    "start_time": "2022-11-30T19:06:34.949Z"
   },
   {
    "duration": 370,
    "start_time": "2022-11-30T19:06:35.348Z"
   },
   {
    "duration": 36,
    "start_time": "2022-11-30T19:06:35.764Z"
   },
   {
    "duration": 15,
    "start_time": "2022-11-30T19:06:35.963Z"
   },
   {
    "duration": 69,
    "start_time": "2022-11-30T19:06:36.602Z"
   },
   {
    "duration": 28,
    "start_time": "2022-11-30T19:06:37.243Z"
   },
   {
    "duration": 17,
    "start_time": "2022-11-30T19:06:37.451Z"
   },
   {
    "duration": 13,
    "start_time": "2022-11-30T19:06:37.656Z"
   },
   {
    "duration": 17,
    "start_time": "2022-11-30T19:06:37.866Z"
   },
   {
    "duration": 5,
    "start_time": "2022-11-30T19:06:38.089Z"
   },
   {
    "duration": 3,
    "start_time": "2022-11-30T19:06:39.082Z"
   },
   {
    "duration": 4,
    "start_time": "2022-11-30T19:06:39.609Z"
   },
   {
    "duration": 4,
    "start_time": "2022-11-30T19:06:40.090Z"
   },
   {
    "duration": 3,
    "start_time": "2022-11-30T19:06:40.375Z"
   },
   {
    "duration": 3,
    "start_time": "2022-11-30T19:06:40.674Z"
   },
   {
    "duration": 3,
    "start_time": "2022-11-30T19:06:42.447Z"
   },
   {
    "duration": 4,
    "start_time": "2022-11-30T19:06:43.856Z"
   },
   {
    "duration": 3,
    "start_time": "2022-11-30T19:06:47.071Z"
   },
   {
    "duration": 13,
    "start_time": "2022-11-30T19:06:47.968Z"
   },
   {
    "duration": 4,
    "start_time": "2022-11-30T19:07:01.658Z"
   },
   {
    "duration": 11,
    "start_time": "2022-11-30T19:07:02.240Z"
   },
   {
    "duration": 5,
    "start_time": "2022-11-30T19:07:37.202Z"
   },
   {
    "duration": 9,
    "start_time": "2022-11-30T19:08:04.176Z"
   },
   {
    "duration": 6,
    "start_time": "2022-11-30T19:08:15.596Z"
   },
   {
    "duration": 6,
    "start_time": "2022-11-30T19:08:28.143Z"
   },
   {
    "duration": 1374,
    "start_time": "2022-11-30T19:08:53.885Z"
   },
   {
    "duration": 1071,
    "start_time": "2022-12-01T06:13:35.661Z"
   },
   {
    "duration": 1613,
    "start_time": "2022-12-01T06:13:36.733Z"
   },
   {
    "duration": 34,
    "start_time": "2022-12-01T06:13:38.348Z"
   },
   {
    "duration": 17,
    "start_time": "2022-12-01T06:13:38.384Z"
   },
   {
    "duration": 95,
    "start_time": "2022-12-01T06:13:38.402Z"
   },
   {
    "duration": 34,
    "start_time": "2022-12-01T06:13:38.499Z"
   },
   {
    "duration": 49,
    "start_time": "2022-12-01T06:13:38.535Z"
   },
   {
    "duration": 101,
    "start_time": "2022-12-01T06:13:38.585Z"
   },
   {
    "duration": 193,
    "start_time": "2022-12-01T06:13:38.688Z"
   },
   {
    "duration": 109,
    "start_time": "2022-12-01T06:13:38.882Z"
   },
   {
    "duration": 3,
    "start_time": "2022-12-01T06:13:40.932Z"
   },
   {
    "duration": 3,
    "start_time": "2022-12-01T06:13:41.812Z"
   },
   {
    "duration": 3,
    "start_time": "2022-12-01T06:13:42.571Z"
   },
   {
    "duration": 4,
    "start_time": "2022-12-01T06:13:43.026Z"
   },
   {
    "duration": 4,
    "start_time": "2022-12-01T06:13:43.451Z"
   },
   {
    "duration": 3,
    "start_time": "2022-12-01T06:14:06.553Z"
   },
   {
    "duration": 3,
    "start_time": "2022-12-01T06:14:07.641Z"
   },
   {
    "duration": 3,
    "start_time": "2022-12-01T06:14:12.175Z"
   },
   {
    "duration": 3,
    "start_time": "2022-12-01T06:14:12.871Z"
   },
   {
    "duration": 3,
    "start_time": "2022-12-01T06:14:17.789Z"
   },
   {
    "duration": 3,
    "start_time": "2022-12-01T06:14:18.901Z"
   },
   {
    "duration": 4,
    "start_time": "2022-12-01T06:14:19.284Z"
   },
   {
    "duration": 7,
    "start_time": "2022-12-01T06:14:33.933Z"
   },
   {
    "duration": 4,
    "start_time": "2022-12-01T06:14:34.996Z"
   },
   {
    "duration": 1301,
    "start_time": "2022-12-01T06:14:35.789Z"
   },
   {
    "duration": 1242,
    "start_time": "2022-12-01T06:15:11.040Z"
   },
   {
    "duration": 6,
    "start_time": "2022-12-01T06:17:57.231Z"
   },
   {
    "duration": 3,
    "start_time": "2022-12-01T06:18:31.087Z"
   },
   {
    "duration": 106,
    "start_time": "2022-12-01T06:18:54.663Z"
   },
   {
    "duration": 7,
    "start_time": "2022-12-01T06:19:32.689Z"
   },
   {
    "duration": 28,
    "start_time": "2022-12-01T06:19:38.656Z"
   },
   {
    "duration": 1475,
    "start_time": "2022-12-01T06:19:49.657Z"
   },
   {
    "duration": 11,
    "start_time": "2022-12-01T06:20:54.551Z"
   },
   {
    "duration": 23,
    "start_time": "2022-12-01T06:21:07.042Z"
   },
   {
    "duration": 21,
    "start_time": "2022-12-01T06:24:08.439Z"
   },
   {
    "duration": 23,
    "start_time": "2022-12-01T06:24:10.727Z"
   },
   {
    "duration": 22,
    "start_time": "2022-12-01T06:24:28.129Z"
   },
   {
    "duration": 19,
    "start_time": "2022-12-01T06:24:34.495Z"
   },
   {
    "duration": 19,
    "start_time": "2022-12-01T06:24:58.237Z"
   },
   {
    "duration": 19,
    "start_time": "2022-12-01T06:26:20.797Z"
   },
   {
    "duration": 19,
    "start_time": "2022-12-01T06:27:09.386Z"
   },
   {
    "duration": 16,
    "start_time": "2022-12-01T06:28:18.167Z"
   },
   {
    "duration": 14,
    "start_time": "2022-12-01T06:29:41.156Z"
   },
   {
    "duration": 3,
    "start_time": "2022-12-01T06:30:04.763Z"
   },
   {
    "duration": 14,
    "start_time": "2022-12-01T06:30:07.922Z"
   },
   {
    "duration": 14,
    "start_time": "2022-12-01T06:30:26.219Z"
   },
   {
    "duration": 26,
    "start_time": "2022-12-01T06:30:54.583Z"
   },
   {
    "duration": 30,
    "start_time": "2022-12-01T06:33:06.244Z"
   },
   {
    "duration": 1243,
    "start_time": "2022-12-01T06:33:16.447Z"
   },
   {
    "duration": 1301,
    "start_time": "2022-12-01T06:33:31.689Z"
   },
   {
    "duration": 1293,
    "start_time": "2022-12-01T06:33:44.363Z"
   },
   {
    "duration": 1334,
    "start_time": "2022-12-01T06:33:52.368Z"
   },
   {
    "duration": 1341,
    "start_time": "2022-12-01T06:35:29.185Z"
   },
   {
    "duration": 1321,
    "start_time": "2022-12-01T06:38:00.206Z"
   },
   {
    "duration": 1279,
    "start_time": "2022-12-01T06:38:49.114Z"
   },
   {
    "duration": 1311,
    "start_time": "2022-12-01T06:38:57.343Z"
   },
   {
    "duration": 1302,
    "start_time": "2022-12-01T06:39:02.992Z"
   },
   {
    "duration": 1281,
    "start_time": "2022-12-01T06:40:04.898Z"
   },
   {
    "duration": 1326,
    "start_time": "2022-12-01T06:40:10.379Z"
   },
   {
    "duration": 1273,
    "start_time": "2022-12-01T06:40:14.687Z"
   },
   {
    "duration": 1284,
    "start_time": "2022-12-01T06:40:39.470Z"
   },
   {
    "duration": 3,
    "start_time": "2022-12-01T06:40:47.721Z"
   },
   {
    "duration": 352,
    "start_time": "2022-12-01T06:40:48.137Z"
   },
   {
    "duration": 33,
    "start_time": "2022-12-01T06:40:48.577Z"
   },
   {
    "duration": 13,
    "start_time": "2022-12-01T06:40:48.792Z"
   },
   {
    "duration": 70,
    "start_time": "2022-12-01T06:40:49.464Z"
   },
   {
    "duration": 28,
    "start_time": "2022-12-01T06:40:50.139Z"
   },
   {
    "duration": 13,
    "start_time": "2022-12-01T06:40:50.344Z"
   },
   {
    "duration": 13,
    "start_time": "2022-12-01T06:40:50.568Z"
   },
   {
    "duration": 13,
    "start_time": "2022-12-01T06:40:50.778Z"
   },
   {
    "duration": 2,
    "start_time": "2022-12-01T06:40:51.456Z"
   },
   {
    "duration": 3,
    "start_time": "2022-12-01T06:40:51.888Z"
   },
   {
    "duration": 3,
    "start_time": "2022-12-01T06:40:52.360Z"
   },
   {
    "duration": 4,
    "start_time": "2022-12-01T06:40:52.584Z"
   },
   {
    "duration": 4,
    "start_time": "2022-12-01T06:40:52.807Z"
   },
   {
    "duration": 3,
    "start_time": "2022-12-01T06:40:53.530Z"
   },
   {
    "duration": 3,
    "start_time": "2022-12-01T06:40:53.853Z"
   },
   {
    "duration": 1265,
    "start_time": "2022-12-01T06:40:54.390Z"
   },
   {
    "duration": 1308,
    "start_time": "2022-12-01T06:41:00.566Z"
   },
   {
    "duration": 1448,
    "start_time": "2022-12-01T06:41:31.112Z"
   },
   {
    "duration": 1376,
    "start_time": "2022-12-01T06:41:35.880Z"
   },
   {
    "duration": 1310,
    "start_time": "2022-12-01T06:41:44.596Z"
   },
   {
    "duration": 1408,
    "start_time": "2022-12-01T06:42:10.642Z"
   },
   {
    "duration": 1373,
    "start_time": "2022-12-01T06:42:16.031Z"
   },
   {
    "duration": 1483,
    "start_time": "2022-12-01T06:42:42.645Z"
   },
   {
    "duration": 1380,
    "start_time": "2022-12-01T06:42:49.890Z"
   },
   {
    "duration": 1397,
    "start_time": "2022-12-01T06:43:30.313Z"
   },
   {
    "duration": 1259,
    "start_time": "2022-12-01T06:44:04.473Z"
   },
   {
    "duration": 1434,
    "start_time": "2022-12-01T06:44:09.259Z"
   },
   {
    "duration": 1288,
    "start_time": "2022-12-01T06:44:15.212Z"
   },
   {
    "duration": 1384,
    "start_time": "2022-12-01T06:45:31.040Z"
   },
   {
    "duration": 1388,
    "start_time": "2022-12-01T06:45:34.128Z"
   },
   {
    "duration": 1388,
    "start_time": "2022-12-01T06:45:37.974Z"
   },
   {
    "duration": 1542,
    "start_time": "2022-12-01T06:49:05.366Z"
   },
   {
    "duration": 1411,
    "start_time": "2022-12-01T06:49:09.844Z"
   },
   {
    "duration": 1300,
    "start_time": "2022-12-01T06:49:14.584Z"
   },
   {
    "duration": 1297,
    "start_time": "2022-12-01T06:49:20.062Z"
   },
   {
    "duration": 1269,
    "start_time": "2022-12-01T06:51:18.703Z"
   },
   {
    "duration": 1343,
    "start_time": "2022-12-01T06:51:30.266Z"
   },
   {
    "duration": 1274,
    "start_time": "2022-12-01T06:52:36.080Z"
   },
   {
    "duration": 1352,
    "start_time": "2022-12-01T06:52:43.516Z"
   },
   {
    "duration": 3,
    "start_time": "2022-12-01T06:52:55.335Z"
   },
   {
    "duration": 353,
    "start_time": "2022-12-01T06:52:55.727Z"
   },
   {
    "duration": 33,
    "start_time": "2022-12-01T06:52:56.150Z"
   },
   {
    "duration": 13,
    "start_time": "2022-12-01T06:52:56.367Z"
   },
   {
    "duration": 76,
    "start_time": "2022-12-01T06:52:57.005Z"
   },
   {
    "duration": 28,
    "start_time": "2022-12-01T06:52:57.663Z"
   },
   {
    "duration": 93,
    "start_time": "2022-12-01T06:52:57.885Z"
   },
   {
    "duration": 14,
    "start_time": "2022-12-01T06:52:58.133Z"
   },
   {
    "duration": 14,
    "start_time": "2022-12-01T06:52:58.366Z"
   },
   {
    "duration": 3,
    "start_time": "2022-12-01T06:52:59.284Z"
   },
   {
    "duration": 3,
    "start_time": "2022-12-01T06:52:59.776Z"
   },
   {
    "duration": 4,
    "start_time": "2022-12-01T06:53:00.236Z"
   },
   {
    "duration": 4,
    "start_time": "2022-12-01T06:53:00.485Z"
   },
   {
    "duration": 3,
    "start_time": "2022-12-01T06:53:00.775Z"
   },
   {
    "duration": 3,
    "start_time": "2022-12-01T06:53:02.028Z"
   },
   {
    "duration": 4,
    "start_time": "2022-12-01T06:53:02.524Z"
   },
   {
    "duration": 1331,
    "start_time": "2022-12-01T06:53:03.075Z"
   },
   {
    "duration": 1407,
    "start_time": "2022-12-01T06:53:07.662Z"
   },
   {
    "duration": 1321,
    "start_time": "2022-12-01T06:53:25.622Z"
   },
   {
    "duration": 1326,
    "start_time": "2022-12-01T06:53:34.279Z"
   },
   {
    "duration": 14336,
    "start_time": "2022-12-01T06:54:11.216Z"
   },
   {
    "duration": 1251,
    "start_time": "2022-12-01T06:54:32.314Z"
   },
   {
    "duration": 1265,
    "start_time": "2022-12-01T06:54:36.575Z"
   },
   {
    "duration": 4,
    "start_time": "2022-12-01T06:55:21.310Z"
   },
   {
    "duration": 1336,
    "start_time": "2022-12-01T06:55:25.907Z"
   },
   {
    "duration": 1359,
    "start_time": "2022-12-01T06:56:08.491Z"
   },
   {
    "duration": 1325,
    "start_time": "2022-12-01T06:56:13.666Z"
   },
   {
    "duration": 1391,
    "start_time": "2022-12-01T06:56:21.876Z"
   },
   {
    "duration": 19,
    "start_time": "2022-12-01T06:58:24.234Z"
   },
   {
    "duration": 4,
    "start_time": "2022-12-01T07:01:51.088Z"
   },
   {
    "duration": 5,
    "start_time": "2022-12-01T07:01:51.496Z"
   },
   {
    "duration": 1341,
    "start_time": "2022-12-01T07:01:52.904Z"
   },
   {
    "duration": 3,
    "start_time": "2022-12-01T07:10:52.809Z"
   },
   {
    "duration": 4,
    "start_time": "2022-12-01T07:22:05.741Z"
   },
   {
    "duration": 371,
    "start_time": "2022-12-01T07:22:06.412Z"
   },
   {
    "duration": 37,
    "start_time": "2022-12-01T07:22:07.004Z"
   },
   {
    "duration": 14,
    "start_time": "2022-12-01T07:22:07.332Z"
   },
   {
    "duration": 83,
    "start_time": "2022-12-01T07:22:08.308Z"
   },
   {
    "duration": 38,
    "start_time": "2022-12-01T07:22:08.972Z"
   },
   {
    "duration": 70,
    "start_time": "2022-12-01T07:22:09.316Z"
   },
   {
    "duration": 17,
    "start_time": "2022-12-01T07:22:10.044Z"
   },
   {
    "duration": 19,
    "start_time": "2022-12-01T07:22:10.618Z"
   },
   {
    "duration": 8,
    "start_time": "2022-12-01T07:22:12.937Z"
   },
   {
    "duration": 3,
    "start_time": "2022-12-01T07:22:13.665Z"
   },
   {
    "duration": 13,
    "start_time": "2022-12-01T07:22:14.379Z"
   },
   {
    "duration": 4,
    "start_time": "2022-12-01T07:22:14.753Z"
   },
   {
    "duration": 4,
    "start_time": "2022-12-01T07:22:15.095Z"
   },
   {
    "duration": 84,
    "start_time": "2022-12-01T07:22:16.137Z"
   },
   {
    "duration": 3,
    "start_time": "2022-12-01T07:22:16.495Z"
   },
   {
    "duration": 5,
    "start_time": "2022-12-01T07:22:29.486Z"
   },
   {
    "duration": 6,
    "start_time": "2022-12-01T07:22:29.819Z"
   },
   {
    "duration": 1428,
    "start_time": "2022-12-01T07:22:30.827Z"
   },
   {
    "duration": 1399,
    "start_time": "2022-12-01T07:22:32.257Z"
   },
   {
    "duration": 1498,
    "start_time": "2022-12-01T07:22:33.658Z"
   },
   {
    "duration": 1372,
    "start_time": "2022-12-01T07:22:58.768Z"
   },
   {
    "duration": 1435,
    "start_time": "2022-12-01T07:23:18.063Z"
   },
   {
    "duration": 1453,
    "start_time": "2022-12-01T07:23:23.749Z"
   },
   {
    "duration": 16,
    "start_time": "2022-12-01T08:22:07.755Z"
   },
   {
    "duration": 15,
    "start_time": "2022-12-01T08:22:17.739Z"
   },
   {
    "duration": 12,
    "start_time": "2022-12-01T08:31:37.513Z"
   },
   {
    "duration": 4,
    "start_time": "2022-12-01T08:31:39.869Z"
   },
   {
    "duration": 71,
    "start_time": "2022-12-01T08:31:40.510Z"
   },
   {
    "duration": 3,
    "start_time": "2022-12-01T08:32:46.203Z"
   },
   {
    "duration": 49,
    "start_time": "2022-12-01T08:32:46.730Z"
   },
   {
    "duration": 4,
    "start_time": "2022-12-01T08:32:58.461Z"
   },
   {
    "duration": 23,
    "start_time": "2022-12-01T08:32:59.294Z"
   },
   {
    "duration": 28,
    "start_time": "2022-12-01T08:33:03.675Z"
   },
   {
    "duration": 20,
    "start_time": "2022-12-01T08:34:04.914Z"
   },
   {
    "duration": 6,
    "start_time": "2022-12-01T08:34:05.450Z"
   },
   {
    "duration": 3,
    "start_time": "2022-12-01T08:34:23.227Z"
   },
   {
    "duration": 17,
    "start_time": "2022-12-01T08:34:46.922Z"
   },
   {
    "duration": 14,
    "start_time": "2022-12-01T08:34:49.097Z"
   },
   {
    "duration": 4,
    "start_time": "2022-12-01T08:35:03.094Z"
   },
   {
    "duration": 26,
    "start_time": "2022-12-01T08:35:03.508Z"
   },
   {
    "duration": 3,
    "start_time": "2022-12-01T08:35:04.018Z"
   },
   {
    "duration": 3,
    "start_time": "2022-12-01T08:36:20.702Z"
   },
   {
    "duration": 30,
    "start_time": "2022-12-01T08:36:48.245Z"
   },
   {
    "duration": 21,
    "start_time": "2022-12-01T08:37:12.121Z"
   },
   {
    "duration": 22,
    "start_time": "2022-12-01T08:37:50.616Z"
   },
   {
    "duration": 20,
    "start_time": "2022-12-01T08:37:50.888Z"
   },
   {
    "duration": 20,
    "start_time": "2022-12-01T08:37:51.183Z"
   },
   {
    "duration": 30,
    "start_time": "2022-12-01T08:38:20.804Z"
   },
   {
    "duration": 4,
    "start_time": "2022-12-01T08:38:38.740Z"
   },
   {
    "duration": 27,
    "start_time": "2022-12-01T08:38:39.356Z"
   },
   {
    "duration": 21,
    "start_time": "2022-12-01T08:38:41.964Z"
   },
   {
    "duration": 22,
    "start_time": "2022-12-01T08:38:43.596Z"
   },
   {
    "duration": 5,
    "start_time": "2022-12-01T08:39:10.554Z"
   },
   {
    "duration": 33,
    "start_time": "2022-12-01T08:39:16.155Z"
   },
   {
    "duration": 21,
    "start_time": "2022-12-01T08:39:22.224Z"
   },
   {
    "duration": 33,
    "start_time": "2022-12-01T08:39:24.800Z"
   },
   {
    "duration": 82,
    "start_time": "2022-12-01T08:45:52.932Z"
   },
   {
    "duration": 3,
    "start_time": "2022-12-01T08:49:04.627Z"
   },
   {
    "duration": 339,
    "start_time": "2022-12-01T08:49:05.209Z"
   },
   {
    "duration": 32,
    "start_time": "2022-12-01T08:49:05.946Z"
   },
   {
    "duration": 14,
    "start_time": "2022-12-01T08:49:06.250Z"
   },
   {
    "duration": 75,
    "start_time": "2022-12-01T08:49:07.250Z"
   },
   {
    "duration": 28,
    "start_time": "2022-12-01T08:49:08.554Z"
   },
   {
    "duration": 15,
    "start_time": "2022-12-01T08:49:09.330Z"
   },
   {
    "duration": 14,
    "start_time": "2022-12-01T08:49:09.586Z"
   },
   {
    "duration": 17,
    "start_time": "2022-12-01T08:49:09.852Z"
   },
   {
    "duration": 4,
    "start_time": "2022-12-01T08:49:12.792Z"
   },
   {
    "duration": 21,
    "start_time": "2022-12-01T08:49:13.839Z"
   },
   {
    "duration": 21,
    "start_time": "2022-12-01T08:49:14.208Z"
   },
   {
    "duration": 24,
    "start_time": "2022-12-01T08:49:14.560Z"
   },
   {
    "duration": 3,
    "start_time": "2022-12-01T08:49:15.863Z"
   },
   {
    "duration": 3,
    "start_time": "2022-12-01T08:49:16.463Z"
   },
   {
    "duration": 4,
    "start_time": "2022-12-01T08:49:16.957Z"
   },
   {
    "duration": 3,
    "start_time": "2022-12-01T08:49:17.214Z"
   },
   {
    "duration": 3,
    "start_time": "2022-12-01T08:49:17.517Z"
   },
   {
    "duration": 3,
    "start_time": "2022-12-01T08:49:20.229Z"
   },
   {
    "duration": 4,
    "start_time": "2022-12-01T08:49:21.214Z"
   },
   {
    "duration": 1242,
    "start_time": "2022-12-01T08:49:22.028Z"
   },
   {
    "duration": 1323,
    "start_time": "2022-12-01T08:49:23.272Z"
   },
   {
    "duration": 1339,
    "start_time": "2022-12-01T08:49:24.596Z"
   },
   {
    "duration": 3,
    "start_time": "2022-12-01T09:01:15.759Z"
   },
   {
    "duration": 346,
    "start_time": "2022-12-01T09:01:16.334Z"
   },
   {
    "duration": 31,
    "start_time": "2022-12-01T09:01:16.728Z"
   },
   {
    "duration": 13,
    "start_time": "2022-12-01T09:01:16.902Z"
   },
   {
    "duration": 72,
    "start_time": "2022-12-01T09:01:17.518Z"
   },
   {
    "duration": 29,
    "start_time": "2022-12-01T09:01:18.415Z"
   },
   {
    "duration": 23,
    "start_time": "2022-12-01T09:01:18.645Z"
   },
   {
    "duration": 14,
    "start_time": "2022-12-01T09:01:18.870Z"
   },
   {
    "duration": 14,
    "start_time": "2022-12-01T09:01:19.110Z"
   },
   {
    "duration": 4,
    "start_time": "2022-12-01T09:01:20.134Z"
   },
   {
    "duration": 20,
    "start_time": "2022-12-01T09:01:24.324Z"
   },
   {
    "duration": 21,
    "start_time": "2022-12-01T09:01:24.897Z"
   },
   {
    "duration": 24,
    "start_time": "2022-12-01T09:01:25.191Z"
   },
   {
    "duration": 3,
    "start_time": "2022-12-01T09:01:25.803Z"
   },
   {
    "duration": 3,
    "start_time": "2022-12-01T09:01:26.493Z"
   },
   {
    "duration": 3,
    "start_time": "2022-12-01T09:01:26.995Z"
   },
   {
    "duration": 8,
    "start_time": "2022-12-01T09:01:27.187Z"
   },
   {
    "duration": 4,
    "start_time": "2022-12-01T09:01:27.401Z"
   },
   {
    "duration": 4,
    "start_time": "2022-12-01T09:01:28.625Z"
   },
   {
    "duration": 5,
    "start_time": "2022-12-01T09:01:29.295Z"
   },
   {
    "duration": 1404,
    "start_time": "2022-12-01T09:01:29.697Z"
   },
   {
    "duration": 1348,
    "start_time": "2022-12-01T09:01:31.103Z"
   },
   {
    "duration": 1430,
    "start_time": "2022-12-01T09:01:32.453Z"
   }
  ],
  "kernelspec": {
   "display_name": "Python 3 (ipykernel)",
   "language": "python",
   "name": "python3"
  },
  "language_info": {
   "codemirror_mode": {
    "name": "ipython",
    "version": 3
   },
   "file_extension": ".py",
   "mimetype": "text/x-python",
   "name": "python",
   "nbconvert_exporter": "python",
   "pygments_lexer": "ipython3",
   "version": "3.9.13"
  },
  "toc": {
   "base_numbering": 1,
   "nav_menu": {},
   "number_sections": true,
   "sideBar": true,
   "skip_h1_title": true,
   "title_cell": "Table of Contents",
   "title_sidebar": "Contents",
   "toc_cell": false,
   "toc_position": {},
   "toc_section_display": true,
   "toc_window_display": false
  }
 },
 "nbformat": 4,
 "nbformat_minor": 2
}
